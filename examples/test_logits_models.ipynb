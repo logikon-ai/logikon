{
 "cells": [
  {
   "cell_type": "code",
   "execution_count": 1,
   "metadata": {},
   "outputs": [],
   "source": [
    "from logikon.backends.chat_models_with_grammar import create_logits_model"
   ]
  },
  {
   "cell_type": "code",
   "execution_count": 2,
   "metadata": {},
   "outputs": [
    {
     "data": {
      "text/plain": [
       "True"
      ]
     },
     "execution_count": 2,
     "metadata": {},
     "output_type": "execute_result"
    }
   ],
   "source": [
    "import dotenv\n",
    "import os\n",
    "\n",
    "dotenv.load_dotenv(\"../.env\")\n",
    "\"HUGGINGFACEHUB_API_TOKEN\" in os.environ or print(\"Please set HUGGINGFACEHUB_API_TOKEN in .env\")"
   ]
  },
  {
   "cell_type": "code",
   "execution_count": 3,
   "metadata": {},
   "outputs": [
    {
     "name": "stderr",
     "output_type": "stream",
     "text": [
      "/Users/gregorbetz/git/logikon2/.direnv/logikon/lib/python3.11/site-packages/tqdm/auto.py:21: TqdmWarning: IProgress not found. Please update jupyter and ipywidgets. See https://ipywidgets.readthedocs.io/en/stable/user_install.html\n",
      "  from .autonotebook import tqdm as notebook_tqdm\n",
      "None of PyTorch, TensorFlow >= 2.0, or Flax have been found. Models won't be available and only tokenizers, configuration and file/data utilities can be used.\n"
     ]
    }
   ],
   "source": [
    "kwargs = {\n",
    "    \"model_id\": \"HuggingFaceH4/zephyr-7b-beta\",\n",
    "    \"inference_server_url\": \"https://px0zqc1h7zw38b0b.us-east-1.aws.endpoints.huggingface.cloud\",\n",
    "    \"llm_backend\": \"HFChat\",\n",
    "    \"api_key\": os.environ.get('HUGGINGFACEHUB_API_TOKEN'),\n",
    "    \"temperature\": 0.7,\n",
    "}\n",
    "hf_chat = create_logits_model(**kwargs)\n"
   ]
  },
  {
   "cell_type": "code",
   "execution_count": 7,
   "metadata": {},
   "outputs": [],
   "source": [
    "from langchain_core.messages import HumanMessage\n",
    "res = await hf_chat.get_labelprobs(\n",
    "    [HumanMessage(content=\"What is the capital of Canada?\\n(A) Paris\\n(B) Lyon\\n(C) Quebec\")],\n",
    "    labels=[\"A\", \"B\", \"C\"],\n",
    "    top_logprobs=5\n",
    ")"
   ]
  },
  {
   "cell_type": "code",
   "execution_count": 8,
   "metadata": {},
   "outputs": [
    {
     "data": {
      "text/plain": [
       "{'A': 0.043252036708846336, 'B': 0.11174987599215074, 'C': 0.8449980872990028}"
      ]
     },
     "execution_count": 8,
     "metadata": {},
     "output_type": "execute_result"
    }
   ],
   "source": [
    "res"
   ]
  },
  {
   "cell_type": "code",
   "execution_count": null,
   "metadata": {},
   "outputs": [],
   "source": []
  }
 ],
 "metadata": {
  "kernelspec": {
   "display_name": "logikon",
   "language": "python",
   "name": "python3"
  },
  "language_info": {
   "codemirror_mode": {
    "name": "ipython",
    "version": 3
   },
   "file_extension": ".py",
   "mimetype": "text/x-python",
   "name": "python",
   "nbconvert_exporter": "python",
   "pygments_lexer": "ipython3",
   "version": "3.11.2"
  }
 },
 "nbformat": 4,
 "nbformat_minor": 2
}
