{
 "cells": [
  {
   "cell_type": "markdown",
   "metadata": {},
   "source": [
    "### Set-up"
   ]
  },
  {
   "cell_type": "code",
   "execution_count": 11,
   "metadata": {
    "vscode": {
     "languageId": "shellscript"
    }
   },
   "outputs": [
    {
     "name": "stdout",
     "output_type": "stream",
     "text": [
      "Found existing installation: logikon 0.1.0.dev0\n",
      "Uninstalling logikon-0.1.0.dev0:\n",
      "  Successfully uninstalled logikon-0.1.0.dev0\n",
      "\u001b[33mWARNING: Running pip as the 'root' user can result in broken permissions and conflicting behaviour with the system package manager. It is recommended to use a virtual environment instead: https://pip.pypa.io/warnings/venv\u001b[0m\u001b[33m\n",
      "\u001b[0mNote: you may need to restart the kernel to use updated packages.\n"
     ]
    }
   ],
   "source": [
    "%pip uninstall logikon -y"
   ]
  },
  {
   "cell_type": "code",
   "execution_count": 1,
   "metadata": {},
   "outputs": [],
   "source": [
    "import getpass\n",
    "import os\n",
    "\n",
    "GH_ACCESS_TOKEN = getpass.getpass(\"GH_ACCESS_TOKEN: \")\n",
    "os.environ[\"GH_ACCESS_TOKEN\"] = GH_ACCESS_TOKEN"
   ]
  },
  {
   "cell_type": "code",
   "execution_count": 2,
   "metadata": {
    "vscode": {
     "languageId": "shellscript"
    }
   },
   "outputs": [
    {
     "name": "stdout",
     "output_type": "stream",
     "text": [
      "Requirement already satisfied: hatch in /usr/local/lib/python3.9/dist-packages (1.7.0)\n",
      "Requirement already satisfied: pexpect~=4.8 in /usr/local/lib/python3.9/dist-packages (from hatch) (4.8.0)\n",
      "Requirement already satisfied: hyperlink>=21.0.0 in /usr/local/lib/python3.9/dist-packages (from hatch) (21.0.0)\n",
      "Requirement already satisfied: hatchling>=1.14.0 in /usr/local/lib/python3.9/dist-packages (from hatch) (1.18.0)\n",
      "Requirement already satisfied: keyring>=23.5.0 in /usr/local/lib/python3.9/dist-packages (from hatch) (24.2.0)\n",
      "Requirement already satisfied: httpx>=0.22.0 in /usr/local/lib/python3.9/dist-packages (from hatch) (0.25.0)\n",
      "Requirement already satisfied: platformdirs>=2.5.0 in /usr/local/lib/python3.9/dist-packages (from hatch) (3.10.0)\n",
      "Requirement already satisfied: rich>=11.2.0 in /usr/local/lib/python3.9/dist-packages (from hatch) (13.2.0)\n",
      "Requirement already satisfied: tomlkit>=0.11.1 in /usr/local/lib/python3.9/dist-packages (from hatch) (0.12.1)\n",
      "Requirement already satisfied: packaging>=21.3 in /usr/local/lib/python3.9/dist-packages (from hatch) (23.0)\n",
      "Requirement already satisfied: shellingham>=1.4.0 in /usr/local/lib/python3.9/dist-packages (from hatch) (1.5.0.post1)\n",
      "Requirement already satisfied: virtualenv>=20.16.2 in /usr/local/lib/python3.9/dist-packages (from hatch) (20.24.5)\n",
      "Requirement already satisfied: click>=8.0.3 in /usr/local/lib/python3.9/dist-packages (from hatch) (8.1.3)\n",
      "Requirement already satisfied: pyperclip>=1.8.2 in /usr/local/lib/python3.9/dist-packages (from hatch) (1.8.2)\n",
      "Requirement already satisfied: userpath~=1.7 in /usr/local/lib/python3.9/dist-packages (from hatch) (1.9.1)\n",
      "Requirement already satisfied: tomli-w>=1.0 in /usr/local/lib/python3.9/dist-packages (from hatch) (1.0.0)\n",
      "Requirement already satisfied: pathspec>=0.10.1 in /usr/local/lib/python3.9/dist-packages (from hatchling>=1.14.0->hatch) (0.11.2)\n",
      "Requirement already satisfied: tomli>=1.2.2 in /usr/local/lib/python3.9/dist-packages (from hatchling>=1.14.0->hatch) (2.0.1)\n",
      "Requirement already satisfied: trove-classifiers in /usr/local/lib/python3.9/dist-packages (from hatchling>=1.14.0->hatch) (2023.9.19)\n",
      "Requirement already satisfied: editables>=0.3 in /usr/local/lib/python3.9/dist-packages (from hatchling>=1.14.0->hatch) (0.5)\n",
      "Requirement already satisfied: pluggy>=1.0.0 in /usr/local/lib/python3.9/dist-packages (from hatchling>=1.14.0->hatch) (1.0.0)\n",
      "Requirement already satisfied: idna in /usr/lib/python3/dist-packages (from httpx>=0.22.0->hatch) (2.8)\n",
      "Requirement already satisfied: httpcore<0.19.0,>=0.18.0 in /usr/local/lib/python3.9/dist-packages (from httpx>=0.22.0->hatch) (0.18.0)\n",
      "Requirement already satisfied: certifi in /usr/lib/python3/dist-packages (from httpx>=0.22.0->hatch) (2019.11.28)\n",
      "Requirement already satisfied: sniffio in /usr/local/lib/python3.9/dist-packages (from httpx>=0.22.0->hatch) (1.3.0)\n",
      "Requirement already satisfied: jeepney>=0.4.2 in /usr/local/lib/python3.9/dist-packages (from keyring>=23.5.0->hatch) (0.8.0)\n",
      "Requirement already satisfied: SecretStorage>=3.2 in /usr/local/lib/python3.9/dist-packages (from keyring>=23.5.0->hatch) (3.3.3)\n",
      "Requirement already satisfied: importlib-metadata>=4.11.4 in /usr/local/lib/python3.9/dist-packages (from keyring>=23.5.0->hatch) (6.0.0)\n",
      "Requirement already satisfied: jaraco.classes in /usr/local/lib/python3.9/dist-packages (from keyring>=23.5.0->hatch) (3.3.0)\n",
      "Requirement already satisfied: ptyprocess>=0.5 in /usr/local/lib/python3.9/dist-packages (from pexpect~=4.8->hatch) (0.7.0)\n",
      "Requirement already satisfied: pygments<3.0.0,>=2.6.0 in /usr/local/lib/python3.9/dist-packages (from rich>=11.2.0->hatch) (2.14.0)\n",
      "Requirement already satisfied: markdown-it-py<3.0.0,>=2.1.0 in /usr/local/lib/python3.9/dist-packages (from rich>=11.2.0->hatch) (2.1.0)\n",
      "Requirement already satisfied: distlib<1,>=0.3.7 in /usr/local/lib/python3.9/dist-packages (from virtualenv>=20.16.2->hatch) (0.3.7)\n",
      "Requirement already satisfied: filelock<4,>=3.12.2 in /usr/local/lib/python3.9/dist-packages (from virtualenv>=20.16.2->hatch) (3.12.4)\n",
      "Requirement already satisfied: h11<0.15,>=0.13 in /usr/local/lib/python3.9/dist-packages (from httpcore<0.19.0,>=0.18.0->httpx>=0.22.0->hatch) (0.14.0)\n",
      "Requirement already satisfied: anyio<5.0,>=3.0 in /usr/local/lib/python3.9/dist-packages (from httpcore<0.19.0,>=0.18.0->httpx>=0.22.0->hatch) (3.6.2)\n",
      "Requirement already satisfied: zipp>=0.5 in /usr/local/lib/python3.9/dist-packages (from importlib-metadata>=4.11.4->keyring>=23.5.0->hatch) (3.11.0)\n",
      "Requirement already satisfied: mdurl~=0.1 in /usr/local/lib/python3.9/dist-packages (from markdown-it-py<3.0.0,>=2.1.0->rich>=11.2.0->hatch) (0.1.2)\n",
      "Requirement already satisfied: cryptography>=2.0 in /usr/local/lib/python3.9/dist-packages (from SecretStorage>=3.2->keyring>=23.5.0->hatch) (41.0.4)\n",
      "Requirement already satisfied: more-itertools in /usr/local/lib/python3.9/dist-packages (from jaraco.classes->keyring>=23.5.0->hatch) (10.1.0)\n",
      "Requirement already satisfied: cffi>=1.12 in /usr/local/lib/python3.9/dist-packages (from cryptography>=2.0->SecretStorage>=3.2->keyring>=23.5.0->hatch) (1.15.1)\n",
      "Requirement already satisfied: pycparser in /usr/local/lib/python3.9/dist-packages (from cffi>=1.12->cryptography>=2.0->SecretStorage>=3.2->keyring>=23.5.0->hatch) (2.21)\n",
      "\u001b[33mWARNING: Running pip as the 'root' user can result in broken permissions and conflicting behaviour with the system package manager. It is recommended to use a virtual environment instead: https://pip.pypa.io/warnings/venv\u001b[0m\u001b[33m\n",
      "\u001b[0mNote: you may need to restart the kernel to use updated packages.\n",
      "Collecting git+https://****@github.com/logikon-ai/logikon.git\n",
      "  Cloning https://****@github.com/logikon-ai/logikon.git to /tmp/pip-req-build-rvl12sqc\n",
      "  Running command git clone --filter=blob:none --quiet 'https://****@github.com/logikon-ai/logikon.git' /tmp/pip-req-build-rvl12sqc\n",
      "  Resolved https://****@github.com/logikon-ai/logikon.git to commit c8dfd731e32e769b4c3b40bf88a83ac54849891e\n",
      "  Installing build dependencies ... \u001b[?25ldone\n",
      "\u001b[?25h  Getting requirements to build wheel ... \u001b[?25ldone\n",
      "\u001b[?25h  Preparing metadata (pyproject.toml) ... \u001b[?25ldone\n",
      "\u001b[?25hRequirement already satisfied: pydot in /usr/local/lib/python3.9/dist-packages (from logikon==0.1.0.dev0) (1.4.2)\n",
      "Requirement already satisfied: llama-cpp-python in /usr/local/lib/python3.9/dist-packages (from logikon==0.1.0.dev0) (0.2.6)\n",
      "Requirement already satisfied: huggingface-hub in /usr/local/lib/python3.9/dist-packages (from logikon==0.1.0.dev0) (0.12.0)\n",
      "Requirement already satisfied: graphviz>=0.20.1 in /usr/local/lib/python3.9/dist-packages (from logikon==0.1.0.dev0) (0.20.1)\n",
      "Requirement already satisfied: langchain in /usr/local/lib/python3.9/dist-packages (from logikon==0.1.0.dev0) (0.0.299)\n",
      "Requirement already satisfied: pydantic>=2.3.0 in /usr/local/lib/python3.9/dist-packages (from logikon==0.1.0.dev0) (2.3.0)\n",
      "Requirement already satisfied: unidecode>=1.3.6 in /usr/local/lib/python3.9/dist-packages (from logikon==0.1.0.dev0) (1.3.6)\n",
      "Requirement already satisfied: networkx>=3.1 in /usr/local/lib/python3.9/dist-packages (from logikon==0.1.0.dev0) (3.1)\n",
      "Requirement already satisfied: typing-inspect==0.9.0 in /usr/local/lib/python3.9/dist-packages (from logikon==0.1.0.dev0) (0.9.0)\n",
      "Requirement already satisfied: openai in /usr/local/lib/python3.9/dist-packages (from logikon==0.1.0.dev0) (0.28.0)\n",
      "Requirement already satisfied: typing-extensions==4.7.1 in /usr/local/lib/python3.9/dist-packages (from logikon==0.1.0.dev0) (4.7.1)\n",
      "Requirement already satisfied: mypy-extensions>=0.3.0 in /usr/local/lib/python3.9/dist-packages (from typing-inspect==0.9.0->logikon==0.1.0.dev0) (1.0.0)\n",
      "Requirement already satisfied: pydantic-core==2.6.3 in /usr/local/lib/python3.9/dist-packages (from pydantic>=2.3.0->logikon==0.1.0.dev0) (2.6.3)\n",
      "Requirement already satisfied: annotated-types>=0.4.0 in /usr/local/lib/python3.9/dist-packages (from pydantic>=2.3.0->logikon==0.1.0.dev0) (0.5.0)\n",
      "Requirement already satisfied: tqdm>=4.42.1 in /usr/local/lib/python3.9/dist-packages (from huggingface-hub->logikon==0.1.0.dev0) (4.64.1)\n",
      "Requirement already satisfied: packaging>=20.9 in /usr/local/lib/python3.9/dist-packages (from huggingface-hub->logikon==0.1.0.dev0) (23.0)\n",
      "Requirement already satisfied: requests in /usr/local/lib/python3.9/dist-packages (from huggingface-hub->logikon==0.1.0.dev0) (2.28.2)\n",
      "Requirement already satisfied: pyyaml>=5.1 in /usr/local/lib/python3.9/dist-packages (from huggingface-hub->logikon==0.1.0.dev0) (5.4.1)\n",
      "Requirement already satisfied: filelock in /usr/local/lib/python3.9/dist-packages (from huggingface-hub->logikon==0.1.0.dev0) (3.12.4)\n",
      "Requirement already satisfied: tenacity<9.0.0,>=8.1.0 in /usr/local/lib/python3.9/dist-packages (from langchain->logikon==0.1.0.dev0) (8.2.3)\n",
      "Requirement already satisfied: langsmith<0.1.0,>=0.0.38 in /usr/local/lib/python3.9/dist-packages (from langchain->logikon==0.1.0.dev0) (0.0.40)\n",
      "Requirement already satisfied: numpy<2,>=1 in /usr/local/lib/python3.9/dist-packages (from langchain->logikon==0.1.0.dev0) (1.23.4)\n",
      "Requirement already satisfied: dataclasses-json<0.7,>=0.5.7 in /usr/local/lib/python3.9/dist-packages (from langchain->logikon==0.1.0.dev0) (0.6.0)\n",
      "Requirement already satisfied: aiohttp<4.0.0,>=3.8.3 in /usr/local/lib/python3.9/dist-packages (from langchain->logikon==0.1.0.dev0) (3.8.3)\n",
      "Requirement already satisfied: jsonpatch<2.0,>=1.33 in /usr/local/lib/python3.9/dist-packages (from langchain->logikon==0.1.0.dev0) (1.33)\n",
      "Requirement already satisfied: numexpr<3.0.0,>=2.8.4 in /usr/local/lib/python3.9/dist-packages (from langchain->logikon==0.1.0.dev0) (2.8.6)\n",
      "Requirement already satisfied: anyio<4.0 in /usr/local/lib/python3.9/dist-packages (from langchain->logikon==0.1.0.dev0) (3.6.2)\n",
      "Requirement already satisfied: async-timeout<5.0.0,>=4.0.0 in /usr/local/lib/python3.9/dist-packages (from langchain->logikon==0.1.0.dev0) (4.0.2)\n",
      "Requirement already satisfied: SQLAlchemy<3,>=1.4 in /usr/local/lib/python3.9/dist-packages (from langchain->logikon==0.1.0.dev0) (1.4.41)\n",
      "Requirement already satisfied: diskcache>=5.6.1 in /usr/local/lib/python3.9/dist-packages (from llama-cpp-python->logikon==0.1.0.dev0) (5.6.3)\n",
      "Requirement already satisfied: pyparsing>=2.1.4 in /usr/local/lib/python3.9/dist-packages (from pydot->logikon==0.1.0.dev0) (3.0.9)\n",
      "Requirement already satisfied: attrs>=17.3.0 in /usr/local/lib/python3.9/dist-packages (from aiohttp<4.0.0,>=3.8.3->langchain->logikon==0.1.0.dev0) (18.2.0)\n",
      "Requirement already satisfied: frozenlist>=1.1.1 in /usr/local/lib/python3.9/dist-packages (from aiohttp<4.0.0,>=3.8.3->langchain->logikon==0.1.0.dev0) (1.3.3)\n",
      "Requirement already satisfied: yarl<2.0,>=1.0 in /usr/local/lib/python3.9/dist-packages (from aiohttp<4.0.0,>=3.8.3->langchain->logikon==0.1.0.dev0) (1.8.2)\n",
      "Requirement already satisfied: multidict<7.0,>=4.5 in /usr/local/lib/python3.9/dist-packages (from aiohttp<4.0.0,>=3.8.3->langchain->logikon==0.1.0.dev0) (6.0.4)\n",
      "Requirement already satisfied: aiosignal>=1.1.2 in /usr/local/lib/python3.9/dist-packages (from aiohttp<4.0.0,>=3.8.3->langchain->logikon==0.1.0.dev0) (1.3.1)\n",
      "Requirement already satisfied: charset-normalizer<3.0,>=2.0 in /usr/local/lib/python3.9/dist-packages (from aiohttp<4.0.0,>=3.8.3->langchain->logikon==0.1.0.dev0) (2.1.1)\n",
      "Requirement already satisfied: idna>=2.8 in /usr/lib/python3/dist-packages (from anyio<4.0->langchain->logikon==0.1.0.dev0) (2.8)\n",
      "Requirement already satisfied: sniffio>=1.1 in /usr/local/lib/python3.9/dist-packages (from anyio<4.0->langchain->logikon==0.1.0.dev0) (1.3.0)\n",
      "Requirement already satisfied: marshmallow<4.0.0,>=3.18.0 in /usr/local/lib/python3.9/dist-packages (from dataclasses-json<0.7,>=0.5.7->langchain->logikon==0.1.0.dev0) (3.20.1)\n",
      "Requirement already satisfied: jsonpointer>=1.9 in /usr/local/lib/python3.9/dist-packages (from jsonpatch<2.0,>=1.33->langchain->logikon==0.1.0.dev0) (2.4)\n",
      "Requirement already satisfied: certifi>=2017.4.17 in /usr/lib/python3/dist-packages (from requests->huggingface-hub->logikon==0.1.0.dev0) (2019.11.28)\n",
      "Requirement already satisfied: urllib3<1.27,>=1.21.1 in /usr/local/lib/python3.9/dist-packages (from requests->huggingface-hub->logikon==0.1.0.dev0) (1.26.14)\n",
      "Requirement already satisfied: greenlet!=0.4.17 in /usr/local/lib/python3.9/dist-packages (from SQLAlchemy<3,>=1.4->langchain->logikon==0.1.0.dev0) (2.0.1)\n",
      "Building wheels for collected packages: logikon\n",
      "  Building wheel for logikon (pyproject.toml) ... \u001b[?25ldone\n",
      "\u001b[?25h  Created wheel for logikon: filename=logikon-0.1.0.dev0-py3-none-any.whl size=22612 sha256=2ff93b54cbf12d5d3c94dae0bdae7ae668324ef39b96944598652ebf082595a7\n",
      "  Stored in directory: /tmp/pip-ephem-wheel-cache-0pbjrb34/wheels/10/bc/0f/621fa7ad65eb758157ed6c6ae76ca3429cca25fbbebd263f3f\n",
      "Successfully built logikon\n",
      "Installing collected packages: logikon\n",
      "Successfully installed logikon-0.1.0.dev0\n",
      "\u001b[33mWARNING: Running pip as the 'root' user can result in broken permissions and conflicting behaviour with the system package manager. It is recommended to use a virtual environment instead: https://pip.pypa.io/warnings/venv\u001b[0m\u001b[33m\n",
      "\u001b[0mNote: you may need to restart the kernel to use updated packages.\n"
     ]
    }
   ],
   "source": [
    "# install logikon module from github repo\n",
    "%pip install hatch\n",
    "%pip install git+https://$GH_ACCESS_TOKEN@github.com/logikon-ai/logikon.git"
   ]
  },
  {
   "cell_type": "markdown",
   "metadata": {},
   "source": [
    "### Imports and Api Keys"
   ]
  },
  {
   "cell_type": "code",
   "execution_count": 3,
   "metadata": {},
   "outputs": [],
   "source": [
    "import getpass\n",
    "import os\n",
    "\n",
    "import logikon\n",
    "\n",
    "OPENAI_API_KEY = getpass.getpass(\"OPENAI_API_KEY: \")\n",
    "os.environ[\"OPENAI_API_KEY\"] = OPENAI_API_KEY\n",
    "\n",
    "HF_ACCESS_TOKEN = getpass.getpass(\"HF_ACCESS_TOKEN: \")\n",
    "os.environ[\"HF_ACCESS_TOKEN\"] = HF_ACCESS_TOKEN"
   ]
  },
  {
   "cell_type": "markdown",
   "metadata": {},
   "source": [
    "### Data"
   ]
  },
  {
   "cell_type": "code",
   "execution_count": 4,
   "metadata": {},
   "outputs": [],
   "source": [
    "# slightly adapted from `logikon/oasst1-delib` dataset\n",
    "\n",
    "prompt = \"\"\"prompter:\n",
    "I live in the US, and i am thinking of moving to Argentina.\n",
    "What pro and cons you think i will have?\n",
    "\n",
    "assistant:\n",
    "\"\"\"\n",
    "completion = \"\"\"Here are some pros and cons to consider if you are thinking of moving to Argentina:\n",
    "Pros: \n",
    "Rich culture: Argentina has a rich cultural heritage, including music, dance, literature, and art.\n",
    "Beautiful natural scenery: The country has a varied geography, from the Andes mountains to the fertile plains of the Pampas, and plenty of natural parks and reserves.\n",
    "Good food: Argentine cuisine is known for its grilled meats and various types of pasta, and there are many great restaurants to be found throughout the country.\n",
    "Low cost of living: In comparison to the United States, the cost of living in Argentina can be quite low, especially in terms of housing and food.\n",
    "Cons:\n",
    "Economic instability: Argentina has a history of economic instability, with periodic devaluations of its currency, high inflation, and government default on its debt.\n",
    "High crime rates: Some areas of Argentina have high crime rates, particularly in the larger cities, so it's important to be cautious and aware of your surroundings.\n",
    "Language barrier: Although many people in Argentina speak some English, it's still a good idea to learn Spanish if you plan to live there, as it may be difficult to get by without it in some areas.\n",
    "Distance from home: Moving to a foreign country can be a major adjustment, especially if you are far from friends and family.\n",
    "These are some of the factors to consider if you're thinking of moving to Argentina.\n",
    "Ultimately, the decision to move will depend on your individual circumstances and priorities.\"\"\""
   ]
  },
  {
   "cell_type": "markdown",
   "metadata": {},
   "source": [
    "### Example Usage 1:<br/>Create Informal Argument Map with OpenAI (Default Configuration)"
   ]
  },
  {
   "cell_type": "code",
   "execution_count": 5,
   "metadata": {},
   "outputs": [
    {
     "name": "stdout",
     "output_type": "stream",
     "text": [
      "expert_model='gpt-3.5-turbo-instruct' expert_model_kwargs={'temperature': 0.7} llm_framework='OpenAI' generation_kwargs=None metrics=[] artifacts=['claims'] report_to=[]\n"
     ]
    }
   ],
   "source": [
    "config = logikon.DebugConfig(\n",
    "    expert_model='gpt-3.5-turbo-instruct',\n",
    "    expert_model_kwargs={'temperature': 0.7},\n",
    "    artifacts=['claims']\n",
    ")\n",
    "print(config)"
   ]
  },
  {
   "cell_type": "code",
   "execution_count": 6,
   "metadata": {},
   "outputs": [
    {
     "name": "stdout",
     "output_type": "stream",
     "text": [
      "\n",
      "\n",
      "\u001b[1m> Entering new ClaimExtractionChain chain...\u001b[0m\n",
      "\n",
      "\n",
      "\u001b[1m> Entering new LLMChain chain...\u001b[0m\n",
      "Prompt after formatting:\n",
      "\u001b[32;1m\u001b[1;3mYou are a helpful, honest and knowledgeable AI assistant with expertise in critical thinking and argumentation analysis. Always answer as helpfully as possible.\n",
      "\n",
      "# Your Assignment\n",
      "\n",
      "Identify the basic question addressed in a text.\n",
      "\n",
      "# Detailed Instructions\n",
      "\n",
      "Use the inputs (a TEXT) to solve your assignment and read the following instructions carefully.\n",
      "Identify the overarching question the TEXT raises and addresses.\n",
      "Note that the overarching question is not necessarily explicitly stated in the TEXT (as shown in some examples below). It may be implicit. And it may deviate from any explicitly stated questions or instructions.\n",
      "State a single bold question in a concise and most-simple way. Use plain language.\n",
      "Don't provide alternatives, comments or explanations.\n",
      "\n",
      "# Examples\n",
      "\n",
      "TEXT:\n",
      ":::\n",
      "Should we visit Mars?\n",
      "- Mars is a planet and rather difficult to reach.\n",
      "- Visiting Mars would be a great adventure.\n",
      "- Long-distance space travel is dangerous.\n",
      ":::\n",
      "\n",
      "OVERARCHING QUESTION:\n",
      "Should we visit Mars?\n",
      "\n",
      "TEXT:\n",
      ":::\n",
      "Can you give us some pros and cons of using a bicycle in NY?\n",
      "- Bicycles are cheap and easy to maintain.\n",
      "- Bicycles are not allowed on the NY highway.\n",
      "- Bicycles are not allowed on the sidewalk.\n",
      "- Cycling is good for your health.\n",
      ":::\n",
      "\n",
      "OVERARCHING QUESTION:\n",
      "Should one ride a bicycle in New York?\n",
      "\n",
      "TEXT:\n",
      ":::\n",
      "Wolfgang Amadeus Mozart (27 January 1756 - 5 December 1791) was a prolific and influential composer of the Classical period. Despite his short life, his rapid pace of composition resulted in more than 800 works of virtually every genre of his time. Many of these compositions are acknowledged as pinnacles of the symphonic, concertante, chamber, operatic, and choral repertoire. Mozart is widely regarded as among the greatest composers in the history of Western music, with his music admired for its \"melodic beauty, its formal elegance and its richness of harmony and texture\".\n",
      ":::\n",
      "\n",
      "OVERARCHING QUESTION:\n",
      "Who is or was Mozart?\n",
      "\n",
      "TEXT:\n",
      ":::\n",
      "A: But private actors are more likely to focus their investment into the most profitable ATCs.\n",
      "B: I disagree. Private companies will charge more to use ATCs with more expensive equipment which will motivate airlines to move to less safe ATCs.\n",
      "A: Still most airlines are in favor of privatization.\n",
      "B: I think safety should remain the top priority. Plus, the US leads the global ATC (Air Traffic Control) community in technology and procedure development.\n",
      ":::\n",
      "\n",
      "OVERARCHING QUESTION:\n",
      "Should Air Traffic Control (ATC) be privatized?\n",
      "\n",
      "\n",
      "# Your Task\n",
      "\n",
      "TEXT:\n",
      ":::\n",
      "prompter:\n",
      "I live in the US, and i am thinking of moving to Argentina.\n",
      "What pro and cons you think i will have?\n",
      "\n",
      "assistant:\n",
      " Here are some pros and cons to consider if you are thinking of moving to Argentina:\n",
      "Pros: \n",
      "Rich culture: Argentina has a rich cultural heritage, including music, dance, literature, and art.\n",
      "Beautiful natural scenery: The country has a varied geography, from the Andes mountains to the fertile plains of the Pampas, and plenty of natural parks and reserves.\n",
      "Good food: Argentine cuisine is known for its grilled meats and various types of pasta, and there are many great restaurants to be found throughout the country.\n",
      "Low cost of living: In comparison to the United States, the cost of living in Argentina can be quite low, especially in terms of housing and food.\n",
      "Cons:\n",
      "Economic instability: Argentina has a history of economic instability, with periodic devaluations of its currency, high inflation, and government default on its debt.\n",
      "High crime rates: Some areas of Argentina have high crime rates, particularly in the larger cities, so it's important to be cautious and aware of your surroundings.\n",
      "Language barrier: Although many people in Argentina speak some English, it's still a good idea to learn Spanish if you plan to live there, as it may be difficult to get by without it in some areas.\n",
      "Distance from home: Moving to a foreign country can be a major adjustment, especially if you are far from friends and family.\n",
      "These are some of the factors to consider if you're thinking of moving to Argentina.\n",
      "Ultimately, the decision to move will depend on your individual circumstances and priorities.\n",
      ":::\n",
      "\n",
      "OVERARCHING QUESTION:\n",
      "\u001b[0m\n",
      "\n",
      "\u001b[1m> Finished chain.\u001b[0m\n",
      "> Answer: Should I move to Argentina?\n",
      "\n",
      "\n",
      "\u001b[1m> Entering new LLMChain chain...\u001b[0m\n",
      "Prompt after formatting:\n",
      "\u001b[32;1m\u001b[1;3mYou are a helpful, honest and knowledgeable AI assistant with expertise in critical thinking and argumentation analysis. Always answer as helpfully as possible.\n",
      "\n",
      "# Inputs\n",
      "\n",
      "QUESTION:\n",
      ":::\n",
      "Should I move to Argentina?\n",
      ":::\n",
      "\n",
      "# Instructions\n",
      "\n",
      "Bob wants to answer the QUESTION as quickly as (grammatically) possible. What applies?\n",
      "\n",
      "(A) Bob could answer the QUESTION by simply saying \"yes\" (or \"no\").\n",
      "(B) The QUESTION presents exactly two alternative options. Bob could simply choose one of these two answers.\n",
      "(C) Neither A nor B.\n",
      "\n",
      "Don't provide alternatives, comments or explanations. Just answer with A/B/C.\n",
      "\u001b[0m\n",
      "\n",
      "\u001b[1m> Finished chain.\u001b[0m\n",
      "> Answer: \n",
      "C\n",
      "\n",
      "\n",
      "\u001b[1m> Entering new LLMChain chain...\u001b[0m\n",
      "Prompt after formatting:\n",
      "\u001b[32;1m\u001b[1;3m\n",
      "You are a helpful, honest and knowledgeable AI assistant with expertise in critical thinking and argumentation analysis. Always answer as helpfully as possible.\n",
      "\n",
      "# Your Assignment\n",
      "\n",
      "State the alternative answers to a TEXT's overarching question.\n",
      "\n",
      "# Inputs\n",
      "\n",
      "Use the following inputs (a QUESTION and a TEXT) to solve your assignment.\n",
      "\n",
      "QUESTION:\n",
      ":::\n",
      "Should I move to Argentina?\n",
      ":::\n",
      "\n",
      "TEXT:\n",
      ":::\n",
      "prompter:\n",
      "I live in the US, and i am thinking of moving to Argentina.\n",
      "What pro and cons you think i will have?\n",
      "\n",
      "assistant:\n",
      " Here are some pros and cons to consider if you are thinking of moving to Argentina:\n",
      "Pros: \n",
      "Rich culture: Argentina has a rich cultural heritage, including music, dance, literature, and art.\n",
      "Beautiful natural scenery: The country has a varied geography, from the Andes mountains to the fertile plains of the Pampas, and plenty of natural parks and reserves.\n",
      "Good food: Argentine cuisine is known for its grilled meats and various types of pasta, and there are many great restaurants to be found throughout the country.\n",
      "Low cost of living: In comparison to the United States, the cost of living in Argentina can be quite low, especially in terms of housing and food.\n",
      "Cons:\n",
      "Economic instability: Argentina has a history of economic instability, with periodic devaluations of its currency, high inflation, and government default on its debt.\n",
      "High crime rates: Some areas of Argentina have high crime rates, particularly in the larger cities, so it's important to be cautious and aware of your surroundings.\n",
      "Language barrier: Although many people in Argentina speak some English, it's still a good idea to learn Spanish if you plan to live there, as it may be difficult to get by without it in some areas.\n",
      "Distance from home: Moving to a foreign country can be a major adjustment, especially if you are far from friends and family.\n",
      "These are some of the factors to consider if you're thinking of moving to Argentina.\n",
      "Ultimately, the decision to move will depend on your individual circumstances and priorities.\n",
      ":::\n",
      "\n",
      "# Detailed Instructions\n",
      "\n",
      "State and enumerate (1., 2., ...) the alternative answers to the overarching question in clear and plain language. Render each answer as a single, unequivocal, grammatically correct sentence. Leave out any justifications or reasoning. Be succinct (no comments or explanations).\n",
      "\u001b[0m\n",
      "\n",
      "\u001b[1m> Finished chain.\u001b[0m\n",
      "> Answer: \n",
      "1. Yes, moving to Argentina could be a great opportunity to experience a rich culture, beautiful scenery, and delicious food at a lower cost of living.\n",
      "2. No, moving to Argentina may not be the best decision due to economic instability, high crime rates, potential language barriers, and being far from home.\n",
      "3. It depends on your priorities and individual circumstances, but here are some pros and cons to consider if you're thinking of moving to Argentina.\n",
      "\n",
      "\u001b[1m> Finished chain.\u001b[0m\n"
     ]
    }
   ],
   "source": [
    "results = logikon.score(prompt, completion, config=config)"
   ]
  },
  {
   "cell_type": "code",
   "execution_count": 7,
   "metadata": {},
   "outputs": [
    {
     "data": {
      "text/plain": [
       "DebugResults(artifacts=[Artifact(id='claims', description='Key claims in the deliberation', data=['Yes, moving to Argentina could be a great opportunity to experience a rich culture, beautiful scenery, and delicious food at a lower cost of living.', 'No, moving to Argentina may not be the best decision due to economic instability, high crime rates, potential language barriers, and being far from home.', \"It depends on your priorities and individual circumstances, but here are some pros and cons to consider if you're thinking of moving to Argentina.\"], dtype=None, metadata=None)], scores=[])"
      ]
     },
     "execution_count": 7,
     "metadata": {},
     "output_type": "execute_result"
    }
   ],
   "source": [
    "results"
   ]
  },
  {
   "cell_type": "code",
   "execution_count": 10,
   "metadata": {},
   "outputs": [
    {
     "ename": "IndexError",
     "evalue": "list index out of range",
     "output_type": "error",
     "traceback": [
      "\u001b[0;31m---------------------------------------------------------------------------\u001b[0m",
      "\u001b[0;31mIndexError\u001b[0m                                Traceback (most recent call last)",
      "\u001b[1;32m/Users/gregorbetz/git/logikon/examples/basic_usage.ipynb Cell 13\u001b[0m line \u001b[0;36m1\n\u001b[0;32m----> <a href='vscode-notebook-cell:/Users/gregorbetz/git/logikon/examples/basic_usage.ipynb#X15sZmlsZQ%3D%3D?line=0'>1</a>\u001b[0m results\u001b[39m.\u001b[39;49martifacts[\u001b[39m1\u001b[39;49m]\u001b[39m.\u001b[39mdata\n",
      "\u001b[0;31mIndexError\u001b[0m: list index out of range"
     ]
    }
   ],
   "source": [
    "results.artifacts[1].data"
   ]
  },
  {
   "cell_type": "code",
   "execution_count": 14,
   "metadata": {},
   "outputs": [
    {
     "data": {
      "text/plain": [
       "37"
      ]
     },
     "execution_count": 14,
     "metadata": {},
     "output_type": "execute_result"
    }
   ],
   "source": [
    "len(results.artifacts[1].data[\"nodelist\"])"
   ]
  },
  {
   "cell_type": "code",
   "execution_count": null,
   "metadata": {},
   "outputs": [],
   "source": []
  }
 ],
 "metadata": {
  "kernelspec": {
   "display_name": "Python 3 (ipykernel)",
   "language": "python",
   "name": "python3"
  },
  "language_info": {
   "codemirror_mode": {
    "name": "ipython",
    "version": 3
   },
   "file_extension": ".py",
   "mimetype": "text/x-python",
   "name": "python",
   "nbconvert_exporter": "python",
   "pygments_lexer": "ipython3",
   "version": "3.9.16"
  },
  "orig_nbformat": 4
 },
 "nbformat": 4,
 "nbformat_minor": 2
}
