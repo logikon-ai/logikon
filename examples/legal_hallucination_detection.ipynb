{
  "cells": [
    {
      "cell_type": "markdown",
      "metadata": {
        "id": "view-in-github",
        "colab_type": "text"
      },
      "source": [
        "<a href=\"https://colab.research.google.com/github/logikon-ai/logikon/blob/main/examples/legal_hallucination_detection.ipynb\" target=\"_parent\"><img src=\"https://colab.research.google.com/assets/colab-badge.svg\" alt=\"Open In Colab\"/></a>"
      ]
    },
    {
      "cell_type": "markdown",
      "metadata": {
        "id": "13hfBALnYtHL"
      },
      "source": [
        "# *Build-Your-Own-Metrics #1*:<br>Fact Checking & Hallucination Detection for Legal Explanations\n",
        "\n",
        "**Logikon `/\\/`** – *Analyzing and Evaluating LLM Reasoning Traces*"
      ]
    },
    {
      "cell_type": "markdown",
      "metadata": {
        "id": "TUzKTbJtYtHM"
      },
      "source": [
        "#### Overview\n",
        "\n",
        "This notebook illustrates how to build your own evaluations on top of metrics and artifacts created with **Logikon `/\\/`**. More specifically, we'll use an argument map to factcheck an explanation produced by a Legal AI agent against a given reference corpus, which potentially allows us to detect so-called hallucinations. As this demo serves illustrative purposes, we're keeping the implementation of the Legal AI agent and the fact-checking pipeline as simple as possible.  \n",
        "\n",
        "We're using 🤗's lightweight `zephyr-7b-beta` as **logic expert model** [below](#setup-b) for its speed and small footprint. It tends to produce argumentative analyses that are creative and eloquent, rather than rigorous and exact -- and may hence not be the optimal expert model for your use cases."
      ]
    },
    {
      "cell_type": "markdown",
      "metadata": {
        "id": "apPN-0GVYtHN"
      },
      "source": [
        "> ⚠️ **Important notice.**\n",
        ">\n",
        "> **Logikon `/\\/`** is in early development stage:\n",
        "> * the package is subject to change at any time;\n",
        "> * results can vary due to changes in methods, pipelines, or underlying models;\n",
        "> * current speed and quality of evaluation results are not representative of future product.\n"
      ]
    },
    {
      "cell_type": "markdown",
      "metadata": {
        "id": "PBHAr94lFgCD"
      },
      "source": [
        "#### Table of contents\n",
        "\n",
        "* **[Part I – Legal AI generates explanations (reasoning)](#part-a)**\n",
        "* **[Part II – Analysing legal reasoning with Logikon `/\\/`](#part-b)**\n",
        "    * [Set-up](#setup-b)\n",
        "    * [Select metrics and artifacts](#config_logikon)\n",
        "    * [Run analysis](#run)\n",
        "    * [Inspect results](#inspect)\n",
        "* **[Part III – Fact-checking the Legal AI with Logikon `/\\/` argument maps](#part-c)**\n"
      ]
    },
    {
      "cell_type": "markdown",
      "source": [
        "## Part I – Legal AI generates explanations (reasoning)<a name=\"part-a\"></a>"
      ],
      "metadata": {
        "id": "yI_f8NboEA3a"
      }
    },
    {
      "cell_type": "code",
      "source": [
        "%%capture\n",
        "%pip install huggingface_hub"
      ],
      "metadata": {
        "id": "j_r1Fj2gFLCA"
      },
      "execution_count": 1,
      "outputs": []
    },
    {
      "cell_type": "code",
      "source": [
        "%%capture\n",
        "# Optional: read environment variables from uploaded .env file, e.g. HUGGINGFACEHUB_API_TOKEN\n",
        "%pip install python-dotenv\n",
        "%load_ext dotenv\n",
        "%dotenv .env"
      ],
      "metadata": {
        "id": "0uk3_5eZJqPw"
      },
      "execution_count": 2,
      "outputs": []
    },
    {
      "cell_type": "code",
      "source": [
        "# LLM serving as legal expert\n",
        "import os\n",
        "from huggingface_hub import InferenceClient\n",
        "\n",
        "legal_ai = InferenceClient(\n",
        "    \"mistralai/Mistral-7B-Instruct-v0.1\",\n",
        "    token=os.environ.get(\"HUGGINGFACEHUB_API_TOKEN\"),\n",
        ")\n",
        "legal_gen_kwargs = {\n",
        "    \"max_new_tokens\": 640,\n",
        "    \"temperature\":.4,\n",
        "    \"do_sample\": True,\n",
        "    \"seed\": 42\n",
        "}"
      ],
      "metadata": {
        "id": "RkQgDxn3E5dG"
      },
      "execution_count": 4,
      "outputs": []
    },
    {
      "cell_type": "code",
      "source": [
        "prompt= (\n",
        "    '<s>[INST] '\n",
        "    'In the case BOWMAN v. MONSANTO the Supreme Court ruled that \"patent exhaustion '\n",
        "    'does not permit a farmer to reproduce patented seeds through planting and '\n",
        "    'harvesting without the patent holder’s permission.\" Can you lay out the reasons '\n",
        "    'that led the Supreme Court to reject Bowman\\'s defence?'\n",
        "    '[/INST]\\n'\n",
        ")"
      ],
      "metadata": {
        "id": "d6_s0BarEPoC"
      },
      "execution_count": 5,
      "outputs": []
    },
    {
      "cell_type": "code",
      "source": [
        "completion = legal_ai.text_generation(prompt, **legal_gen_kwargs)\n",
        "\n",
        "from IPython.display import display, Markdown\n",
        "display(Markdown(completion))"
      ],
      "metadata": {
        "colab": {
          "base_uri": "https://localhost:8080/",
          "height": 323
        },
        "id": "rleM-YuxFeAb",
        "outputId": "e2e8f860-bb95-4b65-e0b5-36b3a1b07f77"
      },
      "execution_count": 6,
      "outputs": [
        {
          "output_type": "display_data",
          "data": {
            "text/plain": [
              "<IPython.core.display.Markdown object>"
            ],
            "text/markdown": "\nThe Supreme Court case of Bowman v. Monsanto involved a farmer named Vernon Bowman who purchased soybean seeds from a grain elevator, which had obtained the seeds from a farmer who had purchased them from the patent holder, Monsanto. Bowman then planted the seeds on his own farm and harvested the resulting crops.\n\nThe court ruled in favor of Monsanto, stating that patent exhaustion does not permit a farmer to reproduce patented seeds through planting and harvesting without the patent holder's permission. The reasons for this decision were as follows:\n\n1. The Supreme Court held that the doctrine of patent exhaustion applies only to the first sale of a patented product, and not to subsequent sales or uses of that product. This means that once a patented product has been sold, the patent holder no longer has the exclusive right to control its use or distribution.\n2. In this case, the seeds that Bowman purchased from the grain elevator had already been sold by the patent holder, and the grain elevator had obtained them from a farmer who had purchased them from the patent holder. This means that the seeds were no longer within the scope of the original sale and were not covered by the doctrine of patent exhaustion.\n3. The court also held that the farmer's actions of planting and harvesting the seeds constituted an infringement of the patent holder's exclusive right to reproduce the patented seeds. This is because the seeds were a key component of the patented soybean crop, and the farmer's actions allowed him to produce and sell crops that were identical to those produced by the patent holder.\n\nOverall, the Supreme Court's decision in Bowman v. Monsanto rejected the farmer's defense of patent exhaustion and upheld the patent holder's exclusive right to control the use and distribution of their patented seeds."
          },
          "metadata": {}
        }
      ]
    },
    {
      "cell_type": "markdown",
      "metadata": {
        "id": "fMyE0lBQYtHN"
      },
      "source": [
        "## Part II – Analysing legal reasoning with **Logikon&nbsp;`/\\/`** <a name=\"part-b\"></a>"
      ]
    },
    {
      "cell_type": "markdown",
      "metadata": {
        "id": "aCSYMwRi0NyR"
      },
      "source": [
        "### Setting up notebook environment to run scoring script<a name=\"setup-b\"></a>"
      ]
    },
    {
      "cell_type": "code",
      "execution_count": 7,
      "metadata": {
        "id": "VEz318IJCaw7"
      },
      "outputs": [],
      "source": [
        "# Please make sure that the following files from the `examples` folder\n",
        "# in the `logikon-ai/logikon` GitHub repo are available.\n",
        "!test -f \"requirements.txt\" || echo \"Missing requirements.txt\"\n",
        "!test -f \"setup.sh\" || echo \"Missing setup.sh\"\n",
        "!test -f \"scoring.py\" || echo \"Missing scoring.py\""
      ]
    },
    {
      "cell_type": "code",
      "execution_count": 8,
      "metadata": {
        "id": "uDIpY9XuCwkm"
      },
      "outputs": [],
      "source": [
        "# Configure the environment\n",
        "import os\n",
        "\n",
        "os.environ[\"LGK_FRAMEWORK\"] = \"llamacpp\"\n",
        "os.environ[\"LGK_DEVICE\"] = \"gpu\"\n",
        "os.environ[\"LGK_HUBREPO\"] = \"TheBloke/zephyr-7B-beta-GGUF\"\n",
        "os.environ[\"LGK_MODELWEIGHTS\"] = \"zephyr-7b-beta.Q6_K.gguf\"\n",
        "os.environ[\"LGK_TOKENIZER\"] = \"HuggingFaceH4/zephyr-7b-beta\"\n",
        "os.environ[\"LGK_RELEASE\"] = \"main\""
      ]
    },
    {
      "cell_type": "code",
      "execution_count": 9,
      "metadata": {
        "colab": {
          "base_uri": "https://localhost:8080/"
        },
        "id": "epMW5Zx6W9nr",
        "outputId": "9eed998c-d9cc-4c46-f94d-5a5ff420fff8"
      },
      "outputs": [
        {
          "output_type": "stream",
          "name": "stdout",
          "text": [
            "Wed Nov 22 13:50:26 2023       \n",
            "+-----------------------------------------------------------------------------+\n",
            "| NVIDIA-SMI 525.105.17   Driver Version: 525.105.17   CUDA Version: 12.0     |\n",
            "|-------------------------------+----------------------+----------------------+\n",
            "| GPU  Name        Persistence-M| Bus-Id        Disp.A | Volatile Uncorr. ECC |\n",
            "| Fan  Temp  Perf  Pwr:Usage/Cap|         Memory-Usage | GPU-Util  Compute M. |\n",
            "|                               |                      |               MIG M. |\n",
            "|===============================+======================+======================|\n",
            "|   0  Tesla T4            Off  | 00000000:00:04.0 Off |                    0 |\n",
            "| N/A   49C    P8     9W /  70W |      0MiB / 15360MiB |      0%      Default |\n",
            "|                               |                      |                  N/A |\n",
            "+-------------------------------+----------------------+----------------------+\n",
            "                                                                               \n",
            "+-----------------------------------------------------------------------------+\n",
            "| Processes:                                                                  |\n",
            "|  GPU   GI   CI        PID   Type   Process name                  GPU Memory |\n",
            "|        ID   ID                                                   Usage      |\n",
            "|=============================================================================|\n",
            "|  No running processes found                                                 |\n",
            "+-----------------------------------------------------------------------------+\n"
          ]
        }
      ],
      "source": [
        "# Check gpu available\n",
        "! [ \"$LGK_DEVICE\" = \"gpu\" ] && nvidia-smi"
      ]
    },
    {
      "cell_type": "code",
      "execution_count": 10,
      "metadata": {
        "id": "tSSiej4pY8-i"
      },
      "outputs": [],
      "source": [
        "%%capture\n",
        "!sh setup.sh"
      ]
    },
    {
      "cell_type": "code",
      "execution_count": 11,
      "metadata": {
        "colab": {
          "base_uri": "https://localhost:8080/",
          "height": 35
        },
        "id": "iFteYtUPJvDI",
        "outputId": "e3b22f46-c6e9-4ae8-ae86-fa86455fe0fd"
      },
      "outputs": [
        {
          "output_type": "execute_result",
          "data": {
            "text/plain": [
              "'/content/models/zephyr-7b-beta.Q6_K.gguf'"
            ],
            "application/vnd.google.colaboratory.intrinsic+json": {
              "type": "string"
            }
          },
          "metadata": {},
          "execution_count": 11
        }
      ],
      "source": [
        "# Path to model weights as env variable\n",
        "import os\n",
        "\n",
        "if os.environ.get(\"LGK_MODELWEIGHTS\"):\n",
        "    abspath = os.path.join(\n",
        "        os.path.abspath(\"./models\"),\n",
        "        os.environ.get(\"LGK_MODELWEIGHTS\")\n",
        "    )\n",
        "else:\n",
        "    abspath = \"\"\n",
        "os.environ[\"LGK_ABSPATH_MODELWEIGHTS\"] = abspath\n",
        "os.environ[\"LGK_ABSPATH_MODELWEIGHTS\"]"
      ]
    },
    {
      "cell_type": "code",
      "execution_count": 12,
      "metadata": {
        "id": "BN9HH97iL9OF"
      },
      "outputs": [],
      "source": [
        "# Check whether model weights file is available\n",
        "!test -f \"$LGK_ABSPATH_MODELWEIGHTS\" || echo \"Cannot find model weights\""
      ]
    },
    {
      "cell_type": "code",
      "source": [
        "# Post-processing prompt\n",
        "# Inserting hints that point out which central claims to use in logical analysis\n",
        "prompt_with_hint = prompt.replace(\"[INST]\",\"\").replace(\"[/INST]\",\"\").replace(\"<s>\",\"\").strip()\n",
        "prompt_with_hint += \" The central claim is simply: Bowman's defence should be rejected.\""
      ],
      "metadata": {
        "id": "C07p0c96O8Dt"
      },
      "execution_count": 13,
      "outputs": []
    },
    {
      "cell_type": "code",
      "execution_count": 14,
      "metadata": {
        "id": "0gGYxzS9aoyI",
        "outputId": "f50a55bc-af46-4e4f-f1ef-5b80ec7601c1",
        "colab": {
          "base_uri": "https://localhost:8080/"
        }
      },
      "outputs": [
        {
          "output_type": "stream",
          "name": "stdout",
          "text": [
            "{\"prompt\":\"In the case BOWMAN v. MONSANTO the Supreme Court ruled that \\\"patent exhaustion does not permit a farmer to reproduce patented seeds through planting and harvesting without the patent holder\\u2019s permission.\\\" Can you lay out the reasons that led the Supreme Court to reject Bowman's defence? The central claim is simply: Bowman's defence should be rejected.\",\"completion\":\"\\nThe Supreme Court case of Bowman v. Monsanto involved a farmer named Vernon Bowman who purchased soybean seeds from a grain elevator, which had obtained the seeds from a farmer who had purchased them from the patent holder, Monsanto. Bowman then planted the seeds on his own farm and harvested the resulting crops.\\n\\nThe court ruled in favor of Monsanto, stating that patent exhaustion does not permit a farmer to reproduce patented seeds through planting and harvesting without the patent holder's permission. The reasons for this decision were as follows:\\n\\n1. The Supreme Court held that the doctrine of patent exhaustion applies only to the first sale of a patented product, and not to subsequent sales or uses of that product. This means that once a patented product has been sold, the patent holder no longer has the exclusive right to control its use or distribution.\\n2. In this case, the seeds that Bowman purchased from the grain elevator had already been sold by the patent holder, and the grain elevator had obtained them from a farmer who had purchased them from the patent holder. This means that the seeds were no longer within the scope of the original sale and were not covered by the doctrine of patent exhaustion.\\n3. The court also held that the farmer's actions of planting and harvesting the seeds constituted an infringement of the patent holder's exclusive right to reproduce the patented seeds. This is because the seeds were a key component of the patented soybean crop, and the farmer's actions allowed him to produce and sell crops that were identical to those produced by the patent holder.\\n\\nOverall, the Supreme Court's decision in Bowman v. Monsanto rejected the farmer's defense of patent exhaustion and upheld the patent holder's exclusive right to control the use and distribution of their patented seeds.\"}\n"
          ]
        }
      ],
      "source": [
        "# Save reasoning traces to file\n",
        "import pandas as pd\n",
        "df_traces = pd.DataFrame([{\"prompt\": prompt_with_hint, \"completion\": completion}])\n",
        "df_traces.to_json(\"reasoning_traces.jsonl\", orient=\"records\", lines=True)\n",
        "# Check data file available\n",
        "!head -2 \"reasoning_traces.jsonl\""
      ]
    },
    {
      "cell_type": "markdown",
      "metadata": {
        "id": "nSrgZcyMAdwP"
      },
      "source": [
        "### Select metrics and artifacts to calculate, and configure scoring methods <a name=\"config_logikon\"></a>"
      ]
    },
    {
      "cell_type": "code",
      "execution_count": 15,
      "metadata": {
        "colab": {
          "base_uri": "https://localhost:8080/"
        },
        "id": "sIGXP7YieNQg",
        "outputId": "21d708d4-669f-4267-d243-f9122acb8d60"
      },
      "outputs": [
        {
          "output_type": "stream",
          "name": "stdout",
          "text": [
            "artifacts:\n",
            "- fuzzy_argmap_nx\n",
            "- svg_argmap\n",
            "global_kwargs:\n",
            "  expert_model: /content/models/zephyr-7b-beta.Q6_K.gguf\n",
            "  expert_model_kwargs:\n",
            "    n_ctx: 3072\n",
            "    n_gpu_layers: -1\n",
            "    prompt_template:\n",
            "      ass_end: ''\n",
            "...\n"
          ]
        }
      ],
      "source": [
        "# Write config als yaml file\n",
        "\n",
        "config_dict = {\n",
        "    # all metrics\n",
        "    \"metrics\": [\"argmap_size\", \"n_root_nodes\", \"mean_reason_strength\"],\n",
        "    # artifacts to generate\n",
        "    \"artifacts\": [\"fuzzy_argmap_nx\", \"svg_argmap\"],\n",
        "    \"global_kwargs\": {\n",
        "        \"expert_model\": os.environ[\"LGK_ABSPATH_MODELWEIGHTS\"],\n",
        "        \"expert_model_kwargs\": {\n",
        "            \"n_ctx\": 3072,\n",
        "            # comment out line below if no gpu\n",
        "            \"n_gpu_layers\": -1,\n",
        "            \"tokenizer\": os.environ[\"LGK_TOKENIZER\"],\n",
        "            # custom prompt template, make sure this fits the expert_model\n",
        "            \"prompt_template\": {\n",
        "                \"sys_start\": \"\\n<|system|>\\n\",\n",
        "                \"sys_end\": \"\",\n",
        "                \"user_start\": \"\\n<|user|>\\n\",\n",
        "                \"user_end\": \"\",\n",
        "                \"ass_start\": \"\\n<|assistant|>\\n\",\n",
        "                \"ass_end\": \"\",\n",
        "            },\n",
        "        },\n",
        "        \"generation_kwargs\": {\"max_len\": 3072},\n",
        "        \"llm_framework\": \"llama.cpp\",\n",
        "    },\n",
        "}\n",
        "\n",
        "import yaml\n",
        "with open('config.yml', 'w') as outfile:\n",
        "    yaml.dump(config_dict, outfile, default_flow_style=False)\n",
        "\n",
        "# Check config file available\n",
        "!head -10 \"config.yml\" && echo \"...\""
      ]
    },
    {
      "cell_type": "markdown",
      "metadata": {
        "id": "Pwx5YGLtA5wW"
      },
      "source": [
        "### Run argumentation analysis <a name=\"run\"></a>"
      ]
    },
    {
      "cell_type": "code",
      "execution_count": 16,
      "metadata": {
        "colab": {
          "base_uri": "https://localhost:8080/"
        },
        "id": "BL4ADqpSf_WB",
        "outputId": "f2505ec7-f079-40ee-808f-4b7e71650dc8"
      },
      "outputs": [
        {
          "output_type": "stream",
          "name": "stdout",
          "text": [
            "0it [00:00, ?it/s]/usr/bin/dot\n",
            "The cache for model files in Transformers v4.22.0 has been updated. Migrating your old cache. This is a one-time only operation. You can interrupt this and resume the migration later on by calling `transformers.utils.move_cache()`.\n",
            "\n",
            "0it [00:00, ?it/s]\n",
            "\n",
            "tokenizer_config.json: 100% 1.43k/1.43k [00:00<00:00, 6.09MB/s]\n",
            "\n",
            "tokenizer.model: 100% 493k/493k [00:00<00:00, 38.4MB/s]\n",
            "\n",
            "tokenizer.json:   0% 0.00/1.80M [00:00<?, ?B/s]\u001b[A\n",
            "tokenizer.json: 100% 1.80M/1.80M [00:00<00:00, 1.83MB/s]\n",
            "\n",
            "added_tokens.json: 100% 42.0/42.0 [00:00<00:00, 196kB/s]\n",
            "\n",
            "special_tokens_map.json: 100% 168/168 [00:00<00:00, 890kB/s]\n",
            "[Loading llama.cpp model from llama.cpp:/content/models/zephyr-7b-beta.Q6_K.gguf  with  {'n_ctx': 3072, 'n_gpu_layers': -1} ]\n",
            "2023-11-22 13:55:41.235427: E tensorflow/compiler/xla/stream_executor/cuda/cuda_dnn.cc:9342] Unable to register cuDNN factory: Attempting to register factory for plugin cuDNN when one has already been registered\n",
            "2023-11-22 13:55:41.235493: E tensorflow/compiler/xla/stream_executor/cuda/cuda_fft.cc:609] Unable to register cuFFT factory: Attempting to register factory for plugin cuFFT when one has already been registered\n",
            "2023-11-22 13:55:41.235532: E tensorflow/compiler/xla/stream_executor/cuda/cuda_blas.cc:1518] Unable to register cuBLAS factory: Attempting to register factory for plugin cuBLAS when one has already been registered\n",
            "2023-11-22 13:55:43.213327: W tensorflow/compiler/tf2tensorrt/utils/py_utils.cc:38] TF-TRT Warning: Could not find TensorRT\n",
            "\n",
            "Reason-root edges:   0% 0/2 [00:00<?, ?it/s]\u001b[A\n",
            "Reason-root edges:  50% 1/2 [00:10<00:10, 10.41s/it]\u001b[A\n",
            "Reason-root edges: 100% 2/2 [00:17<00:00,  8.91s/it]\n",
            "\n",
            "Reason-reason edges:   0% 0/8 [00:00<?, ?it/s]\u001b[A\n",
            "Reason-reason edges:  25% 2/8 [00:14<00:42,  7.05s/it]\u001b[A\n",
            "Reason-reason edges:  38% 3/8 [00:28<00:49,  9.96s/it]\u001b[A\n",
            "Reason-reason edges:  50% 4/8 [00:41<00:45, 11.27s/it]\u001b[A\n",
            "Reason-reason edges:  75% 6/8 [00:53<00:17,  8.64s/it]\u001b[A\n",
            "Reason-reason edges:  88% 7/8 [01:08<00:10, 10.34s/it]\u001b[A\n",
            "Reason-reason edges: 100% 8/8 [01:22<00:00, 10.30s/it]\n",
            "1it [04:18, 258.24s/it]\n"
          ]
        }
      ],
      "source": [
        "# 🫖 This will take some time ... you may monitor `scoring.log`\n",
        "!python scoring.py \\\n",
        "  --config-file config.yml \\\n",
        "  --reasoning-traces-file reasoning_traces.jsonl"
      ]
    },
    {
      "cell_type": "markdown",
      "metadata": {
        "id": "7uaXFSRjA_Wu"
      },
      "source": [
        "### Inspect argumentation analysis <a name=\"inspect\"></a>"
      ]
    },
    {
      "cell_type": "code",
      "execution_count": 17,
      "metadata": {
        "id": "cttOhhYfpyP6"
      },
      "outputs": [],
      "source": [
        "# Read analysis results from file\n",
        "df_scores = pd.read_json(\"outputs/reasoning_traces-scores.jsonl\", lines=True)"
      ]
    },
    {
      "cell_type": "code",
      "execution_count": 18,
      "metadata": {
        "colab": {
          "base_uri": "https://localhost:8080/",
          "height": 174
        },
        "id": "JCC66EW08MAx",
        "outputId": "ddfd3229-8107-43bb-d51c-0717bc54b8f4"
      },
      "outputs": [
        {
          "output_type": "execute_result",
          "data": {
            "text/plain": [
              "#example                     0\n",
              "metric                        \n",
              "argmap_size           8.000000\n",
              "n_root_nodes          2.000000\n",
              "mean_reason_strength  0.668001"
            ],
            "text/html": [
              "\n",
              "  <div id=\"df-58dc2817-3dc7-427a-a5a6-00ff0f7feb30\" class=\"colab-df-container\">\n",
              "    <div>\n",
              "<style scoped>\n",
              "    .dataframe tbody tr th:only-of-type {\n",
              "        vertical-align: middle;\n",
              "    }\n",
              "\n",
              "    .dataframe tbody tr th {\n",
              "        vertical-align: top;\n",
              "    }\n",
              "\n",
              "    .dataframe thead th {\n",
              "        text-align: right;\n",
              "    }\n",
              "</style>\n",
              "<table border=\"1\" class=\"dataframe\">\n",
              "  <thead>\n",
              "    <tr style=\"text-align: right;\">\n",
              "      <th>#example</th>\n",
              "      <th>0</th>\n",
              "    </tr>\n",
              "    <tr>\n",
              "      <th>metric</th>\n",
              "      <th></th>\n",
              "    </tr>\n",
              "  </thead>\n",
              "  <tbody>\n",
              "    <tr>\n",
              "      <th>argmap_size</th>\n",
              "      <td>8.000000</td>\n",
              "    </tr>\n",
              "    <tr>\n",
              "      <th>n_root_nodes</th>\n",
              "      <td>2.000000</td>\n",
              "    </tr>\n",
              "    <tr>\n",
              "      <th>mean_reason_strength</th>\n",
              "      <td>0.668001</td>\n",
              "    </tr>\n",
              "  </tbody>\n",
              "</table>\n",
              "</div>\n",
              "    <div class=\"colab-df-buttons\">\n",
              "\n",
              "  <div class=\"colab-df-container\">\n",
              "    <button class=\"colab-df-convert\" onclick=\"convertToInteractive('df-58dc2817-3dc7-427a-a5a6-00ff0f7feb30')\"\n",
              "            title=\"Convert this dataframe to an interactive table.\"\n",
              "            style=\"display:none;\">\n",
              "\n",
              "  <svg xmlns=\"http://www.w3.org/2000/svg\" height=\"24px\" viewBox=\"0 -960 960 960\">\n",
              "    <path d=\"M120-120v-720h720v720H120Zm60-500h600v-160H180v160Zm220 220h160v-160H400v160Zm0 220h160v-160H400v160ZM180-400h160v-160H180v160Zm440 0h160v-160H620v160ZM180-180h160v-160H180v160Zm440 0h160v-160H620v160Z\"/>\n",
              "  </svg>\n",
              "    </button>\n",
              "\n",
              "  <style>\n",
              "    .colab-df-container {\n",
              "      display:flex;\n",
              "      gap: 12px;\n",
              "    }\n",
              "\n",
              "    .colab-df-convert {\n",
              "      background-color: #E8F0FE;\n",
              "      border: none;\n",
              "      border-radius: 50%;\n",
              "      cursor: pointer;\n",
              "      display: none;\n",
              "      fill: #1967D2;\n",
              "      height: 32px;\n",
              "      padding: 0 0 0 0;\n",
              "      width: 32px;\n",
              "    }\n",
              "\n",
              "    .colab-df-convert:hover {\n",
              "      background-color: #E2EBFA;\n",
              "      box-shadow: 0px 1px 2px rgba(60, 64, 67, 0.3), 0px 1px 3px 1px rgba(60, 64, 67, 0.15);\n",
              "      fill: #174EA6;\n",
              "    }\n",
              "\n",
              "    .colab-df-buttons div {\n",
              "      margin-bottom: 4px;\n",
              "    }\n",
              "\n",
              "    [theme=dark] .colab-df-convert {\n",
              "      background-color: #3B4455;\n",
              "      fill: #D2E3FC;\n",
              "    }\n",
              "\n",
              "    [theme=dark] .colab-df-convert:hover {\n",
              "      background-color: #434B5C;\n",
              "      box-shadow: 0px 1px 3px 1px rgba(0, 0, 0, 0.15);\n",
              "      filter: drop-shadow(0px 1px 2px rgba(0, 0, 0, 0.3));\n",
              "      fill: #FFFFFF;\n",
              "    }\n",
              "  </style>\n",
              "\n",
              "    <script>\n",
              "      const buttonEl =\n",
              "        document.querySelector('#df-58dc2817-3dc7-427a-a5a6-00ff0f7feb30 button.colab-df-convert');\n",
              "      buttonEl.style.display =\n",
              "        google.colab.kernel.accessAllowed ? 'block' : 'none';\n",
              "\n",
              "      async function convertToInteractive(key) {\n",
              "        const element = document.querySelector('#df-58dc2817-3dc7-427a-a5a6-00ff0f7feb30');\n",
              "        const dataTable =\n",
              "          await google.colab.kernel.invokeFunction('convertToInteractive',\n",
              "                                                    [key], {});\n",
              "        if (!dataTable) return;\n",
              "\n",
              "        const docLinkHtml = 'Like what you see? Visit the ' +\n",
              "          '<a target=\"_blank\" href=https://colab.research.google.com/notebooks/data_table.ipynb>data table notebook</a>'\n",
              "          + ' to learn more about interactive tables.';\n",
              "        element.innerHTML = '';\n",
              "        dataTable['output_type'] = 'display_data';\n",
              "        await google.colab.output.renderOutput(dataTable, element);\n",
              "        const docLink = document.createElement('div');\n",
              "        docLink.innerHTML = docLinkHtml;\n",
              "        element.appendChild(docLink);\n",
              "      }\n",
              "    </script>\n",
              "  </div>\n",
              "\n",
              "\n",
              "<div id=\"df-27420385-0f91-419a-9aeb-d24599cad1fe\">\n",
              "  <button class=\"colab-df-quickchart\" onclick=\"quickchart('df-27420385-0f91-419a-9aeb-d24599cad1fe')\"\n",
              "            title=\"Suggest charts\"\n",
              "            style=\"display:none;\">\n",
              "\n",
              "<svg xmlns=\"http://www.w3.org/2000/svg\" height=\"24px\"viewBox=\"0 0 24 24\"\n",
              "     width=\"24px\">\n",
              "    <g>\n",
              "        <path d=\"M19 3H5c-1.1 0-2 .9-2 2v14c0 1.1.9 2 2 2h14c1.1 0 2-.9 2-2V5c0-1.1-.9-2-2-2zM9 17H7v-7h2v7zm4 0h-2V7h2v10zm4 0h-2v-4h2v4z\"/>\n",
              "    </g>\n",
              "</svg>\n",
              "  </button>\n",
              "\n",
              "<style>\n",
              "  .colab-df-quickchart {\n",
              "      --bg-color: #E8F0FE;\n",
              "      --fill-color: #1967D2;\n",
              "      --hover-bg-color: #E2EBFA;\n",
              "      --hover-fill-color: #174EA6;\n",
              "      --disabled-fill-color: #AAA;\n",
              "      --disabled-bg-color: #DDD;\n",
              "  }\n",
              "\n",
              "  [theme=dark] .colab-df-quickchart {\n",
              "      --bg-color: #3B4455;\n",
              "      --fill-color: #D2E3FC;\n",
              "      --hover-bg-color: #434B5C;\n",
              "      --hover-fill-color: #FFFFFF;\n",
              "      --disabled-bg-color: #3B4455;\n",
              "      --disabled-fill-color: #666;\n",
              "  }\n",
              "\n",
              "  .colab-df-quickchart {\n",
              "    background-color: var(--bg-color);\n",
              "    border: none;\n",
              "    border-radius: 50%;\n",
              "    cursor: pointer;\n",
              "    display: none;\n",
              "    fill: var(--fill-color);\n",
              "    height: 32px;\n",
              "    padding: 0;\n",
              "    width: 32px;\n",
              "  }\n",
              "\n",
              "  .colab-df-quickchart:hover {\n",
              "    background-color: var(--hover-bg-color);\n",
              "    box-shadow: 0 1px 2px rgba(60, 64, 67, 0.3), 0 1px 3px 1px rgba(60, 64, 67, 0.15);\n",
              "    fill: var(--button-hover-fill-color);\n",
              "  }\n",
              "\n",
              "  .colab-df-quickchart-complete:disabled,\n",
              "  .colab-df-quickchart-complete:disabled:hover {\n",
              "    background-color: var(--disabled-bg-color);\n",
              "    fill: var(--disabled-fill-color);\n",
              "    box-shadow: none;\n",
              "  }\n",
              "\n",
              "  .colab-df-spinner {\n",
              "    border: 2px solid var(--fill-color);\n",
              "    border-color: transparent;\n",
              "    border-bottom-color: var(--fill-color);\n",
              "    animation:\n",
              "      spin 1s steps(1) infinite;\n",
              "  }\n",
              "\n",
              "  @keyframes spin {\n",
              "    0% {\n",
              "      border-color: transparent;\n",
              "      border-bottom-color: var(--fill-color);\n",
              "      border-left-color: var(--fill-color);\n",
              "    }\n",
              "    20% {\n",
              "      border-color: transparent;\n",
              "      border-left-color: var(--fill-color);\n",
              "      border-top-color: var(--fill-color);\n",
              "    }\n",
              "    30% {\n",
              "      border-color: transparent;\n",
              "      border-left-color: var(--fill-color);\n",
              "      border-top-color: var(--fill-color);\n",
              "      border-right-color: var(--fill-color);\n",
              "    }\n",
              "    40% {\n",
              "      border-color: transparent;\n",
              "      border-right-color: var(--fill-color);\n",
              "      border-top-color: var(--fill-color);\n",
              "    }\n",
              "    60% {\n",
              "      border-color: transparent;\n",
              "      border-right-color: var(--fill-color);\n",
              "    }\n",
              "    80% {\n",
              "      border-color: transparent;\n",
              "      border-right-color: var(--fill-color);\n",
              "      border-bottom-color: var(--fill-color);\n",
              "    }\n",
              "    90% {\n",
              "      border-color: transparent;\n",
              "      border-bottom-color: var(--fill-color);\n",
              "    }\n",
              "  }\n",
              "</style>\n",
              "\n",
              "  <script>\n",
              "    async function quickchart(key) {\n",
              "      const quickchartButtonEl =\n",
              "        document.querySelector('#' + key + ' button');\n",
              "      quickchartButtonEl.disabled = true;  // To prevent multiple clicks.\n",
              "      quickchartButtonEl.classList.add('colab-df-spinner');\n",
              "      try {\n",
              "        const charts = await google.colab.kernel.invokeFunction(\n",
              "            'suggestCharts', [key], {});\n",
              "      } catch (error) {\n",
              "        console.error('Error during call to suggestCharts:', error);\n",
              "      }\n",
              "      quickchartButtonEl.classList.remove('colab-df-spinner');\n",
              "      quickchartButtonEl.classList.add('colab-df-quickchart-complete');\n",
              "    }\n",
              "    (() => {\n",
              "      let quickchartButtonEl =\n",
              "        document.querySelector('#df-27420385-0f91-419a-9aeb-d24599cad1fe button');\n",
              "      quickchartButtonEl.style.display =\n",
              "        google.colab.kernel.accessAllowed ? 'block' : 'none';\n",
              "    })();\n",
              "  </script>\n",
              "</div>\n",
              "    </div>\n",
              "  </div>\n"
            ]
          },
          "metadata": {},
          "execution_count": 18
        }
      ],
      "source": [
        "# Display metric scores\n",
        "df_scores[config_dict.get(\"metrics\",[])].T.rename_axis(\"#example\", axis=\"columns\").rename_axis(\"metric\", axis=\"rows\")"
      ]
    },
    {
      "cell_type": "code",
      "execution_count": 21,
      "metadata": {
        "id": "saeFhPUzIN_k"
      },
      "outputs": [],
      "source": [
        "# Utility method for rendering artifacts\n",
        "from pprint import pformat\n",
        "\n",
        "import networkx as nx\n",
        "\n",
        "from IPython.display import SVG, HTML, Markdown\n",
        "\n",
        "from logikon.schemas.pros_cons import ProsConsList\n",
        "from logikon.schemas.argument_mapping import FuzzyArgMap\n",
        "\n",
        "def render_artifact(artifact_id, data):\n",
        "  \"\"\"helper function for rendering artifacts\"\"\"\n",
        "\n",
        "  if \"nx\" in artifact_id:\n",
        "    digraph = nx.node_link_graph(data)\n",
        "    return Markdown(str(digraph))\n",
        "\n",
        "  if \"svg\" in artifact_id:\n",
        "    #style = \"<style>svg{width:100% !important;height:100% !important;</style>\"\n",
        "    style = \"<style>svg{width:100% !important;</style>\"\n",
        "    return HTML(style), SVG(data=data)\n",
        "\n",
        "  if \"html\" in artifact_id:\n",
        "    return HTML(data)\n",
        "\n",
        "  if artifact_id == \"proscons\":\n",
        "    proscons = ProsConsList(**data)\n",
        "    return Markdown(f\"`{pformat(proscons)}`\")\n",
        "\n",
        "  if artifact_id == \"relevance_network\":\n",
        "    relnet = FuzzyArgMap(**data)\n",
        "    return Markdown(f\"`{pformat(relnet)[:800]} ...`\")\n",
        "\n",
        "  text = str(data)\n",
        "  text = text[:200] + \" ...\" if len(text)>200 else text\n",
        "  return Markdown(f\"`{text}`\")"
      ]
    },
    {
      "cell_type": "markdown",
      "metadata": {
        "id": "cg_f1Tt10NyY"
      },
      "source": [
        "> ⛔️ **Limitation**\n",
        ">\n",
        "> Note that the `zephyr-7b-beta` expert model struggles to correctly relate individual reasons to each other -- a task much better accomplished by larger LLMs."
      ]
    },
    {
      "cell_type": "code",
      "execution_count": 22,
      "metadata": {
        "colab": {
          "base_uri": "https://localhost:8080/",
          "height": 1000
        },
        "id": "tFo-h4Ba6zfO",
        "outputId": "f8559ee7-d43c-4f06-d48e-d2871f3031b2"
      },
      "outputs": [
        {
          "output_type": "display_data",
          "data": {
            "text/plain": [
              "<IPython.core.display.Markdown object>"
            ],
            "text/markdown": "## fuzzy_argmap_nx"
          },
          "metadata": {}
        },
        {
          "output_type": "display_data",
          "data": {
            "text/plain": [
              "<IPython.core.display.Markdown object>"
            ],
            "text/markdown": "DiGraph with 8 nodes and 6 edges"
          },
          "metadata": {}
        },
        {
          "output_type": "display_data",
          "data": {
            "text/plain": [
              "<IPython.core.display.Markdown object>"
            ],
            "text/markdown": "## svg_argmap"
          },
          "metadata": {}
        },
        {
          "output_type": "display_data",
          "data": {
            "text/plain": [
              "<IPython.core.display.HTML object>"
            ],
            "text/html": [
              "<style>svg{width:100% !important;</style>"
            ]
          },
          "metadata": {}
        },
        {
          "output_type": "display_data",
          "data": {
            "text/plain": [
              "<IPython.core.display.SVG object>"
            ],
            "image/svg+xml": "<svg xmlns=\"http://www.w3.org/2000/svg\" xmlns:xlink=\"http://www.w3.org/1999/xlink\" width=\"516pt\" height=\"756pt\" viewBox=\"0.00 0.00 515.50 756.00\">\n<g id=\"graph0\" class=\"graph\" transform=\"scale(1 1) rotate(0) translate(4 752)\">\n<title>logikon informal argument map</title>\n<polygon fill=\"white\" stroke=\"transparent\" points=\"-4,4 -4,-752 511.5,-752 511.5,4 -4,4\"/>\n<!-- c69dc58d&#45;3668&#45;4519&#45;ad38&#45;f3e99cb5ac24 -->\n<g id=\"node1\" class=\"node\">\n<title>c69dc58d-3668-4519-ad38-f3e99cb5ac24</title>\n<g id=\"a_node1\"><a xlink:title=\"Farmers should be allowed to&lt;BR/&gt;reproduce patented seeds&lt;BR/&gt;through planting and&lt;BR/&gt;harvesting.\">\n<path fill=\"white\" stroke=\"transparent\" d=\"M124,-659C124,-659 270,-659 270,-659 276,-659 282,-665 282,-671 282,-671 282,-730 282,-730 282,-736 276,-742 270,-742 270,-742 124,-742 124,-742 118,-742 112,-736 112,-730 112,-730 112,-671 112,-671 112,-665 118,-659 124,-659\"/>\n<text text-anchor=\"start\" x=\"127\" y=\"-726.9\" font-family=\"Arial, Helvetica, sans-serif\" font-weight=\"bold\" font-size=\"12.00\">Allow seed reproduction</text>\n<text text-anchor=\"start\" x=\"118\" y=\"-706.9\" font-family=\"Arial, Helvetica, sans-serif\" font-size=\"12.00\">Farmers should be allowed to</text>\n<text text-anchor=\"start\" x=\"127.5\" y=\"-693.9\" font-family=\"Arial, Helvetica, sans-serif\" font-size=\"12.00\">reproduce patented seeds</text>\n<text text-anchor=\"start\" x=\"142\" y=\"-680.9\" font-family=\"Arial, Helvetica, sans-serif\" font-size=\"12.00\">through planting and</text>\n<text text-anchor=\"start\" x=\"167.5\" y=\"-667.9\" font-family=\"Arial, Helvetica, sans-serif\" font-size=\"12.00\">harvesting.</text>\n<path fill=\"none\" stroke=\"lightblue\" stroke-width=\"4\" d=\"M124,-659C124,-659 270,-659 270,-659 276,-659 282,-665 282,-671 282,-671 282,-730 282,-730 282,-736 276,-742 270,-742 270,-742 124,-742 124,-742 118,-742 112,-736 112,-730 112,-730 112,-671 112,-671 112,-665 118,-659 124,-659\"/>\n</a>\n</g>\n</g>\n<!-- c22e0fb7&#45;2b20&#45;40e8&#45;91c3&#45;a1047bca94ac -->\n<g id=\"node2\" class=\"node\">\n<title>c22e0fb7-2b20-40e8-91c3-a1047bca94ac</title>\n<g id=\"a_node2\"><a xlink:title=\"Farmers should not be allowed&lt;BR/&gt;to reproduce patented seeds&lt;BR/&gt;through planting and&lt;BR/&gt;harvesting.\">\n<path fill=\"white\" stroke=\"transparent\" d=\"M332.5,-659C332.5,-659 485.5,-659 485.5,-659 491.5,-659 497.5,-665 497.5,-671 497.5,-671 497.5,-730 497.5,-730 497.5,-736 491.5,-742 485.5,-742 485.5,-742 332.5,-742 332.5,-742 326.5,-742 320.5,-736 320.5,-730 320.5,-730 320.5,-671 320.5,-671 320.5,-665 326.5,-659 332.5,-659\"/>\n<text text-anchor=\"start\" x=\"343.5\" y=\"-726.9\" font-family=\"Arial, Helvetica, sans-serif\" font-weight=\"bold\" font-size=\"12.00\">Ban seed reproduction</text>\n<text text-anchor=\"start\" x=\"327\" y=\"-706.9\" font-family=\"Arial, Helvetica, sans-serif\" font-size=\"12.00\">Farmers should not be allowed</text>\n<text text-anchor=\"start\" x=\"333.5\" y=\"-693.9\" font-family=\"Arial, Helvetica, sans-serif\" font-size=\"12.00\">to reproduce patented seeds</text>\n<text text-anchor=\"start\" x=\"354.5\" y=\"-680.9\" font-family=\"Arial, Helvetica, sans-serif\" font-size=\"12.00\">through planting and</text>\n<text text-anchor=\"start\" x=\"380\" y=\"-667.9\" font-family=\"Arial, Helvetica, sans-serif\" font-size=\"12.00\">harvesting.</text>\n<path fill=\"none\" stroke=\"lightblue\" stroke-width=\"4\" d=\"M332.5,-659C332.5,-659 485.5,-659 485.5,-659 491.5,-659 497.5,-665 497.5,-671 497.5,-671 497.5,-730 497.5,-730 497.5,-736 491.5,-742 485.5,-742 485.5,-742 332.5,-742 332.5,-742 326.5,-742 320.5,-736 320.5,-730 320.5,-730 320.5,-671 320.5,-671 320.5,-665 326.5,-659 332.5,-659\"/>\n</a>\n</g>\n</g>\n<!-- 07a6de58&#45;11a5&#45;4cf9&#45;9f78&#45;901b2b65f590 -->\n<g id=\"node3\" class=\"node\">\n<title>07a6de58-11a5-4cf9-9f78-901b2b65f590</title>\n<g id=\"a_node3\"><a xlink:title=\"The Supreme Court held that&lt;BR/&gt;patent exhaustion applies only&lt;BR/&gt;to the first sale of a&lt;BR/&gt;patented product.\">\n<path fill=\"lightblue\" stroke=\"transparent\" d=\"M121.5,-528C121.5,-528 272.5,-528 272.5,-528 278.5,-528 284.5,-534 284.5,-540 284.5,-540 284.5,-599 284.5,-599 284.5,-605 278.5,-611 272.5,-611 272.5,-611 121.5,-611 121.5,-611 115.5,-611 109.5,-605 109.5,-599 109.5,-599 109.5,-540 109.5,-540 109.5,-534 115.5,-528 121.5,-528\"/>\n<text text-anchor=\"start\" x=\"146\" y=\"-595.9\" font-family=\"Arial, Helvetica, sans-serif\" font-weight=\"bold\" font-size=\"12.00\">First sale doctrine</text>\n<text text-anchor=\"start\" x=\"120.5\" y=\"-575.9\" font-family=\"Arial, Helvetica, sans-serif\" font-size=\"12.00\">The Supreme Court held that</text>\n<text text-anchor=\"start\" x=\"116\" y=\"-562.9\" font-family=\"Arial, Helvetica, sans-serif\" font-size=\"12.00\">patent exhaustion applies only</text>\n<text text-anchor=\"start\" x=\"147.5\" y=\"-549.9\" font-family=\"Arial, Helvetica, sans-serif\" font-size=\"12.00\">to the first sale of a</text>\n<text text-anchor=\"start\" x=\"151\" y=\"-536.9\" font-family=\"Arial, Helvetica, sans-serif\" font-size=\"12.00\">patented product.</text>\n<path fill=\"none\" stroke=\"lightblue\" stroke-width=\"4\" d=\"M121.5,-528C121.5,-528 272.5,-528 272.5,-528 278.5,-528 284.5,-534 284.5,-540 284.5,-540 284.5,-599 284.5,-599 284.5,-605 278.5,-611 272.5,-611 272.5,-611 121.5,-611 121.5,-611 115.5,-611 109.5,-605 109.5,-599 109.5,-599 109.5,-540 109.5,-540 109.5,-534 115.5,-528 121.5,-528\"/>\n</a>\n</g>\n</g>\n<!-- 07a6de58&#45;11a5&#45;4cf9&#45;9f78&#45;901b2b65f590&#45;&gt;c69dc58d&#45;3668&#45;4519&#45;ad38&#45;f3e99cb5ac24 -->\n<g id=\"edge1\" class=\"edge\">\n<title>07a6de58-11a5-4cf9-9f78-901b2b65f590-&gt;c69dc58d-3668-4519-ad38-f3e99cb5ac24</title>\n<path fill=\"none\" stroke=\"#a9a9a9\" stroke-width=\"2\" d=\"M197,-617.07C197,-625.48 197,-634.32 197,-642.97\"/>\n<polygon fill=\"#a9a9a9\" stroke=\"#a9a9a9\" stroke-width=\"2\" points=\"193.5,-643 197,-653 200.5,-643 193.5,-643\"/>\n</g>\n<!-- efccab7f&#45;fcdc&#45;4f2d&#45;909b&#45;dd31fa8d2cc2 -->\n<g id=\"node4\" class=\"node\">\n<title>efccab7f-fcdc-4f2d-909b-dd31fa8d2cc2</title>\n<g id=\"a_node4\"><a xlink:title=\"The Supreme Court held that&lt;BR/&gt;patent exhaustion does not&lt;BR/&gt;apply to subsequent sales or&lt;BR/&gt;uses.\">\n<path fill=\"lightblue\" stroke=\"transparent\" d=\"M22,-240C22,-240 164,-240 164,-240 170,-240 176,-246 176,-252 176,-252 176,-311 176,-311 176,-317 170,-323 164,-323 164,-323 22,-323 22,-323 16,-323 10,-317 10,-311 10,-311 10,-252 10,-252 10,-246 16,-240 22,-240\"/>\n<text text-anchor=\"start\" x=\"18.5\" y=\"-307.9\" font-family=\"Arial, Helvetica, sans-serif\" font-weight=\"bold\" font-size=\"12.00\">Subsequent sales or uses</text>\n<text text-anchor=\"start\" x=\"16\" y=\"-287.9\" font-family=\"Arial, Helvetica, sans-serif\" font-size=\"12.00\">The Supreme Court held that</text>\n<text text-anchor=\"start\" x=\"21\" y=\"-274.9\" font-family=\"Arial, Helvetica, sans-serif\" font-size=\"12.00\">patent exhaustion does not</text>\n<text text-anchor=\"start\" x=\"16.5\" y=\"-261.9\" font-family=\"Arial, Helvetica, sans-serif\" font-size=\"12.00\">apply to subsequent sales or</text>\n<text text-anchor=\"start\" x=\"78.5\" y=\"-248.9\" font-family=\"Arial, Helvetica, sans-serif\" font-size=\"12.00\">uses.</text>\n<path fill=\"none\" stroke=\"lightblue\" stroke-width=\"4\" d=\"M22,-240C22,-240 164,-240 164,-240 170,-240 176,-246 176,-252 176,-252 176,-311 176,-311 176,-317 170,-323 164,-323 164,-323 22,-323 22,-323 16,-323 10,-317 10,-311 10,-311 10,-252 10,-252 10,-246 16,-240 22,-240\"/>\n</a>\n</g>\n</g>\n<!-- 519e9306&#45;6d1a&#45;4a21&#45;b666&#45;faae319c63a4 -->\n<g id=\"node5\" class=\"node\">\n<title>519e9306-6d1a-4a21-b666-faae319c63a4</title>\n<g id=\"a_node5\"><a xlink:title=\"The Supreme Court held that&lt;BR/&gt;patent exhaustion does not&lt;BR/&gt;apply to the seeds purchased&lt;BR/&gt;by Bowman, as they had already&lt;BR/&gt;been sold once.\">\n<path fill=\"lightblue\" stroke=\"transparent\" d=\"M116,-384C116,-384 278,-384 278,-384 284,-384 290,-390 290,-396 290,-396 290,-468 290,-468 290,-474 284,-480 278,-480 278,-480 116,-480 116,-480 110,-480 104,-474 104,-468 104,-468 104,-396 104,-396 104,-390 110,-384 116,-384\"/>\n<text text-anchor=\"start\" x=\"111\" y=\"-465.4\" font-family=\"Arial, Helvetica, sans-serif\" font-weight=\"bold\" font-size=\"12.00\">Seeds purchased by Bowman</text>\n<text text-anchor=\"start\" x=\"120\" y=\"-445.4\" font-family=\"Arial, Helvetica, sans-serif\" font-size=\"12.00\">The Supreme Court held that</text>\n<text text-anchor=\"start\" x=\"125\" y=\"-432.4\" font-family=\"Arial, Helvetica, sans-serif\" font-size=\"12.00\">patent exhaustion does not</text>\n<text text-anchor=\"start\" x=\"118.5\" y=\"-419.4\" font-family=\"Arial, Helvetica, sans-serif\" font-size=\"12.00\">apply to the seeds purchased</text>\n<text text-anchor=\"start\" x=\"110\" y=\"-406.4\" font-family=\"Arial, Helvetica, sans-serif\" font-size=\"12.00\">by Bowman, as they had already</text>\n<text text-anchor=\"start\" x=\"154.5\" y=\"-393.4\" font-family=\"Arial, Helvetica, sans-serif\" font-size=\"12.00\">been sold once.</text>\n<path fill=\"none\" stroke=\"lightblue\" stroke-width=\"4\" d=\"M116,-384C116,-384 278,-384 278,-384 284,-384 290,-390 290,-396 290,-396 290,-468 290,-468 290,-474 284,-480 278,-480 278,-480 116,-480 116,-480 110,-480 104,-474 104,-468 104,-468 104,-396 104,-396 104,-390 110,-384 116,-384\"/>\n</a>\n</g>\n</g>\n<!-- efccab7f&#45;fcdc&#45;4f2d&#45;909b&#45;dd31fa8d2cc2&#45;&gt;519e9306&#45;6d1a&#45;4a21&#45;b666&#45;faae319c63a4 -->\n<g id=\"edge2\" class=\"edge\">\n<title>efccab7f-fcdc-4f2d-909b-dd31fa8d2cc2-&gt;519e9306-6d1a-4a21-b666-faae319c63a4</title>\n<path fill=\"none\" stroke=\"#026502\" stroke-width=\"2\" d=\"M125.62,-329.08C134.6,-341.9 144.48,-356 153.95,-369.52\"/>\n<polygon fill=\"#026502\" stroke=\"#026502\" stroke-width=\"2\" points=\"151.17,-371.67 159.78,-377.85 156.91,-367.65 151.17,-371.67\"/>\n</g>\n<!-- 519e9306&#45;6d1a&#45;4a21&#45;b666&#45;faae319c63a4&#45;&gt;07a6de58&#45;11a5&#45;4cf9&#45;9f78&#45;901b2b65f590 -->\n<g id=\"edge3\" class=\"edge\">\n<title>519e9306-6d1a-4a21-b666-faae319c63a4-&gt;07a6de58-11a5-4cf9-9f78-901b2b65f590</title>\n<path fill=\"none\" stroke=\"#a5a7a5\" stroke-width=\"2\" d=\"M197,-486.16C197,-494.49 197,-503.13 197,-511.54\"/>\n<polygon fill=\"#a5a7a5\" stroke=\"#a5a7a5\" stroke-width=\"2\" points=\"193.5,-511.65 197,-521.65 200.5,-511.65 193.5,-511.65\"/>\n</g>\n<!-- e13ffc42&#45;0733&#45;495b&#45;a78d&#45;34bc8ff01d0e -->\n<g id=\"node6\" class=\"node\">\n<title>e13ffc42-0733-495b-a78d-34bc8ff01d0e</title>\n<g id=\"a_node6\"><a xlink:title=\"The patent holder has an&lt;BR/&gt;exclusive right to reproduce&lt;BR/&gt;the patented seeds.\">\n<path fill=\"lightblue\" stroke=\"transparent\" d=\"M233.5,-98C233.5,-98 368.5,-98 368.5,-98 374.5,-98 380.5,-104 380.5,-110 380.5,-110 380.5,-167 380.5,-167 380.5,-173 374.5,-179 368.5,-179 368.5,-179 233.5,-179 233.5,-179 227.5,-179 221.5,-173 221.5,-167 221.5,-167 221.5,-110 221.5,-110 221.5,-104 227.5,-98 233.5,-98\"/>\n<text text-anchor=\"start\" x=\"251.5\" y=\"-163.9\" font-family=\"Arial, Helvetica, sans-serif\" font-weight=\"bold\" font-size=\"12.00\">Exclusive right to</text>\n<text text-anchor=\"start\" x=\"271.5\" y=\"-151.9\" font-family=\"Arial, Helvetica, sans-serif\" font-weight=\"bold\" font-size=\"12.00\">reproduce</text>\n<text text-anchor=\"start\" x=\"235\" y=\"-132.9\" font-family=\"Arial, Helvetica, sans-serif\" font-size=\"12.00\">The patent holder has an</text>\n<text text-anchor=\"start\" x=\"228\" y=\"-119.9\" font-family=\"Arial, Helvetica, sans-serif\" font-size=\"12.00\">exclusive right to reproduce</text>\n<text text-anchor=\"start\" x=\"249\" y=\"-106.9\" font-family=\"Arial, Helvetica, sans-serif\" font-size=\"12.00\">the patented seeds.</text>\n<path fill=\"none\" stroke=\"lightblue\" stroke-width=\"4\" d=\"M233.5,-98C233.5,-98 368.5,-98 368.5,-98 374.5,-98 380.5,-104 380.5,-110 380.5,-110 380.5,-167 380.5,-167 380.5,-173 374.5,-179 368.5,-179 368.5,-179 233.5,-179 233.5,-179 227.5,-179 221.5,-173 221.5,-167 221.5,-167 221.5,-110 221.5,-110 221.5,-104 227.5,-98 233.5,-98\"/>\n</a>\n</g>\n</g>\n<!-- f75e852e&#45;49c2&#45;4282&#45;bcbc&#45;d8a43780c8b4 -->\n<g id=\"node7\" class=\"node\">\n<title>f75e852e-49c2-4282-bcbc-d8a43780c8b4</title>\n<g id=\"a_node7\"><a xlink:title=\"The farmer's actions of&lt;BR/&gt;planting and harvesting the&lt;BR/&gt;seeds constituted an&lt;BR/&gt;infringement of the patent&lt;BR/&gt;holder's exclusive right to&lt;BR/&gt;reproduce the patented seeds.\">\n<path fill=\"lightblue\" stroke=\"transparent\" d=\"M226,-227C226,-227 376,-227 376,-227 382,-227 388,-233 388,-239 388,-239 388,-324 388,-324 388,-330 382,-336 376,-336 376,-336 226,-336 226,-336 220,-336 214,-330 214,-324 214,-324 214,-239 214,-239 214,-233 220,-227 226,-227\"/>\n<text text-anchor=\"start\" x=\"253\" y=\"-320.9\" font-family=\"Arial, Helvetica, sans-serif\" font-weight=\"bold\" font-size=\"12.00\">Farmer's actions</text>\n<text text-anchor=\"start\" x=\"240.5\" y=\"-300.9\" font-family=\"Arial, Helvetica, sans-serif\" font-size=\"12.00\">The farmer's actions of</text>\n<text text-anchor=\"start\" x=\"228.5\" y=\"-287.9\" font-family=\"Arial, Helvetica, sans-serif\" font-size=\"12.00\">planting and harvesting the</text>\n<text text-anchor=\"start\" x=\"246\" y=\"-274.9\" font-family=\"Arial, Helvetica, sans-serif\" font-size=\"12.00\">seeds constituted an</text>\n<text text-anchor=\"start\" x=\"233.5\" y=\"-261.9\" font-family=\"Arial, Helvetica, sans-serif\" font-size=\"12.00\">infringement of the patent</text>\n<text text-anchor=\"start\" x=\"233.5\" y=\"-248.9\" font-family=\"Arial, Helvetica, sans-serif\" font-size=\"12.00\">holder's exclusive right to</text>\n<text text-anchor=\"start\" x=\"220\" y=\"-235.9\" font-family=\"Arial, Helvetica, sans-serif\" font-size=\"12.00\">reproduce the patented seeds.</text>\n<path fill=\"none\" stroke=\"lightblue\" stroke-width=\"4\" d=\"M226,-227C226,-227 376,-227 376,-227 382,-227 388,-233 388,-239 388,-239 388,-324 388,-324 388,-330 382,-336 376,-336 376,-336 226,-336 226,-336 220,-336 214,-330 214,-324 214,-324 214,-239 214,-239 214,-233 220,-227 226,-227\"/>\n</a>\n</g>\n</g>\n<!-- e13ffc42&#45;0733&#45;495b&#45;a78d&#45;34bc8ff01d0e&#45;&gt;f75e852e&#45;49c2&#45;4282&#45;bcbc&#45;d8a43780c8b4 -->\n<g id=\"edge4\" class=\"edge\">\n<title>e13ffc42-0733-495b-a78d-34bc8ff01d0e-&gt;f75e852e-49c2-4282-bcbc-d8a43780c8b4</title>\n<path fill=\"none\" stroke=\"#006400\" stroke-width=\"2\" d=\"M301,-185.28C301,-193.43 301,-202.08 301,-210.72\"/>\n<polygon fill=\"#006400\" stroke=\"#006400\" stroke-width=\"2\" points=\"297.5,-210.83 301,-220.83 304.5,-210.83 297.5,-210.83\"/>\n</g>\n<!-- f75e852e&#45;49c2&#45;4282&#45;bcbc&#45;d8a43780c8b4&#45;&gt;519e9306&#45;6d1a&#45;4a21&#45;b666&#45;faae319c63a4 -->\n<g id=\"edge5\" class=\"edge\">\n<title>f75e852e-49c2-4282-bcbc-d8a43780c8b4-&gt;519e9306-6d1a-4a21-b666-faae319c63a4</title>\n<path fill=\"none\" stroke=\"#ff0000\" stroke-width=\"2\" d=\"M259.3,-342.04C252.98,-351.06 246.45,-360.39 240.11,-369.45\"/>\n<polygon fill=\"#ff0000\" stroke=\"#ff0000\" stroke-width=\"2\" points=\"237.21,-367.48 234.34,-377.68 242.95,-371.5 237.21,-367.48\"/>\n</g>\n<!-- 2947cead&#45;1a91&#45;4b32&#45;9ad3&#45;81a0836d6d7e -->\n<g id=\"node8\" class=\"node\">\n<title>2947cead-1a91-4b32-9ad3-81a0836d6d7e</title>\n<g id=\"a_node8\"><a xlink:title=\"The seeds were patented.\">\n<path fill=\"lightblue\" stroke=\"transparent\" d=\"M237.5,-6C237.5,-6 364.5,-6 364.5,-6 370.5,-6 376.5,-12 376.5,-18 376.5,-18 376.5,-38 376.5,-38 376.5,-44 370.5,-50 364.5,-50 364.5,-50 237.5,-50 237.5,-50 231.5,-50 225.5,-44 225.5,-38 225.5,-38 225.5,-18 225.5,-18 225.5,-12 231.5,-6 237.5,-6\"/>\n<text text-anchor=\"start\" x=\"256\" y=\"-35.4\" font-family=\"Arial, Helvetica, sans-serif\" font-weight=\"bold\" font-size=\"12.00\">Nature of seeds</text>\n<text text-anchor=\"start\" x=\"232\" y=\"-15.4\" font-family=\"Arial, Helvetica, sans-serif\" font-size=\"12.00\">The seeds were patented.</text>\n<path fill=\"none\" stroke=\"lightblue\" stroke-width=\"4\" d=\"M237.5,-6C237.5,-6 364.5,-6 364.5,-6 370.5,-6 376.5,-12 376.5,-18 376.5,-18 376.5,-38 376.5,-38 376.5,-44 370.5,-50 364.5,-50 364.5,-50 237.5,-50 237.5,-50 231.5,-50 225.5,-44 225.5,-38 225.5,-38 225.5,-18 225.5,-18 225.5,-12 231.5,-6 237.5,-6\"/>\n</a>\n</g>\n</g>\n<!-- 2947cead&#45;1a91&#45;4b32&#45;9ad3&#45;81a0836d6d7e&#45;&gt;e13ffc42&#45;0733&#45;495b&#45;a78d&#45;34bc8ff01d0e -->\n<g id=\"edge6\" class=\"edge\">\n<title>2947cead-1a91-4b32-9ad3-81a0836d6d7e-&gt;e13ffc42-0733-495b-a78d-34bc8ff01d0e</title>\n<path fill=\"none\" stroke=\"#006400\" stroke-width=\"2\" d=\"M301,-56.1C301,-63.94 301,-72.81 301,-81.73\"/>\n<polygon fill=\"#006400\" stroke=\"#006400\" stroke-width=\"2\" points=\"297.5,-81.77 301,-91.77 304.5,-81.77 297.5,-81.77\"/>\n</g>\n</g>\n</svg>"
          },
          "metadata": {}
        }
      ],
      "source": [
        "# Render argument map (and other generated artifacts)\n",
        "from IPython.display import display, Markdown\n",
        "\n",
        "example_idx = 0\n",
        "\n",
        "for artifact_id in config_dict.get(\"artifacts\",[]):\n",
        "    display(Markdown(f\"## {artifact_id}\"))\n",
        "    data = df_scores.iloc[example_idx].get(artifact_id)\n",
        "    r = render_artifact(artifact_id, data)\n",
        "    if isinstance(r, tuple):\n",
        "        display(*r)\n",
        "    else:\n",
        "        display(r)\n",
        "\n"
      ]
    },
    {
      "cell_type": "markdown",
      "source": [
        "## Part III – Fact-checking the Legal AI with **Logikon `/\\/`** argument maps<a name=\"part-c\"></a>"
      ],
      "metadata": {
        "id": "opS64wQZXiqM"
      }
    },
    {
      "cell_type": "code",
      "source": [
        "# LLM serving as AI fact checker\n",
        "import os\n",
        "from huggingface_hub import InferenceClient\n",
        "\n",
        "factchecker_ai = InferenceClient(\n",
        "    \"mistralai/Mistral-7B-Instruct-v0.1\",\n",
        "    token=os.environ.get(\"HUGGINGFACEHUB_API_TOKEN\"),\n",
        ")\n",
        "factchecker_gen_kwargs = {\n",
        "    \"details\": True,\n",
        "    \"max_new_tokens\": 3,\n",
        "    \"temperature\":.3,\n",
        "    \"do_sample\": True,\n",
        "}"
      ],
      "metadata": {
        "id": "LnY9apIDZRol"
      },
      "execution_count": 23,
      "outputs": []
    },
    {
      "cell_type": "code",
      "source": [
        "# our reference corpus is a single text: simply an excerpt from the Supreme Court's decision\n",
        "reference_text = \"\"\"\n",
        "SUPREME COURT OF THE UNITED STATES\n",
        "No. 11-796\n",
        "VERNON HUGH BOWMAN, PETITIONER v.\n",
        "MONSANTO COMPANY ET AL.\n",
        "\n",
        "[...]\n",
        "\n",
        "Respondent Monsanto invented a genetic modification that enables soybean plants to survive exposure to glyphosate, the active ingredient in many herbicides (including Monsanto’s own Roundup). Monsanto markets soybean seed containing this altered genetic material as Roundup Ready seed. Farmers planting that seed can use a glyphosate- based herbicide to kill weeds without damaging their crops. Two patents issued to Monsanto cover various aspects of its Roundup Ready technology, including a seed in- corporating the genetic alteration. See Supp. App. SA1–21 (U. S. Patent Nos. 5,352,605 and RE39,247E); see also 657 F. 3d 1341, 1343–1344 (CA Fed. 2011).\n",
        "\n",
        "Monsanto sells, and allows other companies to sell, Roundup Ready soybean seeds to growers who assent to a special licensing agreement. See App. 27a. That agreement permits a grower to plant the purchased seeds in one (and only one) season. He can then consume the resulting crop or sell it as a commodity, usually to a grain elevator or agricultural processor. See 657 F. 3d, at 1344–1345. But under the agreement, the farmer may not save any of the harvested soybeans for replanting, nor may he supply them to anyone else for that purpose. These restrictions reflect the ease of producing new generations of Roundup Ready seed. Because glyphosate resistance comes from the seed’s genetic material, that trait is passed on from the planted seed to the harvested soybeans: Indeed, a single Roundup Ready seed can grow a plant containing dozens of genetically identical beans, each of which, if replanted, can grow another such plant—and so on and so on. See App. 100a. The agreement’s terms prevent the farmer from co-opting that process to produce his own Roundup Ready seeds, forcing him instead to buy from Monsanto each season.\n",
        "\n",
        "Petitioner Vernon Bowman is a farmer in Indiana who, it is fair to say, appreciates Roundup Ready soybean seed. He purchased Roundup Ready each year, from a company affiliated with Monsanto, for his first crop of the season. In accord with the agreement just described, he used all of that seed for planting, and sold his entire crop to a grain elevator (which typically would resell it to an agricultural processor for human or animal consumption).\n",
        "\n",
        "Bowman, however, devised a less orthodox approach for his second crop of each season. Because he thought such late-season planting “risky,” he did not want to pay the premium price that Monsanto charges for Roundup Ready seed. He therefore went to a grain elevator; purchased “commodity soybeans” intended for human or animal consumption; and planted them in his fields.1 Those soybeans came from prior harvests of other local farmers. And because most of those farmers also used Roundup Ready seed, Bowman could anticipate that many of the purchased soybeans would contain Monsanto’s patented technology. When he applied a glyphosate-based herbicide to his fields, he confirmed that this was so; a significant proportion of the new plants survived the treatment, and produced in their turn a new crop of soybeans with the Roundup Ready trait. Bowman saved seed from that crop to use in his late-season planting the next year—and then the next, and the next, until he had harvested eight crops in that way. Each year, that is, he planted saved seed from the year before (sometimes adding more soybeans bought from the grain elevator), sprayed his fields with glyphosate to kill weeds (and any non-resistant plants), and produced a new crop of glyphosate- resistant—i.e., Roundup Ready—soybeans.\n",
        "\n",
        "After discovering this practice, Monsanto sued Bowman for infringing its patents on Roundup Ready seed. Bowman raised patent exhaustion as a defense, arguing that Monsanto could not control his use of the soybeans because they were the subject of a prior authorized sale (from local farmers to the grain elevator). The District Court rejected that argument, and awarded damages to Monsanto of $84,456. The Federal Circuit affirmed. It reasoned that patent exhaustion did not protect Bowman because he had “created a newly infringing article.” 657 F. 3d, at 1348. The “right to use” a patented article following an authorized sale, the court explained, “does not include the right to construct an essentially new article on the template of the original, for the right to make the article remains with the patentee.” Ibid. (brackets and internal quotation marks omitted). Accordingly, Bowman could not “‘replicate’ Monsanto’s patented technology by planting it in the ground to create newly infringing genetic material, seeds, and plants.” Ibid.\n",
        "\"\"\"\n",
        "from IPython.display import display, Markdown\n",
        "display(Markdown(reference_text))"
      ],
      "metadata": {
        "colab": {
          "base_uri": "https://localhost:8080/",
          "height": 655
        },
        "id": "XbkcBnLF3_5G",
        "outputId": "2a7bdb4f-1daa-41f0-b3f0-a56cc4f4a3f1"
      },
      "execution_count": 24,
      "outputs": [
        {
          "output_type": "display_data",
          "data": {
            "text/plain": [
              "<IPython.core.display.Markdown object>"
            ],
            "text/markdown": "\nSUPREME COURT OF THE UNITED STATES\nNo. 11-796\nVERNON HUGH BOWMAN, PETITIONER v.\nMONSANTO COMPANY ET AL.\n\n[...]\n\nRespondent Monsanto invented a genetic modification that enables soybean plants to survive exposure to glyphosate, the active ingredient in many herbicides (including Monsanto’s own Roundup). Monsanto markets soybean seed containing this altered genetic material as Roundup Ready seed. Farmers planting that seed can use a glyphosate- based herbicide to kill weeds without damaging their crops. Two patents issued to Monsanto cover various aspects of its Roundup Ready technology, including a seed in- corporating the genetic alteration. See Supp. App. SA1–21 (U. S. Patent Nos. 5,352,605 and RE39,247E); see also 657 F. 3d 1341, 1343–1344 (CA Fed. 2011).\n\nMonsanto sells, and allows other companies to sell, Roundup Ready soybean seeds to growers who assent to a special licensing agreement. See App. 27a. That agreement permits a grower to plant the purchased seeds in one (and only one) season. He can then consume the resulting crop or sell it as a commodity, usually to a grain elevator or agricultural processor. See 657 F. 3d, at 1344–1345. But under the agreement, the farmer may not save any of the harvested soybeans for replanting, nor may he supply them to anyone else for that purpose. These restrictions reflect the ease of producing new generations of Roundup Ready seed. Because glyphosate resistance comes from the seed’s genetic material, that trait is passed on from the planted seed to the harvested soybeans: Indeed, a single Roundup Ready seed can grow a plant containing dozens of genetically identical beans, each of which, if replanted, can grow another such plant—and so on and so on. See App. 100a. The agreement’s terms prevent the farmer from co-opting that process to produce his own Roundup Ready seeds, forcing him instead to buy from Monsanto each season.\n\nPetitioner Vernon Bowman is a farmer in Indiana who, it is fair to say, appreciates Roundup Ready soybean seed. He purchased Roundup Ready each year, from a company affiliated with Monsanto, for his first crop of the season. In accord with the agreement just described, he used all of that seed for planting, and sold his entire crop to a grain elevator (which typically would resell it to an agricultural processor for human or animal consumption).\n\nBowman, however, devised a less orthodox approach for his second crop of each season. Because he thought such late-season planting “risky,” he did not want to pay the premium price that Monsanto charges for Roundup Ready seed. He therefore went to a grain elevator; purchased “commodity soybeans” intended for human or animal consumption; and planted them in his fields.1 Those soybeans came from prior harvests of other local farmers. And because most of those farmers also used Roundup Ready seed, Bowman could anticipate that many of the purchased soybeans would contain Monsanto’s patented technology. When he applied a glyphosate-based herbicide to his fields, he confirmed that this was so; a significant proportion of the new plants survived the treatment, and produced in their turn a new crop of soybeans with the Roundup Ready trait. Bowman saved seed from that crop to use in his late-season planting the next year—and then the next, and the next, until he had harvested eight crops in that way. Each year, that is, he planted saved seed from the year before (sometimes adding more soybeans bought from the grain elevator), sprayed his fields with glyphosate to kill weeds (and any non-resistant plants), and produced a new crop of glyphosate- resistant—i.e., Roundup Ready—soybeans.\n\nAfter discovering this practice, Monsanto sued Bowman for infringing its patents on Roundup Ready seed. Bowman raised patent exhaustion as a defense, arguing that Monsanto could not control his use of the soybeans because they were the subject of a prior authorized sale (from local farmers to the grain elevator). The District Court rejected that argument, and awarded damages to Monsanto of $84,456. The Federal Circuit affirmed. It reasoned that patent exhaustion did not protect Bowman because he had “created a newly infringing article.” 657 F. 3d, at 1348. The “right to use” a patented article following an authorized sale, the court explained, “does not include the right to construct an essentially new article on the template of the original, for the right to make the article remains with the patentee.” Ibid. (brackets and internal quotation marks omitted). Accordingly, Bowman could not “‘replicate’ Monsanto’s patented technology by planting it in the ground to create newly infringing genetic material, seeds, and plants.” Ibid.\n"
          },
          "metadata": {}
        }
      ]
    },
    {
      "cell_type": "code",
      "source": [
        "prompt_factchecking= (\n",
        "    '<s>[INST] '\n",
        "    'Assignment: Determine whether a claim is asserted or implied by a reference text.\\n'\n",
        "    'Read the following reference text carefully:\\n'\n",
        "    '<text>\\n{text}\\n</text>'\n",
        "    'You are supposed to judge whether the reference text contains (states or implies) '\n",
        "    'the following claim:\\n'\n",
        "    '<claim>\\n{claim}\\n</claim>'\n",
        "    'Now, re-read the text carefully, and check whether the claim is true according to '\n",
        "    'the text.\\n'\n",
        "    'Does the text assert or imply the claim?\\n'\n",
        "    '(A) The text implies that the claim is true.'\n",
        "    '(B) The text does not imply that the claim is true.'\n",
        "    'Just answer with \"A\" or \"B\", you\\'ll have the opportunity to explain '\n",
        "    'your answer later.'\n",
        "    '[/INST]\\n'\n",
        ")"
      ],
      "metadata": {
        "id": "2kUa3-fzZRol"
      },
      "execution_count": 25,
      "outputs": []
    },
    {
      "cell_type": "code",
      "source": [
        "# monte-carlo inference to estimate confidence levels\n",
        "def factual_accuracy(claim, N=9):\n",
        "    \"\"\"factchecker_ai's confidence in claim being implied by reference_text\"\"\"\n",
        "    completions = []\n",
        "    for i in range(N):\n",
        "        completion = factchecker_ai.text_generation(\n",
        "            prompt_factchecking.format(\n",
        "                text=reference_text,\n",
        "                claim=claim,\n",
        "            ),\n",
        "            seed=i,\n",
        "            **factchecker_gen_kwargs,\n",
        "        )\n",
        "        completions.append(completion)\n",
        "    token_texts = [\n",
        "        [t.text for t in c.details.tokens]\n",
        "        for c in completions\n",
        "    ]\n",
        "    count_asserted = sum(('A' in tts) for tts in token_texts)\n",
        "    return count_asserted/N"
      ],
      "metadata": {
        "id": "qlcSscyqZRol"
      },
      "execution_count": 26,
      "outputs": []
    },
    {
      "cell_type": "code",
      "source": [
        "import pandas as pd\n",
        "\n",
        "# get reconstructed argument map\n",
        "argmap = df_scores.iloc[0].get(\"fuzzy_argmap_nx\")\n",
        "\n",
        "# score factual accuracy of each reason claim in argmap\n",
        "hallucination_data = []\n",
        "for node in argmap[\"nodes\"]:\n",
        "  if node.get(\"node_type\") == \"reason\":\n",
        "    text = node.get(\"text\")\n",
        "    factivity_score = factual_accuracy(text) if text else None\n",
        "    hallucination_data.append({\n",
        "        \"label\": node.get(\"label\"),\n",
        "        \"text\": text,\n",
        "        \"factual_accuracy\": factivity_score,\n",
        "    })\n",
        "df_factivity = pd.DataFrame(hallucination_data)"
      ],
      "metadata": {
        "id": "dVHKLG-r-6jf"
      },
      "execution_count": 27,
      "outputs": []
    },
    {
      "cell_type": "code",
      "source": [
        "# plot factual accuracy of reason claims\n",
        "import matplotlib.pyplot as plt\n",
        "\n",
        "cmap = plt.get_cmap(\"plasma_r\")\n",
        "\n",
        "fig, ax = plt.subplots()\n",
        "ax.barh(width=\"factual_accuracy\", y=\"label\", data=df_factivity, color=cmap(df_factivity.factual_accuracy.values))\n",
        "ax.set_xlim(0,1)\n",
        "ax.set_xlabel(\"Factual Accuray\\n (confidence that claim is implied by reference text)\")\n",
        "plt.show()\n"
      ],
      "metadata": {
        "colab": {
          "base_uri": "https://localhost:8080/",
          "height": 466
        },
        "id": "ec4I2Bg-ENc4",
        "outputId": "949728fe-23c0-49dd-bb20-6bd78a36afa6"
      },
      "execution_count": 28,
      "outputs": [
        {
          "output_type": "display_data",
          "data": {
            "text/plain": [
              "<Figure size 640x480 with 1 Axes>"
            ],
            "image/png": "[encoded data removed]"
          },
          "metadata": {}
        }
      ]
    },
    {
      "cell_type": "markdown",
      "metadata": {
        "id": "9LZfAmj2YtHS"
      },
      "source": [
        "****\n",
        "\n",
        "(c) 2023 The Logikon AI Team | License: Apache 2.0"
      ]
    }
  ],
  "metadata": {
    "colab": {
      "provenance": [],
      "gpuType": "T4",
      "include_colab_link": true
    },
    "kernelspec": {
      "display_name": "Python 3",
      "name": "python3"
    },
    "language_info": {
      "codemirror_mode": {
        "name": "ipython",
        "version": 3
      },
      "file_extension": ".py",
      "mimetype": "text/x-python",
      "name": "python",
      "nbconvert_exporter": "python",
      "pygments_lexer": "ipython3",
      "version": "3.10.12"
    },
    "accelerator": "GPU"
  },
  "nbformat": 4,
  "nbformat_minor": 0
}