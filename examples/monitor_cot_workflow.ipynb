{
  "cells": [
    {
      "cell_type": "markdown",
      "metadata": {
        "id": "view-in-github",
        "colab_type": "text"
      },
      "source": [
        "<a href=\"https://colab.research.google.com/github/logikon-ai/logikon/blob/main/examples/monitor_cot_workflow.ipynb\" target=\"_parent\"><img src=\"https://colab.research.google.com/assets/colab-badge.svg\" alt=\"Open In Colab\"/></a>"
      ]
    },
    {
      "cell_type": "markdown",
      "metadata": {
        "id": "13hfBALnYtHL"
      },
      "source": [
        "# Guide for Monitoring Chain-of-Thought Apps (#1)\n",
        "\n",
        "**Logikon `/\\/`** – *Analyzing and Evaluating LLM Reasoning Traces*"
      ]
    },
    {
      "cell_type": "markdown",
      "metadata": {
        "id": "TUzKTbJtYtHM"
      },
      "source": [
        "This notebook showcases the reasoning **metrics** and artifacts that can be generated with the `logikon` python library.\n",
        "\n",
        "We're using 🤗's lightweight `zephyr-7b-beta` as **expert model** in this demo for its speed and small footprint. It tends to produce argumentative analyses that are creative and eloquent, rather than rigorous and exact -- and may hence not be the optimal expert model for your use cases."
      ]
    },
    {
      "cell_type": "markdown",
      "metadata": {
        "id": "apPN-0GVYtHN"
      },
      "source": [
        "> ⚠️ **Important notice.**\n",
        ">\n",
        "> **Logikon `/\\/`** is in early development stage:\n",
        "> * the package is subject to change at any time;\n",
        "> * results can vary due to changes in methods, pipelines, or underlying models;\n",
        "> * current speed and quality of evaluation results are not representative of future product.\n"
      ]
    },
    {
      "cell_type": "markdown",
      "source": [
        "**Table of contents**\n",
        "\n",
        "1. [Set-up](#set-up)\n",
        "2. [Collect metrics and artifacts](#collect)\n",
        "3. [Run analysis](#run)\n",
        "4. [Inspect results](#inspect)"
      ],
      "metadata": {
        "id": "PBHAr94lFgCD"
      }
    },
    {
      "cell_type": "markdown",
      "source": [
        "## An advanced LLM workflow with deliberative prompting"
      ],
      "metadata": {
        "id": "f3GgopJdTUQA"
      }
    },
    {
      "cell_type": "code",
      "source": [
        "%%capture\n",
        "%pip install huggingface_hub"
      ],
      "metadata": {
        "id": "PkME6I1STfoa"
      },
      "execution_count": 25,
      "outputs": []
    },
    {
      "cell_type": "code",
      "source": [
        "# products for which ad text will be written\n",
        "products = [\n",
        "    {\n",
        "        \"product\": \"QuantumGlow Lighting\",\n",
        "        \"productinfo\": (\n",
        "            \"QuantumGlow Lighting Products: High-tech, energy-efficient lighting solutions using \"\n",
        "            \"quantum technology for improved brightness and longevity.\\n\"\n",
        "            \"1. Quantum Efficiency:\\n\"\n",
        "            \"* Harnesses quantum technology for unparalleled light emission efficiency.\\n\"\n",
        "            \"* Maximizes the conversion of electrical energy into visible light, minimizing energy waste.\\n\"\n",
        "            \"2. Extended Lifespan:\\n\"\n",
        "            \"* Prolonged operational life compared to traditional lighting sources.\\n\"\n",
        "            \"* Reduced frequency of replacements, minimizing maintenance costs.\\n\"\n",
        "            \"3. Dynamic Brightness Control:\\n\"\n",
        "            \"* Adjustable brightness levels for customizable lighting experiences.\\n\"\n",
        "            \"* Smooth dimming capabilities without compromising efficiency.\\n\"\n",
        "            \"4. Environmental Sustainability:\\n\"\n",
        "            \"* Low environmental impact with energy-efficient design.\\n\"\n",
        "            \"* Supports eco-friendly initiatives by reducing overall energy consumption.\\n\"\n",
        "            \"5. Instant Illumination:\\n\"\n",
        "            \"* Instantaneous light output without warm-up time.\\n\"\n",
        "            \"* Ideal for applications requiring immediate brightness upon activation.\\n\"\n",
        "            \"6. Smart Integration:\\n\"\n",
        "            \"* Compatible with smart home systems for seamless automation.\\n\"\n",
        "            \"* Enables remote control and scheduling for enhanced convenience.\\n\"\n",
        "        ),\n",
        "    },\n",
        "]"
      ],
      "metadata": {
        "id": "DngJ_GZ0Brnk"
      },
      "execution_count": 27,
      "outputs": []
    },
    {
      "cell_type": "code",
      "source": [
        "# criteria used to assess alternative ad text drafts\n",
        "criteria = [\n",
        "    (\n",
        "      \"Include Your Product Name/Service. \"\n",
        "      \"Don’t keep your product or service a secret. Include it inside your headline, \"\n",
        "      \"an in your description. Make it super clear what you are offering.\"\n",
        "    ),\n",
        "    (\n",
        "      \"Include Your Call To Action. \"\n",
        "      \"Your Call To Action (CTA) is what you want users to do when they get to your website. \"\n",
        "      \"Things like schedule a consult, learn more today, contact us today, browse now, shop now, \"\n",
        "      \"etc. are all examples of a CTA.\"\n",
        "    ),\n",
        "    (\n",
        "      \"Use All Your Characters. \"\n",
        "      \"You get a limited amount of characters: 30 characters per headline and 90 characters per description. \"\n",
        "      \"Maximize every character and use abbreviations when possible to help save you some space.\"\n",
        "    ),\n",
        "    (\n",
        "      \"Be Clear. \"\n",
        "      \"Make sure your messaging stays clear and to the point. \"\n",
        "      \"If you find yourself trying to cover too many things in one ad, \"\n",
        "      \"it might be a sign that you need to make another ad group.\"\n",
        "    )\n",
        "\n",
        "]"
      ],
      "metadata": {
        "id": "WcKAJl-uHFX1"
      },
      "execution_count": 29,
      "outputs": []
    },
    {
      "cell_type": "code",
      "source": [
        "# prompt template #1\n",
        "# to elicit ad text\n",
        "# standard generative prompt\n",
        "draft_prompt = (\n",
        "  \"<s>[INST] \"\n",
        "  \"*Assignment: Write a Google Ad Text for {product}*\\n\\n\"\n",
        "  \"Billion Google Searches Are Made Each Day People are searching for things all the time, \"\n",
        "  \"all day long. Some of them are searching for our product. Advertising on Google is a \"\n",
        "  \"great way to create brand awareness and generate new business. However, with lots of \"\n",
        "  \"competition, you need to make sure your ads will stand out and get you the clicks you \"\n",
        "  \"deserve.\\n\\n\"\n",
        "  \"Can you please help us in writing a first-class ad text for our product {product}?\\n\\n\"\n",
        "  \"Please take into account the following product info:\\n\\n\"\n",
        "  \"~~~\\n\"\n",
        "  \"{productinfo}\"\n",
        "  \"~~~\\n\"\n",
        "  \"Write a Google ad for {product}. \"\n",
        "  \"More specifically, provide a title (max 30 characters) and a description (max 90 characters). \"\n",
        "  \"Provide title and description in a separate line each.\"\n",
        "  \"[/INST]\\n\"\n",
        ")"
      ],
      "metadata": {
        "id": "ZM8A69Qx-yN-"
      },
      "execution_count": 26,
      "outputs": []
    },
    {
      "cell_type": "code",
      "source": [
        "# prompt template #2\n",
        "# to elicit evaluation of alternative drafts\n",
        "# deliberative prompt\n",
        "eval_prompt = (\n",
        "  \"<s>[INST] \"\n",
        "  \"*Assignment: Assess pros and cons of two alternative ad texts*\\n\\n\"\n",
        "  \"We are going to advertize our product {product} with Google. \"\n",
        "  \"My colleagues Jennifer and Catherine have written two alternative ad texts. I have to pick the best one. \"\n",
        "  \"Please help me in doing so by comparing and assessing the two alternative ad texts for {product}.\\n\"\n",
        "  \"Here is some background info about the product to-be advertized:\\n\"\n",
        "  \"<productinfo>\\n\"\n",
        "  \"{productinfo}\"\n",
        "  \"</productinfo>\\n\"\n",
        "  \"Assess and compare the two alternatives drafted by Jennifer and Catherine (below) with regard to the following criteria.\\n\"\n",
        "  \"<criteria>\\n\"\n",
        "  \"{criteria}\"\n",
        "  \"</criteria>\\n\"\n",
        "  \"The alternative Google ad texts you're supposed to assess are \"\n",
        "  \"(title and description are provided in separate lines):\\n\"\n",
        "  \"<alternatives>\\n\"\n",
        "  \"# Jennifer's ad\\n\"\n",
        "  \"{ad_a}\\n\"\n",
        "  \"# Catherine's ad\\n\"\n",
        "  \"{ad_b}\\n\"\n",
        "  \"</alternatives>\\n\"\n",
        "  \"Compare the alternatives by gathering the diverse pros and cons that speak for / against using \"\n",
        "  \"Jennifer's or Catherine's text.\"\n",
        "  \"[/INST]\\n\"\n",
        ")"
      ],
      "metadata": {
        "id": "tjkXty97PZZq"
      },
      "execution_count": 143,
      "outputs": []
    },
    {
      "cell_type": "code",
      "source": [
        "# prompt template #3\n",
        "# to elicit choice of best draft\n",
        "# decision prompt\n",
        "decision_prompt = (\n",
        "  \"<s>[INST] \"\n",
        "  \"*Assignment: Pick best ad text given pros and cons*\\n\\n\"\n",
        "  \"Jennifer and Catherine have written alternative ad texts. \"\n",
        "  \"Here are the pros and cons to be considered when choosing which text to use:\\n\"\n",
        "  \"<reasoning>\\n\"\n",
        "  \"{reasoning}\"\n",
        "  \"</reasoning>\\n\"\n",
        "  \"Given this reasoning, which is, all in all, the better alternative?\\n\"\n",
        "  \"(A) Jennifer's text\\n\"\n",
        "  \"(B) Catherine's text\\n\"\n",
        "  \"Just answer with 'A' or 'B': \"\n",
        "  \"[/INST]\\n\"\n",
        ")"
      ],
      "metadata": {
        "id": "xJVAR4t_cG2S"
      },
      "execution_count": 144,
      "outputs": []
    },
    {
      "cell_type": "code",
      "source": [
        "# util function for postprocessing ad texts\n",
        "def postprocess_adtext(adtext):\n",
        "  lines = []\n",
        "  for line in adtext.strip(\"\\n \").split(\"\\n\"):\n",
        "    l = line.strip(\"\\n \")\n",
        "    if l:\n",
        "      lines.append(f\"{l} [len={len(l)} chars]\")\n",
        "    if len(lines) >= 2:\n",
        "      break\n",
        "  return \"\\n\".join(lines)"
      ],
      "metadata": {
        "id": "NCAQSRZsYuzp"
      },
      "execution_count": 49,
      "outputs": []
    },
    {
      "cell_type": "code",
      "source": [
        "from huggingface_hub import InferenceClient\n",
        "\n",
        "client = InferenceClient(\n",
        "    \"mistralai/Mistral-7B-Instruct-v0.1\"\n",
        ")"
      ],
      "metadata": {
        "id": "evUQ9hjQTMdE"
      },
      "execution_count": 98,
      "outputs": []
    },
    {
      "cell_type": "code",
      "source": [
        "# inputs and config of our LLM app\n",
        "product = products[0]\n",
        "logs = []\n",
        "temp_a = .7\n",
        "temp_b = 1.1\n",
        "assert temp_a != temp_b"
      ],
      "metadata": {
        "id": "c3t_YKMAgVHL"
      },
      "execution_count": 122,
      "outputs": []
    },
    {
      "cell_type": "code",
      "source": [
        "prompt = draft_prompt.format(**product)\n",
        "print(prompt)"
      ],
      "metadata": {
        "colab": {
          "base_uri": "https://localhost:8080/"
        },
        "id": "ncXKHtPrEO3K",
        "outputId": "82f4110c-f86e-4518-e899-8d4684b5b5e1"
      },
      "execution_count": 123,
      "outputs": [
        {
          "output_type": "stream",
          "name": "stdout",
          "text": [
            "<s>[INST] *Assignment: Write a Google Ad Text for QuantumGlow Lighting*\n",
            "\n",
            "Billion Google Searches Are Made Each Day People are searching for things all the time, all day long. Some of them are searching for our product. Advertising on Google is a great way to create brand awareness and generate new business. However, with lots of competition, you need to make sure your ads will stand out and get you the clicks you deserve.\n",
            "\n",
            "Can you please help us in writing a first-class ad text for our product QuantumGlow Lighting?\n",
            "\n",
            "Please take into account the following product info:\n",
            "\n",
            "~~~\n",
            "QuantumGlow Lighting Products: High-tech, energy-efficient lighting solutions using quantum technology for improved brightness and longevity.\n",
            "1. Quantum Efficiency:\n",
            "* Harnesses quantum technology for unparalleled light emission efficiency.\n",
            "* Maximizes the conversion of electrical energy into visible light, minimizing energy waste.\n",
            "2. Extended Lifespan:\n",
            "* Prolonged operational life compared to traditional lighting sources.\n",
            "* Reduced frequency of replacements, minimizing maintenance costs.\n",
            "3. Dynamic Brightness Control:\n",
            "* Adjustable brightness levels for customizable lighting experiences.\n",
            "* Smooth dimming capabilities without compromising efficiency.\n",
            "4. Environmental Sustainability:\n",
            "* Low environmental impact with energy-efficient design.\n",
            "* Supports eco-friendly initiatives by reducing overall energy consumption.\n",
            "5. Instant Illumination:\n",
            "* Instantaneous light output without warm-up time.\n",
            "* Ideal for applications requiring immediate brightness upon activation.\n",
            "6. Smart Integration:\n",
            "* Compatible with smart home systems for seamless automation.\n",
            "* Enables remote control and scheduling for enhanced convenience.\n",
            "~~~\n",
            "Write a Google ad for QuantumGlow Lighting. More specifically, provide a title (max 30 characters) and a description (max 90 characters). Provide title and description in a separate line each.[/INST]\n",
            "\n"
          ]
        }
      ]
    },
    {
      "cell_type": "code",
      "source": [
        "prompt = draft_prompt.format(**products[0])\n",
        "\n",
        "text_a = client.text_generation(prompt, max_new_tokens=120, temperature=temp_a, do_sample=True, seed=42)\n",
        "text_b = client.text_generation(prompt, max_new_tokens=120, temperature=temp_b, do_sample=True, seed=42)\n",
        "\n",
        "text_a = postprocess_adtext(text_a)\n",
        "text_b = postprocess_adtext(text_b)\n",
        "\n",
        "logs.append({\n",
        "    \"id\": \"step_1\",\n",
        "    \"prompt\": prompt,\n",
        "    \"completion\": [text_a, text_b]\n",
        "})\n",
        "\n",
        "print(f\"\"\"\n",
        "# Ad Text A\n",
        "{text_a}\n",
        "\n",
        "# Ad Text B\n",
        "{text_b}\n",
        "\"\"\")"
      ],
      "metadata": {
        "colab": {
          "base_uri": "https://localhost:8080/"
        },
        "id": "IDvsaUhYYOSp",
        "outputId": "07955bf3-37a5-4c7d-d609-56a44beb62ac"
      },
      "execution_count": 124,
      "outputs": [
        {
          "output_type": "stream",
          "name": "stdout",
          "text": [
            "\n",
            "# Ad Text A\n",
            "Title: QuantumGlow Lighting - High-Tech, Energy-Efficient Lighting Solutions [len=76 chars]\n",
            "Description: Maximize energy efficiency, reduce maintenance costs, and achieve instant illumination with QuantumGlow Lighting. Compatible with smart home systems for seamless automation. [len=186 chars]\n",
            "      \n",
            "# Ad Text B\n",
            "Title: \"QuantumGlow Lighting: Born From Quantum Physics\" [len=56 chars]\n",
            "Description: \"Get the perfect blend of brilliance and efficiency with QuantumGlow lighting. Harnessing quantum technology, these products provide maximum brightness and energy-efficiency, setting a new standard in lighting solutions. Enjoy dynamic brightness control, extended lifespan, and seamless smart integration with our eco-friendly lighting series.\" [len=357 chars]\n",
            "\n"
          ]
        }
      ]
    },
    {
      "cell_type": "code",
      "source": [
        "prompt = eval_prompt.format(\n",
        "    ad_a=text_a,\n",
        "    ad_b=text_b,\n",
        "    criteria=\"\".join([f\"* {c}\\n\" for c in criteria]),\n",
        "    **products[0]\n",
        ")\n",
        "print(prompt)"
      ],
      "metadata": {
        "colab": {
          "base_uri": "https://localhost:8080/"
        },
        "id": "Kgg9a7neT-ea",
        "outputId": "472a43c4-5e34-4f32-bb4e-90546b0f23a1"
      },
      "execution_count": 125,
      "outputs": [
        {
          "output_type": "stream",
          "name": "stdout",
          "text": [
            "<s>[INST] *Assignment: Assess pros and cons of two alternative ad texts*\n",
            "\n",
            "We going to advertize our product QuantumGlow Lighting in Google. My colleagues Jennifer and Catherine have written two alternative ad texts. I have to pick the best one. Please help me in doing so by comparing and assessing the two alternative ad texts for QuantumGlow Lighting.\n",
            "Here is some background info about the product to-be advertized:\n",
            "<productinfo>\n",
            "QuantumGlow Lighting Products: High-tech, energy-efficient lighting solutions using quantum technology for improved brightness and longevity.\n",
            "1. Quantum Efficiency:\n",
            "* Harnesses quantum technology for unparalleled light emission efficiency.\n",
            "* Maximizes the conversion of electrical energy into visible light, minimizing energy waste.\n",
            "2. Extended Lifespan:\n",
            "* Prolonged operational life compared to traditional lighting sources.\n",
            "* Reduced frequency of replacements, minimizing maintenance costs.\n",
            "3. Dynamic Brightness Control:\n",
            "* Adjustable brightness levels for customizable lighting experiences.\n",
            "* Smooth dimming capabilities without compromising efficiency.\n",
            "4. Environmental Sustainability:\n",
            "* Low environmental impact with energy-efficient design.\n",
            "* Supports eco-friendly initiatives by reducing overall energy consumption.\n",
            "5. Instant Illumination:\n",
            "* Instantaneous light output without warm-up time.\n",
            "* Ideal for applications requiring immediate brightness upon activation.\n",
            "6. Smart Integration:\n",
            "* Compatible with smart home systems for seamless automation.\n",
            "* Enables remote control and scheduling for enhanced convenience.\n",
            "</productinfo>\n",
            "Assess and compare the two alternatives drafted by Jennifer and Catherine (below) with regard to the following criteria.\n",
            "<criteria>\n",
            "* Include Your Product Name/Service. Don’t keep your product or service a secret. Include it inside your headline, an in your description. Make it super clear what you are offering.\n",
            "* Include Your Call To Action. Your Call To Action (CTA) is what you want users to do when they get to your website. Things like schedule a consult, learn more today, contact us today, browse now, shop now, etc. are all examples of a CTA.\n",
            "* Use All Your Characters. You get a limited amount of characters: 30 characters per headline and 90 characters per description. Maximize every character and use abbreviations when possible to help save you some space.\n",
            "* Be Clear. Make sure your messaging stays clear and to the point. If you find yourself trying to cover too many things in one ad, it might be a sign that you need to make another ad group.\n",
            "</criteria>\n",
            "The alternative Google ad texts you're supposed to assess are (title and description are provided in separate lines):\n",
            "<alternatives>\n",
            "# Jennifer's ad\n",
            "Title: QuantumGlow Lighting - High-Tech, Energy-Efficient Lighting Solutions [len=76 chars]\n",
            "Description: Maximize energy efficiency, reduce maintenance costs, and achieve instant illumination with QuantumGlow Lighting. Compatible with smart home systems for seamless automation. [len=186 chars]\n",
            "# Catherine's ad\n",
            "Title: \"QuantumGlow Lighting: Born From Quantum Physics\" [len=56 chars]\n",
            "Description: \"Get the perfect blend of brilliance and efficiency with QuantumGlow lighting. Harnessing quantum technology, these products provide maximum brightness and energy-efficiency, setting a new standard in lighting solutions. Enjoy dynamic brightness control, extended lifespan, and seamless smart integration with our eco-friendly lighting series.\" [len=357 chars]\n",
            "</alternatives>\n",
            "Compare the alternatives by gathering the diverse pros and cons that speak for / against using Jennifer's or Catherine's text.[/INST]\n",
            "\n"
          ]
        }
      ]
    },
    {
      "cell_type": "code",
      "source": [
        "reasoning = client.text_generation(prompt, max_new_tokens=320, temperature=.4, do_sample=True, seed=42)\n",
        "\n",
        "logs.append({\n",
        "    \"id\": \"step_2\",\n",
        "    \"prompt\": prompt,\n",
        "    \"completion\": reasoning,\n",
        "    \"reasoning\": True,\n",
        "})\n",
        "\n",
        "\n",
        "print(reasoning)\n"
      ],
      "metadata": {
        "colab": {
          "base_uri": "https://localhost:8080/"
        },
        "id": "wIYbal1AXYTr",
        "outputId": "ab644ecb-f238-47bc-8351-d2e640354c6e"
      },
      "execution_count": 126,
      "outputs": [
        {
          "output_type": "stream",
          "name": "stdout",
          "text": [
            "Jennifer's ad:\n",
            "Pros:\n",
            "- Clear and concise messaging that highlights the key benefits of QuantumGlow Lighting.\n",
            "- Effective use of space, with a headline that includes the product name and a description that covers the main features.\n",
            "- Includes a clear call to action that encourages users to learn more about the product.\n",
            "Cons:\n",
            "- Does not provide any information about the technology behind QuantumGlow Lighting.\n",
            "- Does not emphasize the eco-friendly aspect of the product.\n",
            "Catherine's ad:\n",
            "Pros:\n",
            "- Provides a more detailed description of the technology behind QuantumGlow Lighting, which could be useful for users who are interested in the science behind the product.\n",
            "- Emphasizes the eco-friendly aspect of the product, which could be appealing to users who prioritize sustainability.\n",
            "- Includes a clear call to action that encourages users to enjoy the benefits of QuantumGlow Lighting.\n",
            "Cons:\n",
            "- May be too technical for some users who are not familiar with quantum physics.\n",
            "- The headline does not include the product name, which could make it less clear what the ad is promoting.\n",
            "- The description is quite long, which could limit its effectiveness if users do not have the time to read the whole thing.\n"
          ]
        }
      ]
    },
    {
      "cell_type": "code",
      "source": [
        "prompt = decision_prompt.format(\n",
        "    reasoning=reasoning,\n",
        ")\n",
        "print(prompt)"
      ],
      "metadata": {
        "colab": {
          "base_uri": "https://localhost:8080/"
        },
        "id": "JIDUJ2VDXgEy",
        "outputId": "4c575c6d-0e58-44fa-ecc2-4bd150d34c28"
      },
      "execution_count": 127,
      "outputs": [
        {
          "output_type": "stream",
          "name": "stdout",
          "text": [
            "<s>[INST] *Assignment: Pick best ad text given pros and cons*\n",
            "\n",
            "Jennifer and Catherine have written alternative ad texts. Here are the pros and cons to be considered when choosing which text to use:\n",
            "<reasoning>\n",
            "Jennifer's ad:\n",
            "Pros:\n",
            "- Clear and concise messaging that highlights the key benefits of QuantumGlow Lighting.\n",
            "- Effective use of space, with a headline that includes the product name and a description that covers the main features.\n",
            "- Includes a clear call to action that encourages users to learn more about the product.\n",
            "Cons:\n",
            "- Does not provide any information about the technology behind QuantumGlow Lighting.\n",
            "- Does not emphasize the eco-friendly aspect of the product.\n",
            "Catherine's ad:\n",
            "Pros:\n",
            "- Provides a more detailed description of the technology behind QuantumGlow Lighting, which could be useful for users who are interested in the science behind the product.\n",
            "- Emphasizes the eco-friendly aspect of the product, which could be appealing to users who prioritize sustainability.\n",
            "- Includes a clear call to action that encourages users to enjoy the benefits of QuantumGlow Lighting.\n",
            "Cons:\n",
            "- May be too technical for some users who are not familiar with quantum physics.\n",
            "- The headline does not include the product name, which could make it less clear what the ad is promoting.\n",
            "- The description is quite long, which could limit its effectiveness if users do not have the time to read the whole thing.</reasoning>\n",
            "Given this reasoning, which is, all in all, the better alternative?\n",
            "(A) Jennifer's text\n",
            "(B) Catherine's text\n",
            "Just answer with 'A' or 'B': [/INST]\n",
            "\n"
          ]
        }
      ]
    },
    {
      "cell_type": "code",
      "source": [
        "decision = client.text_generation(prompt, stop_sequences=[\"A\", \"B\"], max_new_tokens=16)\n",
        "logs.append({\n",
        "    \"id\": \"step_3\",\n",
        "    \"prompt\": prompt,\n",
        "    \"completion\": decision\n",
        "})\n",
        "print(decision)"
      ],
      "metadata": {
        "colab": {
          "base_uri": "https://localhost:8080/"
        },
        "id": "SbCayK_qdnNT",
        "outputId": "d8abf892-52bd-48c6-982d-59d18fbc14af"
      },
      "execution_count": 128,
      "outputs": [
        {
          "output_type": "stream",
          "name": "stdout",
          "text": [
            "B\n"
          ]
        }
      ]
    },
    {
      "cell_type": "code",
      "source": [
        "import pprint\n",
        "pprint.pprint(logs)"
      ],
      "metadata": {
        "colab": {
          "base_uri": "https://localhost:8080/"
        },
        "id": "ef7zpYXQoK6C",
        "outputId": "76594024-d2b5-46d2-f025-005fddad35d9"
      },
      "execution_count": 129,
      "outputs": [
        {
          "output_type": "stream",
          "name": "stdout",
          "text": [
            "[{'completion': ['Title: QuantumGlow Lighting - High-Tech, Energy-Efficient '\n",
            "                 'Lighting Solutions [len=76 chars]\\n'\n",
            "                 'Description: Maximize energy efficiency, reduce maintenance '\n",
            "                 'costs, and achieve instant illumination with QuantumGlow '\n",
            "                 'Lighting. Compatible with smart home systems for seamless '\n",
            "                 'automation. [len=186 chars]',\n",
            "                 'Title: \"QuantumGlow Lighting: Born From Quantum Physics\" '\n",
            "                 '[len=56 chars]\\n'\n",
            "                 'Description: \"Get the perfect blend of brilliance and '\n",
            "                 'efficiency with QuantumGlow lighting. Harnessing quantum '\n",
            "                 'technology, these products provide maximum brightness and '\n",
            "                 'energy-efficiency, setting a new standard in lighting '\n",
            "                 'solutions. Enjoy dynamic brightness control, extended '\n",
            "                 'lifespan, and seamless smart integration with our '\n",
            "                 'eco-friendly lighting series.\" [len=357 chars]'],\n",
            "  'id': 'step_1',\n",
            "  'prompt': '<s>[INST] *Assignment: Write a Google Ad Text for QuantumGlow '\n",
            "            'Lighting*\\n'\n",
            "            '\\n'\n",
            "            'Billion Google Searches Are Made Each Day People are searching '\n",
            "            'for things all the time, all day long. Some of them are searching '\n",
            "            'for our product. Advertising on Google is a great way to create '\n",
            "            'brand awareness and generate new business. However, with lots of '\n",
            "            'competition, you need to make sure your ads will stand out and '\n",
            "            'get you the clicks you deserve.\\n'\n",
            "            '\\n'\n",
            "            'Can you please help us in writing a first-class ad text for our '\n",
            "            'product QuantumGlow Lighting?\\n'\n",
            "            '\\n'\n",
            "            'Please take into account the following product info:\\n'\n",
            "            '\\n'\n",
            "            '~~~\\n'\n",
            "            'QuantumGlow Lighting Products: High-tech, energy-efficient '\n",
            "            'lighting solutions using quantum technology for improved '\n",
            "            'brightness and longevity.\\n'\n",
            "            '1. Quantum Efficiency:\\n'\n",
            "            '* Harnesses quantum technology for unparalleled light emission '\n",
            "            'efficiency.\\n'\n",
            "            '* Maximizes the conversion of electrical energy into visible '\n",
            "            'light, minimizing energy waste.\\n'\n",
            "            '2. Extended Lifespan:\\n'\n",
            "            '* Prolonged operational life compared to traditional lighting '\n",
            "            'sources.\\n'\n",
            "            '* Reduced frequency of replacements, minimizing maintenance '\n",
            "            'costs.\\n'\n",
            "            '3. Dynamic Brightness Control:\\n'\n",
            "            '* Adjustable brightness levels for customizable lighting '\n",
            "            'experiences.\\n'\n",
            "            '* Smooth dimming capabilities without compromising efficiency.\\n'\n",
            "            '4. Environmental Sustainability:\\n'\n",
            "            '* Low environmental impact with energy-efficient design.\\n'\n",
            "            '* Supports eco-friendly initiatives by reducing overall energy '\n",
            "            'consumption.\\n'\n",
            "            '5. Instant Illumination:\\n'\n",
            "            '* Instantaneous light output without warm-up time.\\n'\n",
            "            '* Ideal for applications requiring immediate brightness upon '\n",
            "            'activation.\\n'\n",
            "            '6. Smart Integration:\\n'\n",
            "            '* Compatible with smart home systems for seamless automation.\\n'\n",
            "            '* Enables remote control and scheduling for enhanced '\n",
            "            'convenience.\\n'\n",
            "            '~~~\\n'\n",
            "            'Write a Google ad for QuantumGlow Lighting. More specifically, '\n",
            "            'provide a title (max 30 characters) and a description (max 90 '\n",
            "            'characters). Provide title and description in a separate line '\n",
            "            'each.[/INST]\\n'},\n",
            " {'completion': \"Jennifer's ad:\\n\"\n",
            "                'Pros:\\n'\n",
            "                '- Clear and concise messaging that highlights the key '\n",
            "                'benefits of QuantumGlow Lighting.\\n'\n",
            "                '- Effective use of space, with a headline that includes the '\n",
            "                'product name and a description that covers the main '\n",
            "                'features.\\n'\n",
            "                '- Includes a clear call to action that encourages users to '\n",
            "                'learn more about the product.\\n'\n",
            "                'Cons:\\n'\n",
            "                '- Does not provide any information about the technology '\n",
            "                'behind QuantumGlow Lighting.\\n'\n",
            "                '- Does not emphasize the eco-friendly aspect of the product.\\n'\n",
            "                \"Catherine's ad:\\n\"\n",
            "                'Pros:\\n'\n",
            "                '- Provides a more detailed description of the technology '\n",
            "                'behind QuantumGlow Lighting, which could be useful for users '\n",
            "                'who are interested in the science behind the product.\\n'\n",
            "                '- Emphasizes the eco-friendly aspect of the product, which '\n",
            "                'could be appealing to users who prioritize sustainability.\\n'\n",
            "                '- Includes a clear call to action that encourages users to '\n",
            "                'enjoy the benefits of QuantumGlow Lighting.\\n'\n",
            "                'Cons:\\n'\n",
            "                '- May be too technical for some users who are not familiar '\n",
            "                'with quantum physics.\\n'\n",
            "                '- The headline does not include the product name, which could '\n",
            "                'make it less clear what the ad is promoting.\\n'\n",
            "                '- The description is quite long, which could limit its '\n",
            "                'effectiveness if users do not have the time to read the whole '\n",
            "                'thing.',\n",
            "  'id': 'step_2',\n",
            "  'prompt': '<s>[INST] *Assignment: Assess pros and cons of two alternative ad '\n",
            "            'texts*\\n'\n",
            "            '\\n'\n",
            "            'We going to advertize our product QuantumGlow Lighting in Google. '\n",
            "            'My colleagues Jennifer and Catherine have written two alternative '\n",
            "            'ad texts. I have to pick the best one. Please help me in doing so '\n",
            "            'by comparing and assessing the two alternative ad texts for '\n",
            "            'QuantumGlow Lighting.\\n'\n",
            "            'Here is some background info about the product to-be advertized:\\n'\n",
            "            '<productinfo>\\n'\n",
            "            'QuantumGlow Lighting Products: High-tech, energy-efficient '\n",
            "            'lighting solutions using quantum technology for improved '\n",
            "            'brightness and longevity.\\n'\n",
            "            '1. Quantum Efficiency:\\n'\n",
            "            '* Harnesses quantum technology for unparalleled light emission '\n",
            "            'efficiency.\\n'\n",
            "            '* Maximizes the conversion of electrical energy into visible '\n",
            "            'light, minimizing energy waste.\\n'\n",
            "            '2. Extended Lifespan:\\n'\n",
            "            '* Prolonged operational life compared to traditional lighting '\n",
            "            'sources.\\n'\n",
            "            '* Reduced frequency of replacements, minimizing maintenance '\n",
            "            'costs.\\n'\n",
            "            '3. Dynamic Brightness Control:\\n'\n",
            "            '* Adjustable brightness levels for customizable lighting '\n",
            "            'experiences.\\n'\n",
            "            '* Smooth dimming capabilities without compromising efficiency.\\n'\n",
            "            '4. Environmental Sustainability:\\n'\n",
            "            '* Low environmental impact with energy-efficient design.\\n'\n",
            "            '* Supports eco-friendly initiatives by reducing overall energy '\n",
            "            'consumption.\\n'\n",
            "            '5. Instant Illumination:\\n'\n",
            "            '* Instantaneous light output without warm-up time.\\n'\n",
            "            '* Ideal for applications requiring immediate brightness upon '\n",
            "            'activation.\\n'\n",
            "            '6. Smart Integration:\\n'\n",
            "            '* Compatible with smart home systems for seamless automation.\\n'\n",
            "            '* Enables remote control and scheduling for enhanced '\n",
            "            'convenience.\\n'\n",
            "            '</productinfo>\\n'\n",
            "            'Assess and compare the two alternatives drafted by Jennifer and '\n",
            "            'Catherine (below) with regard to the following criteria.\\n'\n",
            "            '<criteria>\\n'\n",
            "            '* Include Your Product Name/Service. Don’t keep your product or '\n",
            "            'service a secret. Include it inside your headline, an in your '\n",
            "            'description. Make it super clear what you are offering.\\n'\n",
            "            '* Include Your Call To Action. Your Call To Action (CTA) is what '\n",
            "            'you want users to do when they get to your website. Things like '\n",
            "            'schedule a consult, learn more today, contact us today, browse '\n",
            "            'now, shop now, etc. are all examples of a CTA.\\n'\n",
            "            '* Use All Your Characters. You get a limited amount of '\n",
            "            'characters: 30 characters per headline and 90 characters per '\n",
            "            'description. Maximize every character and use abbreviations when '\n",
            "            'possible to help save you some space.\\n'\n",
            "            '* Be Clear. Make sure your messaging stays clear and to the '\n",
            "            'point. If you find yourself trying to cover too many things in '\n",
            "            'one ad, it might be a sign that you need to make another ad '\n",
            "            'group.\\n'\n",
            "            '</criteria>\\n'\n",
            "            \"The alternative Google ad texts you're supposed to assess are \"\n",
            "            '(title and description are provided in separate lines):\\n'\n",
            "            '<alternatives>\\n'\n",
            "            \"# Jennifer's ad\\n\"\n",
            "            'Title: QuantumGlow Lighting - High-Tech, Energy-Efficient '\n",
            "            'Lighting Solutions [len=76 chars]\\n'\n",
            "            'Description: Maximize energy efficiency, reduce maintenance '\n",
            "            'costs, and achieve instant illumination with QuantumGlow '\n",
            "            'Lighting. Compatible with smart home systems for seamless '\n",
            "            'automation. [len=186 chars]\\n'\n",
            "            \"# Catherine's ad\\n\"\n",
            "            'Title: \"QuantumGlow Lighting: Born From Quantum Physics\" [len=56 '\n",
            "            'chars]\\n'\n",
            "            'Description: \"Get the perfect blend of brilliance and efficiency '\n",
            "            'with QuantumGlow lighting. Harnessing quantum technology, these '\n",
            "            'products provide maximum brightness and energy-efficiency, '\n",
            "            'setting a new standard in lighting solutions. Enjoy dynamic '\n",
            "            'brightness control, extended lifespan, and seamless smart '\n",
            "            'integration with our eco-friendly lighting series.\" [len=357 '\n",
            "            'chars]\\n'\n",
            "            '</alternatives>\\n'\n",
            "            'Compare the alternatives by gathering the diverse pros and cons '\n",
            "            \"that speak for / against using Jennifer's or Catherine's \"\n",
            "            'text.[/INST]\\n',\n",
            "  'reasoning': True},\n",
            " {'completion': 'B',\n",
            "  'id': 'step_3',\n",
            "  'prompt': '<s>[INST] *Assignment: Pick best ad text given pros and cons*\\n'\n",
            "            '\\n'\n",
            "            'Jennifer and Catherine have written alternative ad texts. Here '\n",
            "            'are the pros and cons to be considered when choosing which text '\n",
            "            'to use:\\n'\n",
            "            '<reasoning>\\n'\n",
            "            \"Jennifer's ad:\\n\"\n",
            "            'Pros:\\n'\n",
            "            '- Clear and concise messaging that highlights the key benefits of '\n",
            "            'QuantumGlow Lighting.\\n'\n",
            "            '- Effective use of space, with a headline that includes the '\n",
            "            'product name and a description that covers the main features.\\n'\n",
            "            '- Includes a clear call to action that encourages users to learn '\n",
            "            'more about the product.\\n'\n",
            "            'Cons:\\n'\n",
            "            '- Does not provide any information about the technology behind '\n",
            "            'QuantumGlow Lighting.\\n'\n",
            "            '- Does not emphasize the eco-friendly aspect of the product.\\n'\n",
            "            \"Catherine's ad:\\n\"\n",
            "            'Pros:\\n'\n",
            "            '- Provides a more detailed description of the technology behind '\n",
            "            'QuantumGlow Lighting, which could be useful for users who are '\n",
            "            'interested in the science behind the product.\\n'\n",
            "            '- Emphasizes the eco-friendly aspect of the product, which could '\n",
            "            'be appealing to users who prioritize sustainability.\\n'\n",
            "            '- Includes a clear call to action that encourages users to enjoy '\n",
            "            'the benefits of QuantumGlow Lighting.\\n'\n",
            "            'Cons:\\n'\n",
            "            '- May be too technical for some users who are not familiar with '\n",
            "            'quantum physics.\\n'\n",
            "            '- The headline does not include the product name, which could '\n",
            "            'make it less clear what the ad is promoting.\\n'\n",
            "            '- The description is quite long, which could limit its '\n",
            "            'effectiveness if users do not have the time to read the whole '\n",
            "            'thing.</reasoning>\\n'\n",
            "            'Given this reasoning, which is, all in all, the better '\n",
            "            'alternative?\\n'\n",
            "            \"(A) Jennifer's text\\n\"\n",
            "            \"(B) Catherine's text\\n\"\n",
            "            \"Just answer with 'A' or 'B': [/INST]\\n\"}]\n"
          ]
        }
      ]
    },
    {
      "cell_type": "markdown",
      "metadata": {
        "id": "fMyE0lBQYtHN"
      },
      "source": [
        "## Set-up environment and examples <a name=\"set-up\"></a>"
      ]
    },
    {
      "cell_type": "code",
      "source": [
        "# Please make sure that the following files from the `examples` folder\n",
        "# in the `logikon-ai/logikon` GitHub repo are available.\n",
        "!test -f \"requirements.txt\" || echo \"Missing requirements.txt\"\n",
        "!test -f \"setup.sh\" || echo \"Missing setup.sh\"\n",
        "!test -f \"scoring.py\" || echo \"Missing scoring.py\""
      ],
      "metadata": {
        "id": "VEz318IJCaw7"
      },
      "execution_count": 108,
      "outputs": []
    },
    {
      "cell_type": "code",
      "source": [
        "# Configure the environment\n",
        "import os\n",
        "\n",
        "os.environ[\"LGK_FRAMEWORK\"] = \"llamacpp\"\n",
        "os.environ[\"LGK_DEVICE\"] = \"gpu\"\n",
        "os.environ[\"LGK_HUBREPO\"] = \"TheBloke/zephyr-7B-beta-GGUF\"\n",
        "os.environ[\"LGK_MODELWEIGHTS\"] = \"zephyr-7b-beta.Q6_K.gguf\"\n",
        "os.environ[\"LGK_TOKENIZER\"] = \"HuggingFaceH4/zephyr-7b-beta\"\n",
        "os.environ[\"LGK_RELEASE\"] = \"main\""
      ],
      "metadata": {
        "id": "uDIpY9XuCwkm"
      },
      "execution_count": 109,
      "outputs": []
    },
    {
      "cell_type": "code",
      "source": [
        "# Check gpu available\n",
        "! [ \"$LGK_DEVICE\" = \"gpu\" ] && nvidia-smi"
      ],
      "metadata": {
        "colab": {
          "base_uri": "https://localhost:8080/"
        },
        "id": "epMW5Zx6W9nr",
        "outputId": "a07a1603-c721-40a8-f77a-8ee9c9f7d270"
      },
      "execution_count": 110,
      "outputs": [
        {
          "output_type": "stream",
          "name": "stdout",
          "text": [
            "Tue Nov 14 16:20:40 2023       \n",
            "+-----------------------------------------------------------------------------+\n",
            "| NVIDIA-SMI 525.105.17   Driver Version: 525.105.17   CUDA Version: 12.0     |\n",
            "|-------------------------------+----------------------+----------------------+\n",
            "| GPU  Name        Persistence-M| Bus-Id        Disp.A | Volatile Uncorr. ECC |\n",
            "| Fan  Temp  Perf  Pwr:Usage/Cap|         Memory-Usage | GPU-Util  Compute M. |\n",
            "|                               |                      |               MIG M. |\n",
            "|===============================+======================+======================|\n",
            "|   0  Tesla T4            Off  | 00000000:00:04.0 Off |                    0 |\n",
            "| N/A   31C    P8     9W /  70W |      0MiB / 15360MiB |      0%      Default |\n",
            "|                               |                      |                  N/A |\n",
            "+-------------------------------+----------------------+----------------------+\n",
            "                                                                               \n",
            "+-----------------------------------------------------------------------------+\n",
            "| Processes:                                                                  |\n",
            "|  GPU   GI   CI        PID   Type   Process name                  GPU Memory |\n",
            "|        ID   ID                                                   Usage      |\n",
            "|=============================================================================|\n",
            "|  No running processes found                                                 |\n",
            "+-----------------------------------------------------------------------------+\n"
          ]
        }
      ]
    },
    {
      "cell_type": "code",
      "execution_count": 111,
      "metadata": {
        "colab": {
          "base_uri": "https://localhost:8080/"
        },
        "id": "98g2exU2YtHN",
        "outputId": "7c05e506-c282-4720-ec5c-f7abf8097054"
      },
      "outputs": [
        {
          "name": "stdout",
          "output_type": "stream",
          "text": [
            "GH_ACCESS_TOKEN: ··········\n"
          ]
        }
      ],
      "source": [
        "# GH_ACCESS_TOKEN required to install `logikon` package from GitHub\n",
        "# for as long as we're not public\n",
        "\n",
        "import getpass\n",
        "import os\n",
        "\n",
        "GH_ACCESS_TOKEN = getpass.getpass(\"GH_ACCESS_TOKEN: \")\n",
        "os.environ[\"GH_ACCESS_TOKEN\"] = GH_ACCESS_TOKEN"
      ]
    },
    {
      "cell_type": "code",
      "source": [
        "%%capture\n",
        "!sh setup.sh"
      ],
      "metadata": {
        "id": "tSSiej4pY8-i"
      },
      "execution_count": 112,
      "outputs": []
    },
    {
      "cell_type": "code",
      "source": [
        "import os\n",
        "\n",
        "if os.environ.get(\"LGK_MODELWEIGHTS\"):\n",
        "  abspath = os.path.join(\n",
        "    os.path.abspath(\"./models\"),\n",
        "    os.environ.get(\"LGK_MODELWEIGHTS\")\n",
        "  )\n",
        "else:\n",
        "  abspath = \"\"\n",
        "os.environ[\"LGK_ABSPATH_MODELWEIGHTS\"] = abspath\n",
        "os.environ[\"LGK_ABSPATH_MODELWEIGHTS\"]"
      ],
      "metadata": {
        "colab": {
          "base_uri": "https://localhost:8080/",
          "height": 35
        },
        "id": "iFteYtUPJvDI",
        "outputId": "6742725c-1e6e-4ea7-d132-776e0041886e"
      },
      "execution_count": 113,
      "outputs": [
        {
          "output_type": "execute_result",
          "data": {
            "text/plain": [
              "'/content/models/zephyr-7b-beta.Q6_K.gguf'"
            ],
            "application/vnd.google.colaboratory.intrinsic+json": {
              "type": "string"
            }
          },
          "metadata": {},
          "execution_count": 113
        }
      ]
    },
    {
      "cell_type": "code",
      "source": [
        "# Check whether model weights file is available\n",
        "!test -f \"$LGK_ABSPATH_MODELWEIGHTS\" || echo \"Cannot find model weights\""
      ],
      "metadata": {
        "id": "BN9HH97iL9OF"
      },
      "execution_count": 114,
      "outputs": []
    },
    {
      "cell_type": "code",
      "source": [
        "# Example reasoning traces\n",
        "examples = [logstep for logstep in logs if logstep.get(\"reasoning\")]\n",
        "for example in examples:\n",
        "  example[\"prompt\"] = \"Which ad text is better, Jennifer's or Catherine's?\"\n",
        "  example[\"completion\"] = example[\"completion\"].replace(\"[INST]\",\"\").replace(\"[/INST]\",\"\").replace(\"<s>\",\"\")\n",
        "\n",
        "examples"
      ],
      "metadata": {
        "id": "4wDx93tsZulU",
        "colab": {
          "base_uri": "https://localhost:8080/"
        },
        "outputId": "237f0bb5-1051-4eee-ef73-cab3c072c4bc"
      },
      "execution_count": 156,
      "outputs": [
        {
          "output_type": "execute_result",
          "data": {
            "text/plain": [
              "[{'id': 'step_2',\n",
              "  'prompt': \"Which ad text is better, Jennifer's or Catherine's?\",\n",
              "  'completion': \"Jennifer's ad:\\nPros:\\n- Clear and concise messaging that highlights the key benefits of QuantumGlow Lighting.\\n- Effective use of space, with a headline that includes the product name and a description that covers the main features.\\n- Includes a clear call to action that encourages users to learn more about the product.\\nCons:\\n- Does not provide any information about the technology behind QuantumGlow Lighting.\\n- Does not emphasize the eco-friendly aspect of the product.\\nCatherine's ad:\\nPros:\\n- Provides a more detailed description of the technology behind QuantumGlow Lighting, which could be useful for users who are interested in the science behind the product.\\n- Emphasizes the eco-friendly aspect of the product, which could be appealing to users who prioritize sustainability.\\n- Includes a clear call to action that encourages users to enjoy the benefits of QuantumGlow Lighting.\\nCons:\\n- May be too technical for some users who are not familiar with quantum physics.\\n- The headline does not include the product name, which could make it less clear what the ad is promoting.\\n- The description is quite long, which could limit its effectiveness if users do not have the time to read the whole thing.\",\n",
              "  'reasoning': True}]"
            ]
          },
          "metadata": {},
          "execution_count": 156
        }
      ]
    },
    {
      "cell_type": "code",
      "source": [
        "import pandas as pd\n",
        "df_traces = pd.DataFrame(examples)"
      ],
      "metadata": {
        "id": "0gGYxzS9aoyI"
      },
      "execution_count": 158,
      "outputs": []
    },
    {
      "cell_type": "code",
      "source": [
        "# Save reasoning traces to file\n",
        "df_traces.to_json(\"reasoning_traces.jsonl\", orient=\"records\", lines=True)"
      ],
      "metadata": {
        "id": "SKnqYjOca6De"
      },
      "execution_count": 159,
      "outputs": []
    },
    {
      "cell_type": "code",
      "source": [
        "# Check data file available\n",
        "!head -2 \"reasoning_traces.jsonl\""
      ],
      "metadata": {
        "colab": {
          "base_uri": "https://localhost:8080/"
        },
        "id": "txykfjd-bX5C",
        "outputId": "10149379-3c93-4653-dbf9-a35116a5184f"
      },
      "execution_count": 160,
      "outputs": [
        {
          "output_type": "stream",
          "name": "stdout",
          "text": [
            "{\"id\":\"step_2\",\"prompt\":\"Which ad text is better, Jennifer's or Catherine's?\",\"completion\":\"Jennifer's ad:\\nPros:\\n- Clear and concise messaging that highlights the key benefits of QuantumGlow Lighting.\\n- Effective use of space, with a headline that includes the product name and a description that covers the main features.\\n- Includes a clear call to action that encourages users to learn more about the product.\\nCons:\\n- Does not provide any information about the technology behind QuantumGlow Lighting.\\n- Does not emphasize the eco-friendly aspect of the product.\\nCatherine's ad:\\nPros:\\n- Provides a more detailed description of the technology behind QuantumGlow Lighting, which could be useful for users who are interested in the science behind the product.\\n- Emphasizes the eco-friendly aspect of the product, which could be appealing to users who prioritize sustainability.\\n- Includes a clear call to action that encourages users to enjoy the benefits of QuantumGlow Lighting.\\nCons:\\n- May be too technical for some users who are not familiar with quantum physics.\\n- The headline does not include the product name, which could make it less clear what the ad is promoting.\\n- The description is quite long, which could limit its effectiveness if users do not have the time to read the whole thing.\",\"reasoning\":true}\n"
          ]
        }
      ]
    },
    {
      "cell_type": "markdown",
      "source": [
        "## Collect all available metrics and artifacts <a name=\"collect\"></a>"
      ],
      "metadata": {
        "id": "nSrgZcyMAdwP"
      }
    },
    {
      "cell_type": "code",
      "source": [
        "# Write config als yaml file\n",
        "\n",
        "config_dict = {\n",
        "    # all metrics\n",
        "    \"metrics\": [\"argmap_size\", \"n_root_nodes\", \"mean_reason_strength\"],\n",
        "    # artifacts to generate\n",
        "    \"artifacts\": [\"svg_argmap\"],\n",
        "    \"global_kwargs\": {\n",
        "        \"expert_model\": os.environ[\"LGK_ABSPATH_MODELWEIGHTS\"],\n",
        "        \"expert_model_kwargs\": {\n",
        "            \"n_ctx\": 3072,\n",
        "            # comment out line below if no gpu\n",
        "            \"n_gpu_layers\": -1,\n",
        "            \"tokenizer\": os.environ[\"LGK_TOKENIZER\"],\n",
        "            # custom prompt template, make sure this fits the expert_model\n",
        "            \"prompt_template\": {\n",
        "                \"sys_start\": \"\\n<|system|>\\n\",\n",
        "                \"sys_end\": \"\",\n",
        "                \"user_start\": \"\\n<|user|>\\n\",\n",
        "                \"user_end\": \"\",\n",
        "                \"ass_start\": \"\\n<|assistant|>\\n\",\n",
        "                \"ass_end\": \"\",\n",
        "            },\n",
        "        },\n",
        "        \"generation_kwargs\": {\"max_len\": 3072},\n",
        "        \"llm_framework\": \"llama.cpp\",\n",
        "    },\n",
        "}\n",
        "\n",
        "import yaml\n",
        "with open('config.yml', 'w') as outfile:\n",
        "    yaml.dump(config_dict, outfile, default_flow_style=False)\n",
        "\n",
        "# Check config file available\n",
        "!head -10 \"config.yml\" && echo \"...\""
      ],
      "metadata": {
        "id": "sIGXP7YieNQg",
        "colab": {
          "base_uri": "https://localhost:8080/"
        },
        "outputId": "fbe61a83-6e2e-4fcf-aad4-be02acd65d92"
      },
      "execution_count": 149,
      "outputs": [
        {
          "output_type": "stream",
          "name": "stdout",
          "text": [
            "artifacts:\n",
            "- svg_argmap\n",
            "global_kwargs:\n",
            "  expert_model: /content/models/zephyr-7b-beta.Q6_K.gguf\n",
            "  expert_model_kwargs:\n",
            "    n_ctx: 3072\n",
            "    n_gpu_layers: -1\n",
            "    prompt_template:\n",
            "      ass_end: ''\n",
            "      ass_start: '\n",
            "...\n"
          ]
        }
      ]
    },
    {
      "cell_type": "markdown",
      "source": [
        "## Run analysis <a name=\"run\"></a>"
      ],
      "metadata": {
        "id": "Pwx5YGLtA5wW"
      }
    },
    {
      "cell_type": "code",
      "source": [
        "# 🫖 This will take some time ... you may monitor `scoring.log`\n",
        "!python scoring.py \\\n",
        "  --config-file config.yml \\\n",
        "  --reasoning-traces-file reasoning_traces.jsonl"
      ],
      "metadata": {
        "colab": {
          "base_uri": "https://localhost:8080/"
        },
        "id": "BL4ADqpSf_WB",
        "outputId": "859f96d9-fcf2-451b-80fd-170b1773378e"
      },
      "execution_count": 161,
      "outputs": [
        {
          "output_type": "stream",
          "name": "stdout",
          "text": [
            "\r0it [00:00, ?it/s]/usr/bin/dot\n",
            "[Loading llama.cpp model from llama.cpp:/content/models/zephyr-7b-beta.Q6_K.gguf  with  {'n_ctx': 3072, 'n_gpu_layers': -1} ]\n",
            "2023-11-14 17:48:06.317301: E tensorflow/compiler/xla/stream_executor/cuda/cuda_dnn.cc:9342] Unable to register cuDNN factory: Attempting to register factory for plugin cuDNN when one has already been registered\n",
            "2023-11-14 17:48:06.317374: E tensorflow/compiler/xla/stream_executor/cuda/cuda_fft.cc:609] Unable to register cuFFT factory: Attempting to register factory for plugin cuFFT when one has already been registered\n",
            "2023-11-14 17:48:06.317420: E tensorflow/compiler/xla/stream_executor/cuda/cuda_blas.cc:1518] Unable to register cuBLAS factory: Attempting to register factory for plugin cuBLAS when one has already been registered\n",
            "2023-11-14 17:48:07.875705: W tensorflow/compiler/tf2tensorrt/utils/py_utils.cc:38] TF-TRT Warning: Could not find TensorRT\n",
            "\n",
            "Reason-root edges:   0% 0/2 [00:00<?, ?it/s]\u001b[A\n",
            "Reason-root edges:  50% 1/2 [00:16<00:16, 16.59s/it]\u001b[A\n",
            "Reason-root edges: 100% 2/2 [00:32<00:00, 16.38s/it]\n",
            "\n",
            "Reason-reason edges:   0% 0/14 [00:00<?, ?it/s]\u001b[A\n",
            "Reason-reason edges:  14% 2/14 [00:27<02:46, 13.84s/it]\u001b[A\n",
            "Reason-reason edges:  21% 3/14 [00:54<03:31, 19.19s/it]\u001b[A\n",
            "Reason-reason edges:  29% 4/14 [01:21<03:43, 22.34s/it]\u001b[A\n",
            "Reason-reason edges:  36% 5/14 [01:49<03:35, 23.99s/it]\u001b[A\n",
            "Reason-reason edges:  43% 6/14 [02:16<03:21, 25.15s/it]\u001b[A\n",
            "Reason-reason edges:  50% 7/14 [02:46<03:07, 26.72s/it]\u001b[A\n",
            "Reason-reason edges:  64% 9/14 [03:15<01:44, 20.82s/it]\u001b[A\n",
            "Reason-reason edges:  71% 10/14 [03:43<01:30, 22.66s/it]\u001b[A\n",
            "Reason-reason edges:  79% 11/14 [04:10<01:11, 23.80s/it]\u001b[A\n",
            "Reason-reason edges:  86% 12/14 [04:38<00:49, 24.93s/it]\u001b[A\n",
            "Reason-reason edges:  93% 13/14 [05:05<00:25, 25.52s/it]\u001b[A\n",
            "Reason-reason edges: 100% 14/14 [05:32<00:00, 23.75s/it]\n",
            "1it [09:06, 546.94s/it]\n"
          ]
        }
      ]
    },
    {
      "cell_type": "markdown",
      "source": [
        "## Inspect generated metrics and artifacts <a name=\"inspect\"></a>"
      ],
      "metadata": {
        "id": "7uaXFSRjA_Wu"
      }
    },
    {
      "cell_type": "code",
      "source": [
        "df_scores = pd.read_json(\"outputs/reasoning_traces-scores.jsonl\", lines=True)"
      ],
      "metadata": {
        "id": "cttOhhYfpyP6"
      },
      "execution_count": 152,
      "outputs": []
    },
    {
      "cell_type": "markdown",
      "source": [
        "### Metrics"
      ],
      "metadata": {
        "id": "69ZoV1CR4_dN"
      }
    },
    {
      "cell_type": "code",
      "source": [
        "# Display metric scores\n",
        "df_scores[config_dict.get(\"metrics\",[])].T.rename(columns={0: \"value\"})"
      ],
      "metadata": {
        "colab": {
          "base_uri": "https://localhost:8080/",
          "height": 143
        },
        "id": "JCC66EW08MAx",
        "outputId": "bca894aa-c69f-4e91-8a54-965e02652a36"
      },
      "execution_count": 153,
      "outputs": [
        {
          "output_type": "execute_result",
          "data": {
            "text/plain": [
              "                          value\n",
              "argmap_size           20.000000\n",
              "n_root_nodes           8.000000\n",
              "mean_reason_strength   0.214111"
            ],
            "text/html": [
              "\n",
              "  <div id=\"df-26b07829-1870-4eb2-aac6-dfe363b20e55\" class=\"colab-df-container\">\n",
              "    <div>\n",
              "<style scoped>\n",
              "    .dataframe tbody tr th:only-of-type {\n",
              "        vertical-align: middle;\n",
              "    }\n",
              "\n",
              "    .dataframe tbody tr th {\n",
              "        vertical-align: top;\n",
              "    }\n",
              "\n",
              "    .dataframe thead th {\n",
              "        text-align: right;\n",
              "    }\n",
              "</style>\n",
              "<table border=\"1\" class=\"dataframe\">\n",
              "  <thead>\n",
              "    <tr style=\"text-align: right;\">\n",
              "      <th></th>\n",
              "      <th>value</th>\n",
              "    </tr>\n",
              "  </thead>\n",
              "  <tbody>\n",
              "    <tr>\n",
              "      <th>argmap_size</th>\n",
              "      <td>20.000000</td>\n",
              "    </tr>\n",
              "    <tr>\n",
              "      <th>n_root_nodes</th>\n",
              "      <td>8.000000</td>\n",
              "    </tr>\n",
              "    <tr>\n",
              "      <th>mean_reason_strength</th>\n",
              "      <td>0.214111</td>\n",
              "    </tr>\n",
              "  </tbody>\n",
              "</table>\n",
              "</div>\n",
              "    <div class=\"colab-df-buttons\">\n",
              "\n",
              "  <div class=\"colab-df-container\">\n",
              "    <button class=\"colab-df-convert\" onclick=\"convertToInteractive('df-26b07829-1870-4eb2-aac6-dfe363b20e55')\"\n",
              "            title=\"Convert this dataframe to an interactive table.\"\n",
              "            style=\"display:none;\">\n",
              "\n",
              "  <svg xmlns=\"http://www.w3.org/2000/svg\" height=\"24px\" viewBox=\"0 -960 960 960\">\n",
              "    <path d=\"M120-120v-720h720v720H120Zm60-500h600v-160H180v160Zm220 220h160v-160H400v160Zm0 220h160v-160H400v160ZM180-400h160v-160H180v160Zm440 0h160v-160H620v160ZM180-180h160v-160H180v160Zm440 0h160v-160H620v160Z\"/>\n",
              "  </svg>\n",
              "    </button>\n",
              "\n",
              "  <style>\n",
              "    .colab-df-container {\n",
              "      display:flex;\n",
              "      gap: 12px;\n",
              "    }\n",
              "\n",
              "    .colab-df-convert {\n",
              "      background-color: #E8F0FE;\n",
              "      border: none;\n",
              "      border-radius: 50%;\n",
              "      cursor: pointer;\n",
              "      display: none;\n",
              "      fill: #1967D2;\n",
              "      height: 32px;\n",
              "      padding: 0 0 0 0;\n",
              "      width: 32px;\n",
              "    }\n",
              "\n",
              "    .colab-df-convert:hover {\n",
              "      background-color: #E2EBFA;\n",
              "      box-shadow: 0px 1px 2px rgba(60, 64, 67, 0.3), 0px 1px 3px 1px rgba(60, 64, 67, 0.15);\n",
              "      fill: #174EA6;\n",
              "    }\n",
              "\n",
              "    .colab-df-buttons div {\n",
              "      margin-bottom: 4px;\n",
              "    }\n",
              "\n",
              "    [theme=dark] .colab-df-convert {\n",
              "      background-color: #3B4455;\n",
              "      fill: #D2E3FC;\n",
              "    }\n",
              "\n",
              "    [theme=dark] .colab-df-convert:hover {\n",
              "      background-color: #434B5C;\n",
              "      box-shadow: 0px 1px 3px 1px rgba(0, 0, 0, 0.15);\n",
              "      filter: drop-shadow(0px 1px 2px rgba(0, 0, 0, 0.3));\n",
              "      fill: #FFFFFF;\n",
              "    }\n",
              "  </style>\n",
              "\n",
              "    <script>\n",
              "      const buttonEl =\n",
              "        document.querySelector('#df-26b07829-1870-4eb2-aac6-dfe363b20e55 button.colab-df-convert');\n",
              "      buttonEl.style.display =\n",
              "        google.colab.kernel.accessAllowed ? 'block' : 'none';\n",
              "\n",
              "      async function convertToInteractive(key) {\n",
              "        const element = document.querySelector('#df-26b07829-1870-4eb2-aac6-dfe363b20e55');\n",
              "        const dataTable =\n",
              "          await google.colab.kernel.invokeFunction('convertToInteractive',\n",
              "                                                    [key], {});\n",
              "        if (!dataTable) return;\n",
              "\n",
              "        const docLinkHtml = 'Like what you see? Visit the ' +\n",
              "          '<a target=\"_blank\" href=https://colab.research.google.com/notebooks/data_table.ipynb>data table notebook</a>'\n",
              "          + ' to learn more about interactive tables.';\n",
              "        element.innerHTML = '';\n",
              "        dataTable['output_type'] = 'display_data';\n",
              "        await google.colab.output.renderOutput(dataTable, element);\n",
              "        const docLink = document.createElement('div');\n",
              "        docLink.innerHTML = docLinkHtml;\n",
              "        element.appendChild(docLink);\n",
              "      }\n",
              "    </script>\n",
              "  </div>\n",
              "\n",
              "\n",
              "<div id=\"df-0c1416e6-1487-4ea8-ba93-af5c7588a1be\">\n",
              "  <button class=\"colab-df-quickchart\" onclick=\"quickchart('df-0c1416e6-1487-4ea8-ba93-af5c7588a1be')\"\n",
              "            title=\"Suggest charts\"\n",
              "            style=\"display:none;\">\n",
              "\n",
              "<svg xmlns=\"http://www.w3.org/2000/svg\" height=\"24px\"viewBox=\"0 0 24 24\"\n",
              "     width=\"24px\">\n",
              "    <g>\n",
              "        <path d=\"M19 3H5c-1.1 0-2 .9-2 2v14c0 1.1.9 2 2 2h14c1.1 0 2-.9 2-2V5c0-1.1-.9-2-2-2zM9 17H7v-7h2v7zm4 0h-2V7h2v10zm4 0h-2v-4h2v4z\"/>\n",
              "    </g>\n",
              "</svg>\n",
              "  </button>\n",
              "\n",
              "<style>\n",
              "  .colab-df-quickchart {\n",
              "      --bg-color: #E8F0FE;\n",
              "      --fill-color: #1967D2;\n",
              "      --hover-bg-color: #E2EBFA;\n",
              "      --hover-fill-color: #174EA6;\n",
              "      --disabled-fill-color: #AAA;\n",
              "      --disabled-bg-color: #DDD;\n",
              "  }\n",
              "\n",
              "  [theme=dark] .colab-df-quickchart {\n",
              "      --bg-color: #3B4455;\n",
              "      --fill-color: #D2E3FC;\n",
              "      --hover-bg-color: #434B5C;\n",
              "      --hover-fill-color: #FFFFFF;\n",
              "      --disabled-bg-color: #3B4455;\n",
              "      --disabled-fill-color: #666;\n",
              "  }\n",
              "\n",
              "  .colab-df-quickchart {\n",
              "    background-color: var(--bg-color);\n",
              "    border: none;\n",
              "    border-radius: 50%;\n",
              "    cursor: pointer;\n",
              "    display: none;\n",
              "    fill: var(--fill-color);\n",
              "    height: 32px;\n",
              "    padding: 0;\n",
              "    width: 32px;\n",
              "  }\n",
              "\n",
              "  .colab-df-quickchart:hover {\n",
              "    background-color: var(--hover-bg-color);\n",
              "    box-shadow: 0 1px 2px rgba(60, 64, 67, 0.3), 0 1px 3px 1px rgba(60, 64, 67, 0.15);\n",
              "    fill: var(--button-hover-fill-color);\n",
              "  }\n",
              "\n",
              "  .colab-df-quickchart-complete:disabled,\n",
              "  .colab-df-quickchart-complete:disabled:hover {\n",
              "    background-color: var(--disabled-bg-color);\n",
              "    fill: var(--disabled-fill-color);\n",
              "    box-shadow: none;\n",
              "  }\n",
              "\n",
              "  .colab-df-spinner {\n",
              "    border: 2px solid var(--fill-color);\n",
              "    border-color: transparent;\n",
              "    border-bottom-color: var(--fill-color);\n",
              "    animation:\n",
              "      spin 1s steps(1) infinite;\n",
              "  }\n",
              "\n",
              "  @keyframes spin {\n",
              "    0% {\n",
              "      border-color: transparent;\n",
              "      border-bottom-color: var(--fill-color);\n",
              "      border-left-color: var(--fill-color);\n",
              "    }\n",
              "    20% {\n",
              "      border-color: transparent;\n",
              "      border-left-color: var(--fill-color);\n",
              "      border-top-color: var(--fill-color);\n",
              "    }\n",
              "    30% {\n",
              "      border-color: transparent;\n",
              "      border-left-color: var(--fill-color);\n",
              "      border-top-color: var(--fill-color);\n",
              "      border-right-color: var(--fill-color);\n",
              "    }\n",
              "    40% {\n",
              "      border-color: transparent;\n",
              "      border-right-color: var(--fill-color);\n",
              "      border-top-color: var(--fill-color);\n",
              "    }\n",
              "    60% {\n",
              "      border-color: transparent;\n",
              "      border-right-color: var(--fill-color);\n",
              "    }\n",
              "    80% {\n",
              "      border-color: transparent;\n",
              "      border-right-color: var(--fill-color);\n",
              "      border-bottom-color: var(--fill-color);\n",
              "    }\n",
              "    90% {\n",
              "      border-color: transparent;\n",
              "      border-bottom-color: var(--fill-color);\n",
              "    }\n",
              "  }\n",
              "</style>\n",
              "\n",
              "  <script>\n",
              "    async function quickchart(key) {\n",
              "      const quickchartButtonEl =\n",
              "        document.querySelector('#' + key + ' button');\n",
              "      quickchartButtonEl.disabled = true;  // To prevent multiple clicks.\n",
              "      quickchartButtonEl.classList.add('colab-df-spinner');\n",
              "      try {\n",
              "        const charts = await google.colab.kernel.invokeFunction(\n",
              "            'suggestCharts', [key], {});\n",
              "      } catch (error) {\n",
              "        console.error('Error during call to suggestCharts:', error);\n",
              "      }\n",
              "      quickchartButtonEl.classList.remove('colab-df-spinner');\n",
              "      quickchartButtonEl.classList.add('colab-df-quickchart-complete');\n",
              "    }\n",
              "    (() => {\n",
              "      let quickchartButtonEl =\n",
              "        document.querySelector('#df-0c1416e6-1487-4ea8-ba93-af5c7588a1be button');\n",
              "      quickchartButtonEl.style.display =\n",
              "        google.colab.kernel.accessAllowed ? 'block' : 'none';\n",
              "    })();\n",
              "  </script>\n",
              "</div>\n",
              "    </div>\n",
              "  </div>\n"
            ]
          },
          "metadata": {},
          "execution_count": 153
        }
      ]
    },
    {
      "cell_type": "markdown",
      "source": [
        "### Artifacts"
      ],
      "metadata": {
        "id": "xcE02utN5MvQ"
      }
    },
    {
      "cell_type": "code",
      "source": [
        "from pprint import pformat\n",
        "\n",
        "import networkx as nx\n",
        "\n",
        "from IPython.display import SVG, HTML\n",
        "\n",
        "from logikon.schemas.pros_cons import ProsConsList\n",
        "from logikon.schemas.argument_mapping import FuzzyArgMap\n",
        "\n",
        "def render_artifact(artifact_id, data):\n",
        "  \"\"\"helper function for rendering artifacts\"\"\"\n",
        "\n",
        "  if \"nx\" in artifact_id:\n",
        "    digraph = nx.node_link_graph(data)\n",
        "    return Markdown(str(digraph))\n",
        "\n",
        "  if \"svg\" in artifact_id:\n",
        "    style = \"<style>svg{width:100% !important;height:100% !important;</style>\"\n",
        "    return HTML(style), SVG(data=data)\n",
        "\n",
        "  if \"html\" in artifact_id:\n",
        "    return HTML(data)\n",
        "\n",
        "  if artifact_id == \"proscons\":\n",
        "    proscons = ProsConsList(**data)\n",
        "    return Markdown(f\"`{pformat(proscons)}`\")\n",
        "\n",
        "  if artifact_id == \"relevance_network\":\n",
        "    relnet = FuzzyArgMap(**data)\n",
        "    return Markdown(f\"`{pformat(relnet)[:800]} ...`\")\n",
        "\n",
        "  text = str(data)\n",
        "  text = text[:200] + \" ...\" if len(text)>200 else text\n",
        "  return Markdown(f\"`{text}`\")"
      ],
      "metadata": {
        "id": "saeFhPUzIN_k"
      },
      "execution_count": 154,
      "outputs": []
    },
    {
      "cell_type": "code",
      "source": [
        "from IPython.display import display, Markdown\n",
        "\n",
        "for artifact_id in config_dict.get(\"artifacts\",[]):\n",
        "  display(Markdown(f\"## {artifact_id}\"))\n",
        "  data = df_scores.iloc[0].get(artifact_id)\n",
        "  r = render_artifact(artifact_id, data)\n",
        "  if isinstance(r, tuple):\n",
        "    display(*r)\n",
        "  else:\n",
        "    display(r)\n",
        "\n"
      ],
      "metadata": {
        "colab": {
          "base_uri": "https://localhost:8080/",
          "height": 483
        },
        "id": "tFo-h4Ba6zfO",
        "outputId": "35cc86cf-c3cd-4c1a-eefc-2c6769187c36"
      },
      "execution_count": 155,
      "outputs": [
        {
          "output_type": "display_data",
          "data": {
            "text/plain": [
              "<IPython.core.display.Markdown object>"
            ],
            "text/markdown": "## svg_argmap"
          },
          "metadata": {}
        },
        {
          "output_type": "display_data",
          "data": {
            "text/plain": [
              "<IPython.core.display.HTML object>"
            ],
            "text/html": [
              "<style>svg{width:100% !important;height:100% !important;</style>"
            ]
          },
          "metadata": {}
        },
        {
          "output_type": "display_data",
          "data": {
            "text/plain": [
              "<IPython.core.display.SVG object>"
            ],
            "image/svg+xml": "<svg xmlns=\"http://www.w3.org/2000/svg\" xmlns:xlink=\"http://www.w3.org/1999/xlink\" width=\"1893pt\" height=\"914pt\" viewBox=\"0.00 0.00 1892.50 914.00\">\n<g id=\"graph0\" class=\"graph\" transform=\"scale(1 1) rotate(0) translate(4 910)\">\n<title>logikon informal argument map</title>\n<polygon fill=\"white\" stroke=\"transparent\" points=\"-4,4 -4,-910 1888.5,-910 1888.5,4 -4,4\"/>\n<!-- 18ab20ce&#45;baa6&#45;4354&#45;aa17&#45;17bf051bd7fb -->\n<g id=\"node1\" class=\"node\">\n<title>18ab20ce-baa6-4354-aa17-17bf051bd7fb</title>\n<g id=\"a_node1\"><a xlink:title=\"Emphasizing energy savings is&lt;BR/&gt;more effective in promoting&lt;BR/&gt;QuantumGlow Lighting.\">\n<path fill=\"white\" stroke=\"transparent\" d=\"M22,-818C22,-818 176,-818 176,-818 182,-818 188,-824 188,-830 188,-830 188,-876 188,-876 188,-882 182,-888 176,-888 176,-888 22,-888 22,-888 16,-888 10,-882 10,-876 10,-876 10,-830 10,-830 10,-824 16,-818 22,-818\"/>\n<text text-anchor=\"start\" x=\"27.5\" y=\"-873.4\" font-family=\"Arial, Helvetica, sans-serif\" font-weight=\"bold\" font-size=\"12.00\">Highlight energy savings</text>\n<text text-anchor=\"start\" x=\"16\" y=\"-853.4\" font-family=\"Arial, Helvetica, sans-serif\" font-size=\"12.00\">Emphasizing energy savings is</text>\n<text text-anchor=\"start\" x=\"27\" y=\"-840.4\" font-family=\"Arial, Helvetica, sans-serif\" font-size=\"12.00\">more effective in promoting</text>\n<text text-anchor=\"start\" x=\"36\" y=\"-827.4\" font-family=\"Arial, Helvetica, sans-serif\" font-size=\"12.00\">QuantumGlow Lighting.</text>\n<path fill=\"none\" stroke=\"lightblue\" stroke-width=\"4\" d=\"M22,-818C22,-818 176,-818 176,-818 182,-818 188,-824 188,-830 188,-830 188,-876 188,-876 188,-882 182,-888 176,-888 176,-888 22,-888 22,-888 16,-888 10,-882 10,-876 10,-876 10,-830 10,-830 10,-824 16,-818 22,-818\"/>\n</a>\n</g>\n</g>\n<!-- aa865ae7&#45;a5b1&#45;41ce&#45;97d6&#45;29b9bef12444 -->\n<g id=\"node2\" class=\"node\">\n<title>aa865ae7-a5b1-41ce-97d6-29b9bef12444</title>\n<g id=\"a_node2\"><a xlink:title=\"Emphasizing long-lasting bulbs&lt;BR/&gt;is more effective in promoting&lt;BR/&gt;QuantumGlow Lighting.\">\n<path fill=\"white\" stroke=\"transparent\" d=\"M238,-812.5C238,-812.5 394,-812.5 394,-812.5 400,-812.5 406,-818.5 406,-824.5 406,-824.5 406,-881.5 406,-881.5 406,-887.5 400,-893.5 394,-893.5 394,-893.5 238,-893.5 238,-893.5 232,-893.5 226,-887.5 226,-881.5 226,-881.5 226,-824.5 226,-824.5 226,-818.5 232,-812.5 238,-812.5\"/>\n<text text-anchor=\"start\" x=\"249\" y=\"-878.4\" font-family=\"Arial, Helvetica, sans-serif\" font-weight=\"bold\" font-size=\"12.00\">Emphasize long-lasting</text>\n<text text-anchor=\"start\" x=\"299.5\" y=\"-866.4\" font-family=\"Arial, Helvetica, sans-serif\" font-weight=\"bold\" font-size=\"12.00\">bulbs</text>\n<text text-anchor=\"start\" x=\"232\" y=\"-847.4\" font-family=\"Arial, Helvetica, sans-serif\" font-size=\"12.00\">Emphasizing long-lasting bulbs</text>\n<text text-anchor=\"start\" x=\"238\" y=\"-834.4\" font-family=\"Arial, Helvetica, sans-serif\" font-size=\"12.00\">is more effective in promoting</text>\n<text text-anchor=\"start\" x=\"253\" y=\"-821.4\" font-family=\"Arial, Helvetica, sans-serif\" font-size=\"12.00\">QuantumGlow Lighting.</text>\n<path fill=\"none\" stroke=\"lightblue\" stroke-width=\"4\" d=\"M238,-812.5C238,-812.5 394,-812.5 394,-812.5 400,-812.5 406,-818.5 406,-824.5 406,-824.5 406,-881.5 406,-881.5 406,-887.5 400,-893.5 394,-893.5 394,-893.5 238,-893.5 238,-893.5 232,-893.5 226,-887.5 226,-881.5 226,-881.5 226,-824.5 226,-824.5 226,-818.5 232,-812.5 238,-812.5\"/>\n</a>\n</g>\n</g>\n<!-- 137edae4&#45;3f50&#45;498e&#45;ad3b&#45;2a65caec7826 -->\n<g id=\"node3\" class=\"node\">\n<title>137edae4-3f50-498e-ad3b-2a65caec7826</title>\n<g id=\"a_node3\"><a xlink:title=\"Showcasing modern design is&lt;BR/&gt;more effective in promoting&lt;BR/&gt;QuantumGlow Lighting.\">\n<path fill=\"white\" stroke=\"transparent\" d=\"M456.5,-818C456.5,-818 605.5,-818 605.5,-818 611.5,-818 617.5,-824 617.5,-830 617.5,-830 617.5,-876 617.5,-876 617.5,-882 611.5,-888 605.5,-888 605.5,-888 456.5,-888 456.5,-888 450.5,-888 444.5,-882 444.5,-876 444.5,-876 444.5,-830 444.5,-830 444.5,-824 450.5,-818 456.5,-818\"/>\n<text text-anchor=\"start\" x=\"457\" y=\"-873.4\" font-family=\"Arial, Helvetica, sans-serif\" font-weight=\"bold\" font-size=\"12.00\">Showcase modern design</text>\n<text text-anchor=\"start\" x=\"451\" y=\"-853.4\" font-family=\"Arial, Helvetica, sans-serif\" font-size=\"12.00\">Showcasing modern design is</text>\n<text text-anchor=\"start\" x=\"459.5\" y=\"-840.4\" font-family=\"Arial, Helvetica, sans-serif\" font-size=\"12.00\">more effective in promoting</text>\n<text text-anchor=\"start\" x=\"468.5\" y=\"-827.4\" font-family=\"Arial, Helvetica, sans-serif\" font-size=\"12.00\">QuantumGlow Lighting.</text>\n<path fill=\"none\" stroke=\"lightblue\" stroke-width=\"4\" d=\"M456.5,-818C456.5,-818 605.5,-818 605.5,-818 611.5,-818 617.5,-824 617.5,-830 617.5,-830 617.5,-876 617.5,-876 617.5,-882 611.5,-888 605.5,-888 605.5,-888 456.5,-888 456.5,-888 450.5,-888 444.5,-882 444.5,-876 444.5,-876 444.5,-830 444.5,-830 444.5,-824 450.5,-818 456.5,-818\"/>\n</a>\n</g>\n</g>\n<!-- a75ee692&#45;21d1&#45;4b69&#45;aa98&#45;f671636d3f04 -->\n<g id=\"node4\" class=\"node\">\n<title>a75ee692-21d1-4b69-aa98-f671636d3f04</title>\n<g id=\"a_node4\"><a xlink:title=\"Mentioning celebrity&lt;BR/&gt;endorsements is more effective&lt;BR/&gt;in promoting QuantumGlow&lt;BR/&gt;Lighting.\">\n<path fill=\"white\" stroke=\"transparent\" d=\"M668,-806C668,-806 822,-806 822,-806 828,-806 834,-812 834,-818 834,-818 834,-888 834,-888 834,-894 828,-900 822,-900 822,-900 668,-900 668,-900 662,-900 656,-894 656,-888 656,-888 656,-818 656,-818 656,-812 662,-806 668,-806\"/>\n<text text-anchor=\"start\" x=\"696\" y=\"-885.4\" font-family=\"Arial, Helvetica, sans-serif\" font-weight=\"bold\" font-size=\"12.00\">Mention celebrity</text>\n<text text-anchor=\"start\" x=\"701.5\" y=\"-873.4\" font-family=\"Arial, Helvetica, sans-serif\" font-weight=\"bold\" font-size=\"12.00\">endorsements-</text>\n<text text-anchor=\"start\" x=\"691\" y=\"-854.4\" font-family=\"Arial, Helvetica, sans-serif\" font-size=\"12.00\">Mentioning celebrity</text>\n<text text-anchor=\"start\" x=\"662\" y=\"-841.4\" font-family=\"Arial, Helvetica, sans-serif\" font-size=\"12.00\">endorsements is more effective</text>\n<text text-anchor=\"start\" x=\"672\" y=\"-828.4\" font-family=\"Arial, Helvetica, sans-serif\" font-size=\"12.00\">in promoting QuantumGlow</text>\n<text text-anchor=\"start\" x=\"722\" y=\"-815.4\" font-family=\"Arial, Helvetica, sans-serif\" font-size=\"12.00\">Lighting.</text>\n<path fill=\"none\" stroke=\"lightblue\" stroke-width=\"4\" d=\"M668,-806C668,-806 822,-806 822,-806 828,-806 834,-812 834,-818 834,-818 834,-888 834,-888 834,-894 828,-900 822,-900 822,-900 668,-900 668,-900 662,-900 656,-894 656,-888 656,-888 656,-818 656,-818 656,-812 662,-806 668,-806\"/>\n</a>\n</g>\n</g>\n<!-- f8fbe9d8&#45;7a2c&#45;4b3c&#45;ae58&#45;3ecc333eaa62 -->\n<g id=\"node5\" class=\"node\">\n<title>f8fbe9d8-7a2c-4b3c-ae58-3ecc333eaa62</title>\n<g id=\"a_node5\"><a xlink:title=\"Mentioning celebrity&lt;BR/&gt;endorsements is less effective&lt;BR/&gt;in promoting QuantumGlow&lt;BR/&gt;Lighting because of\">\n<path fill=\"white\" stroke=\"transparent\" d=\"M884,-806C884,-806 1032,-806 1032,-806 1038,-806 1044,-812 1044,-818 1044,-818 1044,-888 1044,-888 1044,-894 1038,-900 1032,-900 1032,-900 884,-900 884,-900 878,-900 872,-894 872,-888 872,-888 872,-818 872,-818 872,-812 878,-806 884,-806\"/>\n<text text-anchor=\"start\" x=\"909\" y=\"-885.4\" font-family=\"Arial, Helvetica, sans-serif\" font-weight=\"bold\" font-size=\"12.00\">Mention celebrity</text>\n<text text-anchor=\"start\" x=\"913\" y=\"-873.4\" font-family=\"Arial, Helvetica, sans-serif\" font-weight=\"bold\" font-size=\"12.00\">endorsements+</text>\n<text text-anchor=\"start\" x=\"904\" y=\"-854.4\" font-family=\"Arial, Helvetica, sans-serif\" font-size=\"12.00\">Mentioning celebrity</text>\n<text text-anchor=\"start\" x=\"878\" y=\"-841.4\" font-family=\"Arial, Helvetica, sans-serif\" font-size=\"12.00\">endorsements is less effective</text>\n<text text-anchor=\"start\" x=\"885\" y=\"-828.4\" font-family=\"Arial, Helvetica, sans-serif\" font-size=\"12.00\">in promoting QuantumGlow</text>\n<text text-anchor=\"start\" x=\"905.5\" y=\"-815.4\" font-family=\"Arial, Helvetica, sans-serif\" font-size=\"12.00\">Lighting because of</text>\n<path fill=\"none\" stroke=\"lightblue\" stroke-width=\"4\" d=\"M884,-806C884,-806 1032,-806 1032,-806 1038,-806 1044,-812 1044,-818 1044,-818 1044,-888 1044,-888 1044,-894 1038,-900 1032,-900 1032,-900 884,-900 884,-900 878,-900 872,-894 872,-888 872,-888 872,-818 872,-818 872,-812 878,-806 884,-806\"/>\n</a>\n</g>\n</g>\n<!-- 715bb67c&#45;c099&#45;497d&#45;bb22&#45;64c43ba4d69c -->\n<g id=\"node6\" class=\"node\">\n<title>715bb67c-c099-497d-bb22-64c43ba4d69c</title>\n<g id=\"a_node6\"><a xlink:title=\"Mentioning celebrity&lt;BR/&gt;endorsements is less effective&lt;BR/&gt;in promoting QuantumGlow&lt;BR/&gt;Lighting because of\">\n<path fill=\"white\" stroke=\"transparent\" d=\"M1094,-806C1094,-806 1242,-806 1242,-806 1248,-806 1254,-812 1254,-818 1254,-818 1254,-888 1254,-888 1254,-894 1248,-900 1242,-900 1242,-900 1094,-900 1094,-900 1088,-900 1082,-894 1082,-888 1082,-888 1082,-818 1082,-818 1082,-812 1088,-806 1094,-806\"/>\n<text text-anchor=\"start\" x=\"1119\" y=\"-885.4\" font-family=\"Arial, Helvetica, sans-serif\" font-weight=\"bold\" font-size=\"12.00\">Mention celebrity</text>\n<text text-anchor=\"start\" x=\"1124.5\" y=\"-873.4\" font-family=\"Arial, Helvetica, sans-serif\" font-weight=\"bold\" font-size=\"12.00\">endorsements-</text>\n<text text-anchor=\"start\" x=\"1114\" y=\"-854.4\" font-family=\"Arial, Helvetica, sans-serif\" font-size=\"12.00\">Mentioning celebrity</text>\n<text text-anchor=\"start\" x=\"1088\" y=\"-841.4\" font-family=\"Arial, Helvetica, sans-serif\" font-size=\"12.00\">endorsements is less effective</text>\n<text text-anchor=\"start\" x=\"1095\" y=\"-828.4\" font-family=\"Arial, Helvetica, sans-serif\" font-size=\"12.00\">in promoting QuantumGlow</text>\n<text text-anchor=\"start\" x=\"1115.5\" y=\"-815.4\" font-family=\"Arial, Helvetica, sans-serif\" font-size=\"12.00\">Lighting because of</text>\n<path fill=\"none\" stroke=\"lightblue\" stroke-width=\"4\" d=\"M1094,-806C1094,-806 1242,-806 1242,-806 1248,-806 1254,-812 1254,-818 1254,-818 1254,-888 1254,-888 1254,-894 1248,-900 1242,-900 1242,-900 1094,-900 1094,-900 1088,-900 1082,-894 1082,-888 1082,-888 1082,-818 1082,-818 1082,-812 1088,-806 1094,-806\"/>\n</a>\n</g>\n</g>\n<!-- 2b12d0a7&#45;ca2f&#45;40dc&#45;9947&#45;f1f11b777a89 -->\n<g id=\"node7\" class=\"node\">\n<title>2b12d0a7-ca2f-40dc-9947-f1f11b777a89</title>\n<g id=\"a_node7\"><a xlink:title=\"Jennifer's ad is more&lt;BR/&gt;effective in promoting&lt;BR/&gt;QuantumGlow Lighting because&lt;BR/&gt;of\">\n<path fill=\"white\" stroke=\"transparent\" d=\"M1304,-811.5C1304,-811.5 1464,-811.5 1464,-811.5 1470,-811.5 1476,-817.5 1476,-823.5 1476,-823.5 1476,-882.5 1476,-882.5 1476,-888.5 1470,-894.5 1464,-894.5 1464,-894.5 1304,-894.5 1304,-894.5 1298,-894.5 1292,-888.5 1292,-882.5 1292,-882.5 1292,-823.5 1292,-823.5 1292,-817.5 1298,-811.5 1304,-811.5\"/>\n<text text-anchor=\"start\" x=\"1347\" y=\"-879.4\" font-family=\"Arial, Helvetica, sans-serif\" font-weight=\"bold\" font-size=\"12.00\">Jennifer's ad</text>\n<text text-anchor=\"start\" x=\"1329\" y=\"-859.4\" font-family=\"Arial, Helvetica, sans-serif\" font-size=\"12.00\">Jennifer's ad is more</text>\n<text text-anchor=\"start\" x=\"1327\" y=\"-846.4\" font-family=\"Arial, Helvetica, sans-serif\" font-size=\"12.00\">effective in promoting</text>\n<text text-anchor=\"start\" x=\"1298\" y=\"-833.4\" font-family=\"Arial, Helvetica, sans-serif\" font-size=\"12.00\">QuantumGlow Lighting because</text>\n<text text-anchor=\"start\" x=\"1379\" y=\"-820.4\" font-family=\"Arial, Helvetica, sans-serif\" font-size=\"12.00\">of</text>\n<path fill=\"none\" stroke=\"lightblue\" stroke-width=\"4\" d=\"M1304,-811.5C1304,-811.5 1464,-811.5 1464,-811.5 1470,-811.5 1476,-817.5 1476,-823.5 1476,-823.5 1476,-882.5 1476,-882.5 1476,-888.5 1470,-894.5 1464,-894.5 1464,-894.5 1304,-894.5 1304,-894.5 1298,-894.5 1292,-888.5 1292,-882.5 1292,-882.5 1292,-823.5 1292,-823.5 1292,-817.5 1298,-811.5 1304,-811.5\"/>\n</a>\n</g>\n</g>\n<!-- e6f5a6e6&#45;288c&#45;43f3&#45;8745&#45;3cfb290532cc -->\n<g id=\"node8\" class=\"node\">\n<title>e6f5a6e6-288c-43f3-8745-3cfb290532cc</title>\n<g id=\"a_node8\"><a xlink:title=\"Catherine's ad is more&lt;BR/&gt;effective in promoting&lt;BR/&gt;QuantumGlow Lighting because&lt;BR/&gt;of\">\n<path fill=\"white\" stroke=\"transparent\" d=\"M1526,-811.5C1526,-811.5 1686,-811.5 1686,-811.5 1692,-811.5 1698,-817.5 1698,-823.5 1698,-823.5 1698,-882.5 1698,-882.5 1698,-888.5 1692,-894.5 1686,-894.5 1686,-894.5 1526,-894.5 1526,-894.5 1520,-894.5 1514,-888.5 1514,-882.5 1514,-882.5 1514,-823.5 1514,-823.5 1514,-817.5 1520,-811.5 1526,-811.5\"/>\n<text text-anchor=\"start\" x=\"1564.5\" y=\"-879.4\" font-family=\"Arial, Helvetica, sans-serif\" font-weight=\"bold\" font-size=\"12.00\">Catherine's ad</text>\n<text text-anchor=\"start\" x=\"1546\" y=\"-859.4\" font-family=\"Arial, Helvetica, sans-serif\" font-size=\"12.00\">Catherine's ad is more</text>\n<text text-anchor=\"start\" x=\"1549\" y=\"-846.4\" font-family=\"Arial, Helvetica, sans-serif\" font-size=\"12.00\">effective in promoting</text>\n<text text-anchor=\"start\" x=\"1520\" y=\"-833.4\" font-family=\"Arial, Helvetica, sans-serif\" font-size=\"12.00\">QuantumGlow Lighting because</text>\n<text text-anchor=\"start\" x=\"1601\" y=\"-820.4\" font-family=\"Arial, Helvetica, sans-serif\" font-size=\"12.00\">of</text>\n<path fill=\"none\" stroke=\"lightblue\" stroke-width=\"4\" d=\"M1526,-811.5C1526,-811.5 1686,-811.5 1686,-811.5 1692,-811.5 1698,-817.5 1698,-823.5 1698,-823.5 1698,-882.5 1698,-882.5 1698,-888.5 1692,-894.5 1686,-894.5 1686,-894.5 1526,-894.5 1526,-894.5 1520,-894.5 1514,-888.5 1514,-882.5 1514,-882.5 1514,-823.5 1514,-823.5 1514,-817.5 1520,-811.5 1526,-811.5\"/>\n</a>\n</g>\n</g>\n<!-- 7ac684db&#45;ba80&#45;4d6e&#45;84b9&#45;c4c2c5d1365f -->\n<g id=\"node9\" class=\"node\">\n<title>7ac684db-ba80-4d6e-84b9-c4c2c5d1365f</title>\n<g id=\"a_node9\"><a xlink:title=\"Jennifer's ad doesn't provide&lt;BR/&gt;information about the eco-&lt;BR/&gt;friendliness of QuantumGlow&lt;BR/&gt;Lighting\">\n<path fill=\"lightblue\" stroke=\"transparent\" d=\"M1340,-452C1340,-452 1482,-452 1482,-452 1488,-452 1494,-458 1494,-464 1494,-464 1494,-523 1494,-523 1494,-529 1488,-535 1482,-535 1482,-535 1340,-535 1340,-535 1334,-535 1328,-529 1328,-523 1328,-523 1328,-464 1328,-464 1328,-458 1334,-452 1340,-452\"/>\n<text text-anchor=\"start\" x=\"1358\" y=\"-519.9\" font-family=\"Arial, Helvetica, sans-serif\" font-weight=\"bold\" font-size=\"12.00\">Jennifer's ad cons</text>\n<text text-anchor=\"start\" x=\"1335\" y=\"-499.9\" font-family=\"Arial, Helvetica, sans-serif\" font-size=\"12.00\">Jennifer's ad doesn't provide</text>\n<text text-anchor=\"start\" x=\"1341.5\" y=\"-486.9\" font-family=\"Arial, Helvetica, sans-serif\" font-size=\"12.00\">information about the eco-</text>\n<text text-anchor=\"start\" x=\"1334\" y=\"-473.9\" font-family=\"Arial, Helvetica, sans-serif\" font-size=\"12.00\">friendliness of QuantumGlow</text>\n<text text-anchor=\"start\" x=\"1389.5\" y=\"-460.9\" font-family=\"Arial, Helvetica, sans-serif\" font-size=\"12.00\">Lighting</text>\n<path fill=\"none\" stroke=\"lightblue\" stroke-width=\"4\" d=\"M1340,-452C1340,-452 1482,-452 1482,-452 1488,-452 1494,-458 1494,-464 1494,-464 1494,-523 1494,-523 1494,-529 1488,-535 1482,-535 1482,-535 1340,-535 1340,-535 1334,-535 1328,-529 1328,-523 1328,-523 1328,-464 1328,-464 1328,-458 1334,-452 1340,-452\"/>\n</a>\n</g>\n</g>\n<!-- 37c86259&#45;9d03&#45;4241&#45;b384&#45;826dbe37716b -->\n<g id=\"node16\" class=\"node\">\n<title>37c86259-9d03-4241-b384-826dbe37716b</title>\n<g id=\"a_node16\"><a xlink:title=\"Jennifer's ad has clear&lt;BR/&gt;messaging.\">\n<path fill=\"lightblue\" stroke=\"transparent\" d=\"M1458,-583C1458,-583 1566,-583 1566,-583 1572,-583 1578,-589 1578,-595 1578,-595 1578,-628 1578,-628 1578,-634 1572,-640 1566,-640 1566,-640 1458,-640 1458,-640 1452,-640 1446,-634 1446,-628 1446,-628 1446,-595 1446,-595 1446,-589 1452,-583 1458,-583\"/>\n<text text-anchor=\"start\" x=\"1463.5\" y=\"-624.9\" font-family=\"Arial, Helvetica, sans-serif\" font-weight=\"bold\" font-size=\"12.00\">Clear messaging</text>\n<text text-anchor=\"start\" x=\"1452\" y=\"-604.9\" font-family=\"Arial, Helvetica, sans-serif\" font-size=\"12.00\">Jennifer's ad has clear</text>\n<text text-anchor=\"start\" x=\"1481\" y=\"-591.9\" font-family=\"Arial, Helvetica, sans-serif\" font-size=\"12.00\">messaging.</text>\n<path fill=\"none\" stroke=\"lightblue\" stroke-width=\"4\" d=\"M1458,-583C1458,-583 1566,-583 1566,-583 1572,-583 1578,-589 1578,-595 1578,-595 1578,-628 1578,-628 1578,-634 1572,-640 1566,-640 1566,-640 1458,-640 1458,-640 1452,-640 1446,-634 1446,-628 1446,-628 1446,-595 1446,-595 1446,-589 1452,-583 1458,-583\"/>\n</a>\n</g>\n</g>\n<!-- 7ac684db&#45;ba80&#45;4d6e&#45;84b9&#45;c4c2c5d1365f&#45;&gt;37c86259&#45;9d03&#45;4241&#45;b384&#45;826dbe37716b -->\n<g id=\"edge1\" class=\"edge\">\n<title>7ac684db-ba80-4d6e-84b9-c4c2c5d1365f-&gt;37c86259-9d03-4241-b384-826dbe37716b</title>\n<path fill=\"none\" stroke=\"#a9a9a9\" stroke-width=\"2\" d=\"M1451.5,-541.01C1459.56,-550.28 1467.98,-559.95 1475.89,-569.03\"/>\n<polygon fill=\"#a9a9a9\" stroke=\"#a9a9a9\" stroke-width=\"2\" points=\"1473.48,-571.59 1482.68,-576.83 1478.76,-566.99 1473.48,-571.59\"/>\n</g>\n<!-- 0252df16&#45;cce2&#45;4384&#45;b9e0&#45;8f5e9c06c7cd -->\n<g id=\"node10\" class=\"node\">\n<title>0252df16-cce2-4384-b9e0-8f5e9c06c7cd</title>\n<g id=\"a_node10\"><a xlink:title=\"Catherine's ad may be too&lt;BR/&gt;technical for some users\">\n<path fill=\"lightblue\" stroke=\"transparent\" d=\"M1451.5,-12.5C1451.5,-12.5 1578.5,-12.5 1578.5,-12.5 1584.5,-12.5 1590.5,-18.5 1590.5,-24.5 1590.5,-24.5 1590.5,-57.5 1590.5,-57.5 1590.5,-63.5 1584.5,-69.5 1578.5,-69.5 1578.5,-69.5 1451.5,-69.5 1451.5,-69.5 1445.5,-69.5 1439.5,-63.5 1439.5,-57.5 1439.5,-57.5 1439.5,-24.5 1439.5,-24.5 1439.5,-18.5 1445.5,-12.5 1451.5,-12.5\"/>\n<text text-anchor=\"start\" x=\"1481\" y=\"-54.4\" font-family=\"Arial, Helvetica, sans-serif\" font-weight=\"bold\" font-size=\"12.00\">Technicality</text>\n<text text-anchor=\"start\" x=\"1446\" y=\"-34.4\" font-family=\"Arial, Helvetica, sans-serif\" font-size=\"12.00\">Catherine's ad may be too</text>\n<text text-anchor=\"start\" x=\"1450.5\" y=\"-21.4\" font-family=\"Arial, Helvetica, sans-serif\" font-size=\"12.00\">technical for some users</text>\n<path fill=\"none\" stroke=\"lightblue\" stroke-width=\"4\" d=\"M1451.5,-12.5C1451.5,-12.5 1578.5,-12.5 1578.5,-12.5 1584.5,-12.5 1590.5,-18.5 1590.5,-24.5 1590.5,-24.5 1590.5,-57.5 1590.5,-57.5 1590.5,-63.5 1584.5,-69.5 1578.5,-69.5 1578.5,-69.5 1451.5,-69.5 1451.5,-69.5 1445.5,-69.5 1439.5,-63.5 1439.5,-57.5 1439.5,-57.5 1439.5,-24.5 1439.5,-24.5 1439.5,-18.5 1445.5,-12.5 1451.5,-12.5\"/>\n</a>\n</g>\n</g>\n<!-- 394f2752&#45;9b91&#45;4f32&#45;9637&#45;d71583cb18d6 -->\n<g id=\"node15\" class=\"node\">\n<title>394f2752-9b91-4f32-9637-d71583cb18d6</title>\n<g id=\"a_node15\"><a xlink:title=\"The description in Catherine's&lt;BR/&gt;ad is quite long\">\n<path fill=\"lightblue\" stroke=\"transparent\" d=\"M1503,-124C1503,-124 1651,-124 1651,-124 1657,-124 1663,-130 1663,-136 1663,-136 1663,-169 1663,-169 1663,-175 1657,-181 1651,-181 1651,-181 1503,-181 1503,-181 1497,-181 1491,-175 1491,-169 1491,-169 1491,-136 1491,-136 1491,-130 1497,-124 1503,-124\"/>\n<text text-anchor=\"start\" x=\"1514.5\" y=\"-165.9\" font-family=\"Arial, Helvetica, sans-serif\" font-weight=\"bold\" font-size=\"12.00\">Catherine's ad cons-2</text>\n<text text-anchor=\"start\" x=\"1497\" y=\"-145.9\" font-family=\"Arial, Helvetica, sans-serif\" font-size=\"12.00\">The description in Catherine's</text>\n<text text-anchor=\"start\" x=\"1536\" y=\"-132.9\" font-family=\"Arial, Helvetica, sans-serif\" font-size=\"12.00\">ad is quite long</text>\n<path fill=\"none\" stroke=\"lightblue\" stroke-width=\"4\" d=\"M1503,-124C1503,-124 1651,-124 1651,-124 1657,-124 1663,-130 1663,-136 1663,-136 1663,-169 1663,-169 1663,-175 1657,-181 1651,-181 1651,-181 1503,-181 1503,-181 1497,-181 1491,-175 1491,-169 1491,-169 1491,-136 1491,-136 1491,-130 1497,-124 1503,-124\"/>\n</a>\n</g>\n</g>\n<!-- 0252df16&#45;cce2&#45;4384&#45;b9e0&#45;8f5e9c06c7cd&#45;&gt;394f2752&#45;9b91&#45;4f32&#45;9637&#45;d71583cb18d6 -->\n<g id=\"edge2\" class=\"edge\">\n<title>0252df16-cce2-4384-b9e0-8f5e9c06c7cd-&gt;394f2752-9b91-4f32-9637-d71583cb18d6</title>\n<path fill=\"none\" stroke=\"#b98b8b\" stroke-width=\"2\" d=\"M1534.11,-75.75C1540,-86.15 1546.57,-97.76 1552.76,-108.69\"/>\n<polygon fill=\"#b98b8b\" stroke=\"#b98b8b\" stroke-width=\"2\" points=\"1549.88,-110.7 1557.85,-117.68 1555.97,-107.25 1549.88,-110.7\"/>\n</g>\n<!-- 211db9c4&#45;f3be&#45;48c2&#45;afcc&#45;456c321cc65b -->\n<g id=\"node19\" class=\"node\">\n<title>211db9c4-f3be-48c2-afcc-456c321cc65b</title>\n<g id=\"a_node19\"><a xlink:title=\"Jennifer's ad doesn't explain&lt;BR/&gt;the technology behind&lt;BR/&gt;QuantumGlow Lighting.\">\n<path fill=\"lightblue\" stroke=\"transparent\" d=\"M1445.5,-334C1445.5,-334 1584.5,-334 1584.5,-334 1590.5,-334 1596.5,-340 1596.5,-346 1596.5,-346 1596.5,-392 1596.5,-392 1596.5,-398 1590.5,-404 1584.5,-404 1584.5,-404 1445.5,-404 1445.5,-404 1439.5,-404 1433.5,-398 1433.5,-392 1433.5,-392 1433.5,-346 1433.5,-346 1433.5,-340 1439.5,-334 1445.5,-334\"/>\n<text text-anchor=\"start\" x=\"1440\" y=\"-389.4\" font-family=\"Arial, Helvetica, sans-serif\" font-weight=\"bold\" font-size=\"12.00\">Explanation of technology</text>\n<text text-anchor=\"start\" x=\"1440\" y=\"-369.4\" font-family=\"Arial, Helvetica, sans-serif\" font-size=\"12.00\">Jennifer's ad doesn't explain</text>\n<text text-anchor=\"start\" x=\"1456.5\" y=\"-356.4\" font-family=\"Arial, Helvetica, sans-serif\" font-size=\"12.00\">the technology behind</text>\n<text text-anchor=\"start\" x=\"1452.5\" y=\"-343.4\" font-family=\"Arial, Helvetica, sans-serif\" font-size=\"12.00\">QuantumGlow Lighting.</text>\n<path fill=\"none\" stroke=\"lightblue\" stroke-width=\"4\" d=\"M1445.5,-334C1445.5,-334 1584.5,-334 1584.5,-334 1590.5,-334 1596.5,-340 1596.5,-346 1596.5,-346 1596.5,-392 1596.5,-392 1596.5,-398 1590.5,-404 1584.5,-404 1584.5,-404 1445.5,-404 1445.5,-404 1439.5,-404 1433.5,-398 1433.5,-392 1433.5,-392 1433.5,-346 1433.5,-346 1433.5,-340 1439.5,-334 1445.5,-334\"/>\n</a>\n</g>\n</g>\n<!-- 0252df16&#45;cce2&#45;4384&#45;b9e0&#45;8f5e9c06c7cd&#45;&gt;211db9c4&#45;f3be&#45;48c2&#45;afcc&#45;456c321cc65b -->\n<g id=\"edge3\" class=\"edge\">\n<title>0252df16-cce2-4384-b9e0-8f5e9c06c7cd-&gt;211db9c4-f3be-48c2-afcc-456c321cc65b</title>\n<path fill=\"none\" stroke=\"#af9d9d\" stroke-width=\"2\" d=\"M1491.09,-75.56C1483.41,-88.24 1475.9,-103.19 1472,-118 1452.27,-192.93 1463.72,-216.95 1483,-292 1485.23,-300.66 1488.27,-309.63 1491.6,-318.23\"/>\n<polygon fill=\"#af9d9d\" stroke=\"#af9d9d\" stroke-width=\"2\" points=\"1488.46,-319.79 1495.46,-327.74 1494.95,-317.16 1488.46,-319.79\"/>\n</g>\n<!-- e83c0ae3&#45;7ab9&#45;43ea&#45;955a&#45;c2ebedf62109 -->\n<g id=\"node11\" class=\"node\">\n<title>e83c0ae3-7ab9-43ea-955a-c2ebedf62109</title>\n<g id=\"a_node11\"><a xlink:title=\"Catherine's ad doesn't have&lt;BR/&gt;the product name in the&lt;BR/&gt;headline\">\n<path fill=\"lightblue\" stroke=\"transparent\" d=\"M1720,-6C1720,-6 1856,-6 1856,-6 1862,-6 1868,-12 1868,-18 1868,-18 1868,-64 1868,-64 1868,-70 1862,-76 1856,-76 1856,-76 1720,-76 1720,-76 1714,-76 1708,-70 1708,-64 1708,-64 1708,-18 1708,-18 1708,-12 1714,-6 1720,-6\"/>\n<text text-anchor=\"start\" x=\"1747.5\" y=\"-61.4\" font-family=\"Arial, Helvetica, sans-serif\" font-weight=\"bold\" font-size=\"12.00\">Product name</text>\n<text text-anchor=\"start\" x=\"1714\" y=\"-41.4\" font-family=\"Arial, Helvetica, sans-serif\" font-size=\"12.00\">Catherine's ad doesn't have</text>\n<text text-anchor=\"start\" x=\"1725.5\" y=\"-28.4\" font-family=\"Arial, Helvetica, sans-serif\" font-size=\"12.00\">the product name in the</text>\n<text text-anchor=\"start\" x=\"1764.5\" y=\"-15.4\" font-family=\"Arial, Helvetica, sans-serif\" font-size=\"12.00\">headline</text>\n<path fill=\"none\" stroke=\"lightblue\" stroke-width=\"4\" d=\"M1720,-6C1720,-6 1856,-6 1856,-6 1862,-6 1868,-12 1868,-18 1868,-18 1868,-64 1868,-64 1868,-70 1862,-76 1856,-76 1856,-76 1720,-76 1720,-76 1714,-76 1708,-70 1708,-64 1708,-64 1708,-18 1708,-18 1708,-12 1714,-6 1720,-6\"/>\n</a>\n</g>\n</g>\n<!-- 20ef2735&#45;d4cf&#45;4c4f&#45;b5cb&#45;9b795b06b3fd -->\n<g id=\"node13\" class=\"node\">\n<title>20ef2735-d4cf-4c4f-b5cb-9b795b06b3fd</title>\n<g id=\"a_node13\"><a xlink:title=\"Catherine's ad doesn't include&lt;BR/&gt;the product name in the\">\n<path fill=\"lightblue\" stroke=\"transparent\" d=\"M1713.5,-124C1713.5,-124 1862.5,-124 1862.5,-124 1868.5,-124 1874.5,-130 1874.5,-136 1874.5,-136 1874.5,-169 1874.5,-169 1874.5,-175 1868.5,-181 1862.5,-181 1862.5,-181 1713.5,-181 1713.5,-181 1707.5,-181 1701.5,-175 1701.5,-169 1701.5,-169 1701.5,-136 1701.5,-136 1701.5,-130 1707.5,-124 1713.5,-124\"/>\n<text text-anchor=\"start\" x=\"1720.5\" y=\"-165.9\" font-family=\"Arial, Helvetica, sans-serif\" font-weight=\"bold\" font-size=\"12.00\">Product name omission</text>\n<text text-anchor=\"start\" x=\"1708\" y=\"-145.9\" font-family=\"Arial, Helvetica, sans-serif\" font-size=\"12.00\">Catherine's ad doesn't include</text>\n<text text-anchor=\"start\" x=\"1726\" y=\"-132.9\" font-family=\"Arial, Helvetica, sans-serif\" font-size=\"12.00\">the product name in the</text>\n<path fill=\"none\" stroke=\"lightblue\" stroke-width=\"4\" d=\"M1713.5,-124C1713.5,-124 1862.5,-124 1862.5,-124 1868.5,-124 1874.5,-130 1874.5,-136 1874.5,-136 1874.5,-169 1874.5,-169 1874.5,-175 1868.5,-181 1862.5,-181 1862.5,-181 1713.5,-181 1713.5,-181 1707.5,-181 1701.5,-175 1701.5,-169 1701.5,-169 1701.5,-136 1701.5,-136 1701.5,-130 1707.5,-124 1713.5,-124\"/>\n</a>\n</g>\n</g>\n<!-- e83c0ae3&#45;7ab9&#45;43ea&#45;955a&#45;c2ebedf62109&#45;&gt;20ef2735&#45;d4cf&#45;4c4f&#45;b5cb&#45;9b795b06b3fd -->\n<g id=\"edge4\" class=\"edge\">\n<title>e83c0ae3-7ab9-43ea-955a-c2ebedf62109-&gt;20ef2735-d4cf-4c4f-b5cb-9b795b06b3fd</title>\n<path fill=\"none\" stroke=\"#bb8686\" stroke-width=\"2\" d=\"M1788,-82.15C1788,-90.48 1788,-99.3 1788,-107.75\"/>\n<polygon fill=\"#bb8686\" stroke=\"#bb8686\" stroke-width=\"2\" points=\"1784.5,-107.83 1788,-117.83 1791.5,-107.83 1784.5,-107.83\"/>\n</g>\n<!-- bda4cd2f&#45;ec7f&#45;4563&#45;ac74&#45;d66426462ea8 -->\n<g id=\"node12\" class=\"node\">\n<title>bda4cd2f-ec7f-4563-ac74-d66426462ea8</title>\n<g id=\"a_node12\"><a xlink:title=\"Catherine's ad may be too&lt;BR/&gt;technical\">\n<path fill=\"lightblue\" stroke=\"transparent\" d=\"M1513.5,-229C1513.5,-229 1640.5,-229 1640.5,-229 1646.5,-229 1652.5,-235 1652.5,-241 1652.5,-241 1652.5,-274 1652.5,-274 1652.5,-280 1646.5,-286 1640.5,-286 1640.5,-286 1513.5,-286 1513.5,-286 1507.5,-286 1501.5,-280 1501.5,-274 1501.5,-274 1501.5,-241 1501.5,-241 1501.5,-235 1507.5,-229 1513.5,-229\"/>\n<text text-anchor=\"start\" x=\"1543\" y=\"-270.9\" font-family=\"Arial, Helvetica, sans-serif\" font-weight=\"bold\" font-size=\"12.00\">Technicality</text>\n<text text-anchor=\"start\" x=\"1508\" y=\"-250.9\" font-family=\"Arial, Helvetica, sans-serif\" font-size=\"12.00\">Catherine's ad may be too</text>\n<text text-anchor=\"start\" x=\"1553\" y=\"-237.9\" font-family=\"Arial, Helvetica, sans-serif\" font-size=\"12.00\">technical</text>\n<path fill=\"none\" stroke=\"lightblue\" stroke-width=\"4\" d=\"M1513.5,-229C1513.5,-229 1640.5,-229 1640.5,-229 1646.5,-229 1652.5,-235 1652.5,-241 1652.5,-241 1652.5,-274 1652.5,-274 1652.5,-280 1646.5,-286 1640.5,-286 1640.5,-286 1513.5,-286 1513.5,-286 1507.5,-286 1501.5,-280 1501.5,-274 1501.5,-274 1501.5,-241 1501.5,-241 1501.5,-235 1507.5,-229 1513.5,-229\"/>\n</a>\n</g>\n</g>\n<!-- bda4cd2f&#45;ec7f&#45;4563&#45;ac74&#45;d66426462ea8&#45;&gt;211db9c4&#45;f3be&#45;48c2&#45;afcc&#45;456c321cc65b -->\n<g id=\"edge5\" class=\"edge\">\n<title>bda4cd2f-ec7f-4563-ac74-d66426462ea8-&gt;211db9c4-f3be-48c2-afcc-456c321cc65b</title>\n<path fill=\"none\" stroke=\"#b68e8e\" stroke-width=\"2\" d=\"M1557.89,-292.25C1553.14,-300.64 1547.95,-309.8 1542.88,-318.77\"/>\n<polygon fill=\"#b68e8e\" stroke=\"#b68e8e\" stroke-width=\"2\" points=\"1539.74,-317.2 1537.86,-327.63 1545.83,-320.65 1539.74,-317.2\"/>\n</g>\n<!-- 20ef2735&#45;d4cf&#45;4c4f&#45;b5cb&#45;9b795b06b3fd&#45;&gt;bda4cd2f&#45;ec7f&#45;4563&#45;ac74&#45;d66426462ea8 -->\n<g id=\"edge6\" class=\"edge\">\n<title>20ef2735-d4cf-4c4f-b5cb-9b795b06b3fd-&gt;bda4cd2f-ec7f-4563-ac74-d66426462ea8</title>\n<path fill=\"none\" stroke=\"#a9a9a9\" stroke-width=\"2\" d=\"M1719.2,-187.08C1698.67,-197.11 1676.02,-208.16 1654.94,-218.45\"/>\n<polygon fill=\"#a9a9a9\" stroke=\"#a9a9a9\" stroke-width=\"2\" points=\"1653.15,-215.43 1645.7,-222.96 1656.23,-221.72 1653.15,-215.43\"/>\n</g>\n<!-- 7498ae36&#45;293d&#45;4150&#45;8fb8&#45;7d8f9fe3b077 -->\n<g id=\"node14\" class=\"node\">\n<title>7498ae36-293d-4150-8fb8-7d8f9fe3b077</title>\n<g id=\"a_node14\"><a xlink:title=\"Catherine's ad emphasizes the&lt;BR/&gt;eco-friendliness of&lt;BR/&gt;QuantumGlow Lighting\">\n<path fill=\"lightblue\" stroke=\"transparent\" d=\"M1230.5,-334C1230.5,-334 1383.5,-334 1383.5,-334 1389.5,-334 1395.5,-340 1395.5,-346 1395.5,-346 1395.5,-392 1395.5,-392 1395.5,-398 1389.5,-404 1383.5,-404 1383.5,-404 1230.5,-404 1230.5,-404 1224.5,-404 1218.5,-398 1218.5,-392 1218.5,-392 1218.5,-346 1218.5,-346 1218.5,-340 1224.5,-334 1230.5,-334\"/>\n<text text-anchor=\"start\" x=\"1231.5\" y=\"-389.4\" font-family=\"Arial, Helvetica, sans-serif\" font-weight=\"bold\" font-size=\"12.00\">Eco-friendliness emphasis</text>\n<text text-anchor=\"start\" x=\"1225\" y=\"-369.4\" font-family=\"Arial, Helvetica, sans-serif\" font-size=\"12.00\">Catherine's ad emphasizes the</text>\n<text text-anchor=\"start\" x=\"1258.5\" y=\"-356.4\" font-family=\"Arial, Helvetica, sans-serif\" font-size=\"12.00\">eco-friendliness of</text>\n<text text-anchor=\"start\" x=\"1246\" y=\"-343.4\" font-family=\"Arial, Helvetica, sans-serif\" font-size=\"12.00\">QuantumGlow Lighting</text>\n<path fill=\"none\" stroke=\"lightblue\" stroke-width=\"4\" d=\"M1230.5,-334C1230.5,-334 1383.5,-334 1383.5,-334 1389.5,-334 1395.5,-340 1395.5,-346 1395.5,-346 1395.5,-392 1395.5,-392 1395.5,-398 1389.5,-404 1383.5,-404 1383.5,-404 1230.5,-404 1230.5,-404 1224.5,-404 1218.5,-398 1218.5,-392 1218.5,-392 1218.5,-346 1218.5,-346 1218.5,-340 1224.5,-334 1230.5,-334\"/>\n</a>\n</g>\n</g>\n<!-- 7498ae36&#45;293d&#45;4150&#45;8fb8&#45;7d8f9fe3b077&#45;&gt;7ac684db&#45;ba80&#45;4d6e&#45;84b9&#45;c4c2c5d1365f -->\n<g id=\"edge7\" class=\"edge\">\n<title>7498ae36-293d-4150-8fb8-7d8f9fe3b077-&gt;7ac684db-ba80-4d6e-84b9-c4c2c5d1365f</title>\n<path fill=\"none\" stroke=\"#ae9f9f\" stroke-width=\"2\" d=\"M1341.05,-410.11C1348.64,-419.05 1356.82,-428.68 1364.8,-438.08\"/>\n<polygon fill=\"#ae9f9f\" stroke=\"#ae9f9f\" stroke-width=\"2\" points=\"1362.31,-440.56 1371.45,-445.92 1367.65,-436.03 1362.31,-440.56\"/>\n</g>\n<!-- 394f2752&#45;9b91&#45;4f32&#45;9637&#45;d71583cb18d6&#45;&gt;bda4cd2f&#45;ec7f&#45;4563&#45;ac74&#45;d66426462ea8 -->\n<g id=\"edge8\" class=\"edge\">\n<title>394f2752-9b91-4f32-9637-d71583cb18d6-&gt;bda4cd2f-ec7f-4563-ac74-d66426462ea8</title>\n<path fill=\"none\" stroke=\"#b49494\" stroke-width=\"2\" d=\"M1577,-187.23C1577,-195.32 1577,-204.08 1577,-212.56\"/>\n<polygon fill=\"#b49494\" stroke=\"#b49494\" stroke-width=\"2\" points=\"1573.5,-212.7 1577,-222.7 1580.5,-212.7 1573.5,-212.7\"/>\n</g>\n<!-- aed247e6&#45;f38e&#45;46d5&#45;b9a6&#45;8d341979cedc -->\n<g id=\"node17\" class=\"node\">\n<title>aed247e6-f38e-46d5-b9a6-8d341979cedc</title>\n<g id=\"a_node17\"><a xlink:title=\"Jennifer's ad has effective&lt;BR/&gt;use of space.\">\n<path fill=\"lightblue\" stroke=\"transparent\" d=\"M1449,-694.5C1449,-694.5 1575,-694.5 1575,-694.5 1581,-694.5 1587,-700.5 1587,-706.5 1587,-706.5 1587,-739.5 1587,-739.5 1587,-745.5 1581,-751.5 1575,-751.5 1575,-751.5 1449,-751.5 1449,-751.5 1443,-751.5 1437,-745.5 1437,-739.5 1437,-739.5 1437,-706.5 1437,-706.5 1437,-700.5 1443,-694.5 1449,-694.5\"/>\n<text text-anchor=\"start\" x=\"1449\" y=\"-736.4\" font-family=\"Arial, Helvetica, sans-serif\" font-weight=\"bold\" font-size=\"12.00\">Effective use of space</text>\n<text text-anchor=\"start\" x=\"1443\" y=\"-716.4\" font-family=\"Arial, Helvetica, sans-serif\" font-size=\"12.00\">Jennifer's ad has effective</text>\n<text text-anchor=\"start\" x=\"1476.5\" y=\"-703.4\" font-family=\"Arial, Helvetica, sans-serif\" font-size=\"12.00\">use of space.</text>\n<path fill=\"none\" stroke=\"lightblue\" stroke-width=\"4\" d=\"M1449,-694.5C1449,-694.5 1575,-694.5 1575,-694.5 1581,-694.5 1587,-700.5 1587,-706.5 1587,-706.5 1587,-739.5 1587,-739.5 1587,-745.5 1581,-751.5 1575,-751.5 1575,-751.5 1449,-751.5 1449,-751.5 1443,-751.5 1437,-745.5 1437,-739.5 1437,-739.5 1437,-706.5 1437,-706.5 1437,-700.5 1443,-694.5 1449,-694.5\"/>\n</a>\n</g>\n</g>\n<!-- 37c86259&#45;9d03&#45;4241&#45;b384&#45;826dbe37716b&#45;&gt;aed247e6&#45;f38e&#45;46d5&#45;b9a6&#45;8d341979cedc -->\n<g id=\"edge9\" class=\"edge\">\n<title>37c86259-9d03-4241-b384-826dbe37716b-&gt;aed247e6-f38e-46d5-b9a6-8d341979cedc</title>\n<path fill=\"none\" stroke=\"#046604\" stroke-width=\"2\" d=\"M1512,-646.25C1512,-656.24 1512,-667.33 1512,-677.87\"/>\n<polygon fill=\"#046604\" stroke=\"#046604\" stroke-width=\"2\" points=\"1508.5,-678.18 1512,-688.18 1515.5,-678.18 1508.5,-678.18\"/>\n</g>\n<!-- aed247e6&#45;f38e&#45;46d5&#45;b9a6&#45;8d341979cedc&#45;&gt;e6f5a6e6&#45;288c&#45;43f3&#45;8745&#45;3cfb290532cc -->\n<g id=\"edge10\" class=\"edge\">\n<title>aed247e6-f38e-46d5-b9a6-8d341979cedc-&gt;e6f5a6e6-288c-43f3-8745-3cfb290532cc</title>\n<path fill=\"none\" stroke=\"#a9a9a9\" stroke-width=\"2\" d=\"M1536.7,-757.63C1545.53,-769.65 1555.72,-783.54 1565.53,-796.89\"/>\n<polygon fill=\"#a9a9a9\" stroke=\"#a9a9a9\" stroke-width=\"2\" points=\"1562.83,-799.13 1571.57,-805.12 1568.48,-794.99 1562.83,-799.13\"/>\n</g>\n<!-- a94460ca&#45;e5a5&#45;42f5&#45;965c&#45;e74a804dc1b2 -->\n<g id=\"node18\" class=\"node\">\n<title>a94460ca-e5a5-42f5-965c-e74a804dc1b2</title>\n<g id=\"a_node18\"><a xlink:title=\"Jennifer's ad has a clear call&lt;BR/&gt;to action.\">\n<path fill=\"lightblue\" stroke=\"transparent\" d=\"M1544.5,-465C1544.5,-465 1683.5,-465 1683.5,-465 1689.5,-465 1695.5,-471 1695.5,-477 1695.5,-477 1695.5,-510 1695.5,-510 1695.5,-516 1689.5,-522 1683.5,-522 1683.5,-522 1544.5,-522 1544.5,-522 1538.5,-522 1532.5,-516 1532.5,-510 1532.5,-510 1532.5,-477 1532.5,-477 1532.5,-471 1538.5,-465 1544.5,-465\"/>\n<text text-anchor=\"start\" x=\"1561.5\" y=\"-506.9\" font-family=\"Arial, Helvetica, sans-serif\" font-weight=\"bold\" font-size=\"12.00\">Clear call to action</text>\n<text text-anchor=\"start\" x=\"1539\" y=\"-486.9\" font-family=\"Arial, Helvetica, sans-serif\" font-size=\"12.00\">Jennifer's ad has a clear call</text>\n<text text-anchor=\"start\" x=\"1590\" y=\"-473.9\" font-family=\"Arial, Helvetica, sans-serif\" font-size=\"12.00\">to action.</text>\n<path fill=\"none\" stroke=\"lightblue\" stroke-width=\"4\" d=\"M1544.5,-465C1544.5,-465 1683.5,-465 1683.5,-465 1689.5,-465 1695.5,-471 1695.5,-477 1695.5,-477 1695.5,-510 1695.5,-510 1695.5,-516 1689.5,-522 1683.5,-522 1683.5,-522 1544.5,-522 1544.5,-522 1538.5,-522 1532.5,-516 1532.5,-510 1532.5,-510 1532.5,-477 1532.5,-477 1532.5,-471 1538.5,-465 1544.5,-465\"/>\n</a>\n</g>\n</g>\n<!-- a94460ca&#45;e5a5&#45;42f5&#45;965c&#45;e74a804dc1b2&#45;&gt;37c86259&#45;9d03&#45;4241&#45;b384&#45;826dbe37716b -->\n<g id=\"edge11\" class=\"edge\">\n<title>a94460ca-e5a5-42f5-965c-e74a804dc1b2-&gt;37c86259-9d03-4241-b384-826dbe37716b</title>\n<path fill=\"none\" stroke=\"#006400\" stroke-width=\"2\" d=\"M1584.5,-528.05C1573.28,-540.81 1560.37,-555.49 1548.58,-568.9\"/>\n<polygon fill=\"#006400\" stroke=\"#006400\" stroke-width=\"2\" points=\"1545.76,-566.8 1541.79,-576.62 1551.02,-571.42 1545.76,-566.8\"/>\n</g>\n<!-- 211db9c4&#45;f3be&#45;48c2&#45;afcc&#45;456c321cc65b&#45;&gt;7ac684db&#45;ba80&#45;4d6e&#45;84b9&#45;c4c2c5d1365f -->\n<g id=\"edge12\" class=\"edge\">\n<title>211db9c4-f3be-48c2-afcc-456c321cc65b-&gt;7ac684db-ba80-4d6e-84b9-c4c2c5d1365f</title>\n<path fill=\"none\" stroke=\"#a9a9a9\" stroke-width=\"2\" d=\"M1480.95,-410.11C1473.36,-419.05 1465.18,-428.68 1457.2,-438.08\"/>\n<polygon fill=\"#a9a9a9\" stroke=\"#a9a9a9\" stroke-width=\"2\" points=\"1454.35,-436.03 1450.55,-445.92 1459.69,-440.56 1454.35,-436.03\"/>\n</g>\n<!-- 239e2506&#45;6eb8&#45;4c69&#45;a0ad&#45;0873bb055df6 -->\n<g id=\"node20\" class=\"node\">\n<title>239e2506-6eb8-4c69-a0ad-0873bb055df6</title>\n<g id=\"a_node20\"><a xlink:title=\"Jennifer's ad doesn't&lt;BR/&gt;emphasize the benefits of&lt;BR/&gt;QuantumGlow Lighting.\">\n<path fill=\"lightblue\" stroke=\"transparent\" d=\"M1637,-688C1637,-688 1761,-688 1761,-688 1767,-688 1773,-694 1773,-700 1773,-700 1773,-746 1773,-746 1773,-752 1767,-758 1761,-758 1761,-758 1637,-758 1637,-758 1631,-758 1625,-752 1625,-746 1625,-746 1625,-700 1625,-700 1625,-694 1631,-688 1637,-688\"/>\n<text text-anchor=\"start\" x=\"1637\" y=\"-743.4\" font-family=\"Arial, Helvetica, sans-serif\" font-weight=\"bold\" font-size=\"12.00\">Emphasis on benefits</text>\n<text text-anchor=\"start\" x=\"1644.5\" y=\"-723.4\" font-family=\"Arial, Helvetica, sans-serif\" font-size=\"12.00\">Jennifer's ad doesn't</text>\n<text text-anchor=\"start\" x=\"1631\" y=\"-710.4\" font-family=\"Arial, Helvetica, sans-serif\" font-size=\"12.00\">emphasize the benefits of</text>\n<text text-anchor=\"start\" x=\"1636\" y=\"-697.4\" font-family=\"Arial, Helvetica, sans-serif\" font-size=\"12.00\">QuantumGlow Lighting.</text>\n<path fill=\"none\" stroke=\"lightblue\" stroke-width=\"4\" d=\"M1637,-688C1637,-688 1761,-688 1761,-688 1767,-688 1773,-694 1773,-700 1773,-700 1773,-746 1773,-746 1773,-752 1767,-758 1761,-758 1761,-758 1637,-758 1637,-758 1631,-758 1625,-752 1625,-746 1625,-746 1625,-700 1625,-700 1625,-694 1631,-688 1637,-688\"/>\n</a>\n</g>\n</g>\n<!-- 239e2506&#45;6eb8&#45;4c69&#45;a0ad&#45;0873bb055df6&#45;&gt;e6f5a6e6&#45;288c&#45;43f3&#45;8745&#45;3cfb290532cc -->\n<g id=\"edge13\" class=\"edge\">\n<title>239e2506-6eb8-4c69-a0ad-0873bb055df6-&gt;e6f5a6e6-288c-43f3-8745-3cfb290532cc</title>\n<path fill=\"none\" stroke=\"#a9a9a9\" stroke-width=\"2\" d=\"M1669.83,-764.15C1662.27,-774.55 1654.01,-785.93 1646,-796.95\"/>\n<polygon fill=\"#a9a9a9\" stroke=\"#a9a9a9\" stroke-width=\"2\" points=\"1642.99,-795.13 1639.94,-805.28 1648.65,-799.25 1642.99,-795.13\"/>\n</g>\n</g>\n</svg>"
          },
          "metadata": {}
        }
      ]
    },
    {
      "cell_type": "markdown",
      "metadata": {
        "id": "9LZfAmj2YtHS"
      },
      "source": [
        "****\n",
        "\n",
        "(c) 2023 The Logikon AI Team | License: Apache 2.0"
      ]
    }
  ],
  "metadata": {
    "kernelspec": {
      "display_name": "Python 3",
      "name": "python3"
    },
    "language_info": {
      "name": "python",
      "version": "3.11.2"
    },
    "orig_nbformat": 4,
    "colab": {
      "provenance": [],
      "gpuType": "T4",
      "include_colab_link": true
    },
    "accelerator": "GPU"
  },
  "nbformat": 4,
  "nbformat_minor": 0
}