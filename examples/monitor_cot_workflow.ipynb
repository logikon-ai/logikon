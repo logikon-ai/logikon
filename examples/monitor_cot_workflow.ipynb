{
 "cells": [
  {
   "cell_type": "markdown",
   "metadata": {
    "colab_type": "text",
    "id": "view-in-github"
   },
   "source": [
    "<a href=\"https://colab.research.google.com/github/logikon-ai/logikon/blob/main/examples/monitor_cot_workflow.ipynb\" target=\"_parent\"><img src=\"https://colab.research.google.com/assets/colab-badge.svg\" alt=\"Open In Colab\"/></a>"
   ]
  },
  {
   "cell_type": "markdown",
   "metadata": {
    "id": "13hfBALnYtHL"
   },
   "source": [
    "# Guide for Monitoring Chain-of-Thought Apps (#1)\n",
    "\n",
    "**Logikon `/\\/`** – *Analyzing and Evaluating LLM Reasoning Traces*"
   ]
  },
  {
   "cell_type": "markdown",
   "metadata": {
    "id": "TUzKTbJtYtHM"
   },
   "source": [
    "This notebook illustrates how you can monitor an advanced LLM workflow with **Logikon `/\\/`** by scoring the intermediary reasoning traces.\n",
    "\n",
    "We're using 🤗's lightweight `zephyr-7b-beta` as **expert model** in this demo for its speed and small footprint. It tends to produce argumentative analyses that are creative and eloquent, rather than rigorous and exact -- and may hence not be the optimal expert model for your use cases."
   ]
  },
  {
   "cell_type": "markdown",
   "metadata": {
    "id": "apPN-0GVYtHN"
   },
   "source": [
    "> ⚠️ **Important notice.**\n",
    ">\n",
    "> **Logikon `/\\/`** is in early development stage:\n",
    "> * the package is subject to change at any time;\n",
    "> * results can vary due to changes in methods, pipelines, or underlying models;\n",
    "> * current speed and quality of evaluation results are not representative of future product.\n"
   ]
  },
  {
   "cell_type": "markdown",
   "metadata": {
    "id": "PBHAr94lFgCD"
   },
   "source": [
    "**Table of contents**\n",
    "\n",
    "* **[Part A – An advanced LLM workflow with deliberative prompting](#part-a)**\n",
    "    * [Set-up](#setup-a)\n",
    "    * [Run generation](#step-1)\n",
    "    * [Run deliberation](#step-2)\n",
    "    * [Run decision](#step-3)\n",
    "* **[Part B – Monitoring the LLM app with Logikon `/\\/`](#part-b)**\n",
    "    * [Set-up](#setup-b)\n",
    "    * [Select metrics and artifacts](#config_logikon)\n",
    "    * [Run analysis](#run)\n",
    "    * [Inspect results](#inspect)"
   ]
  },
  {
   "cell_type": "markdown",
   "metadata": {
    "id": "f3GgopJdTUQA"
   },
   "source": [
    "## Part A – An advanced LLM workflow with deliberative prompting<a name=\"part-a\"></a>"
   ]
  },
  {
   "cell_type": "markdown",
   "metadata": {},
   "source": [
    "We're setting up an advanced LLM workflow for generating product specific Google ad texts.\n",
    "\n",
    "**Inputs**\n",
    "* `product` name of product to-be advertized\n",
    "* `productinfo` background information about the product\n",
    "* `criteria` list of criteria / instructions used to assess and evaluate a given ad text \n",
    "\n",
    "\n",
    "**Workflow**\n",
    "1. **GENERATION STAGE**: Draft (two) alternative ad texts\n",
    "2. **DELIBERATION STAGE**: Assess generated drafts.\n",
    "3. **DECISION STAGE**: Pick best draft.\n"
   ]
  },
  {
   "cell_type": "markdown",
   "metadata": {},
   "source": [
    "### Setting up the workflow <a name=\"setup-a\"></a>"
   ]
  },
  {
   "cell_type": "code",
   "execution_count": 1,
   "metadata": {
    "id": "PkME6I1STfoa"
   },
   "outputs": [],
   "source": [
    "%%capture\n",
    "%pip install huggingface_hub"
   ]
  },
  {
   "cell_type": "code",
   "execution_count": 2,
   "metadata": {
    "id": "DngJ_GZ0Brnk"
   },
   "outputs": [],
   "source": [
    "# products for which ad text will be written\n",
    "# ad products here and configure app below\n",
    "products = [\n",
    "    {\n",
    "        \"product\": \"QuantumGlow Lighting\",\n",
    "        \"productinfo\": (\n",
    "            \"QuantumGlow Lighting Products: High-tech, energy-efficient lighting solutions using \"\n",
    "            \"quantum technology for improved brightness and longevity.\\n\"\n",
    "            \"1. Quantum Efficiency:\\n\"\n",
    "            \"* Harnesses quantum technology for unparalleled light emission efficiency.\\n\"\n",
    "            \"* Maximizes the conversion of electrical energy into visible light, minimizing energy waste.\\n\"\n",
    "            \"2. Extended Lifespan:\\n\"\n",
    "            \"* Prolonged operational life compared to traditional lighting sources.\\n\"\n",
    "            \"* Reduced frequency of replacements, minimizing maintenance costs.\\n\"\n",
    "            \"3. Dynamic Brightness Control:\\n\"\n",
    "            \"* Adjustable brightness levels for customizable lighting experiences.\\n\"\n",
    "            \"* Smooth dimming capabilities without compromising efficiency.\\n\"\n",
    "            \"4. Environmental Sustainability:\\n\"\n",
    "            \"* Low environmental impact with energy-efficient design.\\n\"\n",
    "            \"* Supports eco-friendly initiatives by reducing overall energy consumption.\\n\"\n",
    "            \"5. Instant Illumination:\\n\"\n",
    "            \"* Instantaneous light output without warm-up time.\\n\"\n",
    "            \"* Ideal for applications requiring immediate brightness upon activation.\\n\"\n",
    "            \"6. Smart Integration:\\n\"\n",
    "            \"* Compatible with smart home systems for seamless automation.\\n\"\n",
    "            \"* Enables remote control and scheduling for enhanced convenience.\\n\"\n",
    "        ),\n",
    "    },\n",
    "]"
   ]
  },
  {
   "cell_type": "code",
   "execution_count": 3,
   "metadata": {
    "id": "WcKAJl-uHFX1"
   },
   "outputs": [],
   "source": [
    "# criteria used to assess alternative ad text drafts\n",
    "criteria = [\n",
    "    (\n",
    "      \"Include Your Product Name/Service. \"\n",
    "      \"Don’t keep your product or service a secret. Include it inside your headline, \"\n",
    "      \"an in your description. Make it super clear what you are offering.\"\n",
    "    ),\n",
    "    (\n",
    "      \"Include Your Call To Action. \"\n",
    "      \"Your Call To Action (CTA) is what you want users to do when they get to your website. \"\n",
    "      \"Things like schedule a consult, learn more today, contact us today, browse now, shop now, \"\n",
    "      \"etc. are all examples of a CTA.\"\n",
    "    ),\n",
    "    (\n",
    "      \"Use All Your Characters. \"\n",
    "      \"You get a limited amount of characters: 30 characters per headline and 90 characters per description. \"\n",
    "      \"Maximize every character and use abbreviations when possible to help save you some space.\"\n",
    "    ),\n",
    "    (\n",
    "      \"Be Clear. \"\n",
    "      \"Make sure your messaging stays clear and to the point. \"\n",
    "      \"If you find yourself trying to cover too many things in one ad, \"\n",
    "      \"it might be a sign that you need to make another ad group.\"\n",
    "    )\n",
    "\n",
    "]"
   ]
  },
  {
   "cell_type": "code",
   "execution_count": 4,
   "metadata": {
    "id": "ZM8A69Qx-yN-"
   },
   "outputs": [],
   "source": [
    "# prompt template #1\n",
    "# to elicit an ad text\n",
    "# standard generative prompt\n",
    "draft_prompt = (\n",
    "  \"<s>[INST] \"\n",
    "  \"*Assignment: Write a Google Ad Text for {product}*\\n\\n\"\n",
    "  \"Billion Google Searches Are Made Each Day People are searching for things all the time, \"\n",
    "  \"all day long. Some of them are searching for our product. Advertising on Google is a \"\n",
    "  \"great way to create brand awareness and generate new business. However, with lots of \"\n",
    "  \"competition, you need to make sure your ads will stand out and get you the clicks you \"\n",
    "  \"deserve.\\n\\n\"\n",
    "  \"Can you please help us in writing a first-class ad text for our product {product}?\\n\\n\"\n",
    "  \"Please take into account the following product info:\\n\\n\"\n",
    "  \"~~~\\n\"\n",
    "  \"{productinfo}\"\n",
    "  \"~~~\\n\"\n",
    "  \"Write a Google ad for {product}. \"\n",
    "  \"More specifically, provide a title (max 30 characters) and a description (max 90 characters). \"\n",
    "  \"Provide title and description in a separate line each.\"\n",
    "  \"[/INST]\\n\"\n",
    ")"
   ]
  },
  {
   "cell_type": "code",
   "execution_count": 5,
   "metadata": {
    "id": "tjkXty97PZZq"
   },
   "outputs": [],
   "source": [
    "# prompt template #2\n",
    "# to elicit evaluation of given draft\n",
    "# deliberative prompt\n",
    "eval_prompt = (\n",
    "  \"<s>[INST] \"\n",
    "  \"*Assignment: Assess pros and cons of two alternative ad texts*\\n\\n\"\n",
    "  \"We are going to advertize our product {product} with Google. \"\n",
    "  \"My colleagues Jennifer and Catherine have written two alternative ad texts. I have to pick the best one. \"\n",
    "  \"Please help me in doing so by comparing and assessing the two alternative ad texts for {product}.\\n\"\n",
    "  \"Here is some background info about the product to-be advertized:\\n\"\n",
    "  \"<productinfo>\\n\"\n",
    "  \"{productinfo}\"\n",
    "  \"</productinfo>\\n\"\n",
    "  \"Assess and compare the two alternatives drafted by Jennifer and Catherine (below) with regard to the following criteria.\\n\"\n",
    "  \"<criteria>\\n\"\n",
    "  \"{criteria}\"\n",
    "  \"</criteria>\\n\"\n",
    "  \"The alternative Google ad texts you're supposed to assess are \"\n",
    "  \"(title and description are provided in separate lines):\\n\"\n",
    "  \"<alternatives>\\n\"\n",
    "  \"# Jennifer's ad\\n\"\n",
    "  \"{ad_a}\\n\"\n",
    "  \"# Catherine's ad\\n\"\n",
    "  \"{ad_b}\\n\"\n",
    "  \"</alternatives>\\n\"\n",
    "  \"Compare the alternatives by gathering the diverse pros and cons that speak for / against using \"\n",
    "  \"Jennifer's or Catherine's text.\"\n",
    "  \"[/INST]\\n\"\n",
    ")"
   ]
  },
  {
   "cell_type": "code",
   "execution_count": 17,
   "metadata": {
    "id": "xJVAR4t_cG2S"
   },
   "outputs": [],
   "source": [
    "# prompt template #3\n",
    "# to elicit selection of best draft\n",
    "# decision prompt\n",
    "decision_prompt = (\n",
    "  \"<s>[INST] \"\n",
    "  \"*Assignment: Pick best ad text given pros and cons*\\n\\n\"\n",
    "  \"Jennifer and Catherine have written alternative ad texts. \"\n",
    "  \"Here are the pros and cons to be considered when choosing which text to use:\\n\"\n",
    "  \"<reasoning>\\n\"\n",
    "  \"{reasoning}\"\n",
    "  \"</reasoning>\\n\"\n",
    "  \"Given this reasoning, which is, all in all, the better alternative?\\n\"\n",
    "  \"(A) Jennifer's text\\n\"\n",
    "  \"(B) Catherine's text\\n\"\n",
    "  \"Just answer with 'A' or 'B' in the line below. No explanations or comments. \"\n",
    "  \"[/INST]\\n\"\n",
    ")"
   ]
  },
  {
   "cell_type": "code",
   "execution_count": 7,
   "metadata": {
    "id": "NCAQSRZsYuzp"
   },
   "outputs": [],
   "source": [
    "# util function for postprocessing ad texts\n",
    "def postprocess_adtext(adtext):\n",
    "    lines = []\n",
    "    for line in adtext.strip(\"\\n \").split(\"\\n\"):\n",
    "        l = line.strip(\"\\n \")\n",
    "        if l:\n",
    "            lines.append(f\"{l} [len={len(l)} chars]\")\n",
    "        if len(lines) >= 2:\n",
    "            break\n",
    "    return \"\\n\".join(lines)"
   ]
  },
  {
   "cell_type": "code",
   "execution_count": 8,
   "metadata": {
    "id": "evUQ9hjQTMdE"
   },
   "outputs": [
    {
     "name": "stderr",
     "output_type": "stream",
     "text": [
      "/usr/local/lib/python3.10/dist-packages/tqdm/auto.py:21: TqdmWarning: IProgress not found. Please update jupyter and ipywidgets. See https://ipywidgets.readthedocs.io/en/stable/user_install.html\n",
      "  from .autonotebook import tqdm as notebook_tqdm\n"
     ]
    }
   ],
   "source": [
    "# LLM powering our app\n",
    "from huggingface_hub import InferenceClient\n",
    "\n",
    "client = InferenceClient(\n",
    "    \"mistralai/Mistral-7B-Instruct-v0.1\"\n",
    ")"
   ]
  },
  {
   "cell_type": "code",
   "execution_count": 21,
   "metadata": {
    "id": "c3t_YKMAgVHL"
   },
   "outputs": [],
   "source": [
    "# inputs and config of our LLM app\n",
    "product = products[0]  # select alternative product if added above\n",
    "logs = []\n",
    "temp_a = .7\n",
    "temp_b = 1.1\n",
    "assert temp_a != temp_b  # different generation configs ensures we get different drafts"
   ]
  },
  {
   "cell_type": "markdown",
   "metadata": {},
   "source": [
    "### Run generation step<a name=\"step-1\"></a>"
   ]
  },
  {
   "cell_type": "code",
   "execution_count": 22,
   "metadata": {
    "colab": {
     "base_uri": "https://localhost:8080/"
    },
    "id": "ncXKHtPrEO3K",
    "outputId": "82f4110c-f86e-4518-e899-8d4684b5b5e1"
   },
   "outputs": [
    {
     "name": "stdout",
     "output_type": "stream",
     "text": [
      "<s>[INST] *Assignment: Write a Google Ad Text for QuantumGlow Lighting*\n",
      "\n",
      "Billion Google Searches Are Made Each Day People are searching for things all the time, all day long. Some of them are searching for our product. Advertising on Google is a great way to create brand awareness and generate new business. However, with lots of competition, you need to make sure your ads will stand out and get you the clicks you deserve.\n",
      "\n",
      "Can you please help us in writing a first-class ad text for our product QuantumGlow Lighting?\n",
      "\n",
      "Please take into account the following product info:\n",
      "\n",
      "~~~\n",
      "QuantumGlow Lighting Products: High-tech, energy-efficient lighting solutions using quantum technology for improved brightness and longevity.\n",
      "1. Quantum Efficiency:\n",
      "* Harnesses quantum technology for unparalleled light emission efficiency.\n",
      "* Maximizes the conversion of electrical energy into visible light, minimizing energy waste.\n",
      "2. Extended Lifespan:\n",
      "* Prolonged operational life compared to traditional lighting sources.\n",
      "* Reduced frequency of replacements, minimizing maintenance costs.\n",
      "3. Dynamic Brightness Control:\n",
      "* Adjustable brightness levels for customizable lighting experiences.\n",
      "* Smooth dimming capabilities without compromising efficiency.\n",
      "4. Environmental Sustainability:\n",
      "* Low environmental impact with energy-efficient design.\n",
      "* Supports eco-friendly initiatives by reducing overall energy consumption.\n",
      "5. Instant Illumination:\n",
      "* Instantaneous light output without warm-up time.\n",
      "* Ideal for applications requiring immediate brightness upon activation.\n",
      "6. Smart Integration:\n",
      "* Compatible with smart home systems for seamless automation.\n",
      "* Enables remote control and scheduling for enhanced convenience.\n",
      "~~~\n",
      "Write a Google ad for QuantumGlow Lighting. More specifically, provide a title (max 30 characters) and a description (max 90 characters). Provide title and description in a separate line each.[/INST]\n",
      "\n"
     ]
    }
   ],
   "source": [
    "prompt = draft_prompt.format(**product)\n",
    "print(prompt)"
   ]
  },
  {
   "cell_type": "code",
   "execution_count": 23,
   "metadata": {
    "colab": {
     "base_uri": "https://localhost:8080/"
    },
    "id": "IDvsaUhYYOSp",
    "outputId": "07955bf3-37a5-4c7d-d609-56a44beb62ac"
   },
   "outputs": [
    {
     "name": "stdout",
     "output_type": "stream",
     "text": [
      "\n",
      "# Ad Text A\n",
      "Title: QuantumGlow Lighting - High-Tech, Energy-Efficient Lighting Solutions [len=76 chars]\n",
      "Description: Unleash the power of quantum technology with our lighting solutions. Maximize brightness and minimize energy waste. Upgrade your lighting today! [len=157 chars]\n",
      "\n",
      "# Ad Text B\n",
      "Title: \"QuantumGlow Lighting: Born From Quantum Physics\" [len=56 chars]\n",
      "Description: \"Get the perfect blend of brilliance and efficiency with QuantumGlow lighting. Harnessing quantum technology, these products provide maximum brightness and energy-efficiency, setting a new standard in lighting solutions. Enjoy dynamic brightness control, extended lifespan, and seamless smart integration with our eco-friendly lighting series.\" [len=357 chars]\n",
      "\n"
     ]
    }
   ],
   "source": [
    "text_a = client.text_generation(prompt, max_new_tokens=120, temperature=temp_a, do_sample=True, seed=42)\n",
    "text_b = client.text_generation(prompt, max_new_tokens=120, temperature=temp_b, do_sample=True, seed=42)\n",
    "\n",
    "text_a = postprocess_adtext(text_a)\n",
    "text_b = postprocess_adtext(text_b)\n",
    "\n",
    "logs.append({\n",
    "    \"id\": \"step_1\",\n",
    "    \"prompt\": prompt,\n",
    "    \"completion\": [text_a, text_b]\n",
    "})\n",
    "\n",
    "print(f\"\"\"\n",
    "# Ad Text A\n",
    "{text_a}\n",
    "\n",
    "# Ad Text B\n",
    "{text_b}\n",
    "\"\"\")"
   ]
  },
  {
   "cell_type": "markdown",
   "metadata": {},
   "source": [
    "### Run deliberation step<a name=\"step-2\"></a>"
   ]
  },
  {
   "cell_type": "code",
   "execution_count": 24,
   "metadata": {
    "colab": {
     "base_uri": "https://localhost:8080/"
    },
    "id": "Kgg9a7neT-ea",
    "outputId": "472a43c4-5e34-4f32-bb4e-90546b0f23a1"
   },
   "outputs": [
    {
     "name": "stdout",
     "output_type": "stream",
     "text": [
      "<s>[INST] *Assignment: Assess pros and cons of two alternative ad texts*\n",
      "\n",
      "We are going to advertize our product QuantumGlow Lighting with Google. My colleagues Jennifer and Catherine have written two alternative ad texts. I have to pick the best one. Please help me in doing so by comparing and assessing the two alternative ad texts for QuantumGlow Lighting.\n",
      "Here is some background info about the product to-be advertized:\n",
      "<productinfo>\n",
      "QuantumGlow Lighting Products: High-tech, energy-efficient lighting solutions using quantum technology for improved brightness and longevity.\n",
      "1. Quantum Efficiency:\n",
      "* Harnesses quantum technology for unparalleled light emission efficiency.\n",
      "* Maximizes the conversion of electrical energy into visible light, minimizing energy waste.\n",
      "2. Extended Lifespan:\n",
      "* Prolonged operational life compared to traditional lighting sources.\n",
      "* Reduced frequency of replacements, minimizing maintenance costs.\n",
      "3. Dynamic Brightness Control:\n",
      "* Adjustable brightness levels for customizable lighting experiences.\n",
      "* Smooth dimming capabilities without compromising efficiency.\n",
      "4. Environmental Sustainability:\n",
      "* Low environmental impact with energy-efficient design.\n",
      "* Supports eco-friendly initiatives by reducing overall energy consumption.\n",
      "5. Instant Illumination:\n",
      "* Instantaneous light output without warm-up time.\n",
      "* Ideal for applications requiring immediate brightness upon activation.\n",
      "6. Smart Integration:\n",
      "* Compatible with smart home systems for seamless automation.\n",
      "* Enables remote control and scheduling for enhanced convenience.\n",
      "</productinfo>\n",
      "Assess and compare the two alternatives drafted by Jennifer and Catherine (below) with regard to the following criteria.\n",
      "<criteria>\n",
      "* Include Your Product Name/Service. Don’t keep your product or service a secret. Include it inside your headline, an in your description. Make it super clear what you are offering.\n",
      "* Include Your Call To Action. Your Call To Action (CTA) is what you want users to do when they get to your website. Things like schedule a consult, learn more today, contact us today, browse now, shop now, etc. are all examples of a CTA.\n",
      "* Use All Your Characters. You get a limited amount of characters: 30 characters per headline and 90 characters per description. Maximize every character and use abbreviations when possible to help save you some space.\n",
      "* Be Clear. Make sure your messaging stays clear and to the point. If you find yourself trying to cover too many things in one ad, it might be a sign that you need to make another ad group.\n",
      "</criteria>\n",
      "The alternative Google ad texts you're supposed to assess are (title and description are provided in separate lines):\n",
      "<alternatives>\n",
      "# Jennifer's ad\n",
      "Title: QuantumGlow Lighting - High-Tech, Energy-Efficient Lighting Solutions [len=76 chars]\n",
      "Description: Unleash the power of quantum technology with our lighting solutions. Maximize brightness and minimize energy waste. Upgrade your lighting today! [len=157 chars]\n",
      "# Catherine's ad\n",
      "Title: \"QuantumGlow Lighting: Born From Quantum Physics\" [len=56 chars]\n",
      "Description: \"Get the perfect blend of brilliance and efficiency with QuantumGlow lighting. Harnessing quantum technology, these products provide maximum brightness and energy-efficiency, setting a new standard in lighting solutions. Enjoy dynamic brightness control, extended lifespan, and seamless smart integration with our eco-friendly lighting series.\" [len=357 chars]\n",
      "</alternatives>\n",
      "Compare the alternatives by gathering the diverse pros and cons that speak for / against using Jennifer's or Catherine's text.[/INST]\n",
      "\n"
     ]
    }
   ],
   "source": [
    "prompt = eval_prompt.format(\n",
    "    ad_a=text_a,\n",
    "    ad_b=text_b,\n",
    "    criteria=\"\".join([f\"* {c}\\n\" for c in criteria]),\n",
    "    **products[0]\n",
    ")\n",
    "print(prompt)"
   ]
  },
  {
   "cell_type": "code",
   "execution_count": 25,
   "metadata": {
    "colab": {
     "base_uri": "https://localhost:8080/"
    },
    "id": "wIYbal1AXYTr",
    "outputId": "ab644ecb-f238-47bc-8351-d2e640354c6e"
   },
   "outputs": [
    {
     "name": "stdout",
     "output_type": "stream",
     "text": [
      "Jennifer's ad:\n",
      "Pros:\n",
      "- Clear and concise messaging that directly mentions the product name and its benefits.\n",
      "- It uses all the available characters effectively, making it a good option for a limited ad space.\n",
      "Cons:\n",
      "- It may not be as attention-grabbing as Catherine's ad, which uses more descriptive language and emphasizes the unique features of the product.\n",
      "- It doesn't highlight the product's compatibility with smart home systems, which is a significant selling point for some customers.\n",
      "Catherine's ad:\n",
      "Pros:\n",
      "- It uses more descriptive language and emphasizes the unique features of the product, making it more attention-grabbing.\n",
      "- It highlights the product's compatibility with smart home systems, which is a significant selling point for some customers.\n",
      "Cons:\n",
      "- It may be too long for a limited ad space, which could reduce its effectiveness.\n",
      "- It doesn't directly mention the product name as prominently as Jennifer's ad, which could make it harder for customers to recognize the product.\n",
      "Overall, both ads have their pros and cons. Jennifer's ad is more concise and directly mentions the product name, while Catherine's ad uses more descriptive language and emphasizes the product's unique features. The decision on which ad to use will depend on the target audience and the specific goals of the advertising campaign.\n"
     ]
    }
   ],
   "source": [
    "reasoning = client.text_generation(prompt, max_new_tokens=320, temperature=.4, do_sample=True, seed=42)\n",
    "\n",
    "logs.append({\n",
    "    \"id\": \"step_2\",\n",
    "    \"prompt\": prompt,\n",
    "    \"completion\": reasoning,\n",
    "    \"reasoning\": True,\n",
    "})\n",
    "\n",
    "\n",
    "print(reasoning)\n"
   ]
  },
  {
   "cell_type": "markdown",
   "metadata": {},
   "source": [
    "### Run decision step<a name=\"step-3\"></a>"
   ]
  },
  {
   "cell_type": "code",
   "execution_count": 26,
   "metadata": {
    "colab": {
     "base_uri": "https://localhost:8080/"
    },
    "id": "JIDUJ2VDXgEy",
    "outputId": "4c575c6d-0e58-44fa-ecc2-4bd150d34c28"
   },
   "outputs": [
    {
     "name": "stdout",
     "output_type": "stream",
     "text": [
      "<s>[INST] *Assignment: Pick best ad text given pros and cons*\n",
      "\n",
      "Jennifer and Catherine have written alternative ad texts. Here are the pros and cons to be considered when choosing which text to use:\n",
      "<reasoning>\n",
      "Jennifer's ad:\n",
      "Pros:\n",
      "- Clear and concise messaging that directly mentions the product name and its benefits.\n",
      "- It uses all the available characters effectively, making it a good option for a limited ad space.\n",
      "Cons:\n",
      "- It may not be as attention-grabbing as Catherine's ad, which uses more descriptive language and emphasizes the unique features of the product.\n",
      "- It doesn't highlight the product's compatibility with smart home systems, which is a significant selling point for some customers.\n",
      "Catherine's ad:\n",
      "Pros:\n",
      "- It uses more descriptive language and emphasizes the unique features of the product, making it more attention-grabbing.\n",
      "- It highlights the product's compatibility with smart home systems, which is a significant selling point for some customers.\n",
      "Cons:\n",
      "- It may be too long for a limited ad space, which could reduce its effectiveness.\n",
      "- It doesn't directly mention the product name as prominently as Jennifer's ad, which could make it harder for customers to recognize the product.\n",
      "Overall, both ads have their pros and cons. Jennifer's ad is more concise and directly mentions the product name, while Catherine's ad uses more descriptive language and emphasizes the product's unique features. The decision on which ad to use will depend on the target audience and the specific goals of the advertising campaign.</reasoning>\n",
      "Given this reasoning, which is, all in all, the better alternative?\n",
      "(A) Jennifer's text\n",
      "(B) Catherine's text\n",
      "Just answer with 'A' or 'B' in the line below. No explanations or comments. [/INST]\n",
      "\n"
     ]
    }
   ],
   "source": [
    "prompt = decision_prompt.format(\n",
    "    reasoning=reasoning,\n",
    ")\n",
    "print(prompt)"
   ]
  },
  {
   "cell_type": "code",
   "execution_count": 27,
   "metadata": {
    "colab": {
     "base_uri": "https://localhost:8080/"
    },
    "id": "SbCayK_qdnNT",
    "outputId": "d8abf892-52bd-48c6-982d-59d18fbc14af"
   },
   "outputs": [
    {
     "name": "stdout",
     "output_type": "stream",
     "text": [
      "A\n"
     ]
    }
   ],
   "source": [
    "decision = client.text_generation(prompt, stop_sequences=[\"A\", \"B\"], max_new_tokens=16)\n",
    "logs.append({\n",
    "    \"id\": \"step_3\",\n",
    "    \"prompt\": prompt,\n",
    "    \"completion\": decision\n",
    "})\n",
    "print(decision)"
   ]
  },
  {
   "cell_type": "code",
   "execution_count": 28,
   "metadata": {
    "colab": {
     "base_uri": "https://localhost:8080/"
    },
    "id": "ef7zpYXQoK6C",
    "outputId": "76594024-d2b5-46d2-f025-005fddad35d9"
   },
   "outputs": [
    {
     "name": "stdout",
     "output_type": "stream",
     "text": [
      "[{'completion': ['Title: QuantumGlow Lighting - High-Tech, Energy-Efficient '\n",
      "                 'Lighting Solutions [len=76 chars]\\n'\n",
      "                 'Description: Unleash the power of quantum technology with '\n",
      "                 'our lighting solutions. Maximize brightness and minimize '\n",
      "                 'energy waste. Upgrade your lighting today! [len=157 chars]',\n",
      "                 'Title: \"QuantumGlow Lighting: Born From Quantum Physics\" '\n",
      "                 '[len=56 chars]\\n'\n",
      "                 'Description: \"Get the perfect blend of brilliance and '\n",
      "                 'efficiency with QuantumGlow lighting. Harnessing quantum '\n",
      "                 'technology, these products provide maximum brightness and '\n",
      "                 'energy-efficiency, setting a new standard in lighting '\n",
      "                 'solutions. Enjoy dynamic brightness control, extended '\n",
      "                 'lifespan, and seamless smart integration with our '\n",
      "                 'eco-friendly lighting series.\" [len=357 chars]'],\n",
      "  'id': 'step_1',\n",
      "  'prompt': '<s>[INST] *Assignment: Write a Google Ad Text for QuantumGlow '\n",
      "            'Lighting*\\n'\n",
      "            '\\n'\n",
      "            'Billion Google Searches Are Made Each Day People are searching '\n",
      "            'for things all the time, all day long. Some of them are searching '\n",
      "            'for our product. Advertising on Google is a great way to create '\n",
      "            'brand awareness and generate new business. However, with lots of '\n",
      "            'competition, you need to make sure your ads will stand out and '\n",
      "            'get you the clicks you deserve.\\n'\n",
      "            '\\n'\n",
      "            'Can you please help us in writing a first-class ad text for our '\n",
      "            'product QuantumGlow Lighting?\\n'\n",
      "            '\\n'\n",
      "            'Please take into account the following product info:\\n'\n",
      "            '\\n'\n",
      "            '~~~\\n'\n",
      "            'QuantumGlow Lighting Products: High-tech, energy-efficient '\n",
      "            'lighting solutions using quantum technology for improved '\n",
      "            'brightness and longevity.\\n'\n",
      "            '1. Quantum Efficiency:\\n'\n",
      "            '* Harnesses quantum technology for unparalleled light emission '\n",
      "            'efficiency.\\n'\n",
      "            '* Maximizes the conversion of electrical energy into visible '\n",
      "            'light, minimizing energy waste.\\n'\n",
      "            '2. Extended Lifespan:\\n'\n",
      "            '* Prolonged operational life compared to traditional lighting '\n",
      "            'sources.\\n'\n",
      "            '* Reduced frequency of replacements, minimizing maintenance '\n",
      "            'costs.\\n'\n",
      "            '3. Dynamic Brightness Control:\\n'\n",
      "            '* Adjustable brightness levels for customizable lighting '\n",
      "            'experiences.\\n'\n",
      "            '* Smooth dimming capabilities without compromising efficiency.\\n'\n",
      "            '4. Environmental Sustainability:\\n'\n",
      "            '* Low environmental impact with energy-efficient design.\\n'\n",
      "            '* Supports eco-friendly initiatives by reducing overall energy '\n",
      "            'consumption.\\n'\n",
      "            '5. Instant Illumination:\\n'\n",
      "            '* Instantaneous light output without warm-up time.\\n'\n",
      "            '* Ideal for applications requiring immediate brightness upon '\n",
      "            'activation.\\n'\n",
      "            '6. Smart Integration:\\n'\n",
      "            '* Compatible with smart home systems for seamless automation.\\n'\n",
      "            '* Enables remote control and scheduling for enhanced '\n",
      "            'convenience.\\n'\n",
      "            '~~~\\n'\n",
      "            'Write a Google ad for QuantumGlow Lighting. More specifically, '\n",
      "            'provide a title (max 30 characters) and a description (max 90 '\n",
      "            'characters). Provide title and description in a separate line '\n",
      "            'each.[/INST]\\n'},\n",
      " {'completion': \"Jennifer's ad:\\n\"\n",
      "                'Pros:\\n'\n",
      "                '- Clear and concise messaging that directly mentions the '\n",
      "                'product name and its benefits.\\n'\n",
      "                '- It uses all the available characters effectively, making it '\n",
      "                'a good option for a limited ad space.\\n'\n",
      "                'Cons:\\n'\n",
      "                \"- It may not be as attention-grabbing as Catherine's ad, \"\n",
      "                'which uses more descriptive language and emphasizes the '\n",
      "                'unique features of the product.\\n'\n",
      "                \"- It doesn't highlight the product's compatibility with smart \"\n",
      "                'home systems, which is a significant selling point for some '\n",
      "                'customers.\\n'\n",
      "                \"Catherine's ad:\\n\"\n",
      "                'Pros:\\n'\n",
      "                '- It uses more descriptive language and emphasizes the unique '\n",
      "                'features of the product, making it more attention-grabbing.\\n'\n",
      "                \"- It highlights the product's compatibility with smart home \"\n",
      "                'systems, which is a significant selling point for some '\n",
      "                'customers.\\n'\n",
      "                'Cons:\\n'\n",
      "                '- It may be too long for a limited ad space, which could '\n",
      "                'reduce its effectiveness.\\n'\n",
      "                \"- It doesn't directly mention the product name as prominently \"\n",
      "                \"as Jennifer's ad, which could make it harder for customers to \"\n",
      "                'recognize the product.\\n'\n",
      "                \"Overall, both ads have their pros and cons. Jennifer's ad is \"\n",
      "                'more concise and directly mentions the product name, while '\n",
      "                \"Catherine's ad uses more descriptive language and emphasizes \"\n",
      "                \"the product's unique features. The decision on which ad to \"\n",
      "                'use will depend on the target audience and the specific goals '\n",
      "                'of the advertising campaign.',\n",
      "  'id': 'step_2',\n",
      "  'prompt': '<s>[INST] *Assignment: Assess pros and cons of two alternative ad '\n",
      "            'texts*\\n'\n",
      "            '\\n'\n",
      "            'We are going to advertize our product QuantumGlow Lighting with '\n",
      "            'Google. My colleagues Jennifer and Catherine have written two '\n",
      "            'alternative ad texts. I have to pick the best one. Please help me '\n",
      "            'in doing so by comparing and assessing the two alternative ad '\n",
      "            'texts for QuantumGlow Lighting.\\n'\n",
      "            'Here is some background info about the product to-be advertized:\\n'\n",
      "            '<productinfo>\\n'\n",
      "            'QuantumGlow Lighting Products: High-tech, energy-efficient '\n",
      "            'lighting solutions using quantum technology for improved '\n",
      "            'brightness and longevity.\\n'\n",
      "            '1. Quantum Efficiency:\\n'\n",
      "            '* Harnesses quantum technology for unparalleled light emission '\n",
      "            'efficiency.\\n'\n",
      "            '* Maximizes the conversion of electrical energy into visible '\n",
      "            'light, minimizing energy waste.\\n'\n",
      "            '2. Extended Lifespan:\\n'\n",
      "            '* Prolonged operational life compared to traditional lighting '\n",
      "            'sources.\\n'\n",
      "            '* Reduced frequency of replacements, minimizing maintenance '\n",
      "            'costs.\\n'\n",
      "            '3. Dynamic Brightness Control:\\n'\n",
      "            '* Adjustable brightness levels for customizable lighting '\n",
      "            'experiences.\\n'\n",
      "            '* Smooth dimming capabilities without compromising efficiency.\\n'\n",
      "            '4. Environmental Sustainability:\\n'\n",
      "            '* Low environmental impact with energy-efficient design.\\n'\n",
      "            '* Supports eco-friendly initiatives by reducing overall energy '\n",
      "            'consumption.\\n'\n",
      "            '5. Instant Illumination:\\n'\n",
      "            '* Instantaneous light output without warm-up time.\\n'\n",
      "            '* Ideal for applications requiring immediate brightness upon '\n",
      "            'activation.\\n'\n",
      "            '6. Smart Integration:\\n'\n",
      "            '* Compatible with smart home systems for seamless automation.\\n'\n",
      "            '* Enables remote control and scheduling for enhanced '\n",
      "            'convenience.\\n'\n",
      "            '</productinfo>\\n'\n",
      "            'Assess and compare the two alternatives drafted by Jennifer and '\n",
      "            'Catherine (below) with regard to the following criteria.\\n'\n",
      "            '<criteria>\\n'\n",
      "            '* Include Your Product Name/Service. Don’t keep your product or '\n",
      "            'service a secret. Include it inside your headline, an in your '\n",
      "            'description. Make it super clear what you are offering.\\n'\n",
      "            '* Include Your Call To Action. Your Call To Action (CTA) is what '\n",
      "            'you want users to do when they get to your website. Things like '\n",
      "            'schedule a consult, learn more today, contact us today, browse '\n",
      "            'now, shop now, etc. are all examples of a CTA.\\n'\n",
      "            '* Use All Your Characters. You get a limited amount of '\n",
      "            'characters: 30 characters per headline and 90 characters per '\n",
      "            'description. Maximize every character and use abbreviations when '\n",
      "            'possible to help save you some space.\\n'\n",
      "            '* Be Clear. Make sure your messaging stays clear and to the '\n",
      "            'point. If you find yourself trying to cover too many things in '\n",
      "            'one ad, it might be a sign that you need to make another ad '\n",
      "            'group.\\n'\n",
      "            '</criteria>\\n'\n",
      "            \"The alternative Google ad texts you're supposed to assess are \"\n",
      "            '(title and description are provided in separate lines):\\n'\n",
      "            '<alternatives>\\n'\n",
      "            \"# Jennifer's ad\\n\"\n",
      "            'Title: QuantumGlow Lighting - High-Tech, Energy-Efficient '\n",
      "            'Lighting Solutions [len=76 chars]\\n'\n",
      "            'Description: Unleash the power of quantum technology with our '\n",
      "            'lighting solutions. Maximize brightness and minimize energy '\n",
      "            'waste. Upgrade your lighting today! [len=157 chars]\\n'\n",
      "            \"# Catherine's ad\\n\"\n",
      "            'Title: \"QuantumGlow Lighting: Born From Quantum Physics\" [len=56 '\n",
      "            'chars]\\n'\n",
      "            'Description: \"Get the perfect blend of brilliance and efficiency '\n",
      "            'with QuantumGlow lighting. Harnessing quantum technology, these '\n",
      "            'products provide maximum brightness and energy-efficiency, '\n",
      "            'setting a new standard in lighting solutions. Enjoy dynamic '\n",
      "            'brightness control, extended lifespan, and seamless smart '\n",
      "            'integration with our eco-friendly lighting series.\" [len=357 '\n",
      "            'chars]\\n'\n",
      "            '</alternatives>\\n'\n",
      "            'Compare the alternatives by gathering the diverse pros and cons '\n",
      "            \"that speak for / against using Jennifer's or Catherine's \"\n",
      "            'text.[/INST]\\n',\n",
      "  'reasoning': True},\n",
      " {'completion': 'A',\n",
      "  'id': 'step_3',\n",
      "  'prompt': '<s>[INST] *Assignment: Pick best ad text given pros and cons*\\n'\n",
      "            '\\n'\n",
      "            'Jennifer and Catherine have written alternative ad texts. Here '\n",
      "            'are the pros and cons to be considered when choosing which text '\n",
      "            'to use:\\n'\n",
      "            '<reasoning>\\n'\n",
      "            \"Jennifer's ad:\\n\"\n",
      "            'Pros:\\n'\n",
      "            '- Clear and concise messaging that directly mentions the product '\n",
      "            'name and its benefits.\\n'\n",
      "            '- It uses all the available characters effectively, making it a '\n",
      "            'good option for a limited ad space.\\n'\n",
      "            'Cons:\\n'\n",
      "            \"- It may not be as attention-grabbing as Catherine's ad, which \"\n",
      "            'uses more descriptive language and emphasizes the unique features '\n",
      "            'of the product.\\n'\n",
      "            \"- It doesn't highlight the product's compatibility with smart \"\n",
      "            'home systems, which is a significant selling point for some '\n",
      "            'customers.\\n'\n",
      "            \"Catherine's ad:\\n\"\n",
      "            'Pros:\\n'\n",
      "            '- It uses more descriptive language and emphasizes the unique '\n",
      "            'features of the product, making it more attention-grabbing.\\n'\n",
      "            \"- It highlights the product's compatibility with smart home \"\n",
      "            'systems, which is a significant selling point for some '\n",
      "            'customers.\\n'\n",
      "            'Cons:\\n'\n",
      "            '- It may be too long for a limited ad space, which could reduce '\n",
      "            'its effectiveness.\\n'\n",
      "            \"- It doesn't directly mention the product name as prominently as \"\n",
      "            \"Jennifer's ad, which could make it harder for customers to \"\n",
      "            'recognize the product.\\n'\n",
      "            \"Overall, both ads have their pros and cons. Jennifer's ad is more \"\n",
      "            \"concise and directly mentions the product name, while Catherine's \"\n",
      "            \"ad uses more descriptive language and emphasizes the product's \"\n",
      "            'unique features. The decision on which ad to use will depend on '\n",
      "            'the target audience and the specific goals of the advertising '\n",
      "            'campaign.</reasoning>\\n'\n",
      "            'Given this reasoning, which is, all in all, the better '\n",
      "            'alternative?\\n'\n",
      "            \"(A) Jennifer's text\\n\"\n",
      "            \"(B) Catherine's text\\n\"\n",
      "            \"Just answer with 'A' or 'B' in the line below. No explanations or \"\n",
      "            'comments. [/INST]\\n'}]\n"
     ]
    }
   ],
   "source": [
    "import pprint\n",
    "pprint.pprint(logs)"
   ]
  },
  {
   "cell_type": "markdown",
   "metadata": {
    "id": "fMyE0lBQYtHN"
   },
   "source": [
    "## Part B - Monitoring the LLM app by scoring logged reasoning traces with **Logikon `/\\/`** <a name=\"part-b\"></a>"
   ]
  },
  {
   "cell_type": "markdown",
   "metadata": {},
   "source": [
    "### Setting notebook environment to run scoring script<a name=\"setup-b\"></a>"
   ]
  },
  {
   "cell_type": "code",
   "execution_count": 29,
   "metadata": {
    "id": "VEz318IJCaw7"
   },
   "outputs": [],
   "source": [
    "# Please make sure that the following files from the `examples` folder\n",
    "# in the `logikon-ai/logikon` GitHub repo are available.\n",
    "!test -f \"requirements.txt\" || echo \"Missing requirements.txt\"\n",
    "!test -f \"setup.sh\" || echo \"Missing setup.sh\"\n",
    "!test -f \"scoring.py\" || echo \"Missing scoring.py\""
   ]
  },
  {
   "cell_type": "code",
   "execution_count": 30,
   "metadata": {
    "id": "uDIpY9XuCwkm"
   },
   "outputs": [],
   "source": [
    "# Configure the environment\n",
    "import os\n",
    "\n",
    "os.environ[\"LGK_FRAMEWORK\"] = \"llamacpp\"\n",
    "os.environ[\"LGK_DEVICE\"] = \"gpu\"\n",
    "os.environ[\"LGK_HUBREPO\"] = \"TheBloke/zephyr-7B-beta-GGUF\"\n",
    "os.environ[\"LGK_MODELWEIGHTS\"] = \"zephyr-7b-beta.Q6_K.gguf\"\n",
    "os.environ[\"LGK_TOKENIZER\"] = \"HuggingFaceH4/zephyr-7b-beta\"\n",
    "os.environ[\"LGK_RELEASE\"] = \"main\""
   ]
  },
  {
   "cell_type": "code",
   "execution_count": 31,
   "metadata": {
    "colab": {
     "base_uri": "https://localhost:8080/"
    },
    "id": "epMW5Zx6W9nr",
    "outputId": "a07a1603-c721-40a8-f77a-8ee9c9f7d270"
   },
   "outputs": [
    {
     "name": "stdout",
     "output_type": "stream",
     "text": [
      "Tue Nov 14 18:46:28 2023       \n",
      "+-----------------------------------------------------------------------------+\n",
      "| NVIDIA-SMI 525.116.04   Driver Version: 525.116.04   CUDA Version: 12.2     |\n",
      "|-------------------------------+----------------------+----------------------+\n",
      "| GPU  Name        Persistence-M| Bus-Id        Disp.A | Volatile Uncorr. ECC |\n",
      "| Fan  Temp  Perf  Pwr:Usage/Cap|         Memory-Usage | GPU-Util  Compute M. |\n",
      "|                               |                      |               MIG M. |\n",
      "|===============================+======================+======================|\n",
      "|   0  NVIDIA RTX A6000    Off  | 00000000:00:05.0 Off |                  Off |\n",
      "| 30%   38C    P8    22W / 300W |      1MiB / 49140MiB |      0%      Default |\n",
      "|                               |                      |                  N/A |\n",
      "+-------------------------------+----------------------+----------------------+\n",
      "                                                                               \n",
      "+-----------------------------------------------------------------------------+\n",
      "| Processes:                                                                  |\n",
      "|  GPU   GI   CI        PID   Type   Process name                  GPU Memory |\n",
      "|        ID   ID                                                   Usage      |\n",
      "|=============================================================================|\n",
      "|  No running processes found                                                 |\n",
      "+-----------------------------------------------------------------------------+\n"
     ]
    }
   ],
   "source": [
    "# Check gpu available\n",
    "! [ \"$LGK_DEVICE\" = \"gpu\" ] && nvidia-smi"
   ]
  },
  {
   "cell_type": "code",
   "execution_count": 33,
   "metadata": {
    "id": "tSSiej4pY8-i"
   },
   "outputs": [],
   "source": [
    "%%capture\n",
    "!sh setup.sh"
   ]
  },
  {
   "cell_type": "code",
   "execution_count": 34,
   "metadata": {
    "colab": {
     "base_uri": "https://localhost:8080/",
     "height": 35
    },
    "id": "iFteYtUPJvDI",
    "outputId": "6742725c-1e6e-4ea7-d132-776e0041886e"
   },
   "outputs": [
    {
     "data": {
      "text/plain": [
       "'/notebooks/logikon/examples/models/zephyr-7b-beta.Q6_K.gguf'"
      ]
     },
     "execution_count": 34,
     "metadata": {},
     "output_type": "execute_result"
    }
   ],
   "source": [
    "import os\n",
    "\n",
    "if os.environ.get(\"LGK_MODELWEIGHTS\"):\n",
    "    abspath = os.path.join(\n",
    "        os.path.abspath(\"./models\"),\n",
    "        os.environ.get(\"LGK_MODELWEIGHTS\")\n",
    "    )\n",
    "else:\n",
    "    abspath = \"\"\n",
    "os.environ[\"LGK_ABSPATH_MODELWEIGHTS\"] = abspath\n",
    "os.environ[\"LGK_ABSPATH_MODELWEIGHTS\"]"
   ]
  },
  {
   "cell_type": "code",
   "execution_count": 35,
   "metadata": {
    "id": "BN9HH97iL9OF"
   },
   "outputs": [],
   "source": [
    "# Check whether model weights file is available\n",
    "!test -f \"$LGK_ABSPATH_MODELWEIGHTS\" || echo \"Cannot find model weights\""
   ]
  },
  {
   "cell_type": "code",
   "execution_count": 54,
   "metadata": {
    "colab": {
     "base_uri": "https://localhost:8080/"
    },
    "id": "4wDx93tsZulU",
    "outputId": "237f0bb5-1051-4eee-ef73-cab3c072c4bc"
   },
   "outputs": [],
   "source": [
    "# Example reasoning traces\n",
    "examples = [logstep for logstep in logs if logstep.get(\"reasoning\")]\n",
    "for example in examples:\n",
    "    # Keeping the original prompt would confuse zephyr expert model ...\n",
    "    example[\"prompt\"] = \"Which ad text is better, Jennifer's or Catherine's?\"\n",
    "    example[\"completion\"] = example[\"completion\"].replace(\"[INST]\",\"\").replace(\"[/INST]\",\"\").replace(\"<s>\",\"\")"
   ]
  },
  {
   "cell_type": "code",
   "execution_count": 53,
   "metadata": {
    "id": "0gGYxzS9aoyI"
   },
   "outputs": [
    {
     "data": {
      "text/html": [
       "<div>\n",
       "<style scoped>\n",
       "    .dataframe tbody tr th:only-of-type {\n",
       "        vertical-align: middle;\n",
       "    }\n",
       "\n",
       "    .dataframe tbody tr th {\n",
       "        vertical-align: top;\n",
       "    }\n",
       "\n",
       "    .dataframe thead th {\n",
       "        text-align: right;\n",
       "    }\n",
       "</style>\n",
       "<table border=\"1\" class=\"dataframe\">\n",
       "  <thead>\n",
       "    <tr style=\"text-align: right;\">\n",
       "      <th></th>\n",
       "      <th>id</th>\n",
       "      <th>prompt</th>\n",
       "      <th>completion</th>\n",
       "      <th>reasoning</th>\n",
       "    </tr>\n",
       "  </thead>\n",
       "  <tbody>\n",
       "    <tr>\n",
       "      <th>0</th>\n",
       "      <td>step_2</td>\n",
       "      <td>Which ad text is better, Jennifer's or Catheri...</td>\n",
       "      <td>Jennifer's ad:\\nPros:\\n- Clear and concise mes...</td>\n",
       "      <td>True</td>\n",
       "    </tr>\n",
       "  </tbody>\n",
       "</table>\n",
       "</div>"
      ],
      "text/plain": [
       "       id                                             prompt  \\\n",
       "0  step_2  Which ad text is better, Jennifer's or Catheri...   \n",
       "\n",
       "                                          completion  reasoning  \n",
       "0  Jennifer's ad:\\nPros:\\n- Clear and concise mes...       True  "
      ]
     },
     "execution_count": 53,
     "metadata": {},
     "output_type": "execute_result"
    }
   ],
   "source": [
    "import pandas as pd\n",
    "df_traces = pd.DataFrame(examples)\n",
    "df_traces.head()"
   ]
  },
  {
   "cell_type": "code",
   "execution_count": 38,
   "metadata": {
    "id": "SKnqYjOca6De"
   },
   "outputs": [],
   "source": [
    "# Save reasoning traces to file\n",
    "df_traces.to_json(\"reasoning_traces.jsonl\", orient=\"records\", lines=True)"
   ]
  },
  {
   "cell_type": "code",
   "execution_count": 39,
   "metadata": {
    "colab": {
     "base_uri": "https://localhost:8080/"
    },
    "id": "txykfjd-bX5C",
    "outputId": "10149379-3c93-4653-dbf9-a35116a5184f"
   },
   "outputs": [
    {
     "name": "stdout",
     "output_type": "stream",
     "text": [
      "{\"id\":\"step_2\",\"prompt\":\"Which ad text is better, Jennifer's or Catherine's?\",\"completion\":\"Jennifer's ad:\\nPros:\\n- Clear and concise messaging that directly mentions the product name and its benefits.\\n- It uses all the available characters effectively, making it a good option for a limited ad space.\\nCons:\\n- It may not be as attention-grabbing as Catherine's ad, which uses more descriptive language and emphasizes the unique features of the product.\\n- It doesn't highlight the product's compatibility with smart home systems, which is a significant selling point for some customers.\\nCatherine's ad:\\nPros:\\n- It uses more descriptive language and emphasizes the unique features of the product, making it more attention-grabbing.\\n- It highlights the product's compatibility with smart home systems, which is a significant selling point for some customers.\\nCons:\\n- It may be too long for a limited ad space, which could reduce its effectiveness.\\n- It doesn't directly mention the product name as prominently as Jennifer's ad, which could make it harder for customers to recognize the product.\\nOverall, both ads have their pros and cons. Jennifer's ad is more concise and directly mentions the product name, while Catherine's ad uses more descriptive language and emphasizes the product's unique features. The decision on which ad to use will depend on the target audience and the specific goals of the advertising campaign.\",\"reasoning\":true}\n"
     ]
    }
   ],
   "source": [
    "# Check data file available\n",
    "!head -2 \"reasoning_traces.jsonl\""
   ]
  },
  {
   "cell_type": "markdown",
   "metadata": {
    "id": "nSrgZcyMAdwP"
   },
   "source": [
    "### Select metrics and artifacts to calculate, and configure scoring methods <a name=\"config_logikon\"></a>"
   ]
  },
  {
   "cell_type": "code",
   "execution_count": 40,
   "metadata": {
    "colab": {
     "base_uri": "https://localhost:8080/"
    },
    "id": "sIGXP7YieNQg",
    "outputId": "fbe61a83-6e2e-4fcf-aad4-be02acd65d92"
   },
   "outputs": [
    {
     "name": "stdout",
     "output_type": "stream",
     "text": [
      "artifacts:\n",
      "- svg_argmap\n",
      "global_kwargs:\n",
      "  expert_model: /notebooks/logikon/examples/models/zephyr-7b-beta.Q6_K.gguf\n",
      "  expert_model_kwargs:\n",
      "    n_ctx: 3072\n",
      "    n_gpu_layers: -1\n",
      "    prompt_template:\n",
      "      ass_end: ''\n",
      "      ass_start: '\n",
      "...\n"
     ]
    }
   ],
   "source": [
    "# Write config als yaml file\n",
    "\n",
    "config_dict = {\n",
    "    # all metrics\n",
    "    \"metrics\": [\"argmap_size\", \"n_root_nodes\", \"mean_reason_strength\"],\n",
    "    # artifacts to generate\n",
    "    \"artifacts\": [\"svg_argmap\"],\n",
    "    \"global_kwargs\": {\n",
    "        \"expert_model\": os.environ[\"LGK_ABSPATH_MODELWEIGHTS\"],\n",
    "        \"expert_model_kwargs\": {\n",
    "            \"n_ctx\": 3072,\n",
    "            # comment out line below if no gpu\n",
    "            \"n_gpu_layers\": -1,\n",
    "            \"tokenizer\": os.environ[\"LGK_TOKENIZER\"],\n",
    "            # custom prompt template, make sure this fits the expert_model\n",
    "            \"prompt_template\": {\n",
    "                \"sys_start\": \"\\n<|system|>\\n\",\n",
    "                \"sys_end\": \"\",\n",
    "                \"user_start\": \"\\n<|user|>\\n\",\n",
    "                \"user_end\": \"\",\n",
    "                \"ass_start\": \"\\n<|assistant|>\\n\",\n",
    "                \"ass_end\": \"\",\n",
    "            },\n",
    "        },\n",
    "        \"generation_kwargs\": {\"max_len\": 3072},\n",
    "        \"llm_framework\": \"llama.cpp\",\n",
    "    },\n",
    "}\n",
    "\n",
    "import yaml\n",
    "with open('config.yml', 'w') as outfile:\n",
    "    yaml.dump(config_dict, outfile, default_flow_style=False)\n",
    "\n",
    "# Check config file available\n",
    "!head -10 \"config.yml\" && echo \"...\""
   ]
  },
  {
   "cell_type": "markdown",
   "metadata": {
    "id": "Pwx5YGLtA5wW"
   },
   "source": [
    "### Run argumentation analysis <a name=\"run\"></a>"
   ]
  },
  {
   "cell_type": "code",
   "execution_count": 41,
   "metadata": {
    "colab": {
     "base_uri": "https://localhost:8080/"
    },
    "id": "BL4ADqpSf_WB",
    "outputId": "859f96d9-fcf2-451b-80fd-170b1773378e"
   },
   "outputs": [
    {
     "name": "stdout",
     "output_type": "stream",
     "text": [
      "0it [00:00, ?it/s]/usr/bin/dot\n",
      "The cache for model files in Transformers v4.22.0 has been updated. Migrating your old cache. This is a one-time only operation. You can interrupt this and resume the migration later on by calling `transformers.utils.move_cache()`.\n",
      "\n",
      "0it [00:00, ?it/s]\u001b[A\n",
      "\n",
      "(…)-beta/resolve/main/tokenizer_config.json: 100%|█| 1.43k/1.43k [00:00<00:00, 1\u001b[A\n",
      "\n",
      "tokenizer.model: 100%|███████████████████████| 493k/493k [00:00<00:00, 14.0MB/s]\u001b[A\n",
      "\n",
      "(…)phyr-7b-beta/resolve/main/tokenizer.json: 100%|█| 1.80M/1.80M [00:00<00:00, 3\u001b[A\n",
      "\n",
      "(…)r-7b-beta/resolve/main/added_tokens.json: 100%|█| 42.0/42.0 [00:00<00:00, 415\u001b[A\n",
      "\n",
      "(…)eta/resolve/main/special_tokens_map.json: 100%|█| 168/168 [00:00<00:00, 1.48M\u001b[A\n",
      "[Loading llama.cpp model from llama.cpp:/notebooks/logikon/examples/models/zephyr-7b-beta.Q6_K.gguf  with  {'n_ctx': 3072, 'n_gpu_layers': -1} ]\n",
      "\n",
      "Reason-root edges:   0%|                                  | 0/3 [00:00<?, ?it/s]\u001b[A\n",
      "Reason-root edges:  33%|████████▋                 | 1/3 [00:05<00:11,  5.82s/it]\u001b[A\n",
      "Reason-root edges:  67%|█████████████████▎        | 2/3 [00:11<00:05,  5.66s/it]\u001b[A\n",
      "Reason-root edges: 100%|██████████████████████████| 3/3 [00:12<00:00,  4.33s/it]\u001b[A\n",
      "\n",
      "Reason-reason edges:   0%|                               | 0/12 [00:00<?, ?it/s]\u001b[A\n",
      "Reason-reason edges:  17%|███▊                   | 2/12 [00:10<00:52,  5.25s/it]\u001b[A\n",
      "Reason-reason edges:  25%|█████▊                 | 3/12 [00:20<01:06,  7.43s/it]\u001b[A\n",
      "Reason-reason edges:  33%|███████▋               | 4/12 [00:31<01:08,  8.58s/it]\u001b[A\n",
      "Reason-reason edges:  42%|█████████▌             | 5/12 [00:42<01:06,  9.43s/it]\u001b[A\n",
      "Reason-reason edges:  58%|█████████████▍         | 7/12 [00:52<00:36,  7.31s/it]\u001b[A\n",
      "Reason-reason edges:  67%|███████████████▎       | 8/12 [01:03<00:32,  8.13s/it]\u001b[A\n",
      "Reason-reason edges:  75%|█████████████████▎     | 9/12 [01:13<00:26,  8.77s/it]\u001b[A\n",
      "Reason-reason edges:  83%|██████████████████▎   | 10/12 [01:24<00:18,  9.34s/it]\u001b[A\n",
      "Reason-reason edges: 100%|██████████████████████| 12/12 [01:35<00:00,  7.98s/it]\u001b[A\n",
      "1it [03:32, 212.48s/it]\n"
     ]
    }
   ],
   "source": [
    "# 🫖 This will take some time ... you may monitor `scoring.log`\n",
    "!python scoring.py \\\n",
    "  --config-file config.yml \\\n",
    "  --reasoning-traces-file reasoning_traces.jsonl"
   ]
  },
  {
   "cell_type": "markdown",
   "metadata": {
    "id": "7uaXFSRjA_Wu"
   },
   "source": [
    "### Inspect argumentation analysis <a name=\"inspect\"></a>"
   ]
  },
  {
   "cell_type": "code",
   "execution_count": 42,
   "metadata": {
    "id": "cttOhhYfpyP6"
   },
   "outputs": [],
   "source": [
    "df_scores = pd.read_json(\"outputs/reasoning_traces-scores.jsonl\", lines=True)"
   ]
  },
  {
   "cell_type": "code",
   "execution_count": 48,
   "metadata": {
    "colab": {
     "base_uri": "https://localhost:8080/",
     "height": 143
    },
    "id": "JCC66EW08MAx",
    "outputId": "bca894aa-c69f-4e91-8a54-965e02652a36"
   },
   "outputs": [
    {
     "data": {
      "text/html": [
       "<div>\n",
       "<style scoped>\n",
       "    .dataframe tbody tr th:only-of-type {\n",
       "        vertical-align: middle;\n",
       "    }\n",
       "\n",
       "    .dataframe tbody tr th {\n",
       "        vertical-align: top;\n",
       "    }\n",
       "\n",
       "    .dataframe thead th {\n",
       "        text-align: right;\n",
       "    }\n",
       "</style>\n",
       "<table border=\"1\" class=\"dataframe\">\n",
       "  <thead>\n",
       "    <tr style=\"text-align: right;\">\n",
       "      <th>#example</th>\n",
       "      <th>0</th>\n",
       "    </tr>\n",
       "    <tr>\n",
       "      <th>metric</th>\n",
       "      <th></th>\n",
       "    </tr>\n",
       "  </thead>\n",
       "  <tbody>\n",
       "    <tr>\n",
       "      <th>argmap_size</th>\n",
       "      <td>12.000000</td>\n",
       "    </tr>\n",
       "    <tr>\n",
       "      <th>n_root_nodes</th>\n",
       "      <td>3.000000</td>\n",
       "    </tr>\n",
       "    <tr>\n",
       "      <th>mean_reason_strength</th>\n",
       "      <td>0.672279</td>\n",
       "    </tr>\n",
       "  </tbody>\n",
       "</table>\n",
       "</div>"
      ],
      "text/plain": [
       "#example                      0\n",
       "metric                         \n",
       "argmap_size           12.000000\n",
       "n_root_nodes           3.000000\n",
       "mean_reason_strength   0.672279"
      ]
     },
     "execution_count": 48,
     "metadata": {},
     "output_type": "execute_result"
    }
   ],
   "source": [
    "# Display metric scores\n",
    "df_scores[config_dict.get(\"metrics\",[])].T.rename_axis(\"#example\", axis=\"columns\").rename_axis(\"metric\", axis=\"rows\")"
   ]
  },
  {
   "cell_type": "code",
   "execution_count": 44,
   "metadata": {
    "id": "saeFhPUzIN_k"
   },
   "outputs": [],
   "source": [
    "# Utility method for rendering artifacts\n",
    "from pprint import pformat\n",
    "\n",
    "import networkx as nx\n",
    "\n",
    "from IPython.display import SVG, HTML, Markdown\n",
    "\n",
    "from logikon.schemas.pros_cons import ProsConsList\n",
    "from logikon.schemas.argument_mapping import FuzzyArgMap\n",
    "\n",
    "def render_artifact(artifact_id, data):\n",
    "  \"\"\"helper function for rendering artifacts\"\"\"\n",
    "\n",
    "  if \"nx\" in artifact_id:\n",
    "    digraph = nx.node_link_graph(data)\n",
    "    return Markdown(str(digraph))\n",
    "\n",
    "  if \"svg\" in artifact_id:\n",
    "    style = \"<style>svg{width:100% !important;height:100% !important;</style>\"\n",
    "    return HTML(style), SVG(data=data)\n",
    "\n",
    "  if \"html\" in artifact_id:\n",
    "    return HTML(data)\n",
    "\n",
    "  if artifact_id == \"proscons\":\n",
    "    proscons = ProsConsList(**data)\n",
    "    return Markdown(f\"`{pformat(proscons)}`\")\n",
    "\n",
    "  if artifact_id == \"relevance_network\":\n",
    "    relnet = FuzzyArgMap(**data)\n",
    "    return Markdown(f\"`{pformat(relnet)[:800]} ...`\")\n",
    "\n",
    "  text = str(data)\n",
    "  text = text[:200] + \" ...\" if len(text)>200 else text\n",
    "  return Markdown(f\"`{text}`\")"
   ]
  },
  {
   "cell_type": "markdown",
   "metadata": {},
   "source": [
    "> ⛔️ **Limitation**\n",
    ">\n",
    "> Note that the `zephyr-7b-beta` expert model struggles to correctly relate individual reasons to each other -- a task much better accomplished by larger LLMs."
   ]
  },
  {
   "cell_type": "code",
   "execution_count": 49,
   "metadata": {
    "colab": {
     "base_uri": "https://localhost:8080/",
     "height": 483
    },
    "id": "tFo-h4Ba6zfO",
    "outputId": "35cc86cf-c3cd-4c1a-eefc-2c6769187c36"
   },
   "outputs": [
    {
     "data": {
      "text/markdown": [
       "## svg_argmap"
      ],
      "text/plain": [
       "<IPython.core.display.Markdown object>"
      ]
     },
     "metadata": {},
     "output_type": "display_data"
    },
    {
     "data": {
      "text/html": [
       "<style>svg{width:100% !important;height:100% !important;</style>"
      ],
      "text/plain": [
       "<IPython.core.display.HTML object>"
      ]
     },
     "metadata": {},
     "output_type": "display_data"
    },
    {
     "data": {
      "image/svg+xml": [
       "<svg xmlns=\"http://www.w3.org/2000/svg\" xmlns:xlink=\"http://www.w3.org/1999/xlink\" width=\"890pt\" height=\"649pt\" viewBox=\"0.00 0.00 889.50 649.00\">\n",
       "<g id=\"graph0\" class=\"graph\" transform=\"scale(1 1) rotate(0) translate(4 645)\">\n",
       "<title>logikon informal argument map</title>\n",
       "<polygon fill=\"white\" stroke=\"transparent\" points=\"-4,4 -4,-645 885.5,-645 885.5,4 -4,4\"/>\n",
       "<!-- 43fcd5a8&#45;469d&#45;4cbc&#45;b71f&#45;9b9d7dadf736 -->\n",
       "<g id=\"node1\" class=\"node\">\n",
       "<title>43fcd5a8-469d-4cbc-b71f-9b9d7dadf736</title>\n",
       "<g id=\"a_node1\"><a xlink:title=\"Jennifer's ad is more&lt;BR/&gt;effective in promoting a new&lt;BR/&gt;product.\">\n",
       "<path fill=\"white\" stroke=\"transparent\" d=\"M94,-552C94,-552 231,-552 231,-552 237,-552 243,-558 243,-564 243,-564 243,-610 243,-610 243,-616 237,-622 231,-622 231,-622 94,-622 94,-622 88,-622 82,-616 82,-610 82,-610 82,-564 82,-564 82,-558 88,-552 94,-552\"/>\n",
       "<text text-anchor=\"start\" x=\"126\" y=\"-607.4\" font-family=\"Arial, Helvetica, sans-serif\" font-weight=\"bold\" font-size=\"12.00\">Jennifer's ad</text>\n",
       "<text text-anchor=\"start\" x=\"108\" y=\"-587.4\" font-family=\"Arial, Helvetica, sans-serif\" font-size=\"12.00\">Jennifer's ad is more</text>\n",
       "<text text-anchor=\"start\" x=\"88.5\" y=\"-574.4\" font-family=\"Arial, Helvetica, sans-serif\" font-size=\"12.00\">effective in promoting a new</text>\n",
       "<text text-anchor=\"start\" x=\"141.5\" y=\"-561.4\" font-family=\"Arial, Helvetica, sans-serif\" font-size=\"12.00\">product.</text>\n",
       "<path fill=\"none\" stroke=\"lightblue\" stroke-width=\"4\" d=\"M94,-552C94,-552 231,-552 231,-552 237,-552 243,-558 243,-564 243,-564 243,-610 243,-610 243,-616 237,-622 231,-622 231,-622 94,-622 94,-622 88,-622 82,-616 82,-610 82,-610 82,-564 82,-564 82,-558 88,-552 94,-552\"/>\n",
       "</a>\n",
       "</g>\n",
       "</g>\n",
       "<!-- ee2f9b15&#45;0074&#45;48f5&#45;a4ab&#45;6312e5eb4a67 -->\n",
       "<g id=\"node2\" class=\"node\">\n",
       "<title>ee2f9b15-0074-48f5-a4ab-6312e5eb4a67</title>\n",
       "<g id=\"a_node2\"><a xlink:title=\"Catherine's ad is more&lt;BR/&gt;effective in promoting a new&lt;BR/&gt;product.\">\n",
       "<path fill=\"white\" stroke=\"transparent\" d=\"M486,-552C486,-552 623,-552 623,-552 629,-552 635,-558 635,-564 635,-564 635,-610 635,-610 635,-616 629,-622 623,-622 623,-622 486,-622 486,-622 480,-622 474,-616 474,-610 474,-610 474,-564 474,-564 474,-558 480,-552 486,-552\"/>\n",
       "<text text-anchor=\"start\" x=\"513.5\" y=\"-607.4\" font-family=\"Arial, Helvetica, sans-serif\" font-weight=\"bold\" font-size=\"12.00\">Catherine's ad</text>\n",
       "<text text-anchor=\"start\" x=\"495\" y=\"-587.4\" font-family=\"Arial, Helvetica, sans-serif\" font-size=\"12.00\">Catherine's ad is more</text>\n",
       "<text text-anchor=\"start\" x=\"480.5\" y=\"-574.4\" font-family=\"Arial, Helvetica, sans-serif\" font-size=\"12.00\">effective in promoting a new</text>\n",
       "<text text-anchor=\"start\" x=\"533.5\" y=\"-561.4\" font-family=\"Arial, Helvetica, sans-serif\" font-size=\"12.00\">product.</text>\n",
       "<path fill=\"none\" stroke=\"lightblue\" stroke-width=\"4\" d=\"M486,-552C486,-552 623,-552 623,-552 629,-552 635,-558 635,-564 635,-564 635,-610 635,-610 635,-616 629,-622 623,-622 623,-622 486,-622 486,-622 480,-622 474,-616 474,-610 474,-610 474,-564 474,-564 474,-558 480,-552 486,-552\"/>\n",
       "</a>\n",
       "</g>\n",
       "</g>\n",
       "<!-- 6dabaeb1&#45;365b&#45;41e3&#45;807b&#45;103b57462808 -->\n",
       "<g id=\"node3\" class=\"node\">\n",
       "<title>6dabaeb1-365b-41e3-807b-103b57462808</title>\n",
       "<g id=\"a_node3\"><a xlink:title=\"Both Jennifer's ad and&lt;BR/&gt;Catherine's ad should be&lt;BR/&gt;tested to determine which one&lt;BR/&gt;is more effective in promoting&lt;BR/&gt;a new product.\">\n",
       "<path fill=\"white\" stroke=\"transparent\" d=\"M685.5,-539C685.5,-539 833.5,-539 833.5,-539 839.5,-539 845.5,-545 845.5,-551 845.5,-551 845.5,-623 845.5,-623 845.5,-629 839.5,-635 833.5,-635 833.5,-635 685.5,-635 685.5,-635 679.5,-635 673.5,-629 673.5,-623 673.5,-623 673.5,-551 673.5,-551 673.5,-545 679.5,-539 685.5,-539\"/>\n",
       "<text text-anchor=\"start\" x=\"708.5\" y=\"-620.4\" font-family=\"Arial, Helvetica, sans-serif\" font-weight=\"bold\" font-size=\"12.00\">Test both ad texts</text>\n",
       "<text text-anchor=\"start\" x=\"700\" y=\"-600.4\" font-family=\"Arial, Helvetica, sans-serif\" font-size=\"12.00\">Both Jennifer's ad and</text>\n",
       "<text text-anchor=\"start\" x=\"693\" y=\"-587.4\" font-family=\"Arial, Helvetica, sans-serif\" font-size=\"12.00\">Catherine's ad should be</text>\n",
       "<text text-anchor=\"start\" x=\"679.5\" y=\"-574.4\" font-family=\"Arial, Helvetica, sans-serif\" font-size=\"12.00\">tested to determine which one</text>\n",
       "<text text-anchor=\"start\" x=\"681.5\" y=\"-561.4\" font-family=\"Arial, Helvetica, sans-serif\" font-size=\"12.00\">is more effective in promoting</text>\n",
       "<text text-anchor=\"start\" x=\"720\" y=\"-548.4\" font-family=\"Arial, Helvetica, sans-serif\" font-size=\"12.00\">a new product.</text>\n",
       "<path fill=\"none\" stroke=\"lightblue\" stroke-width=\"4\" d=\"M685.5,-539C685.5,-539 833.5,-539 833.5,-539 839.5,-539 845.5,-545 845.5,-551 845.5,-551 845.5,-623 845.5,-623 845.5,-629 839.5,-635 833.5,-635 833.5,-635 685.5,-635 685.5,-635 679.5,-635 673.5,-629 673.5,-623 673.5,-623 673.5,-551 673.5,-551 673.5,-545 679.5,-539 685.5,-539\"/>\n",
       "</a>\n",
       "</g>\n",
       "</g>\n",
       "<!-- 7399a7b7&#45;f689&#45;41fd&#45;9a09&#45;cf9deab72e36 -->\n",
       "<g id=\"node4\" class=\"node\">\n",
       "<title>7399a7b7-f689-41fd-9a09-cf9deab72e36</title>\n",
       "<g id=\"a_node4\"><a xlink:title=\"Jennifer's ad has clear and&lt;BR/&gt;concise messaging.\">\n",
       "<path fill=\"lightblue\" stroke=\"transparent\" d=\"M22,-286.5C22,-286.5 153,-286.5 153,-286.5 159,-286.5 165,-292.5 165,-298.5 165,-298.5 165,-342.5 165,-342.5 165,-348.5 159,-354.5 153,-354.5 153,-354.5 22,-354.5 22,-354.5 16,-354.5 10,-348.5 10,-342.5 10,-342.5 10,-298.5 10,-298.5 10,-292.5 16,-286.5 22,-286.5\"/>\n",
       "<text text-anchor=\"start\" x=\"36.5\" y=\"-339.9\" font-family=\"Arial, Helvetica, sans-serif\" font-weight=\"bold\" font-size=\"12.00\">Clear and concise</text>\n",
       "<text text-anchor=\"start\" x=\"56\" y=\"-327.9\" font-family=\"Arial, Helvetica, sans-serif\" font-weight=\"bold\" font-size=\"12.00\">messaging</text>\n",
       "<text text-anchor=\"start\" x=\"16.5\" y=\"-308.9\" font-family=\"Arial, Helvetica, sans-serif\" font-size=\"12.00\">Jennifer's ad has clear and</text>\n",
       "<text text-anchor=\"start\" x=\"35\" y=\"-295.9\" font-family=\"Arial, Helvetica, sans-serif\" font-size=\"12.00\">concise messaging.</text>\n",
       "<path fill=\"none\" stroke=\"lightblue\" stroke-width=\"4\" d=\"M22,-286.5C22,-286.5 153,-286.5 153,-286.5 159,-286.5 165,-292.5 165,-298.5 165,-298.5 165,-342.5 165,-342.5 165,-348.5 159,-354.5 153,-354.5 153,-354.5 22,-354.5 22,-354.5 16,-354.5 10,-348.5 10,-342.5 10,-342.5 10,-298.5 10,-298.5 10,-292.5 16,-286.5 22,-286.5\"/>\n",
       "</a>\n",
       "</g>\n",
       "</g>\n",
       "<!-- 4ea9f491&#45;21d8&#45;4a3a&#45;a662&#45;fbe2c9b316a7 -->\n",
       "<g id=\"node5\" class=\"node\">\n",
       "<title>4ea9f491-21d8-4a3a-a662-fbe2c9b316a7</title>\n",
       "<g id=\"a_node5\"><a xlink:title=\"Jennifer's ad directly&lt;BR/&gt;mentions the product name and&lt;BR/&gt;its benefits.\">\n",
       "<path fill=\"lightblue\" stroke=\"transparent\" d=\"M84.5,-415.5C84.5,-415.5 240.5,-415.5 240.5,-415.5 246.5,-415.5 252.5,-421.5 252.5,-427.5 252.5,-427.5 252.5,-473.5 252.5,-473.5 252.5,-479.5 246.5,-485.5 240.5,-485.5 240.5,-485.5 84.5,-485.5 84.5,-485.5 78.5,-485.5 72.5,-479.5 72.5,-473.5 72.5,-473.5 72.5,-427.5 72.5,-427.5 72.5,-421.5 78.5,-415.5 84.5,-415.5\"/>\n",
       "<text text-anchor=\"start\" x=\"85.5\" y=\"-470.9\" font-family=\"Arial, Helvetica, sans-serif\" font-weight=\"bold\" font-size=\"12.00\">Product name and benefits</text>\n",
       "<text text-anchor=\"start\" x=\"108\" y=\"-450.9\" font-family=\"Arial, Helvetica, sans-serif\" font-size=\"12.00\">Jennifer's ad directly</text>\n",
       "<text text-anchor=\"start\" x=\"78.5\" y=\"-437.9\" font-family=\"Arial, Helvetica, sans-serif\" font-size=\"12.00\">mentions the product name and</text>\n",
       "<text text-anchor=\"start\" x=\"132\" y=\"-424.9\" font-family=\"Arial, Helvetica, sans-serif\" font-size=\"12.00\">its benefits.</text>\n",
       "<path fill=\"none\" stroke=\"lightblue\" stroke-width=\"4\" d=\"M84.5,-415.5C84.5,-415.5 240.5,-415.5 240.5,-415.5 246.5,-415.5 252.5,-421.5 252.5,-427.5 252.5,-427.5 252.5,-473.5 252.5,-473.5 252.5,-479.5 246.5,-485.5 240.5,-485.5 240.5,-485.5 84.5,-485.5 84.5,-485.5 78.5,-485.5 72.5,-479.5 72.5,-473.5 72.5,-473.5 72.5,-427.5 72.5,-427.5 72.5,-421.5 78.5,-415.5 84.5,-415.5\"/>\n",
       "</a>\n",
       "</g>\n",
       "</g>\n",
       "<!-- 7399a7b7&#45;f689&#45;41fd&#45;9a09&#45;cf9deab72e36&#45;&gt;4ea9f491&#45;21d8&#45;4a3a&#45;a662&#45;fbe2c9b316a7 -->\n",
       "<g id=\"edge1\" class=\"edge\">\n",
       "<title>7399a7b7-f689-41fd-9a09-cf9deab72e36-&gt;4ea9f491-21d8-4a3a-a662-fbe2c9b316a7</title>\n",
       "<path fill=\"none\" stroke=\"#006400\" stroke-width=\"2\" d=\"M110.41,-360.6C117.76,-373.14 126,-387.2 133.71,-400.37\"/>\n",
       "<polygon fill=\"#006400\" stroke=\"#006400\" stroke-width=\"2\" points=\"130.88,-402.45 138.95,-409.31 136.92,-398.92 130.88,-402.45\"/>\n",
       "</g>\n",
       "<!-- 4ea9f491&#45;21d8&#45;4a3a&#45;a662&#45;fbe2c9b316a7&#45;&gt;43fcd5a8&#45;469d&#45;4cbc&#45;b71f&#45;9b9d7dadf736 -->\n",
       "<g id=\"edge2\" class=\"edge\">\n",
       "<title>4ea9f491-21d8-4a3a-a662-fbe2c9b316a7-&gt;43fcd5a8-469d-4cbc-b71f-9b9d7dadf736</title>\n",
       "<path fill=\"none\" stroke=\"#006400\" stroke-width=\"2\" d=\"M162.5,-491.85C162.5,-505.55 162.5,-521.03 162.5,-535.43\"/>\n",
       "<polygon fill=\"#006400\" stroke=\"#006400\" stroke-width=\"2\" points=\"159,-535.67 162.5,-545.67 166,-535.67 159,-535.67\"/>\n",
       "</g>\n",
       "<!-- b6a415c0&#45;3e4c&#45;4d3e&#45;8424&#45;dc289409baad -->\n",
       "<g id=\"node6\" class=\"node\">\n",
       "<title>b6a415c0-3e4c-4d3e-8424-dc289409baad</title>\n",
       "<g id=\"a_node6\"><a xlink:title=\"Making Jennifer's ad a good&lt;BR/&gt;option for a limited ad space.\">\n",
       "<path fill=\"lightblue\" stroke=\"transparent\" d=\"M215,-292C215,-292 356,-292 356,-292 362,-292 368,-298 368,-304 368,-304 368,-337 368,-337 368,-343 362,-349 356,-349 356,-349 215,-349 215,-349 209,-349 203,-343 203,-337 203,-337 203,-304 203,-304 203,-298 209,-292 215,-292\"/>\n",
       "<text text-anchor=\"start\" x=\"237.5\" y=\"-333.9\" font-family=\"Arial, Helvetica, sans-serif\" font-weight=\"bold\" font-size=\"12.00\">Limited ad space</text>\n",
       "<text text-anchor=\"start\" x=\"211\" y=\"-313.9\" font-family=\"Arial, Helvetica, sans-serif\" font-size=\"12.00\">Making Jennifer's ad a good</text>\n",
       "<text text-anchor=\"start\" x=\"209.5\" y=\"-300.9\" font-family=\"Arial, Helvetica, sans-serif\" font-size=\"12.00\">option for a limited ad space.</text>\n",
       "<path fill=\"none\" stroke=\"lightblue\" stroke-width=\"4\" d=\"M215,-292C215,-292 356,-292 356,-292 362,-292 368,-298 368,-304 368,-304 368,-337 368,-337 368,-343 362,-349 356,-349 356,-349 215,-349 215,-349 209,-349 203,-343 203,-337 203,-337 203,-304 203,-304 203,-298 209,-292 215,-292\"/>\n",
       "</a>\n",
       "</g>\n",
       "</g>\n",
       "<!-- b6a415c0&#45;3e4c&#45;4d3e&#45;8424&#45;dc289409baad&#45;&gt;4ea9f491&#45;21d8&#45;4a3a&#45;a662&#45;fbe2c9b316a7 -->\n",
       "<g id=\"edge3\" class=\"edge\">\n",
       "<title>b6a415c0-3e4c-4d3e-8424-dc289409baad-&gt;4ea9f491-21d8-4a3a-a662-fbe2c9b316a7</title>\n",
       "<path fill=\"none\" stroke=\"#98a298\" stroke-width=\"2\" d=\"M253.18,-355.13C239.48,-369.39 223.26,-386.27 208.36,-401.78\"/>\n",
       "<polygon fill=\"#98a298\" stroke=\"#98a298\" stroke-width=\"2\" points=\"205.57,-399.63 201.16,-409.26 210.62,-404.48 205.57,-399.63\"/>\n",
       "</g>\n",
       "<!-- 5b9f3819&#45;3373&#45;4e93&#45;8cad&#45;59aa8a3bb663 -->\n",
       "<g id=\"node7\" class=\"node\">\n",
       "<title>5b9f3819-3373-4e93-8cad-59aa8a3bb663</title>\n",
       "<g id=\"a_node7\"><a xlink:title=\"Jennifer's ad directly&lt;BR/&gt;mentions the product name as&lt;BR/&gt;prominently as Catherine's ad&lt;BR/&gt;does not.\">\n",
       "<path fill=\"lightblue\" stroke=\"transparent\" d=\"M521.5,-6C521.5,-6 669.5,-6 669.5,-6 675.5,-6 681.5,-12 681.5,-18 681.5,-18 681.5,-88 681.5,-88 681.5,-94 675.5,-100 669.5,-100 669.5,-100 521.5,-100 521.5,-100 515.5,-100 509.5,-94 509.5,-88 509.5,-88 509.5,-18 509.5,-18 509.5,-12 515.5,-6 521.5,-6\"/>\n",
       "<text text-anchor=\"start\" x=\"542.5\" y=\"-85.4\" font-family=\"Arial, Helvetica, sans-serif\" font-weight=\"bold\" font-size=\"12.00\">Jennifer's ad cons</text>\n",
       "<text text-anchor=\"start\" x=\"557\" y=\"-73.4\" font-family=\"Arial, Helvetica, sans-serif\" font-weight=\"bold\" font-size=\"12.00\">(product nme</text>\n",
       "<text text-anchor=\"start\" x=\"541\" y=\"-54.4\" font-family=\"Arial, Helvetica, sans-serif\" font-size=\"12.00\">Jennifer's ad directly</text>\n",
       "<text text-anchor=\"start\" x=\"515.5\" y=\"-41.4\" font-family=\"Arial, Helvetica, sans-serif\" font-size=\"12.00\">mentions the product name as</text>\n",
       "<text text-anchor=\"start\" x=\"516\" y=\"-28.4\" font-family=\"Arial, Helvetica, sans-serif\" font-size=\"12.00\">prominently as Catherine's ad</text>\n",
       "<text text-anchor=\"start\" x=\"571\" y=\"-15.4\" font-family=\"Arial, Helvetica, sans-serif\" font-size=\"12.00\">does not.</text>\n",
       "<path fill=\"none\" stroke=\"lightblue\" stroke-width=\"4\" d=\"M521.5,-6C521.5,-6 669.5,-6 669.5,-6 675.5,-6 681.5,-12 681.5,-18 681.5,-18 681.5,-88 681.5,-88 681.5,-94 675.5,-100 669.5,-100 669.5,-100 521.5,-100 521.5,-100 515.5,-100 509.5,-94 509.5,-88 509.5,-88 509.5,-18 509.5,-18 509.5,-12 515.5,-6 521.5,-6\"/>\n",
       "</a>\n",
       "</g>\n",
       "</g>\n",
       "<!-- 45fd8e24&#45;68dc&#45;44ef&#45;863e&#45;ed9a812481dd -->\n",
       "<g id=\"node12\" class=\"node\">\n",
       "<title>45fd8e24-68dc-44ef-863e-ed9a812481dd</title>\n",
       "<g id=\"a_node12\"><a xlink:title=\"Jennifer's ad may not be as&lt;BR/&gt;attention-grabbing as&lt;BR/&gt;Catherine's ad due to less&lt;BR/&gt;descriptive language.\">\n",
       "<path fill=\"lightblue\" stroke=\"transparent\" d=\"M529,-148C529,-148 662,-148 662,-148 668,-148 674,-154 674,-160 674,-160 674,-219 674,-219 674,-225 668,-231 662,-231 662,-231 529,-231 529,-231 523,-231 517,-225 517,-219 517,-219 517,-160 517,-160 517,-154 523,-148 529,-148\"/>\n",
       "<text text-anchor=\"start\" x=\"543\" y=\"-215.9\" font-family=\"Arial, Helvetica, sans-serif\" font-weight=\"bold\" font-size=\"12.00\">Jennifer's ad cons</text>\n",
       "<text text-anchor=\"start\" x=\"523.5\" y=\"-195.9\" font-family=\"Arial, Helvetica, sans-serif\" font-size=\"12.00\">Jennifer's ad may not be as</text>\n",
       "<text text-anchor=\"start\" x=\"539.5\" y=\"-182.9\" font-family=\"Arial, Helvetica, sans-serif\" font-size=\"12.00\">attention-grabbing as</text>\n",
       "<text text-anchor=\"start\" x=\"526.5\" y=\"-169.9\" font-family=\"Arial, Helvetica, sans-serif\" font-size=\"12.00\">Catherine's ad due to less</text>\n",
       "<text text-anchor=\"start\" x=\"538.5\" y=\"-156.9\" font-family=\"Arial, Helvetica, sans-serif\" font-size=\"12.00\">descriptive language.</text>\n",
       "<path fill=\"none\" stroke=\"lightblue\" stroke-width=\"4\" d=\"M529,-148C529,-148 662,-148 662,-148 668,-148 674,-154 674,-160 674,-160 674,-219 674,-219 674,-225 668,-231 662,-231 662,-231 529,-231 529,-231 523,-231 517,-225 517,-219 517,-219 517,-160 517,-160 517,-154 523,-148 529,-148\"/>\n",
       "</a>\n",
       "</g>\n",
       "</g>\n",
       "<!-- 5b9f3819&#45;3373&#45;4e93&#45;8cad&#45;59aa8a3bb663&#45;&gt;45fd8e24&#45;68dc&#45;44ef&#45;863e&#45;ed9a812481dd -->\n",
       "<g id=\"edge4\" class=\"edge\">\n",
       "<title>5b9f3819-3373-4e93-8cad-59aa8a3bb663-&gt;45fd8e24-68dc-44ef-863e-ed9a812481dd</title>\n",
       "<path fill=\"none\" stroke=\"#879b87\" stroke-width=\"2\" d=\"M595.5,-106C595.5,-114.41 595.5,-123.15 595.5,-131.67\"/>\n",
       "<polygon fill=\"#879b87\" stroke=\"#879b87\" stroke-width=\"2\" points=\"592,-131.91 595.5,-141.91 599,-131.91 592,-131.91\"/>\n",
       "</g>\n",
       "<!-- 1056f298&#45;c9bf&#45;4d3c&#45;9251&#45;66662e0a0359 -->\n",
       "<g id=\"node8\" class=\"node\">\n",
       "<title>1056f298-c9bf-4d3c-9251-66662e0a0359</title>\n",
       "<g id=\"a_node8\"><a xlink:title=\"Catherine's ad uses more&lt;BR/&gt;descriptive language.\">\n",
       "<path fill=\"lightblue\" stroke=\"transparent\" d=\"M466,-292C466,-292 605,-292 605,-292 611,-292 617,-298 617,-304 617,-304 617,-337 617,-337 617,-343 611,-349 605,-349 605,-349 466,-349 466,-349 460,-349 454,-343 454,-337 454,-337 454,-304 454,-304 454,-298 460,-292 466,-292\"/>\n",
       "<text text-anchor=\"start\" x=\"460.5\" y=\"-333.9\" font-family=\"Arial, Helvetica, sans-serif\" font-weight=\"bold\" font-size=\"12.00\">More descriptive language</text>\n",
       "<text text-anchor=\"start\" x=\"468\" y=\"-313.9\" font-family=\"Arial, Helvetica, sans-serif\" font-size=\"12.00\">Catherine's ad uses more</text>\n",
       "<text text-anchor=\"start\" x=\"478.5\" y=\"-300.9\" font-family=\"Arial, Helvetica, sans-serif\" font-size=\"12.00\">descriptive language.</text>\n",
       "<path fill=\"none\" stroke=\"lightblue\" stroke-width=\"4\" d=\"M466,-292C466,-292 605,-292 605,-292 611,-292 617,-298 617,-304 617,-304 617,-337 617,-337 617,-343 611,-349 605,-349 605,-349 466,-349 466,-349 460,-349 454,-343 454,-337 454,-337 454,-304 454,-304 454,-298 460,-292 466,-292\"/>\n",
       "</a>\n",
       "</g>\n",
       "</g>\n",
       "<!-- 40596443&#45;78ea&#45;4c5b&#45;982d&#45;e056efdb9d47 -->\n",
       "<g id=\"node10\" class=\"node\">\n",
       "<title>40596443-78ea-4c5b-982d-e056efdb9d47</title>\n",
       "<g id=\"a_node10\"><a xlink:title=\"Catherine's ad makes the&lt;BR/&gt;product more attention-&lt;BR/&gt;grabbing.\">\n",
       "<path fill=\"lightblue\" stroke=\"transparent\" d=\"M592.5,-415.5C592.5,-415.5 718.5,-415.5 718.5,-415.5 724.5,-415.5 730.5,-421.5 730.5,-427.5 730.5,-427.5 730.5,-473.5 730.5,-473.5 730.5,-479.5 724.5,-485.5 718.5,-485.5 718.5,-485.5 592.5,-485.5 592.5,-485.5 586.5,-485.5 580.5,-479.5 580.5,-473.5 580.5,-473.5 580.5,-427.5 580.5,-427.5 580.5,-421.5 586.5,-415.5 592.5,-415.5\"/>\n",
       "<text text-anchor=\"start\" x=\"586.5\" y=\"-470.9\" font-family=\"Arial, Helvetica, sans-serif\" font-weight=\"bold\" font-size=\"12.00\">More attention-grabbing</text>\n",
       "<text text-anchor=\"start\" x=\"587.5\" y=\"-450.9\" font-family=\"Arial, Helvetica, sans-serif\" font-size=\"12.00\">Catherine's ad makes the</text>\n",
       "<text text-anchor=\"start\" x=\"594\" y=\"-437.9\" font-family=\"Arial, Helvetica, sans-serif\" font-size=\"12.00\">product more attention-</text>\n",
       "<text text-anchor=\"start\" x=\"630\" y=\"-424.9\" font-family=\"Arial, Helvetica, sans-serif\" font-size=\"12.00\">grabbing.</text>\n",
       "<path fill=\"none\" stroke=\"lightblue\" stroke-width=\"4\" d=\"M592.5,-415.5C592.5,-415.5 718.5,-415.5 718.5,-415.5 724.5,-415.5 730.5,-421.5 730.5,-427.5 730.5,-427.5 730.5,-473.5 730.5,-473.5 730.5,-479.5 724.5,-485.5 718.5,-485.5 718.5,-485.5 592.5,-485.5 592.5,-485.5 586.5,-485.5 580.5,-479.5 580.5,-473.5 580.5,-473.5 580.5,-427.5 580.5,-427.5 580.5,-421.5 586.5,-415.5 592.5,-415.5\"/>\n",
       "</a>\n",
       "</g>\n",
       "</g>\n",
       "<!-- 1056f298&#45;c9bf&#45;4d3c&#45;9251&#45;66662e0a0359&#45;&gt;40596443&#45;78ea&#45;4c5b&#45;982d&#45;e056efdb9d47 -->\n",
       "<g id=\"edge5\" class=\"edge\">\n",
       "<title>1056f298-c9bf-4d3c-9251-66662e0a0359-&gt;40596443-78ea-4c5b-982d-e056efdb9d47</title>\n",
       "<path fill=\"none\" stroke=\"#006400\" stroke-width=\"2\" d=\"M567.03,-355.13C580.4,-369.39 596.22,-386.27 610.76,-401.78\"/>\n",
       "<polygon fill=\"#006400\" stroke=\"#006400\" stroke-width=\"2\" points=\"608.39,-404.36 617.78,-409.26 613.49,-399.57 608.39,-404.36\"/>\n",
       "</g>\n",
       "<!-- 87c6435d&#45;7af7&#45;4a0f&#45;8745&#45;dac332968cc0 -->\n",
       "<g id=\"node9\" class=\"node\">\n",
       "<title>87c6435d-7af7-4a0f-8745-dac332968cc0</title>\n",
       "<g id=\"a_node9\"><a xlink:title=\"Catherine's ad emphasizes the&lt;BR/&gt;unique features of the&lt;BR/&gt;product.\">\n",
       "<path fill=\"lightblue\" stroke=\"transparent\" d=\"M377,-410C377,-410 530,-410 530,-410 536,-410 542,-416 542,-422 542,-422 542,-479 542,-479 542,-485 536,-491 530,-491 530,-491 377,-491 377,-491 371,-491 365,-485 365,-479 365,-479 365,-422 365,-422 365,-416 371,-410 377,-410\"/>\n",
       "<text text-anchor=\"start\" x=\"397.5\" y=\"-475.9\" font-family=\"Arial, Helvetica, sans-serif\" font-weight=\"bold\" font-size=\"12.00\">Emphasizes unique</text>\n",
       "<text text-anchor=\"start\" x=\"430.5\" y=\"-463.9\" font-family=\"Arial, Helvetica, sans-serif\" font-weight=\"bold\" font-size=\"12.00\">features</text>\n",
       "<text text-anchor=\"start\" x=\"371.5\" y=\"-444.9\" font-family=\"Arial, Helvetica, sans-serif\" font-size=\"12.00\">Catherine's ad emphasizes the</text>\n",
       "<text text-anchor=\"start\" x=\"396.5\" y=\"-431.9\" font-family=\"Arial, Helvetica, sans-serif\" font-size=\"12.00\">unique features of the</text>\n",
       "<text text-anchor=\"start\" x=\"432.5\" y=\"-418.9\" font-family=\"Arial, Helvetica, sans-serif\" font-size=\"12.00\">product.</text>\n",
       "<path fill=\"none\" stroke=\"lightblue\" stroke-width=\"4\" d=\"M377,-410C377,-410 530,-410 530,-410 536,-410 542,-416 542,-422 542,-422 542,-479 542,-479 542,-485 536,-491 530,-491 530,-491 377,-491 377,-491 371,-491 365,-485 365,-479 365,-479 365,-422 365,-422 365,-416 371,-410 377,-410\"/>\n",
       "</a>\n",
       "</g>\n",
       "</g>\n",
       "<!-- 87c6435d&#45;7af7&#45;4a0f&#45;8745&#45;dac332968cc0&#45;&gt;ee2f9b15&#45;0074&#45;48f5&#45;a4ab&#45;6312e5eb4a67 -->\n",
       "<g id=\"edge6\" class=\"edge\">\n",
       "<title>87c6435d-7af7-4a0f-8745-dac332968cc0-&gt;ee2f9b15-0074-48f5-a4ab-6312e5eb4a67</title>\n",
       "<path fill=\"none\" stroke=\"#056605\" stroke-width=\"2\" d=\"M487.69,-497.04C497.55,-510.16 508.34,-524.53 518.31,-537.81\"/>\n",
       "<polygon fill=\"#056605\" stroke=\"#056605\" stroke-width=\"2\" points=\"515.6,-540.02 524.4,-545.92 521.2,-535.82 515.6,-540.02\"/>\n",
       "</g>\n",
       "<!-- 40596443&#45;78ea&#45;4c5b&#45;982d&#45;e056efdb9d47&#45;&gt;ee2f9b15&#45;0074&#45;48f5&#45;a4ab&#45;6312e5eb4a67 -->\n",
       "<g id=\"edge7\" class=\"edge\">\n",
       "<title>40596443-78ea-4c5b-982d-e056efdb9d47-&gt;ee2f9b15-0074-48f5-a4ab-6312e5eb4a67</title>\n",
       "<path fill=\"none\" stroke=\"#006400\" stroke-width=\"2\" d=\"M625.2,-491.85C614.41,-506.22 602.15,-522.54 590.91,-537.51\"/>\n",
       "<polygon fill=\"#006400\" stroke=\"#006400\" stroke-width=\"2\" points=\"587.99,-535.58 584.78,-545.67 593.59,-539.78 587.99,-535.58\"/>\n",
       "</g>\n",
       "<!-- d7899d8a&#45;f219&#45;4863&#45;9032&#45;9fcc2bdef8f9 -->\n",
       "<g id=\"node11\" class=\"node\">\n",
       "<title>d7899d8a-f219-4863-9032-9fcc2bdef8f9</title>\n",
       "<g id=\"a_node11\"><a xlink:title=\"Catherine's ad may be too long&lt;BR/&gt;for a limited ad space, which&lt;BR/&gt;could reduce its&lt;BR/&gt;effectiveness.\">\n",
       "<path fill=\"lightblue\" stroke=\"transparent\" d=\"M705.5,-279C705.5,-279 859.5,-279 859.5,-279 865.5,-279 871.5,-285 871.5,-291 871.5,-291 871.5,-350 871.5,-350 871.5,-356 865.5,-362 859.5,-362 859.5,-362 705.5,-362 705.5,-362 699.5,-362 693.5,-356 693.5,-350 693.5,-350 693.5,-291 693.5,-291 693.5,-285 699.5,-279 705.5,-279\"/>\n",
       "<text text-anchor=\"start\" x=\"725\" y=\"-346.9\" font-family=\"Arial, Helvetica, sans-serif\" font-weight=\"bold\" font-size=\"12.00\">Catherine's ad cons</text>\n",
       "<text text-anchor=\"start\" x=\"699.5\" y=\"-326.9\" font-family=\"Arial, Helvetica, sans-serif\" font-size=\"12.00\">Catherine's ad may be too long</text>\n",
       "<text text-anchor=\"start\" x=\"707\" y=\"-313.9\" font-family=\"Arial, Helvetica, sans-serif\" font-size=\"12.00\">for a limited ad space, which</text>\n",
       "<text text-anchor=\"start\" x=\"740\" y=\"-300.9\" font-family=\"Arial, Helvetica, sans-serif\" font-size=\"12.00\">could reduce its</text>\n",
       "<text text-anchor=\"start\" x=\"746\" y=\"-287.9\" font-family=\"Arial, Helvetica, sans-serif\" font-size=\"12.00\">effectiveness.</text>\n",
       "<path fill=\"none\" stroke=\"lightblue\" stroke-width=\"4\" d=\"M705.5,-279C705.5,-279 859.5,-279 859.5,-279 865.5,-279 871.5,-285 871.5,-291 871.5,-291 871.5,-350 871.5,-350 871.5,-356 865.5,-362 859.5,-362 859.5,-362 705.5,-362 705.5,-362 699.5,-362 693.5,-356 693.5,-350 693.5,-350 693.5,-291 693.5,-291 693.5,-285 699.5,-279 705.5,-279\"/>\n",
       "</a>\n",
       "</g>\n",
       "</g>\n",
       "<!-- d7899d8a&#45;f219&#45;4863&#45;9032&#45;9fcc2bdef8f9&#45;&gt;40596443&#45;78ea&#45;4c5b&#45;982d&#45;e056efdb9d47 -->\n",
       "<g id=\"edge8\" class=\"edge\">\n",
       "<title>d7899d8a-f219-4863-9032-9fcc2bdef8f9-&gt;40596443-78ea-4c5b-982d-e056efdb9d47</title>\n",
       "<path fill=\"none\" stroke=\"#b39595\" stroke-width=\"2\" d=\"M736.29,-368.07C725.35,-379.1 713.67,-390.87 702.69,-401.93\"/>\n",
       "<polygon fill=\"#b39595\" stroke=\"#b39595\" stroke-width=\"2\" points=\"700.15,-399.53 695.59,-409.09 705.12,-404.46 700.15,-399.53\"/>\n",
       "</g>\n",
       "<!-- 45fd8e24&#45;68dc&#45;44ef&#45;863e&#45;ed9a812481dd&#45;&gt;1056f298&#45;c9bf&#45;4d3c&#45;9251&#45;66662e0a0359 -->\n",
       "<g id=\"edge9\" class=\"edge\">\n",
       "<title>45fd8e24-68dc-44ef-863e-ed9a812481dd-&gt;1056f298-c9bf-4d3c-9251-66662e0a0359</title>\n",
       "<path fill=\"none\" stroke=\"#da4848\" stroke-width=\"2\" d=\"M573.84,-237.07C567.85,-249.95 561.37,-263.87 555.48,-276.54\"/>\n",
       "<polygon fill=\"#da4848\" stroke=\"#da4848\" stroke-width=\"2\" points=\"552.15,-275.4 551.11,-285.94 558.5,-278.35 552.15,-275.4\"/>\n",
       "</g>\n",
       "<!-- 45fd8e24&#45;68dc&#45;44ef&#45;863e&#45;ed9a812481dd&#45;&gt;40596443&#45;78ea&#45;4c5b&#45;982d&#45;e056efdb9d47 -->\n",
       "<g id=\"edge10\" class=\"edge\">\n",
       "<title>45fd8e24-68dc-44ef-863e-ed9a812481dd-&gt;40596443-78ea-4c5b-982d-e056efdb9d47</title>\n",
       "<path fill=\"none\" stroke=\"#ea2828\" stroke-width=\"2\" d=\"M622.33,-237.32C627.83,-248.69 633,-261.03 636.5,-273 648.61,-314.46 653.16,-363.43 654.79,-399.26\"/>\n",
       "<polygon fill=\"#ea2828\" stroke=\"#ea2828\" stroke-width=\"2\" points=\"651.3,-399.61 655.19,-409.47 658.3,-399.34 651.3,-399.61\"/>\n",
       "</g>\n",
       "</g>\n",
       "</svg>"
      ],
      "text/plain": [
       "<IPython.core.display.SVG object>"
      ]
     },
     "metadata": {},
     "output_type": "display_data"
    }
   ],
   "source": [
    "# Render argument map (and other generated artifacts)\n",
    "from IPython.display import display, Markdown\n",
    "\n",
    "example_idx = 0\n",
    "\n",
    "for artifact_id in config_dict.get(\"artifacts\",[]):\n",
    "    display(Markdown(f\"## {artifact_id}\"))\n",
    "    data = df_scores.iloc[example_idx].get(artifact_id)\n",
    "    r = render_artifact(artifact_id, data)\n",
    "    if isinstance(r, tuple):\n",
    "        display(*r)\n",
    "    else:\n",
    "        display(r)\n",
    "\n"
   ]
  },
  {
   "cell_type": "markdown",
   "metadata": {
    "id": "9LZfAmj2YtHS"
   },
   "source": [
    "****\n",
    "\n",
    "(c) 2023 The Logikon AI Team | License: Apache 2.0"
   ]
  }
 ],
 "metadata": {
  "accelerator": "GPU",
  "colab": {
   "gpuType": "T4",
   "include_colab_link": true,
   "provenance": []
  },
  "kernelspec": {
   "display_name": "Python 3 (ipykernel)",
   "language": "python",
   "name": "python3"
  },
  "language_info": {
   "codemirror_mode": {
    "name": "ipython",
    "version": 3
   },
   "file_extension": ".py",
   "mimetype": "text/x-python",
   "name": "python",
   "nbconvert_exporter": "python",
   "pygments_lexer": "ipython3",
   "version": "3.10.12"
  }
 },
 "nbformat": 4,
 "nbformat_minor": 4
}
