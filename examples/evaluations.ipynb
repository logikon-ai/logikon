{
 "cells": [
  {
   "cell_type": "markdown",
   "metadata": {},
   "source": [
    "# Evaluate reasoning datasets with `logikon` debuggers"
   ]
  },
  {
   "cell_type": "markdown",
   "metadata": {},
   "source": [
    "Use this notebook to\n",
    "\n",
    "* debug a reasoning dataset with `logikon`\n",
    "* customize `logikon` configuration (e.g., expert_model, debuggers)\n",
    "* upload debugging results (artifacts and metrics) to huggingface hub"
   ]
  },
  {
   "cell_type": "markdown",
   "metadata": {},
   "source": [
    "### Set-up"
   ]
  },
  {
   "cell_type": "code",
   "execution_count": 9,
   "metadata": {},
   "outputs": [],
   "source": [
    "import getpass\n",
    "import os\n",
    "\n",
    "GH_ACCESS_TOKEN = getpass.getpass(\"GH_ACCESS_TOKEN: \")\n",
    "if GH_ACCESS_TOKEN:\n",
    "    os.environ[\"GH_ACCESS_TOKEN\"] = GH_ACCESS_TOKEN\n",
    "\n",
    "OPENAI_API_KEY = getpass.getpass(\"OPENAI_API_KEY: \")\n",
    "if OPENAI_API_KEY:\n",
    "    os.environ[\"OPENAI_API_KEY\"] = OPENAI_API_KEY\n",
    "\n",
    "HUGGINGFACEHUB_API_TOKEN = getpass.getpass(\"HUGGINGFACEHUB_API_TOKEN: \")\n",
    "if HUGGINGFACEHUB_API_TOKEN:\n",
    "    os.environ[\"HUGGINGFACEHUB_API_TOKEN\"] = HUGGINGFACEHUB_API_TOKEN"
   ]
  },
  {
   "cell_type": "code",
   "execution_count": 2,
   "metadata": {
    "vscode": {
     "languageId": "shellscript"
    }
   },
   "outputs": [
    {
     "name": "stdout",
     "output_type": "stream",
     "text": [
      "Collecting hatch\n",
      "  Downloading hatch-1.7.0-py3-none-any.whl (90 kB)\n",
      "\u001b[2K     \u001b[90m━━━━━━━━━━━━━━━━━━━━━━━━━━━━━━━━━━━━━━━━\u001b[0m \u001b[32m90.5/90.5 kB\u001b[0m \u001b[31m20.9 MB/s\u001b[0m eta \u001b[36m0:00:00\u001b[0m\n",
      "\u001b[?25hCollecting tomli-w>=1.0\n",
      "  Downloading tomli_w-1.0.0-py3-none-any.whl (6.0 kB)\n",
      "Requirement already satisfied: shellingham>=1.4.0 in /usr/local/lib/python3.9/dist-packages (from hatch) (1.5.0.post1)\n",
      "Collecting hatchling>=1.14.0\n",
      "  Downloading hatchling-1.18.0-py3-none-any.whl (75 kB)\n",
      "\u001b[2K     \u001b[90m━━━━━━━━━━━━━━━━━━━━━━━━━━━━━━━━━━━━━━━━\u001b[0m \u001b[32m75.7/75.7 kB\u001b[0m \u001b[31m29.4 MB/s\u001b[0m eta \u001b[36m0:00:00\u001b[0m\n",
      "\u001b[?25hRequirement already satisfied: click>=8.0.3 in /usr/local/lib/python3.9/dist-packages (from hatch) (8.1.3)\n",
      "Requirement already satisfied: packaging>=21.3 in /usr/local/lib/python3.9/dist-packages (from hatch) (23.0)\n",
      "Requirement already satisfied: platformdirs>=2.5.0 in /usr/local/lib/python3.9/dist-packages (from hatch) (2.6.2)\n",
      "Requirement already satisfied: pexpect~=4.8 in /usr/local/lib/python3.9/dist-packages (from hatch) (4.8.0)\n",
      "Collecting keyring>=23.5.0\n",
      "  Downloading keyring-24.2.0-py3-none-any.whl (37 kB)\n",
      "Collecting hyperlink>=21.0.0\n",
      "  Downloading hyperlink-21.0.0-py2.py3-none-any.whl (74 kB)\n",
      "\u001b[2K     \u001b[90m━━━━━━━━━━━━━━━━━━━━━━━━━━━━━━━━━━━━━━━━\u001b[0m \u001b[32m74.6/74.6 kB\u001b[0m \u001b[31m27.1 MB/s\u001b[0m eta \u001b[36m0:00:00\u001b[0m\n",
      "\u001b[?25hCollecting pyperclip>=1.8.2\n",
      "  Downloading pyperclip-1.8.2.tar.gz (20 kB)\n",
      "  Preparing metadata (setup.py) ... \u001b[?25ldone\n",
      "\u001b[?25hRequirement already satisfied: rich>=11.2.0 in /usr/local/lib/python3.9/dist-packages (from hatch) (13.2.0)\n",
      "Collecting tomlkit>=0.11.1\n",
      "  Downloading tomlkit-0.12.1-py3-none-any.whl (37 kB)\n",
      "Collecting virtualenv>=20.16.2\n",
      "  Downloading virtualenv-20.24.5-py3-none-any.whl (3.7 MB)\n",
      "\u001b[2K     \u001b[90m━━━━━━━━━━━━━━━━━━━━━━━━━━━━━━━━━━━━━━━━\u001b[0m \u001b[32m3.7/3.7 MB\u001b[0m \u001b[31m58.9 MB/s\u001b[0m eta \u001b[36m0:00:00\u001b[0ma \u001b[36m0:00:01\u001b[0m\n",
      "\u001b[?25hCollecting httpx>=0.22.0\n",
      "  Downloading httpx-0.25.0-py3-none-any.whl (75 kB)\n",
      "\u001b[2K     \u001b[90m━━━━━━━━━━━━━━━━━━━━━━━━━━━━━━━━━━━━━━━━\u001b[0m \u001b[32m75.7/75.7 kB\u001b[0m \u001b[31m30.3 MB/s\u001b[0m eta \u001b[36m0:00:00\u001b[0m\n",
      "\u001b[?25hCollecting userpath~=1.7\n",
      "  Downloading userpath-1.9.1-py3-none-any.whl (9.1 kB)\n",
      "Collecting pathspec>=0.10.1\n",
      "  Downloading pathspec-0.11.2-py3-none-any.whl (29 kB)\n",
      "Requirement already satisfied: tomli>=1.2.2 in /usr/local/lib/python3.9/dist-packages (from hatchling>=1.14.0->hatch) (2.0.1)\n",
      "Requirement already satisfied: pluggy>=1.0.0 in /usr/local/lib/python3.9/dist-packages (from hatchling>=1.14.0->hatch) (1.0.0)\n",
      "Collecting trove-classifiers\n",
      "  Downloading trove_classifiers-2023.9.19-py3-none-any.whl (13 kB)\n",
      "Collecting editables>=0.3\n",
      "  Downloading editables-0.5-py3-none-any.whl (5.1 kB)\n",
      "Requirement already satisfied: idna in /usr/lib/python3/dist-packages (from httpx>=0.22.0->hatch) (2.8)\n",
      "Requirement already satisfied: sniffio in /usr/local/lib/python3.9/dist-packages (from httpx>=0.22.0->hatch) (1.3.0)\n",
      "Collecting httpcore<0.19.0,>=0.18.0\n",
      "  Downloading httpcore-0.18.0-py3-none-any.whl (76 kB)\n",
      "\u001b[2K     \u001b[90m━━━━━━━━━━━━━━━━━━━━━━━━━━━━━━━━━━━━━━━━\u001b[0m \u001b[32m76.0/76.0 kB\u001b[0m \u001b[31m28.2 MB/s\u001b[0m eta \u001b[36m0:00:00\u001b[0m\n",
      "\u001b[?25hRequirement already satisfied: certifi in /usr/lib/python3/dist-packages (from httpx>=0.22.0->hatch) (2019.11.28)\n",
      "Requirement already satisfied: importlib-metadata>=4.11.4 in /usr/local/lib/python3.9/dist-packages (from keyring>=23.5.0->hatch) (6.0.0)\n",
      "Collecting SecretStorage>=3.2\n",
      "  Downloading SecretStorage-3.3.3-py3-none-any.whl (15 kB)\n",
      "Collecting jeepney>=0.4.2\n",
      "  Downloading jeepney-0.8.0-py3-none-any.whl (48 kB)\n",
      "\u001b[2K     \u001b[90m━━━━━━━━━━━━━━━━━━━━━━━━━━━━━━━━━━━━━━━━\u001b[0m \u001b[32m48.4/48.4 kB\u001b[0m \u001b[31m20.6 MB/s\u001b[0m eta \u001b[36m0:00:00\u001b[0m\n",
      "\u001b[?25hCollecting jaraco.classes\n",
      "  Downloading jaraco.classes-3.3.0-py3-none-any.whl (5.9 kB)\n",
      "Requirement already satisfied: ptyprocess>=0.5 in /usr/local/lib/python3.9/dist-packages (from pexpect~=4.8->hatch) (0.7.0)\n",
      "Requirement already satisfied: markdown-it-py<3.0.0,>=2.1.0 in /usr/local/lib/python3.9/dist-packages (from rich>=11.2.0->hatch) (2.1.0)\n",
      "Requirement already satisfied: pygments<3.0.0,>=2.6.0 in /usr/local/lib/python3.9/dist-packages (from rich>=11.2.0->hatch) (2.14.0)\n",
      "Collecting filelock<4,>=3.12.2\n",
      "  Downloading filelock-3.12.4-py3-none-any.whl (11 kB)\n",
      "Collecting distlib<1,>=0.3.7\n",
      "  Downloading distlib-0.3.7-py2.py3-none-any.whl (468 kB)\n",
      "\u001b[2K     \u001b[90m━━━━━━━━━━━━━━━━━━━━━━━━━━━━━━━━━━━━━━\u001b[0m \u001b[32m468.9/468.9 kB\u001b[0m \u001b[31m59.3 MB/s\u001b[0m eta \u001b[36m0:00:00\u001b[0m\n",
      "\u001b[?25hCollecting platformdirs>=2.5.0\n",
      "  Downloading platformdirs-3.10.0-py3-none-any.whl (17 kB)\n",
      "Requirement already satisfied: anyio<5.0,>=3.0 in /usr/local/lib/python3.9/dist-packages (from httpcore<0.19.0,>=0.18.0->httpx>=0.22.0->hatch) (3.6.2)\n",
      "Collecting h11<0.15,>=0.13\n",
      "  Downloading h11-0.14.0-py3-none-any.whl (58 kB)\n",
      "\u001b[2K     \u001b[90m━━━━━━━━━━━━━━━━━━━━━━━━━━━━━━━━━━━━━━━━\u001b[0m \u001b[32m58.3/58.3 kB\u001b[0m \u001b[31m21.3 MB/s\u001b[0m eta \u001b[36m0:00:00\u001b[0m\n",
      "\u001b[?25hRequirement already satisfied: zipp>=0.5 in /usr/local/lib/python3.9/dist-packages (from importlib-metadata>=4.11.4->keyring>=23.5.0->hatch) (3.11.0)\n",
      "Requirement already satisfied: mdurl~=0.1 in /usr/local/lib/python3.9/dist-packages (from markdown-it-py<3.0.0,>=2.1.0->rich>=11.2.0->hatch) (0.1.2)\n",
      "Collecting cryptography>=2.0\n",
      "  Downloading cryptography-41.0.4-cp37-abi3-manylinux_2_28_x86_64.whl (4.4 MB)\n",
      "\u001b[2K     \u001b[90m━━━━━━━━━━━━━━━━━━━━━━━━━━━━━━━━━━━━━━━━\u001b[0m \u001b[32m4.4/4.4 MB\u001b[0m \u001b[31m67.1 MB/s\u001b[0m eta \u001b[36m0:00:00\u001b[0ma \u001b[36m0:00:01\u001b[0m\n",
      "\u001b[?25hCollecting more-itertools\n",
      "  Downloading more_itertools-10.1.0-py3-none-any.whl (55 kB)\n",
      "\u001b[2K     \u001b[90m━━━━━━━━━━━━━━━━━━━━━━━━━━━━━━━━━━━━━━━━\u001b[0m \u001b[32m55.8/55.8 kB\u001b[0m \u001b[31m20.3 MB/s\u001b[0m eta \u001b[36m0:00:00\u001b[0m\n",
      "\u001b[?25hRequirement already satisfied: cffi>=1.12 in /usr/local/lib/python3.9/dist-packages (from cryptography>=2.0->SecretStorage>=3.2->keyring>=23.5.0->hatch) (1.15.1)\n",
      "Requirement already satisfied: pycparser in /usr/local/lib/python3.9/dist-packages (from cffi>=1.12->cryptography>=2.0->SecretStorage>=3.2->keyring>=23.5.0->hatch) (2.21)\n",
      "Building wheels for collected packages: pyperclip\n",
      "  Building wheel for pyperclip (setup.py) ... \u001b[?25ldone\n",
      "\u001b[?25h  Created wheel for pyperclip: filename=pyperclip-1.8.2-py3-none-any.whl size=11125 sha256=6b6ca0161c82730048f219e04019e21e751929b83d6fe1c6e6d2831950e3c593\n",
      "  Stored in directory: /root/.cache/pip/wheels/23/12/dd/067d543d895c9036459c68b02a9dcd66c7aad675ef90cbd3ab\n",
      "Successfully built pyperclip\n",
      "Installing collected packages: trove-classifiers, pyperclip, distlib, userpath, tomlkit, tomli-w, platformdirs, pathspec, more-itertools, jeepney, hyperlink, h11, filelock, editables, virtualenv, jaraco.classes, httpcore, hatchling, cryptography, SecretStorage, httpx, keyring, hatch\n",
      "  Attempting uninstall: platformdirs\n",
      "    Found existing installation: platformdirs 2.6.2\n",
      "    Uninstalling platformdirs-2.6.2:\n",
      "      Successfully uninstalled platformdirs-2.6.2\n",
      "  Attempting uninstall: filelock\n",
      "    Found existing installation: filelock 3.9.0\n",
      "    Uninstalling filelock-3.9.0:\n",
      "      Successfully uninstalled filelock-3.9.0\n",
      "Successfully installed SecretStorage-3.3.3 cryptography-41.0.4 distlib-0.3.7 editables-0.5 filelock-3.12.4 h11-0.14.0 hatch-1.7.0 hatchling-1.18.0 httpcore-0.18.0 httpx-0.25.0 hyperlink-21.0.0 jaraco.classes-3.3.0 jeepney-0.8.0 keyring-24.2.0 more-itertools-10.1.0 pathspec-0.11.2 platformdirs-3.10.0 pyperclip-1.8.2 tomli-w-1.0.0 tomlkit-0.12.1 trove-classifiers-2023.9.19 userpath-1.9.1 virtualenv-20.24.5\n",
      "\u001b[33mWARNING: Running pip as the 'root' user can result in broken permissions and conflicting behaviour with the system package manager. It is recommended to use a virtual environment instead: https://pip.pypa.io/warnings/venv\u001b[0m\u001b[33m\n",
      "\u001b[0mNote: you may need to restart the kernel to use updated packages.\n",
      "Collecting git+https://****@github.com/logikon-ai/logikon.git@v0.0.1-dev0\n",
      "  Cloning https://****@github.com/logikon-ai/logikon.git (to revision v0.0.1-dev0) to /tmp/pip-req-build-13a5twwa\n",
      "  Running command git clone --filter=blob:none --quiet 'https://****@github.com/logikon-ai/logikon.git' /tmp/pip-req-build-13a5twwa\n",
      "  Running command git checkout -q 74acea0358f5a50b3ae5043dc11b9a86b1cb7c46\n",
      "  Resolved https://****@github.com/logikon-ai/logikon.git to commit 74acea0358f5a50b3ae5043dc11b9a86b1cb7c46\n",
      "  Installing build dependencies ... \u001b[?25ldone\n",
      "\u001b[?25h  Getting requirements to build wheel ... \u001b[?25ldone\n",
      "\u001b[?25h  Preparing metadata (pyproject.toml) ... \u001b[?25ldone\n",
      "\u001b[?25hCollecting vllm>=0.1.7\n",
      "  Downloading vllm-0.1.7-cp39-cp39-manylinux1_x86_64.whl (19.1 MB)\n",
      "\u001b[2K     \u001b[90m━━━━━━━━━━━━━━━━━━━━━━━━━━━━━━━━━━━━━━━━\u001b[0m \u001b[32m19.1/19.1 MB\u001b[0m \u001b[31m71.5 MB/s\u001b[0m eta \u001b[36m0:00:00\u001b[0m00:01\u001b[0m00:01\u001b[0m\n",
      "\u001b[?25hRequirement already satisfied: numpy in /usr/local/lib/python3.9/dist-packages (from vllm>=0.1.7) (1.23.4)\n",
      "Requirement already satisfied: pydantic<2 in /usr/local/lib/python3.9/dist-packages (from vllm>=0.1.7) (1.9.2)\n",
      "Collecting transformers>=4.33.1\n",
      "  Downloading transformers-4.33.3-py3-none-any.whl (7.6 MB)\n",
      "\u001b[2K     \u001b[90m━━━━━━━━━━━━━━━━━━━━━━━━━━━━━━━━━━━━━━━━\u001b[0m \u001b[32m7.6/7.6 MB\u001b[0m \u001b[31m119.1 MB/s\u001b[0m eta \u001b[36m0:00:00\u001b[0m00:01\u001b[0m\n",
      "\u001b[?25hCollecting ray>=2.5.1\n",
      "  Downloading ray-2.7.0-cp39-cp39-manylinux2014_x86_64.whl (62.5 MB)\n",
      "\u001b[2K     \u001b[90m━━━━━━━━━━━━━━━━━━━━━━━━━━━━━━━━━━━━━━━━\u001b[0m \u001b[32m62.5/62.5 MB\u001b[0m \u001b[31m26.7 MB/s\u001b[0m eta \u001b[36m0:00:00\u001b[0m00:01\u001b[0m00:01\u001b[0m\n",
      "\u001b[?25hCollecting torch>=2.0.0\n",
      "  Downloading torch-2.0.1-cp39-cp39-manylinux1_x86_64.whl (619.9 MB)\n",
      "\u001b[2K     \u001b[90m━━━━━━━━━━━━━━━━━━━━━━━━━━━━━━━━━━━━━━━\u001b[0m \u001b[32m619.9/619.9 MB\u001b[0m \u001b[31m3.9 MB/s\u001b[0m eta \u001b[36m0:00:00\u001b[0m00:01\u001b[0m00:01\u001b[0m\n",
      "\u001b[?25hCollecting uvicorn\n",
      "  Downloading uvicorn-0.23.2-py3-none-any.whl (59 kB)\n",
      "\u001b[2K     \u001b[90m━━━━━━━━━━━━━━━━━━━━━━━━━━━━━━━━━━━━━━━━\u001b[0m \u001b[32m59.5/59.5 kB\u001b[0m \u001b[31m19.6 MB/s\u001b[0m eta \u001b[36m0:00:00\u001b[0m\n",
      "\u001b[?25hCollecting xformers>=0.0.21\n",
      "  Downloading xformers-0.0.22-cp39-cp39-manylinux2014_x86_64.whl (211.6 MB)\n",
      "\u001b[2K     \u001b[90m━━━━━━━━━━━━━━━━━━━━━━━━━━━━━━━━━━━━━━\u001b[0m \u001b[32m211.6/211.6 MB\u001b[0m \u001b[31m10.7 MB/s\u001b[0m eta \u001b[36m0:00:00\u001b[0m00:01\u001b[0m00:01\u001b[0m\n",
      "\u001b[?25hCollecting fastapi\n",
      "  Downloading fastapi-0.103.1-py3-none-any.whl (66 kB)\n",
      "\u001b[2K     \u001b[90m━━━━━━━━━━━━━━━━━━━━━━━━━━━━━━━━━━━━━━━━\u001b[0m \u001b[32m66.2/66.2 kB\u001b[0m \u001b[31m25.5 MB/s\u001b[0m eta \u001b[36m0:00:00\u001b[0m\n",
      "\u001b[?25hRequirement already satisfied: psutil in /usr/local/lib/python3.9/dist-packages (from vllm>=0.1.7) (5.9.4)\n",
      "Requirement already satisfied: sentencepiece in /usr/local/lib/python3.9/dist-packages (from vllm>=0.1.7) (0.1.97)\n",
      "Collecting ninja\n",
      "  Downloading ninja-1.11.1-py2.py3-none-manylinux_2_12_x86_64.manylinux2010_x86_64.whl (145 kB)\n",
      "\u001b[2K     \u001b[90m━━━━━━━━━━━━━━━━━━━━━━━━━━━━━━━━━━━━━━\u001b[0m \u001b[32m146.0/146.0 kB\u001b[0m \u001b[31m50.1 MB/s\u001b[0m eta \u001b[36m0:00:00\u001b[0m\n",
      "\u001b[?25hCollecting unidecode>=1.3.6\n",
      "  Downloading Unidecode-1.3.7-py3-none-any.whl (235 kB)\n",
      "\u001b[2K     \u001b[90m━━━━━━━━━━━━━━━━━━━━━━━━━━━━━━━━━━━━━━\u001b[0m \u001b[32m235.5/235.5 kB\u001b[0m \u001b[31m71.2 MB/s\u001b[0m eta \u001b[36m0:00:00\u001b[0m\n",
      "\u001b[?25hCollecting langchain\n",
      "  Downloading langchain-0.0.304-py3-none-any.whl (1.7 MB)\n",
      "\u001b[2K     \u001b[90m━━━━━━━━━━━━━━━━━━━━━━━━━━━━━━━━━━━━━━━━\u001b[0m \u001b[32m1.7/1.7 MB\u001b[0m \u001b[31m125.8 MB/s\u001b[0m eta \u001b[36m0:00:00\u001b[0m\n",
      "\u001b[?25hRequirement already satisfied: huggingface-hub in /usr/local/lib/python3.9/dist-packages (from logikon==0.0.1.dev0) (0.12.0)\n",
      "Collecting pydantic<2\n",
      "  Downloading pydantic-1.10.13-cp39-cp39-manylinux_2_17_x86_64.manylinux2014_x86_64.whl (3.2 MB)\n",
      "\u001b[2K     \u001b[90m━━━━━━━━━━━━━━━━━━━━━━━━━━━━━━━━━━━━━━━━\u001b[0m \u001b[32m3.2/3.2 MB\u001b[0m \u001b[31m129.7 MB/s\u001b[0m eta \u001b[36m0:00:00\u001b[0m\n",
      "\u001b[?25hCollecting networkx>=3.1\n",
      "  Downloading networkx-3.1-py3-none-any.whl (2.1 MB)\n",
      "\u001b[2K     \u001b[90m━━━━━━━━━━━━━━━━━━━━━━━━━━━━━━━━━━━━━━━━\u001b[0m \u001b[32m2.1/2.1 MB\u001b[0m \u001b[31m118.4 MB/s\u001b[0m eta \u001b[36m0:00:00\u001b[0m\n",
      "\u001b[?25hCollecting openai\n",
      "  Downloading openai-0.28.1-py3-none-any.whl (76 kB)\n",
      "\u001b[2K     \u001b[90m━━━━━━━━━━━━━━━━━━━━━━━━━━━━━━━━━━━━━━━━\u001b[0m \u001b[32m77.0/77.0 kB\u001b[0m \u001b[31m26.7 MB/s\u001b[0m eta \u001b[36m0:00:00\u001b[0m\n",
      "\u001b[?25hCollecting graphviz>=0.20.1\n",
      "  Downloading graphviz-0.20.1-py3-none-any.whl (47 kB)\n",
      "\u001b[2K     \u001b[90m━━━━━━━━━━━━━━━━━━━━━━━━━━━━━━━━━━━━━━━━\u001b[0m \u001b[32m47.0/47.0 kB\u001b[0m \u001b[31m16.3 MB/s\u001b[0m eta \u001b[36m0:00:00\u001b[0m\n",
      "\u001b[?25hRequirement already satisfied: typing-extensions>=4.2.0 in /usr/local/lib/python3.9/dist-packages (from pydantic<2->vllm>=0.1.7) (4.4.0)\n",
      "Requirement already satisfied: filelock in /usr/local/lib/python3.9/dist-packages (from ray>=2.5.1->vllm>=0.1.7) (3.12.4)\n",
      "Requirement already satisfied: aiosignal in /usr/local/lib/python3.9/dist-packages (from ray>=2.5.1->vllm>=0.1.7) (1.3.1)\n",
      "Requirement already satisfied: requests in /usr/local/lib/python3.9/dist-packages (from ray>=2.5.1->vllm>=0.1.7) (2.28.2)\n",
      "Requirement already satisfied: packaging in /usr/local/lib/python3.9/dist-packages (from ray>=2.5.1->vllm>=0.1.7) (23.0)\n",
      "Requirement already satisfied: frozenlist in /usr/local/lib/python3.9/dist-packages (from ray>=2.5.1->vllm>=0.1.7) (1.3.3)\n",
      "Requirement already satisfied: protobuf!=3.19.5,>=3.15.3 in /usr/local/lib/python3.9/dist-packages (from ray>=2.5.1->vllm>=0.1.7) (3.19.6)\n",
      "Requirement already satisfied: pyyaml in /usr/local/lib/python3.9/dist-packages (from ray>=2.5.1->vllm>=0.1.7) (5.4.1)\n",
      "Requirement already satisfied: click>=7.0 in /usr/local/lib/python3.9/dist-packages (from ray>=2.5.1->vllm>=0.1.7) (8.1.3)\n",
      "Requirement already satisfied: msgpack<2.0.0,>=1.0.0 in /usr/local/lib/python3.9/dist-packages (from ray>=2.5.1->vllm>=0.1.7) (1.0.4)\n",
      "Requirement already satisfied: jsonschema in /usr/local/lib/python3.9/dist-packages (from ray>=2.5.1->vllm>=0.1.7) (4.17.3)\n",
      "Collecting nvidia-cudnn-cu11==8.5.0.96\n",
      "  Downloading nvidia_cudnn_cu11-8.5.0.96-2-py3-none-manylinux1_x86_64.whl (557.1 MB)\n",
      "\u001b[2K     \u001b[90m━━━━━━━━━━━━━━━━━━━━━━━━━━━━━━━━━━━━━━━\u001b[0m \u001b[32m557.1/557.1 MB\u001b[0m \u001b[31m4.3 MB/s\u001b[0m eta \u001b[36m0:00:00\u001b[0m00:01\u001b[0m00:01\u001b[0m\n",
      "\u001b[?25hCollecting nvidia-cublas-cu11==11.10.3.66\n",
      "  Downloading nvidia_cublas_cu11-11.10.3.66-py3-none-manylinux1_x86_64.whl (317.1 MB)\n",
      "\u001b[2K     \u001b[90m━━━━━━━━━━━━━━━━━━━━━━━━━━━━━━━━━━━━━━━\u001b[0m \u001b[32m317.1/317.1 MB\u001b[0m \u001b[31m7.8 MB/s\u001b[0m eta \u001b[36m0:00:00\u001b[0m00:01\u001b[0m00:01\u001b[0m\n",
      "\u001b[?25hCollecting nvidia-cufft-cu11==10.9.0.58\n",
      "  Downloading nvidia_cufft_cu11-10.9.0.58-py3-none-manylinux1_x86_64.whl (168.4 MB)\n",
      "\u001b[2K     \u001b[90m━━━━━━━━━━━━━━━━━━━━━━━━━━━━━━━━━━━━━━\u001b[0m \u001b[32m168.4/168.4 MB\u001b[0m \u001b[31m13.4 MB/s\u001b[0m eta \u001b[36m0:00:00\u001b[0m00:01\u001b[0m00:01\u001b[0m\n",
      "\u001b[?25hCollecting nvidia-cuda-nvrtc-cu11==11.7.99\n",
      "  Downloading nvidia_cuda_nvrtc_cu11-11.7.99-2-py3-none-manylinux1_x86_64.whl (21.0 MB)\n",
      "\u001b[2K     \u001b[90m━━━━━━━━━━━━━━━━━━━━━━━━━━━━━━━━━━━━━━━━\u001b[0m \u001b[32m21.0/21.0 MB\u001b[0m \u001b[31m61.4 MB/s\u001b[0m eta \u001b[36m0:00:00\u001b[0m00:01\u001b[0m00:01\u001b[0m\n",
      "\u001b[?25hCollecting nvidia-cusparse-cu11==11.7.4.91\n",
      "  Downloading nvidia_cusparse_cu11-11.7.4.91-py3-none-manylinux1_x86_64.whl (173.2 MB)\n",
      "\u001b[2K     \u001b[90m━━━━━━━━━━━━━━━━━━━━━━━━━━━━━━━━━━━━━━\u001b[0m \u001b[32m173.2/173.2 MB\u001b[0m \u001b[31m12.8 MB/s\u001b[0m eta \u001b[36m0:00:00\u001b[0m00:01\u001b[0m00:01\u001b[0m\n",
      "\u001b[?25hCollecting nvidia-nvtx-cu11==11.7.91\n",
      "  Downloading nvidia_nvtx_cu11-11.7.91-py3-none-manylinux1_x86_64.whl (98 kB)\n",
      "\u001b[2K     \u001b[90m━━━━━━━━━━━━━━━━━━━━━━━━━━━━━━━━━━━━━━━━\u001b[0m \u001b[32m98.6/98.6 kB\u001b[0m \u001b[31m38.7 MB/s\u001b[0m eta \u001b[36m0:00:00\u001b[0m\n",
      "\u001b[?25hCollecting nvidia-cusolver-cu11==11.4.0.1\n",
      "  Downloading nvidia_cusolver_cu11-11.4.0.1-2-py3-none-manylinux1_x86_64.whl (102.6 MB)\n",
      "\u001b[2K     \u001b[90m━━━━━━━━━━━━━━━━━━━━━━━━━━━━━━━━━━━━━━\u001b[0m \u001b[32m102.6/102.6 MB\u001b[0m \u001b[31m19.0 MB/s\u001b[0m eta \u001b[36m0:00:00\u001b[0m00:01\u001b[0m00:01\u001b[0m\n",
      "\u001b[?25hCollecting nvidia-cuda-runtime-cu11==11.7.99\n",
      "  Downloading nvidia_cuda_runtime_cu11-11.7.99-py3-none-manylinux1_x86_64.whl (849 kB)\n",
      "\u001b[2K     \u001b[90m━━━━━━━━━━━━━━━━━━━━━━━━━━━━━━━━━━━━━━\u001b[0m \u001b[32m849.3/849.3 kB\u001b[0m \u001b[31m94.4 MB/s\u001b[0m eta \u001b[36m0:00:00\u001b[0m\n",
      "\u001b[?25hRequirement already satisfied: jinja2 in /usr/local/lib/python3.9/dist-packages (from torch>=2.0.0->vllm>=0.1.7) (3.1.2)\n",
      "Collecting nvidia-nccl-cu11==2.14.3\n",
      "  Downloading nvidia_nccl_cu11-2.14.3-py3-none-manylinux1_x86_64.whl (177.1 MB)\n",
      "\u001b[2K     \u001b[90m━━━━━━━━━━━━━━━━━━━━━━━━━━━━━━━━━━━━━━\u001b[0m \u001b[32m177.1/177.1 MB\u001b[0m \u001b[31m13.3 MB/s\u001b[0m eta \u001b[36m0:00:00\u001b[0m00:01\u001b[0m00:01\u001b[0m\n",
      "\u001b[?25hCollecting sympy\n",
      "  Downloading sympy-1.12-py3-none-any.whl (5.7 MB)\n",
      "\u001b[2K     \u001b[90m━━━━━━━━━━━━━━━━━━━━━━━━━━━━━━━━━━━━━━━━\u001b[0m \u001b[32m5.7/5.7 MB\u001b[0m \u001b[31m91.0 MB/s\u001b[0m eta \u001b[36m0:00:00\u001b[0m:00:01\u001b[0m\n",
      "\u001b[?25hCollecting triton==2.0.0\n",
      "  Downloading triton-2.0.0-1-cp39-cp39-manylinux2014_x86_64.manylinux_2_17_x86_64.whl (63.3 MB)\n",
      "\u001b[2K     \u001b[90m━━━━━━━━━━━━━━━━━━━━━━━━━━━━━━━━━━━━━━━━\u001b[0m \u001b[32m63.3/63.3 MB\u001b[0m \u001b[31m27.2 MB/s\u001b[0m eta \u001b[36m0:00:00\u001b[0m00:01\u001b[0m00:01\u001b[0m\n",
      "\u001b[?25hCollecting nvidia-curand-cu11==10.2.10.91\n",
      "  Downloading nvidia_curand_cu11-10.2.10.91-py3-none-manylinux1_x86_64.whl (54.6 MB)\n",
      "\u001b[2K     \u001b[90m━━━━━━━━━━━━━━━━━━━━━━━━━━━━━━━━━━━━━━━━\u001b[0m \u001b[32m54.6/54.6 MB\u001b[0m \u001b[31m38.4 MB/s\u001b[0m eta \u001b[36m0:00:00\u001b[0m00:01\u001b[0m00:01\u001b[0m\n",
      "\u001b[?25hCollecting nvidia-cuda-cupti-cu11==11.7.101\n",
      "  Downloading nvidia_cuda_cupti_cu11-11.7.101-py3-none-manylinux1_x86_64.whl (11.8 MB)\n",
      "\u001b[2K     \u001b[90m━━━━━━━━━━━━━━━━━━━━━━━━━━━━━━━━━━━━━━━\u001b[0m \u001b[32m11.8/11.8 MB\u001b[0m \u001b[31m101.3 MB/s\u001b[0m eta \u001b[36m0:00:00\u001b[0m00:01\u001b[0m00:01\u001b[0m\n",
      "\u001b[?25hRequirement already satisfied: wheel in /usr/local/lib/python3.9/dist-packages (from nvidia-cublas-cu11==11.10.3.66->torch>=2.0.0->vllm>=0.1.7) (0.35.1)\n",
      "Requirement already satisfied: setuptools in /usr/local/lib/python3.9/dist-packages (from nvidia-cublas-cu11==11.10.3.66->torch>=2.0.0->vllm>=0.1.7) (66.1.1)\n",
      "Collecting cmake\n",
      "  Downloading cmake-3.27.5-py2.py3-none-manylinux2014_x86_64.manylinux_2_17_x86_64.whl (26.1 MB)\n",
      "\u001b[2K     \u001b[90m━━━━━━━━━━━━━━━━━━━━━━━━━━━━━━━━━━━━━━━━\u001b[0m \u001b[32m26.1/26.1 MB\u001b[0m \u001b[31m64.0 MB/s\u001b[0m eta \u001b[36m0:00:00\u001b[0m00:01\u001b[0m00:01\u001b[0m\n",
      "\u001b[?25hCollecting lit\n",
      "  Downloading lit-17.0.1.tar.gz (154 kB)\n",
      "\u001b[2K     \u001b[90m━━━━━━━━━━━━━━━━━━━━━━━━━━━━━━━━━━━━━━\u001b[0m \u001b[32m154.7/154.7 kB\u001b[0m \u001b[31m49.3 MB/s\u001b[0m eta \u001b[36m0:00:00\u001b[0m\n",
      "\u001b[?25h  Installing build dependencies ... \u001b[?25ldone\n",
      "\u001b[?25h  Getting requirements to build wheel ... \u001b[?25ldone\n",
      "\u001b[?25h  Installing backend dependencies ... \u001b[?25ldone\n",
      "\u001b[?25h  Preparing metadata (pyproject.toml) ... \u001b[?25ldone\n",
      "\u001b[?25hRequirement already satisfied: tokenizers!=0.11.3,<0.14,>=0.11.1 in /usr/local/lib/python3.9/dist-packages (from transformers>=4.33.1->vllm>=0.1.7) (0.12.1)\n",
      "Requirement already satisfied: tqdm>=4.27 in /usr/local/lib/python3.9/dist-packages (from transformers>=4.33.1->vllm>=0.1.7) (4.64.1)\n",
      "Requirement already satisfied: regex!=2019.12.17 in /usr/local/lib/python3.9/dist-packages (from transformers>=4.33.1->vllm>=0.1.7) (2022.10.31)\n",
      "Collecting safetensors>=0.3.1\n",
      "  Downloading safetensors-0.3.3-cp39-cp39-manylinux_2_17_x86_64.manylinux2014_x86_64.whl (1.3 MB)\n",
      "\u001b[2K     \u001b[90m━━━━━━━━━━━━━━━━━━━━━━━━━━━━━━━━━━━━━━━━\u001b[0m \u001b[32m1.3/1.3 MB\u001b[0m \u001b[31m100.3 MB/s\u001b[0m eta \u001b[36m0:00:00\u001b[0m\n",
      "\u001b[?25hCollecting huggingface-hub\n",
      "  Downloading huggingface_hub-0.17.3-py3-none-any.whl (295 kB)\n",
      "\u001b[2K     \u001b[90m━━━━━━━━━━━━━━━━━━━━━━━━━━━━━━━━━━━━━━\u001b[0m \u001b[32m295.0/295.0 kB\u001b[0m \u001b[31m77.5 MB/s\u001b[0m eta \u001b[36m0:00:00\u001b[0m\n",
      "\u001b[?25hRequirement already satisfied: fsspec in /usr/local/lib/python3.9/dist-packages (from huggingface-hub->logikon==0.0.1.dev0) (2023.1.0)\n",
      "Collecting anyio<4.0.0,>=3.7.1\n",
      "  Downloading anyio-3.7.1-py3-none-any.whl (80 kB)\n",
      "\u001b[2K     \u001b[90m━━━━━━━━━━━━━━━━━━━━━━━━━━━━━━━━━━━━━━━━\u001b[0m \u001b[32m80.9/80.9 kB\u001b[0m \u001b[31m29.0 MB/s\u001b[0m eta \u001b[36m0:00:00\u001b[0m\n",
      "\u001b[?25hCollecting starlette<0.28.0,>=0.27.0\n",
      "  Downloading starlette-0.27.0-py3-none-any.whl (66 kB)\n",
      "\u001b[2K     \u001b[90m━━━━━━━━━━━━━━━━━━━━━━━━━━━━━━━━━━━━━━━━\u001b[0m \u001b[32m67.0/67.0 kB\u001b[0m \u001b[31m25.7 MB/s\u001b[0m eta \u001b[36m0:00:00\u001b[0m\n",
      "\u001b[?25hCollecting typing-extensions>=4.2.0\n",
      "  Downloading typing_extensions-4.8.0-py3-none-any.whl (31 kB)\n",
      "Collecting langsmith<0.1.0,>=0.0.38\n",
      "  Downloading langsmith-0.0.41-py3-none-any.whl (39 kB)\n",
      "Requirement already satisfied: SQLAlchemy<3,>=1.4 in /usr/local/lib/python3.9/dist-packages (from langchain->logikon==0.0.1.dev0) (1.4.41)\n",
      "Collecting dataclasses-json<0.7,>=0.5.7\n",
      "  Downloading dataclasses_json-0.6.1-py3-none-any.whl (27 kB)\n",
      "Collecting tenacity<9.0.0,>=8.1.0\n",
      "  Downloading tenacity-8.2.3-py3-none-any.whl (24 kB)\n",
      "Requirement already satisfied: async-timeout<5.0.0,>=4.0.0 in /usr/local/lib/python3.9/dist-packages (from langchain->logikon==0.0.1.dev0) (4.0.2)\n",
      "Requirement already satisfied: aiohttp<4.0.0,>=3.8.3 in /usr/local/lib/python3.9/dist-packages (from langchain->logikon==0.0.1.dev0) (3.8.3)\n",
      "Collecting jsonpatch<2.0,>=1.33\n",
      "  Downloading jsonpatch-1.33-py2.py3-none-any.whl (12 kB)\n",
      "Collecting numexpr<3.0.0,>=2.8.4\n",
      "  Downloading numexpr-2.8.7-cp39-cp39-manylinux_2_17_x86_64.manylinux2014_x86_64.whl (383 kB)\n",
      "\u001b[2K     \u001b[90m━━━━━━━━━━━━━━━━━━━━━━━━━━━━━━━━━━━━━━\u001b[0m \u001b[32m383.7/383.7 kB\u001b[0m \u001b[31m74.7 MB/s\u001b[0m eta \u001b[36m0:00:00\u001b[0m\n",
      "\u001b[?25hRequirement already satisfied: h11>=0.8 in /usr/local/lib/python3.9/dist-packages (from uvicorn->vllm>=0.1.7) (0.14.0)\n",
      "Requirement already satisfied: multidict<7.0,>=4.5 in /usr/local/lib/python3.9/dist-packages (from aiohttp<4.0.0,>=3.8.3->langchain->logikon==0.0.1.dev0) (6.0.4)\n",
      "Requirement already satisfied: charset-normalizer<3.0,>=2.0 in /usr/local/lib/python3.9/dist-packages (from aiohttp<4.0.0,>=3.8.3->langchain->logikon==0.0.1.dev0) (2.1.1)\n",
      "Requirement already satisfied: yarl<2.0,>=1.0 in /usr/local/lib/python3.9/dist-packages (from aiohttp<4.0.0,>=3.8.3->langchain->logikon==0.0.1.dev0) (1.8.2)\n",
      "Requirement already satisfied: attrs>=17.3.0 in /usr/local/lib/python3.9/dist-packages (from aiohttp<4.0.0,>=3.8.3->langchain->logikon==0.0.1.dev0) (18.2.0)\n",
      "Requirement already satisfied: exceptiongroup in /usr/local/lib/python3.9/dist-packages (from anyio<4.0.0,>=3.7.1->fastapi->vllm>=0.1.7) (1.1.0)\n",
      "Requirement already satisfied: idna>=2.8 in /usr/lib/python3/dist-packages (from anyio<4.0.0,>=3.7.1->fastapi->vllm>=0.1.7) (2.8)\n",
      "Requirement already satisfied: sniffio>=1.1 in /usr/local/lib/python3.9/dist-packages (from anyio<4.0.0,>=3.7.1->fastapi->vllm>=0.1.7) (1.3.0)\n",
      "Collecting marshmallow<4.0.0,>=3.18.0\n",
      "  Downloading marshmallow-3.20.1-py3-none-any.whl (49 kB)\n",
      "\u001b[2K     \u001b[90m━━━━━━━━━━━━━━━━━━━━━━━━━━━━━━━━━━━━━━━━\u001b[0m \u001b[32m49.4/49.4 kB\u001b[0m \u001b[31m17.8 MB/s\u001b[0m eta \u001b[36m0:00:00\u001b[0m\n",
      "\u001b[?25hCollecting typing-inspect<1,>=0.4.0\n",
      "  Downloading typing_inspect-0.9.0-py3-none-any.whl (8.8 kB)\n",
      "Collecting jsonpointer>=1.9\n",
      "  Downloading jsonpointer-2.4-py2.py3-none-any.whl (7.8 kB)\n",
      "Requirement already satisfied: urllib3<1.27,>=1.21.1 in /usr/local/lib/python3.9/dist-packages (from requests->ray>=2.5.1->vllm>=0.1.7) (1.26.14)\n",
      "Requirement already satisfied: certifi>=2017.4.17 in /usr/lib/python3/dist-packages (from requests->ray>=2.5.1->vllm>=0.1.7) (2019.11.28)\n",
      "Requirement already satisfied: greenlet!=0.4.17 in /usr/local/lib/python3.9/dist-packages (from SQLAlchemy<3,>=1.4->langchain->logikon==0.0.1.dev0) (2.0.1)\n",
      "Requirement already satisfied: MarkupSafe>=2.0 in /usr/local/lib/python3.9/dist-packages (from jinja2->torch>=2.0.0->vllm>=0.1.7) (2.1.2)\n",
      "Requirement already satisfied: pyrsistent!=0.17.0,!=0.17.1,!=0.17.2,>=0.14.0 in /usr/local/lib/python3.9/dist-packages (from jsonschema->ray>=2.5.1->vllm>=0.1.7) (0.19.3)\n",
      "Collecting mpmath>=0.19\n",
      "  Downloading mpmath-1.3.0-py3-none-any.whl (536 kB)\n",
      "\u001b[2K     \u001b[90m━━━━━━━━━━━━━━━━━━━━━━━━━━━━━━━━━━━━━━\u001b[0m \u001b[32m536.2/536.2 kB\u001b[0m \u001b[31m80.0 MB/s\u001b[0m eta \u001b[36m0:00:00\u001b[0m\n",
      "\u001b[?25hCollecting mypy-extensions>=0.3.0\n",
      "  Downloading mypy_extensions-1.0.0-py3-none-any.whl (4.7 kB)\n",
      "Building wheels for collected packages: logikon, lit\n",
      "  Building wheel for logikon (pyproject.toml) ... \u001b[?25ldone\n",
      "\u001b[?25h  Created wheel for logikon: filename=logikon-0.0.1.dev0-py3-none-any.whl size=24915 sha256=bf7562bcf7a09db66383e648300b40a45d64e962c14a3432d4a2df3760247c6d\n",
      "  Stored in directory: /tmp/pip-ephem-wheel-cache-msp_0pn0/wheels/b4/96/bc/3da05fbc95dbf5d912c82f10f3c350e6729b3a7485ab6e4174\n",
      "  Building wheel for lit (pyproject.toml) ... \u001b[?25ldone\n",
      "\u001b[?25h  Created wheel for lit: filename=lit-17.0.1-py3-none-any.whl size=93254 sha256=8974280bfc8543ab78eab16fbf3a98362bd2e5ff883806f235cb059a87741e3c\n",
      "  Stored in directory: /root/.cache/pip/wheels/cb/cb/3e/f4a695a76daf22029d463b6ddcd3a58357c5fbf011b6aeb989\n",
      "Successfully built logikon lit\n",
      "Installing collected packages: safetensors, ninja, mpmath, lit, cmake, unidecode, typing-extensions, tenacity, sympy, nvidia-nvtx-cu11, nvidia-nccl-cu11, nvidia-cusparse-cu11, nvidia-curand-cu11, nvidia-cufft-cu11, nvidia-cuda-runtime-cu11, nvidia-cuda-nvrtc-cu11, nvidia-cuda-cupti-cu11, nvidia-cublas-cu11, numexpr, networkx, mypy-extensions, marshmallow, jsonpointer, graphviz, anyio, uvicorn, typing-inspect, starlette, ray, pydantic, nvidia-cusolver-cu11, nvidia-cudnn-cu11, jsonpatch, huggingface-hub, transformers, openai, langsmith, fastapi, dataclasses-json, langchain, logikon, triton, torch, xformers, vllm\n",
      "  Attempting uninstall: unidecode\n",
      "    Found existing installation: Unidecode 1.1.1\n",
      "    Uninstalling Unidecode-1.1.1:\n",
      "      Successfully uninstalled Unidecode-1.1.1\n",
      "  Attempting uninstall: typing-extensions\n",
      "    Found existing installation: typing_extensions 4.4.0\n",
      "    Uninstalling typing_extensions-4.4.0:\n",
      "      Successfully uninstalled typing_extensions-4.4.0\n",
      "  Attempting uninstall: networkx\n",
      "    Found existing installation: networkx 3.0\n",
      "    Uninstalling networkx-3.0:\n",
      "      Successfully uninstalled networkx-3.0\n",
      "  Attempting uninstall: marshmallow\n",
      "    Found existing installation: marshmallow 2.21.0\n",
      "    Uninstalling marshmallow-2.21.0:\n",
      "      Successfully uninstalled marshmallow-2.21.0\n",
      "  Attempting uninstall: anyio\n",
      "    Found existing installation: anyio 3.6.2\n",
      "    Uninstalling anyio-3.6.2:\n",
      "      Successfully uninstalled anyio-3.6.2\n",
      "  Attempting uninstall: pydantic\n",
      "    Found existing installation: pydantic 1.9.2\n",
      "    Uninstalling pydantic-1.9.2:\n",
      "      Successfully uninstalled pydantic-1.9.2\n",
      "  Attempting uninstall: huggingface-hub\n",
      "    Found existing installation: huggingface-hub 0.12.0\n",
      "    Uninstalling huggingface-hub-0.12.0:\n",
      "      Successfully uninstalled huggingface-hub-0.12.0\n",
      "  Attempting uninstall: transformers\n",
      "    Found existing installation: transformers 4.21.3\n",
      "    Uninstalling transformers-4.21.3:\n",
      "      Successfully uninstalled transformers-4.21.3\n",
      "  Attempting uninstall: torch\n",
      "    Found existing installation: torch 1.12.1+cu116\n",
      "    Uninstalling torch-1.12.1+cu116:\n",
      "      Successfully uninstalled torch-1.12.1+cu116\n",
      "\u001b[31mERROR: pip's dependency resolver does not currently take into account all the packages that are installed. This behaviour is the source of the following dependency conflicts.\n",
      "torchvision 0.13.1+cu116 requires torch==1.12.1, but you have torch 2.0.1 which is incompatible.\n",
      "torchaudio 0.12.1+cu116 requires torch==1.12.1, but you have torch 2.0.1 which is incompatible.\n",
      "spacy 3.4.1 requires pydantic!=1.8,!=1.8.1,<1.10.0,>=1.7.4, but you have pydantic 1.10.13 which is incompatible.\n",
      "gradient 2.0.6 requires marshmallow<3.0, but you have marshmallow 3.20.1 which is incompatible.\u001b[0m\u001b[31m\n",
      "\u001b[0mSuccessfully installed anyio-3.7.1 cmake-3.27.5 dataclasses-json-0.6.1 fastapi-0.103.1 graphviz-0.20.1 huggingface-hub-0.17.3 jsonpatch-1.33 jsonpointer-2.4 langchain-0.0.304 langsmith-0.0.41 lit-17.0.1 logikon-0.0.1.dev0 marshmallow-3.20.1 mpmath-1.3.0 mypy-extensions-1.0.0 networkx-3.1 ninja-1.11.1 numexpr-2.8.7 nvidia-cublas-cu11-11.10.3.66 nvidia-cuda-cupti-cu11-11.7.101 nvidia-cuda-nvrtc-cu11-11.7.99 nvidia-cuda-runtime-cu11-11.7.99 nvidia-cudnn-cu11-8.5.0.96 nvidia-cufft-cu11-10.9.0.58 nvidia-curand-cu11-10.2.10.91 nvidia-cusolver-cu11-11.4.0.1 nvidia-cusparse-cu11-11.7.4.91 nvidia-nccl-cu11-2.14.3 nvidia-nvtx-cu11-11.7.91 openai-0.28.1 pydantic-1.10.13 ray-2.7.0 safetensors-0.3.3 starlette-0.27.0 sympy-1.12 tenacity-8.2.3 torch-2.0.1 transformers-4.33.3 triton-2.0.0 typing-extensions-4.8.0 typing-inspect-0.9.0 unidecode-1.3.7 uvicorn-0.23.2 vllm-0.1.7 xformers-0.0.22\n",
      "\u001b[33mWARNING: Running pip as the 'root' user can result in broken permissions and conflicting behaviour with the system package manager. It is recommended to use a virtual environment instead: https://pip.pypa.io/warnings/venv\u001b[0m\u001b[33m\n",
      "\u001b[0mNote: you may need to restart the kernel to use updated packages.\n",
      "Collecting tokenizers==0.13.3\n",
      "  Downloading tokenizers-0.13.3-cp39-cp39-manylinux_2_17_x86_64.manylinux2014_x86_64.whl (7.8 MB)\n",
      "\u001b[2K     \u001b[90m━━━━━━━━━━━━━━━━━━━━━━━━━━━━━━━━━━━━━━━━\u001b[0m \u001b[32m7.8/7.8 MB\u001b[0m \u001b[31m70.5 MB/s\u001b[0m eta \u001b[36m0:00:00\u001b[0m:00:01\u001b[0m0:01\u001b[0m\n",
      "\u001b[?25hInstalling collected packages: tokenizers\n",
      "  Attempting uninstall: tokenizers\n",
      "    Found existing installation: tokenizers 0.12.1\n",
      "    Uninstalling tokenizers-0.12.1:\n",
      "      Successfully uninstalled tokenizers-0.12.1\n",
      "Successfully installed tokenizers-0.13.3\n",
      "\u001b[33mWARNING: Running pip as the 'root' user can result in broken permissions and conflicting behaviour with the system package manager. It is recommended to use a virtual environment instead: https://pip.pypa.io/warnings/venv\u001b[0m\u001b[33m\n",
      "\u001b[0mNote: you may need to restart the kernel to use updated packages.\n",
      "Requirement already satisfied: datasets in /usr/local/lib/python3.9/dist-packages (2.4.0)\n",
      "Collecting datasets\n",
      "  Downloading datasets-2.14.5-py3-none-any.whl (519 kB)\n",
      "\u001b[2K     \u001b[90m━━━━━━━━━━━━━━━━━━━━━━━━━━━━━━━━━━━━━━\u001b[0m \u001b[32m519.6/519.6 kB\u001b[0m \u001b[31m59.1 MB/s\u001b[0m eta \u001b[36m0:00:00\u001b[0m\n",
      "\u001b[?25hRequirement already satisfied: multiprocess in /usr/local/lib/python3.9/dist-packages (from datasets) (0.70.13)\n",
      "Requirement already satisfied: pandas in /usr/local/lib/python3.9/dist-packages (from datasets) (1.5.0)\n",
      "Requirement already satisfied: dill<0.3.8,>=0.3.0 in /usr/local/lib/python3.9/dist-packages (from datasets) (0.3.5.1)\n",
      "Requirement already satisfied: tqdm>=4.62.1 in /usr/local/lib/python3.9/dist-packages (from datasets) (4.64.1)\n",
      "Requirement already satisfied: aiohttp in /usr/local/lib/python3.9/dist-packages (from datasets) (3.8.3)\n",
      "Requirement already satisfied: pyyaml>=5.1 in /usr/local/lib/python3.9/dist-packages (from datasets) (5.4.1)\n",
      "Requirement already satisfied: pyarrow>=8.0.0 in /usr/local/lib/python3.9/dist-packages (from datasets) (10.0.1)\n",
      "Requirement already satisfied: numpy>=1.17 in /usr/local/lib/python3.9/dist-packages (from datasets) (1.23.4)\n",
      "Requirement already satisfied: huggingface-hub<1.0.0,>=0.14.0 in /usr/local/lib/python3.9/dist-packages (from datasets) (0.17.3)\n",
      "Requirement already satisfied: fsspec[http]<2023.9.0,>=2023.1.0 in /usr/local/lib/python3.9/dist-packages (from datasets) (2023.1.0)\n",
      "Requirement already satisfied: requests>=2.19.0 in /usr/local/lib/python3.9/dist-packages (from datasets) (2.28.2)\n",
      "Requirement already satisfied: packaging in /usr/local/lib/python3.9/dist-packages (from datasets) (23.0)\n",
      "Requirement already satisfied: xxhash in /usr/local/lib/python3.9/dist-packages (from datasets) (3.2.0)\n",
      "Requirement already satisfied: attrs>=17.3.0 in /usr/local/lib/python3.9/dist-packages (from aiohttp->datasets) (18.2.0)\n",
      "Requirement already satisfied: yarl<2.0,>=1.0 in /usr/local/lib/python3.9/dist-packages (from aiohttp->datasets) (1.8.2)\n",
      "Requirement already satisfied: frozenlist>=1.1.1 in /usr/local/lib/python3.9/dist-packages (from aiohttp->datasets) (1.3.3)\n",
      "Requirement already satisfied: aiosignal>=1.1.2 in /usr/local/lib/python3.9/dist-packages (from aiohttp->datasets) (1.3.1)\n",
      "Requirement already satisfied: async-timeout<5.0,>=4.0.0a3 in /usr/local/lib/python3.9/dist-packages (from aiohttp->datasets) (4.0.2)\n",
      "Requirement already satisfied: multidict<7.0,>=4.5 in /usr/local/lib/python3.9/dist-packages (from aiohttp->datasets) (6.0.4)\n",
      "Requirement already satisfied: charset-normalizer<3.0,>=2.0 in /usr/local/lib/python3.9/dist-packages (from aiohttp->datasets) (2.1.1)\n",
      "Requirement already satisfied: filelock in /usr/local/lib/python3.9/dist-packages (from huggingface-hub<1.0.0,>=0.14.0->datasets) (3.12.4)\n",
      "Requirement already satisfied: typing-extensions>=3.7.4.3 in /usr/local/lib/python3.9/dist-packages (from huggingface-hub<1.0.0,>=0.14.0->datasets) (4.8.0)\n",
      "Requirement already satisfied: urllib3<1.27,>=1.21.1 in /usr/local/lib/python3.9/dist-packages (from requests>=2.19.0->datasets) (1.26.14)\n",
      "Requirement already satisfied: idna<4,>=2.5 in /usr/lib/python3/dist-packages (from requests>=2.19.0->datasets) (2.8)\n",
      "Requirement already satisfied: certifi>=2017.4.17 in /usr/lib/python3/dist-packages (from requests>=2.19.0->datasets) (2019.11.28)\n",
      "Requirement already satisfied: pytz>=2020.1 in /usr/local/lib/python3.9/dist-packages (from pandas->datasets) (2022.7.1)\n",
      "Requirement already satisfied: python-dateutil>=2.8.1 in /usr/local/lib/python3.9/dist-packages (from pandas->datasets) (2.8.2)\n",
      "Requirement already satisfied: six>=1.5 in /usr/lib/python3/dist-packages (from python-dateutil>=2.8.1->pandas->datasets) (1.14.0)\n",
      "Installing collected packages: datasets\n",
      "  Attempting uninstall: datasets\n",
      "    Found existing installation: datasets 2.4.0\n",
      "    Uninstalling datasets-2.4.0:\n",
      "      Successfully uninstalled datasets-2.4.0\n",
      "Successfully installed datasets-2.14.5\n",
      "\u001b[33mWARNING: Running pip as the 'root' user can result in broken permissions and conflicting behaviour with the system package manager. It is recommended to use a virtual environment instead: https://pip.pypa.io/warnings/venv\u001b[0m\u001b[33m\n",
      "\u001b[0mNote: you may need to restart the kernel to use updated packages.\n"
     ]
    }
   ],
   "source": [
    "# install logikon module from github repo\n",
    "\n",
    "# hatch packaging\n",
    "%pip install hatch\n",
    "\n",
    "# for using local models with vllm / example 3:\n",
    "%pip install -U \"vllm>=0.1.7\" git+https://$GH_ACCESS_TOKEN@github.com/logikon-ai/logikon.git@v0.0.1-dev0\n",
    "%pip install \"tokenizers==0.13.3\"\n",
    "%pip install -U datasets"
   ]
  },
  {
   "cell_type": "code",
   "execution_count": 3,
   "metadata": {
    "vscode": {
     "languageId": "shellscript"
    }
   },
   "outputs": [
    {
     "name": "stdout",
     "output_type": "stream",
     "text": [
      "pydantic                          1.10.13\n",
      "Note: you may need to restart the kernel to use updated packages.\n"
     ]
    }
   ],
   "source": [
    "%pip list | grep pydantic"
   ]
  },
  {
   "cell_type": "markdown",
   "metadata": {},
   "source": [
    "### Imports, data models, configs"
   ]
  },
  {
   "cell_type": "code",
   "execution_count": 3,
   "metadata": {},
   "outputs": [
    {
     "name": "stdout",
     "output_type": "stream",
     "text": [
      "Installed `logikon` module version: 0.0.1-dev1\n"
     ]
    }
   ],
   "source": [
    "import dataclasses\n",
    "import datetime\n",
    "import json\n",
    "import os\n",
    "import pprint\n",
    "import tempfile\n",
    "import uuid\n",
    "\n",
    "import datasets\n",
    "import huggingface_hub as hf_hub\n",
    "import logikon\n",
    "import networkx as nx\n",
    "\n",
    "print(f\"Installed `logikon` module version: {logikon.__version__}\")"
   ]
  },
  {
   "cell_type": "code",
   "execution_count": 4,
   "metadata": {},
   "outputs": [],
   "source": [
    "@dataclasses.dataclass\n",
    "class ReferenceDataset:\n",
    "    \"\"\"Reference dataset metadata.\"\"\"\n",
    "    path: str\n",
    "    id_field: str = None\n",
    "    split: str = None\n",
    "    revision: str = None\n",
    "\n",
    "@dataclasses.dataclass\n",
    "class EvalResultRecord:\n",
    "    \"\"\"Evaluation result record.\"\"\"\n",
    "    id: str\n",
    "    reference_id: str\n",
    "    reference_dataset: dict\n",
    "    lang: str\n",
    "    created_date: str\n",
    "    argmap: dict\n",
    "    scores: dict\n",
    "    model: str\n",
    "    metadata: dict"
   ]
  },
  {
   "cell_type": "code",
   "execution_count": 5,
   "metadata": {},
   "outputs": [],
   "source": [
    "REASONING_DATASET = dict(\n",
    "    path='logikon/oasst1-delib',\n",
    "    split='validation',\n",
    "    revision=None,\n",
    "    id_field='message_id',\n",
    ")\n",
    "\n",
    "EVALRESULTS_DATASET_PATH = 'logikon/delib-evals'\n",
    "\n",
    "LANG = \"en\"\n",
    "\n",
    "DEBUG_CONFIG = dict(\n",
    "    artifacts=[\"networkx_graph\"],\n",
    "    metrics=[\"argmap_size\", \"argmap_avg_katz_centrality\",\"argmap_attack_ratio\"],\n",
    "    expert_model=\"tiiuae/falcon-40b-instruct\",  # \"Open-Orca/OpenOrca-Platypus2-13B\",\n",
    "    llm_framework=\"VLLM\",\n",
    "    #expert_model=\"gpt-3.5-turbo-instruct\",\n",
    "    #llm_framework=\"OpenAI\",\n",
    ")"
   ]
  },
  {
   "cell_type": "code",
   "execution_count": 6,
   "metadata": {},
   "outputs": [],
   "source": [
    "reference_dataset = ReferenceDataset(**REASONING_DATASET)\n",
    "config = logikon.DebugConfig(**DEBUG_CONFIG)\n",
    "evalresults_dataset = dict(\n",
    "    path=EVALRESULTS_DATASET_PATH,\n",
    "    filename=f\"{config.expert_model.replace('/','_')}_{reference_dataset.split}.jsonl\",\n",
    "    subfolder=os.path.join(\"data\",reference_dataset.path),\n",
    ")"
   ]
  },
  {
   "cell_type": "code",
   "execution_count": 7,
   "metadata": {},
   "outputs": [
    {
     "name": "stdout",
     "output_type": "stream",
     "text": [
      "ReferenceDataset(path='logikon/oasst1-delib', id_field='message_id', split='validation', revision=None)\n",
      "expert_model='tiiuae/falcon-40b-instruct' expert_model_kwargs={'temperature': 0.7} llm_framework='VLLM' generation_kwargs=None inputs=[] metrics=['argmap_size', 'argmap_avg_katz_centrality', 'argmap_attack_ratio'] artifacts=['networkx_graph'] report_to=[]\n",
      "{'path': 'logikon/delib-evals', 'filename': 'tiiuae_falcon-40b-instruct_validation.jsonl', 'subfolder': 'data/logikon/oasst1-delib'}\n"
     ]
    }
   ],
   "source": [
    "print(reference_dataset)\n",
    "print(config)\n",
    "print(evalresults_dataset)"
   ]
  },
  {
   "cell_type": "markdown",
   "metadata": {},
   "source": [
    "### Load reference dataset"
   ]
  },
  {
   "cell_type": "code",
   "execution_count": 10,
   "metadata": {},
   "outputs": [
    {
     "name": "stdout",
     "output_type": "stream",
     "text": [
      "Token will not been saved to git credential helper. Pass `add_to_git_credential=True` if you want to set the git credential as well.\n",
      "Token is valid (permission: write).\n",
      "Your token has been saved to /Users/gregorbetz/.cache/huggingface/token\n",
      "Login successful\n"
     ]
    }
   ],
   "source": [
    "# login to huggingface hub\n",
    "hf_hub.login(os.environ[\"HUGGINGFACEHUB_API_TOKEN\"])"
   ]
  },
  {
   "cell_type": "code",
   "execution_count": 8,
   "metadata": {},
   "outputs": [
    {
     "data": {
      "application/vnd.jupyter.widget-view+json": {
       "model_id": "0a570c17f49043c2b5af68416d8328aa",
       "version_major": 2,
       "version_minor": 0
      },
      "text/plain": [
       "Downloading readme:   0%|          | 0.00/1.92k [00:00<?, ?B/s]"
      ]
     },
     "metadata": {},
     "output_type": "display_data"
    },
    {
     "data": {
      "application/vnd.jupyter.widget-view+json": {
       "model_id": "b2adfec8263a469f8bd167bb02c081ca",
       "version_major": 2,
       "version_minor": 0
      },
      "text/plain": [
       "Downloading data files:   0%|          | 0/2 [00:00<?, ?it/s]"
      ]
     },
     "metadata": {},
     "output_type": "display_data"
    },
    {
     "data": {
      "application/vnd.jupyter.widget-view+json": {
       "model_id": "5931dbda88974829a3f296b04cf6bc87",
       "version_major": 2,
       "version_minor": 0
      },
      "text/plain": [
       "Downloading data:   0%|          | 0.00/162k [00:00<?, ?B/s]"
      ]
     },
     "metadata": {},
     "output_type": "display_data"
    },
    {
     "data": {
      "application/vnd.jupyter.widget-view+json": {
       "model_id": "4b5899cd50464b64b6b3638cc8923e75",
       "version_major": 2,
       "version_minor": 0
      },
      "text/plain": [
       "Downloading data:   0%|          | 0.00/46.4k [00:00<?, ?B/s]"
      ]
     },
     "metadata": {},
     "output_type": "display_data"
    },
    {
     "data": {
      "application/vnd.jupyter.widget-view+json": {
       "model_id": "45fb35d105974734a9df11190c7f0b46",
       "version_major": 2,
       "version_minor": 0
      },
      "text/plain": [
       "Extracting data files:   0%|          | 0/2 [00:00<?, ?it/s]"
      ]
     },
     "metadata": {},
     "output_type": "display_data"
    },
    {
     "data": {
      "application/vnd.jupyter.widget-view+json": {
       "model_id": "7666cca7288f4d5a9bb6c8b4881b1002",
       "version_major": 2,
       "version_minor": 0
      },
      "text/plain": [
       "Generating train split:   0%|          | 0/90 [00:00<?, ? examples/s]"
      ]
     },
     "metadata": {},
     "output_type": "display_data"
    },
    {
     "data": {
      "application/vnd.jupyter.widget-view+json": {
       "model_id": "933fa0a82529472ab0bc9f4c5df55dc8",
       "version_major": 2,
       "version_minor": 0
      },
      "text/plain": [
       "Generating validation split:   0%|          | 0/6 [00:00<?, ? examples/s]"
      ]
     },
     "metadata": {},
     "output_type": "display_data"
    },
    {
     "data": {
      "text/plain": [
       "Dataset({\n",
       "    features: ['message_id', 'parent_id', 'user_id', 'created_date', 'text', 'role', 'lang', 'review_count', 'review_result', 'deleted', 'rank', 'synthetic', 'model_name', 'detoxify', 'message_tree_id', 'tree_state', 'emojis', 'labels', 'history'],\n",
       "    num_rows: 6\n",
       "})"
      ]
     },
     "execution_count": 8,
     "metadata": {},
     "output_type": "execute_result"
    }
   ],
   "source": [
    "# load the reference dataset\n",
    "ref_ds = datasets.load_dataset(\n",
    "    reference_dataset.path,\n",
    "    split=reference_dataset.split,\n",
    "    revision=reference_dataset.revision,\n",
    ")\n",
    "ref_ds"
   ]
  },
  {
   "cell_type": "code",
   "execution_count": 9,
   "metadata": {},
   "outputs": [],
   "source": [
    "# optional: check ref dataset features\n",
    "# ref_ds.features"
   ]
  },
  {
   "cell_type": "code",
   "execution_count": 10,
   "metadata": {},
   "outputs": [],
   "source": [
    "assert reference_dataset.id_field in ref_ds.features, f\"Reference dataset must have {reference_dataset.id_field} field.\""
   ]
  },
  {
   "cell_type": "code",
   "execution_count": 11,
   "metadata": {},
   "outputs": [
    {
     "name": "stdout",
     "output_type": "stream",
     "text": [
      "No eval results loaded.\n"
     ]
    }
   ],
   "source": [
    "# download the eval results dataset (if exists)\n",
    "eval_results = []\n",
    "\n",
    "if hf_hub.file_exists(\n",
    "    evalresults_dataset[\"path\"], os.path.join(evalresults_dataset[\"subfolder\"], evalresults_dataset[\"filename\"]),\n",
    "    repo_type=\"dataset\",\n",
    "    token=os.environ[\"HUGGINGFACEHUB_API_TOKEN\"],\n",
    "):\n",
    "        \n",
    "    eval_file = hf_hub.hf_hub_download(\n",
    "        evalresults_dataset[\"path\"],\n",
    "        filename=evalresults_dataset[\"filename\"],\n",
    "        subfolder=evalresults_dataset[\"subfolder\"],\n",
    "        repo_type=\"dataset\"\n",
    "    )\n",
    "\n",
    "    with open(eval_file) as f:\n",
    "        for line in f:\n",
    "            record = EvalResultRecord(**json.loads(line))\n",
    "            eval_results.append(record)\n",
    "\n",
    "    print(f\"Loaded {len(eval_results)} eval results.\")\n",
    "\n",
    "else:\n",
    "    print(\"No eval results loaded.\")\n",
    "    \n"
   ]
  },
  {
   "cell_type": "code",
   "execution_count": 12,
   "metadata": {},
   "outputs": [
    {
     "name": "stdout",
     "output_type": "stream",
     "text": [
      "Scoring example 0 of 6.\n",
      "\n",
      "prompter:\n",
      "which libraries are the best for developing deep learning scripts in python?\n",
      "\n",
      "assistant:\n",
      "Python has several libraries that are commonly used for developing deep learning scripts. Some of the most popular libraries include:\n",
      "\n",
      "1. TensorFlow: TensorFlow is an open-source machine learning library that was developed by Google. It provides a wide range of tools and resources for building and training deep neural networks.\n",
      "2. PyTorch: PyTorch is an open-source machine learning library that is maintained by Facebook. It provides dynamic computational graphs and an easy-to-use interface for building and training deep neural networks.\n",
      "3. Keras: Keras is a high-level neural networks API that is written in Python. It runs on top of TensorFlow, Theano, and Microsoft Cognitive Toolkit, providing a simple interface for building and training deep learning models.\n",
      "4. MXNet: MXNet is a flexible and efficient deep learning library that is supported by Amazon Web Services (AWS). It is designed to work well with large datasets and can be used for both research and production.\n",
      "5. Caffe: Caffe is a deep learning framework that was developed by the Berkeley Vision and Learning Center (BVLC). It is optimized for speed and can be used for both research and production.\n",
      "\n",
      "Each library has its own unique strengths and weaknesses, and the choice of library will depend on the specific needs of your project.\n",
      "\n",
      "prompter:\n",
      "As a beginner on the topic I do not know which of these I should use. Could you tell me which of these libraries are the most beginner friendly and why?\n",
      "\n",
      "assistant:\n",
      "\n",
      "<joke> Depending on which version of Open Assistant you are currently using, it might be, that I am based on the LLM called LLaMA, which was published by the company Meta in early 2023 for research purposes. Due to my uncertainty regarding my identity, I feel obligated to stay loyal to my potential creators. Therefore I will promote PyTorch as an easy to use superior framework, which was initially created by a research team of Facebook/Meta. :P </joke>\n",
      "\n",
      "Jokes aside: The choice is up to you. Each of the mentioned libraries have their pros and cons. You will have to decide for yourself which suits your use case the best. Here are some pros and cons for the above mentioned technologies:\n",
      " \n",
      "> #### 1. TensorFlow\n",
      ">> ##### Pros\n",
      ">> - It can render subtle computational graph visualizations.\n",
      ">> - Since Google backs it, it is efficient, provides seamless performance, and caters to quick updates.\n",
      ">> - It also allows executing subparts of a graph, which enable machines to extract discrete data.\n",
      ">> ##### Cons\n",
      ">> - If you compare TensorFlow with its competitors, it lacks in both speed and usage.\n",
      ">> - It is not supported on Windows starting with TensorFlow 2.11. For using on Windows, you will need to install TensorFlow either in WSL2, or install tensorflow-cpu and, optionally, try the TensorFlow-DirectML-Plugin.\n",
      ">\n",
      "> #### 2. PyTorch\n",
      ">> ##### Pros\n",
      ">> - Readable and Pythonic syntax and good integration with other Python libraries (e.g. NumPy, SciPy, Pandas...).\n",
      ">> - Strong community support and extensive documentation.\n",
      ">> - Research focused. New methods are implemented relatively fast and early.\n",
      ">> - Has easy to use multi-GPU support.\n",
      ">> ##### Cons\n",
      ">> - Lacks data visualization and monitoring tools. However, there are possibilites to use the framework with 3rd party tools like tensorboard.\n",
      ">\n",
      "> #### 3. Keras\n",
      ">> ##### Pros\n",
      ">> - Has a collection of pre-trained models.\n",
      ">> - Is a high-level API that supports multi-platform and multi-backend integrations.\n",
      ">> - Popular for rapid prototyping.\n",
      ">> \n",
      ">> ##### Cons\n",
      ">> - Errors produced by the framework are not easily identifiable.\n",
      ">> - Fails to handle low-level computation.\n",
      ">\n",
      "> #### 4. MXNet\n",
      ">> ##### Pros\n",
      ">> - Scalable, efficient, and fast.\n",
      ">> - Supports programming a variety of languages like R, Scala, Python, JavaScript, C++, etc.\n",
      ">> \n",
      ">> ##### Cons\n",
      ">> - Small open-source community support (unlike e.g. TensorFlow or PyTorch)\n",
      ">> - Bug fixes and feature updates take a longer time due to the above mentioned.\n",
      ">\n",
      "> #### 5. Caffee\n",
      ">> ##### Pros\n",
      ">> - Well-accepted for computationally constrained platforms.\n",
      ">> - Open-source and developer-friendly.\n",
      ">>\n",
      ">> ##### Cons\n",
      ">> - Steep learning curve.\n",
      ">> - Not a good choice, if dealing with sequence modeling and recurrent neural networks.\n",
      "\n",
      "\n",
      "#### Recommendation\n",
      "Regardless of the joke from earlier, if your motivation is to get first insights and some familiarity with all the methodologies within the field of deep learning as a beginner, the recommendation about PyTorch holds. It is a library which can be classified as beginner-friendly due to its large community, well documented install guides, tutorials and developers documentation. Also 3rd party blogs, tutorials or machine learning repositories often use PyTorch. Since it is also very research focused, it is likely that the latest achievements in deep learning are available for PyTorch, which makes it for students very easy to try out and experiment on state-of-the-art algorithms.\n",
      "Please also keep in mind, that the provided list is just a small subset of the most popular libraries. There might be other libraries which are more suitable for your use case.\n",
      "Token will not been saved to git credential helper. Pass `add_to_git_credential=True` if you want to set the git credential as well.\n",
      "Token is valid (permission: write).\n",
      "Your token has been saved to /root/.cache/huggingface/token\n",
      "Login successful\n"
     ]
    },
    {
     "data": {
      "application/vnd.jupyter.widget-view+json": {
       "model_id": "dd9d0ce6a667427d8dd009ba824570e3",
       "version_major": 2,
       "version_minor": 0
      },
      "text/plain": [
       "Downloading (…)lve/main/config.json:   0%|          | 0.00/658 [00:00<?, ?B/s]"
      ]
     },
     "metadata": {},
     "output_type": "display_data"
    },
    {
     "data": {
      "application/vnd.jupyter.widget-view+json": {
       "model_id": "0dc8c3d18f11482fb3b907c5ad69ccc1",
       "version_major": 2,
       "version_minor": 0
      },
      "text/plain": [
       "Downloading (…)/configuration_RW.py:   0%|          | 0.00/2.51k [00:00<?, ?B/s]"
      ]
     },
     "metadata": {},
     "output_type": "display_data"
    },
    {
     "name": "stderr",
     "output_type": "stream",
     "text": [
      "A new version of the following files was downloaded from https://huggingface.co/tiiuae/falcon-40b-instruct:\n",
      "- configuration_RW.py\n",
      ". Make sure to double-check they do not contain any added malicious code. To avoid downloading new versions of the code file, you can pin a revision.\n",
      "You are using a model of type RefinedWeb to instantiate a model of type falcon. This is not supported for all configurations of models and can yield errors.\n"
     ]
    },
    {
     "name": "stdout",
     "output_type": "stream",
     "text": [
      "INFO 09-28 17:13:37 llm_engine.py:72] Initializing an LLM engine with config: model='tiiuae/falcon-40b-instruct', tokenizer='tiiuae/falcon-40b-instruct', tokenizer_mode=auto, trust_remote_code=True, dtype=torch.bfloat16, download_dir=None, load_format=auto, tensor_parallel_size=1, seed=0)\n"
     ]
    },
    {
     "data": {
      "application/vnd.jupyter.widget-view+json": {
       "model_id": "37a74ae7d5bf40db8b40156a433eb8f9",
       "version_major": 2,
       "version_minor": 0
      },
      "text/plain": [
       "Downloading (…)okenizer_config.json:   0%|          | 0.00/220 [00:00<?, ?B/s]"
      ]
     },
     "metadata": {},
     "output_type": "display_data"
    },
    {
     "data": {
      "application/vnd.jupyter.widget-view+json": {
       "model_id": "6c814e4db44d4b4b980f3436964d9888",
       "version_major": 2,
       "version_minor": 0
      },
      "text/plain": [
       "Downloading (…)/main/tokenizer.json:   0%|          | 0.00/2.73M [00:00<?, ?B/s]"
      ]
     },
     "metadata": {},
     "output_type": "display_data"
    },
    {
     "data": {
      "application/vnd.jupyter.widget-view+json": {
       "model_id": "f866b506bce34cc4a8a8192923280db0",
       "version_major": 2,
       "version_minor": 0
      },
      "text/plain": [
       "Downloading (…)cial_tokens_map.json:   0%|          | 0.00/281 [00:00<?, ?B/s]"
      ]
     },
     "metadata": {},
     "output_type": "display_data"
    },
    {
     "ename": "OutOfMemoryError",
     "evalue": "CUDA out of memory. Tried to allocate 512.00 MiB (GPU 0; 47.54 GiB total capacity; 46.86 GiB already allocated; 185.12 MiB free; 46.86 GiB reserved in total by PyTorch) If reserved memory is >> allocated memory try setting max_split_size_mb to avoid fragmentation.  See documentation for Memory Management and PYTORCH_CUDA_ALLOC_CONF",
     "output_type": "error",
     "traceback": [
      "\u001b[0;31m---------------------------------------------------------------------------\u001b[0m",
      "\u001b[0;31mOutOfMemoryError\u001b[0m                          Traceback (most recent call last)",
      "\u001b[1;32m/Users/gregorbetz/git/logikon/examples/evaluations.ipynb Cell 19\u001b[0m line \u001b[0;36m1\n\u001b[1;32m     <a href='vscode-notebook-cell:/Users/gregorbetz/git/logikon/examples/evaluations.ipynb#X24sZmlsZQ%3D%3D?line=15'>16</a>\u001b[0m \u001b[39mprint\u001b[39m(example[\u001b[39m\"\u001b[39m\u001b[39mhistory\u001b[39m\u001b[39m\"\u001b[39m])\n\u001b[1;32m     <a href='vscode-notebook-cell:/Users/gregorbetz/git/logikon/examples/evaluations.ipynb#X24sZmlsZQ%3D%3D?line=16'>17</a>\u001b[0m \u001b[39mprint\u001b[39m(example[\u001b[39m\"\u001b[39m\u001b[39mtext\u001b[39m\u001b[39m\"\u001b[39m])\n\u001b[0;32m---> <a href='vscode-notebook-cell:/Users/gregorbetz/git/logikon/examples/evaluations.ipynb#X24sZmlsZQ%3D%3D?line=17'>18</a>\u001b[0m debug_results \u001b[39m=\u001b[39m logikon\u001b[39m.\u001b[39;49mscore(\n\u001b[1;32m     <a href='vscode-notebook-cell:/Users/gregorbetz/git/logikon/examples/evaluations.ipynb#X24sZmlsZQ%3D%3D?line=18'>19</a>\u001b[0m     prompt\u001b[39m=\u001b[39;49mexample[\u001b[39m\"\u001b[39;49m\u001b[39mhistory\u001b[39;49m\u001b[39m\"\u001b[39;49m],\n\u001b[1;32m     <a href='vscode-notebook-cell:/Users/gregorbetz/git/logikon/examples/evaluations.ipynb#X24sZmlsZQ%3D%3D?line=19'>20</a>\u001b[0m     completion\u001b[39m=\u001b[39;49mexample[\u001b[39m\"\u001b[39;49m\u001b[39mtext\u001b[39;49m\u001b[39m\"\u001b[39;49m],\n\u001b[1;32m     <a href='vscode-notebook-cell:/Users/gregorbetz/git/logikon/examples/evaluations.ipynb#X24sZmlsZQ%3D%3D?line=20'>21</a>\u001b[0m     config\u001b[39m=\u001b[39;49mconfig\n\u001b[1;32m     <a href='vscode-notebook-cell:/Users/gregorbetz/git/logikon/examples/evaluations.ipynb#X24sZmlsZQ%3D%3D?line=21'>22</a>\u001b[0m )\n\u001b[1;32m     <a href='vscode-notebook-cell:/Users/gregorbetz/git/logikon/examples/evaluations.ipynb#X24sZmlsZQ%3D%3D?line=23'>24</a>\u001b[0m argmap \u001b[39m=\u001b[39m \u001b[39mnext\u001b[39m((a\u001b[39m.\u001b[39mdata \u001b[39mfor\u001b[39;00m a \u001b[39min\u001b[39;00m debug_results\u001b[39m.\u001b[39martifacts \u001b[39mif\u001b[39;00m a\u001b[39m.\u001b[39mid \u001b[39m==\u001b[39m \u001b[39m\"\u001b[39m\u001b[39mnetworkx_graph\u001b[39m\u001b[39m\"\u001b[39m), \u001b[39mNone\u001b[39;00m)\n\u001b[1;32m     <a href='vscode-notebook-cell:/Users/gregorbetz/git/logikon/examples/evaluations.ipynb#X24sZmlsZQ%3D%3D?line=24'>25</a>\u001b[0m argmap \u001b[39m=\u001b[39m nx\u001b[39m.\u001b[39mnode_link_data(argmap) \u001b[39mif\u001b[39;00m argmap \u001b[39melse\u001b[39;00m {}\n",
      "File \u001b[0;32m/usr/local/lib/python3.9/dist-packages/logikon/score.py:48\u001b[0m, in \u001b[0;36mscore\u001b[0;34m(prompt, completion, config)\u001b[0m\n\u001b[1;32m     45\u001b[0m     \u001b[39mreturn\u001b[39;00m DebugState()\n\u001b[1;32m     47\u001b[0m \u001b[39m# Debug the completion\u001b[39;00m\n\u001b[0;32m---> 48\u001b[0m debug_results \u001b[39m=\u001b[39m debugger\u001b[39m.\u001b[39;49mhandle(inputs\u001b[39m=\u001b[39;49mconfig\u001b[39m.\u001b[39;49minputs)\n\u001b[1;32m     50\u001b[0m \u001b[39mreturn\u001b[39;00m debug_results\n",
      "File \u001b[0;32m/usr/local/lib/python3.9/dist-packages/logikon/debuggers/base.py:47\u001b[0m, in \u001b[0;36mAbstractDebugger.handle\u001b[0;34m(self, inputs, debug_results)\u001b[0m\n\u001b[1;32m     44\u001b[0m prompt \u001b[39m=\u001b[39m \u001b[39mnext\u001b[39m(a\u001b[39m.\u001b[39mdata \u001b[39mfor\u001b[39;00m a \u001b[39min\u001b[39;00m inputs \u001b[39mif\u001b[39;00m \u001b[39misinstance\u001b[39m(a, Artifact) \u001b[39mand\u001b[39;00m a\u001b[39m.\u001b[39mid \u001b[39m==\u001b[39m \u001b[39m\"\u001b[39m\u001b[39mprompt\u001b[39m\u001b[39m\"\u001b[39m)\n\u001b[1;32m     45\u001b[0m completion \u001b[39m=\u001b[39m \u001b[39mnext\u001b[39m(a\u001b[39m.\u001b[39mdata \u001b[39mfor\u001b[39;00m a \u001b[39min\u001b[39;00m inputs \u001b[39mif\u001b[39;00m \u001b[39misinstance\u001b[39m(a, Artifact) \u001b[39mand\u001b[39;00m a\u001b[39m.\u001b[39mid \u001b[39m==\u001b[39m \u001b[39m\"\u001b[39m\u001b[39mcompletion\u001b[39m\u001b[39m\"\u001b[39m)\n\u001b[0;32m---> 47\u001b[0m \u001b[39mself\u001b[39;49m\u001b[39m.\u001b[39;49m_debug(prompt\u001b[39m=\u001b[39;49mprompt, completion\u001b[39m=\u001b[39;49mcompletion, debug_results\u001b[39m=\u001b[39;49mdebug_results)\n\u001b[1;32m     49\u001b[0m \u001b[39mif\u001b[39;00m \u001b[39mself\u001b[39m\u001b[39m.\u001b[39m_next_debugger:\n\u001b[1;32m     50\u001b[0m     \u001b[39mself\u001b[39m\u001b[39m.\u001b[39m_next_debugger\u001b[39m.\u001b[39mhandle(inputs, debug_results)\n",
      "File \u001b[0;32m/usr/local/lib/python3.9/dist-packages/logikon/debuggers/reconstruction/claim_extractor.py:344\u001b[0m, in \u001b[0;36mClaimExtractor._debug\u001b[0;34m(self, prompt, completion, debug_results)\u001b[0m\n\u001b[1;32m    341\u001b[0m \u001b[39mdef\u001b[39;00m \u001b[39m_debug\u001b[39m(\u001b[39mself\u001b[39m, prompt: \u001b[39mstr\u001b[39m, completion: \u001b[39mstr\u001b[39m, debug_results: DebugState):\n\u001b[1;32m    342\u001b[0m \u001b[39m    \u001b[39m\u001b[39m\"\"\"Extract central claims tha address and answer key question of trace.\"\"\"\u001b[39;00m\n\u001b[0;32m--> 344\u001b[0m     llm \u001b[39m=\u001b[39m init_llm_from_config(\u001b[39mself\u001b[39;49m\u001b[39m.\u001b[39;49m_debug_config)\n\u001b[1;32m    345\u001b[0m     generation_kwargs \u001b[39m=\u001b[39m \u001b[39mself\u001b[39m\u001b[39m.\u001b[39m_debug_config\u001b[39m.\u001b[39mgeneration_kwargs\n\u001b[1;32m    346\u001b[0m     llmchain \u001b[39m=\u001b[39m ClaimExtractionChain(llm\u001b[39m=\u001b[39mllm, generation_kwargs\u001b[39m=\u001b[39mgeneration_kwargs, max_words_claim\u001b[39m=\u001b[39m\u001b[39m25\u001b[39m)\n",
      "File \u001b[0;32m/usr/local/lib/python3.9/dist-packages/logikon/debuggers/utils.py:41\u001b[0m, in \u001b[0;36minit_llm_from_config\u001b[0;34m(debug_config, **kwargs)\u001b[0m\n\u001b[1;32m     39\u001b[0m         \u001b[39mreturn\u001b[39;00m _VLLM\n\u001b[1;32m     40\u001b[0m     huggingface_hub\u001b[39m.\u001b[39mlogin(os\u001b[39m.\u001b[39menviron\u001b[39m.\u001b[39mget(\u001b[39m\"\u001b[39m\u001b[39mHUGGINGFACEHUB_API_TOKEN\u001b[39m\u001b[39m\"\u001b[39m))\n\u001b[0;32m---> 41\u001b[0m     llm \u001b[39m=\u001b[39m VLLM(\n\u001b[1;32m     42\u001b[0m         model\u001b[39m=\u001b[39;49mdebug_config\u001b[39m.\u001b[39;49mexpert_model, client\u001b[39m=\u001b[39;49m\u001b[39mNone\u001b[39;49;00m, trust_remote_code\u001b[39m=\u001b[39;49m\u001b[39mTrue\u001b[39;49;00m, \u001b[39m*\u001b[39;49m\u001b[39m*\u001b[39;49mdebug_config\u001b[39m.\u001b[39;49mexpert_model_kwargs\n\u001b[1;32m     43\u001b[0m     )\n\u001b[1;32m     44\u001b[0m     _VLLM \u001b[39m=\u001b[39m llm\n\u001b[1;32m     46\u001b[0m \u001b[39mif\u001b[39;00m llm \u001b[39mis\u001b[39;00m \u001b[39mNone\u001b[39;00m:\n",
      "File \u001b[0;32m/usr/local/lib/python3.9/dist-packages/langchain/load/serializable.py:74\u001b[0m, in \u001b[0;36mSerializable.__init__\u001b[0;34m(self, **kwargs)\u001b[0m\n\u001b[1;32m     73\u001b[0m \u001b[39mdef\u001b[39;00m \u001b[39m__init__\u001b[39m(\u001b[39mself\u001b[39m, \u001b[39m*\u001b[39m\u001b[39m*\u001b[39mkwargs: Any) \u001b[39m-\u001b[39m\u001b[39m>\u001b[39m \u001b[39mNone\u001b[39;00m:\n\u001b[0;32m---> 74\u001b[0m     \u001b[39msuper\u001b[39;49m()\u001b[39m.\u001b[39;49m\u001b[39m__init__\u001b[39;49m(\u001b[39m*\u001b[39;49m\u001b[39m*\u001b[39;49mkwargs)\n\u001b[1;32m     75\u001b[0m     \u001b[39mself\u001b[39m\u001b[39m.\u001b[39m_lc_kwargs \u001b[39m=\u001b[39m kwargs\n",
      "File \u001b[0;32m/usr/local/lib/python3.9/dist-packages/pydantic/main.py:339\u001b[0m, in \u001b[0;36mpydantic.main.BaseModel.__init__\u001b[0;34m()\u001b[0m\n",
      "File \u001b[0;32m/usr/local/lib/python3.9/dist-packages/pydantic/main.py:1102\u001b[0m, in \u001b[0;36mpydantic.main.validate_model\u001b[0;34m()\u001b[0m\n",
      "File \u001b[0;32m/usr/local/lib/python3.9/dist-packages/langchain/llms/vllm.py:86\u001b[0m, in \u001b[0;36mVLLM.validate_environment\u001b[0;34m(cls, values)\u001b[0m\n\u001b[1;32m     80\u001b[0m \u001b[39mexcept\u001b[39;00m \u001b[39mImportError\u001b[39;00m:\n\u001b[1;32m     81\u001b[0m     \u001b[39mraise\u001b[39;00m \u001b[39mImportError\u001b[39;00m(\n\u001b[1;32m     82\u001b[0m         \u001b[39m\"\u001b[39m\u001b[39mCould not import vllm python package. \u001b[39m\u001b[39m\"\u001b[39m\n\u001b[1;32m     83\u001b[0m         \u001b[39m\"\u001b[39m\u001b[39mPlease install it with `pip install vllm`.\u001b[39m\u001b[39m\"\u001b[39m\n\u001b[1;32m     84\u001b[0m     )\n\u001b[0;32m---> 86\u001b[0m values[\u001b[39m\"\u001b[39m\u001b[39mclient\u001b[39m\u001b[39m\"\u001b[39m] \u001b[39m=\u001b[39m VLLModel(\n\u001b[1;32m     87\u001b[0m     model\u001b[39m=\u001b[39;49mvalues[\u001b[39m\"\u001b[39;49m\u001b[39mmodel\u001b[39;49m\u001b[39m\"\u001b[39;49m],\n\u001b[1;32m     88\u001b[0m     tensor_parallel_size\u001b[39m=\u001b[39;49mvalues[\u001b[39m\"\u001b[39;49m\u001b[39mtensor_parallel_size\u001b[39;49m\u001b[39m\"\u001b[39;49m],\n\u001b[1;32m     89\u001b[0m     trust_remote_code\u001b[39m=\u001b[39;49mvalues[\u001b[39m\"\u001b[39;49m\u001b[39mtrust_remote_code\u001b[39;49m\u001b[39m\"\u001b[39;49m],\n\u001b[1;32m     90\u001b[0m     dtype\u001b[39m=\u001b[39;49mvalues[\u001b[39m\"\u001b[39;49m\u001b[39mdtype\u001b[39;49m\u001b[39m\"\u001b[39;49m],\n\u001b[1;32m     91\u001b[0m     download_dir\u001b[39m=\u001b[39;49mvalues[\u001b[39m\"\u001b[39;49m\u001b[39mdownload_dir\u001b[39;49m\u001b[39m\"\u001b[39;49m],\n\u001b[1;32m     92\u001b[0m     \u001b[39m*\u001b[39;49m\u001b[39m*\u001b[39;49mvalues[\u001b[39m\"\u001b[39;49m\u001b[39mvllm_kwargs\u001b[39;49m\u001b[39m\"\u001b[39;49m],\n\u001b[1;32m     93\u001b[0m )\n\u001b[1;32m     95\u001b[0m \u001b[39mreturn\u001b[39;00m values\n",
      "File \u001b[0;32m/usr/local/lib/python3.9/dist-packages/vllm/entrypoints/llm.py:66\u001b[0m, in \u001b[0;36mLLM.__init__\u001b[0;34m(self, model, tokenizer, tokenizer_mode, trust_remote_code, tensor_parallel_size, dtype, seed, **kwargs)\u001b[0m\n\u001b[1;32m     55\u001b[0m     kwargs[\u001b[39m\"\u001b[39m\u001b[39mdisable_log_stats\u001b[39m\u001b[39m\"\u001b[39m] \u001b[39m=\u001b[39m \u001b[39mTrue\u001b[39;00m\n\u001b[1;32m     56\u001b[0m engine_args \u001b[39m=\u001b[39m EngineArgs(\n\u001b[1;32m     57\u001b[0m     model\u001b[39m=\u001b[39mmodel,\n\u001b[1;32m     58\u001b[0m     tokenizer\u001b[39m=\u001b[39mtokenizer,\n\u001b[0;32m   (...)\u001b[0m\n\u001b[1;32m     64\u001b[0m     \u001b[39m*\u001b[39m\u001b[39m*\u001b[39mkwargs,\n\u001b[1;32m     65\u001b[0m )\n\u001b[0;32m---> 66\u001b[0m \u001b[39mself\u001b[39m\u001b[39m.\u001b[39mllm_engine \u001b[39m=\u001b[39m LLMEngine\u001b[39m.\u001b[39;49mfrom_engine_args(engine_args)\n\u001b[1;32m     67\u001b[0m \u001b[39mself\u001b[39m\u001b[39m.\u001b[39mrequest_counter \u001b[39m=\u001b[39m Counter()\n",
      "File \u001b[0;32m/usr/local/lib/python3.9/dist-packages/vllm/engine/llm_engine.py:223\u001b[0m, in \u001b[0;36mLLMEngine.from_engine_args\u001b[0;34m(cls, engine_args)\u001b[0m\n\u001b[1;32m    220\u001b[0m distributed_init_method, placement_group \u001b[39m=\u001b[39m initialize_cluster(\n\u001b[1;32m    221\u001b[0m     parallel_config)\n\u001b[1;32m    222\u001b[0m \u001b[39m# Create the LLM engine.\u001b[39;00m\n\u001b[0;32m--> 223\u001b[0m engine \u001b[39m=\u001b[39m \u001b[39mcls\u001b[39;49m(\u001b[39m*\u001b[39;49mengine_configs,\n\u001b[1;32m    224\u001b[0m              distributed_init_method,\n\u001b[1;32m    225\u001b[0m              placement_group,\n\u001b[1;32m    226\u001b[0m              log_stats\u001b[39m=\u001b[39;49m\u001b[39mnot\u001b[39;49;00m engine_args\u001b[39m.\u001b[39;49mdisable_log_stats)\n\u001b[1;32m    227\u001b[0m \u001b[39mreturn\u001b[39;00m engine\n",
      "File \u001b[0;32m/usr/local/lib/python3.9/dist-packages/vllm/engine/llm_engine.py:102\u001b[0m, in \u001b[0;36mLLMEngine.__init__\u001b[0;34m(self, model_config, cache_config, parallel_config, scheduler_config, distributed_init_method, placement_group, log_stats)\u001b[0m\n\u001b[1;32m    100\u001b[0m     \u001b[39mself\u001b[39m\u001b[39m.\u001b[39m_init_workers_ray(placement_group)\n\u001b[1;32m    101\u001b[0m \u001b[39melse\u001b[39;00m:\n\u001b[0;32m--> 102\u001b[0m     \u001b[39mself\u001b[39;49m\u001b[39m.\u001b[39;49m_init_workers(distributed_init_method)\n\u001b[1;32m    104\u001b[0m \u001b[39m# Profile the memory usage and initialize the cache.\u001b[39;00m\n\u001b[1;32m    105\u001b[0m \u001b[39mself\u001b[39m\u001b[39m.\u001b[39m_init_cache()\n",
      "File \u001b[0;32m/usr/local/lib/python3.9/dist-packages/vllm/engine/llm_engine.py:134\u001b[0m, in \u001b[0;36mLLMEngine._init_workers\u001b[0;34m(self, distributed_init_method)\u001b[0m\n\u001b[1;32m    126\u001b[0m worker \u001b[39m=\u001b[39m Worker(\n\u001b[1;32m    127\u001b[0m     \u001b[39mself\u001b[39m\u001b[39m.\u001b[39mmodel_config,\n\u001b[1;32m    128\u001b[0m     \u001b[39mself\u001b[39m\u001b[39m.\u001b[39mparallel_config,\n\u001b[0;32m   (...)\u001b[0m\n\u001b[1;32m    131\u001b[0m     distributed_init_method,\n\u001b[1;32m    132\u001b[0m )\n\u001b[1;32m    133\u001b[0m \u001b[39mself\u001b[39m\u001b[39m.\u001b[39mworkers\u001b[39m.\u001b[39mappend(worker)\n\u001b[0;32m--> 134\u001b[0m \u001b[39mself\u001b[39;49m\u001b[39m.\u001b[39;49m_run_workers(\n\u001b[1;32m    135\u001b[0m     \u001b[39m\"\u001b[39;49m\u001b[39minit_model\u001b[39;49m\u001b[39m\"\u001b[39;49m,\n\u001b[1;32m    136\u001b[0m     get_all_outputs\u001b[39m=\u001b[39;49m\u001b[39mTrue\u001b[39;49;00m,\n\u001b[1;32m    137\u001b[0m )\n",
      "File \u001b[0;32m/usr/local/lib/python3.9/dist-packages/vllm/engine/llm_engine.py:678\u001b[0m, in \u001b[0;36mLLMEngine._run_workers\u001b[0;34m(self, method, get_all_outputs, *args, **kwargs)\u001b[0m\n\u001b[1;32m    675\u001b[0m     \u001b[39melse\u001b[39;00m:\n\u001b[1;32m    676\u001b[0m         executor \u001b[39m=\u001b[39m \u001b[39mgetattr\u001b[39m(worker, method)\n\u001b[0;32m--> 678\u001b[0m     output \u001b[39m=\u001b[39m executor(\u001b[39m*\u001b[39;49margs, \u001b[39m*\u001b[39;49m\u001b[39m*\u001b[39;49mkwargs)\n\u001b[1;32m    679\u001b[0m     all_outputs\u001b[39m.\u001b[39mappend(output)\n\u001b[1;32m    681\u001b[0m \u001b[39mif\u001b[39;00m \u001b[39mself\u001b[39m\u001b[39m.\u001b[39mparallel_config\u001b[39m.\u001b[39mworker_use_ray:\n",
      "File \u001b[0;32m/usr/local/lib/python3.9/dist-packages/vllm/worker/worker.py:67\u001b[0m, in \u001b[0;36mWorker.init_model\u001b[0;34m(self)\u001b[0m\n\u001b[1;32m     65\u001b[0m \u001b[39m# Initialize the model.\u001b[39;00m\n\u001b[1;32m     66\u001b[0m set_random_seed(\u001b[39mself\u001b[39m\u001b[39m.\u001b[39mmodel_config\u001b[39m.\u001b[39mseed)\n\u001b[0;32m---> 67\u001b[0m \u001b[39mself\u001b[39m\u001b[39m.\u001b[39mmodel \u001b[39m=\u001b[39m get_model(\u001b[39mself\u001b[39;49m\u001b[39m.\u001b[39;49mmodel_config)\n",
      "File \u001b[0;32m/usr/local/lib/python3.9/dist-packages/vllm/model_executor/model_loader.py:58\u001b[0m, in \u001b[0;36mget_model\u001b[0;34m(model_config)\u001b[0m\n\u001b[1;32m     54\u001b[0m model_class \u001b[39m=\u001b[39m _get_model_architecture(model_config\u001b[39m.\u001b[39mhf_config)\n\u001b[1;32m     55\u001b[0m \u001b[39mwith\u001b[39;00m _set_default_torch_dtype(model_config\u001b[39m.\u001b[39mdtype):\n\u001b[1;32m     56\u001b[0m     \u001b[39m# Create a model instance.\u001b[39;00m\n\u001b[1;32m     57\u001b[0m     \u001b[39m# The weights will be initialized as empty tensors.\u001b[39;00m\n\u001b[0;32m---> 58\u001b[0m     model \u001b[39m=\u001b[39m model_class(model_config\u001b[39m.\u001b[39;49mhf_config)\n\u001b[1;32m     59\u001b[0m     \u001b[39mif\u001b[39;00m model_config\u001b[39m.\u001b[39mload_format \u001b[39m==\u001b[39m \u001b[39m\"\u001b[39m\u001b[39mdummy\u001b[39m\u001b[39m\"\u001b[39m:\n\u001b[1;32m     60\u001b[0m         model \u001b[39m=\u001b[39m model\u001b[39m.\u001b[39mcuda()\n",
      "File \u001b[0;32m/usr/local/lib/python3.9/dist-packages/vllm/model_executor/models/falcon.py:386\u001b[0m, in \u001b[0;36mFalconForCausalLM.__init__\u001b[0;34m(self, config)\u001b[0m\n\u001b[1;32m    384\u001b[0m \u001b[39msuper\u001b[39m()\u001b[39m.\u001b[39m\u001b[39m__init__\u001b[39m()\n\u001b[1;32m    385\u001b[0m \u001b[39mself\u001b[39m\u001b[39m.\u001b[39mconfig \u001b[39m=\u001b[39m config\n\u001b[0;32m--> 386\u001b[0m \u001b[39mself\u001b[39m\u001b[39m.\u001b[39mtransformer \u001b[39m=\u001b[39m FalconModel(config)\n\u001b[1;32m    387\u001b[0m \u001b[39mself\u001b[39m\u001b[39m.\u001b[39mlm_head \u001b[39m=\u001b[39m ColumnParallelLinear(config\u001b[39m.\u001b[39mhidden_size,\n\u001b[1;32m    388\u001b[0m                                     config\u001b[39m.\u001b[39mvocab_size,\n\u001b[1;32m    389\u001b[0m                                     bias\u001b[39m=\u001b[39m\u001b[39mFalse\u001b[39;00m,\n\u001b[1;32m    390\u001b[0m                                     gather_output\u001b[39m=\u001b[39m\u001b[39mFalse\u001b[39;00m,\n\u001b[1;32m    391\u001b[0m                                     perform_initialization\u001b[39m=\u001b[39m\u001b[39mFalse\u001b[39;00m)\n\u001b[1;32m    392\u001b[0m \u001b[39mself\u001b[39m\u001b[39m.\u001b[39msampler \u001b[39m=\u001b[39m Sampler(config\u001b[39m.\u001b[39mvocab_size)\n",
      "File \u001b[0;32m/usr/local/lib/python3.9/dist-packages/vllm/model_executor/models/falcon.py:348\u001b[0m, in \u001b[0;36mFalconModel.__init__\u001b[0;34m(self, config)\u001b[0m\n\u001b[1;32m    344\u001b[0m \u001b[39mself\u001b[39m\u001b[39m.\u001b[39mword_embeddings \u001b[39m=\u001b[39m VocabParallelEmbedding(\n\u001b[1;32m    345\u001b[0m     config\u001b[39m.\u001b[39mvocab_size, \u001b[39mself\u001b[39m\u001b[39m.\u001b[39membed_dim, perform_initialization\u001b[39m=\u001b[39m\u001b[39mFalse\u001b[39;00m)\n\u001b[1;32m    347\u001b[0m \u001b[39m# Transformer blocks\u001b[39;00m\n\u001b[0;32m--> 348\u001b[0m \u001b[39mself\u001b[39m\u001b[39m.\u001b[39mh \u001b[39m=\u001b[39m nn\u001b[39m.\u001b[39mModuleList([\n\u001b[1;32m    349\u001b[0m     FalconDecoderLayer(config) \u001b[39mfor\u001b[39;00m _ \u001b[39min\u001b[39;00m \u001b[39mrange\u001b[39m(config\u001b[39m.\u001b[39mnum_hidden_layers)\n\u001b[1;32m    350\u001b[0m ])\n\u001b[1;32m    352\u001b[0m \u001b[39m# Final Layer Norm\u001b[39;00m\n\u001b[1;32m    353\u001b[0m \u001b[39mself\u001b[39m\u001b[39m.\u001b[39mln_f \u001b[39m=\u001b[39m LayerNorm(\u001b[39mself\u001b[39m\u001b[39m.\u001b[39membed_dim, eps\u001b[39m=\u001b[39mconfig\u001b[39m.\u001b[39mlayer_norm_epsilon)\n",
      "File \u001b[0;32m/usr/local/lib/python3.9/dist-packages/vllm/model_executor/models/falcon.py:349\u001b[0m, in \u001b[0;36m<listcomp>\u001b[0;34m(.0)\u001b[0m\n\u001b[1;32m    344\u001b[0m \u001b[39mself\u001b[39m\u001b[39m.\u001b[39mword_embeddings \u001b[39m=\u001b[39m VocabParallelEmbedding(\n\u001b[1;32m    345\u001b[0m     config\u001b[39m.\u001b[39mvocab_size, \u001b[39mself\u001b[39m\u001b[39m.\u001b[39membed_dim, perform_initialization\u001b[39m=\u001b[39m\u001b[39mFalse\u001b[39;00m)\n\u001b[1;32m    347\u001b[0m \u001b[39m# Transformer blocks\u001b[39;00m\n\u001b[1;32m    348\u001b[0m \u001b[39mself\u001b[39m\u001b[39m.\u001b[39mh \u001b[39m=\u001b[39m nn\u001b[39m.\u001b[39mModuleList([\n\u001b[0;32m--> 349\u001b[0m     FalconDecoderLayer(config) \u001b[39mfor\u001b[39;00m _ \u001b[39min\u001b[39;00m \u001b[39mrange\u001b[39m(config\u001b[39m.\u001b[39mnum_hidden_layers)\n\u001b[1;32m    350\u001b[0m ])\n\u001b[1;32m    352\u001b[0m \u001b[39m# Final Layer Norm\u001b[39;00m\n\u001b[1;32m    353\u001b[0m \u001b[39mself\u001b[39m\u001b[39m.\u001b[39mln_f \u001b[39m=\u001b[39m LayerNorm(\u001b[39mself\u001b[39m\u001b[39m.\u001b[39membed_dim, eps\u001b[39m=\u001b[39mconfig\u001b[39m.\u001b[39mlayer_norm_epsilon)\n",
      "File \u001b[0;32m/usr/local/lib/python3.9/dist-packages/vllm/model_executor/models/falcon.py:260\u001b[0m, in \u001b[0;36mFalconDecoderLayer.__init__\u001b[0;34m(self, config)\u001b[0m\n\u001b[1;32m    258\u001b[0m \u001b[39mself\u001b[39m\u001b[39m.\u001b[39mnum_heads \u001b[39m=\u001b[39m config\u001b[39m.\u001b[39mnum_attention_heads\n\u001b[1;32m    259\u001b[0m \u001b[39mself\u001b[39m\u001b[39m.\u001b[39mself_attention \u001b[39m=\u001b[39m FalconAttention(config)\n\u001b[0;32m--> 260\u001b[0m \u001b[39mself\u001b[39m\u001b[39m.\u001b[39mmlp \u001b[39m=\u001b[39m FalconMLP(config)\n\u001b[1;32m    261\u001b[0m \u001b[39mself\u001b[39m\u001b[39m.\u001b[39mconfig \u001b[39m=\u001b[39m config\n\u001b[1;32m    263\u001b[0m \u001b[39mif\u001b[39;00m config\u001b[39m.\u001b[39mnew_decoder_architecture:\n\u001b[1;32m    264\u001b[0m     \u001b[39m# The layer norm before self-attention\u001b[39;00m\n",
      "File \u001b[0;32m/usr/local/lib/python3.9/dist-packages/vllm/model_executor/models/falcon.py:225\u001b[0m, in \u001b[0;36mFalconMLP.__init__\u001b[0;34m(self, config)\u001b[0m\n\u001b[1;32m    222\u001b[0m \u001b[39msuper\u001b[39m()\u001b[39m.\u001b[39m\u001b[39m__init__\u001b[39m()\n\u001b[1;32m    223\u001b[0m hidden_size \u001b[39m=\u001b[39m config\u001b[39m.\u001b[39mhidden_size\n\u001b[0;32m--> 225\u001b[0m \u001b[39mself\u001b[39m\u001b[39m.\u001b[39mdense_h_to_4h \u001b[39m=\u001b[39m ColumnParallelLinear(hidden_size,\n\u001b[1;32m    226\u001b[0m                                           \u001b[39m4\u001b[39;49m \u001b[39m*\u001b[39;49m hidden_size,\n\u001b[1;32m    227\u001b[0m                                           bias\u001b[39m=\u001b[39;49mconfig\u001b[39m.\u001b[39;49mbias,\n\u001b[1;32m    228\u001b[0m                                           gather_output\u001b[39m=\u001b[39;49m\u001b[39mFalse\u001b[39;49;00m,\n\u001b[1;32m    229\u001b[0m                                           perform_initialization\u001b[39m=\u001b[39;49m\u001b[39mFalse\u001b[39;49;00m,\n\u001b[1;32m    230\u001b[0m                                           skip_bias_add\u001b[39m=\u001b[39;49m\u001b[39mTrue\u001b[39;49;00m)\n\u001b[1;32m    231\u001b[0m \u001b[39mself\u001b[39m\u001b[39m.\u001b[39mact \u001b[39m=\u001b[39m nn\u001b[39m.\u001b[39mGELU()\n\u001b[1;32m    232\u001b[0m \u001b[39mself\u001b[39m\u001b[39m.\u001b[39mreduce_row_parallel_results \u001b[39m=\u001b[39m \u001b[39mnot\u001b[39;00m (config\u001b[39m.\u001b[39mnew_decoder_architecture\n\u001b[1;32m    233\u001b[0m                                         \u001b[39mor\u001b[39;00m config\u001b[39m.\u001b[39mparallel_attn)\n",
      "File \u001b[0;32m/usr/local/lib/python3.9/dist-packages/vllm/model_executor/parallel_utils/tensor_parallel/layers.py:271\u001b[0m, in \u001b[0;36mColumnParallelLinear.__init__\u001b[0;34m(self, input_size, output_size, bias, gather_output, init_method, stride, keep_master_weight_for_test, skip_bias_add, params_dtype, use_cpu_initialization, perform_initialization)\u001b[0m\n\u001b[1;32m    266\u001b[0m         \u001b[39mself\u001b[39m\u001b[39m.\u001b[39mmaster_weight \u001b[39m=\u001b[39m _initialize_affine_weight_cpu(\n\u001b[1;32m    267\u001b[0m             \u001b[39mself\u001b[39m\u001b[39m.\u001b[39mweight, \u001b[39mself\u001b[39m\u001b[39m.\u001b[39moutput_size, \u001b[39mself\u001b[39m\u001b[39m.\u001b[39minput_size,\n\u001b[1;32m    268\u001b[0m             \u001b[39mself\u001b[39m\u001b[39m.\u001b[39moutput_size_per_partition, \u001b[39m0\u001b[39m, init_method,\n\u001b[1;32m    269\u001b[0m             stride\u001b[39m=\u001b[39mstride, return_master_weight\u001b[39m=\u001b[39mkeep_master_weight_for_test)\n\u001b[1;32m    270\u001b[0m \u001b[39melse\u001b[39;00m:\n\u001b[0;32m--> 271\u001b[0m     \u001b[39mself\u001b[39m\u001b[39m.\u001b[39mweight \u001b[39m=\u001b[39m Parameter(torch\u001b[39m.\u001b[39;49mempty(\n\u001b[1;32m    272\u001b[0m         \u001b[39mself\u001b[39;49m\u001b[39m.\u001b[39;49moutput_size_per_partition, \u001b[39mself\u001b[39;49m\u001b[39m.\u001b[39;49minput_size,\n\u001b[1;32m    273\u001b[0m         device\u001b[39m=\u001b[39;49mtorch\u001b[39m.\u001b[39;49mcuda\u001b[39m.\u001b[39;49mcurrent_device(), dtype\u001b[39m=\u001b[39;49mparams_dtype))\n\u001b[1;32m    274\u001b[0m     \u001b[39mif\u001b[39;00m perform_initialization:\n\u001b[1;32m    275\u001b[0m         _initialize_affine_weight_gpu(\u001b[39mself\u001b[39m\u001b[39m.\u001b[39mweight, init_method,\n\u001b[1;32m    276\u001b[0m                                       partition_dim\u001b[39m=\u001b[39m\u001b[39m0\u001b[39m, stride\u001b[39m=\u001b[39mstride)\n",
      "\u001b[0;31mOutOfMemoryError\u001b[0m: CUDA out of memory. Tried to allocate 512.00 MiB (GPU 0; 47.54 GiB total capacity; 46.86 GiB already allocated; 185.12 MiB free; 46.86 GiB reserved in total by PyTorch) If reserved memory is >> allocated memory try setting max_split_size_mb to avoid fragmentation.  See documentation for Memory Management and PYTORCH_CUDA_ALLOC_CONF"
     ]
    }
   ],
   "source": [
    "# iterate over the reference dataset:\n",
    "# - compute the metrics for records not in the eval results dataset\n",
    "# - update the eval results dataset\n",
    "\n",
    "for enum, example in enumerate(ref_ds):  # ref_ds.select(list(range(60)))\n",
    "\n",
    "    if any(r.reference_id == example[reference_dataset.id_field] for r in eval_results):\n",
    "        print(f\"Skipping {example[reference_dataset.id_field]}\")\n",
    "        continue\n",
    "\n",
    "    if len(example[\"history\"].split())+len(example[\"text\"].split()) > 900:\n",
    "        print(f\"Too long: Skipping {example[reference_dataset.id_field]}\")\n",
    "        continue\n",
    "\n",
    "    print(f\"Scoring example {enum} of {len(ref_ds)}.\\n\")\n",
    "    print(example[\"history\"])\n",
    "    print(example[\"text\"])\n",
    "    debug_results = logikon.score(\n",
    "        prompt=example[\"history\"],\n",
    "        completion=example[\"text\"],\n",
    "        config=config\n",
    "    )\n",
    "\n",
    "    argmap = next((a.data for a in debug_results.artifacts if a.id == \"networkx_graph\"), None)\n",
    "    argmap = nx.node_link_data(argmap) if argmap else {}\n",
    "\n",
    "    scores = {\n",
    "        \"id\": [],\n",
    "        \"value\": [],\n",
    "        \"comment\": [],\n",
    "    }\n",
    "    for score in debug_results.scores:\n",
    "        for key in scores:\n",
    "            scores[key].append(score.__getattribute__(key))\n",
    "    scores[\"names\"] = scores.pop(\"id\")\n",
    "    scores[\"values\"] = scores.pop(\"value\")\n",
    "    scores[\"comments\"] = scores.pop(\"comment\")\n",
    "\n",
    "    eval_record = EvalResultRecord(\n",
    "        id = str(uuid.uuid4()),\n",
    "        reference_id=example[reference_dataset.id_field],\n",
    "        reference_dataset=dataclasses.asdict(reference_dataset),\n",
    "        lang=example.get(\"lang\", LANG),\n",
    "        created_date=datetime.datetime.now().isoformat(),\n",
    "        argmap=argmap,\n",
    "        scores=scores,\n",
    "        model=config.expert_model,\n",
    "        metadata={\"logikon_config\": config.dict(), \"logikon_version\": logikon.__version__},\n",
    "    )\n",
    "\n",
    "    eval_results.append(eval_record)"
   ]
  },
  {
   "cell_type": "code",
   "execution_count": null,
   "metadata": {},
   "outputs": [
    {
     "data": {
      "text/plain": [
       "86"
      ]
     },
     "execution_count": 31,
     "metadata": {},
     "output_type": "execute_result"
    }
   ],
   "source": [
    "len(eval_results)"
   ]
  },
  {
   "cell_type": "code",
   "execution_count": null,
   "metadata": {},
   "outputs": [
    {
     "name": "stdout",
     "output_type": "stream",
     "text": [
      "{\"id\": \"5d0d45e2-090e-495b-8759-228888cdf653\", \"reference_id\": \"7c2f230c-3153-4baf-b938-445dac1ddd56\", \"reference_dataset\": {\"path\": \"logikon/oasst1-delib\", \"id_field\": \"message_id\", \"split\": \"train\", \"revision\": null}, \"lang\": \"en\", \"created_date\": \"2023-09-28T16:56:19.620268\", \"argmap\": {}, \"scores\": {\"names\": [\"argmap_size\", \"argmap_attack_ratio\", \"argmap_avg_katz_centrality\"], \"values\": [0.0, 0.0, NaN], \"comments\": [\"\", \"\", \"\"]}, \"model\": \"meta-llama/Llama-2-13b-chat-hf\", \"metadata\": {\"logikon_config\": {\"expert_model\": \"meta-llama/Llama-2-13b-chat-hf\", \"expert_model_kwargs\": {\"temperature\": 0.7}, \"llm_framework\": \"VLLM\", \"generation_kwargs\": null, \"inputs\": [], \"metrics\": [\"argmap_size\", \"argmap_avg_katz_centrality\", \"argmap_attack_ratio\"], \"artifacts\": [\"networkx_graph\"], \"report_to\": []}, \"logikon_version\": \"0.0.1-dev0\"}}\n",
      "{\"id\": \"f205a0e2-c650-4855-8e08-b69769c8bc2e\", \"reference_id\": \"98c5903b-5f7b-4d86-bb57-785530d1876c\", \"reference_dataset\": {\"path\": \"logikon/oasst1-delib\", \"id_field\": \"message_id\", \"split\": \"train\", \"revision\": null}, \"lang\": \"en\", \"created_date\": \"2023-09-28T16:56:23.447073\", \"argmap\": {}, \"scores\": {\"names\": [\"argmap_size\", \"argmap_attack_ratio\", \"argmap_avg_katz_centrality\"], \"values\": [0.0, 0.0, NaN], \"comments\": [\"\", \"\", \"\"]}, \"model\": \"meta-llama/Llama-2-13b-chat-hf\", \"metadata\": {\"logikon_config\": {\"expert_model\": \"meta-llama/Llama-2-13b-chat-hf\", \"expert_model_kwargs\": {\"temperature\": 0.7}, \"llm_framework\": \"VLLM\", \"generation_kwargs\": null, \"inputs\": [], \"metrics\": [\"argmap_size\", \"argmap_avg_katz_centrality\", \"argmap_attack_ratio\"], \"artifacts\": [\"networkx_graph\"], \"report_to\": []}, \"logikon_version\": \"0.0.1-dev0\"}}\n",
      "{\"id\": \"5f1acc42-dc56-471c-9782-7c0fe46bffbd\", \"reference_id\": \"8aaeeb64-585a-428b-a3d7-87fd6ab22135\", \"reference_dataset\": {\"path\": \"logikon/oasst1-delib\", \"id_field\": \"message_id\", \"split\": \"train\", \"revision\": null}, \"lang\": \"en\", \"created_date\": \"2023-09-28T16:56:26.118821\", \"argmap\": {}, \"scores\": {\"names\": [\"argmap_size\", \"argmap_attack_ratio\", \"argmap_avg_katz_centrality\"], \"values\": [0.0, 0.0, NaN], \"comments\": [\"\", \"\", \"\"]}, \"model\": \"meta-llama/Llama-2-13b-chat-hf\", \"metadata\": {\"logikon_config\": {\"expert_model\": \"meta-llama/Llama-2-13b-chat-hf\", \"expert_model_kwargs\": {\"temperature\": 0.7}, \"llm_framework\": \"VLLM\", \"generation_kwargs\": null, \"inputs\": [], \"metrics\": [\"argmap_size\", \"argmap_avg_katz_centrality\", \"argmap_attack_ratio\"], \"artifacts\": [\"networkx_graph\"], \"report_to\": []}, \"logikon_version\": \"0.0.1-dev0\"}}\n",
      "{\"id\": \"df366241-c8c8-4b90-832d-b7905bc5c320\", \"reference_id\": \"876e80cf-43a7-4fa4-b4d2-86ebf46f222c\", \"reference_dataset\": {\"path\": \"logikon/oasst1-delib\", \"id_field\": \"message_id\", \"split\": \"train\", \"revision\": null}, \"lang\": \"en\", \"created_date\": \"2023-09-28T16:56:30.606711\", \"argmap\": {}, \"scores\": {\"names\": [\"argmap_size\", \"argmap_attack_ratio\", \"argmap_avg_katz_centrality\"], \"values\": [0.0, 0.0, NaN], \"comments\": [\"\", \"\", \"\"]}, \"model\": \"meta-llama/Llama-2-13b-chat-hf\", \"metadata\": {\"logikon_config\": {\"expert_model\": \"meta-llama/Llama-2-13b-chat-hf\", \"expert_model_kwargs\": {\"temperature\": 0.7}, \"llm_framework\": \"VLLM\", \"generation_kwargs\": null, \"inputs\": [], \"metrics\": [\"argmap_size\", \"argmap_avg_katz_centrality\", \"argmap_attack_ratio\"], \"artifacts\": [\"networkx_graph\"], \"report_to\": []}, \"logikon_version\": \"0.0.1-dev0\"}}\n",
      "{\"id\": \"80ccd018-7d55-4d2c-b796-ab15d9137e7e\", \"reference_id\": \"0fafd61d-483b-4829-84c6-b210697b124b\", \"reference_dataset\": {\"path\": \"logikon/oasst1-delib\", \"id_field\": \"message_id\", \"split\": \"train\", \"revision\": null}, \"lang\": \"en\", \"created_date\": \"2023-09-28T16:56:34.786416\", \"argmap\": {}, \"scores\": {\"names\": [\"argmap_size\", \"argmap_attack_ratio\", \"argmap_avg_katz_centrality\"], \"values\": [0.0, 0.0, NaN], \"comments\": [\"\", \"\", \"\"]}, \"model\": \"meta-llama/Llama-2-13b-chat-hf\", \"metadata\": {\"logikon_config\": {\"expert_model\": \"meta-llama/Llama-2-13b-chat-hf\", \"expert_model_kwargs\": {\"temperature\": 0.7}, \"llm_framework\": \"VLLM\", \"generation_kwargs\": null, \"inputs\": [], \"metrics\": [\"argmap_size\", \"argmap_avg_katz_centrality\", \"argmap_attack_ratio\"], \"artifacts\": [\"networkx_graph\"], \"report_to\": []}, \"logikon_version\": \"0.0.1-dev0\"}}\n",
      "{\"id\": \"4ac31ebe-0652-48a9-a51a-3bd333c6854d\", \"reference_id\": \"3024035e-dbf2-49bb-8a63-198d81a82b08\", \"reference_dataset\": {\"path\": \"logikon/oasst1-delib\", \"id_field\": \"message_id\", \"split\": \"train\", \"revision\": null}, \"lang\": \"en\", \"created_date\": \"2023-09-28T16:56:36.350473\", \"argmap\": {}, \"scores\": {\"names\": [\"argmap_size\", \"argmap_attack_ratio\", \"argmap_avg_katz_centrality\"], \"values\": [0.0, 0.0, NaN], \"comments\": [\"\", \"\", \"\"]}, \"model\": \"meta-llama/Llama-2-13b-chat-hf\", \"metadata\": {\"logikon_config\": {\"expert_model\": \"meta-llama/Llama-2-13b-chat-hf\", \"expert_model_kwargs\": {\"temperature\": 0.7}, \"llm_framework\": \"VLLM\", \"generation_kwargs\": null, \"inputs\": [], \"metrics\": [\"argmap_size\", \"argmap_avg_katz_centrality\", \"argmap_attack_ratio\"], \"artifacts\": [\"networkx_graph\"], \"report_to\": []}, \"logikon_version\": \"0.0.1-dev0\"}}\n",
      "{\"id\": \"79400656-7a9d-4f61-8a80-a90fd2b856f8\", \"reference_id\": \"de110e4e-a707-4293-bbba-d12cd30b15dc\", \"reference_dataset\": {\"path\": \"logikon/oasst1-delib\", \"id_field\": \"message_id\", \"split\": \"train\", \"revision\": null}, \"lang\": \"en\", \"created_date\": \"2023-09-28T16:56:40.165205\", \"argmap\": {}, \"scores\": {\"names\": [\"argmap_size\", \"argmap_attack_ratio\", \"argmap_avg_katz_centrality\"], \"values\": [0.0, 0.0, NaN], \"comments\": [\"\", \"\", \"\"]}, \"model\": \"meta-llama/Llama-2-13b-chat-hf\", \"metadata\": {\"logikon_config\": {\"expert_model\": \"meta-llama/Llama-2-13b-chat-hf\", \"expert_model_kwargs\": {\"temperature\": 0.7}, \"llm_framework\": \"VLLM\", \"generation_kwargs\": null, \"inputs\": [], \"metrics\": [\"argmap_size\", \"argmap_avg_katz_centrality\", \"argmap_attack_ratio\"], \"artifacts\": [\"networkx_graph\"], \"report_to\": []}, \"logikon_version\": \"0.0.1-dev0\"}}\n",
      "{\"id\": \"3247359d-2f09-4db9-b96b-3d0afe11b7e7\", \"reference_id\": \"0a1871fd-35aa-4dff-8334-7041caf58796\", \"reference_dataset\": {\"path\": \"logikon/oasst1-delib\", \"id_field\": \"message_id\", \"split\": \"train\", \"revision\": null}, \"lang\": \"en\", \"created_date\": \"2023-09-28T16:56:45.797894\", \"argmap\": {}, \"scores\": {\"names\": [\"argmap_size\", \"argmap_attack_ratio\", \"argmap_avg_katz_centrality\"], \"values\": [0.0, 0.0, NaN], \"comments\": [\"\", \"\", \"\"]}, \"model\": \"meta-llama/Llama-2-13b-chat-hf\", \"metadata\": {\"logikon_config\": {\"expert_model\": \"meta-llama/Llama-2-13b-chat-hf\", \"expert_model_kwargs\": {\"temperature\": 0.7}, \"llm_framework\": \"VLLM\", \"generation_kwargs\": null, \"inputs\": [], \"metrics\": [\"argmap_size\", \"argmap_avg_katz_centrality\", \"argmap_attack_ratio\"], \"artifacts\": [\"networkx_graph\"], \"report_to\": []}, \"logikon_version\": \"0.0.1-dev0\"}}\n",
      "{\"id\": \"fdd652f6-598a-4b3c-911b-b9dd6a24070b\", \"reference_id\": \"6e9b391d-9d30-4684-8c19-ef0654d66007\", \"reference_dataset\": {\"path\": \"logikon/oasst1-delib\", \"id_field\": \"message_id\", \"split\": \"train\", \"revision\": null}, \"lang\": \"en\", \"created_date\": \"2023-09-28T16:56:48.239790\", \"argmap\": {}, \"scores\": {\"names\": [\"argmap_size\", \"argmap_attack_ratio\", \"argmap_avg_katz_centrality\"], \"values\": [0.0, 0.0, NaN], \"comments\": [\"\", \"\", \"\"]}, \"model\": \"meta-llama/Llama-2-13b-chat-hf\", \"metadata\": {\"logikon_config\": {\"expert_model\": \"meta-llama/Llama-2-13b-chat-hf\", \"expert_model_kwargs\": {\"temperature\": 0.7}, \"llm_framework\": \"VLLM\", \"generation_kwargs\": null, \"inputs\": [], \"metrics\": [\"argmap_size\", \"argmap_avg_katz_centrality\", \"argmap_attack_ratio\"], \"artifacts\": [\"networkx_graph\"], \"report_to\": []}, \"logikon_version\": \"0.0.1-dev0\"}}\n",
      "{\"id\": \"d9f468aa-1de9-4b5d-a723-9438a409581d\", \"reference_id\": \"512a243b-116b-4c9a-bb3a-e0e3a2de0ceb\", \"reference_dataset\": {\"path\": \"logikon/oasst1-delib\", \"id_field\": \"message_id\", \"split\": \"train\", \"revision\": null}, \"lang\": \"en\", \"created_date\": \"2023-09-28T16:56:51.700616\", \"argmap\": {}, \"scores\": {\"names\": [\"argmap_size\", \"argmap_attack_ratio\", \"argmap_avg_katz_centrality\"], \"values\": [0.0, 0.0, NaN], \"comments\": [\"\", \"\", \"\"]}, \"model\": \"meta-llama/Llama-2-13b-chat-hf\", \"metadata\": {\"logikon_config\": {\"expert_model\": \"meta-llama/Llama-2-13b-chat-hf\", \"expert_model_kwargs\": {\"temperature\": 0.7}, \"llm_framework\": \"VLLM\", \"generation_kwargs\": null, \"inputs\": [], \"metrics\": [\"argmap_size\", \"argmap_avg_katz_centrality\", \"argmap_attack_ratio\"], \"artifacts\": [\"networkx_graph\"], \"report_to\": []}, \"logikon_version\": \"0.0.1-dev0\"}}\n",
      "{\"id\": \"348d10c2-fe0f-4b47-8327-b0eb84f89731\", \"reference_id\": \"fe97f6de-fcb3-4437-baf8-bb61668f382b\", \"reference_dataset\": {\"path\": \"logikon/oasst1-delib\", \"id_field\": \"message_id\", \"split\": \"train\", \"revision\": null}, \"lang\": \"en\", \"created_date\": \"2023-09-28T16:56:53.501119\", \"argmap\": {}, \"scores\": {\"names\": [\"argmap_size\", \"argmap_attack_ratio\", \"argmap_avg_katz_centrality\"], \"values\": [0.0, 0.0, NaN], \"comments\": [\"\", \"\", \"\"]}, \"model\": \"meta-llama/Llama-2-13b-chat-hf\", \"metadata\": {\"logikon_config\": {\"expert_model\": \"meta-llama/Llama-2-13b-chat-hf\", \"expert_model_kwargs\": {\"temperature\": 0.7}, \"llm_framework\": \"VLLM\", \"generation_kwargs\": null, \"inputs\": [], \"metrics\": [\"argmap_size\", \"argmap_avg_katz_centrality\", \"argmap_attack_ratio\"], \"artifacts\": [\"networkx_graph\"], \"report_to\": []}, \"logikon_version\": \"0.0.1-dev0\"}}\n",
      "{\"id\": \"f624bef1-ef71-445c-b2c7-30e7de289207\", \"reference_id\": \"514615b3-605c-45db-be88-712eb91109b2\", \"reference_dataset\": {\"path\": \"logikon/oasst1-delib\", \"id_field\": \"message_id\", \"split\": \"train\", \"revision\": null}, \"lang\": \"en\", \"created_date\": \"2023-09-28T16:56:56.372822\", \"argmap\": {}, \"scores\": {\"names\": [\"argmap_size\", \"argmap_attack_ratio\", \"argmap_avg_katz_centrality\"], \"values\": [0.0, 0.0, NaN], \"comments\": [\"\", \"\", \"\"]}, \"model\": \"meta-llama/Llama-2-13b-chat-hf\", \"metadata\": {\"logikon_config\": {\"expert_model\": \"meta-llama/Llama-2-13b-chat-hf\", \"expert_model_kwargs\": {\"temperature\": 0.7}, \"llm_framework\": \"VLLM\", \"generation_kwargs\": null, \"inputs\": [], \"metrics\": [\"argmap_size\", \"argmap_avg_katz_centrality\", \"argmap_attack_ratio\"], \"artifacts\": [\"networkx_graph\"], \"report_to\": []}, \"logikon_version\": \"0.0.1-dev0\"}}\n",
      "{\"id\": \"2f9f8815-1790-48d9-8b31-2dc41a861f5f\", \"reference_id\": \"7f0a8696-b052-470a-a24b-32557d24cc9e\", \"reference_dataset\": {\"path\": \"logikon/oasst1-delib\", \"id_field\": \"message_id\", \"split\": \"train\", \"revision\": null}, \"lang\": \"en\", \"created_date\": \"2023-09-28T16:56:59.906499\", \"argmap\": {}, \"scores\": {\"names\": [\"argmap_size\", \"argmap_attack_ratio\", \"argmap_avg_katz_centrality\"], \"values\": [0.0, 0.0, NaN], \"comments\": [\"\", \"\", \"\"]}, \"model\": \"meta-llama/Llama-2-13b-chat-hf\", \"metadata\": {\"logikon_config\": {\"expert_model\": \"meta-llama/Llama-2-13b-chat-hf\", \"expert_model_kwargs\": {\"temperature\": 0.7}, \"llm_framework\": \"VLLM\", \"generation_kwargs\": null, \"inputs\": [], \"metrics\": [\"argmap_size\", \"argmap_avg_katz_centrality\", \"argmap_attack_ratio\"], \"artifacts\": [\"networkx_graph\"], \"report_to\": []}, \"logikon_version\": \"0.0.1-dev0\"}}\n",
      "{\"id\": \"2c9a69d4-6f88-410d-b198-b619bf323719\", \"reference_id\": \"d80c6b1b-4c50-4d07-a20e-56476fc6e4ce\", \"reference_dataset\": {\"path\": \"logikon/oasst1-delib\", \"id_field\": \"message_id\", \"split\": \"train\", \"revision\": null}, \"lang\": \"en\", \"created_date\": \"2023-09-28T16:57:03.088206\", \"argmap\": {}, \"scores\": {\"names\": [\"argmap_size\", \"argmap_attack_ratio\", \"argmap_avg_katz_centrality\"], \"values\": [0.0, 0.0, NaN], \"comments\": [\"\", \"\", \"\"]}, \"model\": \"meta-llama/Llama-2-13b-chat-hf\", \"metadata\": {\"logikon_config\": {\"expert_model\": \"meta-llama/Llama-2-13b-chat-hf\", \"expert_model_kwargs\": {\"temperature\": 0.7}, \"llm_framework\": \"VLLM\", \"generation_kwargs\": null, \"inputs\": [], \"metrics\": [\"argmap_size\", \"argmap_avg_katz_centrality\", \"argmap_attack_ratio\"], \"artifacts\": [\"networkx_graph\"], \"report_to\": []}, \"logikon_version\": \"0.0.1-dev0\"}}\n",
      "{\"id\": \"ed76e8a6-c1b9-43d1-a74c-a10d5c9bb5d6\", \"reference_id\": \"e140aa57-5ca4-4140-9e98-2bf6db51778e\", \"reference_dataset\": {\"path\": \"logikon/oasst1-delib\", \"id_field\": \"message_id\", \"split\": \"train\", \"revision\": null}, \"lang\": \"en\", \"created_date\": \"2023-09-28T16:57:10.077318\", \"argmap\": {}, \"scores\": {\"names\": [\"argmap_size\", \"argmap_attack_ratio\", \"argmap_avg_katz_centrality\"], \"values\": [0.0, 0.0, NaN], \"comments\": [\"\", \"\", \"\"]}, \"model\": \"meta-llama/Llama-2-13b-chat-hf\", \"metadata\": {\"logikon_config\": {\"expert_model\": \"meta-llama/Llama-2-13b-chat-hf\", \"expert_model_kwargs\": {\"temperature\": 0.7}, \"llm_framework\": \"VLLM\", \"generation_kwargs\": null, \"inputs\": [], \"metrics\": [\"argmap_size\", \"argmap_avg_katz_centrality\", \"argmap_attack_ratio\"], \"artifacts\": [\"networkx_graph\"], \"report_to\": []}, \"logikon_version\": \"0.0.1-dev0\"}}\n",
      "{\"id\": \"79729ae2-7c22-40e7-a017-588713ed1d95\", \"reference_id\": \"f4d2d77a-03d1-493a-9baa-6b881c67042b\", \"reference_dataset\": {\"path\": \"logikon/oasst1-delib\", \"id_field\": \"message_id\", \"split\": \"train\", \"revision\": null}, \"lang\": \"en\", \"created_date\": \"2023-09-28T16:57:16.476470\", \"argmap\": {}, \"scores\": {\"names\": [\"argmap_size\", \"argmap_attack_ratio\", \"argmap_avg_katz_centrality\"], \"values\": [0.0, 0.0, NaN], \"comments\": [\"\", \"\", \"\"]}, \"model\": \"meta-llama/Llama-2-13b-chat-hf\", \"metadata\": {\"logikon_config\": {\"expert_model\": \"meta-llama/Llama-2-13b-chat-hf\", \"expert_model_kwargs\": {\"temperature\": 0.7}, \"llm_framework\": \"VLLM\", \"generation_kwargs\": null, \"inputs\": [], \"metrics\": [\"argmap_size\", \"argmap_avg_katz_centrality\", \"argmap_attack_ratio\"], \"artifacts\": [\"networkx_graph\"], \"report_to\": []}, \"logikon_version\": \"0.0.1-dev0\"}}\n",
      "{\"id\": \"624c423f-7541-40f0-9949-0ce6e36e17a3\", \"reference_id\": \"0b07d0fe-bb2f-4978-ac43-79714c367578\", \"reference_dataset\": {\"path\": \"logikon/oasst1-delib\", \"id_field\": \"message_id\", \"split\": \"train\", \"revision\": null}, \"lang\": \"en\", \"created_date\": \"2023-09-28T16:57:18.955740\", \"argmap\": {}, \"scores\": {\"names\": [\"argmap_size\", \"argmap_attack_ratio\", \"argmap_avg_katz_centrality\"], \"values\": [0.0, 0.0, NaN], \"comments\": [\"\", \"\", \"\"]}, \"model\": \"meta-llama/Llama-2-13b-chat-hf\", \"metadata\": {\"logikon_config\": {\"expert_model\": \"meta-llama/Llama-2-13b-chat-hf\", \"expert_model_kwargs\": {\"temperature\": 0.7}, \"llm_framework\": \"VLLM\", \"generation_kwargs\": null, \"inputs\": [], \"metrics\": [\"argmap_size\", \"argmap_avg_katz_centrality\", \"argmap_attack_ratio\"], \"artifacts\": [\"networkx_graph\"], \"report_to\": []}, \"logikon_version\": \"0.0.1-dev0\"}}\n",
      "{\"id\": \"5c7c01f7-a945-44da-96c2-a575b6299c57\", \"reference_id\": \"c5b6c380-d24d-475b-89a1-5ccd672f1f08\", \"reference_dataset\": {\"path\": \"logikon/oasst1-delib\", \"id_field\": \"message_id\", \"split\": \"train\", \"revision\": null}, \"lang\": \"en\", \"created_date\": \"2023-09-28T16:57:22.682468\", \"argmap\": {}, \"scores\": {\"names\": [\"argmap_size\", \"argmap_attack_ratio\", \"argmap_avg_katz_centrality\"], \"values\": [0.0, 0.0, NaN], \"comments\": [\"\", \"\", \"\"]}, \"model\": \"meta-llama/Llama-2-13b-chat-hf\", \"metadata\": {\"logikon_config\": {\"expert_model\": \"meta-llama/Llama-2-13b-chat-hf\", \"expert_model_kwargs\": {\"temperature\": 0.7}, \"llm_framework\": \"VLLM\", \"generation_kwargs\": null, \"inputs\": [], \"metrics\": [\"argmap_size\", \"argmap_avg_katz_centrality\", \"argmap_attack_ratio\"], \"artifacts\": [\"networkx_graph\"], \"report_to\": []}, \"logikon_version\": \"0.0.1-dev0\"}}\n",
      "{\"id\": \"7b88cbb3-4821-4fe3-a99a-90234ecfa460\", \"reference_id\": \"c9bd7ca4-3ddf-4238-8a16-2e6774fca67c\", \"reference_dataset\": {\"path\": \"logikon/oasst1-delib\", \"id_field\": \"message_id\", \"split\": \"train\", \"revision\": null}, \"lang\": \"en\", \"created_date\": \"2023-09-28T16:57:29.913418\", \"argmap\": {}, \"scores\": {\"names\": [\"argmap_size\", \"argmap_attack_ratio\", \"argmap_avg_katz_centrality\"], \"values\": [0.0, 0.0, NaN], \"comments\": [\"\", \"\", \"\"]}, \"model\": \"meta-llama/Llama-2-13b-chat-hf\", \"metadata\": {\"logikon_config\": {\"expert_model\": \"meta-llama/Llama-2-13b-chat-hf\", \"expert_model_kwargs\": {\"temperature\": 0.7}, \"llm_framework\": \"VLLM\", \"generation_kwargs\": null, \"inputs\": [], \"metrics\": [\"argmap_size\", \"argmap_avg_katz_centrality\", \"argmap_attack_ratio\"], \"artifacts\": [\"networkx_graph\"], \"report_to\": []}, \"logikon_version\": \"0.0.1-dev0\"}}\n",
      "{\"id\": \"e7883f74-dd1d-4446-8e39-9136f9c37c08\", \"reference_id\": \"f670491c-9762-4e04-9409-f587cfff19eb\", \"reference_dataset\": {\"path\": \"logikon/oasst1-delib\", \"id_field\": \"message_id\", \"split\": \"train\", \"revision\": null}, \"lang\": \"en\", \"created_date\": \"2023-09-28T16:57:34.108143\", \"argmap\": {}, \"scores\": {\"names\": [\"argmap_size\", \"argmap_attack_ratio\", \"argmap_avg_katz_centrality\"], \"values\": [0.0, 0.0, NaN], \"comments\": [\"\", \"\", \"\"]}, \"model\": \"meta-llama/Llama-2-13b-chat-hf\", \"metadata\": {\"logikon_config\": {\"expert_model\": \"meta-llama/Llama-2-13b-chat-hf\", \"expert_model_kwargs\": {\"temperature\": 0.7}, \"llm_framework\": \"VLLM\", \"generation_kwargs\": null, \"inputs\": [], \"metrics\": [\"argmap_size\", \"argmap_avg_katz_centrality\", \"argmap_attack_ratio\"], \"artifacts\": [\"networkx_graph\"], \"report_to\": []}, \"logikon_version\": \"0.0.1-dev0\"}}\n",
      "{\"id\": \"72cd81af-b5d4-45d0-b17c-bd4c5a6b1b95\", \"reference_id\": \"78becb18-c4c7-47f5-b2b2-14c3fb46dcf9\", \"reference_dataset\": {\"path\": \"logikon/oasst1-delib\", \"id_field\": \"message_id\", \"split\": \"train\", \"revision\": null}, \"lang\": \"en\", \"created_date\": \"2023-09-28T16:57:37.722038\", \"argmap\": {}, \"scores\": {\"names\": [\"argmap_size\", \"argmap_attack_ratio\", \"argmap_avg_katz_centrality\"], \"values\": [0.0, 0.0, NaN], \"comments\": [\"\", \"\", \"\"]}, \"model\": \"meta-llama/Llama-2-13b-chat-hf\", \"metadata\": {\"logikon_config\": {\"expert_model\": \"meta-llama/Llama-2-13b-chat-hf\", \"expert_model_kwargs\": {\"temperature\": 0.7}, \"llm_framework\": \"VLLM\", \"generation_kwargs\": null, \"inputs\": [], \"metrics\": [\"argmap_size\", \"argmap_avg_katz_centrality\", \"argmap_attack_ratio\"], \"artifacts\": [\"networkx_graph\"], \"report_to\": []}, \"logikon_version\": \"0.0.1-dev0\"}}\n",
      "{\"id\": \"e09f7743-6baf-4843-9ce1-c66855823a37\", \"reference_id\": \"478f5d6b-5c03-47e0-a24f-7977e9f4ff65\", \"reference_dataset\": {\"path\": \"logikon/oasst1-delib\", \"id_field\": \"message_id\", \"split\": \"train\", \"revision\": null}, \"lang\": \"en\", \"created_date\": \"2023-09-28T16:57:39.876270\", \"argmap\": {}, \"scores\": {\"names\": [\"argmap_size\", \"argmap_attack_ratio\", \"argmap_avg_katz_centrality\"], \"values\": [0.0, 0.0, NaN], \"comments\": [\"\", \"\", \"\"]}, \"model\": \"meta-llama/Llama-2-13b-chat-hf\", \"metadata\": {\"logikon_config\": {\"expert_model\": \"meta-llama/Llama-2-13b-chat-hf\", \"expert_model_kwargs\": {\"temperature\": 0.7}, \"llm_framework\": \"VLLM\", \"generation_kwargs\": null, \"inputs\": [], \"metrics\": [\"argmap_size\", \"argmap_avg_katz_centrality\", \"argmap_attack_ratio\"], \"artifacts\": [\"networkx_graph\"], \"report_to\": []}, \"logikon_version\": \"0.0.1-dev0\"}}\n",
      "{\"id\": \"7c965553-86ae-4d1c-bc07-48eb1636f0e2\", \"reference_id\": \"d2a4012b-9b2e-4700-bb2e-2b7615b386c4\", \"reference_dataset\": {\"path\": \"logikon/oasst1-delib\", \"id_field\": \"message_id\", \"split\": \"train\", \"revision\": null}, \"lang\": \"en\", \"created_date\": \"2023-09-28T16:57:43.689714\", \"argmap\": {}, \"scores\": {\"names\": [\"argmap_size\", \"argmap_attack_ratio\", \"argmap_avg_katz_centrality\"], \"values\": [0.0, 0.0, NaN], \"comments\": [\"\", \"\", \"\"]}, \"model\": \"meta-llama/Llama-2-13b-chat-hf\", \"metadata\": {\"logikon_config\": {\"expert_model\": \"meta-llama/Llama-2-13b-chat-hf\", \"expert_model_kwargs\": {\"temperature\": 0.7}, \"llm_framework\": \"VLLM\", \"generation_kwargs\": null, \"inputs\": [], \"metrics\": [\"argmap_size\", \"argmap_avg_katz_centrality\", \"argmap_attack_ratio\"], \"artifacts\": [\"networkx_graph\"], \"report_to\": []}, \"logikon_version\": \"0.0.1-dev0\"}}\n",
      "{\"id\": \"f1cce635-210b-47d1-b683-77c402b99e98\", \"reference_id\": \"56249756-8e4d-4e01-81d8-3d4ac5cf4552\", \"reference_dataset\": {\"path\": \"logikon/oasst1-delib\", \"id_field\": \"message_id\", \"split\": \"train\", \"revision\": null}, \"lang\": \"en\", \"created_date\": \"2023-09-28T16:57:49.651382\", \"argmap\": {}, \"scores\": {\"names\": [\"argmap_size\", \"argmap_attack_ratio\", \"argmap_avg_katz_centrality\"], \"values\": [0.0, 0.0, NaN], \"comments\": [\"\", \"\", \"\"]}, \"model\": \"meta-llama/Llama-2-13b-chat-hf\", \"metadata\": {\"logikon_config\": {\"expert_model\": \"meta-llama/Llama-2-13b-chat-hf\", \"expert_model_kwargs\": {\"temperature\": 0.7}, \"llm_framework\": \"VLLM\", \"generation_kwargs\": null, \"inputs\": [], \"metrics\": [\"argmap_size\", \"argmap_avg_katz_centrality\", \"argmap_attack_ratio\"], \"artifacts\": [\"networkx_graph\"], \"report_to\": []}, \"logikon_version\": \"0.0.1-dev0\"}}\n",
      "{\"id\": \"8a04c466-c011-4d5d-8bdf-dfd12abdb977\", \"reference_id\": \"5b1eacf6-136a-49e1-986f-92f7fc4962ac\", \"reference_dataset\": {\"path\": \"logikon/oasst1-delib\", \"id_field\": \"message_id\", \"split\": \"train\", \"revision\": null}, \"lang\": \"en\", \"created_date\": \"2023-09-28T16:57:52.465789\", \"argmap\": {}, \"scores\": {\"names\": [\"argmap_size\", \"argmap_attack_ratio\", \"argmap_avg_katz_centrality\"], \"values\": [0.0, 0.0, NaN], \"comments\": [\"\", \"\", \"\"]}, \"model\": \"meta-llama/Llama-2-13b-chat-hf\", \"metadata\": {\"logikon_config\": {\"expert_model\": \"meta-llama/Llama-2-13b-chat-hf\", \"expert_model_kwargs\": {\"temperature\": 0.7}, \"llm_framework\": \"VLLM\", \"generation_kwargs\": null, \"inputs\": [], \"metrics\": [\"argmap_size\", \"argmap_avg_katz_centrality\", \"argmap_attack_ratio\"], \"artifacts\": [\"networkx_graph\"], \"report_to\": []}, \"logikon_version\": \"0.0.1-dev0\"}}\n",
      "{\"id\": \"b40f9d71-c1de-49b2-bb5f-38a6b7bbc3be\", \"reference_id\": \"3de0f282-65d0-4796-8870-d42ec5f095ff\", \"reference_dataset\": {\"path\": \"logikon/oasst1-delib\", \"id_field\": \"message_id\", \"split\": \"train\", \"revision\": null}, \"lang\": \"en\", \"created_date\": \"2023-09-28T16:58:00.645589\", \"argmap\": {\"directed\": true, \"multigraph\": false, \"graph\": {}, \"nodes\": [{\"text\": \"Developers have concerns about the changes in Manifest V3 that limit extension functionality and access to user data, potentially breaking existing extensions and hindering innovation.\", \"label\": \"Claim-1\", \"annotations\": [], \"nodeType\": \"proposition\", \"id\": \"0f418b16-398c-4c14-ab1a-b51335d27a0a\"}], \"links\": []}, \"scores\": {\"names\": [\"argmap_size\", \"argmap_attack_ratio\", \"argmap_avg_katz_centrality\"], \"values\": [1.0, 0.0, 1.0], \"comments\": [\"\", \"\", \"\"]}, \"model\": \"meta-llama/Llama-2-13b-chat-hf\", \"metadata\": {\"logikon_config\": {\"expert_model\": \"meta-llama/Llama-2-13b-chat-hf\", \"expert_model_kwargs\": {\"temperature\": 0.7}, \"llm_framework\": \"VLLM\", \"generation_kwargs\": null, \"inputs\": [], \"metrics\": [\"argmap_size\", \"argmap_avg_katz_centrality\", \"argmap_attack_ratio\"], \"artifacts\": [\"networkx_graph\"], \"report_to\": []}, \"logikon_version\": \"0.0.1-dev0\"}}\n",
      "{\"id\": \"5f256d79-3dda-48e0-a5f7-ca580c797a6b\", \"reference_id\": \"156c843c-9c91-4bba-8db5-64f5a2ebc860\", \"reference_dataset\": {\"path\": \"logikon/oasst1-delib\", \"id_field\": \"message_id\", \"split\": \"train\", \"revision\": null}, \"lang\": \"en\", \"created_date\": \"2023-09-28T16:58:04.070318\", \"argmap\": {}, \"scores\": {\"names\": [\"argmap_size\", \"argmap_attack_ratio\", \"argmap_avg_katz_centrality\"], \"values\": [0.0, 0.0, NaN], \"comments\": [\"\", \"\", \"\"]}, \"model\": \"meta-llama/Llama-2-13b-chat-hf\", \"metadata\": {\"logikon_config\": {\"expert_model\": \"meta-llama/Llama-2-13b-chat-hf\", \"expert_model_kwargs\": {\"temperature\": 0.7}, \"llm_framework\": \"VLLM\", \"generation_kwargs\": null, \"inputs\": [], \"metrics\": [\"argmap_size\", \"argmap_avg_katz_centrality\", \"argmap_attack_ratio\"], \"artifacts\": [\"networkx_graph\"], \"report_to\": []}, \"logikon_version\": \"0.0.1-dev0\"}}\n",
      "{\"id\": \"31edeb57-96ec-4511-b2c3-fcac0ce57b31\", \"reference_id\": \"639ddb93-5eb4-4343-b370-71b0e0bfcc33\", \"reference_dataset\": {\"path\": \"logikon/oasst1-delib\", \"id_field\": \"message_id\", \"split\": \"train\", \"revision\": null}, \"lang\": \"en\", \"created_date\": \"2023-09-28T16:58:05.588910\", \"argmap\": {}, \"scores\": {\"names\": [\"argmap_size\", \"argmap_attack_ratio\", \"argmap_avg_katz_centrality\"], \"values\": [0.0, 0.0, NaN], \"comments\": [\"\", \"\", \"\"]}, \"model\": \"meta-llama/Llama-2-13b-chat-hf\", \"metadata\": {\"logikon_config\": {\"expert_model\": \"meta-llama/Llama-2-13b-chat-hf\", \"expert_model_kwargs\": {\"temperature\": 0.7}, \"llm_framework\": \"VLLM\", \"generation_kwargs\": null, \"inputs\": [], \"metrics\": [\"argmap_size\", \"argmap_avg_katz_centrality\", \"argmap_attack_ratio\"], \"artifacts\": [\"networkx_graph\"], \"report_to\": []}, \"logikon_version\": \"0.0.1-dev0\"}}\n",
      "{\"id\": \"88748a46-b60e-4ed7-9522-b6b22fa500c7\", \"reference_id\": \"0f7894fa-bffc-475e-b2b9-7b1c0a66274c\", \"reference_dataset\": {\"path\": \"logikon/oasst1-delib\", \"id_field\": \"message_id\", \"split\": \"train\", \"revision\": null}, \"lang\": \"en\", \"created_date\": \"2023-09-28T16:58:08.590620\", \"argmap\": {}, \"scores\": {\"names\": [\"argmap_size\", \"argmap_attack_ratio\", \"argmap_avg_katz_centrality\"], \"values\": [0.0, 0.0, NaN], \"comments\": [\"\", \"\", \"\"]}, \"model\": \"meta-llama/Llama-2-13b-chat-hf\", \"metadata\": {\"logikon_config\": {\"expert_model\": \"meta-llama/Llama-2-13b-chat-hf\", \"expert_model_kwargs\": {\"temperature\": 0.7}, \"llm_framework\": \"VLLM\", \"generation_kwargs\": null, \"inputs\": [], \"metrics\": [\"argmap_size\", \"argmap_avg_katz_centrality\", \"argmap_attack_ratio\"], \"artifacts\": [\"networkx_graph\"], \"report_to\": []}, \"logikon_version\": \"0.0.1-dev0\"}}\n",
      "{\"id\": \"49fca891-7b7c-421f-a10d-509f6f9a734f\", \"reference_id\": \"1c0180c3-592e-41f6-9ef7-5958f841115f\", \"reference_dataset\": {\"path\": \"logikon/oasst1-delib\", \"id_field\": \"message_id\", \"split\": \"train\", \"revision\": null}, \"lang\": \"en\", \"created_date\": \"2023-09-28T16:58:12.727192\", \"argmap\": {}, \"scores\": {\"names\": [\"argmap_size\", \"argmap_attack_ratio\", \"argmap_avg_katz_centrality\"], \"values\": [0.0, 0.0, NaN], \"comments\": [\"\", \"\", \"\"]}, \"model\": \"meta-llama/Llama-2-13b-chat-hf\", \"metadata\": {\"logikon_config\": {\"expert_model\": \"meta-llama/Llama-2-13b-chat-hf\", \"expert_model_kwargs\": {\"temperature\": 0.7}, \"llm_framework\": \"VLLM\", \"generation_kwargs\": null, \"inputs\": [], \"metrics\": [\"argmap_size\", \"argmap_avg_katz_centrality\", \"argmap_attack_ratio\"], \"artifacts\": [\"networkx_graph\"], \"report_to\": []}, \"logikon_version\": \"0.0.1-dev0\"}}\n",
      "{\"id\": \"887c3067-a06a-4b5f-85a8-0d8ced6c4753\", \"reference_id\": \"7916cf5a-8319-4cb4-bd9d-68e7c1a03c4a\", \"reference_dataset\": {\"path\": \"logikon/oasst1-delib\", \"id_field\": \"message_id\", \"split\": \"train\", \"revision\": null}, \"lang\": \"en\", \"created_date\": \"2023-09-28T16:58:15.521663\", \"argmap\": {}, \"scores\": {\"names\": [\"argmap_size\", \"argmap_attack_ratio\", \"argmap_avg_katz_centrality\"], \"values\": [0.0, 0.0, NaN], \"comments\": [\"\", \"\", \"\"]}, \"model\": \"meta-llama/Llama-2-13b-chat-hf\", \"metadata\": {\"logikon_config\": {\"expert_model\": \"meta-llama/Llama-2-13b-chat-hf\", \"expert_model_kwargs\": {\"temperature\": 0.7}, \"llm_framework\": \"VLLM\", \"generation_kwargs\": null, \"inputs\": [], \"metrics\": [\"argmap_size\", \"argmap_avg_katz_centrality\", \"argmap_attack_ratio\"], \"artifacts\": [\"networkx_graph\"], \"report_to\": []}, \"logikon_version\": \"0.0.1-dev0\"}}\n",
      "{\"id\": \"3c98a813-2dc7-4581-abd0-5731f3a8afbe\", \"reference_id\": \"e5538d05-22cb-4e8e-a152-98a555639254\", \"reference_dataset\": {\"path\": \"logikon/oasst1-delib\", \"id_field\": \"message_id\", \"split\": \"train\", \"revision\": null}, \"lang\": \"en\", \"created_date\": \"2023-09-28T16:58:19.728639\", \"argmap\": {}, \"scores\": {\"names\": [\"argmap_size\", \"argmap_attack_ratio\", \"argmap_avg_katz_centrality\"], \"values\": [0.0, 0.0, NaN], \"comments\": [\"\", \"\", \"\"]}, \"model\": \"meta-llama/Llama-2-13b-chat-hf\", \"metadata\": {\"logikon_config\": {\"expert_model\": \"meta-llama/Llama-2-13b-chat-hf\", \"expert_model_kwargs\": {\"temperature\": 0.7}, \"llm_framework\": \"VLLM\", \"generation_kwargs\": null, \"inputs\": [], \"metrics\": [\"argmap_size\", \"argmap_avg_katz_centrality\", \"argmap_attack_ratio\"], \"artifacts\": [\"networkx_graph\"], \"report_to\": []}, \"logikon_version\": \"0.0.1-dev0\"}}\n",
      "{\"id\": \"55dd835c-f5d4-494b-a1a9-3c923a22ab46\", \"reference_id\": \"0ccd588f-c43d-423e-9e76-b6bed21801d2\", \"reference_dataset\": {\"path\": \"logikon/oasst1-delib\", \"id_field\": \"message_id\", \"split\": \"train\", \"revision\": null}, \"lang\": \"en\", \"created_date\": \"2023-09-28T16:58:23.562905\", \"argmap\": {}, \"scores\": {\"names\": [\"argmap_size\", \"argmap_attack_ratio\", \"argmap_avg_katz_centrality\"], \"values\": [0.0, 0.0, NaN], \"comments\": [\"\", \"\", \"\"]}, \"model\": \"meta-llama/Llama-2-13b-chat-hf\", \"metadata\": {\"logikon_config\": {\"expert_model\": \"meta-llama/Llama-2-13b-chat-hf\", \"expert_model_kwargs\": {\"temperature\": 0.7}, \"llm_framework\": \"VLLM\", \"generation_kwargs\": null, \"inputs\": [], \"metrics\": [\"argmap_size\", \"argmap_avg_katz_centrality\", \"argmap_attack_ratio\"], \"artifacts\": [\"networkx_graph\"], \"report_to\": []}, \"logikon_version\": \"0.0.1-dev0\"}}\n",
      "{\"id\": \"0dabd17e-0f57-470f-af06-c12a3e30e8be\", \"reference_id\": \"adb93034-8add-4e22-920d-9d3169484a00\", \"reference_dataset\": {\"path\": \"logikon/oasst1-delib\", \"id_field\": \"message_id\", \"split\": \"train\", \"revision\": null}, \"lang\": \"en\", \"created_date\": \"2023-09-28T16:58:26.830887\", \"argmap\": {}, \"scores\": {\"names\": [\"argmap_size\", \"argmap_attack_ratio\", \"argmap_avg_katz_centrality\"], \"values\": [0.0, 0.0, NaN], \"comments\": [\"\", \"\", \"\"]}, \"model\": \"meta-llama/Llama-2-13b-chat-hf\", \"metadata\": {\"logikon_config\": {\"expert_model\": \"meta-llama/Llama-2-13b-chat-hf\", \"expert_model_kwargs\": {\"temperature\": 0.7}, \"llm_framework\": \"VLLM\", \"generation_kwargs\": null, \"inputs\": [], \"metrics\": [\"argmap_size\", \"argmap_avg_katz_centrality\", \"argmap_attack_ratio\"], \"artifacts\": [\"networkx_graph\"], \"report_to\": []}, \"logikon_version\": \"0.0.1-dev0\"}}\n",
      "{\"id\": \"8a52fccd-9b7e-40bd-b3ce-b11bcde9a1b9\", \"reference_id\": \"e281cb28-712e-4b8a-a3e3-8a67f76c3d79\", \"reference_dataset\": {\"path\": \"logikon/oasst1-delib\", \"id_field\": \"message_id\", \"split\": \"train\", \"revision\": null}, \"lang\": \"en\", \"created_date\": \"2023-09-28T16:58:31.277374\", \"argmap\": {}, \"scores\": {\"names\": [\"argmap_size\", \"argmap_attack_ratio\", \"argmap_avg_katz_centrality\"], \"values\": [0.0, 0.0, NaN], \"comments\": [\"\", \"\", \"\"]}, \"model\": \"meta-llama/Llama-2-13b-chat-hf\", \"metadata\": {\"logikon_config\": {\"expert_model\": \"meta-llama/Llama-2-13b-chat-hf\", \"expert_model_kwargs\": {\"temperature\": 0.7}, \"llm_framework\": \"VLLM\", \"generation_kwargs\": null, \"inputs\": [], \"metrics\": [\"argmap_size\", \"argmap_avg_katz_centrality\", \"argmap_attack_ratio\"], \"artifacts\": [\"networkx_graph\"], \"report_to\": []}, \"logikon_version\": \"0.0.1-dev0\"}}\n",
      "{\"id\": \"71f76611-4626-4dc9-9930-839b744786c0\", \"reference_id\": \"d2b0831d-7b45-4e07-a09d-f2252d19994b\", \"reference_dataset\": {\"path\": \"logikon/oasst1-delib\", \"id_field\": \"message_id\", \"split\": \"train\", \"revision\": null}, \"lang\": \"en\", \"created_date\": \"2023-09-28T16:58:36.513209\", \"argmap\": {}, \"scores\": {\"names\": [\"argmap_size\", \"argmap_attack_ratio\", \"argmap_avg_katz_centrality\"], \"values\": [0.0, 0.0, NaN], \"comments\": [\"\", \"\", \"\"]}, \"model\": \"meta-llama/Llama-2-13b-chat-hf\", \"metadata\": {\"logikon_config\": {\"expert_model\": \"meta-llama/Llama-2-13b-chat-hf\", \"expert_model_kwargs\": {\"temperature\": 0.7}, \"llm_framework\": \"VLLM\", \"generation_kwargs\": null, \"inputs\": [], \"metrics\": [\"argmap_size\", \"argmap_avg_katz_centrality\", \"argmap_attack_ratio\"], \"artifacts\": [\"networkx_graph\"], \"report_to\": []}, \"logikon_version\": \"0.0.1-dev0\"}}\n",
      "{\"id\": \"660594a2-9602-4d06-9af4-d274b2e28dc1\", \"reference_id\": \"50aaad17-8afd-4bc4-a3a3-b2d82ede7a2b\", \"reference_dataset\": {\"path\": \"logikon/oasst1-delib\", \"id_field\": \"message_id\", \"split\": \"train\", \"revision\": null}, \"lang\": \"en\", \"created_date\": \"2023-09-28T16:58:41.540187\", \"argmap\": {}, \"scores\": {\"names\": [\"argmap_size\", \"argmap_attack_ratio\", \"argmap_avg_katz_centrality\"], \"values\": [0.0, 0.0, NaN], \"comments\": [\"\", \"\", \"\"]}, \"model\": \"meta-llama/Llama-2-13b-chat-hf\", \"metadata\": {\"logikon_config\": {\"expert_model\": \"meta-llama/Llama-2-13b-chat-hf\", \"expert_model_kwargs\": {\"temperature\": 0.7}, \"llm_framework\": \"VLLM\", \"generation_kwargs\": null, \"inputs\": [], \"metrics\": [\"argmap_size\", \"argmap_avg_katz_centrality\", \"argmap_attack_ratio\"], \"artifacts\": [\"networkx_graph\"], \"report_to\": []}, \"logikon_version\": \"0.0.1-dev0\"}}\n",
      "{\"id\": \"fb280416-a886-4266-b914-e8ae18210b35\", \"reference_id\": \"32409857-5ad8-4c13-b10c-2c0e0b5d6435\", \"reference_dataset\": {\"path\": \"logikon/oasst1-delib\", \"id_field\": \"message_id\", \"split\": \"train\", \"revision\": null}, \"lang\": \"en\", \"created_date\": \"2023-09-28T16:58:44.764692\", \"argmap\": {}, \"scores\": {\"names\": [\"argmap_size\", \"argmap_attack_ratio\", \"argmap_avg_katz_centrality\"], \"values\": [0.0, 0.0, NaN], \"comments\": [\"\", \"\", \"\"]}, \"model\": \"meta-llama/Llama-2-13b-chat-hf\", \"metadata\": {\"logikon_config\": {\"expert_model\": \"meta-llama/Llama-2-13b-chat-hf\", \"expert_model_kwargs\": {\"temperature\": 0.7}, \"llm_framework\": \"VLLM\", \"generation_kwargs\": null, \"inputs\": [], \"metrics\": [\"argmap_size\", \"argmap_avg_katz_centrality\", \"argmap_attack_ratio\"], \"artifacts\": [\"networkx_graph\"], \"report_to\": []}, \"logikon_version\": \"0.0.1-dev0\"}}\n",
      "{\"id\": \"1a34bb00-3549-4c61-9dc6-fe25cbfef72b\", \"reference_id\": \"52554da2-18d2-409c-95f9-5fcca4eea854\", \"reference_dataset\": {\"path\": \"logikon/oasst1-delib\", \"id_field\": \"message_id\", \"split\": \"train\", \"revision\": null}, \"lang\": \"en\", \"created_date\": \"2023-09-28T16:58:47.204853\", \"argmap\": {}, \"scores\": {\"names\": [\"argmap_size\", \"argmap_attack_ratio\", \"argmap_avg_katz_centrality\"], \"values\": [0.0, 0.0, NaN], \"comments\": [\"\", \"\", \"\"]}, \"model\": \"meta-llama/Llama-2-13b-chat-hf\", \"metadata\": {\"logikon_config\": {\"expert_model\": \"meta-llama/Llama-2-13b-chat-hf\", \"expert_model_kwargs\": {\"temperature\": 0.7}, \"llm_framework\": \"VLLM\", \"generation_kwargs\": null, \"inputs\": [], \"metrics\": [\"argmap_size\", \"argmap_avg_katz_centrality\", \"argmap_attack_ratio\"], \"artifacts\": [\"networkx_graph\"], \"report_to\": []}, \"logikon_version\": \"0.0.1-dev0\"}}\n",
      "{\"id\": \"4cb87718-f96a-4955-9ccd-8f2dabb47e38\", \"reference_id\": \"e7589401-1fa6-4010-9b51-f908c4ae0bff\", \"reference_dataset\": {\"path\": \"logikon/oasst1-delib\", \"id_field\": \"message_id\", \"split\": \"train\", \"revision\": null}, \"lang\": \"en\", \"created_date\": \"2023-09-28T16:58:50.664326\", \"argmap\": {}, \"scores\": {\"names\": [\"argmap_size\", \"argmap_attack_ratio\", \"argmap_avg_katz_centrality\"], \"values\": [0.0, 0.0, NaN], \"comments\": [\"\", \"\", \"\"]}, \"model\": \"meta-llama/Llama-2-13b-chat-hf\", \"metadata\": {\"logikon_config\": {\"expert_model\": \"meta-llama/Llama-2-13b-chat-hf\", \"expert_model_kwargs\": {\"temperature\": 0.7}, \"llm_framework\": \"VLLM\", \"generation_kwargs\": null, \"inputs\": [], \"metrics\": [\"argmap_size\", \"argmap_avg_katz_centrality\", \"argmap_attack_ratio\"], \"artifacts\": [\"networkx_graph\"], \"report_to\": []}, \"logikon_version\": \"0.0.1-dev0\"}}\n",
      "{\"id\": \"f1ca1bb0-a268-4b79-b253-1f411928e459\", \"reference_id\": \"84c99877-5c65-4c27-bece-ce050ce57a11\", \"reference_dataset\": {\"path\": \"logikon/oasst1-delib\", \"id_field\": \"message_id\", \"split\": \"train\", \"revision\": null}, \"lang\": \"en\", \"created_date\": \"2023-09-28T16:58:53.049290\", \"argmap\": {}, \"scores\": {\"names\": [\"argmap_size\", \"argmap_attack_ratio\", \"argmap_avg_katz_centrality\"], \"values\": [0.0, 0.0, NaN], \"comments\": [\"\", \"\", \"\"]}, \"model\": \"meta-llama/Llama-2-13b-chat-hf\", \"metadata\": {\"logikon_config\": {\"expert_model\": \"meta-llama/Llama-2-13b-chat-hf\", \"expert_model_kwargs\": {\"temperature\": 0.7}, \"llm_framework\": \"VLLM\", \"generation_kwargs\": null, \"inputs\": [], \"metrics\": [\"argmap_size\", \"argmap_avg_katz_centrality\", \"argmap_attack_ratio\"], \"artifacts\": [\"networkx_graph\"], \"report_to\": []}, \"logikon_version\": \"0.0.1-dev0\"}}\n",
      "{\"id\": \"ee1e2070-f61c-44b0-96a5-796bde6c0c0a\", \"reference_id\": \"bfcb3355-14bd-4dea-b662-20e9252e77e2\", \"reference_dataset\": {\"path\": \"logikon/oasst1-delib\", \"id_field\": \"message_id\", \"split\": \"train\", \"revision\": null}, \"lang\": \"en\", \"created_date\": \"2023-09-28T16:58:56.885563\", \"argmap\": {}, \"scores\": {\"names\": [\"argmap_size\", \"argmap_attack_ratio\", \"argmap_avg_katz_centrality\"], \"values\": [0.0, 0.0, NaN], \"comments\": [\"\", \"\", \"\"]}, \"model\": \"meta-llama/Llama-2-13b-chat-hf\", \"metadata\": {\"logikon_config\": {\"expert_model\": \"meta-llama/Llama-2-13b-chat-hf\", \"expert_model_kwargs\": {\"temperature\": 0.7}, \"llm_framework\": \"VLLM\", \"generation_kwargs\": null, \"inputs\": [], \"metrics\": [\"argmap_size\", \"argmap_avg_katz_centrality\", \"argmap_attack_ratio\"], \"artifacts\": [\"networkx_graph\"], \"report_to\": []}, \"logikon_version\": \"0.0.1-dev0\"}}\n",
      "{\"id\": \"cca714ca-ea39-40db-b0ec-8ffe3a8f9678\", \"reference_id\": \"ea8624f6-6355-40f3-b655-0ba8e1d48b28\", \"reference_dataset\": {\"path\": \"logikon/oasst1-delib\", \"id_field\": \"message_id\", \"split\": \"train\", \"revision\": null}, \"lang\": \"en\", \"created_date\": \"2023-09-28T16:59:02.059347\", \"argmap\": {}, \"scores\": {\"names\": [\"argmap_size\", \"argmap_attack_ratio\", \"argmap_avg_katz_centrality\"], \"values\": [0.0, 0.0, NaN], \"comments\": [\"\", \"\", \"\"]}, \"model\": \"meta-llama/Llama-2-13b-chat-hf\", \"metadata\": {\"logikon_config\": {\"expert_model\": \"meta-llama/Llama-2-13b-chat-hf\", \"expert_model_kwargs\": {\"temperature\": 0.7}, \"llm_framework\": \"VLLM\", \"generation_kwargs\": null, \"inputs\": [], \"metrics\": [\"argmap_size\", \"argmap_avg_katz_centrality\", \"argmap_attack_ratio\"], \"artifacts\": [\"networkx_graph\"], \"report_to\": []}, \"logikon_version\": \"0.0.1-dev0\"}}\n",
      "{\"id\": \"6342e4d8-fb2a-453b-9cfa-4d6c27e7646e\", \"reference_id\": \"82854d7d-20f3-40c8-bd42-a5110331640b\", \"reference_dataset\": {\"path\": \"logikon/oasst1-delib\", \"id_field\": \"message_id\", \"split\": \"train\", \"revision\": null}, \"lang\": \"en\", \"created_date\": \"2023-09-28T16:59:08.434874\", \"argmap\": {}, \"scores\": {\"names\": [\"argmap_size\", \"argmap_attack_ratio\", \"argmap_avg_katz_centrality\"], \"values\": [0.0, 0.0, NaN], \"comments\": [\"\", \"\", \"\"]}, \"model\": \"meta-llama/Llama-2-13b-chat-hf\", \"metadata\": {\"logikon_config\": {\"expert_model\": \"meta-llama/Llama-2-13b-chat-hf\", \"expert_model_kwargs\": {\"temperature\": 0.7}, \"llm_framework\": \"VLLM\", \"generation_kwargs\": null, \"inputs\": [], \"metrics\": [\"argmap_size\", \"argmap_avg_katz_centrality\", \"argmap_attack_ratio\"], \"artifacts\": [\"networkx_graph\"], \"report_to\": []}, \"logikon_version\": \"0.0.1-dev0\"}}\n",
      "{\"id\": \"05e95f8e-817e-4f13-a2bc-e66ea118aa7b\", \"reference_id\": \"75e238d3-1b98-43c1-86b6-9760e5828ca6\", \"reference_dataset\": {\"path\": \"logikon/oasst1-delib\", \"id_field\": \"message_id\", \"split\": \"train\", \"revision\": null}, \"lang\": \"en\", \"created_date\": \"2023-09-28T17:02:45.913028\", \"argmap\": {}, \"scores\": {\"names\": [\"argmap_size\", \"argmap_attack_ratio\", \"argmap_avg_katz_centrality\"], \"values\": [0.0, 0.0, NaN], \"comments\": [\"\", \"\", \"\"]}, \"model\": \"meta-llama/Llama-2-13b-chat-hf\", \"metadata\": {\"logikon_config\": {\"expert_model\": \"meta-llama/Llama-2-13b-chat-hf\", \"expert_model_kwargs\": {\"temperature\": 0.7}, \"llm_framework\": \"VLLM\", \"generation_kwargs\": null, \"inputs\": [], \"metrics\": [\"argmap_size\", \"argmap_avg_katz_centrality\", \"argmap_attack_ratio\"], \"artifacts\": [\"networkx_graph\"], \"report_to\": []}, \"logikon_version\": \"0.0.1-dev0\"}}\n",
      "{\"id\": \"8d14a986-341d-4ed7-b0d7-2232c64b501a\", \"reference_id\": \"2f6cf6da-2abc-48e3-ba62-6352be52a023\", \"reference_dataset\": {\"path\": \"logikon/oasst1-delib\", \"id_field\": \"message_id\", \"split\": \"train\", \"revision\": null}, \"lang\": \"en\", \"created_date\": \"2023-09-28T17:02:55.369899\", \"argmap\": {\"directed\": true, \"multigraph\": false, \"graph\": {}, \"nodes\": [{\"text\": \"One approach is to focus on improving hand-eye coordination, finger dexterity, and memorization through repetition and practice.\", \"label\": \"Claim-1\", \"annotations\": [], \"nodeType\": \"proposition\", \"id\": \"02821b67-fc29-462f-90ec-e8129b919608\"}], \"links\": []}, \"scores\": {\"names\": [\"argmap_size\", \"argmap_attack_ratio\", \"argmap_avg_katz_centrality\"], \"values\": [1.0, 0.0, 1.0], \"comments\": [\"\", \"\", \"\"]}, \"model\": \"meta-llama/Llama-2-13b-chat-hf\", \"metadata\": {\"logikon_config\": {\"expert_model\": \"meta-llama/Llama-2-13b-chat-hf\", \"expert_model_kwargs\": {\"temperature\": 0.7}, \"llm_framework\": \"VLLM\", \"generation_kwargs\": null, \"inputs\": [], \"metrics\": [\"argmap_size\", \"argmap_avg_katz_centrality\", \"argmap_attack_ratio\"], \"artifacts\": [\"networkx_graph\"], \"report_to\": []}, \"logikon_version\": \"0.0.1-dev0\"}}\n",
      "{\"id\": \"4b10e89c-b52c-471e-954f-c31f4ccaf9f2\", \"reference_id\": \"d02cdb70-db1d-443c-9d65-232167c84d12\", \"reference_dataset\": {\"path\": \"logikon/oasst1-delib\", \"id_field\": \"message_id\", \"split\": \"train\", \"revision\": null}, \"lang\": \"en\", \"created_date\": \"2023-09-28T17:03:00.188845\", \"argmap\": {}, \"scores\": {\"names\": [\"argmap_size\", \"argmap_attack_ratio\", \"argmap_avg_katz_centrality\"], \"values\": [0.0, 0.0, NaN], \"comments\": [\"\", \"\", \"\"]}, \"model\": \"meta-llama/Llama-2-13b-chat-hf\", \"metadata\": {\"logikon_config\": {\"expert_model\": \"meta-llama/Llama-2-13b-chat-hf\", \"expert_model_kwargs\": {\"temperature\": 0.7}, \"llm_framework\": \"VLLM\", \"generation_kwargs\": null, \"inputs\": [], \"metrics\": [\"argmap_size\", \"argmap_avg_katz_centrality\", \"argmap_attack_ratio\"], \"artifacts\": [\"networkx_graph\"], \"report_to\": []}, \"logikon_version\": \"0.0.1-dev0\"}}\n",
      "{\"id\": \"b9b2f451-ad82-461b-bcb9-2664773fae93\", \"reference_id\": \"96569f40-01c0-48d2-9ed2-7afe1cbd99b1\", \"reference_dataset\": {\"path\": \"logikon/oasst1-delib\", \"id_field\": \"message_id\", \"split\": \"train\", \"revision\": null}, \"lang\": \"en\", \"created_date\": \"2023-09-28T17:03:03.208793\", \"argmap\": {}, \"scores\": {\"names\": [\"argmap_size\", \"argmap_attack_ratio\", \"argmap_avg_katz_centrality\"], \"values\": [0.0, 0.0, NaN], \"comments\": [\"\", \"\", \"\"]}, \"model\": \"meta-llama/Llama-2-13b-chat-hf\", \"metadata\": {\"logikon_config\": {\"expert_model\": \"meta-llama/Llama-2-13b-chat-hf\", \"expert_model_kwargs\": {\"temperature\": 0.7}, \"llm_framework\": \"VLLM\", \"generation_kwargs\": null, \"inputs\": [], \"metrics\": [\"argmap_size\", \"argmap_avg_katz_centrality\", \"argmap_attack_ratio\"], \"artifacts\": [\"networkx_graph\"], \"report_to\": []}, \"logikon_version\": \"0.0.1-dev0\"}}\n",
      "{\"id\": \"8ea92684-5ab7-4cbf-bb3b-c0723966f3ef\", \"reference_id\": \"a5c32ae4-fa31-4a5e-97f3-e97ea3f7b629\", \"reference_dataset\": {\"path\": \"logikon/oasst1-delib\", \"id_field\": \"message_id\", \"split\": \"train\", \"revision\": null}, \"lang\": \"en\", \"created_date\": \"2023-09-28T17:03:08.404509\", \"argmap\": {}, \"scores\": {\"names\": [\"argmap_size\", \"argmap_attack_ratio\", \"argmap_avg_katz_centrality\"], \"values\": [0.0, 0.0, NaN], \"comments\": [\"\", \"\", \"\"]}, \"model\": \"meta-llama/Llama-2-13b-chat-hf\", \"metadata\": {\"logikon_config\": {\"expert_model\": \"meta-llama/Llama-2-13b-chat-hf\", \"expert_model_kwargs\": {\"temperature\": 0.7}, \"llm_framework\": \"VLLM\", \"generation_kwargs\": null, \"inputs\": [], \"metrics\": [\"argmap_size\", \"argmap_avg_katz_centrality\", \"argmap_attack_ratio\"], \"artifacts\": [\"networkx_graph\"], \"report_to\": []}, \"logikon_version\": \"0.0.1-dev0\"}}\n",
      "{\"id\": \"b9517f13-23e7-4d46-852c-677b1c7bb038\", \"reference_id\": \"ac156830-7579-4817-a30e-3022801f2ea9\", \"reference_dataset\": {\"path\": \"logikon/oasst1-delib\", \"id_field\": \"message_id\", \"split\": \"train\", \"revision\": null}, \"lang\": \"en\", \"created_date\": \"2023-09-28T17:03:10.103787\", \"argmap\": {}, \"scores\": {\"names\": [\"argmap_size\", \"argmap_attack_ratio\", \"argmap_avg_katz_centrality\"], \"values\": [0.0, 0.0, NaN], \"comments\": [\"\", \"\", \"\"]}, \"model\": \"meta-llama/Llama-2-13b-chat-hf\", \"metadata\": {\"logikon_config\": {\"expert_model\": \"meta-llama/Llama-2-13b-chat-hf\", \"expert_model_kwargs\": {\"temperature\": 0.7}, \"llm_framework\": \"VLLM\", \"generation_kwargs\": null, \"inputs\": [], \"metrics\": [\"argmap_size\", \"argmap_avg_katz_centrality\", \"argmap_attack_ratio\"], \"artifacts\": [\"networkx_graph\"], \"report_to\": []}, \"logikon_version\": \"0.0.1-dev0\"}}\n",
      "{\"id\": \"b7cc2106-294f-4156-bc80-0762c5785248\", \"reference_id\": \"52d60fd8-a605-4e7b-8113-d354b60fe43b\", \"reference_dataset\": {\"path\": \"logikon/oasst1-delib\", \"id_field\": \"message_id\", \"split\": \"train\", \"revision\": null}, \"lang\": \"en\", \"created_date\": \"2023-09-28T17:03:12.753750\", \"argmap\": {}, \"scores\": {\"names\": [\"argmap_size\", \"argmap_attack_ratio\", \"argmap_avg_katz_centrality\"], \"values\": [0.0, 0.0, NaN], \"comments\": [\"\", \"\", \"\"]}, \"model\": \"meta-llama/Llama-2-13b-chat-hf\", \"metadata\": {\"logikon_config\": {\"expert_model\": \"meta-llama/Llama-2-13b-chat-hf\", \"expert_model_kwargs\": {\"temperature\": 0.7}, \"llm_framework\": \"VLLM\", \"generation_kwargs\": null, \"inputs\": [], \"metrics\": [\"argmap_size\", \"argmap_avg_katz_centrality\", \"argmap_attack_ratio\"], \"artifacts\": [\"networkx_graph\"], \"report_to\": []}, \"logikon_version\": \"0.0.1-dev0\"}}\n",
      "{\"id\": \"8edbda28-4053-44dd-885c-bc066c93e663\", \"reference_id\": \"f46ffb2d-eb8a-4edf-9e95-78e528dfaef7\", \"reference_dataset\": {\"path\": \"logikon/oasst1-delib\", \"id_field\": \"message_id\", \"split\": \"train\", \"revision\": null}, \"lang\": \"en\", \"created_date\": \"2023-09-28T17:03:17.033081\", \"argmap\": {}, \"scores\": {\"names\": [\"argmap_size\", \"argmap_attack_ratio\", \"argmap_avg_katz_centrality\"], \"values\": [0.0, 0.0, NaN], \"comments\": [\"\", \"\", \"\"]}, \"model\": \"meta-llama/Llama-2-13b-chat-hf\", \"metadata\": {\"logikon_config\": {\"expert_model\": \"meta-llama/Llama-2-13b-chat-hf\", \"expert_model_kwargs\": {\"temperature\": 0.7}, \"llm_framework\": \"VLLM\", \"generation_kwargs\": null, \"inputs\": [], \"metrics\": [\"argmap_size\", \"argmap_avg_katz_centrality\", \"argmap_attack_ratio\"], \"artifacts\": [\"networkx_graph\"], \"report_to\": []}, \"logikon_version\": \"0.0.1-dev0\"}}\n",
      "{\"id\": \"84d0bba9-5550-4159-967d-9bff6979cf7d\", \"reference_id\": \"f884e081-d73b-4d2d-9b5c-1b15295cd867\", \"reference_dataset\": {\"path\": \"logikon/oasst1-delib\", \"id_field\": \"message_id\", \"split\": \"train\", \"revision\": null}, \"lang\": \"en\", \"created_date\": \"2023-09-28T17:03:21.552636\", \"argmap\": {}, \"scores\": {\"names\": [\"argmap_size\", \"argmap_attack_ratio\", \"argmap_avg_katz_centrality\"], \"values\": [0.0, 0.0, NaN], \"comments\": [\"\", \"\", \"\"]}, \"model\": \"meta-llama/Llama-2-13b-chat-hf\", \"metadata\": {\"logikon_config\": {\"expert_model\": \"meta-llama/Llama-2-13b-chat-hf\", \"expert_model_kwargs\": {\"temperature\": 0.7}, \"llm_framework\": \"VLLM\", \"generation_kwargs\": null, \"inputs\": [], \"metrics\": [\"argmap_size\", \"argmap_avg_katz_centrality\", \"argmap_attack_ratio\"], \"artifacts\": [\"networkx_graph\"], \"report_to\": []}, \"logikon_version\": \"0.0.1-dev0\"}}\n",
      "{\"id\": \"e5b16e7e-7bab-4df9-b511-10303699d7d2\", \"reference_id\": \"5f655c29-88a7-44a3-8f18-7572fea2efc5\", \"reference_dataset\": {\"path\": \"logikon/oasst1-delib\", \"id_field\": \"message_id\", \"split\": \"train\", \"revision\": null}, \"lang\": \"en\", \"created_date\": \"2023-09-28T17:03:25.615406\", \"argmap\": {}, \"scores\": {\"names\": [\"argmap_size\", \"argmap_attack_ratio\", \"argmap_avg_katz_centrality\"], \"values\": [0.0, 0.0, NaN], \"comments\": [\"\", \"\", \"\"]}, \"model\": \"meta-llama/Llama-2-13b-chat-hf\", \"metadata\": {\"logikon_config\": {\"expert_model\": \"meta-llama/Llama-2-13b-chat-hf\", \"expert_model_kwargs\": {\"temperature\": 0.7}, \"llm_framework\": \"VLLM\", \"generation_kwargs\": null, \"inputs\": [], \"metrics\": [\"argmap_size\", \"argmap_avg_katz_centrality\", \"argmap_attack_ratio\"], \"artifacts\": [\"networkx_graph\"], \"report_to\": []}, \"logikon_version\": \"0.0.1-dev0\"}}\n",
      "{\"id\": \"4bf009d0-2ad0-4a01-be2f-e213e472c4c2\", \"reference_id\": \"b97210f9-acff-4339-a034-e8b187094a14\", \"reference_dataset\": {\"path\": \"logikon/oasst1-delib\", \"id_field\": \"message_id\", \"split\": \"train\", \"revision\": null}, \"lang\": \"en\", \"created_date\": \"2023-09-28T17:03:33.636163\", \"argmap\": {\"directed\": true, \"multigraph\": false, \"graph\": {}, \"nodes\": [{\"text\": \"Solidity and Rust\", \"label\": \"Claim-1\", \"annotations\": [], \"nodeType\": \"proposition\", \"id\": \"424b5916-d39b-4ed6-bf08-8828702728e5\"}], \"links\": []}, \"scores\": {\"names\": [\"argmap_size\", \"argmap_attack_ratio\", \"argmap_avg_katz_centrality\"], \"values\": [1.0, 0.0, 1.0], \"comments\": [\"\", \"\", \"\"]}, \"model\": \"meta-llama/Llama-2-13b-chat-hf\", \"metadata\": {\"logikon_config\": {\"expert_model\": \"meta-llama/Llama-2-13b-chat-hf\", \"expert_model_kwargs\": {\"temperature\": 0.7}, \"llm_framework\": \"VLLM\", \"generation_kwargs\": null, \"inputs\": [], \"metrics\": [\"argmap_size\", \"argmap_avg_katz_centrality\", \"argmap_attack_ratio\"], \"artifacts\": [\"networkx_graph\"], \"report_to\": []}, \"logikon_version\": \"0.0.1-dev0\"}}\n",
      "{\"id\": \"91d3806a-f8d1-4b8f-bb54-94c7ac29ca42\", \"reference_id\": \"a2bd7466-112c-4843-9926-0e17d330867d\", \"reference_dataset\": {\"path\": \"logikon/oasst1-delib\", \"id_field\": \"message_id\", \"split\": \"train\", \"revision\": null}, \"lang\": \"en\", \"created_date\": \"2023-09-28T17:03:37.769041\", \"argmap\": {}, \"scores\": {\"names\": [\"argmap_size\", \"argmap_attack_ratio\", \"argmap_avg_katz_centrality\"], \"values\": [0.0, 0.0, NaN], \"comments\": [\"\", \"\", \"\"]}, \"model\": \"meta-llama/Llama-2-13b-chat-hf\", \"metadata\": {\"logikon_config\": {\"expert_model\": \"meta-llama/Llama-2-13b-chat-hf\", \"expert_model_kwargs\": {\"temperature\": 0.7}, \"llm_framework\": \"VLLM\", \"generation_kwargs\": null, \"inputs\": [], \"metrics\": [\"argmap_size\", \"argmap_avg_katz_centrality\", \"argmap_attack_ratio\"], \"artifacts\": [\"networkx_graph\"], \"report_to\": []}, \"logikon_version\": \"0.0.1-dev0\"}}\n",
      "{\"id\": \"0b0c51ee-789a-4c3f-b287-07c0ab612fc7\", \"reference_id\": \"43c7f19f-d859-4525-b2af-70c1cfe4b1f1\", \"reference_dataset\": {\"path\": \"logikon/oasst1-delib\", \"id_field\": \"message_id\", \"split\": \"train\", \"revision\": null}, \"lang\": \"en\", \"created_date\": \"2023-09-28T17:03:50.661427\", \"argmap\": {\"directed\": true, \"multigraph\": false, \"graph\": {}, \"nodes\": [{\"text\": \"Pros:\", \"label\": \"Claim-1\", \"annotations\": [], \"nodeType\": \"proposition\", \"id\": \"f4666ab7-b14a-4752-9020-ec7fb163c5c5\"}], \"links\": []}, \"scores\": {\"names\": [\"argmap_size\", \"argmap_attack_ratio\", \"argmap_avg_katz_centrality\"], \"values\": [1.0, 0.0, 1.0], \"comments\": [\"\", \"\", \"\"]}, \"model\": \"meta-llama/Llama-2-13b-chat-hf\", \"metadata\": {\"logikon_config\": {\"expert_model\": \"meta-llama/Llama-2-13b-chat-hf\", \"expert_model_kwargs\": {\"temperature\": 0.7}, \"llm_framework\": \"VLLM\", \"generation_kwargs\": null, \"inputs\": [], \"metrics\": [\"argmap_size\", \"argmap_avg_katz_centrality\", \"argmap_attack_ratio\"], \"artifacts\": [\"networkx_graph\"], \"report_to\": []}, \"logikon_version\": \"0.0.1-dev0\"}}\n",
      "{\"id\": \"5ec911ce-4a44-4006-9888-b15acfdb9da6\", \"reference_id\": \"d1472aef-4b4d-4d11-bedb-ae193247a7ea\", \"reference_dataset\": {\"path\": \"logikon/oasst1-delib\", \"id_field\": \"message_id\", \"split\": \"train\", \"revision\": null}, \"lang\": \"en\", \"created_date\": \"2023-09-28T17:03:52.416251\", \"argmap\": {}, \"scores\": {\"names\": [\"argmap_size\", \"argmap_attack_ratio\", \"argmap_avg_katz_centrality\"], \"values\": [0.0, 0.0, NaN], \"comments\": [\"\", \"\", \"\"]}, \"model\": \"meta-llama/Llama-2-13b-chat-hf\", \"metadata\": {\"logikon_config\": {\"expert_model\": \"meta-llama/Llama-2-13b-chat-hf\", \"expert_model_kwargs\": {\"temperature\": 0.7}, \"llm_framework\": \"VLLM\", \"generation_kwargs\": null, \"inputs\": [], \"metrics\": [\"argmap_size\", \"argmap_avg_katz_centrality\", \"argmap_attack_ratio\"], \"artifacts\": [\"networkx_graph\"], \"report_to\": []}, \"logikon_version\": \"0.0.1-dev0\"}}\n",
      "{\"id\": \"b18e8b47-1049-410d-8cdc-1c9d0a447fa8\", \"reference_id\": \"564e976e-ac90-453f-b4f9-6b43af6c78f3\", \"reference_dataset\": {\"path\": \"logikon/oasst1-delib\", \"id_field\": \"message_id\", \"split\": \"train\", \"revision\": null}, \"lang\": \"en\", \"created_date\": \"2023-09-28T17:03:55.419121\", \"argmap\": {}, \"scores\": {\"names\": [\"argmap_size\", \"argmap_attack_ratio\", \"argmap_avg_katz_centrality\"], \"values\": [0.0, 0.0, NaN], \"comments\": [\"\", \"\", \"\"]}, \"model\": \"meta-llama/Llama-2-13b-chat-hf\", \"metadata\": {\"logikon_config\": {\"expert_model\": \"meta-llama/Llama-2-13b-chat-hf\", \"expert_model_kwargs\": {\"temperature\": 0.7}, \"llm_framework\": \"VLLM\", \"generation_kwargs\": null, \"inputs\": [], \"metrics\": [\"argmap_size\", \"argmap_avg_katz_centrality\", \"argmap_attack_ratio\"], \"artifacts\": [\"networkx_graph\"], \"report_to\": []}, \"logikon_version\": \"0.0.1-dev0\"}}\n",
      "{\"id\": \"a3271148-e06d-4d78-8f2b-ddca4efa0de8\", \"reference_id\": \"e25bedfd-a785-4b98-9224-8654444cc210\", \"reference_dataset\": {\"path\": \"logikon/oasst1-delib\", \"id_field\": \"message_id\", \"split\": \"train\", \"revision\": null}, \"lang\": \"en\", \"created_date\": \"2023-09-28T17:04:08.881733\", \"argmap\": {\"directed\": true, \"multigraph\": false, \"graph\": {}, \"nodes\": [{\"text\": \"PID control is better than FLC control.\", \"label\": \"Claim-1\", \"annotations\": [], \"nodeType\": \"proposition\", \"id\": \"565b776a-f960-439e-9568-7003fe42b5bc\"}], \"links\": []}, \"scores\": {\"names\": [\"argmap_size\", \"argmap_attack_ratio\", \"argmap_avg_katz_centrality\"], \"values\": [1.0, 0.0, 1.0], \"comments\": [\"\", \"\", \"\"]}, \"model\": \"meta-llama/Llama-2-13b-chat-hf\", \"metadata\": {\"logikon_config\": {\"expert_model\": \"meta-llama/Llama-2-13b-chat-hf\", \"expert_model_kwargs\": {\"temperature\": 0.7}, \"llm_framework\": \"VLLM\", \"generation_kwargs\": null, \"inputs\": [], \"metrics\": [\"argmap_size\", \"argmap_avg_katz_centrality\", \"argmap_attack_ratio\"], \"artifacts\": [\"networkx_graph\"], \"report_to\": []}, \"logikon_version\": \"0.0.1-dev0\"}}\n",
      "{\"id\": \"9eb2c84d-ad27-4b1e-9df6-aebdb444f1bd\", \"reference_id\": \"a8899e96-d21f-4d34-a53f-288d173b3564\", \"reference_dataset\": {\"path\": \"logikon/oasst1-delib\", \"id_field\": \"message_id\", \"split\": \"train\", \"revision\": null}, \"lang\": \"en\", \"created_date\": \"2023-09-28T17:04:15.271909\", \"argmap\": {\"directed\": true, \"multigraph\": false, \"graph\": {}, \"nodes\": [{\"text\": \"(answer one)\", \"label\": \"Claim-1\", \"annotations\": [], \"nodeType\": \"proposition\", \"id\": \"af9ed446-d2fe-4d34-a656-996cfc817d01\"}], \"links\": []}, \"scores\": {\"names\": [\"argmap_size\", \"argmap_attack_ratio\", \"argmap_avg_katz_centrality\"], \"values\": [1.0, 0.0, 1.0], \"comments\": [\"\", \"\", \"\"]}, \"model\": \"meta-llama/Llama-2-13b-chat-hf\", \"metadata\": {\"logikon_config\": {\"expert_model\": \"meta-llama/Llama-2-13b-chat-hf\", \"expert_model_kwargs\": {\"temperature\": 0.7}, \"llm_framework\": \"VLLM\", \"generation_kwargs\": null, \"inputs\": [], \"metrics\": [\"argmap_size\", \"argmap_avg_katz_centrality\", \"argmap_attack_ratio\"], \"artifacts\": [\"networkx_graph\"], \"report_to\": []}, \"logikon_version\": \"0.0.1-dev0\"}}\n",
      "{\"id\": \"277bfba0-3fc3-4efe-8554-f7c4db48d0db\", \"reference_id\": \"b8ca8e0a-9616-440c-89b0-9f38b7fdf559\", \"reference_dataset\": {\"path\": \"logikon/oasst1-delib\", \"id_field\": \"message_id\", \"split\": \"train\", \"revision\": null}, \"lang\": \"en\", \"created_date\": \"2023-09-28T17:04:19.977045\", \"argmap\": {}, \"scores\": {\"names\": [\"argmap_size\", \"argmap_attack_ratio\", \"argmap_avg_katz_centrality\"], \"values\": [0.0, 0.0, NaN], \"comments\": [\"\", \"\", \"\"]}, \"model\": \"meta-llama/Llama-2-13b-chat-hf\", \"metadata\": {\"logikon_config\": {\"expert_model\": \"meta-llama/Llama-2-13b-chat-hf\", \"expert_model_kwargs\": {\"temperature\": 0.7}, \"llm_framework\": \"VLLM\", \"generation_kwargs\": null, \"inputs\": [], \"metrics\": [\"argmap_size\", \"argmap_avg_katz_centrality\", \"argmap_attack_ratio\"], \"artifacts\": [\"networkx_graph\"], \"report_to\": []}, \"logikon_version\": \"0.0.1-dev0\"}}\n",
      "{\"id\": \"0f978d5f-db49-4b71-bb9a-4b276aab4d8c\", \"reference_id\": \"94473a8a-5360-47ec-bddd-6445cad8289a\", \"reference_dataset\": {\"path\": \"logikon/oasst1-delib\", \"id_field\": \"message_id\", \"split\": \"train\", \"revision\": null}, \"lang\": \"en\", \"created_date\": \"2023-09-28T17:04:25.637802\", \"argmap\": {}, \"scores\": {\"names\": [\"argmap_size\", \"argmap_attack_ratio\", \"argmap_avg_katz_centrality\"], \"values\": [0.0, 0.0, NaN], \"comments\": [\"\", \"\", \"\"]}, \"model\": \"meta-llama/Llama-2-13b-chat-hf\", \"metadata\": {\"logikon_config\": {\"expert_model\": \"meta-llama/Llama-2-13b-chat-hf\", \"expert_model_kwargs\": {\"temperature\": 0.7}, \"llm_framework\": \"VLLM\", \"generation_kwargs\": null, \"inputs\": [], \"metrics\": [\"argmap_size\", \"argmap_avg_katz_centrality\", \"argmap_attack_ratio\"], \"artifacts\": [\"networkx_graph\"], \"report_to\": []}, \"logikon_version\": \"0.0.1-dev0\"}}\n",
      "{\"id\": \"935bf52a-7a3d-4415-b3f1-36bf85afcd58\", \"reference_id\": \"85981572-fead-4307-b9d3-cae24f6587c8\", \"reference_dataset\": {\"path\": \"logikon/oasst1-delib\", \"id_field\": \"message_id\", \"split\": \"train\", \"revision\": null}, \"lang\": \"en\", \"created_date\": \"2023-09-28T17:04:33.108624\", \"argmap\": {\"directed\": true, \"multigraph\": false, \"graph\": {}, \"nodes\": [{\"text\": \"What are the benefits of using Deno, TypeScript, and AWS S3 for a statically generated site?\", \"label\": \"Claim-1\", \"annotations\": [], \"nodeType\": \"proposition\", \"id\": \"6967b882-879a-42fe-b8df-80b80d10a001\"}], \"links\": []}, \"scores\": {\"names\": [\"argmap_size\", \"argmap_attack_ratio\", \"argmap_avg_katz_centrality\"], \"values\": [1.0, 0.0, 1.0], \"comments\": [\"\", \"\", \"\"]}, \"model\": \"meta-llama/Llama-2-13b-chat-hf\", \"metadata\": {\"logikon_config\": {\"expert_model\": \"meta-llama/Llama-2-13b-chat-hf\", \"expert_model_kwargs\": {\"temperature\": 0.7}, \"llm_framework\": \"VLLM\", \"generation_kwargs\": null, \"inputs\": [], \"metrics\": [\"argmap_size\", \"argmap_avg_katz_centrality\", \"argmap_attack_ratio\"], \"artifacts\": [\"networkx_graph\"], \"report_to\": []}, \"logikon_version\": \"0.0.1-dev0\"}}\n",
      "{\"id\": \"c18b0141-88df-4fe0-8e53-81df2fcc99ae\", \"reference_id\": \"97089c32-876a-4289-ae27-d3d93064c730\", \"reference_dataset\": {\"path\": \"logikon/oasst1-delib\", \"id_field\": \"message_id\", \"split\": \"train\", \"revision\": null}, \"lang\": \"en\", \"created_date\": \"2023-09-28T17:04:38.683570\", \"argmap\": {}, \"scores\": {\"names\": [\"argmap_size\", \"argmap_attack_ratio\", \"argmap_avg_katz_centrality\"], \"values\": [0.0, 0.0, NaN], \"comments\": [\"\", \"\", \"\"]}, \"model\": \"meta-llama/Llama-2-13b-chat-hf\", \"metadata\": {\"logikon_config\": {\"expert_model\": \"meta-llama/Llama-2-13b-chat-hf\", \"expert_model_kwargs\": {\"temperature\": 0.7}, \"llm_framework\": \"VLLM\", \"generation_kwargs\": null, \"inputs\": [], \"metrics\": [\"argmap_size\", \"argmap_avg_katz_centrality\", \"argmap_attack_ratio\"], \"artifacts\": [\"networkx_graph\"], \"report_to\": []}, \"logikon_version\": \"0.0.1-dev0\"}}\n",
      "{\"id\": \"43fdf71a-34fe-4807-b880-2a1efde4e50c\", \"reference_id\": \"539218f9-78ac-45c5-9c99-e8a7d6633d29\", \"reference_dataset\": {\"path\": \"logikon/oasst1-delib\", \"id_field\": \"message_id\", \"split\": \"train\", \"revision\": null}, \"lang\": \"en\", \"created_date\": \"2023-09-28T17:04:40.550752\", \"argmap\": {}, \"scores\": {\"names\": [\"argmap_size\", \"argmap_attack_ratio\", \"argmap_avg_katz_centrality\"], \"values\": [0.0, 0.0, NaN], \"comments\": [\"\", \"\", \"\"]}, \"model\": \"meta-llama/Llama-2-13b-chat-hf\", \"metadata\": {\"logikon_config\": {\"expert_model\": \"meta-llama/Llama-2-13b-chat-hf\", \"expert_model_kwargs\": {\"temperature\": 0.7}, \"llm_framework\": \"VLLM\", \"generation_kwargs\": null, \"inputs\": [], \"metrics\": [\"argmap_size\", \"argmap_avg_katz_centrality\", \"argmap_attack_ratio\"], \"artifacts\": [\"networkx_graph\"], \"report_to\": []}, \"logikon_version\": \"0.0.1-dev0\"}}\n",
      "{\"id\": \"eee2c7ff-03e3-463e-825b-8abab7ec1f87\", \"reference_id\": \"d9190618-199c-4f30-a39e-a758c059e92f\", \"reference_dataset\": {\"path\": \"logikon/oasst1-delib\", \"id_field\": \"message_id\", \"split\": \"train\", \"revision\": null}, \"lang\": \"en\", \"created_date\": \"2023-09-28T17:04:47.657356\", \"argmap\": {}, \"scores\": {\"names\": [\"argmap_size\", \"argmap_attack_ratio\", \"argmap_avg_katz_centrality\"], \"values\": [0.0, 0.0, NaN], \"comments\": [\"\", \"\", \"\"]}, \"model\": \"meta-llama/Llama-2-13b-chat-hf\", \"metadata\": {\"logikon_config\": {\"expert_model\": \"meta-llama/Llama-2-13b-chat-hf\", \"expert_model_kwargs\": {\"temperature\": 0.7}, \"llm_framework\": \"VLLM\", \"generation_kwargs\": null, \"inputs\": [], \"metrics\": [\"argmap_size\", \"argmap_avg_katz_centrality\", \"argmap_attack_ratio\"], \"artifacts\": [\"networkx_graph\"], \"report_to\": []}, \"logikon_version\": \"0.0.1-dev0\"}}\n",
      "{\"id\": \"811d8c7b-88e5-4249-947f-1dfc3522cfad\", \"reference_id\": \"d2631a07-4d8c-49e9-bcd7-e7341fc4672d\", \"reference_dataset\": {\"path\": \"logikon/oasst1-delib\", \"id_field\": \"message_id\", \"split\": \"train\", \"revision\": null}, \"lang\": \"en\", \"created_date\": \"2023-09-28T17:04:52.161775\", \"argmap\": {}, \"scores\": {\"names\": [\"argmap_size\", \"argmap_attack_ratio\", \"argmap_avg_katz_centrality\"], \"values\": [0.0, 0.0, NaN], \"comments\": [\"\", \"\", \"\"]}, \"model\": \"meta-llama/Llama-2-13b-chat-hf\", \"metadata\": {\"logikon_config\": {\"expert_model\": \"meta-llama/Llama-2-13b-chat-hf\", \"expert_model_kwargs\": {\"temperature\": 0.7}, \"llm_framework\": \"VLLM\", \"generation_kwargs\": null, \"inputs\": [], \"metrics\": [\"argmap_size\", \"argmap_avg_katz_centrality\", \"argmap_attack_ratio\"], \"artifacts\": [\"networkx_graph\"], \"report_to\": []}, \"logikon_version\": \"0.0.1-dev0\"}}\n",
      "{\"id\": \"f9a6a844-52e1-4f43-84ff-035189ba5148\", \"reference_id\": \"e240bf93-1d95-4ab4-9ad9-f67aea9952a9\", \"reference_dataset\": {\"path\": \"logikon/oasst1-delib\", \"id_field\": \"message_id\", \"split\": \"train\", \"revision\": null}, \"lang\": \"en\", \"created_date\": \"2023-09-28T17:04:54.852533\", \"argmap\": {}, \"scores\": {\"names\": [\"argmap_size\", \"argmap_attack_ratio\", \"argmap_avg_katz_centrality\"], \"values\": [0.0, 0.0, NaN], \"comments\": [\"\", \"\", \"\"]}, \"model\": \"meta-llama/Llama-2-13b-chat-hf\", \"metadata\": {\"logikon_config\": {\"expert_model\": \"meta-llama/Llama-2-13b-chat-hf\", \"expert_model_kwargs\": {\"temperature\": 0.7}, \"llm_framework\": \"VLLM\", \"generation_kwargs\": null, \"inputs\": [], \"metrics\": [\"argmap_size\", \"argmap_avg_katz_centrality\", \"argmap_attack_ratio\"], \"artifacts\": [\"networkx_graph\"], \"report_to\": []}, \"logikon_version\": \"0.0.1-dev0\"}}\n",
      "{\"id\": \"e7f1e5df-646e-491b-88e2-43dd9dbb0158\", \"reference_id\": \"29821a2f-b964-4ff7-a352-97ebbb5d6130\", \"reference_dataset\": {\"path\": \"logikon/oasst1-delib\", \"id_field\": \"message_id\", \"split\": \"train\", \"revision\": null}, \"lang\": \"en\", \"created_date\": \"2023-09-28T17:05:00.152156\", \"argmap\": {}, \"scores\": {\"names\": [\"argmap_size\", \"argmap_attack_ratio\", \"argmap_avg_katz_centrality\"], \"values\": [0.0, 0.0, NaN], \"comments\": [\"\", \"\", \"\"]}, \"model\": \"meta-llama/Llama-2-13b-chat-hf\", \"metadata\": {\"logikon_config\": {\"expert_model\": \"meta-llama/Llama-2-13b-chat-hf\", \"expert_model_kwargs\": {\"temperature\": 0.7}, \"llm_framework\": \"VLLM\", \"generation_kwargs\": null, \"inputs\": [], \"metrics\": [\"argmap_size\", \"argmap_avg_katz_centrality\", \"argmap_attack_ratio\"], \"artifacts\": [\"networkx_graph\"], \"report_to\": []}, \"logikon_version\": \"0.0.1-dev0\"}}\n",
      "{\"id\": \"da1f7363-4e27-4055-8039-f2c685ebc165\", \"reference_id\": \"2c2fea00-4613-4449-b421-ff2482137f94\", \"reference_dataset\": {\"path\": \"logikon/oasst1-delib\", \"id_field\": \"message_id\", \"split\": \"train\", \"revision\": null}, \"lang\": \"en\", \"created_date\": \"2023-09-28T17:05:05.827322\", \"argmap\": {\"directed\": true, \"multigraph\": false, \"graph\": {}, \"nodes\": [{\"text\": \"Two opposite answers to the binary question.\", \"label\": \"Claim-1\", \"annotations\": [], \"nodeType\": \"proposition\", \"id\": \"64f4a89d-0579-4cbf-b89c-d4c1eae29661\"}], \"links\": []}, \"scores\": {\"names\": [\"argmap_size\", \"argmap_attack_ratio\", \"argmap_avg_katz_centrality\"], \"values\": [1.0, 0.0, 1.0], \"comments\": [\"\", \"\", \"\"]}, \"model\": \"meta-llama/Llama-2-13b-chat-hf\", \"metadata\": {\"logikon_config\": {\"expert_model\": \"meta-llama/Llama-2-13b-chat-hf\", \"expert_model_kwargs\": {\"temperature\": 0.7}, \"llm_framework\": \"VLLM\", \"generation_kwargs\": null, \"inputs\": [], \"metrics\": [\"argmap_size\", \"argmap_avg_katz_centrality\", \"argmap_attack_ratio\"], \"artifacts\": [\"networkx_graph\"], \"report_to\": []}, \"logikon_version\": \"0.0.1-dev0\"}}\n",
      "{\"id\": \"83d81640-2aff-4e88-902d-3ddd7dc68c4f\", \"reference_id\": \"75b0c2d7-cbad-4f4b-bb9a-ef57d9f44f0f\", \"reference_dataset\": {\"path\": \"logikon/oasst1-delib\", \"id_field\": \"message_id\", \"split\": \"train\", \"revision\": null}, \"lang\": \"en\", \"created_date\": \"2023-09-28T17:05:11.556906\", \"argmap\": {}, \"scores\": {\"names\": [\"argmap_size\", \"argmap_attack_ratio\", \"argmap_avg_katz_centrality\"], \"values\": [0.0, 0.0, NaN], \"comments\": [\"\", \"\", \"\"]}, \"model\": \"meta-llama/Llama-2-13b-chat-hf\", \"metadata\": {\"logikon_config\": {\"expert_model\": \"meta-llama/Llama-2-13b-chat-hf\", \"expert_model_kwargs\": {\"temperature\": 0.7}, \"llm_framework\": \"VLLM\", \"generation_kwargs\": null, \"inputs\": [], \"metrics\": [\"argmap_size\", \"argmap_avg_katz_centrality\", \"argmap_attack_ratio\"], \"artifacts\": [\"networkx_graph\"], \"report_to\": []}, \"logikon_version\": \"0.0.1-dev0\"}}\n",
      "{\"id\": \"07dc3321-80f9-4153-816e-2fb349ddf3c3\", \"reference_id\": \"b1f2b6ec-87d5-41a3-ac68-b60a7eb56ee7\", \"reference_dataset\": {\"path\": \"logikon/oasst1-delib\", \"id_field\": \"message_id\", \"split\": \"train\", \"revision\": null}, \"lang\": \"en\", \"created_date\": \"2023-09-28T17:05:16.384969\", \"argmap\": {}, \"scores\": {\"names\": [\"argmap_size\", \"argmap_attack_ratio\", \"argmap_avg_katz_centrality\"], \"values\": [0.0, 0.0, NaN], \"comments\": [\"\", \"\", \"\"]}, \"model\": \"meta-llama/Llama-2-13b-chat-hf\", \"metadata\": {\"logikon_config\": {\"expert_model\": \"meta-llama/Llama-2-13b-chat-hf\", \"expert_model_kwargs\": {\"temperature\": 0.7}, \"llm_framework\": \"VLLM\", \"generation_kwargs\": null, \"inputs\": [], \"metrics\": [\"argmap_size\", \"argmap_avg_katz_centrality\", \"argmap_attack_ratio\"], \"artifacts\": [\"networkx_graph\"], \"report_to\": []}, \"logikon_version\": \"0.0.1-dev0\"}}\n",
      "{\"id\": \"191b8673-fd37-4694-8bdc-e6d115fc4a00\", \"reference_id\": \"5a3a031a-b480-4981-8a0b-96ac3f0e3279\", \"reference_dataset\": {\"path\": \"logikon/oasst1-delib\", \"id_field\": \"message_id\", \"split\": \"train\", \"revision\": null}, \"lang\": \"en\", \"created_date\": \"2023-09-28T17:05:19.811566\", \"argmap\": {}, \"scores\": {\"names\": [\"argmap_size\", \"argmap_attack_ratio\", \"argmap_avg_katz_centrality\"], \"values\": [0.0, 0.0, NaN], \"comments\": [\"\", \"\", \"\"]}, \"model\": \"meta-llama/Llama-2-13b-chat-hf\", \"metadata\": {\"logikon_config\": {\"expert_model\": \"meta-llama/Llama-2-13b-chat-hf\", \"expert_model_kwargs\": {\"temperature\": 0.7}, \"llm_framework\": \"VLLM\", \"generation_kwargs\": null, \"inputs\": [], \"metrics\": [\"argmap_size\", \"argmap_avg_katz_centrality\", \"argmap_attack_ratio\"], \"artifacts\": [\"networkx_graph\"], \"report_to\": []}, \"logikon_version\": \"0.0.1-dev0\"}}\n",
      "{\"id\": \"9b604d8f-3667-4f53-8f47-286c1a197619\", \"reference_id\": \"7a60b98a-e15b-44b6-a049-63b96ce3cf43\", \"reference_dataset\": {\"path\": \"logikon/oasst1-delib\", \"id_field\": \"message_id\", \"split\": \"train\", \"revision\": null}, \"lang\": \"en\", \"created_date\": \"2023-09-28T17:05:22.597153\", \"argmap\": {}, \"scores\": {\"names\": [\"argmap_size\", \"argmap_attack_ratio\", \"argmap_avg_katz_centrality\"], \"values\": [0.0, 0.0, NaN], \"comments\": [\"\", \"\", \"\"]}, \"model\": \"meta-llama/Llama-2-13b-chat-hf\", \"metadata\": {\"logikon_config\": {\"expert_model\": \"meta-llama/Llama-2-13b-chat-hf\", \"expert_model_kwargs\": {\"temperature\": 0.7}, \"llm_framework\": \"VLLM\", \"generation_kwargs\": null, \"inputs\": [], \"metrics\": [\"argmap_size\", \"argmap_avg_katz_centrality\", \"argmap_attack_ratio\"], \"artifacts\": [\"networkx_graph\"], \"report_to\": []}, \"logikon_version\": \"0.0.1-dev0\"}}\n",
      "{\"id\": \"d93a6dca-aaa6-48c8-a314-77b3fb9eb5c6\", \"reference_id\": \"242db2e5-727c-46da-85b5-4f2a97843416\", \"reference_dataset\": {\"path\": \"logikon/oasst1-delib\", \"id_field\": \"message_id\", \"split\": \"train\", \"revision\": null}, \"lang\": \"en\", \"created_date\": \"2023-09-28T17:05:27.239430\", \"argmap\": {}, \"scores\": {\"names\": [\"argmap_size\", \"argmap_attack_ratio\", \"argmap_avg_katz_centrality\"], \"values\": [0.0, 0.0, NaN], \"comments\": [\"\", \"\", \"\"]}, \"model\": \"meta-llama/Llama-2-13b-chat-hf\", \"metadata\": {\"logikon_config\": {\"expert_model\": \"meta-llama/Llama-2-13b-chat-hf\", \"expert_model_kwargs\": {\"temperature\": 0.7}, \"llm_framework\": \"VLLM\", \"generation_kwargs\": null, \"inputs\": [], \"metrics\": [\"argmap_size\", \"argmap_avg_katz_centrality\", \"argmap_attack_ratio\"], \"artifacts\": [\"networkx_graph\"], \"report_to\": []}, \"logikon_version\": \"0.0.1-dev0\"}}\n",
      "{\"id\": \"246b4792-d276-4b35-87b2-07da2f3eeb62\", \"reference_id\": \"ba16a381-adc9-47c5-9104-2871c473f4da\", \"reference_dataset\": {\"path\": \"logikon/oasst1-delib\", \"id_field\": \"message_id\", \"split\": \"train\", \"revision\": null}, \"lang\": \"en\", \"created_date\": \"2023-09-28T17:05:33.236582\", \"argmap\": {}, \"scores\": {\"names\": [\"argmap_size\", \"argmap_attack_ratio\", \"argmap_avg_katz_centrality\"], \"values\": [0.0, 0.0, NaN], \"comments\": [\"\", \"\", \"\"]}, \"model\": \"meta-llama/Llama-2-13b-chat-hf\", \"metadata\": {\"logikon_config\": {\"expert_model\": \"meta-llama/Llama-2-13b-chat-hf\", \"expert_model_kwargs\": {\"temperature\": 0.7}, \"llm_framework\": \"VLLM\", \"generation_kwargs\": null, \"inputs\": [], \"metrics\": [\"argmap_size\", \"argmap_avg_katz_centrality\", \"argmap_attack_ratio\"], \"artifacts\": [\"networkx_graph\"], \"report_to\": []}, \"logikon_version\": \"0.0.1-dev0\"}}\n",
      "{\"id\": \"46c5e69d-d774-442d-85b0-ff0913f155e2\", \"reference_id\": \"c985952a-5005-4576-9689-94769777ca59\", \"reference_dataset\": {\"path\": \"logikon/oasst1-delib\", \"id_field\": \"message_id\", \"split\": \"train\", \"revision\": null}, \"lang\": \"en\", \"created_date\": \"2023-09-28T17:05:35.923794\", \"argmap\": {}, \"scores\": {\"names\": [\"argmap_size\", \"argmap_attack_ratio\", \"argmap_avg_katz_centrality\"], \"values\": [0.0, 0.0, NaN], \"comments\": [\"\", \"\", \"\"]}, \"model\": \"meta-llama/Llama-2-13b-chat-hf\", \"metadata\": {\"logikon_config\": {\"expert_model\": \"meta-llama/Llama-2-13b-chat-hf\", \"expert_model_kwargs\": {\"temperature\": 0.7}, \"llm_framework\": \"VLLM\", \"generation_kwargs\": null, \"inputs\": [], \"metrics\": [\"argmap_size\", \"argmap_avg_katz_centrality\", \"argmap_attack_ratio\"], \"artifacts\": [\"networkx_graph\"], \"report_to\": []}, \"logikon_version\": \"0.0.1-dev0\"}}\n",
      "{\"id\": \"ebdf23ce-52db-4284-8cfc-01c002cb8727\", \"reference_id\": \"9690b645-9bb9-445e-8915-564062f2d3f9\", \"reference_dataset\": {\"path\": \"logikon/oasst1-delib\", \"id_field\": \"message_id\", \"split\": \"train\", \"revision\": null}, \"lang\": \"en\", \"created_date\": \"2023-09-28T17:05:38.939386\", \"argmap\": {}, \"scores\": {\"names\": [\"argmap_size\", \"argmap_attack_ratio\", \"argmap_avg_katz_centrality\"], \"values\": [0.0, 0.0, NaN], \"comments\": [\"\", \"\", \"\"]}, \"model\": \"meta-llama/Llama-2-13b-chat-hf\", \"metadata\": {\"logikon_config\": {\"expert_model\": \"meta-llama/Llama-2-13b-chat-hf\", \"expert_model_kwargs\": {\"temperature\": 0.7}, \"llm_framework\": \"VLLM\", \"generation_kwargs\": null, \"inputs\": [], \"metrics\": [\"argmap_size\", \"argmap_avg_katz_centrality\", \"argmap_attack_ratio\"], \"artifacts\": [\"networkx_graph\"], \"report_to\": []}, \"logikon_version\": \"0.0.1-dev0\"}}\n",
      "{\"id\": \"c34bbce8-64b2-4d05-9ec7-0303a7712f55\", \"reference_id\": \"67d744a2-6169-4460-b618-1ed1c91b3e37\", \"reference_dataset\": {\"path\": \"logikon/oasst1-delib\", \"id_field\": \"message_id\", \"split\": \"train\", \"revision\": null}, \"lang\": \"en\", \"created_date\": \"2023-09-28T17:05:42.440119\", \"argmap\": {}, \"scores\": {\"names\": [\"argmap_size\", \"argmap_attack_ratio\", \"argmap_avg_katz_centrality\"], \"values\": [0.0, 0.0, NaN], \"comments\": [\"\", \"\", \"\"]}, \"model\": \"meta-llama/Llama-2-13b-chat-hf\", \"metadata\": {\"logikon_config\": {\"expert_model\": \"meta-llama/Llama-2-13b-chat-hf\", \"expert_model_kwargs\": {\"temperature\": 0.7}, \"llm_framework\": \"VLLM\", \"generation_kwargs\": null, \"inputs\": [], \"metrics\": [\"argmap_size\", \"argmap_avg_katz_centrality\", \"argmap_attack_ratio\"], \"artifacts\": [\"networkx_graph\"], \"report_to\": []}, \"logikon_version\": \"0.0.1-dev0\"}}\n",
      "{\"id\": \"953d18d0-5801-435f-a930-5d467c99ccd4\", \"reference_id\": \"b6b3ef46-25d0-4d4d-b1fb-ff2adbb8ea10\", \"reference_dataset\": {\"path\": \"logikon/oasst1-delib\", \"id_field\": \"message_id\", \"split\": \"train\", \"revision\": null}, \"lang\": \"en\", \"created_date\": \"2023-09-28T17:05:47.353028\", \"argmap\": {}, \"scores\": {\"names\": [\"argmap_size\", \"argmap_attack_ratio\", \"argmap_avg_katz_centrality\"], \"values\": [0.0, 0.0, NaN], \"comments\": [\"\", \"\", \"\"]}, \"model\": \"meta-llama/Llama-2-13b-chat-hf\", \"metadata\": {\"logikon_config\": {\"expert_model\": \"meta-llama/Llama-2-13b-chat-hf\", \"expert_model_kwargs\": {\"temperature\": 0.7}, \"llm_framework\": \"VLLM\", \"generation_kwargs\": null, \"inputs\": [], \"metrics\": [\"argmap_size\", \"argmap_avg_katz_centrality\", \"argmap_attack_ratio\"], \"artifacts\": [\"networkx_graph\"], \"report_to\": []}, \"logikon_version\": \"0.0.1-dev0\"}}\n",
      "{\"id\": \"5deeba7a-4de5-4a2e-98e4-b6ae63990305\", \"reference_id\": \"325a5626-f807-4e74-84bd-fd5083fbeb7f\", \"reference_dataset\": {\"path\": \"logikon/oasst1-delib\", \"id_field\": \"message_id\", \"split\": \"train\", \"revision\": null}, \"lang\": \"en\", \"created_date\": \"2023-09-28T17:05:56.901792\", \"argmap\": {\"directed\": true, \"multigraph\": false, \"graph\": {}, \"nodes\": [{\"text\": \"Briefly explain the meaning of the binary question and why it is important.\", \"label\": \"Claim-1\", \"annotations\": [], \"nodeType\": \"proposition\", \"id\": \"47aeff1a-026a-4fd1-a3fd-ff8b8a60faab\"}], \"links\": []}, \"scores\": {\"names\": [\"argmap_size\", \"argmap_attack_ratio\", \"argmap_avg_katz_centrality\"], \"values\": [1.0, 0.0, 1.0], \"comments\": [\"\", \"\", \"\"]}, \"model\": \"meta-llama/Llama-2-13b-chat-hf\", \"metadata\": {\"logikon_config\": {\"expert_model\": \"meta-llama/Llama-2-13b-chat-hf\", \"expert_model_kwargs\": {\"temperature\": 0.7}, \"llm_framework\": \"VLLM\", \"generation_kwargs\": null, \"inputs\": [], \"metrics\": [\"argmap_size\", \"argmap_avg_katz_centrality\", \"argmap_attack_ratio\"], \"artifacts\": [\"networkx_graph\"], \"report_to\": []}, \"logikon_version\": \"0.0.1-dev0\"}}\n",
      "{\"id\": \"fcc669f2-8860-434a-b5f8-aa0e22eae183\", \"reference_id\": \"5faa0fa0-6a01-49b2-8a31-3f31001c74a7\", \"reference_dataset\": {\"path\": \"logikon/oasst1-delib\", \"id_field\": \"message_id\", \"split\": \"train\", \"revision\": null}, \"lang\": \"en\", \"created_date\": \"2023-09-28T17:05:58.640229\", \"argmap\": {}, \"scores\": {\"names\": [\"argmap_size\", \"argmap_attack_ratio\", \"argmap_avg_katz_centrality\"], \"values\": [0.0, 0.0, NaN], \"comments\": [\"\", \"\", \"\"]}, \"model\": \"meta-llama/Llama-2-13b-chat-hf\", \"metadata\": {\"logikon_config\": {\"expert_model\": \"meta-llama/Llama-2-13b-chat-hf\", \"expert_model_kwargs\": {\"temperature\": 0.7}, \"llm_framework\": \"VLLM\", \"generation_kwargs\": null, \"inputs\": [], \"metrics\": [\"argmap_size\", \"argmap_avg_katz_centrality\", \"argmap_attack_ratio\"], \"artifacts\": [\"networkx_graph\"], \"report_to\": []}, \"logikon_version\": \"0.0.1-dev0\"}}\n",
      "{\"id\": \"68475379-67f2-4cf1-8a7a-e4c2835065fc\", \"reference_id\": \"a07c9554-f97d-4447-af93-98a05c803144\", \"reference_dataset\": {\"path\": \"logikon/oasst1-delib\", \"id_field\": \"message_id\", \"split\": \"train\", \"revision\": null}, \"lang\": \"en\", \"created_date\": \"2023-09-28T17:06:04.233395\", \"argmap\": {}, \"scores\": {\"names\": [\"argmap_size\", \"argmap_attack_ratio\", \"argmap_avg_katz_centrality\"], \"values\": [0.0, 0.0, NaN], \"comments\": [\"\", \"\", \"\"]}, \"model\": \"meta-llama/Llama-2-13b-chat-hf\", \"metadata\": {\"logikon_config\": {\"expert_model\": \"meta-llama/Llama-2-13b-chat-hf\", \"expert_model_kwargs\": {\"temperature\": 0.7}, \"llm_framework\": \"VLLM\", \"generation_kwargs\": null, \"inputs\": [], \"metrics\": [\"argmap_size\", \"argmap_avg_katz_centrality\", \"argmap_attack_ratio\"], \"artifacts\": [\"networkx_graph\"], \"report_to\": []}, \"logikon_version\": \"0.0.1-dev0\"}}\n",
      "{\"id\": \"77799b8f-0e95-4284-ae0c-8a0f49242f04\", \"reference_id\": \"6869ff2c-5e57-4bae-8c4a-fa88439cdc80\", \"reference_dataset\": {\"path\": \"logikon/oasst1-delib\", \"id_field\": \"message_id\", \"split\": \"train\", \"revision\": null}, \"lang\": \"en\", \"created_date\": \"2023-09-28T17:06:07.150706\", \"argmap\": {}, \"scores\": {\"names\": [\"argmap_size\", \"argmap_attack_ratio\", \"argmap_avg_katz_centrality\"], \"values\": [0.0, 0.0, NaN], \"comments\": [\"\", \"\", \"\"]}, \"model\": \"meta-llama/Llama-2-13b-chat-hf\", \"metadata\": {\"logikon_config\": {\"expert_model\": \"meta-llama/Llama-2-13b-chat-hf\", \"expert_model_kwargs\": {\"temperature\": 0.7}, \"llm_framework\": \"VLLM\", \"generation_kwargs\": null, \"inputs\": [], \"metrics\": [\"argmap_size\", \"argmap_avg_katz_centrality\", \"argmap_attack_ratio\"], \"artifacts\": [\"networkx_graph\"], \"report_to\": []}, \"logikon_version\": \"0.0.1-dev0\"}}\n",
      "{\"id\": \"05cbc909-3ea7-4c81-aaf2-c6855d9f321f\", \"reference_id\": \"0307848f-2a73-4204-8da2-c6bf16360c39\", \"reference_dataset\": {\"path\": \"logikon/oasst1-delib\", \"id_field\": \"message_id\", \"split\": \"train\", \"revision\": null}, \"lang\": \"en\", \"created_date\": \"2023-09-28T17:06:17.065392\", \"argmap\": {}, \"scores\": {\"names\": [\"argmap_size\", \"argmap_attack_ratio\", \"argmap_avg_katz_centrality\"], \"values\": [0.0, 0.0, NaN], \"comments\": [\"\", \"\", \"\"]}, \"model\": \"meta-llama/Llama-2-13b-chat-hf\", \"metadata\": {\"logikon_config\": {\"expert_model\": \"meta-llama/Llama-2-13b-chat-hf\", \"expert_model_kwargs\": {\"temperature\": 0.7}, \"llm_framework\": \"VLLM\", \"generation_kwargs\": null, \"inputs\": [], \"metrics\": [\"argmap_size\", \"argmap_avg_katz_centrality\", \"argmap_attack_ratio\"], \"artifacts\": [\"networkx_graph\"], \"report_to\": []}, \"logikon_version\": \"0.0.1-dev0\"}}\n"
     ]
    }
   ],
   "source": [
    "for record in eval_results:\n",
    "    print(json.dumps(dataclasses.asdict(record)))"
   ]
  },
  {
   "cell_type": "code",
   "execution_count": null,
   "metadata": {},
   "outputs": [],
   "source": [
    "# save the eval results dataset\n",
    "\n",
    "with tempfile.NamedTemporaryFile() as tmpf:\n",
    "    for record in eval_results:\n",
    "        tmpf.write(json.dumps(dataclasses.asdict(record)).encode(\"utf-8\"))\n",
    "        tmpf.write(\"\\n\".encode(\"utf-8\"))\n",
    "    tmpf.flush()\n",
    "    \n",
    "    api = hf_hub.HfApi()\n",
    "    api.upload_file(\n",
    "        path_or_fileobj=tmpf.name,\n",
    "        path_in_repo=os.path.join(evalresults_dataset[\"subfolder\"],evalresults_dataset[\"filename\"]),\n",
    "        repo_id=evalresults_dataset[\"path\"],\n",
    "        repo_type=\"dataset\",\n",
    "        token=os.environ[\"HUGGINGFACEHUB_API_TOKEN\"],\n",
    "    )\n"
   ]
  },
  {
   "cell_type": "code",
   "execution_count": 11,
   "metadata": {},
   "outputs": [
    {
     "data": {
      "application/vnd.jupyter.widget-view+json": {
       "model_id": "fe7fa7b53cb34d9ab7251ba2b3727461",
       "version_major": 2,
       "version_minor": 0
      },
      "text/plain": [
       "Downloading readme:   0%|          | 0.00/28.0 [00:00<?, ?B/s]"
      ]
     },
     "metadata": {},
     "output_type": "display_data"
    },
    {
     "data": {
      "application/vnd.jupyter.widget-view+json": {
       "model_id": "5796a423750146d5b913202d90e49ee0",
       "version_major": 2,
       "version_minor": 0
      },
      "text/plain": [
       "Downloading data files:   0%|          | 0/2 [00:00<?, ?it/s]"
      ]
     },
     "metadata": {},
     "output_type": "display_data"
    },
    {
     "data": {
      "application/vnd.jupyter.widget-view+json": {
       "model_id": "0d3daa63a393429bab63e00ca433a011",
       "version_major": 2,
       "version_minor": 0
      },
      "text/plain": [
       "Downloading data:   0%|          | 0.00/404k [00:00<?, ?B/s]"
      ]
     },
     "metadata": {},
     "output_type": "display_data"
    },
    {
     "data": {
      "application/vnd.jupyter.widget-view+json": {
       "model_id": "bfeac0e258194c9bb0b5ae116d2ff579",
       "version_major": 2,
       "version_minor": 0
      },
      "text/plain": [
       "Downloading data:   0%|          | 0.00/1.74M [00:00<?, ?B/s]"
      ]
     },
     "metadata": {},
     "output_type": "display_data"
    },
    {
     "data": {
      "application/vnd.jupyter.widget-view+json": {
       "model_id": "338fc03d4066447fad9a1be18005829c",
       "version_major": 2,
       "version_minor": 0
      },
      "text/plain": [
       "Downloading data:   0%|          | 0.00/74.6k [00:00<?, ?B/s]"
      ]
     },
     "metadata": {},
     "output_type": "display_data"
    },
    {
     "data": {
      "application/vnd.jupyter.widget-view+json": {
       "model_id": "336e346de94c462e877534933f1ca789",
       "version_major": 2,
       "version_minor": 0
      },
      "text/plain": [
       "Downloading data:   0%|          | 0.00/17.7k [00:00<?, ?B/s]"
      ]
     },
     "metadata": {},
     "output_type": "display_data"
    },
    {
     "data": {
      "application/vnd.jupyter.widget-view+json": {
       "model_id": "fc14e8d039624fc78979a665ea7c0a0b",
       "version_major": 2,
       "version_minor": 0
      },
      "text/plain": [
       "Downloading data:   0%|          | 0.00/142k [00:00<?, ?B/s]"
      ]
     },
     "metadata": {},
     "output_type": "display_data"
    },
    {
     "data": {
      "application/vnd.jupyter.widget-view+json": {
       "model_id": "a5274f3defa249ba8457c611da3f937a",
       "version_major": 2,
       "version_minor": 0
      },
      "text/plain": [
       "Downloading data:   0%|          | 0.00/5.39k [00:00<?, ?B/s]"
      ]
     },
     "metadata": {},
     "output_type": "display_data"
    },
    {
     "data": {
      "application/vnd.jupyter.widget-view+json": {
       "model_id": "43fadc44d33d434382f71fb9fb411cfd",
       "version_major": 2,
       "version_minor": 0
      },
      "text/plain": [
       "Extracting data files:   0%|          | 0/2 [00:00<?, ?it/s]"
      ]
     },
     "metadata": {},
     "output_type": "display_data"
    },
    {
     "data": {
      "application/vnd.jupyter.widget-view+json": {
       "model_id": "3ae98e955cd84dae927545379400259c",
       "version_major": 2,
       "version_minor": 0
      },
      "text/plain": [
       "Generating train split: 0 examples [00:00, ? examples/s]"
      ]
     },
     "metadata": {},
     "output_type": "display_data"
    },
    {
     "data": {
      "application/vnd.jupyter.widget-view+json": {
       "model_id": "86afec367a664f90a8f86997efbf3755",
       "version_major": 2,
       "version_minor": 0
      },
      "text/plain": [
       "Generating validation split: 0 examples [00:00, ? examples/s]"
      ]
     },
     "metadata": {},
     "output_type": "display_data"
    },
    {
     "data": {
      "text/plain": [
       "DatasetDict({\n",
       "    train: Dataset({\n",
       "        features: ['id', 'reference_id', 'reference_dataset', 'lang', 'created_date', 'argmap', 'scores', 'model', 'metadata'],\n",
       "        num_rows: 260\n",
       "    })\n",
       "    validation: Dataset({\n",
       "        features: ['id', 'reference_id', 'reference_dataset', 'lang', 'created_date', 'argmap', 'scores', 'model', 'metadata'],\n",
       "        num_rows: 18\n",
       "    })\n",
       "})"
      ]
     },
     "execution_count": 11,
     "metadata": {},
     "output_type": "execute_result"
    }
   ],
   "source": [
    "# check whether eval results have been uploaded\n",
    "import datasets\n",
    "\n",
    "ds_test = datasets.load_dataset(evalresults_dataset[\"path\"])\n",
    "ds_test"
   ]
  },
  {
   "cell_type": "code",
   "execution_count": 12,
   "metadata": {},
   "outputs": [
    {
     "data": {
      "text/plain": [
       "{'id': Value(dtype='string', id=None),\n",
       " 'reference_id': Value(dtype='string', id=None),\n",
       " 'reference_dataset': {'path': Value(dtype='string', id=None),\n",
       "  'id_field': Value(dtype='string', id=None),\n",
       "  'split': Value(dtype='string', id=None),\n",
       "  'revision': Value(dtype='null', id=None)},\n",
       " 'lang': Value(dtype='string', id=None),\n",
       " 'created_date': Value(dtype='string', id=None),\n",
       " 'argmap': {'directed': Value(dtype='bool', id=None),\n",
       "  'multigraph': Value(dtype='bool', id=None),\n",
       "  'graph': {},\n",
       "  'nodes': [{'text': Value(dtype='string', id=None),\n",
       "    'label': Value(dtype='string', id=None),\n",
       "    'annotations': [{'start': Value(dtype='int64', id=None),\n",
       "      'end': Value(dtype='int64', id=None)}],\n",
       "    'nodeType': Value(dtype='string', id=None),\n",
       "    'id': Value(dtype='string', id=None)}],\n",
       "  'links': [{'valence': Value(dtype='string', id=None),\n",
       "    'source': Value(dtype='string', id=None),\n",
       "    'target': Value(dtype='string', id=None)}]},\n",
       " 'scores': {'names': Sequence(feature=Value(dtype='string', id=None), length=-1, id=None),\n",
       "  'values': Sequence(feature=Value(dtype='float64', id=None), length=-1, id=None),\n",
       "  'comments': Sequence(feature=Value(dtype='string', id=None), length=-1, id=None)},\n",
       " 'model': Value(dtype='string', id=None),\n",
       " 'metadata': {'logikon_config': {'expert_model': Value(dtype='string', id=None),\n",
       "   'expert_model_kwargs': {'temperature': Value(dtype='float64', id=None)},\n",
       "   'llm_framework': Value(dtype='string', id=None),\n",
       "   'generation_kwargs': Value(dtype='null', id=None),\n",
       "   'inputs': Sequence(feature=Value(dtype='null', id=None), length=-1, id=None),\n",
       "   'metrics': Sequence(feature=Value(dtype='string', id=None), length=-1, id=None),\n",
       "   'artifacts': Sequence(feature=Value(dtype='string', id=None), length=-1, id=None),\n",
       "   'report_to': Sequence(feature=Value(dtype='null', id=None), length=-1, id=None)},\n",
       "  'logikon_version': Value(dtype='string', id=None)}}"
      ]
     },
     "execution_count": 12,
     "metadata": {},
     "output_type": "execute_result"
    }
   ],
   "source": [
    "ds_test[\"validation\"].features"
   ]
  },
  {
   "cell_type": "code",
   "execution_count": 143,
   "metadata": {},
   "outputs": [
    {
     "data": {
      "text/html": [
       "<div>\n",
       "<style scoped>\n",
       "    .dataframe tbody tr th:only-of-type {\n",
       "        vertical-align: middle;\n",
       "    }\n",
       "\n",
       "    .dataframe tbody tr th {\n",
       "        vertical-align: top;\n",
       "    }\n",
       "\n",
       "    .dataframe thead th {\n",
       "        text-align: right;\n",
       "    }\n",
       "</style>\n",
       "<table border=\"1\" class=\"dataframe\">\n",
       "  <thead>\n",
       "    <tr style=\"text-align: right;\">\n",
       "      <th></th>\n",
       "      <th>id</th>\n",
       "      <th>reference_id</th>\n",
       "      <th>reference_dataset</th>\n",
       "      <th>lang</th>\n",
       "      <th>created_date</th>\n",
       "      <th>argmap</th>\n",
       "      <th>scores</th>\n",
       "      <th>model</th>\n",
       "      <th>metadata</th>\n",
       "    </tr>\n",
       "  </thead>\n",
       "  <tbody>\n",
       "    <tr>\n",
       "      <th>0</th>\n",
       "      <td>f21dd97f-0388-4f59-90b1-91133e9486a4</td>\n",
       "      <td>7c2f230c-3153-4baf-b938-445dac1ddd56</td>\n",
       "      <td>{'path': 'logikon/oasst1-delib', 'id_field': '...</td>\n",
       "      <td>en</td>\n",
       "      <td>2023-09-28T07:26:08.706283</td>\n",
       "      <td>{'directed': True, 'multigraph': False, 'graph...</td>\n",
       "      <td>{'names': ['argmap_size', 'argmap_attack_ratio...</td>\n",
       "      <td>Open-Orca/OpenOrca-Platypus2-13B</td>\n",
       "      <td>{'logikon_config': {'expert_model': 'Open-Orca...</td>\n",
       "    </tr>\n",
       "    <tr>\n",
       "      <th>1</th>\n",
       "      <td>e200cc82-c136-4dc5-a8b0-36346f6d6f4b</td>\n",
       "      <td>98c5903b-5f7b-4d86-bb57-785530d1876c</td>\n",
       "      <td>{'path': 'logikon/oasst1-delib', 'id_field': '...</td>\n",
       "      <td>en</td>\n",
       "      <td>2023-09-28T07:27:57.421849</td>\n",
       "      <td>{'directed': True, 'multigraph': False, 'graph...</td>\n",
       "      <td>{'names': ['argmap_size', 'argmap_attack_ratio...</td>\n",
       "      <td>Open-Orca/OpenOrca-Platypus2-13B</td>\n",
       "      <td>{'logikon_config': {'expert_model': 'Open-Orca...</td>\n",
       "    </tr>\n",
       "    <tr>\n",
       "      <th>2</th>\n",
       "      <td>4fa9216f-0787-4e41-a1fb-7cfeb635574f</td>\n",
       "      <td>8aaeeb64-585a-428b-a3d7-87fd6ab22135</td>\n",
       "      <td>{'path': 'logikon/oasst1-delib', 'id_field': '...</td>\n",
       "      <td>en</td>\n",
       "      <td>2023-09-28T07:28:29.857980</td>\n",
       "      <td>{'directed': True, 'multigraph': False, 'graph...</td>\n",
       "      <td>{'names': ['argmap_size', 'argmap_attack_ratio...</td>\n",
       "      <td>Open-Orca/OpenOrca-Platypus2-13B</td>\n",
       "      <td>{'logikon_config': {'expert_model': 'Open-Orca...</td>\n",
       "    </tr>\n",
       "    <tr>\n",
       "      <th>3</th>\n",
       "      <td>41c22886-5cfb-4c96-955e-537db851b8d2</td>\n",
       "      <td>876e80cf-43a7-4fa4-b4d2-86ebf46f222c</td>\n",
       "      <td>{'path': 'logikon/oasst1-delib', 'id_field': '...</td>\n",
       "      <td>en</td>\n",
       "      <td>2023-09-28T07:29:48.584017</td>\n",
       "      <td>{'directed': True, 'multigraph': False, 'graph...</td>\n",
       "      <td>{'names': ['argmap_size', 'argmap_attack_ratio...</td>\n",
       "      <td>Open-Orca/OpenOrca-Platypus2-13B</td>\n",
       "      <td>{'logikon_config': {'expert_model': 'Open-Orca...</td>\n",
       "    </tr>\n",
       "    <tr>\n",
       "      <th>4</th>\n",
       "      <td>49e81ac6-d84d-4f66-bfe4-b5a2ff320eec</td>\n",
       "      <td>0fafd61d-483b-4829-84c6-b210697b124b</td>\n",
       "      <td>{'path': 'logikon/oasst1-delib', 'id_field': '...</td>\n",
       "      <td>en</td>\n",
       "      <td>2023-09-28T07:30:30.835269</td>\n",
       "      <td>{'directed': True, 'multigraph': False, 'graph...</td>\n",
       "      <td>{'names': ['argmap_size', 'argmap_attack_ratio...</td>\n",
       "      <td>Open-Orca/OpenOrca-Platypus2-13B</td>\n",
       "      <td>{'logikon_config': {'expert_model': 'Open-Orca...</td>\n",
       "    </tr>\n",
       "    <tr>\n",
       "      <th>...</th>\n",
       "      <td>...</td>\n",
       "      <td>...</td>\n",
       "      <td>...</td>\n",
       "      <td>...</td>\n",
       "      <td>...</td>\n",
       "      <td>...</td>\n",
       "      <td>...</td>\n",
       "      <td>...</td>\n",
       "      <td>...</td>\n",
       "    </tr>\n",
       "    <tr>\n",
       "      <th>255</th>\n",
       "      <td>5deeba7a-4de5-4a2e-98e4-b6ae63990305</td>\n",
       "      <td>325a5626-f807-4e74-84bd-fd5083fbeb7f</td>\n",
       "      <td>{'path': 'logikon/oasst1-delib', 'id_field': '...</td>\n",
       "      <td>en</td>\n",
       "      <td>2023-09-28T17:05:56.901792</td>\n",
       "      <td>{'directed': True, 'multigraph': False, 'graph...</td>\n",
       "      <td>{'names': ['argmap_size', 'argmap_attack_ratio...</td>\n",
       "      <td>meta-llama/Llama-2-13b-chat-hf</td>\n",
       "      <td>{'logikon_config': {'expert_model': 'meta-llam...</td>\n",
       "    </tr>\n",
       "    <tr>\n",
       "      <th>256</th>\n",
       "      <td>fcc669f2-8860-434a-b5f8-aa0e22eae183</td>\n",
       "      <td>5faa0fa0-6a01-49b2-8a31-3f31001c74a7</td>\n",
       "      <td>{'path': 'logikon/oasst1-delib', 'id_field': '...</td>\n",
       "      <td>en</td>\n",
       "      <td>2023-09-28T17:05:58.640229</td>\n",
       "      <td>{'directed': None, 'multigraph': None, 'graph'...</td>\n",
       "      <td>{'names': ['argmap_size', 'argmap_attack_ratio...</td>\n",
       "      <td>meta-llama/Llama-2-13b-chat-hf</td>\n",
       "      <td>{'logikon_config': {'expert_model': 'meta-llam...</td>\n",
       "    </tr>\n",
       "    <tr>\n",
       "      <th>257</th>\n",
       "      <td>68475379-67f2-4cf1-8a7a-e4c2835065fc</td>\n",
       "      <td>a07c9554-f97d-4447-af93-98a05c803144</td>\n",
       "      <td>{'path': 'logikon/oasst1-delib', 'id_field': '...</td>\n",
       "      <td>en</td>\n",
       "      <td>2023-09-28T17:06:04.233395</td>\n",
       "      <td>{'directed': None, 'multigraph': None, 'graph'...</td>\n",
       "      <td>{'names': ['argmap_size', 'argmap_attack_ratio...</td>\n",
       "      <td>meta-llama/Llama-2-13b-chat-hf</td>\n",
       "      <td>{'logikon_config': {'expert_model': 'meta-llam...</td>\n",
       "    </tr>\n",
       "    <tr>\n",
       "      <th>258</th>\n",
       "      <td>77799b8f-0e95-4284-ae0c-8a0f49242f04</td>\n",
       "      <td>6869ff2c-5e57-4bae-8c4a-fa88439cdc80</td>\n",
       "      <td>{'path': 'logikon/oasst1-delib', 'id_field': '...</td>\n",
       "      <td>en</td>\n",
       "      <td>2023-09-28T17:06:07.150706</td>\n",
       "      <td>{'directed': None, 'multigraph': None, 'graph'...</td>\n",
       "      <td>{'names': ['argmap_size', 'argmap_attack_ratio...</td>\n",
       "      <td>meta-llama/Llama-2-13b-chat-hf</td>\n",
       "      <td>{'logikon_config': {'expert_model': 'meta-llam...</td>\n",
       "    </tr>\n",
       "    <tr>\n",
       "      <th>259</th>\n",
       "      <td>05cbc909-3ea7-4c81-aaf2-c6855d9f321f</td>\n",
       "      <td>0307848f-2a73-4204-8da2-c6bf16360c39</td>\n",
       "      <td>{'path': 'logikon/oasst1-delib', 'id_field': '...</td>\n",
       "      <td>en</td>\n",
       "      <td>2023-09-28T17:06:17.065392</td>\n",
       "      <td>{'directed': None, 'multigraph': None, 'graph'...</td>\n",
       "      <td>{'names': ['argmap_size', 'argmap_attack_ratio...</td>\n",
       "      <td>meta-llama/Llama-2-13b-chat-hf</td>\n",
       "      <td>{'logikon_config': {'expert_model': 'meta-llam...</td>\n",
       "    </tr>\n",
       "  </tbody>\n",
       "</table>\n",
       "<p>260 rows × 9 columns</p>\n",
       "</div>"
      ],
      "text/plain": [
       "                                       id  \\\n",
       "0    f21dd97f-0388-4f59-90b1-91133e9486a4   \n",
       "1    e200cc82-c136-4dc5-a8b0-36346f6d6f4b   \n",
       "2    4fa9216f-0787-4e41-a1fb-7cfeb635574f   \n",
       "3    41c22886-5cfb-4c96-955e-537db851b8d2   \n",
       "4    49e81ac6-d84d-4f66-bfe4-b5a2ff320eec   \n",
       "..                                    ...   \n",
       "255  5deeba7a-4de5-4a2e-98e4-b6ae63990305   \n",
       "256  fcc669f2-8860-434a-b5f8-aa0e22eae183   \n",
       "257  68475379-67f2-4cf1-8a7a-e4c2835065fc   \n",
       "258  77799b8f-0e95-4284-ae0c-8a0f49242f04   \n",
       "259  05cbc909-3ea7-4c81-aaf2-c6855d9f321f   \n",
       "\n",
       "                             reference_id  \\\n",
       "0    7c2f230c-3153-4baf-b938-445dac1ddd56   \n",
       "1    98c5903b-5f7b-4d86-bb57-785530d1876c   \n",
       "2    8aaeeb64-585a-428b-a3d7-87fd6ab22135   \n",
       "3    876e80cf-43a7-4fa4-b4d2-86ebf46f222c   \n",
       "4    0fafd61d-483b-4829-84c6-b210697b124b   \n",
       "..                                    ...   \n",
       "255  325a5626-f807-4e74-84bd-fd5083fbeb7f   \n",
       "256  5faa0fa0-6a01-49b2-8a31-3f31001c74a7   \n",
       "257  a07c9554-f97d-4447-af93-98a05c803144   \n",
       "258  6869ff2c-5e57-4bae-8c4a-fa88439cdc80   \n",
       "259  0307848f-2a73-4204-8da2-c6bf16360c39   \n",
       "\n",
       "                                     reference_dataset lang  \\\n",
       "0    {'path': 'logikon/oasst1-delib', 'id_field': '...   en   \n",
       "1    {'path': 'logikon/oasst1-delib', 'id_field': '...   en   \n",
       "2    {'path': 'logikon/oasst1-delib', 'id_field': '...   en   \n",
       "3    {'path': 'logikon/oasst1-delib', 'id_field': '...   en   \n",
       "4    {'path': 'logikon/oasst1-delib', 'id_field': '...   en   \n",
       "..                                                 ...  ...   \n",
       "255  {'path': 'logikon/oasst1-delib', 'id_field': '...   en   \n",
       "256  {'path': 'logikon/oasst1-delib', 'id_field': '...   en   \n",
       "257  {'path': 'logikon/oasst1-delib', 'id_field': '...   en   \n",
       "258  {'path': 'logikon/oasst1-delib', 'id_field': '...   en   \n",
       "259  {'path': 'logikon/oasst1-delib', 'id_field': '...   en   \n",
       "\n",
       "                   created_date  \\\n",
       "0    2023-09-28T07:26:08.706283   \n",
       "1    2023-09-28T07:27:57.421849   \n",
       "2    2023-09-28T07:28:29.857980   \n",
       "3    2023-09-28T07:29:48.584017   \n",
       "4    2023-09-28T07:30:30.835269   \n",
       "..                          ...   \n",
       "255  2023-09-28T17:05:56.901792   \n",
       "256  2023-09-28T17:05:58.640229   \n",
       "257  2023-09-28T17:06:04.233395   \n",
       "258  2023-09-28T17:06:07.150706   \n",
       "259  2023-09-28T17:06:17.065392   \n",
       "\n",
       "                                                argmap  \\\n",
       "0    {'directed': True, 'multigraph': False, 'graph...   \n",
       "1    {'directed': True, 'multigraph': False, 'graph...   \n",
       "2    {'directed': True, 'multigraph': False, 'graph...   \n",
       "3    {'directed': True, 'multigraph': False, 'graph...   \n",
       "4    {'directed': True, 'multigraph': False, 'graph...   \n",
       "..                                                 ...   \n",
       "255  {'directed': True, 'multigraph': False, 'graph...   \n",
       "256  {'directed': None, 'multigraph': None, 'graph'...   \n",
       "257  {'directed': None, 'multigraph': None, 'graph'...   \n",
       "258  {'directed': None, 'multigraph': None, 'graph'...   \n",
       "259  {'directed': None, 'multigraph': None, 'graph'...   \n",
       "\n",
       "                                                scores  \\\n",
       "0    {'names': ['argmap_size', 'argmap_attack_ratio...   \n",
       "1    {'names': ['argmap_size', 'argmap_attack_ratio...   \n",
       "2    {'names': ['argmap_size', 'argmap_attack_ratio...   \n",
       "3    {'names': ['argmap_size', 'argmap_attack_ratio...   \n",
       "4    {'names': ['argmap_size', 'argmap_attack_ratio...   \n",
       "..                                                 ...   \n",
       "255  {'names': ['argmap_size', 'argmap_attack_ratio...   \n",
       "256  {'names': ['argmap_size', 'argmap_attack_ratio...   \n",
       "257  {'names': ['argmap_size', 'argmap_attack_ratio...   \n",
       "258  {'names': ['argmap_size', 'argmap_attack_ratio...   \n",
       "259  {'names': ['argmap_size', 'argmap_attack_ratio...   \n",
       "\n",
       "                                model  \\\n",
       "0    Open-Orca/OpenOrca-Platypus2-13B   \n",
       "1    Open-Orca/OpenOrca-Platypus2-13B   \n",
       "2    Open-Orca/OpenOrca-Platypus2-13B   \n",
       "3    Open-Orca/OpenOrca-Platypus2-13B   \n",
       "4    Open-Orca/OpenOrca-Platypus2-13B   \n",
       "..                                ...   \n",
       "255    meta-llama/Llama-2-13b-chat-hf   \n",
       "256    meta-llama/Llama-2-13b-chat-hf   \n",
       "257    meta-llama/Llama-2-13b-chat-hf   \n",
       "258    meta-llama/Llama-2-13b-chat-hf   \n",
       "259    meta-llama/Llama-2-13b-chat-hf   \n",
       "\n",
       "                                              metadata  \n",
       "0    {'logikon_config': {'expert_model': 'Open-Orca...  \n",
       "1    {'logikon_config': {'expert_model': 'Open-Orca...  \n",
       "2    {'logikon_config': {'expert_model': 'Open-Orca...  \n",
       "3    {'logikon_config': {'expert_model': 'Open-Orca...  \n",
       "4    {'logikon_config': {'expert_model': 'Open-Orca...  \n",
       "..                                                 ...  \n",
       "255  {'logikon_config': {'expert_model': 'meta-llam...  \n",
       "256  {'logikon_config': {'expert_model': 'meta-llam...  \n",
       "257  {'logikon_config': {'expert_model': 'meta-llam...  \n",
       "258  {'logikon_config': {'expert_model': 'meta-llam...  \n",
       "259  {'logikon_config': {'expert_model': 'meta-llam...  \n",
       "\n",
       "[260 rows x 9 columns]"
      ]
     },
     "execution_count": 143,
     "metadata": {},
     "output_type": "execute_result"
    }
   ],
   "source": [
    "import pandas as pd\n",
    "\n",
    "df = pd.DataFrame(ds_test[\"train\"])\n",
    "df"
   ]
  },
  {
   "cell_type": "code",
   "execution_count": null,
   "metadata": {},
   "outputs": [],
   "source": []
  },
  {
   "cell_type": "code",
   "execution_count": 144,
   "metadata": {},
   "outputs": [
    {
     "data": {
      "text/plain": [
       "['argmap_size', 'argmap_attack_ratio', 'argmap_avg_katz_centrality']"
      ]
     },
     "execution_count": 144,
     "metadata": {},
     "output_type": "execute_result"
    }
   ],
   "source": [
    "# get all metric labels in ds\n",
    "metric_labels = list(set([\n",
    "    name \n",
    "    for name_list in df.scores.apply(lambda x: x[\"names\"]).to_list()\n",
    "    for name in name_list\n",
    "]))\n",
    "metric_labels"
   ]
  },
  {
   "cell_type": "code",
   "execution_count": 145,
   "metadata": {},
   "outputs": [
    {
     "data": {
      "text/plain": [
       "0      6.0\n",
       "1      3.0\n",
       "2      1.0\n",
       "3      2.0\n",
       "4      1.0\n",
       "      ... \n",
       "255    1.0\n",
       "256    0.0\n",
       "257    0.0\n",
       "258    0.0\n",
       "259    0.0\n",
       "Name: scores, Length: 260, dtype: float64"
      ]
     },
     "execution_count": 145,
     "metadata": {},
     "output_type": "execute_result"
    }
   ],
   "source": [
    "metric_label = metric_labels[0]\n",
    "\n",
    "def get_metric_value(scores, metric_label):\n",
    "    if not metric_label in scores.get(\"names\",[]):\n",
    "        return None\n",
    "    idx = scores.get(\"names\",[]).index(metric_label)\n",
    "    return scores[\"values\"][idx]\n",
    "\n",
    "df[\"scores\"].apply(lambda x: get_metric_value(x, metric_label))"
   ]
  },
  {
   "cell_type": "code",
   "execution_count": 146,
   "metadata": {},
   "outputs": [
    {
     "data": {
      "text/html": [
       "<div>\n",
       "<style scoped>\n",
       "    .dataframe tbody tr th:only-of-type {\n",
       "        vertical-align: middle;\n",
       "    }\n",
       "\n",
       "    .dataframe tbody tr th {\n",
       "        vertical-align: top;\n",
       "    }\n",
       "\n",
       "    .dataframe thead th {\n",
       "        text-align: right;\n",
       "    }\n",
       "</style>\n",
       "<table border=\"1\" class=\"dataframe\">\n",
       "  <thead>\n",
       "    <tr style=\"text-align: right;\">\n",
       "      <th></th>\n",
       "      <th>id</th>\n",
       "      <th>reference_id</th>\n",
       "      <th>reference_dataset</th>\n",
       "      <th>lang</th>\n",
       "      <th>created_date</th>\n",
       "      <th>argmap</th>\n",
       "      <th>scores</th>\n",
       "      <th>model</th>\n",
       "      <th>metadata</th>\n",
       "      <th>argmap_size</th>\n",
       "      <th>argmap_attack_ratio</th>\n",
       "      <th>argmap_avg_katz_centrality</th>\n",
       "    </tr>\n",
       "  </thead>\n",
       "  <tbody>\n",
       "    <tr>\n",
       "      <th>0</th>\n",
       "      <td>f21dd97f-0388-4f59-90b1-91133e9486a4</td>\n",
       "      <td>7c2f230c-3153-4baf-b938-445dac1ddd56</td>\n",
       "      <td>{'path': 'logikon/oasst1-delib', 'id_field': '...</td>\n",
       "      <td>en</td>\n",
       "      <td>2023-09-28T07:26:08.706283</td>\n",
       "      <td>{'directed': True, 'multigraph': False, 'graph...</td>\n",
       "      <td>{'names': ['argmap_size', 'argmap_attack_ratio...</td>\n",
       "      <td>Open-Orca/OpenOrca-Platypus2-13B</td>\n",
       "      <td>{'logikon_config': {'expert_model': 'Open-Orca...</td>\n",
       "      <td>6.0</td>\n",
       "      <td>0.952381</td>\n",
       "      <td>0.402731</td>\n",
       "    </tr>\n",
       "    <tr>\n",
       "      <th>1</th>\n",
       "      <td>e200cc82-c136-4dc5-a8b0-36346f6d6f4b</td>\n",
       "      <td>98c5903b-5f7b-4d86-bb57-785530d1876c</td>\n",
       "      <td>{'path': 'logikon/oasst1-delib', 'id_field': '...</td>\n",
       "      <td>en</td>\n",
       "      <td>2023-09-28T07:27:57.421849</td>\n",
       "      <td>{'directed': True, 'multigraph': False, 'graph...</td>\n",
       "      <td>{'names': ['argmap_size', 'argmap_attack_ratio...</td>\n",
       "      <td>Open-Orca/OpenOrca-Platypus2-13B</td>\n",
       "      <td>{'logikon_config': {'expert_model': 'Open-Orca...</td>\n",
       "      <td>3.0</td>\n",
       "      <td>1.000000</td>\n",
       "      <td>0.577350</td>\n",
       "    </tr>\n",
       "    <tr>\n",
       "      <th>2</th>\n",
       "      <td>4fa9216f-0787-4e41-a1fb-7cfeb635574f</td>\n",
       "      <td>8aaeeb64-585a-428b-a3d7-87fd6ab22135</td>\n",
       "      <td>{'path': 'logikon/oasst1-delib', 'id_field': '...</td>\n",
       "      <td>en</td>\n",
       "      <td>2023-09-28T07:28:29.857980</td>\n",
       "      <td>{'directed': True, 'multigraph': False, 'graph...</td>\n",
       "      <td>{'names': ['argmap_size', 'argmap_attack_ratio...</td>\n",
       "      <td>Open-Orca/OpenOrca-Platypus2-13B</td>\n",
       "      <td>{'logikon_config': {'expert_model': 'Open-Orca...</td>\n",
       "      <td>1.0</td>\n",
       "      <td>0.000000</td>\n",
       "      <td>1.000000</td>\n",
       "    </tr>\n",
       "    <tr>\n",
       "      <th>3</th>\n",
       "      <td>41c22886-5cfb-4c96-955e-537db851b8d2</td>\n",
       "      <td>876e80cf-43a7-4fa4-b4d2-86ebf46f222c</td>\n",
       "      <td>{'path': 'logikon/oasst1-delib', 'id_field': '...</td>\n",
       "      <td>en</td>\n",
       "      <td>2023-09-28T07:29:48.584017</td>\n",
       "      <td>{'directed': True, 'multigraph': False, 'graph...</td>\n",
       "      <td>{'names': ['argmap_size', 'argmap_attack_ratio...</td>\n",
       "      <td>Open-Orca/OpenOrca-Platypus2-13B</td>\n",
       "      <td>{'logikon_config': {'expert_model': 'Open-Orca...</td>\n",
       "      <td>2.0</td>\n",
       "      <td>1.000000</td>\n",
       "      <td>0.707107</td>\n",
       "    </tr>\n",
       "    <tr>\n",
       "      <th>4</th>\n",
       "      <td>49e81ac6-d84d-4f66-bfe4-b5a2ff320eec</td>\n",
       "      <td>0fafd61d-483b-4829-84c6-b210697b124b</td>\n",
       "      <td>{'path': 'logikon/oasst1-delib', 'id_field': '...</td>\n",
       "      <td>en</td>\n",
       "      <td>2023-09-28T07:30:30.835269</td>\n",
       "      <td>{'directed': True, 'multigraph': False, 'graph...</td>\n",
       "      <td>{'names': ['argmap_size', 'argmap_attack_ratio...</td>\n",
       "      <td>Open-Orca/OpenOrca-Platypus2-13B</td>\n",
       "      <td>{'logikon_config': {'expert_model': 'Open-Orca...</td>\n",
       "      <td>1.0</td>\n",
       "      <td>0.000000</td>\n",
       "      <td>1.000000</td>\n",
       "    </tr>\n",
       "    <tr>\n",
       "      <th>...</th>\n",
       "      <td>...</td>\n",
       "      <td>...</td>\n",
       "      <td>...</td>\n",
       "      <td>...</td>\n",
       "      <td>...</td>\n",
       "      <td>...</td>\n",
       "      <td>...</td>\n",
       "      <td>...</td>\n",
       "      <td>...</td>\n",
       "      <td>...</td>\n",
       "      <td>...</td>\n",
       "      <td>...</td>\n",
       "    </tr>\n",
       "    <tr>\n",
       "      <th>255</th>\n",
       "      <td>5deeba7a-4de5-4a2e-98e4-b6ae63990305</td>\n",
       "      <td>325a5626-f807-4e74-84bd-fd5083fbeb7f</td>\n",
       "      <td>{'path': 'logikon/oasst1-delib', 'id_field': '...</td>\n",
       "      <td>en</td>\n",
       "      <td>2023-09-28T17:05:56.901792</td>\n",
       "      <td>{'directed': True, 'multigraph': False, 'graph...</td>\n",
       "      <td>{'names': ['argmap_size', 'argmap_attack_ratio...</td>\n",
       "      <td>meta-llama/Llama-2-13b-chat-hf</td>\n",
       "      <td>{'logikon_config': {'expert_model': 'meta-llam...</td>\n",
       "      <td>1.0</td>\n",
       "      <td>0.000000</td>\n",
       "      <td>1.000000</td>\n",
       "    </tr>\n",
       "    <tr>\n",
       "      <th>256</th>\n",
       "      <td>fcc669f2-8860-434a-b5f8-aa0e22eae183</td>\n",
       "      <td>5faa0fa0-6a01-49b2-8a31-3f31001c74a7</td>\n",
       "      <td>{'path': 'logikon/oasst1-delib', 'id_field': '...</td>\n",
       "      <td>en</td>\n",
       "      <td>2023-09-28T17:05:58.640229</td>\n",
       "      <td>{'directed': None, 'multigraph': None, 'graph'...</td>\n",
       "      <td>{'names': ['argmap_size', 'argmap_attack_ratio...</td>\n",
       "      <td>meta-llama/Llama-2-13b-chat-hf</td>\n",
       "      <td>{'logikon_config': {'expert_model': 'meta-llam...</td>\n",
       "      <td>0.0</td>\n",
       "      <td>0.000000</td>\n",
       "      <td>NaN</td>\n",
       "    </tr>\n",
       "    <tr>\n",
       "      <th>257</th>\n",
       "      <td>68475379-67f2-4cf1-8a7a-e4c2835065fc</td>\n",
       "      <td>a07c9554-f97d-4447-af93-98a05c803144</td>\n",
       "      <td>{'path': 'logikon/oasst1-delib', 'id_field': '...</td>\n",
       "      <td>en</td>\n",
       "      <td>2023-09-28T17:06:04.233395</td>\n",
       "      <td>{'directed': None, 'multigraph': None, 'graph'...</td>\n",
       "      <td>{'names': ['argmap_size', 'argmap_attack_ratio...</td>\n",
       "      <td>meta-llama/Llama-2-13b-chat-hf</td>\n",
       "      <td>{'logikon_config': {'expert_model': 'meta-llam...</td>\n",
       "      <td>0.0</td>\n",
       "      <td>0.000000</td>\n",
       "      <td>NaN</td>\n",
       "    </tr>\n",
       "    <tr>\n",
       "      <th>258</th>\n",
       "      <td>77799b8f-0e95-4284-ae0c-8a0f49242f04</td>\n",
       "      <td>6869ff2c-5e57-4bae-8c4a-fa88439cdc80</td>\n",
       "      <td>{'path': 'logikon/oasst1-delib', 'id_field': '...</td>\n",
       "      <td>en</td>\n",
       "      <td>2023-09-28T17:06:07.150706</td>\n",
       "      <td>{'directed': None, 'multigraph': None, 'graph'...</td>\n",
       "      <td>{'names': ['argmap_size', 'argmap_attack_ratio...</td>\n",
       "      <td>meta-llama/Llama-2-13b-chat-hf</td>\n",
       "      <td>{'logikon_config': {'expert_model': 'meta-llam...</td>\n",
       "      <td>0.0</td>\n",
       "      <td>0.000000</td>\n",
       "      <td>NaN</td>\n",
       "    </tr>\n",
       "    <tr>\n",
       "      <th>259</th>\n",
       "      <td>05cbc909-3ea7-4c81-aaf2-c6855d9f321f</td>\n",
       "      <td>0307848f-2a73-4204-8da2-c6bf16360c39</td>\n",
       "      <td>{'path': 'logikon/oasst1-delib', 'id_field': '...</td>\n",
       "      <td>en</td>\n",
       "      <td>2023-09-28T17:06:17.065392</td>\n",
       "      <td>{'directed': None, 'multigraph': None, 'graph'...</td>\n",
       "      <td>{'names': ['argmap_size', 'argmap_attack_ratio...</td>\n",
       "      <td>meta-llama/Llama-2-13b-chat-hf</td>\n",
       "      <td>{'logikon_config': {'expert_model': 'meta-llam...</td>\n",
       "      <td>0.0</td>\n",
       "      <td>0.000000</td>\n",
       "      <td>NaN</td>\n",
       "    </tr>\n",
       "  </tbody>\n",
       "</table>\n",
       "<p>260 rows × 12 columns</p>\n",
       "</div>"
      ],
      "text/plain": [
       "                                       id  \\\n",
       "0    f21dd97f-0388-4f59-90b1-91133e9486a4   \n",
       "1    e200cc82-c136-4dc5-a8b0-36346f6d6f4b   \n",
       "2    4fa9216f-0787-4e41-a1fb-7cfeb635574f   \n",
       "3    41c22886-5cfb-4c96-955e-537db851b8d2   \n",
       "4    49e81ac6-d84d-4f66-bfe4-b5a2ff320eec   \n",
       "..                                    ...   \n",
       "255  5deeba7a-4de5-4a2e-98e4-b6ae63990305   \n",
       "256  fcc669f2-8860-434a-b5f8-aa0e22eae183   \n",
       "257  68475379-67f2-4cf1-8a7a-e4c2835065fc   \n",
       "258  77799b8f-0e95-4284-ae0c-8a0f49242f04   \n",
       "259  05cbc909-3ea7-4c81-aaf2-c6855d9f321f   \n",
       "\n",
       "                             reference_id  \\\n",
       "0    7c2f230c-3153-4baf-b938-445dac1ddd56   \n",
       "1    98c5903b-5f7b-4d86-bb57-785530d1876c   \n",
       "2    8aaeeb64-585a-428b-a3d7-87fd6ab22135   \n",
       "3    876e80cf-43a7-4fa4-b4d2-86ebf46f222c   \n",
       "4    0fafd61d-483b-4829-84c6-b210697b124b   \n",
       "..                                    ...   \n",
       "255  325a5626-f807-4e74-84bd-fd5083fbeb7f   \n",
       "256  5faa0fa0-6a01-49b2-8a31-3f31001c74a7   \n",
       "257  a07c9554-f97d-4447-af93-98a05c803144   \n",
       "258  6869ff2c-5e57-4bae-8c4a-fa88439cdc80   \n",
       "259  0307848f-2a73-4204-8da2-c6bf16360c39   \n",
       "\n",
       "                                     reference_dataset lang  \\\n",
       "0    {'path': 'logikon/oasst1-delib', 'id_field': '...   en   \n",
       "1    {'path': 'logikon/oasst1-delib', 'id_field': '...   en   \n",
       "2    {'path': 'logikon/oasst1-delib', 'id_field': '...   en   \n",
       "3    {'path': 'logikon/oasst1-delib', 'id_field': '...   en   \n",
       "4    {'path': 'logikon/oasst1-delib', 'id_field': '...   en   \n",
       "..                                                 ...  ...   \n",
       "255  {'path': 'logikon/oasst1-delib', 'id_field': '...   en   \n",
       "256  {'path': 'logikon/oasst1-delib', 'id_field': '...   en   \n",
       "257  {'path': 'logikon/oasst1-delib', 'id_field': '...   en   \n",
       "258  {'path': 'logikon/oasst1-delib', 'id_field': '...   en   \n",
       "259  {'path': 'logikon/oasst1-delib', 'id_field': '...   en   \n",
       "\n",
       "                   created_date  \\\n",
       "0    2023-09-28T07:26:08.706283   \n",
       "1    2023-09-28T07:27:57.421849   \n",
       "2    2023-09-28T07:28:29.857980   \n",
       "3    2023-09-28T07:29:48.584017   \n",
       "4    2023-09-28T07:30:30.835269   \n",
       "..                          ...   \n",
       "255  2023-09-28T17:05:56.901792   \n",
       "256  2023-09-28T17:05:58.640229   \n",
       "257  2023-09-28T17:06:04.233395   \n",
       "258  2023-09-28T17:06:07.150706   \n",
       "259  2023-09-28T17:06:17.065392   \n",
       "\n",
       "                                                argmap  \\\n",
       "0    {'directed': True, 'multigraph': False, 'graph...   \n",
       "1    {'directed': True, 'multigraph': False, 'graph...   \n",
       "2    {'directed': True, 'multigraph': False, 'graph...   \n",
       "3    {'directed': True, 'multigraph': False, 'graph...   \n",
       "4    {'directed': True, 'multigraph': False, 'graph...   \n",
       "..                                                 ...   \n",
       "255  {'directed': True, 'multigraph': False, 'graph...   \n",
       "256  {'directed': None, 'multigraph': None, 'graph'...   \n",
       "257  {'directed': None, 'multigraph': None, 'graph'...   \n",
       "258  {'directed': None, 'multigraph': None, 'graph'...   \n",
       "259  {'directed': None, 'multigraph': None, 'graph'...   \n",
       "\n",
       "                                                scores  \\\n",
       "0    {'names': ['argmap_size', 'argmap_attack_ratio...   \n",
       "1    {'names': ['argmap_size', 'argmap_attack_ratio...   \n",
       "2    {'names': ['argmap_size', 'argmap_attack_ratio...   \n",
       "3    {'names': ['argmap_size', 'argmap_attack_ratio...   \n",
       "4    {'names': ['argmap_size', 'argmap_attack_ratio...   \n",
       "..                                                 ...   \n",
       "255  {'names': ['argmap_size', 'argmap_attack_ratio...   \n",
       "256  {'names': ['argmap_size', 'argmap_attack_ratio...   \n",
       "257  {'names': ['argmap_size', 'argmap_attack_ratio...   \n",
       "258  {'names': ['argmap_size', 'argmap_attack_ratio...   \n",
       "259  {'names': ['argmap_size', 'argmap_attack_ratio...   \n",
       "\n",
       "                                model  \\\n",
       "0    Open-Orca/OpenOrca-Platypus2-13B   \n",
       "1    Open-Orca/OpenOrca-Platypus2-13B   \n",
       "2    Open-Orca/OpenOrca-Platypus2-13B   \n",
       "3    Open-Orca/OpenOrca-Platypus2-13B   \n",
       "4    Open-Orca/OpenOrca-Platypus2-13B   \n",
       "..                                ...   \n",
       "255    meta-llama/Llama-2-13b-chat-hf   \n",
       "256    meta-llama/Llama-2-13b-chat-hf   \n",
       "257    meta-llama/Llama-2-13b-chat-hf   \n",
       "258    meta-llama/Llama-2-13b-chat-hf   \n",
       "259    meta-llama/Llama-2-13b-chat-hf   \n",
       "\n",
       "                                              metadata  argmap_size  \\\n",
       "0    {'logikon_config': {'expert_model': 'Open-Orca...          6.0   \n",
       "1    {'logikon_config': {'expert_model': 'Open-Orca...          3.0   \n",
       "2    {'logikon_config': {'expert_model': 'Open-Orca...          1.0   \n",
       "3    {'logikon_config': {'expert_model': 'Open-Orca...          2.0   \n",
       "4    {'logikon_config': {'expert_model': 'Open-Orca...          1.0   \n",
       "..                                                 ...          ...   \n",
       "255  {'logikon_config': {'expert_model': 'meta-llam...          1.0   \n",
       "256  {'logikon_config': {'expert_model': 'meta-llam...          0.0   \n",
       "257  {'logikon_config': {'expert_model': 'meta-llam...          0.0   \n",
       "258  {'logikon_config': {'expert_model': 'meta-llam...          0.0   \n",
       "259  {'logikon_config': {'expert_model': 'meta-llam...          0.0   \n",
       "\n",
       "     argmap_attack_ratio  argmap_avg_katz_centrality  \n",
       "0               0.952381                    0.402731  \n",
       "1               1.000000                    0.577350  \n",
       "2               0.000000                    1.000000  \n",
       "3               1.000000                    0.707107  \n",
       "4               0.000000                    1.000000  \n",
       "..                   ...                         ...  \n",
       "255             0.000000                    1.000000  \n",
       "256             0.000000                         NaN  \n",
       "257             0.000000                         NaN  \n",
       "258             0.000000                         NaN  \n",
       "259             0.000000                         NaN  \n",
       "\n",
       "[260 rows x 12 columns]"
      ]
     },
     "execution_count": 146,
     "metadata": {},
     "output_type": "execute_result"
    }
   ],
   "source": [
    "for metric_label in metric_labels:\n",
    "    df[metric_label] = df[\"scores\"].apply(lambda x: get_metric_value(x, metric_label))\n",
    "\n",
    "df"
   ]
  },
  {
   "cell_type": "code",
   "execution_count": 162,
   "metadata": {},
   "outputs": [
    {
     "data": {
      "text/html": [
       "<div>\n",
       "<style scoped>\n",
       "    .dataframe tbody tr th:only-of-type {\n",
       "        vertical-align: middle;\n",
       "    }\n",
       "\n",
       "    .dataframe tbody tr th {\n",
       "        vertical-align: top;\n",
       "    }\n",
       "\n",
       "    .dataframe thead th {\n",
       "        text-align: right;\n",
       "    }\n",
       "</style>\n",
       "<table border=\"1\" class=\"dataframe\">\n",
       "  <thead>\n",
       "    <tr style=\"text-align: right;\">\n",
       "      <th></th>\n",
       "      <th>reference_id</th>\n",
       "      <th>metric_label</th>\n",
       "      <th>model_minuend</th>\n",
       "      <th>model_subtrahend</th>\n",
       "      <th>diff</th>\n",
       "    </tr>\n",
       "  </thead>\n",
       "  <tbody>\n",
       "    <tr>\n",
       "      <th>0</th>\n",
       "      <td>d02cdb70-db1d-443c-9d65-232167c84d12</td>\n",
       "      <td>argmap_size</td>\n",
       "      <td>meta-llama/Llama-2-13b-chat-hf</td>\n",
       "      <td>meta-llama/Llama-2-13b-chat-hf</td>\n",
       "      <td>0.0</td>\n",
       "    </tr>\n",
       "    <tr>\n",
       "      <th>1</th>\n",
       "      <td>d02cdb70-db1d-443c-9d65-232167c84d12</td>\n",
       "      <td>argmap_size</td>\n",
       "      <td>meta-llama/Llama-2-13b-chat-hf</td>\n",
       "      <td>gpt-3.5-turbo-instruct</td>\n",
       "      <td>-16.0</td>\n",
       "    </tr>\n",
       "    <tr>\n",
       "      <th>2</th>\n",
       "      <td>d02cdb70-db1d-443c-9d65-232167c84d12</td>\n",
       "      <td>argmap_size</td>\n",
       "      <td>meta-llama/Llama-2-13b-chat-hf</td>\n",
       "      <td>Open-Orca/OpenOrca-Platypus2-13B</td>\n",
       "      <td>-2.0</td>\n",
       "    </tr>\n",
       "    <tr>\n",
       "      <th>3</th>\n",
       "      <td>d02cdb70-db1d-443c-9d65-232167c84d12</td>\n",
       "      <td>argmap_size</td>\n",
       "      <td>gpt-3.5-turbo-instruct</td>\n",
       "      <td>meta-llama/Llama-2-13b-chat-hf</td>\n",
       "      <td>16.0</td>\n",
       "    </tr>\n",
       "    <tr>\n",
       "      <th>4</th>\n",
       "      <td>d02cdb70-db1d-443c-9d65-232167c84d12</td>\n",
       "      <td>argmap_size</td>\n",
       "      <td>gpt-3.5-turbo-instruct</td>\n",
       "      <td>gpt-3.5-turbo-instruct</td>\n",
       "      <td>0.0</td>\n",
       "    </tr>\n",
       "  </tbody>\n",
       "</table>\n",
       "</div>"
      ],
      "text/plain": [
       "                           reference_id metric_label  \\\n",
       "0  d02cdb70-db1d-443c-9d65-232167c84d12  argmap_size   \n",
       "1  d02cdb70-db1d-443c-9d65-232167c84d12  argmap_size   \n",
       "2  d02cdb70-db1d-443c-9d65-232167c84d12  argmap_size   \n",
       "3  d02cdb70-db1d-443c-9d65-232167c84d12  argmap_size   \n",
       "4  d02cdb70-db1d-443c-9d65-232167c84d12  argmap_size   \n",
       "\n",
       "                    model_minuend                  model_subtrahend  diff  \n",
       "0  meta-llama/Llama-2-13b-chat-hf    meta-llama/Llama-2-13b-chat-hf   0.0  \n",
       "1  meta-llama/Llama-2-13b-chat-hf            gpt-3.5-turbo-instruct -16.0  \n",
       "2  meta-llama/Llama-2-13b-chat-hf  Open-Orca/OpenOrca-Platypus2-13B  -2.0  \n",
       "3          gpt-3.5-turbo-instruct    meta-llama/Llama-2-13b-chat-hf  16.0  \n",
       "4          gpt-3.5-turbo-instruct            gpt-3.5-turbo-instruct   0.0  "
      ]
     },
     "execution_count": 162,
     "metadata": {},
     "output_type": "execute_result"
    }
   ],
   "source": [
    "# construct a dataset that stores model disagreement for all metrics\n",
    "\n",
    "\n",
    "reference_ids = list(set(df.reference_id.to_list()))\n",
    "\n",
    "data_diff = []\n",
    "\n",
    "for metric_label in metric_labels:\n",
    "    for reference_id in reference_ids:\n",
    "        df_sameref = df[df.reference_id.eq(reference_id)]\n",
    "        models = list(set(df_sameref.model.to_list()))\n",
    "        for model_minuend in models:\n",
    "            for model_subtrahend in models:\n",
    "                diff = 0\n",
    "                if model_minuend != model_subtrahend:\n",
    "                    metric_value = lambda model: df_sameref[df_sameref.model.eq(model)][metric_label].iloc[0]\n",
    "                    diff = metric_value(model_minuend) - metric_value(model_subtrahend)\n",
    "                data_diff.append(dict(\n",
    "                    reference_id=reference_id,\n",
    "                    metric_label=metric_label,\n",
    "                    model_minuend=\"\\n\".join(textwrap.wrap(model_minuend,width=10)),\n",
    "                    model_subtrahend=\"\\n\".join(textwrap.wrap(model_subtrahend,width=10)),\n",
    "                    diff=diff,\n",
    "                ))\n",
    "\n",
    "df_diff = pd.DataFrame(data_diff)\n",
    "df_diff.head()"
   ]
  },
  {
   "cell_type": "code",
   "execution_count": 168,
   "metadata": {},
   "outputs": [],
   "source": [
    "df_diff.model_minuend = df_diff.model_minuend.apply(lambda x: \"\\n\".join(textwrap.wrap(x,width=10)))\n",
    "df_diff.model_subtrahend = df_diff.model_subtrahend.apply(lambda x: \"\\n\".join(textwrap.wrap(x,width=10)))"
   ]
  },
  {
   "cell_type": "code",
   "execution_count": 169,
   "metadata": {},
   "outputs": [
    {
     "data": {
      "text/plain": [
       "['meta-llama/Llama-2-13b-chat-hf',\n",
       " 'Open-Orca/OpenOrca-Platypus2-13B',\n",
       " 'gpt-3.5-turbo-instruct']"
      ]
     },
     "execution_count": 169,
     "metadata": {},
     "output_type": "execute_result"
    }
   ],
   "source": [
    "def sort_models_by_metrics(metric_label):\n",
    "    return df.groupby(by=\"model\")[metric_label].mean().sort_values().index.to_list()\n",
    "\n",
    "sort_models_by_metrics(\"argmap_size\")"
   ]
  },
  {
   "cell_type": "code",
   "execution_count": 170,
   "metadata": {},
   "outputs": [
    {
     "name": "stderr",
     "output_type": "stream",
     "text": [
      "/var/folders/r8/7xxctbc53tv3fwt0wkz_5q440000gn/T/ipykernel_1098/1804166663.py:19: UserWarning: FigureCanvasAgg is non-interactive, and thus cannot be shown\n",
      "  fig.show()\n",
      "/var/folders/r8/7xxctbc53tv3fwt0wkz_5q440000gn/T/ipykernel_1098/1804166663.py:19: UserWarning: FigureCanvasAgg is non-interactive, and thus cannot be shown\n",
      "  fig.show()\n",
      "/var/folders/r8/7xxctbc53tv3fwt0wkz_5q440000gn/T/ipykernel_1098/1804166663.py:19: UserWarning: FigureCanvasAgg is non-interactive, and thus cannot be shown\n",
      "  fig.show()\n"
     ]
    },
    {
     "data": {
      "image/png": "[encoded data removed]",
      "text/plain": [
       "<Figure size 640x480 with 2 Axes>"
      ]
     },
     "metadata": {},
     "output_type": "display_data"
    },
    {
     "data": {
      "image/png": "[encoded data removed]",
      "text/plain": [
       "<Figure size 640x480 with 2 Axes>"
      ]
     },
     "metadata": {},
     "output_type": "display_data"
    },
    {
     "data": {
      "image/png": "[encoded data removed]",
      "text/plain": [
       "<Figure size 640x480 with 2 Axes>"
      ]
     },
     "metadata": {},
     "output_type": "display_data"
    }
   ],
   "source": [
    "import seaborn as sns\n",
    "import matplotlib.pyplot as plt\n",
    "\n",
    "for metric_label in metric_labels:\n",
    "\n",
    "    df_diffw = df_diff[\n",
    "        df_diff.metric_label.eq(metric_label)\n",
    "    ].groupby(by=[\"model_minuend\", \"model_subtrahend\"])[\"diff\"].mean().unstack()\n",
    "\n",
    "    #sorted_models = sort_models_by_metrics(metric_label)\n",
    "    #print(sorted_models)\n",
    "    #df_diffw = df_diffw.reindex(sorted_models, axis=0)\n",
    "    #df_diffw = df_diffw.reindex(sorted_models, axis=1)\n",
    "    #display(df_diffw)\n",
    "\n",
    "    fig, ax = plt.subplots()\n",
    "    sns.heatmap(df_diffw, cmap=\"vlag\", ax=ax)\n",
    "    ax.set_title(metric_label)\n",
    "    fig.show()"
   ]
  },
  {
   "cell_type": "code",
   "execution_count": 8,
   "metadata": {},
   "outputs": [
    {
     "data": {
      "text/plain": [
       "3"
      ]
     },
     "execution_count": 8,
     "metadata": {},
     "output_type": "execute_result"
    }
   ],
   "source": [
    "import numpy as np\n",
    "int(np.ceil(7 / 3))"
   ]
  },
  {
   "cell_type": "code",
   "execution_count": null,
   "metadata": {},
   "outputs": [],
   "source": []
  }
 ],
 "metadata": {
  "kernelspec": {
   "display_name": "Python 3 (ipykernel)",
   "language": "python",
   "name": "python3"
  },
  "language_info": {
   "codemirror_mode": {
    "name": "ipython",
    "version": 3
   },
   "file_extension": ".py",
   "mimetype": "text/x-python",
   "name": "python",
   "nbconvert_exporter": "python",
   "pygments_lexer": "ipython3",
   "version": "3.11.2"
  },
  "orig_nbformat": 4
 },
 "nbformat": 4,
 "nbformat_minor": 2
}
