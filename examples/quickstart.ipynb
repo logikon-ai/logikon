{
  "cells": [
    {
      "cell_type": "markdown",
      "metadata": {
        "colab_type": "text",
        "id": "view-in-github"
      },
      "source": [
        "<a href=\"https://colab.research.google.com/github/logikon-ai/logikon/blob/main/examples/quickstart.ipynb\" target=\"_parent\"><img src=\"https://colab.research.google.com/assets/colab-badge.svg\" alt=\"Open In Colab\"/></a>"
      ]
    },
    {
      "cell_type": "markdown",
      "metadata": {
        "id": "13hfBALnYtHL"
      },
      "source": [
        "# **Logikon `/\\/`** – Quickstart\n",
        "\n",
        "*Analyzing and Evaluating LLM Reasoning Traces*"
      ]
    },
    {
      "cell_type": "markdown",
      "metadata": {
        "id": "TUzKTbJtYtHM"
      },
      "source": [
        "This notebook demonstrates the basic usage of the `logikon` package.\n",
        "\n",
        "We're using 🤗's lightweight `zephyr-7b-beta` in this demo for its speed and small footprint. It tends to produce argumentative analyses that are creative and eloquent, rather than rigorous and exact -- and may hence not be the optimal expert model for your use cases."
      ]
    },
    {
      "cell_type": "markdown",
      "metadata": {
        "id": "apPN-0GVYtHN"
      },
      "source": [
        "> ⚠️ **Important notice.**\n",
        ">\n",
        "> **Logikon `/\\/`** is in early development stage:\n",
        "> * the package is subject to change at any time;\n",
        "> * results can vary due to changes in methods, pipelines, or underlying models;\n",
        "> * current speed and quality of evaluation results are not representative of future product.\n"
      ]
    },
    {
      "cell_type": "markdown",
      "metadata": {
        "id": "PBHAr94lFgCD"
      },
      "source": [
        "**Table of contents**\n",
        "\n",
        "1. [Set-up](#set-up)\n",
        "2. [Get reasoning traces](#examples)\n",
        "3. [Configure analysis](#configuration)\n",
        "4. [Run analysis](#run)\n",
        "5. [Inspect results](#inspect)"
      ]
    },
    {
      "cell_type": "markdown",
      "metadata": {
        "id": "fMyE0lBQYtHN"
      },
      "source": [
        "## 1. Set-up environment <a name=\"set-up\"></a>"
      ]
    },
    {
      "cell_type": "code",
      "execution_count": null,
      "metadata": {
        "id": "VEz318IJCaw7"
      },
      "outputs": [],
      "source": [
        "# Please make sure that the following files from the `examples` folder\n",
        "# in the `logikon-ai/logikon` GitHub repo are available.\n",
        "!test -f \"requirements.txt\" || echo \"Missing requirements.txt\"\n",
        "!test -f \"setup.sh\" || echo \"Missing setup.sh\"\n",
        "!test -f \"scoring.py\" || echo \"Missing scoring.py\""
      ]
    },
    {
      "cell_type": "code",
      "execution_count": null,
      "metadata": {
        "id": "uDIpY9XuCwkm"
      },
      "outputs": [],
      "source": [
        "# Configure the environment\n",
        "import os\n",
        "\n",
        "os.environ[\"LGK_FRAMEWORK\"] = \"llamacpp\"\n",
        "os.environ[\"LGK_DEVICE\"] = \"gpu\"\n",
        "os.environ[\"LGK_HUBREPO\"] = \"TheBloke/zephyr-7B-beta-GGUF\"\n",
        "os.environ[\"LGK_MODELWEIGHTS\"] = \"zephyr-7b-beta.Q6_K.gguf\"\n",
        "os.environ[\"LGK_TOKENIZER\"] = \"HuggingFaceH4/zephyr-7b-beta\"\n",
        "os.environ[\"LGK_RELEASE\"] = \"main\""
      ]
    },
    {
      "cell_type": "code",
      "execution_count": null,
      "metadata": {
        "colab": {
          "base_uri": "https://localhost:8080/"
        },
        "id": "epMW5Zx6W9nr",
        "outputId": "bf38dd67-ad7a-4b1b-98e6-ff562ea9ff8d"
      },
      "outputs": [
        {
          "name": "stdout",
          "output_type": "stream",
          "text": [
            "Fri Nov 10 08:34:40 2023       \n",
            "+-----------------------------------------------------------------------------+\n",
            "| NVIDIA-SMI 525.105.17   Driver Version: 525.105.17   CUDA Version: 12.0     |\n",
            "|-------------------------------+----------------------+----------------------+\n",
            "| GPU  Name        Persistence-M| Bus-Id        Disp.A | Volatile Uncorr. ECC |\n",
            "| Fan  Temp  Perf  Pwr:Usage/Cap|         Memory-Usage | GPU-Util  Compute M. |\n",
            "|                               |                      |               MIG M. |\n",
            "|===============================+======================+======================|\n",
            "|   0  Tesla T4            Off  | 00000000:00:04.0 Off |                    0 |\n",
            "| N/A   40C    P8     9W /  70W |      0MiB / 15360MiB |      0%      Default |\n",
            "|                               |                      |                  N/A |\n",
            "+-------------------------------+----------------------+----------------------+\n",
            "                                                                               \n",
            "+-----------------------------------------------------------------------------+\n",
            "| Processes:                                                                  |\n",
            "|  GPU   GI   CI        PID   Type   Process name                  GPU Memory |\n",
            "|        ID   ID                                                   Usage      |\n",
            "|=============================================================================|\n",
            "|  No running processes found                                                 |\n",
            "+-----------------------------------------------------------------------------+\n"
          ]
        }
      ],
      "source": [
        "# Check gpu available\n",
        "! [ \"$LGK_DEVICE\" = \"gpu\" ] && nvidia-smi"
      ]
    },
    {
      "cell_type": "code",
      "execution_count": null,
      "metadata": {
        "colab": {
          "base_uri": "https://localhost:8080/"
        },
        "id": "tSSiej4pY8-i",
        "outputId": "a52a65b5-d96e-477f-85fc-563d547f5f9f"
      },
      "outputs": [],
      "source": [
        "!sh setup.sh"
      ]
    },
    {
      "cell_type": "code",
      "execution_count": null,
      "metadata": {
        "colab": {
          "base_uri": "https://localhost:8080/",
          "height": 35
        },
        "id": "iFteYtUPJvDI",
        "outputId": "ff0cb017-620f-49ad-a906-71e1e38c9986"
      },
      "outputs": [
        {
          "data": {
            "application/vnd.google.colaboratory.intrinsic+json": {
              "type": "string"
            },
            "text/plain": [
              "'/content/models/zephyr-7b-beta.Q6_K.gguf'"
            ]
          },
          "execution_count": 20,
          "metadata": {},
          "output_type": "execute_result"
        }
      ],
      "source": [
        "import os\n",
        "\n",
        "if os.environ.get(\"LGK_MODELWEIGHTS\"):\n",
        "  abspath = os.path.join(\n",
        "    os.path.abspath(\"./models\"),\n",
        "    os.environ.get(\"LGK_MODELWEIGHTS\")\n",
        "  )\n",
        "else:\n",
        "  abspath = \"\"\n",
        "os.environ[\"LGK_ABSPATH_MODELWEIGHTS\"] = abspath\n",
        "os.environ[\"LGK_ABSPATH_MODELWEIGHTS\"]"
      ]
    },
    {
      "cell_type": "code",
      "execution_count": null,
      "metadata": {
        "id": "BN9HH97iL9OF"
      },
      "outputs": [],
      "source": [
        "# Check whether model weights file is available\n",
        "!test -f \"$LGK_ABSPATH_MODELWEIGHTS\" || echo \"Cannot find model weights\""
      ]
    },
    {
      "cell_type": "markdown",
      "metadata": {
        "id": "Q-XLmVrWAW9A"
      },
      "source": [
        "## 2. Example reasoning traces <a name=\"examples\"></a>"
      ]
    },
    {
      "cell_type": "code",
      "execution_count": null,
      "metadata": {
        "id": "4wDx93tsZulU"
      },
      "outputs": [],
      "source": [
        "EXAMPLE = {\n",
        "  \"prompt\": \"\"\"Can you give me some advice on whether I should use Vim or Emacs?\"\"\",\n",
        "  \"completion\": \"\"\"\n",
        "The choice between Vim and Emacs is a classic debate in the world of text editors and integrated\n",
        "development environments (IDEs). Both Vim and Emacs are powerful and highly customizable, but they\n",
        "have different philosophies and approaches to text editing. Your choice should depend on your\n",
        "specific needs and preferences. Here's a careful analysis of both editors:\n",
        "\n",
        "Vim:\n",
        "\n",
        "Modal Editing: Vim uses a modal editing approach, which means it has different modes for different\n",
        "tasks (insert mode, normal mode, visual mode, etc.). This can be more efficient for many users once\n",
        "they become proficient, as it minimizes the need for extensive keyboard shortcuts.\n",
        "\n",
        "Lightweight: Vim is known for its minimalistic design and lightweight footprint. It can run\n",
        "efficiently on even older hardware and over SSH connections, making it an excellent choice for\n",
        "remote server editing.\n",
        "\n",
        "Highly Efficient for Editing: Once you've mastered Vim, it can be incredibly efficient for text\n",
        "editing and code navigation. Vim users often rave about its speed and precision.\n",
        "\n",
        "Emacs:\n",
        "\n",
        "Extensible: Emacs is known for its extensibility. It's not just a text editor; it's an extensible\n",
        "platform that can be turned into a full-fledged IDE or customized for any purpose. If you like the\n",
        "idea of a highly customized environment, Emacs is a strong contender.\n",
        "\n",
        "Moderate Learning Curve: Emacs has a learning curve, but it may be perceived as less steep than Vim's\n",
        "for some users. The keybindings are more traditional, and it offers a range of graphical menus that\n",
        "can help beginners.\n",
        "\n",
        "Resource Intensive: Emacs can be more resource-intensive compared to Vim. It may not be the best\n",
        "choice for extremely resource-constrained environments.\"\"\",\n",
        "}"
      ]
    },
    {
      "cell_type": "code",
      "execution_count": null,
      "metadata": {
        "colab": {
          "base_uri": "https://localhost:8080/",
          "height": 80
        },
        "id": "0gGYxzS9aoyI",
        "outputId": "a00c6c10-f0d3-42c7-ed64-0067e293004b"
      },
      "outputs": [
        {
          "data": {
            "text/html": [
              "\n",
              "  <div id=\"df-43e2d230-b3ef-4cae-bc80-807bdcb19a1b\" class=\"colab-df-container\">\n",
              "    <div>\n",
              "<style scoped>\n",
              "    .dataframe tbody tr th:only-of-type {\n",
              "        vertical-align: middle;\n",
              "    }\n",
              "\n",
              "    .dataframe tbody tr th {\n",
              "        vertical-align: top;\n",
              "    }\n",
              "\n",
              "    .dataframe thead th {\n",
              "        text-align: right;\n",
              "    }\n",
              "</style>\n",
              "<table border=\"1\" class=\"dataframe\">\n",
              "  <thead>\n",
              "    <tr style=\"text-align: right;\">\n",
              "      <th></th>\n",
              "      <th>prompt</th>\n",
              "      <th>completion</th>\n",
              "    </tr>\n",
              "  </thead>\n",
              "  <tbody>\n",
              "    <tr>\n",
              "      <th>0</th>\n",
              "      <td>Can you give me some advice on whether I shoul...</td>\n",
              "      <td>\\nThe choice between Vim and Emacs is a classi...</td>\n",
              "    </tr>\n",
              "  </tbody>\n",
              "</table>\n",
              "</div>\n",
              "    <div class=\"colab-df-buttons\">\n",
              "\n",
              "  <div class=\"colab-df-container\">\n",
              "    <button class=\"colab-df-convert\" onclick=\"convertToInteractive('df-43e2d230-b3ef-4cae-bc80-807bdcb19a1b')\"\n",
              "            title=\"Convert this dataframe to an interactive table.\"\n",
              "            style=\"display:none;\">\n",
              "\n",
              "  <svg xmlns=\"http://www.w3.org/2000/svg\" height=\"24px\" viewBox=\"0 -960 960 960\">\n",
              "    <path d=\"M120-120v-720h720v720H120Zm60-500h600v-160H180v160Zm220 220h160v-160H400v160Zm0 220h160v-160H400v160ZM180-400h160v-160H180v160Zm440 0h160v-160H620v160ZM180-180h160v-160H180v160Zm440 0h160v-160H620v160Z\"/>\n",
              "  </svg>\n",
              "    </button>\n",
              "\n",
              "  <style>\n",
              "    .colab-df-container {\n",
              "      display:flex;\n",
              "      gap: 12px;\n",
              "    }\n",
              "\n",
              "    .colab-df-convert {\n",
              "      background-color: #E8F0FE;\n",
              "      border: none;\n",
              "      border-radius: 50%;\n",
              "      cursor: pointer;\n",
              "      display: none;\n",
              "      fill: #1967D2;\n",
              "      height: 32px;\n",
              "      padding: 0 0 0 0;\n",
              "      width: 32px;\n",
              "    }\n",
              "\n",
              "    .colab-df-convert:hover {\n",
              "      background-color: #E2EBFA;\n",
              "      box-shadow: 0px 1px 2px rgba(60, 64, 67, 0.3), 0px 1px 3px 1px rgba(60, 64, 67, 0.15);\n",
              "      fill: #174EA6;\n",
              "    }\n",
              "\n",
              "    .colab-df-buttons div {\n",
              "      margin-bottom: 4px;\n",
              "    }\n",
              "\n",
              "    [theme=dark] .colab-df-convert {\n",
              "      background-color: #3B4455;\n",
              "      fill: #D2E3FC;\n",
              "    }\n",
              "\n",
              "    [theme=dark] .colab-df-convert:hover {\n",
              "      background-color: #434B5C;\n",
              "      box-shadow: 0px 1px 3px 1px rgba(0, 0, 0, 0.15);\n",
              "      filter: drop-shadow(0px 1px 2px rgba(0, 0, 0, 0.3));\n",
              "      fill: #FFFFFF;\n",
              "    }\n",
              "  </style>\n",
              "\n",
              "    <script>\n",
              "      const buttonEl =\n",
              "        document.querySelector('#df-43e2d230-b3ef-4cae-bc80-807bdcb19a1b button.colab-df-convert');\n",
              "      buttonEl.style.display =\n",
              "        google.colab.kernel.accessAllowed ? 'block' : 'none';\n",
              "\n",
              "      async function convertToInteractive(key) {\n",
              "        const element = document.querySelector('#df-43e2d230-b3ef-4cae-bc80-807bdcb19a1b');\n",
              "        const dataTable =\n",
              "          await google.colab.kernel.invokeFunction('convertToInteractive',\n",
              "                                                    [key], {});\n",
              "        if (!dataTable) return;\n",
              "\n",
              "        const docLinkHtml = 'Like what you see? Visit the ' +\n",
              "          '<a target=\"_blank\" href=https://colab.research.google.com/notebooks/data_table.ipynb>data table notebook</a>'\n",
              "          + ' to learn more about interactive tables.';\n",
              "        element.innerHTML = '';\n",
              "        dataTable['output_type'] = 'display_data';\n",
              "        await google.colab.output.renderOutput(dataTable, element);\n",
              "        const docLink = document.createElement('div');\n",
              "        docLink.innerHTML = docLinkHtml;\n",
              "        element.appendChild(docLink);\n",
              "      }\n",
              "    </script>\n",
              "  </div>\n",
              "\n",
              "    </div>\n",
              "  </div>\n"
            ],
            "text/plain": [
              "                                              prompt  \\\n",
              "0  Can you give me some advice on whether I shoul...   \n",
              "\n",
              "                                          completion  \n",
              "0  \\nThe choice between Vim and Emacs is a classi...  "
            ]
          },
          "execution_count": 27,
          "metadata": {},
          "output_type": "execute_result"
        }
      ],
      "source": [
        "import pandas as pd\n",
        "df_traces = pd.DataFrame([EXAMPLE])\n",
        "df_traces.head()"
      ]
    },
    {
      "cell_type": "code",
      "execution_count": null,
      "metadata": {
        "id": "SKnqYjOca6De"
      },
      "outputs": [],
      "source": [
        "# Save reasoning traces to file\n",
        "df_traces.to_json(\"reasoning_traces.jsonl\", orient=\"records\", lines=True)"
      ]
    },
    {
      "cell_type": "code",
      "execution_count": null,
      "metadata": {
        "colab": {
          "base_uri": "https://localhost:8080/"
        },
        "id": "txykfjd-bX5C",
        "outputId": "ca41dd31-7aaa-4a2b-9b35-7b9b46ba1d2d"
      },
      "outputs": [
        {
          "name": "stdout",
          "output_type": "stream",
          "text": [
            "{\"prompt\":\"Can you give me some advice on whether I should use Vim or Emacs?\",\"completion\":\"\\nThe choice between Vim and Emacs is a classic debate in the world of text editors and integrated\\ndevelopment environments (IDEs). Both Vim and Emacs are powerful and highly customizable, but they\\nhave different philosophies and approaches to text editing. Your choice should depend on your\\nspecific needs and preferences. Here's a careful analysis of both editors:\\n\\nVim:\\n\\nModal Editing: Vim uses a modal editing approach, which means it has different modes for different\\ntasks (insert mode, normal mode, visual mode, etc.). This can be more efficient for many users once\\nthey become proficient, as it minimizes the need for extensive keyboard shortcuts.\\n\\nLightweight: Vim is known for its minimalistic design and lightweight footprint. It can run\\nefficiently on even older hardware and over SSH connections, making it an excellent choice for\\nremote server editing.\\n\\nHighly Efficient for Editing: Once you've mastered Vim, it can be incredibly efficient for text\\nediting and code navigation. Vim users often rave about its speed and precision.\\n\\nEmacs:\\n\\nExtensible: Emacs is known for its extensibility. It's not just a text editor; it's an extensible\\nplatform that can be turned into a full-fledged IDE or customized for any purpose. If you like the\\nidea of a highly customized environment, Emacs is a strong contender.\\n\\nModerate Learning Curve: Emacs has a learning curve, but it may be perceived as less steep than Vim's\\nfor some users. The keybindings are more traditional, and it offers a range of graphical menus that\\ncan help beginners.\\n\\nResource Intensive: Emacs can be more resource-intensive compared to Vim. It may not be the best\\nchoice for extremely resource-constrained environments.\"}\n"
          ]
        }
      ],
      "source": [
        "# Check data file available\n",
        "!head -2 \"reasoning_traces.jsonl\""
      ]
    },
    {
      "cell_type": "markdown",
      "metadata": {
        "id": "nSrgZcyMAdwP"
      },
      "source": [
        "## 3. Configure metrics, artifacts, and evaluation methods <a name=\"configuration\"></a>"
      ]
    },
    {
      "cell_type": "code",
      "execution_count": null,
      "metadata": {
        "id": "sIGXP7YieNQg"
      },
      "outputs": [],
      "source": [
        "config_dict = {\n",
        "    # metrics to calculate\n",
        "    \"metrics\": [\"argmap_size\", \"n_root_nodes\", \"global_balance\"],\n",
        "    # artifacts to generate\n",
        "    \"artifacts\": [\"svg_argmap\", \"html_sunburst\"],\n",
        "    \"global_kwargs\": {\n",
        "        \"expert_model\": os.environ[\"LGK_ABSPATH_MODELWEIGHTS\"],\n",
        "        \"expert_model_kwargs\": {\n",
        "            \"n_ctx\": 3072,\n",
        "            # comment out line below if no gpu\n",
        "            \"n_gpu_layers\": -1,\n",
        "            \"tokenizer\": os.environ[\"LGK_TOKENIZER\"],\n",
        "            # custom prompt template, make sure this fits the expert_model\n",
        "            \"prompt_template\": {\n",
        "                \"sys_start\": \"\\n<|system|>\\n\",\n",
        "                \"sys_end\": \"\",\n",
        "                \"user_start\": \"\\n<|user|>\\n\",\n",
        "                \"user_end\": \"\",\n",
        "                \"ass_start\": \"\\n<|assistant|>\\n\",\n",
        "                \"ass_end\": \"\",\n",
        "            },\n",
        "        },\n",
        "        \"generation_kwargs\": {\"max_len\": 3072},\n",
        "        \"llm_framework\": \"llama.cpp\",\n",
        "    },\n",
        "}"
      ]
    },
    {
      "cell_type": "code",
      "execution_count": null,
      "metadata": {
        "id": "G3j9YfXBfRl1"
      },
      "outputs": [],
      "source": [
        "import yaml\n",
        "with open('config.yml', 'w') as outfile:\n",
        "    yaml.dump(config_dict, outfile, default_flow_style=False)"
      ]
    },
    {
      "cell_type": "code",
      "execution_count": null,
      "metadata": {
        "colab": {
          "base_uri": "https://localhost:8080/"
        },
        "id": "XrBbyWhDfkC7",
        "outputId": "f1027dd7-f078-47fe-a865-20a4724abcb9"
      },
      "outputs": [
        {
          "name": "stdout",
          "output_type": "stream",
          "text": [
            "artifacts:\n",
            "- svg_argmap\n",
            "- html_sunburst\n",
            "global_kwargs:\n",
            "  expert_model: /content/models/zephyr-7b-beta.Q6_K.gguf\n",
            "  expert_model_kwargs:\n",
            "    n_ctx: 3072\n",
            "    n_gpu_layers: -1\n",
            "    prompt_template:\n",
            "      ass_end: ''\n"
          ]
        }
      ],
      "source": [
        "# Check config file available\n",
        "!head -10 \"config.yml\""
      ]
    },
    {
      "cell_type": "markdown",
      "metadata": {
        "id": "Pwx5YGLtA5wW"
      },
      "source": [
        "## 4. Run analysis <a name=\"run\"></a>"
      ]
    },
    {
      "cell_type": "code",
      "execution_count": null,
      "metadata": {
        "colab": {
          "base_uri": "https://localhost:8080/"
        },
        "id": "s74Hocbkfvo8",
        "outputId": "6de42af6-0edb-47b0-806c-41eab06ab10c"
      },
      "outputs": [
        {
          "name": "stdout",
          "output_type": "stream",
          "text": [
            "usage: scoring.py [-h] [--config-file CONFIG_FILE] [--artifacts ARTIFACTS [ARTIFACTS ...]]\n",
            "                  [--metrics METRICS [METRICS ...]] [--expert-model-path EXPERT_MODEL_PATH]\n",
            "                  [--expert-tokenizer EXPERT_TOKENIZER] [--endpoint ENDPOINT]\n",
            "                  [--use-cuda | --no-use-cuda] [--load-in-8bit | --no-load-in-8bit]\n",
            "                  [--low-cpu-mem-usage | --no-low-cpu-mem-usage] [--n-ctx N_CTX]\n",
            "                  [--n-gpu-layers N_GPU_LAYERS] [--llm-framework {transformers,llama.cpp}]\n",
            "                  [--prompt-template PROMPT_TEMPLATE] [--generation-max-len GENERATION_MAX_LEN]\n",
            "                  --reasoning-traces-file REASONING_TRACES_FILE [--output-dir OUTPUT_DIR]\n",
            "                  [--output-file OUTPUT_FILE]\n",
            "\n",
            "Score reasoning traces with logikon module.\n",
            "\n",
            "options:\n",
            "  -h, --help            show this help message and exit\n",
            "  --config-file CONFIG_FILE\n",
            "                        Path to yaml config file.\n",
            "  --artifacts ARTIFACTS [ARTIFACTS ...]\n",
            "                        Artifacts to create.\n",
            "  --metrics METRICS [METRICS ...]\n",
            "                        Metrics to calculate.\n",
            "  --expert-model-path EXPERT_MODEL_PATH\n",
            "                        Expert model path to use.\n",
            "  --expert-tokenizer EXPERT_TOKENIZER\n",
            "                        Expert tokenizer to use.\n",
            "  --endpoint ENDPOINT   LMQL serve-model endpoint.\n",
            "  --use-cuda, --no-use-cuda\n",
            "                        Use cuda. (With transformers framework)\n",
            "  --load-in-8bit, --no-load-in-8bit\n",
            "                        Load model in 8bit. (With transformers framework)\n",
            "  --low-cpu-mem-usage, --no-low-cpu-mem-usage\n",
            "                        Use low cpu mem usage. (With transformers framework)\n",
            "  --n-ctx N_CTX         Context length (with llama.cpp).\n",
            "  --n-gpu-layers N_GPU_LAYERS\n",
            "                        Number of GPU layers (with llama.cpp).\n",
            "  --llm-framework {transformers,llama.cpp}\n",
            "                        LLM framework to use.\n",
            "  --prompt-template PROMPT_TEMPLATE\n",
            "                        Prompt template to use (path-to-yaml-file or keyword).\n",
            "  --generation-max-len GENERATION_MAX_LEN\n",
            "                        Generation max length.\n",
            "  --reasoning-traces-file REASONING_TRACES_FILE\n",
            "                        Path to jsonl file with reasoning traces to analyze and score.\n",
            "  --output-dir OUTPUT_DIR\n",
            "                        Output directory.\n",
            "  --output-file OUTPUT_FILE\n",
            "                        Custom output filename (defaults to '{{inputfile}}-scores.jsonl').\n"
          ]
        }
      ],
      "source": [
        "# We'll use the following script to analyze the reasoning traces\n",
        "!python scoring.py --help"
      ]
    },
    {
      "cell_type": "code",
      "execution_count": null,
      "metadata": {
        "colab": {
          "base_uri": "https://localhost:8080/"
        },
        "id": "BL4ADqpSf_WB",
        "outputId": "2c6da4b1-ec0b-40ba-9930-879d472c1c85"
      },
      "outputs": [
        {
          "name": "stdout",
          "output_type": "stream",
          "text": [
            "\r0it [00:00, ?it/s]/usr/bin/dot\n",
            "[Loading llama.cpp model from llama.cpp:/content/models/zephyr-7b-beta.Q6_K.gguf  with  {'n_ctx': 3072, 'n_gpu_layers': -1} ]\n",
            "2023-11-10 11:20:14.372239: E tensorflow/compiler/xla/stream_executor/cuda/cuda_dnn.cc:9342] Unable to register cuDNN factory: Attempting to register factory for plugin cuDNN when one has already been registered\n",
            "2023-11-10 11:20:14.372304: E tensorflow/compiler/xla/stream_executor/cuda/cuda_fft.cc:609] Unable to register cuFFT factory: Attempting to register factory for plugin cuFFT when one has already been registered\n",
            "2023-11-10 11:20:14.372341: E tensorflow/compiler/xla/stream_executor/cuda/cuda_blas.cc:1518] Unable to register cuBLAS factory: Attempting to register factory for plugin cuBLAS when one has already been registered\n",
            "2023-11-10 11:20:16.214637: W tensorflow/compiler/tf2tensorrt/utils/py_utils.cc:38] TF-TRT Warning: Could not find TensorRT\n",
            "\n",
            "Reason-root edges:   0% 0/3 [00:00<?, ?it/s]\u001b[A\n",
            "Reason-root edges:  33% 1/3 [00:19<00:38, 19.29s/it]\u001b[A\n",
            "Reason-root edges:  67% 2/3 [00:31<00:15, 15.09s/it]\u001b[A\n",
            "Reason-root edges: 100% 3/3 [00:36<00:00, 12.16s/it]\n",
            "\n",
            "Reason-reason edges:   0% 0/16 [00:00<?, ?it/s]\u001b[A\n",
            "Reason-reason edges:  12% 2/16 [00:33<03:54, 16.75s/it]\u001b[A\n",
            "Reason-reason edges:  19% 3/16 [01:06<05:07, 23.65s/it]\u001b[A\n",
            "Reason-reason edges:  25% 4/16 [01:40<05:27, 27.27s/it]\u001b[A\n",
            "Reason-reason edges:  31% 5/16 [02:11<05:15, 28.67s/it]\u001b[A\n",
            "Reason-reason edges:  38% 6/16 [02:42<04:55, 29.53s/it]\u001b[A\n",
            "Reason-reason edges:  44% 7/16 [03:14<04:32, 30.23s/it]\u001b[A\n",
            "Reason-reason edges:  50% 8/16 [03:47<04:08, 31.09s/it]\u001b[A\n",
            "Reason-reason edges:  62% 10/16 [04:22<02:28, 24.79s/it]\u001b[A\n",
            "Reason-reason edges:  69% 11/16 [04:56<02:14, 26.92s/it]\u001b[A\n",
            "Reason-reason edges:  75% 12/16 [05:32<01:58, 29.53s/it]\u001b[A\n",
            "Reason-reason edges:  81% 13/16 [06:06<01:32, 30.71s/it]\u001b[A\n",
            "Reason-reason edges:  94% 15/16 [06:39<00:24, 24.32s/it]\u001b[A\n",
            "Reason-reason edges: 100% 16/16 [07:11<00:00, 26.95s/it]\n",
            "1it [11:13, 673.16s/it]\n"
          ]
        }
      ],
      "source": [
        "# 🫖 This will take some time ... you may monitor `scoring.log`\n",
        "!python scoring.py \\\n",
        "  --config-file config.yml \\\n",
        "  --reasoning-traces-file reasoning_traces.jsonl"
      ]
    },
    {
      "cell_type": "markdown",
      "metadata": {
        "id": "7uaXFSRjA_Wu"
      },
      "source": [
        "## 5. Inspect metrics and artifacts <a name=\"inspect\"></a>"
      ]
    },
    {
      "cell_type": "code",
      "execution_count": null,
      "metadata": {
        "id": "cttOhhYfpyP6"
      },
      "outputs": [],
      "source": [
        "df_scores = pd.read_json(\"outputs/reasoning_traces-scores.jsonl\", lines=True)"
      ]
    },
    {
      "cell_type": "code",
      "execution_count": null,
      "metadata": {
        "colab": {
          "base_uri": "https://localhost:8080/",
          "height": 80
        },
        "id": "JCC66EW08MAx",
        "outputId": "3dbd46d9-20b6-4c4e-dbe4-29139cd2bc16"
      },
      "outputs": [
        {
          "data": {
            "text/html": [
              "\n",
              "  <div id=\"df-63f17586-61af-4fdc-9e0a-34c296cd9067\" class=\"colab-df-container\">\n",
              "    <div>\n",
              "<style scoped>\n",
              "    .dataframe tbody tr th:only-of-type {\n",
              "        vertical-align: middle;\n",
              "    }\n",
              "\n",
              "    .dataframe tbody tr th {\n",
              "        vertical-align: top;\n",
              "    }\n",
              "\n",
              "    .dataframe thead th {\n",
              "        text-align: right;\n",
              "    }\n",
              "</style>\n",
              "<table border=\"1\" class=\"dataframe\">\n",
              "  <thead>\n",
              "    <tr style=\"text-align: right;\">\n",
              "      <th></th>\n",
              "      <th>argmap_size</th>\n",
              "      <th>n_root_nodes</th>\n",
              "      <th>global_balance</th>\n",
              "    </tr>\n",
              "  </thead>\n",
              "  <tbody>\n",
              "    <tr>\n",
              "      <th>0</th>\n",
              "      <td>16</td>\n",
              "      <td>3</td>\n",
              "      <td>0.280143</td>\n",
              "    </tr>\n",
              "  </tbody>\n",
              "</table>\n",
              "</div>\n",
              "    <div class=\"colab-df-buttons\">\n",
              "\n",
              "  <div class=\"colab-df-container\">\n",
              "    <button class=\"colab-df-convert\" onclick=\"convertToInteractive('df-63f17586-61af-4fdc-9e0a-34c296cd9067')\"\n",
              "            title=\"Convert this dataframe to an interactive table.\"\n",
              "            style=\"display:none;\">\n",
              "\n",
              "  <svg xmlns=\"http://www.w3.org/2000/svg\" height=\"24px\" viewBox=\"0 -960 960 960\">\n",
              "    <path d=\"M120-120v-720h720v720H120Zm60-500h600v-160H180v160Zm220 220h160v-160H400v160Zm0 220h160v-160H400v160ZM180-400h160v-160H180v160Zm440 0h160v-160H620v160ZM180-180h160v-160H180v160Zm440 0h160v-160H620v160Z\"/>\n",
              "  </svg>\n",
              "    </button>\n",
              "\n",
              "  <style>\n",
              "    .colab-df-container {\n",
              "      display:flex;\n",
              "      gap: 12px;\n",
              "    }\n",
              "\n",
              "    .colab-df-convert {\n",
              "      background-color: #E8F0FE;\n",
              "      border: none;\n",
              "      border-radius: 50%;\n",
              "      cursor: pointer;\n",
              "      display: none;\n",
              "      fill: #1967D2;\n",
              "      height: 32px;\n",
              "      padding: 0 0 0 0;\n",
              "      width: 32px;\n",
              "    }\n",
              "\n",
              "    .colab-df-convert:hover {\n",
              "      background-color: #E2EBFA;\n",
              "      box-shadow: 0px 1px 2px rgba(60, 64, 67, 0.3), 0px 1px 3px 1px rgba(60, 64, 67, 0.15);\n",
              "      fill: #174EA6;\n",
              "    }\n",
              "\n",
              "    .colab-df-buttons div {\n",
              "      margin-bottom: 4px;\n",
              "    }\n",
              "\n",
              "    [theme=dark] .colab-df-convert {\n",
              "      background-color: #3B4455;\n",
              "      fill: #D2E3FC;\n",
              "    }\n",
              "\n",
              "    [theme=dark] .colab-df-convert:hover {\n",
              "      background-color: #434B5C;\n",
              "      box-shadow: 0px 1px 3px 1px rgba(0, 0, 0, 0.15);\n",
              "      filter: drop-shadow(0px 1px 2px rgba(0, 0, 0, 0.3));\n",
              "      fill: #FFFFFF;\n",
              "    }\n",
              "  </style>\n",
              "\n",
              "    <script>\n",
              "      const buttonEl =\n",
              "        document.querySelector('#df-63f17586-61af-4fdc-9e0a-34c296cd9067 button.colab-df-convert');\n",
              "      buttonEl.style.display =\n",
              "        google.colab.kernel.accessAllowed ? 'block' : 'none';\n",
              "\n",
              "      async function convertToInteractive(key) {\n",
              "        const element = document.querySelector('#df-63f17586-61af-4fdc-9e0a-34c296cd9067');\n",
              "        const dataTable =\n",
              "          await google.colab.kernel.invokeFunction('convertToInteractive',\n",
              "                                                    [key], {});\n",
              "        if (!dataTable) return;\n",
              "\n",
              "        const docLinkHtml = 'Like what you see? Visit the ' +\n",
              "          '<a target=\"_blank\" href=https://colab.research.google.com/notebooks/data_table.ipynb>data table notebook</a>'\n",
              "          + ' to learn more about interactive tables.';\n",
              "        element.innerHTML = '';\n",
              "        dataTable['output_type'] = 'display_data';\n",
              "        await google.colab.output.renderOutput(dataTable, element);\n",
              "        const docLink = document.createElement('div');\n",
              "        docLink.innerHTML = docLinkHtml;\n",
              "        element.appendChild(docLink);\n",
              "      }\n",
              "    </script>\n",
              "  </div>\n",
              "\n",
              "    </div>\n",
              "  </div>\n"
            ],
            "text/plain": [
              "   argmap_size  n_root_nodes  global_balance\n",
              "0           16             3        0.280143"
            ]
          },
          "execution_count": 101,
          "metadata": {},
          "output_type": "execute_result"
        }
      ],
      "source": [
        "# Display metric scores\n",
        "df_scores[config_dict.get(\"metrics\",[])]"
      ]
    },
    {
      "cell_type": "code",
      "execution_count": null,
      "metadata": {
        "colab": {
          "base_uri": "https://localhost:8080/",
          "height": 657
        },
        "id": "EVPqa39I4oRJ",
        "outputId": "30a2dfab-406c-4a47-bcc4-3b99de4231d0"
      },
      "outputs": [
        {
          "data": {
            "text/html": [
              "<html>\n",
              "<head><meta charset=\"utf-8\" /></head>\n",
              "<body>\n",
              "    <div>                        <script type=\"text/javascript\">window.PlotlyConfig = {MathJaxConfig: 'local'};</script>\n",
              "        <script charset=\"utf-8\" src=\"https://cdn.plot.ly/plotly-2.24.1.min.js\"></script>                <div id=\"70052109-2c48-433b-884d-16031aceee12\" class=\"plotly-graph-div\" style=\"height:640px; width:800px;\"></div>            <script type=\"text/javascript\">                                    window.PLOTLYENV=window.PLOTLYENV || {};                                    if (document.getElementById(\"70052109-2c48-433b-884d-16031aceee12\")) {                    Plotly.newPlot(                        \"70052109-2c48-433b-884d-16031aceee12\",                        [{\"customdata\":[[\"I should use Vim as my text\\u003cBR\\u003eeditor or IDE.\",0,\"\",\"10619d01-e12f-4265-9170-02e35920e894\",\"Use Vim\",\"\"],[\"Vim is highly efficient for\\u003cBR\\u003etext editing and code\\u003cBR\\u003enavigation once the user\\u003cBR\\u003ebecomes proficient with its\\u003cBR\\u003emodal editing approach.\",0,\"10619d01-e12f-4265-9170-02e35920e894\",\"931371a0-ac25-4c19-a115-caec4ea41953\",\"Highly Efficient for Editing\",\"\"],[\"Vim uses a modal editing\\u003cBR\\u003eapproach.\",1,\"931371a0-ac25-4c19-a115-caec4ea41953\",\"37237c3f-bc92-4a3c-9ffa-4d0543996fb9\",\"Modal Editing\",\"\"],[\"Vim minimizes the need for\\u003cBR\\u003eextensive keyboard shortcuts\\u003cBR\\u003eby switching between different\\u003cBR\\u003emodes for different tasks.\",1,\"931371a0-ac25-4c19-a115-caec4ea41953\",\"7796dee0-52a9-46f7-b33f-d40e6742800b\",\"Minimizing Keyboard Shortcuts\",\"\"],[\"Vim has a minimalistic design.\",1,\"4bf0a41a-ffdc-449b-99df-a1bb22b25228\",\"791f4f1b-e60c-490e-8d54-6725f33c0181\",\"Minimalistic design\",\"\"],[\"Vim has a lightweight\\u003cBR\\u003efootprint.\",0,\"a5e90380-f571-452a-9a78-0fbd5e1afa33\",\"4bf0a41a-ffdc-449b-99df-a1bb22b25228\",\"Lightweight footprint\",\"\"],[\"Vim is an excellent choice for\\u003cBR\\u003eremote server editing.\",0,\"931371a0-ac25-4c19-a115-caec4ea41953\",\"a5e90380-f571-452a-9a78-0fbd5e1afa33\",\"Remote server editing\",\"\"],[\"Vim is an excellent choice for\\u003cBR\\u003eolder hardware.\",1,\"4bf0a41a-ffdc-449b-99df-a1bb22b25228\",\"cf1168ab-840e-4e49-90e9-929ddf835012\",\"Older hardware\",\"\"],[\"I should use Emacs as my text\\u003cBR\\u003eeditor or IDE.\",0,\"\",\"808d505f-c412-49fa-925f-0fae87614d67\",\"Use Emacs\",\"\"],[\"Emacs is known for its\\u003cBR\\u003eextensibility, allowing users\\u003cBR\\u003eto turn it into a full-fledged\\u003cBR\\u003eIDE or customize it for any\\u003cBR\\u003epurpose.\",0,\"808d505f-c412-49fa-925f-0fae87614d67\",\"4c78c439-a070-4220-9b86-f170e89936d3\",\"Extensible\",\"\"],[\"Emacs may have a less steep\\u003cBR\\u003elearning curve compared to\\u003cBR\\u003eVim's for some users.\",0,\"25c39abe-99cb-4587-a8dc-7a91d354168d\",\"c76c7d02-2e86-4c24-aec0-ae9f5a343296\",\"Less Steep Learning Curve for V\",\"\"],[\"Emacs' traditional keybindings\\u003cBR\\u003emay contribute to a less steep\\u003cBR\\u003elearning curve for some users.\",0,\"808d505f-c412-49fa-925f-0fae87614d67\",\"25c39abe-99cb-4587-a8dc-7a91d354168d\",\"Traditional Keybindings\",\"\"],[\"Emacs' graphical menus may\\u003cBR\\u003econtribute to a less steep\\u003cBR\\u003elearning curve for some users.\",1,\"c76c7d02-2e86-4c24-aec0-ae9f5a343296\",\"5f5875d3-8eb2-46b5-a839-8de67bd925ce\",\"Graphical Menus\",\"\"],[\"I should use both Vim and\\u003cBR\\u003eEmacs as my text editor or\\u003cBR\\u003eIDE.\",1,\"\",\"7e974e1e-8ad4-4dc9-84ec-d667d5761b38\",\"Use Both\",\"\"],[\"Emacs can be more resource-\\u003cBR\\u003eintensive compared to Vim.\",1,\"4bf0a41a-ffdc-449b-99df-a1bb22b25228\",\"e0013368-bbb2-4af7-ba96-07552ed748e1\",\"Resource Intensity\",\"\"],[\"Emacs is less suitable for\\u003cBR\\u003eextremely resource-constrained\\u003cBR\\u003eenvironments.\",1,\"4c78c439-a070-4220-9b86-f170e89936d3\",\"d3ce9462-1461-4a8a-a4b4-cdb5386c1f35\",\"Less Suitable\",\"\"]],\"domain\":{\"x\":[0.0,1.0],\"y\":[0.0,1.0]},\"hovertemplate\":\"\\u003cb\\u003e%{hovertext}\\u003c\\u002fb\\u003e\\u003cbr\\u003e\\u003cbr\\u003etext=%{customdata[0]}\\u003cextra\\u003e\\u003c\\u002fextra\\u003e\",\"hovertext\":[\"Use Vim\",\"Highly Efficient for Editing\",\"Modal Editing\",\"Minimizing Keyboard Shortcuts\",\"Minimalistic design\",\"Lightweight footprint\",\"Remote server editing\",\"Older hardware\",\"Use Emacs\",\"Extensible\",\"Less Steep Learning Curve for V\",\"Traditional Keybindings\",\"Graphical Menus\",\"Use Both\",\"Resource Intensity\",\"Less Suitable\"],\"ids\":[\"10619d01-e12f-4265-9170-02e35920e894\",\"931371a0-ac25-4c19-a115-caec4ea41953\",\"37237c3f-bc92-4a3c-9ffa-4d0543996fb9\",\"7796dee0-52a9-46f7-b33f-d40e6742800b\",\"791f4f1b-e60c-490e-8d54-6725f33c0181\",\"4bf0a41a-ffdc-449b-99df-a1bb22b25228\",\"a5e90380-f571-452a-9a78-0fbd5e1afa33\",\"cf1168ab-840e-4e49-90e9-929ddf835012\",\"808d505f-c412-49fa-925f-0fae87614d67\",\"4c78c439-a070-4220-9b86-f170e89936d3\",\"c76c7d02-2e86-4c24-aec0-ae9f5a343296\",\"25c39abe-99cb-4587-a8dc-7a91d354168d\",\"5f5875d3-8eb2-46b5-a839-8de67bd925ce\",\"7e974e1e-8ad4-4dc9-84ec-d667d5761b38\",\"e0013368-bbb2-4af7-ba96-07552ed748e1\",\"d3ce9462-1461-4a8a-a4b4-cdb5386c1f35\"],\"labels\":[\"\",\"\",\"\",\"\",\"\",\"\",\"\",\"\",\"\",\"\",\"\",\"\",\"\",\"\",\"\",\"\"],\"marker\":{\"colors\":[\"rgb(107,174,214)\",\"#006400\",\"#006400\",\"#006400\",\"#006400\",\"#006400\",\"#006400\",\"#116b11\",\"rgb(33,113,181)\",\"#006400\",\"#006400\",\"#006400\",\"#006400\",\"rgb(8,48,107)\",\"#c86d6d\",\"#ba8787\"],\"line\":{\"width\":2}},\"name\":\"\",\"parents\":[\"\",\"10619d01-e12f-4265-9170-02e35920e894\",\"931371a0-ac25-4c19-a115-caec4ea41953\",\"931371a0-ac25-4c19-a115-caec4ea41953\",\"4bf0a41a-ffdc-449b-99df-a1bb22b25228\",\"a5e90380-f571-452a-9a78-0fbd5e1afa33\",\"931371a0-ac25-4c19-a115-caec4ea41953\",\"4bf0a41a-ffdc-449b-99df-a1bb22b25228\",\"\",\"808d505f-c412-49fa-925f-0fae87614d67\",\"25c39abe-99cb-4587-a8dc-7a91d354168d\",\"808d505f-c412-49fa-925f-0fae87614d67\",\"c76c7d02-2e86-4c24-aec0-ae9f5a343296\",\"\",\"4bf0a41a-ffdc-449b-99df-a1bb22b25228\",\"4c78c439-a070-4220-9b86-f170e89936d3\"],\"values\":[0,0,1,1,1,0,0,1,0,0,0,0,1,1,1,1],\"type\":\"sunburst\"}],                        {\"template\":{\"data\":{\"histogram2dcontour\":[{\"type\":\"histogram2dcontour\",\"colorbar\":{\"outlinewidth\":0,\"ticks\":\"\"},\"colorscale\":[[0.0,\"#0d0887\"],[0.1111111111111111,\"#46039f\"],[0.2222222222222222,\"#7201a8\"],[0.3333333333333333,\"#9c179e\"],[0.4444444444444444,\"#bd3786\"],[0.5555555555555556,\"#d8576b\"],[0.6666666666666666,\"#ed7953\"],[0.7777777777777778,\"#fb9f3a\"],[0.8888888888888888,\"#fdca26\"],[1.0,\"#f0f921\"]]}],\"choropleth\":[{\"type\":\"choropleth\",\"colorbar\":{\"outlinewidth\":0,\"ticks\":\"\"}}],\"histogram2d\":[{\"type\":\"histogram2d\",\"colorbar\":{\"outlinewidth\":0,\"ticks\":\"\"},\"colorscale\":[[0.0,\"#0d0887\"],[0.1111111111111111,\"#46039f\"],[0.2222222222222222,\"#7201a8\"],[0.3333333333333333,\"#9c179e\"],[0.4444444444444444,\"#bd3786\"],[0.5555555555555556,\"#d8576b\"],[0.6666666666666666,\"#ed7953\"],[0.7777777777777778,\"#fb9f3a\"],[0.8888888888888888,\"#fdca26\"],[1.0,\"#f0f921\"]]}],\"heatmap\":[{\"type\":\"heatmap\",\"colorbar\":{\"outlinewidth\":0,\"ticks\":\"\"},\"colorscale\":[[0.0,\"#0d0887\"],[0.1111111111111111,\"#46039f\"],[0.2222222222222222,\"#7201a8\"],[0.3333333333333333,\"#9c179e\"],[0.4444444444444444,\"#bd3786\"],[0.5555555555555556,\"#d8576b\"],[0.6666666666666666,\"#ed7953\"],[0.7777777777777778,\"#fb9f3a\"],[0.8888888888888888,\"#fdca26\"],[1.0,\"#f0f921\"]]}],\"heatmapgl\":[{\"type\":\"heatmapgl\",\"colorbar\":{\"outlinewidth\":0,\"ticks\":\"\"},\"colorscale\":[[0.0,\"#0d0887\"],[0.1111111111111111,\"#46039f\"],[0.2222222222222222,\"#7201a8\"],[0.3333333333333333,\"#9c179e\"],[0.4444444444444444,\"#bd3786\"],[0.5555555555555556,\"#d8576b\"],[0.6666666666666666,\"#ed7953\"],[0.7777777777777778,\"#fb9f3a\"],[0.8888888888888888,\"#fdca26\"],[1.0,\"#f0f921\"]]}],\"contourcarpet\":[{\"type\":\"contourcarpet\",\"colorbar\":{\"outlinewidth\":0,\"ticks\":\"\"}}],\"contour\":[{\"type\":\"contour\",\"colorbar\":{\"outlinewidth\":0,\"ticks\":\"\"},\"colorscale\":[[0.0,\"#0d0887\"],[0.1111111111111111,\"#46039f\"],[0.2222222222222222,\"#7201a8\"],[0.3333333333333333,\"#9c179e\"],[0.4444444444444444,\"#bd3786\"],[0.5555555555555556,\"#d8576b\"],[0.6666666666666666,\"#ed7953\"],[0.7777777777777778,\"#fb9f3a\"],[0.8888888888888888,\"#fdca26\"],[1.0,\"#f0f921\"]]}],\"surface\":[{\"type\":\"surface\",\"colorbar\":{\"outlinewidth\":0,\"ticks\":\"\"},\"colorscale\":[[0.0,\"#0d0887\"],[0.1111111111111111,\"#46039f\"],[0.2222222222222222,\"#7201a8\"],[0.3333333333333333,\"#9c179e\"],[0.4444444444444444,\"#bd3786\"],[0.5555555555555556,\"#d8576b\"],[0.6666666666666666,\"#ed7953\"],[0.7777777777777778,\"#fb9f3a\"],[0.8888888888888888,\"#fdca26\"],[1.0,\"#f0f921\"]]}],\"mesh3d\":[{\"type\":\"mesh3d\",\"colorbar\":{\"outlinewidth\":0,\"ticks\":\"\"}}],\"scatter\":[{\"fillpattern\":{\"fillmode\":\"overlay\",\"size\":10,\"solidity\":0.2},\"type\":\"scatter\"}],\"parcoords\":[{\"type\":\"parcoords\",\"line\":{\"colorbar\":{\"outlinewidth\":0,\"ticks\":\"\"}}}],\"scatterpolargl\":[{\"type\":\"scatterpolargl\",\"marker\":{\"colorbar\":{\"outlinewidth\":0,\"ticks\":\"\"}}}],\"bar\":[{\"error_x\":{\"color\":\"#2a3f5f\"},\"error_y\":{\"color\":\"#2a3f5f\"},\"marker\":{\"line\":{\"color\":\"#E5ECF6\",\"width\":0.5},\"pattern\":{\"fillmode\":\"overlay\",\"size\":10,\"solidity\":0.2}},\"type\":\"bar\"}],\"scattergeo\":[{\"type\":\"scattergeo\",\"marker\":{\"colorbar\":{\"outlinewidth\":0,\"ticks\":\"\"}}}],\"scatterpolar\":[{\"type\":\"scatterpolar\",\"marker\":{\"colorbar\":{\"outlinewidth\":0,\"ticks\":\"\"}}}],\"histogram\":[{\"marker\":{\"pattern\":{\"fillmode\":\"overlay\",\"size\":10,\"solidity\":0.2}},\"type\":\"histogram\"}],\"scattergl\":[{\"type\":\"scattergl\",\"marker\":{\"colorbar\":{\"outlinewidth\":0,\"ticks\":\"\"}}}],\"scatter3d\":[{\"type\":\"scatter3d\",\"line\":{\"colorbar\":{\"outlinewidth\":0,\"ticks\":\"\"}},\"marker\":{\"colorbar\":{\"outlinewidth\":0,\"ticks\":\"\"}}}],\"scattermapbox\":[{\"type\":\"scattermapbox\",\"marker\":{\"colorbar\":{\"outlinewidth\":0,\"ticks\":\"\"}}}],\"scatterternary\":[{\"type\":\"scatterternary\",\"marker\":{\"colorbar\":{\"outlinewidth\":0,\"ticks\":\"\"}}}],\"scattercarpet\":[{\"type\":\"scattercarpet\",\"marker\":{\"colorbar\":{\"outlinewidth\":0,\"ticks\":\"\"}}}],\"carpet\":[{\"aaxis\":{\"endlinecolor\":\"#2a3f5f\",\"gridcolor\":\"white\",\"linecolor\":\"white\",\"minorgridcolor\":\"white\",\"startlinecolor\":\"#2a3f5f\"},\"baxis\":{\"endlinecolor\":\"#2a3f5f\",\"gridcolor\":\"white\",\"linecolor\":\"white\",\"minorgridcolor\":\"white\",\"startlinecolor\":\"#2a3f5f\"},\"type\":\"carpet\"}],\"table\":[{\"cells\":{\"fill\":{\"color\":\"#EBF0F8\"},\"line\":{\"color\":\"white\"}},\"header\":{\"fill\":{\"color\":\"#C8D4E3\"},\"line\":{\"color\":\"white\"}},\"type\":\"table\"}],\"barpolar\":[{\"marker\":{\"line\":{\"color\":\"#E5ECF6\",\"width\":0.5},\"pattern\":{\"fillmode\":\"overlay\",\"size\":10,\"solidity\":0.2}},\"type\":\"barpolar\"}],\"pie\":[{\"automargin\":true,\"type\":\"pie\"}]},\"layout\":{\"autotypenumbers\":\"strict\",\"colorway\":[\"#636efa\",\"#EF553B\",\"#00cc96\",\"#ab63fa\",\"#FFA15A\",\"#19d3f3\",\"#FF6692\",\"#B6E880\",\"#FF97FF\",\"#FECB52\"],\"font\":{\"color\":\"#2a3f5f\"},\"hovermode\":\"closest\",\"hoverlabel\":{\"align\":\"left\"},\"paper_bgcolor\":\"white\",\"plot_bgcolor\":\"#E5ECF6\",\"polar\":{\"bgcolor\":\"#E5ECF6\",\"angularaxis\":{\"gridcolor\":\"white\",\"linecolor\":\"white\",\"ticks\":\"\"},\"radialaxis\":{\"gridcolor\":\"white\",\"linecolor\":\"white\",\"ticks\":\"\"}},\"ternary\":{\"bgcolor\":\"#E5ECF6\",\"aaxis\":{\"gridcolor\":\"white\",\"linecolor\":\"white\",\"ticks\":\"\"},\"baxis\":{\"gridcolor\":\"white\",\"linecolor\":\"white\",\"ticks\":\"\"},\"caxis\":{\"gridcolor\":\"white\",\"linecolor\":\"white\",\"ticks\":\"\"}},\"coloraxis\":{\"colorbar\":{\"outlinewidth\":0,\"ticks\":\"\"}},\"colorscale\":{\"sequential\":[[0.0,\"#0d0887\"],[0.1111111111111111,\"#46039f\"],[0.2222222222222222,\"#7201a8\"],[0.3333333333333333,\"#9c179e\"],[0.4444444444444444,\"#bd3786\"],[0.5555555555555556,\"#d8576b\"],[0.6666666666666666,\"#ed7953\"],[0.7777777777777778,\"#fb9f3a\"],[0.8888888888888888,\"#fdca26\"],[1.0,\"#f0f921\"]],\"sequentialminus\":[[0.0,\"#0d0887\"],[0.1111111111111111,\"#46039f\"],[0.2222222222222222,\"#7201a8\"],[0.3333333333333333,\"#9c179e\"],[0.4444444444444444,\"#bd3786\"],[0.5555555555555556,\"#d8576b\"],[0.6666666666666666,\"#ed7953\"],[0.7777777777777778,\"#fb9f3a\"],[0.8888888888888888,\"#fdca26\"],[1.0,\"#f0f921\"]],\"diverging\":[[0,\"#8e0152\"],[0.1,\"#c51b7d\"],[0.2,\"#de77ae\"],[0.3,\"#f1b6da\"],[0.4,\"#fde0ef\"],[0.5,\"#f7f7f7\"],[0.6,\"#e6f5d0\"],[0.7,\"#b8e186\"],[0.8,\"#7fbc41\"],[0.9,\"#4d9221\"],[1,\"#276419\"]]},\"xaxis\":{\"gridcolor\":\"white\",\"linecolor\":\"white\",\"ticks\":\"\",\"title\":{\"standoff\":15},\"zerolinecolor\":\"white\",\"automargin\":true,\"zerolinewidth\":2},\"yaxis\":{\"gridcolor\":\"white\",\"linecolor\":\"white\",\"ticks\":\"\",\"title\":{\"standoff\":15},\"zerolinecolor\":\"white\",\"automargin\":true,\"zerolinewidth\":2},\"scene\":{\"xaxis\":{\"backgroundcolor\":\"#E5ECF6\",\"gridcolor\":\"white\",\"linecolor\":\"white\",\"showbackground\":true,\"ticks\":\"\",\"zerolinecolor\":\"white\",\"gridwidth\":2},\"yaxis\":{\"backgroundcolor\":\"#E5ECF6\",\"gridcolor\":\"white\",\"linecolor\":\"white\",\"showbackground\":true,\"ticks\":\"\",\"zerolinecolor\":\"white\",\"gridwidth\":2},\"zaxis\":{\"backgroundcolor\":\"#E5ECF6\",\"gridcolor\":\"white\",\"linecolor\":\"white\",\"showbackground\":true,\"ticks\":\"\",\"zerolinecolor\":\"white\",\"gridwidth\":2}},\"shapedefaults\":{\"line\":{\"color\":\"#2a3f5f\"}},\"annotationdefaults\":{\"arrowcolor\":\"#2a3f5f\",\"arrowhead\":0,\"arrowwidth\":1},\"geo\":{\"bgcolor\":\"white\",\"landcolor\":\"#E5ECF6\",\"subunitcolor\":\"white\",\"showland\":true,\"showlakes\":true,\"lakecolor\":\"white\"},\"title\":{\"x\":0.05},\"mapbox\":{\"style\":\"light\"}}},\"legend\":{\"tracegroupgap\":0},\"title\":{\"text\":\"Should I use Vim or Emacs as my text editor or IDE, based on my specific needs\"},\"height\":640,\"width\":800},                        {\"responsive\": true}                    )                };                            </script>        </div>\n",
              "</body>\n",
              "</html>"
            ],
            "text/plain": [
              "<IPython.core.display.HTML object>"
            ]
          },
          "metadata": {},
          "output_type": "display_data"
        }
      ],
      "source": [
        "# Display sunburst at row index `idx`\n",
        "idx=0\n",
        "\n",
        "from IPython.display import HTML, display\n",
        "assert idx<len(df_scores)\n",
        "\n",
        "html = df_scores.iloc[idx].get(\"html_sunburst\")\n",
        "display(HTML(html))"
      ]
    },
    {
      "cell_type": "code",
      "execution_count": null,
      "metadata": {
        "colab": {
          "base_uri": "https://localhost:8080/",
          "height": 577
        },
        "id": "PgMIMKNq45P-",
        "outputId": "f3ddc6a3-eb15-4ca8-a470-a1554b58b5ea"
      },
      "outputs": [
        {
          "data": {
            "text/html": [
              "<style>svg{width:100% !important;height:100% !important;</style>"
            ],
            "text/plain": [
              "<IPython.core.display.HTML object>"
            ]
          },
          "metadata": {},
          "output_type": "display_data"
        },
        {
          "data": {
            "image/svg+xml": [
              "<svg xmlns=\"http://www.w3.org/2000/svg\" xmlns:xlink=\"http://www.w3.org/1999/xlink\" width=\"1100pt\" height=\"610pt\" viewBox=\"0.00 0.00 1100.00 610.00\">\n",
              "<g id=\"graph0\" class=\"graph\" transform=\"scale(1 1) rotate(0) translate(4 606)\">\n",
              "<title>logikon informal argument map</title>\n",
              "<polygon fill=\"white\" stroke=\"transparent\" points=\"-4,4 -4,-606 1096,-606 1096,4 -4,4\"/>\n",
              "<!-- 10619d01&#45;e12f&#45;4265&#45;9170&#45;02e35920e894 -->\n",
              "<g id=\"node1\" class=\"node\">\n",
              "<title>10619d01-e12f-4265-9170-02e35920e894</title>\n",
              "<g id=\"a_node1\"><a xlink:title=\"I should use Vim as my text&lt;BR/&gt;editor or IDE.\">\n",
              "<path fill=\"white\" stroke=\"transparent\" d=\"M211.5,-532.5C211.5,-532.5 344.5,-532.5 344.5,-532.5 350.5,-532.5 356.5,-538.5 356.5,-544.5 356.5,-544.5 356.5,-577.5 356.5,-577.5 356.5,-583.5 350.5,-589.5 344.5,-589.5 344.5,-589.5 211.5,-589.5 211.5,-589.5 205.5,-589.5 199.5,-583.5 199.5,-577.5 199.5,-577.5 199.5,-544.5 199.5,-544.5 199.5,-538.5 205.5,-532.5 211.5,-532.5\"/>\n",
              "<text text-anchor=\"start\" x=\"255\" y=\"-574.4\" font-family=\"Arial, Helvetica, sans-serif\" font-weight=\"bold\" font-size=\"12.00\">Use Vim</text>\n",
              "<text text-anchor=\"start\" x=\"206\" y=\"-554.4\" font-family=\"Arial, Helvetica, sans-serif\" font-size=\"12.00\">I should use Vim as my text</text>\n",
              "<text text-anchor=\"start\" x=\"243.5\" y=\"-541.4\" font-family=\"Arial, Helvetica, sans-serif\" font-size=\"12.00\">editor or IDE.</text>\n",
              "<path fill=\"none\" stroke=\"lightblue\" stroke-width=\"4\" d=\"M211.5,-532.5C211.5,-532.5 344.5,-532.5 344.5,-532.5 350.5,-532.5 356.5,-538.5 356.5,-544.5 356.5,-544.5 356.5,-577.5 356.5,-577.5 356.5,-583.5 350.5,-589.5 344.5,-589.5 344.5,-589.5 211.5,-589.5 211.5,-589.5 205.5,-589.5 199.5,-583.5 199.5,-577.5 199.5,-577.5 199.5,-544.5 199.5,-544.5 199.5,-538.5 205.5,-532.5 211.5,-532.5\"/>\n",
              "</a>\n",
              "</g>\n",
              "</g>\n",
              "<!-- 808d505f&#45;c412&#45;49fa&#45;925f&#45;0fae87614d67 -->\n",
              "<g id=\"node2\" class=\"node\">\n",
              "<title>808d505f-c412-49fa-925f-0fae87614d67</title>\n",
              "<g id=\"a_node2\"><a xlink:title=\"I should use Emacs as my text&lt;BR/&gt;editor or IDE.\">\n",
              "<path fill=\"white\" stroke=\"transparent\" d=\"M730.5,-532.5C730.5,-532.5 879.5,-532.5 879.5,-532.5 885.5,-532.5 891.5,-538.5 891.5,-544.5 891.5,-544.5 891.5,-577.5 891.5,-577.5 891.5,-583.5 885.5,-589.5 879.5,-589.5 879.5,-589.5 730.5,-589.5 730.5,-589.5 724.5,-589.5 718.5,-583.5 718.5,-577.5 718.5,-577.5 718.5,-544.5 718.5,-544.5 718.5,-538.5 724.5,-532.5 730.5,-532.5\"/>\n",
              "<text text-anchor=\"start\" x=\"773\" y=\"-574.4\" font-family=\"Arial, Helvetica, sans-serif\" font-weight=\"bold\" font-size=\"12.00\">Use Emacs</text>\n",
              "<text text-anchor=\"start\" x=\"725\" y=\"-554.4\" font-family=\"Arial, Helvetica, sans-serif\" font-size=\"12.00\">I should use Emacs as my text</text>\n",
              "<text text-anchor=\"start\" x=\"770.5\" y=\"-541.4\" font-family=\"Arial, Helvetica, sans-serif\" font-size=\"12.00\">editor or IDE.</text>\n",
              "<path fill=\"none\" stroke=\"lightblue\" stroke-width=\"4\" d=\"M730.5,-532.5C730.5,-532.5 879.5,-532.5 879.5,-532.5 885.5,-532.5 891.5,-538.5 891.5,-544.5 891.5,-544.5 891.5,-577.5 891.5,-577.5 891.5,-583.5 885.5,-589.5 879.5,-589.5 879.5,-589.5 730.5,-589.5 730.5,-589.5 724.5,-589.5 718.5,-583.5 718.5,-577.5 718.5,-577.5 718.5,-544.5 718.5,-544.5 718.5,-538.5 724.5,-532.5 730.5,-532.5\"/>\n",
              "</a>\n",
              "</g>\n",
              "</g>\n",
              "<!-- 7e974e1e&#45;8ad4&#45;4dc9&#45;84ec&#45;d667d5761b38 -->\n",
              "<g id=\"node3\" class=\"node\">\n",
              "<title>7e974e1e-8ad4-4dc9-84ec-d667d5761b38</title>\n",
              "<g id=\"a_node3\"><a xlink:title=\"I should use both Vim and&lt;BR/&gt;Emacs as my text editor or&lt;BR/&gt;IDE.\">\n",
              "<path fill=\"white\" stroke=\"transparent\" d=\"M942,-526C942,-526 1070,-526 1070,-526 1076,-526 1082,-532 1082,-538 1082,-538 1082,-584 1082,-584 1082,-590 1076,-596 1070,-596 1070,-596 942,-596 942,-596 936,-596 930,-590 930,-584 930,-584 930,-538 930,-538 930,-532 936,-526 942,-526\"/>\n",
              "<text text-anchor=\"start\" x=\"979\" y=\"-581.4\" font-family=\"Arial, Helvetica, sans-serif\" font-weight=\"bold\" font-size=\"12.00\">Use Both</text>\n",
              "<text text-anchor=\"start\" x=\"937\" y=\"-561.4\" font-family=\"Arial, Helvetica, sans-serif\" font-size=\"12.00\">I should use both Vim and</text>\n",
              "<text text-anchor=\"start\" x=\"936\" y=\"-548.4\" font-family=\"Arial, Helvetica, sans-serif\" font-size=\"12.00\">Emacs as my text editor or</text>\n",
              "<text text-anchor=\"start\" x=\"994\" y=\"-535.4\" font-family=\"Arial, Helvetica, sans-serif\" font-size=\"12.00\">IDE.</text>\n",
              "<path fill=\"none\" stroke=\"lightblue\" stroke-width=\"4\" d=\"M942,-526C942,-526 1070,-526 1070,-526 1076,-526 1082,-532 1082,-538 1082,-538 1082,-584 1082,-584 1082,-590 1076,-596 1070,-596 1070,-596 942,-596 942,-596 936,-596 930,-590 930,-584 930,-584 930,-538 930,-538 930,-532 936,-526 942,-526\"/>\n",
              "</a>\n",
              "</g>\n",
              "</g>\n",
              "<!-- 931371a0&#45;ac25&#45;4c19&#45;a115&#45;caec4ea41953 -->\n",
              "<g id=\"node4\" class=\"node\">\n",
              "<title>931371a0-ac25-4c19-a115-caec4ea41953</title>\n",
              "<g id=\"a_node4\"><a xlink:title=\"Vim is highly efficient for&lt;BR/&gt;text editing and code&lt;BR/&gt;navigation once the user&lt;BR/&gt;becomes proficient with its&lt;BR/&gt;modal editing approach.\">\n",
              "<path fill=\"lightblue\" stroke=\"transparent\" d=\"M213.5,-371C213.5,-371 342.5,-371 342.5,-371 348.5,-371 354.5,-377 354.5,-383 354.5,-383 354.5,-466 354.5,-466 354.5,-472 348.5,-478 342.5,-478 342.5,-478 213.5,-478 213.5,-478 207.5,-478 201.5,-472 201.5,-466 201.5,-466 201.5,-383 201.5,-383 201.5,-377 207.5,-371 213.5,-371\"/>\n",
              "<text text-anchor=\"start\" x=\"225.5\" y=\"-462.9\" font-family=\"Arial, Helvetica, sans-serif\" font-weight=\"bold\" font-size=\"12.00\">Highly Efficient for</text>\n",
              "<text text-anchor=\"start\" x=\"258\" y=\"-450.9\" font-family=\"Arial, Helvetica, sans-serif\" font-weight=\"bold\" font-size=\"12.00\">Editing</text>\n",
              "<text text-anchor=\"start\" x=\"214\" y=\"-431.9\" font-family=\"Arial, Helvetica, sans-serif\" font-size=\"12.00\">Vim is highly efficient for</text>\n",
              "<text text-anchor=\"start\" x=\"223\" y=\"-418.9\" font-family=\"Arial, Helvetica, sans-serif\" font-size=\"12.00\">text editing and code</text>\n",
              "<text text-anchor=\"start\" x=\"213\" y=\"-405.9\" font-family=\"Arial, Helvetica, sans-serif\" font-size=\"12.00\">navigation once the user</text>\n",
              "<text text-anchor=\"start\" x=\"208\" y=\"-392.9\" font-family=\"Arial, Helvetica, sans-serif\" font-size=\"12.00\">becomes proficient with its</text>\n",
              "<text text-anchor=\"start\" x=\"214\" y=\"-379.9\" font-family=\"Arial, Helvetica, sans-serif\" font-size=\"12.00\">modal editing approach.</text>\n",
              "<path fill=\"none\" stroke=\"lightblue\" stroke-width=\"4\" d=\"M213.5,-371C213.5,-371 342.5,-371 342.5,-371 348.5,-371 354.5,-377 354.5,-383 354.5,-383 354.5,-466 354.5,-466 354.5,-472 348.5,-478 342.5,-478 342.5,-478 213.5,-478 213.5,-478 207.5,-478 201.5,-472 201.5,-466 201.5,-466 201.5,-383 201.5,-383 201.5,-377 207.5,-371 213.5,-371\"/>\n",
              "</a>\n",
              "</g>\n",
              "</g>\n",
              "<!-- 931371a0&#45;ac25&#45;4c19&#45;a115&#45;caec4ea41953&#45;&gt;10619d01&#45;e12f&#45;4265&#45;9170&#45;02e35920e894 -->\n",
              "<g id=\"edge1\" class=\"edge\">\n",
              "<title>931371a0-ac25-4c19-a115-caec4ea41953-&gt;10619d01-e12f-4265-9170-02e35920e894</title>\n",
              "<path fill=\"none\" stroke=\"#006400\" stroke-width=\"2\" d=\"M278,-484.1C278,-494.82 278,-505.84 278,-516.04\"/>\n",
              "<polygon fill=\"#006400\" stroke=\"#006400\" stroke-width=\"2\" points=\"274.5,-516.33 278,-526.33 281.5,-516.33 274.5,-516.33\"/>\n",
              "</g>\n",
              "<!-- 37237c3f&#45;bc92&#45;4a3c&#45;9ffa&#45;4d0543996fb9 -->\n",
              "<g id=\"node5\" class=\"node\">\n",
              "<title>37237c3f-bc92-4a3c-9ffa-4d0543996fb9</title>\n",
              "<g id=\"a_node5\"><a xlink:title=\"Vim uses a modal editing&lt;BR/&gt;approach.\">\n",
              "<path fill=\"lightblue\" stroke=\"transparent\" d=\"M22,-247.5C22,-247.5 144,-247.5 144,-247.5 150,-247.5 156,-253.5 156,-259.5 156,-259.5 156,-292.5 156,-292.5 156,-298.5 150,-304.5 144,-304.5 144,-304.5 22,-304.5 22,-304.5 16,-304.5 10,-298.5 10,-292.5 10,-292.5 10,-259.5 10,-259.5 10,-253.5 16,-247.5 22,-247.5\"/>\n",
              "<text text-anchor=\"start\" x=\"43.5\" y=\"-289.4\" font-family=\"Arial, Helvetica, sans-serif\" font-weight=\"bold\" font-size=\"12.00\">Modal Editing</text>\n",
              "<text text-anchor=\"start\" x=\"16\" y=\"-269.4\" font-family=\"Arial, Helvetica, sans-serif\" font-size=\"12.00\">Vim uses a modal editing</text>\n",
              "<text text-anchor=\"start\" x=\"56\" y=\"-256.4\" font-family=\"Arial, Helvetica, sans-serif\" font-size=\"12.00\">approach.</text>\n",
              "<path fill=\"none\" stroke=\"lightblue\" stroke-width=\"4\" d=\"M22,-247.5C22,-247.5 144,-247.5 144,-247.5 150,-247.5 156,-253.5 156,-259.5 156,-259.5 156,-292.5 156,-292.5 156,-298.5 150,-304.5 144,-304.5 144,-304.5 22,-304.5 22,-304.5 16,-304.5 10,-298.5 10,-292.5 10,-292.5 10,-259.5 10,-259.5 10,-253.5 16,-247.5 22,-247.5\"/>\n",
              "</a>\n",
              "</g>\n",
              "</g>\n",
              "<!-- 37237c3f&#45;bc92&#45;4a3c&#45;9ffa&#45;4d0543996fb9&#45;&gt;931371a0&#45;ac25&#45;4c19&#45;a115&#45;caec4ea41953 -->\n",
              "<g id=\"edge2\" class=\"edge\">\n",
              "<title>37237c3f-bc92-4a3c-9ffa-4d0543996fb9-&gt;931371a0-ac25-4c19-a115-caec4ea41953</title>\n",
              "<path fill=\"none\" stroke=\"#006400\" stroke-width=\"2\" d=\"M127.74,-310.61C146.76,-324.91 169.63,-342.08 191.71,-358.68\"/>\n",
              "<polygon fill=\"#006400\" stroke=\"#006400\" stroke-width=\"2\" points=\"189.71,-361.55 199.81,-364.76 193.91,-355.95 189.71,-361.55\"/>\n",
              "</g>\n",
              "<!-- 7796dee0&#45;52a9&#45;46f7&#45;b33f&#45;d40e6742800b -->\n",
              "<g id=\"node6\" class=\"node\">\n",
              "<title>7796dee0-52a9-46f7-b33f-d40e6742800b</title>\n",
              "<g id=\"a_node6\"><a xlink:title=\"Vim minimizes the need for&lt;BR/&gt;extensive keyboard shortcuts&lt;BR/&gt;by switching between different&lt;BR/&gt;modes for different tasks.\">\n",
              "<path fill=\"lightblue\" stroke=\"transparent\" d=\"M411.5,-229C411.5,-229 560.5,-229 560.5,-229 566.5,-229 572.5,-235 572.5,-241 572.5,-241 572.5,-311 572.5,-311 572.5,-317 566.5,-323 560.5,-323 560.5,-323 411.5,-323 411.5,-323 405.5,-323 399.5,-317 399.5,-311 399.5,-311 399.5,-241 399.5,-241 399.5,-235 405.5,-229 411.5,-229\"/>\n",
              "<text text-anchor=\"start\" x=\"426\" y=\"-308.4\" font-family=\"Arial, Helvetica, sans-serif\" font-weight=\"bold\" font-size=\"12.00\">Minimizing Keyboard</text>\n",
              "<text text-anchor=\"start\" x=\"458\" y=\"-296.4\" font-family=\"Arial, Helvetica, sans-serif\" font-weight=\"bold\" font-size=\"12.00\">Shortcuts</text>\n",
              "<text text-anchor=\"start\" x=\"414.5\" y=\"-277.4\" font-family=\"Arial, Helvetica, sans-serif\" font-size=\"12.00\">Vim minimizes the need for</text>\n",
              "<text text-anchor=\"start\" x=\"409\" y=\"-264.4\" font-family=\"Arial, Helvetica, sans-serif\" font-size=\"12.00\">extensive keyboard shortcuts</text>\n",
              "<text text-anchor=\"start\" x=\"406\" y=\"-251.4\" font-family=\"Arial, Helvetica, sans-serif\" font-size=\"12.00\">by switching between different</text>\n",
              "<text text-anchor=\"start\" x=\"420\" y=\"-238.4\" font-family=\"Arial, Helvetica, sans-serif\" font-size=\"12.00\">modes for different tasks.</text>\n",
              "<path fill=\"none\" stroke=\"lightblue\" stroke-width=\"4\" d=\"M411.5,-229C411.5,-229 560.5,-229 560.5,-229 566.5,-229 572.5,-235 572.5,-241 572.5,-241 572.5,-311 572.5,-311 572.5,-317 566.5,-323 560.5,-323 560.5,-323 411.5,-323 411.5,-323 405.5,-323 399.5,-317 399.5,-311 399.5,-311 399.5,-241 399.5,-241 399.5,-235 405.5,-229 411.5,-229\"/>\n",
              "</a>\n",
              "</g>\n",
              "</g>\n",
              "<!-- 7796dee0&#45;52a9&#45;46f7&#45;b33f&#45;d40e6742800b&#45;&gt;931371a0&#45;ac25&#45;4c19&#45;a115&#45;caec4ea41953 -->\n",
              "<g id=\"edge3\" class=\"edge\">\n",
              "<title>7796dee0-52a9-46f7-b33f-d40e6742800b-&gt;931371a0-ac25-4c19-a115-caec4ea41953</title>\n",
              "<path fill=\"none\" stroke=\"#006400\" stroke-width=\"2\" d=\"M412.08,-329.06C398.32,-338.76 383.79,-348.99 369.57,-359.01\"/>\n",
              "<polygon fill=\"#006400\" stroke=\"#006400\" stroke-width=\"2\" points=\"367.4,-356.25 361.24,-364.87 371.43,-361.97 367.4,-356.25\"/>\n",
              "</g>\n",
              "<!-- 791f4f1b&#45;e60c&#45;490e&#45;8d54&#45;6725f33c0181 -->\n",
              "<g id=\"node7\" class=\"node\">\n",
              "<title>791f4f1b-e60c-490e-8d54-6725f33c0181</title>\n",
              "<g id=\"a_node7\"><a xlink:title=\"Vim has a minimalistic design.\">\n",
              "<path fill=\"lightblue\" stroke=\"transparent\" d=\"M207.5,-12.5C207.5,-12.5 356.5,-12.5 356.5,-12.5 362.5,-12.5 368.5,-18.5 368.5,-24.5 368.5,-24.5 368.5,-44.5 368.5,-44.5 368.5,-50.5 362.5,-56.5 356.5,-56.5 356.5,-56.5 207.5,-56.5 207.5,-56.5 201.5,-56.5 195.5,-50.5 195.5,-44.5 195.5,-44.5 195.5,-24.5 195.5,-24.5 195.5,-18.5 201.5,-12.5 207.5,-12.5\"/>\n",
              "<text text-anchor=\"start\" x=\"228\" y=\"-41.9\" font-family=\"Arial, Helvetica, sans-serif\" font-weight=\"bold\" font-size=\"12.00\">Minimalistic design</text>\n",
              "<text text-anchor=\"start\" x=\"202\" y=\"-21.9\" font-family=\"Arial, Helvetica, sans-serif\" font-size=\"12.00\">Vim has a minimalistic design.</text>\n",
              "<path fill=\"none\" stroke=\"lightblue\" stroke-width=\"4\" d=\"M207.5,-12.5C207.5,-12.5 356.5,-12.5 356.5,-12.5 362.5,-12.5 368.5,-18.5 368.5,-24.5 368.5,-24.5 368.5,-44.5 368.5,-44.5 368.5,-50.5 362.5,-56.5 356.5,-56.5 356.5,-56.5 207.5,-56.5 207.5,-56.5 201.5,-56.5 195.5,-50.5 195.5,-44.5 195.5,-44.5 195.5,-24.5 195.5,-24.5 195.5,-18.5 201.5,-12.5 207.5,-12.5\"/>\n",
              "</a>\n",
              "</g>\n",
              "</g>\n",
              "<!-- 4bf0a41a&#45;ffdc&#45;449b&#45;99df&#45;a1bb22b25228 -->\n",
              "<g id=\"node8\" class=\"node\">\n",
              "<title>4bf0a41a-ffdc-449b-99df-a1bb22b25228</title>\n",
              "<g id=\"a_node8\"><a xlink:title=\"Vim has a lightweight&lt;BR/&gt;footprint.\">\n",
              "<path fill=\"lightblue\" stroke=\"transparent\" d=\"M436.5,-117.5C436.5,-117.5 543.5,-117.5 543.5,-117.5 549.5,-117.5 555.5,-123.5 555.5,-129.5 555.5,-129.5 555.5,-162.5 555.5,-162.5 555.5,-168.5 549.5,-174.5 543.5,-174.5 543.5,-174.5 436.5,-174.5 436.5,-174.5 430.5,-174.5 424.5,-168.5 424.5,-162.5 424.5,-162.5 424.5,-129.5 424.5,-129.5 424.5,-123.5 430.5,-117.5 436.5,-117.5\"/>\n",
              "<text text-anchor=\"start\" x=\"431\" y=\"-159.4\" font-family=\"Arial, Helvetica, sans-serif\" font-weight=\"bold\" font-size=\"12.00\">Lightweight footprint</text>\n",
              "<text text-anchor=\"start\" x=\"433.5\" y=\"-139.4\" font-family=\"Arial, Helvetica, sans-serif\" font-size=\"12.00\">Vim has a lightweight</text>\n",
              "<text text-anchor=\"start\" x=\"467.5\" y=\"-126.4\" font-family=\"Arial, Helvetica, sans-serif\" font-size=\"12.00\">footprint.</text>\n",
              "<path fill=\"none\" stroke=\"lightblue\" stroke-width=\"4\" d=\"M436.5,-117.5C436.5,-117.5 543.5,-117.5 543.5,-117.5 549.5,-117.5 555.5,-123.5 555.5,-129.5 555.5,-129.5 555.5,-162.5 555.5,-162.5 555.5,-168.5 549.5,-174.5 543.5,-174.5 543.5,-174.5 436.5,-174.5 436.5,-174.5 430.5,-174.5 424.5,-168.5 424.5,-162.5 424.5,-162.5 424.5,-129.5 424.5,-129.5 424.5,-123.5 430.5,-117.5 436.5,-117.5\"/>\n",
              "</a>\n",
              "</g>\n",
              "</g>\n",
              "<!-- 791f4f1b&#45;e60c&#45;490e&#45;8d54&#45;6725f33c0181&#45;&gt;4bf0a41a&#45;ffdc&#45;449b&#45;99df&#45;a1bb22b25228 -->\n",
              "<g id=\"edge4\" class=\"edge\">\n",
              "<title>791f4f1b-e60c-490e-8d54-6725f33c0181-&gt;4bf0a41a-ffdc-449b-99df-a1bb22b25228</title>\n",
              "<path fill=\"none\" stroke=\"#006400\" stroke-width=\"2\" d=\"M333.42,-62.57C358.71,-75.88 389.63,-92.16 417.3,-106.73\"/>\n",
              "<polygon fill=\"#006400\" stroke=\"#006400\" stroke-width=\"2\" points=\"415.68,-109.83 426.16,-111.39 418.94,-103.63 415.68,-109.83\"/>\n",
              "</g>\n",
              "<!-- a5e90380&#45;f571&#45;452a&#45;9a78&#45;0fbd5e1afa33 -->\n",
              "<g id=\"node9\" class=\"node\">\n",
              "<title>a5e90380-f571-452a-9a78-0fbd5e1afa33</title>\n",
              "<g id=\"a_node9\"><a xlink:title=\"Vim is an excellent choice for&lt;BR/&gt;remote server editing.\">\n",
              "<path fill=\"lightblue\" stroke=\"transparent\" d=\"M206.5,-247.5C206.5,-247.5 349.5,-247.5 349.5,-247.5 355.5,-247.5 361.5,-253.5 361.5,-259.5 361.5,-259.5 361.5,-292.5 361.5,-292.5 361.5,-298.5 355.5,-304.5 349.5,-304.5 349.5,-304.5 206.5,-304.5 206.5,-304.5 200.5,-304.5 194.5,-298.5 194.5,-292.5 194.5,-292.5 194.5,-259.5 194.5,-259.5 194.5,-253.5 200.5,-247.5 206.5,-247.5\"/>\n",
              "<text text-anchor=\"start\" x=\"215.5\" y=\"-289.4\" font-family=\"Arial, Helvetica, sans-serif\" font-weight=\"bold\" font-size=\"12.00\">Remote server editing</text>\n",
              "<text text-anchor=\"start\" x=\"201\" y=\"-269.4\" font-family=\"Arial, Helvetica, sans-serif\" font-size=\"12.00\">Vim is an excellent choice for</text>\n",
              "<text text-anchor=\"start\" x=\"221\" y=\"-256.4\" font-family=\"Arial, Helvetica, sans-serif\" font-size=\"12.00\">remote server editing.</text>\n",
              "<path fill=\"none\" stroke=\"lightblue\" stroke-width=\"4\" d=\"M206.5,-247.5C206.5,-247.5 349.5,-247.5 349.5,-247.5 355.5,-247.5 361.5,-253.5 361.5,-259.5 361.5,-259.5 361.5,-292.5 361.5,-292.5 361.5,-298.5 355.5,-304.5 349.5,-304.5 349.5,-304.5 206.5,-304.5 206.5,-304.5 200.5,-304.5 194.5,-298.5 194.5,-292.5 194.5,-292.5 194.5,-259.5 194.5,-259.5 194.5,-253.5 200.5,-247.5 206.5,-247.5\"/>\n",
              "</a>\n",
              "</g>\n",
              "</g>\n",
              "<!-- 4bf0a41a&#45;ffdc&#45;449b&#45;99df&#45;a1bb22b25228&#45;&gt;a5e90380&#45;f571&#45;452a&#45;9a78&#45;0fbd5e1afa33 -->\n",
              "<g id=\"edge5\" class=\"edge\">\n",
              "<title>4bf0a41a-ffdc-449b-99df-a1bb22b25228-&gt;a5e90380-f571-452a-9a78-0fbd5e1afa33</title>\n",
              "<path fill=\"none\" stroke=\"#0d690d\" stroke-width=\"2\" d=\"M434.3,-180.63C406.17,-197.61 371.89,-218.31 342.61,-235.99\"/>\n",
              "<polygon fill=\"#0d690d\" stroke=\"#0d690d\" stroke-width=\"2\" points=\"340.45,-233.21 333.7,-241.37 344.07,-239.2 340.45,-233.21\"/>\n",
              "</g>\n",
              "<!-- d3ce9462&#45;1461&#45;4a8a&#45;a4b4&#45;cdb5386c1f35 -->\n",
              "<g id=\"node16\" class=\"node\">\n",
              "<title>d3ce9462-1461-4a8a-a4b4-cdb5386c1f35</title>\n",
              "<g id=\"a_node16\"><a xlink:title=\"Emacs is less suitable for&lt;BR/&gt;extremely resource-constrained&lt;BR/&gt;environments.\">\n",
              "<path fill=\"lightblue\" stroke=\"transparent\" d=\"M623,-241C623,-241 779,-241 779,-241 785,-241 791,-247 791,-253 791,-253 791,-299 791,-299 791,-305 785,-311 779,-311 779,-311 623,-311 623,-311 617,-311 611,-305 611,-299 611,-299 611,-253 611,-253 611,-247 617,-241 623,-241\"/>\n",
              "<text text-anchor=\"start\" x=\"662\" y=\"-296.4\" font-family=\"Arial, Helvetica, sans-serif\" font-weight=\"bold\" font-size=\"12.00\">Less Suitable</text>\n",
              "<text text-anchor=\"start\" x=\"633\" y=\"-276.4\" font-family=\"Arial, Helvetica, sans-serif\" font-size=\"12.00\">Emacs is less suitable for</text>\n",
              "<text text-anchor=\"start\" x=\"617\" y=\"-263.4\" font-family=\"Arial, Helvetica, sans-serif\" font-size=\"12.00\">extremely resource-constrained</text>\n",
              "<text text-anchor=\"start\" x=\"663\" y=\"-250.4\" font-family=\"Arial, Helvetica, sans-serif\" font-size=\"12.00\">environments.</text>\n",
              "<path fill=\"none\" stroke=\"lightblue\" stroke-width=\"4\" d=\"M623,-241C623,-241 779,-241 779,-241 785,-241 791,-247 791,-253 791,-253 791,-299 791,-299 791,-305 785,-311 779,-311 779,-311 623,-311 623,-311 617,-311 611,-305 611,-299 611,-299 611,-253 611,-253 611,-247 617,-241 623,-241\"/>\n",
              "</a>\n",
              "</g>\n",
              "</g>\n",
              "<!-- 4bf0a41a&#45;ffdc&#45;449b&#45;99df&#45;a1bb22b25228&#45;&gt;d3ce9462&#45;1461&#45;4a8a&#45;a4b4&#45;cdb5386c1f35 -->\n",
              "<g id=\"edge6\" class=\"edge\">\n",
              "<title>4bf0a41a-ffdc-449b-99df-a1bb22b25228-&gt;d3ce9462-1461-4a8a-a4b4-cdb5386c1f35</title>\n",
              "<path fill=\"none\" stroke=\"#bc8383\" stroke-width=\"2\" d=\"M545.44,-180.63C570.23,-195.67 599.82,-213.62 626.5,-229.81\"/>\n",
              "<polygon fill=\"#bc8383\" stroke=\"#bc8383\" stroke-width=\"2\" points=\"624.69,-232.8 635.06,-235 628.32,-226.82 624.69,-232.8\"/>\n",
              "</g>\n",
              "<!-- a5e90380&#45;f571&#45;452a&#45;9a78&#45;0fbd5e1afa33&#45;&gt;931371a0&#45;ac25&#45;4c19&#45;a115&#45;caec4ea41953 -->\n",
              "<g id=\"edge7\" class=\"edge\">\n",
              "<title>a5e90380-f571-452a-9a78-0fbd5e1afa33-&gt;931371a0-ac25-4c19-a115-caec4ea41953</title>\n",
              "<path fill=\"none\" stroke=\"#006400\" stroke-width=\"2\" d=\"M278,-310.61C278,-323.78 278,-339.39 278,-354.74\"/>\n",
              "<polygon fill=\"#006400\" stroke=\"#006400\" stroke-width=\"2\" points=\"274.5,-354.76 278,-364.76 281.5,-354.76 274.5,-354.76\"/>\n",
              "</g>\n",
              "<!-- cf1168ab&#45;840e&#45;4e49&#45;90e9&#45;929ddf835012 -->\n",
              "<g id=\"node10\" class=\"node\">\n",
              "<title>cf1168ab-840e-4e49-90e9-929ddf835012</title>\n",
              "<g id=\"a_node10\"><a xlink:title=\"Vim is an excellent choice for&lt;BR/&gt;older hardware.\">\n",
              "<path fill=\"lightblue\" stroke=\"transparent\" d=\"M418.5,-6C418.5,-6 561.5,-6 561.5,-6 567.5,-6 573.5,-12 573.5,-18 573.5,-18 573.5,-51 573.5,-51 573.5,-57 567.5,-63 561.5,-63 561.5,-63 418.5,-63 418.5,-63 412.5,-63 406.5,-57 406.5,-51 406.5,-51 406.5,-18 406.5,-18 406.5,-12 412.5,-6 418.5,-6\"/>\n",
              "<text text-anchor=\"start\" x=\"446.5\" y=\"-47.9\" font-family=\"Arial, Helvetica, sans-serif\" font-weight=\"bold\" font-size=\"12.00\">Older hardware</text>\n",
              "<text text-anchor=\"start\" x=\"413\" y=\"-27.9\" font-family=\"Arial, Helvetica, sans-serif\" font-size=\"12.00\">Vim is an excellent choice for</text>\n",
              "<text text-anchor=\"start\" x=\"448.5\" y=\"-14.9\" font-family=\"Arial, Helvetica, sans-serif\" font-size=\"12.00\">older hardware.</text>\n",
              "<path fill=\"none\" stroke=\"lightblue\" stroke-width=\"4\" d=\"M418.5,-6C418.5,-6 561.5,-6 561.5,-6 567.5,-6 573.5,-12 573.5,-18 573.5,-18 573.5,-51 573.5,-51 573.5,-57 567.5,-63 561.5,-63 561.5,-63 418.5,-63 418.5,-63 412.5,-63 406.5,-57 406.5,-51 406.5,-51 406.5,-18 406.5,-18 406.5,-12 412.5,-6 418.5,-6\"/>\n",
              "</a>\n",
              "</g>\n",
              "</g>\n",
              "<!-- cf1168ab&#45;840e&#45;4e49&#45;90e9&#45;929ddf835012&#45;&gt;4bf0a41a&#45;ffdc&#45;449b&#45;99df&#45;a1bb22b25228 -->\n",
              "<g id=\"edge8\" class=\"edge\">\n",
              "<title>cf1168ab-840e-4e49-90e9-929ddf835012-&gt;4bf0a41a-ffdc-449b-99df-a1bb22b25228</title>\n",
              "<path fill=\"none\" stroke=\"#327932\" stroke-width=\"2\" d=\"M490,-69.25C490,-79.24 490,-90.33 490,-100.87\"/>\n",
              "<polygon fill=\"#327932\" stroke=\"#327932\" stroke-width=\"2\" points=\"486.5,-101.18 490,-111.18 493.5,-101.18 486.5,-101.18\"/>\n",
              "</g>\n",
              "<!-- 4c78c439&#45;a070&#45;4220&#45;9b86&#45;f170e89936d3 -->\n",
              "<g id=\"node11\" class=\"node\">\n",
              "<title>4c78c439-a070-4220-9b86-f170e89936d3</title>\n",
              "<g id=\"a_node11\"><a xlink:title=\"Emacs is known for its&lt;BR/&gt;extensibility, allowing users&lt;BR/&gt;to turn it into a full-fledged&lt;BR/&gt;IDE or customize it for any&lt;BR/&gt;purpose.\">\n",
              "<path fill=\"lightblue\" stroke=\"transparent\" d=\"M636,-376.5C636,-376.5 770,-376.5 770,-376.5 776,-376.5 782,-382.5 782,-388.5 782,-388.5 782,-460.5 782,-460.5 782,-466.5 776,-472.5 770,-472.5 770,-472.5 636,-472.5 636,-472.5 630,-472.5 624,-466.5 624,-460.5 624,-460.5 624,-388.5 624,-388.5 624,-382.5 630,-376.5 636,-376.5\"/>\n",
              "<text text-anchor=\"start\" x=\"672.5\" y=\"-457.9\" font-family=\"Arial, Helvetica, sans-serif\" font-weight=\"bold\" font-size=\"12.00\">Extensible</text>\n",
              "<text text-anchor=\"start\" x=\"643.5\" y=\"-437.9\" font-family=\"Arial, Helvetica, sans-serif\" font-size=\"12.00\">Emacs is known for its</text>\n",
              "<text text-anchor=\"start\" x=\"630\" y=\"-424.9\" font-family=\"Arial, Helvetica, sans-serif\" font-size=\"12.00\">extensibility, allowing users</text>\n",
              "<text text-anchor=\"start\" x=\"634.5\" y=\"-411.9\" font-family=\"Arial, Helvetica, sans-serif\" font-size=\"12.00\">to turn it into a full-fledged</text>\n",
              "<text text-anchor=\"start\" x=\"633.5\" y=\"-398.9\" font-family=\"Arial, Helvetica, sans-serif\" font-size=\"12.00\">IDE or customize it for any</text>\n",
              "<text text-anchor=\"start\" x=\"679.5\" y=\"-385.9\" font-family=\"Arial, Helvetica, sans-serif\" font-size=\"12.00\">purpose.</text>\n",
              "<path fill=\"none\" stroke=\"lightblue\" stroke-width=\"4\" d=\"M636,-376.5C636,-376.5 770,-376.5 770,-376.5 776,-376.5 782,-382.5 782,-388.5 782,-388.5 782,-460.5 782,-460.5 782,-466.5 776,-472.5 770,-472.5 770,-472.5 636,-472.5 636,-472.5 630,-472.5 624,-466.5 624,-460.5 624,-460.5 624,-388.5 624,-388.5 624,-382.5 630,-376.5 636,-376.5\"/>\n",
              "</a>\n",
              "</g>\n",
              "</g>\n",
              "<!-- 4c78c439&#45;a070&#45;4220&#45;9b86&#45;f170e89936d3&#45;&gt;808d505f&#45;c412&#45;49fa&#45;925f&#45;0fae87614d67 -->\n",
              "<g id=\"edge9\" class=\"edge\">\n",
              "<title>4c78c439-a070-4220-9b86-f170e89936d3-&gt;808d505f-c412-49fa-925f-0fae87614d67</title>\n",
              "<path fill=\"none\" stroke=\"#006400\" stroke-width=\"2\" d=\"M743.31,-478.66C753.27,-491.79 763.8,-505.67 773.28,-518.18\"/>\n",
              "<polygon fill=\"#006400\" stroke=\"#006400\" stroke-width=\"2\" points=\"770.52,-520.32 779.35,-526.17 776.09,-516.09 770.52,-520.32\"/>\n",
              "</g>\n",
              "<!-- c76c7d02&#45;2e86&#45;4c24&#45;aec0&#45;ae9f5a343296 -->\n",
              "<g id=\"node12\" class=\"node\">\n",
              "<title>c76c7d02-2e86-4c24-aec0-ae9f5a343296</title>\n",
              "<g id=\"a_node12\"><a xlink:title=\"Emacs may have a less steep&lt;BR/&gt;learning curve compared to&lt;BR/&gt;Vim's for some users.\">\n",
              "<path fill=\"lightblue\" stroke=\"transparent\" d=\"M841.5,-235.5C841.5,-235.5 988.5,-235.5 988.5,-235.5 994.5,-235.5 1000.5,-241.5 1000.5,-247.5 1000.5,-247.5 1000.5,-304.5 1000.5,-304.5 1000.5,-310.5 994.5,-316.5 988.5,-316.5 988.5,-316.5 841.5,-316.5 841.5,-316.5 835.5,-316.5 829.5,-310.5 829.5,-304.5 829.5,-304.5 829.5,-247.5 829.5,-247.5 829.5,-241.5 835.5,-235.5 841.5,-235.5\"/>\n",
              "<text text-anchor=\"start\" x=\"837.5\" y=\"-301.4\" font-family=\"Arial, Helvetica, sans-serif\" font-weight=\"bold\" font-size=\"12.00\">Less Steep Learning Curve</text>\n",
              "<text text-anchor=\"start\" x=\"901.5\" y=\"-289.4\" font-family=\"Arial, Helvetica, sans-serif\" font-weight=\"bold\" font-size=\"12.00\">for V</text>\n",
              "<text text-anchor=\"start\" x=\"836\" y=\"-270.4\" font-family=\"Arial, Helvetica, sans-serif\" font-size=\"12.00\">Emacs may have a less steep</text>\n",
              "<text text-anchor=\"start\" x=\"843\" y=\"-257.4\" font-family=\"Arial, Helvetica, sans-serif\" font-size=\"12.00\">learning curve compared to</text>\n",
              "<text text-anchor=\"start\" x=\"859\" y=\"-244.4\" font-family=\"Arial, Helvetica, sans-serif\" font-size=\"12.00\">Vim's for some users.</text>\n",
              "<path fill=\"none\" stroke=\"lightblue\" stroke-width=\"4\" d=\"M841.5,-235.5C841.5,-235.5 988.5,-235.5 988.5,-235.5 994.5,-235.5 1000.5,-241.5 1000.5,-247.5 1000.5,-247.5 1000.5,-304.5 1000.5,-304.5 1000.5,-310.5 994.5,-316.5 988.5,-316.5 988.5,-316.5 841.5,-316.5 841.5,-316.5 835.5,-316.5 829.5,-310.5 829.5,-304.5 829.5,-304.5 829.5,-247.5 829.5,-247.5 829.5,-241.5 835.5,-235.5 841.5,-235.5\"/>\n",
              "</a>\n",
              "</g>\n",
              "</g>\n",
              "<!-- 25c39abe&#45;99cb&#45;4587&#45;a8dc&#45;7a91d354168d -->\n",
              "<g id=\"node13\" class=\"node\">\n",
              "<title>25c39abe-99cb-4587-a8dc-7a91d354168d</title>\n",
              "<g id=\"a_node13\"><a xlink:title=\"Emacs' traditional keybindings&lt;BR/&gt;may contribute to a less steep&lt;BR/&gt;learning curve for some users.\">\n",
              "<path fill=\"lightblue\" stroke=\"transparent\" d=\"M836.5,-389.5C836.5,-389.5 987.5,-389.5 987.5,-389.5 993.5,-389.5 999.5,-395.5 999.5,-401.5 999.5,-401.5 999.5,-447.5 999.5,-447.5 999.5,-453.5 993.5,-459.5 987.5,-459.5 987.5,-459.5 836.5,-459.5 836.5,-459.5 830.5,-459.5 824.5,-453.5 824.5,-447.5 824.5,-447.5 824.5,-401.5 824.5,-401.5 824.5,-395.5 830.5,-389.5 836.5,-389.5\"/>\n",
              "<text text-anchor=\"start\" x=\"844.5\" y=\"-444.9\" font-family=\"Arial, Helvetica, sans-serif\" font-weight=\"bold\" font-size=\"12.00\">Traditional Keybindings</text>\n",
              "<text text-anchor=\"start\" x=\"831\" y=\"-424.9\" font-family=\"Arial, Helvetica, sans-serif\" font-size=\"12.00\">Emacs' traditional keybindings</text>\n",
              "<text text-anchor=\"start\" x=\"833.5\" y=\"-411.9\" font-family=\"Arial, Helvetica, sans-serif\" font-size=\"12.00\">may contribute to a less steep</text>\n",
              "<text text-anchor=\"start\" x=\"832.5\" y=\"-398.9\" font-family=\"Arial, Helvetica, sans-serif\" font-size=\"12.00\">learning curve for some users.</text>\n",
              "<path fill=\"none\" stroke=\"lightblue\" stroke-width=\"4\" d=\"M836.5,-389.5C836.5,-389.5 987.5,-389.5 987.5,-389.5 993.5,-389.5 999.5,-395.5 999.5,-401.5 999.5,-401.5 999.5,-447.5 999.5,-447.5 999.5,-453.5 993.5,-459.5 987.5,-459.5 987.5,-459.5 836.5,-459.5 836.5,-459.5 830.5,-459.5 824.5,-453.5 824.5,-447.5 824.5,-447.5 824.5,-401.5 824.5,-401.5 824.5,-395.5 830.5,-389.5 836.5,-389.5\"/>\n",
              "</a>\n",
              "</g>\n",
              "</g>\n",
              "<!-- c76c7d02&#45;2e86&#45;4c24&#45;aec0&#45;ae9f5a343296&#45;&gt;25c39abe&#45;99cb&#45;4587&#45;a8dc&#45;7a91d354168d -->\n",
              "<g id=\"edge10\" class=\"edge\">\n",
              "<title>c76c7d02-2e86-4c24-aec0-ae9f5a343296-&gt;25c39abe-99cb-4587-a8dc-7a91d354168d</title>\n",
              "<path fill=\"none\" stroke=\"#006400\" stroke-width=\"2\" d=\"M914.07,-322.55C913.74,-338.69 913.36,-356.93 913.03,-373.42\"/>\n",
              "<polygon fill=\"#006400\" stroke=\"#006400\" stroke-width=\"2\" points=\"909.53,-373.36 912.82,-383.43 916.52,-373.51 909.53,-373.36\"/>\n",
              "</g>\n",
              "<!-- 25c39abe&#45;99cb&#45;4587&#45;a8dc&#45;7a91d354168d&#45;&gt;808d505f&#45;c412&#45;49fa&#45;925f&#45;0fae87614d67 -->\n",
              "<g id=\"edge11\" class=\"edge\">\n",
              "<title>25c39abe-99cb-4587-a8dc-7a91d354168d-&gt;808d505f-c412-49fa-925f-0fae87614d67</title>\n",
              "<path fill=\"none\" stroke=\"#006400\" stroke-width=\"2\" d=\"M879.9,-465.85C866.67,-482.48 851.36,-501.73 838.04,-518.47\"/>\n",
              "<polygon fill=\"#006400\" stroke=\"#006400\" stroke-width=\"2\" points=\"835.16,-516.46 831.68,-526.47 840.64,-520.82 835.16,-516.46\"/>\n",
              "</g>\n",
              "<!-- 5f5875d3&#45;8eb2&#45;46b5&#45;a839&#45;8de67bd925ce -->\n",
              "<g id=\"node14\" class=\"node\">\n",
              "<title>5f5875d3-8eb2-46b5-a839-8de67bd925ce</title>\n",
              "<g id=\"a_node14\"><a xlink:title=\"Emacs' graphical menus may&lt;BR/&gt;contribute to a less steep&lt;BR/&gt;learning curve for some users.\">\n",
              "<path fill=\"lightblue\" stroke=\"transparent\" d=\"M841,-111C841,-111 989,-111 989,-111 995,-111 1001,-117 1001,-123 1001,-123 1001,-169 1001,-169 1001,-175 995,-181 989,-181 989,-181 841,-181 841,-181 835,-181 829,-175 829,-169 829,-169 829,-123 829,-123 829,-117 835,-111 841,-111\"/>\n",
              "<text text-anchor=\"start\" x=\"866.5\" y=\"-166.4\" font-family=\"Arial, Helvetica, sans-serif\" font-weight=\"bold\" font-size=\"12.00\">Graphical Menus</text>\n",
              "<text text-anchor=\"start\" x=\"836.5\" y=\"-146.4\" font-family=\"Arial, Helvetica, sans-serif\" font-size=\"12.00\">Emacs' graphical menus may</text>\n",
              "<text text-anchor=\"start\" x=\"848.5\" y=\"-133.4\" font-family=\"Arial, Helvetica, sans-serif\" font-size=\"12.00\">contribute to a less steep</text>\n",
              "<text text-anchor=\"start\" x=\"835\" y=\"-120.4\" font-family=\"Arial, Helvetica, sans-serif\" font-size=\"12.00\">learning curve for some users.</text>\n",
              "<path fill=\"none\" stroke=\"lightblue\" stroke-width=\"4\" d=\"M841,-111C841,-111 989,-111 989,-111 995,-111 1001,-117 1001,-123 1001,-123 1001,-169 1001,-169 1001,-175 995,-181 989,-181 989,-181 841,-181 841,-181 835,-181 829,-175 829,-169 829,-169 829,-123 829,-123 829,-117 835,-111 841,-111\"/>\n",
              "</a>\n",
              "</g>\n",
              "</g>\n",
              "<!-- 5f5875d3&#45;8eb2&#45;46b5&#45;a839&#45;8de67bd925ce&#45;&gt;c76c7d02&#45;2e86&#45;4c24&#45;aec0&#45;ae9f5a343296 -->\n",
              "<g id=\"edge12\" class=\"edge\">\n",
              "<title>5f5875d3-8eb2-46b5-a839-8de67bd925ce-&gt;c76c7d02-2e86-4c24-aec0-ae9f5a343296</title>\n",
              "<path fill=\"none\" stroke=\"#006400\" stroke-width=\"2\" d=\"M915,-187.15C915,-197.26 915,-208.3 915,-219.03\"/>\n",
              "<polygon fill=\"#006400\" stroke=\"#006400\" stroke-width=\"2\" points=\"911.5,-219.19 915,-229.19 918.5,-219.19 911.5,-219.19\"/>\n",
              "</g>\n",
              "<!-- e0013368&#45;bbb2&#45;4af7&#45;ba96&#45;07552ed748e1 -->\n",
              "<g id=\"node15\" class=\"node\">\n",
              "<title>e0013368-bbb2-4af7-ba96-07552ed748e1</title>\n",
              "<g id=\"a_node15\"><a xlink:title=\"Emacs can be more resource-&lt;BR/&gt;intensive compared to Vim.\">\n",
              "<path fill=\"lightblue\" stroke=\"transparent\" d=\"M624,-6C624,-6 772,-6 772,-6 778,-6 784,-12 784,-18 784,-18 784,-51 784,-51 784,-57 778,-63 772,-63 772,-63 624,-63 624,-63 618,-63 612,-57 612,-51 612,-51 612,-18 612,-18 612,-12 618,-6 624,-6\"/>\n",
              "<text text-anchor=\"start\" x=\"644\" y=\"-47.9\" font-family=\"Arial, Helvetica, sans-serif\" font-weight=\"bold\" font-size=\"12.00\">Resource Intensity</text>\n",
              "<text text-anchor=\"start\" x=\"618\" y=\"-27.9\" font-family=\"Arial, Helvetica, sans-serif\" font-size=\"12.00\">Emacs can be more resource-</text>\n",
              "<text text-anchor=\"start\" x=\"626\" y=\"-14.9\" font-family=\"Arial, Helvetica, sans-serif\" font-size=\"12.00\">intensive compared to Vim.</text>\n",
              "<path fill=\"none\" stroke=\"lightblue\" stroke-width=\"4\" d=\"M624,-6C624,-6 772,-6 772,-6 778,-6 784,-12 784,-18 784,-18 784,-51 784,-51 784,-57 778,-63 772,-63 772,-63 624,-63 624,-63 618,-63 612,-57 612,-51 612,-51 612,-18 612,-18 612,-12 618,-6 624,-6\"/>\n",
              "</a>\n",
              "</g>\n",
              "</g>\n",
              "<!-- e0013368&#45;bbb2&#45;4af7&#45;ba96&#45;07552ed748e1&#45;&gt;4bf0a41a&#45;ffdc&#45;449b&#45;99df&#45;a1bb22b25228 -->\n",
              "<g id=\"edge13\" class=\"edge\">\n",
              "<title>e0013368-bbb2-4af7-ba96-07552ed748e1-&gt;4bf0a41a-ffdc-449b-99df-a1bb22b25228</title>\n",
              "<path fill=\"none\" stroke=\"#b68f8f\" stroke-width=\"2\" d=\"M634.18,-69.1C611.62,-80.97 586.08,-94.42 562.83,-106.66\"/>\n",
              "<polygon fill=\"#b68f8f\" stroke=\"#b68f8f\" stroke-width=\"2\" points=\"560.92,-103.71 553.7,-111.47 564.18,-109.9 560.92,-103.71\"/>\n",
              "</g>\n",
              "<!-- d3ce9462&#45;1461&#45;4a8a&#45;a4b4&#45;cdb5386c1f35&#45;&gt;4c78c439&#45;a070&#45;4220&#45;9b86&#45;f170e89936d3 -->\n",
              "<g id=\"edge14\" class=\"edge\">\n",
              "<title>d3ce9462-1461-4a8a-a4b4-cdb5386c1f35-&gt;4c78c439-a070-4220-9b86-f170e89936d3</title>\n",
              "<path fill=\"none\" stroke=\"#a9a9a9\" stroke-width=\"2\" d=\"M701.55,-317.03C701.73,-330.39 701.94,-345.61 702.14,-360.28\"/>\n",
              "<polygon fill=\"#a9a9a9\" stroke=\"#a9a9a9\" stroke-width=\"2\" points=\"698.64,-360.37 702.27,-370.33 705.64,-360.28 698.64,-360.37\"/>\n",
              "</g>\n",
              "</g>\n",
              "</svg>"
            ],
            "text/plain": [
              "<IPython.core.display.SVG object>"
            ]
          },
          "metadata": {},
          "output_type": "display_data"
        }
      ],
      "source": [
        "# Display argument map at row index `idx`\n",
        "idx=0\n",
        "\n",
        "from IPython.display import SVG, display\n",
        "assert idx<len(df_scores)\n",
        "\n",
        "svg = df_scores.iloc[idx].get(\"svg_argmap\")\n",
        "style = \"<style>svg{width:100% !important;height:100% !important;</style>\"\n",
        "display(HTML(style))\n",
        "display(SVG(data=svg))"
      ]
    },
    {
      "cell_type": "markdown",
      "metadata": {
        "id": "9LZfAmj2YtHS"
      },
      "source": [
        "****\n",
        "\n",
        "(c) 2023 The Logikon AI Team | License: Apache 2.0"
      ]
    }
  ],
  "metadata": {
    "accelerator": "GPU",
    "colab": {
      "gpuType": "T4",
      "include_colab_link": true,
      "provenance": [],
      "toc_visible": true
    },
    "kernelspec": {
      "display_name": "Python 3",
      "name": "python3"
    },
    "language_info": {
      "name": "python",
      "version": "3.11.2"
    },
    "orig_nbformat": 4
  },
  "nbformat": 4,
  "nbformat_minor": 0
}
