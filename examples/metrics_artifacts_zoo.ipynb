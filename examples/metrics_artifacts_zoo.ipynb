{
  "cells": [
    {
      "cell_type": "markdown",
      "metadata": {
        "id": "view-in-github",
        "colab_type": "text"
      },
      "source": [
        "<a href=\"https://colab.research.google.com/github/logikon-ai/logikon/blob/main/examples/metrics_artifacts_zoo.ipynb\" target=\"_parent\"><img src=\"https://colab.research.google.com/assets/colab-badge.svg\" alt=\"Open In Colab\"/></a>"
      ]
    },
    {
      "cell_type": "markdown",
      "metadata": {
        "id": "13hfBALnYtHL"
      },
      "source": [
        "# **Logikon `/\\/`** – Metrics and Artifacts Zoo\n",
        "\n",
        "*Analyzing and Evaluating LLM Reasoning Traces*"
      ]
    },
    {
      "cell_type": "markdown",
      "metadata": {
        "id": "TUzKTbJtYtHM"
      },
      "source": [
        "This notebook showcases the reasoning **metrics** and **artifacts** that can be generated with the `logikon` python library.\n",
        "\n",
        "We're using 🤗's lightweight `zephyr-7b-beta` in this demo for its speed and small footprint. It tends to produce argumentative analyses that are creative and eloquent, rather than rigorous and exact -- and may hence not be the optimal expert model for your use cases."
      ]
    },
    {
      "cell_type": "markdown",
      "metadata": {
        "id": "apPN-0GVYtHN"
      },
      "source": [
        "> ⚠️ **Important notice.**\n",
        ">\n",
        "> **Logikon `/\\/`** is in early development stage:\n",
        "> * the package is subject to change at any time;\n",
        "> * results can vary due to changes in methods, pipelines, or underlying models;\n",
        "> * current speed and quality of evaluation results are not representative of future product.\n"
      ]
    },
    {
      "cell_type": "markdown",
      "source": [
        "**Table of contents**\n",
        "\n",
        "1. [Set-up](#set-up)\n",
        "2. [Collect metrics and artifacts](#collect)\n",
        "3. [Run analysis](#run)\n",
        "4. [Inspect results](#inspect)"
      ],
      "metadata": {
        "id": "PBHAr94lFgCD"
      }
    },
    {
      "cell_type": "markdown",
      "metadata": {
        "id": "fMyE0lBQYtHN"
      },
      "source": [
        "## Set-up environment and examples <a name=\"set-up\"></a>"
      ]
    },
    {
      "cell_type": "code",
      "source": [
        "# Please make sure that the following files from the `examples` folder\n",
        "# in the `logikon-ai/logikon` GitHub repo are available.\n",
        "!test -f \"requirements.txt\" || echo \"Missing requirements.txt\"\n",
        "!test -f \"setup.sh\" || echo \"Missing setup.sh\"\n",
        "!test -f \"scoring.py\" || echo \"Missing scoring.py\""
      ],
      "metadata": {
        "id": "VEz318IJCaw7"
      },
      "execution_count": 1,
      "outputs": []
    },
    {
      "cell_type": "code",
      "source": [
        "# Configure the environment\n",
        "import os\n",
        "\n",
        "os.environ[\"LGK_FRAMEWORK\"] = \"llamacpp\"\n",
        "os.environ[\"LGK_DEVICE\"] = \"gpu\"\n",
        "os.environ[\"LGK_HUBREPO\"] = \"TheBloke/zephyr-7B-beta-GGUF\"\n",
        "os.environ[\"LGK_MODELWEIGHTS\"] = \"zephyr-7b-beta.Q6_K.gguf\"\n",
        "os.environ[\"LGK_TOKENIZER\"] = \"HuggingFaceH4/zephyr-7b-beta\"\n",
        "os.environ[\"LGK_RELEASE\"] = \"main\""
      ],
      "metadata": {
        "id": "uDIpY9XuCwkm"
      },
      "execution_count": 2,
      "outputs": []
    },
    {
      "cell_type": "code",
      "source": [
        "# Check gpu available\n",
        "! [ \"$LGK_DEVICE\" = \"gpu\" ] && nvidia-smi"
      ],
      "metadata": {
        "colab": {
          "base_uri": "https://localhost:8080/"
        },
        "id": "epMW5Zx6W9nr",
        "outputId": "66fb242f-ce21-42b9-8843-a73e22003268"
      },
      "execution_count": 3,
      "outputs": [
        {
          "output_type": "stream",
          "name": "stdout",
          "text": [
            "Sat Nov 11 15:09:32 2023       \n",
            "+-----------------------------------------------------------------------------+\n",
            "| NVIDIA-SMI 525.105.17   Driver Version: 525.105.17   CUDA Version: 12.0     |\n",
            "|-------------------------------+----------------------+----------------------+\n",
            "| GPU  Name        Persistence-M| Bus-Id        Disp.A | Volatile Uncorr. ECC |\n",
            "| Fan  Temp  Perf  Pwr:Usage/Cap|         Memory-Usage | GPU-Util  Compute M. |\n",
            "|                               |                      |               MIG M. |\n",
            "|===============================+======================+======================|\n",
            "|   0  Tesla T4            Off  | 00000000:00:04.0 Off |                    0 |\n",
            "| N/A   66C    P8    11W /  70W |      0MiB / 15360MiB |      0%      Default |\n",
            "|                               |                      |                  N/A |\n",
            "+-------------------------------+----------------------+----------------------+\n",
            "                                                                               \n",
            "+-----------------------------------------------------------------------------+\n",
            "| Processes:                                                                  |\n",
            "|  GPU   GI   CI        PID   Type   Process name                  GPU Memory |\n",
            "|        ID   ID                                                   Usage      |\n",
            "|=============================================================================|\n",
            "|  No running processes found                                                 |\n",
            "+-----------------------------------------------------------------------------+\n"
          ]
        }
      ]
    },
    {
      "cell_type": "code",
      "source": [
        "!sh setup.sh"
      ],
      "metadata": {
        "id": "tSSiej4pY8-i"
      },
      "execution_count": null,
      "outputs": []
    },
    {
      "cell_type": "code",
      "source": [
        "import os\n",
        "\n",
        "if os.environ.get(\"LGK_MODELWEIGHTS\"):\n",
        "  abspath = os.path.join(\n",
        "    os.path.abspath(\"./models\"),\n",
        "    os.environ.get(\"LGK_MODELWEIGHTS\")\n",
        "  )\n",
        "else:\n",
        "  abspath = \"\"\n",
        "os.environ[\"LGK_ABSPATH_MODELWEIGHTS\"] = abspath\n",
        "os.environ[\"LGK_ABSPATH_MODELWEIGHTS\"]"
      ],
      "metadata": {
        "colab": {
          "base_uri": "https://localhost:8080/",
          "height": 35
        },
        "id": "iFteYtUPJvDI",
        "outputId": "4776c715-eb0b-4e7f-d365-e6093d61212e"
      },
      "execution_count": 6,
      "outputs": [
        {
          "output_type": "execute_result",
          "data": {
            "text/plain": [
              "'/content/models/zephyr-7b-beta.Q6_K.gguf'"
            ],
            "application/vnd.google.colaboratory.intrinsic+json": {
              "type": "string"
            }
          },
          "metadata": {},
          "execution_count": 6
        }
      ]
    },
    {
      "cell_type": "code",
      "source": [
        "# Check whether model weights file is available\n",
        "!test -f \"$LGK_ABSPATH_MODELWEIGHTS\" || echo \"Cannot find model weights\""
      ],
      "metadata": {
        "id": "BN9HH97iL9OF"
      },
      "execution_count": 7,
      "outputs": []
    },
    {
      "cell_type": "code",
      "source": [
        "# Example reasoning traces\n",
        "\n",
        "EXAMPLE = {\n",
        "  \"prompt\": \"\"\"Can you give me some advice on whether I should use Vim or Emacs?\"\"\",\n",
        "  \"completion\": \"\"\"\n",
        "The choice between Vim and Emacs is a classic debate in the world of text editors and integrated\n",
        "development environments (IDEs). Both Vim and Emacs are powerful and highly customizable, but they\n",
        "have different philosophies and approaches to text editing. Your choice should depend on your\n",
        "specific needs and preferences. Here's a careful analysis of both editors:\n",
        "\n",
        "Vim:\n",
        "\n",
        "Modal Editing: Vim uses a modal editing approach, which means it has different modes for different\n",
        "tasks (insert mode, normal mode, visual mode, etc.). This can be more efficient for many users once\n",
        "they become proficient, as it minimizes the need for extensive keyboard shortcuts.\n",
        "\n",
        "Lightweight: Vim is known for its minimalistic design and lightweight footprint. It can run\n",
        "efficiently on even older hardware and over SSH connections, making it an excellent choice for\n",
        "remote server editing.\n",
        "\n",
        "Highly Efficient for Editing: Once you've mastered Vim, it can be incredibly efficient for text\n",
        "editing and code navigation. Vim users often rave about its speed and precision.\n",
        "\n",
        "Emacs:\n",
        "\n",
        "Extensible: Emacs is known for its extensibility. It's not just a text editor; it's an extensible\n",
        "platform that can be turned into a full-fledged IDE or customized for any purpose. If you like the\n",
        "idea of a highly customized environment, Emacs is a strong contender.\n",
        "\n",
        "Moderate Learning Curve: Emacs has a learning curve, but it may be perceived as less steep than Vim's\n",
        "for some users. The keybindings are more traditional, and it offers a range of graphical menus that\n",
        "can help beginners.\n",
        "\n",
        "Resource Intensive: Emacs can be more resource-intensive compared to Vim. It may not be the best\n",
        "choice for extremely resource-constrained environments.\"\"\",\n",
        "}"
      ],
      "metadata": {
        "id": "4wDx93tsZulU"
      },
      "execution_count": 8,
      "outputs": []
    },
    {
      "cell_type": "code",
      "source": [
        "import pandas as pd\n",
        "df_traces = pd.DataFrame([EXAMPLE])"
      ],
      "metadata": {
        "id": "0gGYxzS9aoyI"
      },
      "execution_count": 9,
      "outputs": []
    },
    {
      "cell_type": "code",
      "source": [
        "# Save reasoning traces to file\n",
        "df_traces.to_json(\"reasoning_traces.jsonl\", orient=\"records\", lines=True)"
      ],
      "metadata": {
        "id": "SKnqYjOca6De"
      },
      "execution_count": 10,
      "outputs": []
    },
    {
      "cell_type": "code",
      "source": [
        "# Check data file available\n",
        "!head -2 \"reasoning_traces.jsonl\""
      ],
      "metadata": {
        "colab": {
          "base_uri": "https://localhost:8080/"
        },
        "id": "txykfjd-bX5C",
        "outputId": "de4a2c54-7288-4e21-d0ea-f1167ef9d182"
      },
      "execution_count": 11,
      "outputs": [
        {
          "output_type": "stream",
          "name": "stdout",
          "text": [
            "{\"prompt\":\"Can you give me some advice on whether I should use Vim or Emacs?\",\"completion\":\"\\nThe choice between Vim and Emacs is a classic debate in the world of text editors and integrated\\ndevelopment environments (IDEs). Both Vim and Emacs are powerful and highly customizable, but they\\nhave different philosophies and approaches to text editing. Your choice should depend on your\\nspecific needs and preferences. Here's a careful analysis of both editors:\\n\\nVim:\\n\\nModal Editing: Vim uses a modal editing approach, which means it has different modes for different\\ntasks (insert mode, normal mode, visual mode, etc.). This can be more efficient for many users once\\nthey become proficient, as it minimizes the need for extensive keyboard shortcuts.\\n\\nLightweight: Vim is known for its minimalistic design and lightweight footprint. It can run\\nefficiently on even older hardware and over SSH connections, making it an excellent choice for\\nremote server editing.\\n\\nHighly Efficient for Editing: Once you've mastered Vim, it can be incredibly efficient for text\\nediting and code navigation. Vim users often rave about its speed and precision.\\n\\nEmacs:\\n\\nExtensible: Emacs is known for its extensibility. It's not just a text editor; it's an extensible\\nplatform that can be turned into a full-fledged IDE or customized for any purpose. If you like the\\nidea of a highly customized environment, Emacs is a strong contender.\\n\\nModerate Learning Curve: Emacs has a learning curve, but it may be perceived as less steep than Vim's\\nfor some users. The keybindings are more traditional, and it offers a range of graphical menus that\\ncan help beginners.\\n\\nResource Intensive: Emacs can be more resource-intensive compared to Vim. It may not be the best\\nchoice for extremely resource-constrained environments.\"}\n"
          ]
        }
      ]
    },
    {
      "cell_type": "markdown",
      "source": [
        "## Collect all available metrics and artifacts <a name=\"collect\"></a>"
      ],
      "metadata": {
        "id": "nSrgZcyMAdwP"
      }
    },
    {
      "cell_type": "code",
      "source": [
        "# Metrics and artifacts are created by analysts, which are centrally registered\n",
        "\n",
        "import logikon\n",
        "import pprint\n",
        "\n",
        "registry = logikon.analysts.registry.get_analyst_registry()"
      ],
      "metadata": {
        "id": "6Vpgpx0dvPHH"
      },
      "execution_count": 12,
      "outputs": []
    },
    {
      "cell_type": "code",
      "source": [
        "# List all metrics\n",
        "\n",
        "mdl = []\n",
        "\n",
        "mdl.append(f\"## Logikon `/\\/` Metrics ({logikon.__version__})\")\n",
        "mdl.append(\"\")\n",
        "\n",
        "for key, analyst_classes in registry.items():\n",
        "  for analyst_class in analyst_classes:\n",
        "    if issubclass(analyst_class, logikon.analysts.base.AbstractScoreAnalyst):\n",
        "      mdl.append(f\"#### Metric `{key}`\")\n",
        "      mdl.append(\"\")\n",
        "      mdl.append(f\"* *Description*: {analyst_class.get_description()}\")\n",
        "      mdl.append(f\"* *Requirements*: {analyst_class.get_requirements()}\")\n",
        "    mdl.append(\"\")\n",
        "\n",
        "from IPython.core.display import Markdown\n",
        "display(Markdown(\"\\n\".join(mdl)))"
      ],
      "metadata": {
        "colab": {
          "base_uri": "https://localhost:8080/",
          "height": 680
        },
        "id": "Sn1YTbr4zBJa",
        "outputId": "f7b3202b-7572-4d2b-90e5-09fb164c70fd"
      },
      "execution_count": 13,
      "outputs": [
        {
          "output_type": "display_data",
          "data": {
            "text/plain": [
              "<IPython.core.display.Markdown object>"
            ],
            "text/markdown": "## Logikon `/\\/` Metrics (0.0.1-dev1)\n\n\n\n\n\n\n\n\n#### Metric `argmap_size`\n\n* *Description*: Measure the size of the argument map (number of nodes)\n* *Requirements*: [{'fuzzy_argmap_nx'}, {'networkx_graph'}]\n\n#### Metric `n_root_nodes`\n\n* *Description*: Cont the number of root nodes in argument map (out degree = 0)\n* *Requirements*: [{'fuzzy_argmap_nx'}, {'networkx_graph'}]\n\n#### Metric `argmap_avg_katz_centrality`\n\n* *Description*: Average Katz centrality of all nodes in the graph\n* *Requirements*: [{'fuzzy_argmap_nx'}, {'networkx_graph'}]\n\n#### Metric `argmap_attack_ratio`\n\n* *Description*: Ratio of attacking reasons (cons) in the informal argmap\n* *Requirements*: [{'fuzzy_argmap_nx'}, {'networkx_graph'}]\n\n#### Metric `mean_root_support`\n\n* *Description*: The mean root support in the argument map (global balance score)\n* *Requirements*: [{'fuzzy_argmap_nx'}, {'networkx_graph'}]\n\n#### Metric `mean_absolute_root_support`\n\n* *Description*: The mean absolute root support in the argument map (local balance score)\n* *Requirements*: [{'fuzzy_argmap_nx'}, {'networkx_graph'}]\n\n#### Metric `global_balance`\n\n* *Description*: The argument map's global balance (assumes mutually exclusive and collectively exhaustive root claims)\n* *Requirements*: [{'fuzzy_argmap_nx'}, {'networkx_graph'}]\n\n#### Metric `mean_reason_strength`\n\n* *Description*: Mean strength (absolute weight) of support and attack reasons (cons) in the fuzzy argmap\n* *Requirements*: [{'fuzzy_argmap_nx'}, {'networkx_graph'}]\n"
          },
          "metadata": {}
        }
      ]
    },
    {
      "cell_type": "code",
      "source": [
        "# List all artifacts\n",
        "\n",
        "mdl = []\n",
        "\n",
        "mdl.append(f\"## Logikon `/\\/` Artifacts ({logikon.__version__})\")\n",
        "mdl.append(\"\")\n",
        "\n",
        "for key, analyst_classes in registry.items():\n",
        "  for analyst_class in analyst_classes:\n",
        "    if issubclass(analyst_class, logikon.analysts.base.AbstractArtifactAnalyst):\n",
        "      mdl.append(f\"#### Artifact `{key}`\")\n",
        "      mdl.append(\"\")\n",
        "      mdl.append(f\"* *Description*: {analyst_class.get_description()}\")\n",
        "      mdl.append(f\"* *Requirements*: {analyst_class.get_requirements()}\")\n",
        "    mdl.append(\"\")\n",
        "\n",
        "\n",
        "from IPython.core.display import Markdown\n",
        "display(Markdown(\"\\n\".join(mdl)))"
      ],
      "metadata": {
        "colab": {
          "base_uri": "https://localhost:8080/",
          "height": 603
        },
        "id": "B5zwCR2h23L9",
        "outputId": "023b35ad-e38b-4f3c-ecb5-8dc513720687"
      },
      "execution_count": 14,
      "outputs": [
        {
          "output_type": "display_data",
          "data": {
            "text/plain": [
              "<IPython.core.display.Markdown object>"
            ],
            "text/markdown": "## Logikon `/\\/` Artifacts (0.0.1-dev1)\n\n#### Artifact `issue`\n\n* *Description*: Issue or decision problem addressed in the deliberation\n* *Requirements*: []\n\n#### Artifact `proscons`\n\n* *Description*: Pros and cons list with multiple root claims\n* *Requirements*: ['issue']\n\n#### Artifact `relevance_network`\n\n* *Description*: Relevance network describing comprehensively the strengths of pairwise support and attack relations\n* *Requirements*: ['issue', 'proscons']\n\n#### Artifact `relevance_network_nx`\n\n* *Description*: Relevance network rendered as a networkx graph\n* *Requirements*: ['relevance_network']\n\n#### Artifact `fuzzy_argmap_nx`\n\n* *Description*: Informal argument map (nx graph) with weighted support and attack relations\n* *Requirements*: ['relevance_network_nx']\n\n#### Artifact `svg_argmap`\n\n* *Description*: Exports a networkx graph as a graphviz argument map (svg)\n* *Requirements*: [{'fuzzy_argmap_nx'}, {'networkx_graph'}]\n\n#### Artifact `html_sunburst`\n\n* *Description*: Exports a networkx graph as a HTML sunburst\n* *Requirements*: [{'fuzzy_argmap_nx', 'issue'}, {'issue', 'networkx_graph'}]\n\n\n\n\n\n\n\n\n"
          },
          "metadata": {}
        }
      ]
    },
    {
      "cell_type": "code",
      "source": [
        "# Write config als yaml file\n",
        "\n",
        "config_dict = {\n",
        "    # all metrics\n",
        "    \"metrics\": [\n",
        "        k for k,v in registry.items()\n",
        "        if issubclass(v[0], logikon.analysts.base.AbstractScoreAnalyst)\n",
        "    ],\n",
        "    # artifacts to generate\n",
        "    \"artifacts\": [\n",
        "        k for k,v in registry.items()\n",
        "        if issubclass(v[0], logikon.analysts.base.AbstractArtifactAnalyst)\n",
        "    ],\n",
        "    \"global_kwargs\": {\n",
        "        \"expert_model\": os.environ[\"LGK_ABSPATH_MODELWEIGHTS\"],\n",
        "        \"expert_model_kwargs\": {\n",
        "            \"n_ctx\": 3072,\n",
        "            # comment out line below if no gpu\n",
        "            \"n_gpu_layers\": -1,\n",
        "            \"tokenizer\": os.environ[\"LGK_TOKENIZER\"],\n",
        "            # custom prompt template, make sure this fits the expert_model\n",
        "            \"prompt_template\": {\n",
        "                \"sys_start\": \"\\n<|system|>\\n\",\n",
        "                \"sys_end\": \"\",\n",
        "                \"user_start\": \"\\n<|user|>\\n\",\n",
        "                \"user_end\": \"\",\n",
        "                \"ass_start\": \"\\n<|assistant|>\\n\",\n",
        "                \"ass_end\": \"\",\n",
        "            },\n",
        "        },\n",
        "        \"generation_kwargs\": {\"max_len\": 3072},\n",
        "        \"llm_framework\": \"llama.cpp\",\n",
        "    },\n",
        "}\n",
        "\n",
        "import yaml\n",
        "with open('config.yml', 'w') as outfile:\n",
        "    yaml.dump(config_dict, outfile, default_flow_style=False)\n",
        "\n",
        "# Check config file available\n",
        "!head -10 \"config.yml\" && echo \"...\""
      ],
      "metadata": {
        "id": "sIGXP7YieNQg"
      },
      "execution_count": null,
      "outputs": []
    },
    {
      "cell_type": "markdown",
      "source": [
        "## Run analysis <a name=\"run\"></a>"
      ],
      "metadata": {
        "id": "Pwx5YGLtA5wW"
      }
    },
    {
      "cell_type": "code",
      "source": [
        "# 🫖 This will take some time ... you may monitor `scoring.log`\n",
        "!python scoring.py \\\n",
        "  --config-file config.yml \\\n",
        "  --reasoning-traces-file reasoning_traces.jsonl"
      ],
      "metadata": {
        "colab": {
          "base_uri": "https://localhost:8080/"
        },
        "id": "BL4ADqpSf_WB",
        "outputId": "75657460-f69f-4b3a-b951-09722a1b9ff5"
      },
      "execution_count": 16,
      "outputs": [
        {
          "output_type": "stream",
          "name": "stdout",
          "text": [
            "0it [00:00, ?it/s]The cache for model files in Transformers v4.22.0 has been updated. Migrating your old cache. This is a one-time only operation. You can interrupt this and resume the migration later on by calling `transformers.utils.move_cache()`.\n",
            "\n",
            "0it [00:00, ?it/s]\n",
            "/usr/bin/dot\n",
            "\n",
            "(…)-beta/resolve/main/tokenizer_config.json: 100% 1.43k/1.43k [00:00<00:00, 7.42MB/s]\n",
            "\n",
            "tokenizer.model: 100% 493k/493k [00:00<00:00, 9.96MB/s]\n",
            "\n",
            "(…)phyr-7b-beta/resolve/main/tokenizer.json: 100% 1.80M/1.80M [00:00<00:00, 21.9MB/s]\n",
            "\n",
            "(…)r-7b-beta/resolve/main/added_tokens.json: 100% 42.0/42.0 [00:00<00:00, 289kB/s]\n",
            "\n",
            "(…)eta/resolve/main/special_tokens_map.json: 100% 168/168 [00:00<00:00, 1.25MB/s]\n",
            "[Loading llama.cpp model from llama.cpp:/content/models/zephyr-7b-beta.Q6_K.gguf  with  {'n_ctx': 3072, 'n_gpu_layers': -1} ]\n",
            "2023-11-11 15:49:14.796972: E tensorflow/compiler/xla/stream_executor/cuda/cuda_dnn.cc:9342] Unable to register cuDNN factory: Attempting to register factory for plugin cuDNN when one has already been registered\n",
            "2023-11-11 15:49:14.797036: E tensorflow/compiler/xla/stream_executor/cuda/cuda_fft.cc:609] Unable to register cuFFT factory: Attempting to register factory for plugin cuFFT when one has already been registered\n",
            "2023-11-11 15:49:14.797078: E tensorflow/compiler/xla/stream_executor/cuda/cuda_blas.cc:1518] Unable to register cuBLAS factory: Attempting to register factory for plugin cuBLAS when one has already been registered\n",
            "2023-11-11 15:49:17.133019: W tensorflow/compiler/tf2tensorrt/utils/py_utils.cc:38] TF-TRT Warning: Could not find TensorRT\n",
            "\n",
            "Reason-root edges:   0% 0/2 [00:00<?, ?it/s]\u001b[A\n",
            "Reason-root edges:  50% 1/2 [00:18<00:18, 18.17s/it]\u001b[A\n",
            "Reason-root edges: 100% 2/2 [00:34<00:00, 17.21s/it]\n",
            "\n",
            "Reason-reason edges:   0% 0/15 [00:00<?, ?it/s]\u001b[A\n",
            "Reason-reason edges:  13% 2/15 [00:31<03:23, 15.68s/it]\u001b[A\n",
            "Reason-reason edges:  20% 3/15 [01:00<04:14, 21.18s/it]\u001b[A\n",
            "Reason-reason edges:  27% 4/15 [01:35<04:50, 26.42s/it]\u001b[A\n",
            "Reason-reason edges:  33% 5/15 [02:05<04:36, 27.63s/it]\u001b[A\n",
            "Reason-reason edges:  40% 6/15 [02:32<04:08, 27.59s/it]\u001b[A\n",
            "Reason-reason edges:  47% 7/15 [03:03<03:48, 28.51s/it]\u001b[A\n",
            "Reason-reason edges:  53% 8/15 [03:33<03:23, 29.13s/it]\u001b[A\n",
            "Reason-reason edges:  67% 10/15 [04:04<01:52, 22.60s/it]\u001b[A\n",
            "Reason-reason edges:  73% 11/15 [04:35<01:38, 24.64s/it]\u001b[A\n",
            "Reason-reason edges:  80% 12/15 [05:08<01:20, 26.84s/it]\u001b[A\n",
            "Reason-reason edges:  87% 13/15 [05:43<00:58, 29.27s/it]\u001b[A\n",
            "Reason-reason edges:  93% 14/15 [06:20<00:31, 31.25s/it]\u001b[A\n",
            "Reason-reason edges: 100% 15/15 [06:52<00:00, 27.47s/it]\n",
            "1it [11:06, 666.40s/it]\n"
          ]
        }
      ]
    },
    {
      "cell_type": "markdown",
      "source": [
        "## Inspect generated metrics and artifacts <a name=\"inspect\"></a>"
      ],
      "metadata": {
        "id": "7uaXFSRjA_Wu"
      }
    },
    {
      "cell_type": "code",
      "source": [
        "df_scores = pd.read_json(\"outputs/reasoning_traces-scores.jsonl\", lines=True)"
      ],
      "metadata": {
        "id": "cttOhhYfpyP6"
      },
      "execution_count": 18,
      "outputs": []
    },
    {
      "cell_type": "markdown",
      "source": [
        "### Metrics"
      ],
      "metadata": {
        "id": "69ZoV1CR4_dN"
      }
    },
    {
      "cell_type": "code",
      "source": [
        "# Display metric scores\n",
        "df_scores[config_dict.get(\"metrics\",[])].T.rename(columns={0: \"value\"})"
      ],
      "metadata": {
        "colab": {
          "base_uri": "https://localhost:8080/",
          "height": 300
        },
        "id": "JCC66EW08MAx",
        "outputId": "cac02b36-e8d2-4ec6-ce1a-eedc7ef5616c"
      },
      "execution_count": 20,
      "outputs": [
        {
          "output_type": "execute_result",
          "data": {
            "text/plain": [
              "                                value\n",
              "argmap_size                 15.000000\n",
              "n_root_nodes                 2.000000\n",
              "argmap_avg_katz_centrality   0.256013\n",
              "argmap_attack_ratio          0.153846\n",
              "mean_root_support            0.699909\n",
              "mean_absolute_root_support   0.699909\n",
              "global_balance               0.253621\n",
              "mean_reason_strength         0.868988"
            ],
            "text/html": [
              "\n",
              "  <div id=\"df-21c416c4-9f57-4bfd-8377-d4043bd54d6c\" class=\"colab-df-container\">\n",
              "    <div>\n",
              "<style scoped>\n",
              "    .dataframe tbody tr th:only-of-type {\n",
              "        vertical-align: middle;\n",
              "    }\n",
              "\n",
              "    .dataframe tbody tr th {\n",
              "        vertical-align: top;\n",
              "    }\n",
              "\n",
              "    .dataframe thead th {\n",
              "        text-align: right;\n",
              "    }\n",
              "</style>\n",
              "<table border=\"1\" class=\"dataframe\">\n",
              "  <thead>\n",
              "    <tr style=\"text-align: right;\">\n",
              "      <th></th>\n",
              "      <th>value</th>\n",
              "    </tr>\n",
              "  </thead>\n",
              "  <tbody>\n",
              "    <tr>\n",
              "      <th>argmap_size</th>\n",
              "      <td>15.000000</td>\n",
              "    </tr>\n",
              "    <tr>\n",
              "      <th>n_root_nodes</th>\n",
              "      <td>2.000000</td>\n",
              "    </tr>\n",
              "    <tr>\n",
              "      <th>argmap_avg_katz_centrality</th>\n",
              "      <td>0.256013</td>\n",
              "    </tr>\n",
              "    <tr>\n",
              "      <th>argmap_attack_ratio</th>\n",
              "      <td>0.153846</td>\n",
              "    </tr>\n",
              "    <tr>\n",
              "      <th>mean_root_support</th>\n",
              "      <td>0.699909</td>\n",
              "    </tr>\n",
              "    <tr>\n",
              "      <th>mean_absolute_root_support</th>\n",
              "      <td>0.699909</td>\n",
              "    </tr>\n",
              "    <tr>\n",
              "      <th>global_balance</th>\n",
              "      <td>0.253621</td>\n",
              "    </tr>\n",
              "    <tr>\n",
              "      <th>mean_reason_strength</th>\n",
              "      <td>0.868988</td>\n",
              "    </tr>\n",
              "  </tbody>\n",
              "</table>\n",
              "</div>\n",
              "    <div class=\"colab-df-buttons\">\n",
              "\n",
              "  <div class=\"colab-df-container\">\n",
              "    <button class=\"colab-df-convert\" onclick=\"convertToInteractive('df-21c416c4-9f57-4bfd-8377-d4043bd54d6c')\"\n",
              "            title=\"Convert this dataframe to an interactive table.\"\n",
              "            style=\"display:none;\">\n",
              "\n",
              "  <svg xmlns=\"http://www.w3.org/2000/svg\" height=\"24px\" viewBox=\"0 -960 960 960\">\n",
              "    <path d=\"M120-120v-720h720v720H120Zm60-500h600v-160H180v160Zm220 220h160v-160H400v160Zm0 220h160v-160H400v160ZM180-400h160v-160H180v160Zm440 0h160v-160H620v160ZM180-180h160v-160H180v160Zm440 0h160v-160H620v160Z\"/>\n",
              "  </svg>\n",
              "    </button>\n",
              "\n",
              "  <style>\n",
              "    .colab-df-container {\n",
              "      display:flex;\n",
              "      gap: 12px;\n",
              "    }\n",
              "\n",
              "    .colab-df-convert {\n",
              "      background-color: #E8F0FE;\n",
              "      border: none;\n",
              "      border-radius: 50%;\n",
              "      cursor: pointer;\n",
              "      display: none;\n",
              "      fill: #1967D2;\n",
              "      height: 32px;\n",
              "      padding: 0 0 0 0;\n",
              "      width: 32px;\n",
              "    }\n",
              "\n",
              "    .colab-df-convert:hover {\n",
              "      background-color: #E2EBFA;\n",
              "      box-shadow: 0px 1px 2px rgba(60, 64, 67, 0.3), 0px 1px 3px 1px rgba(60, 64, 67, 0.15);\n",
              "      fill: #174EA6;\n",
              "    }\n",
              "\n",
              "    .colab-df-buttons div {\n",
              "      margin-bottom: 4px;\n",
              "    }\n",
              "\n",
              "    [theme=dark] .colab-df-convert {\n",
              "      background-color: #3B4455;\n",
              "      fill: #D2E3FC;\n",
              "    }\n",
              "\n",
              "    [theme=dark] .colab-df-convert:hover {\n",
              "      background-color: #434B5C;\n",
              "      box-shadow: 0px 1px 3px 1px rgba(0, 0, 0, 0.15);\n",
              "      filter: drop-shadow(0px 1px 2px rgba(0, 0, 0, 0.3));\n",
              "      fill: #FFFFFF;\n",
              "    }\n",
              "  </style>\n",
              "\n",
              "    <script>\n",
              "      const buttonEl =\n",
              "        document.querySelector('#df-21c416c4-9f57-4bfd-8377-d4043bd54d6c button.colab-df-convert');\n",
              "      buttonEl.style.display =\n",
              "        google.colab.kernel.accessAllowed ? 'block' : 'none';\n",
              "\n",
              "      async function convertToInteractive(key) {\n",
              "        const element = document.querySelector('#df-21c416c4-9f57-4bfd-8377-d4043bd54d6c');\n",
              "        const dataTable =\n",
              "          await google.colab.kernel.invokeFunction('convertToInteractive',\n",
              "                                                    [key], {});\n",
              "        if (!dataTable) return;\n",
              "\n",
              "        const docLinkHtml = 'Like what you see? Visit the ' +\n",
              "          '<a target=\"_blank\" href=https://colab.research.google.com/notebooks/data_table.ipynb>data table notebook</a>'\n",
              "          + ' to learn more about interactive tables.';\n",
              "        element.innerHTML = '';\n",
              "        dataTable['output_type'] = 'display_data';\n",
              "        await google.colab.output.renderOutput(dataTable, element);\n",
              "        const docLink = document.createElement('div');\n",
              "        docLink.innerHTML = docLinkHtml;\n",
              "        element.appendChild(docLink);\n",
              "      }\n",
              "    </script>\n",
              "  </div>\n",
              "\n",
              "\n",
              "<div id=\"df-60b55320-86dc-4cea-9c52-955c47aea92e\">\n",
              "  <button class=\"colab-df-quickchart\" onclick=\"quickchart('df-60b55320-86dc-4cea-9c52-955c47aea92e')\"\n",
              "            title=\"Suggest charts\"\n",
              "            style=\"display:none;\">\n",
              "\n",
              "<svg xmlns=\"http://www.w3.org/2000/svg\" height=\"24px\"viewBox=\"0 0 24 24\"\n",
              "     width=\"24px\">\n",
              "    <g>\n",
              "        <path d=\"M19 3H5c-1.1 0-2 .9-2 2v14c0 1.1.9 2 2 2h14c1.1 0 2-.9 2-2V5c0-1.1-.9-2-2-2zM9 17H7v-7h2v7zm4 0h-2V7h2v10zm4 0h-2v-4h2v4z\"/>\n",
              "    </g>\n",
              "</svg>\n",
              "  </button>\n",
              "\n",
              "<style>\n",
              "  .colab-df-quickchart {\n",
              "      --bg-color: #E8F0FE;\n",
              "      --fill-color: #1967D2;\n",
              "      --hover-bg-color: #E2EBFA;\n",
              "      --hover-fill-color: #174EA6;\n",
              "      --disabled-fill-color: #AAA;\n",
              "      --disabled-bg-color: #DDD;\n",
              "  }\n",
              "\n",
              "  [theme=dark] .colab-df-quickchart {\n",
              "      --bg-color: #3B4455;\n",
              "      --fill-color: #D2E3FC;\n",
              "      --hover-bg-color: #434B5C;\n",
              "      --hover-fill-color: #FFFFFF;\n",
              "      --disabled-bg-color: #3B4455;\n",
              "      --disabled-fill-color: #666;\n",
              "  }\n",
              "\n",
              "  .colab-df-quickchart {\n",
              "    background-color: var(--bg-color);\n",
              "    border: none;\n",
              "    border-radius: 50%;\n",
              "    cursor: pointer;\n",
              "    display: none;\n",
              "    fill: var(--fill-color);\n",
              "    height: 32px;\n",
              "    padding: 0;\n",
              "    width: 32px;\n",
              "  }\n",
              "\n",
              "  .colab-df-quickchart:hover {\n",
              "    background-color: var(--hover-bg-color);\n",
              "    box-shadow: 0 1px 2px rgba(60, 64, 67, 0.3), 0 1px 3px 1px rgba(60, 64, 67, 0.15);\n",
              "    fill: var(--button-hover-fill-color);\n",
              "  }\n",
              "\n",
              "  .colab-df-quickchart-complete:disabled,\n",
              "  .colab-df-quickchart-complete:disabled:hover {\n",
              "    background-color: var(--disabled-bg-color);\n",
              "    fill: var(--disabled-fill-color);\n",
              "    box-shadow: none;\n",
              "  }\n",
              "\n",
              "  .colab-df-spinner {\n",
              "    border: 2px solid var(--fill-color);\n",
              "    border-color: transparent;\n",
              "    border-bottom-color: var(--fill-color);\n",
              "    animation:\n",
              "      spin 1s steps(1) infinite;\n",
              "  }\n",
              "\n",
              "  @keyframes spin {\n",
              "    0% {\n",
              "      border-color: transparent;\n",
              "      border-bottom-color: var(--fill-color);\n",
              "      border-left-color: var(--fill-color);\n",
              "    }\n",
              "    20% {\n",
              "      border-color: transparent;\n",
              "      border-left-color: var(--fill-color);\n",
              "      border-top-color: var(--fill-color);\n",
              "    }\n",
              "    30% {\n",
              "      border-color: transparent;\n",
              "      border-left-color: var(--fill-color);\n",
              "      border-top-color: var(--fill-color);\n",
              "      border-right-color: var(--fill-color);\n",
              "    }\n",
              "    40% {\n",
              "      border-color: transparent;\n",
              "      border-right-color: var(--fill-color);\n",
              "      border-top-color: var(--fill-color);\n",
              "    }\n",
              "    60% {\n",
              "      border-color: transparent;\n",
              "      border-right-color: var(--fill-color);\n",
              "    }\n",
              "    80% {\n",
              "      border-color: transparent;\n",
              "      border-right-color: var(--fill-color);\n",
              "      border-bottom-color: var(--fill-color);\n",
              "    }\n",
              "    90% {\n",
              "      border-color: transparent;\n",
              "      border-bottom-color: var(--fill-color);\n",
              "    }\n",
              "  }\n",
              "</style>\n",
              "\n",
              "  <script>\n",
              "    async function quickchart(key) {\n",
              "      const quickchartButtonEl =\n",
              "        document.querySelector('#' + key + ' button');\n",
              "      quickchartButtonEl.disabled = true;  // To prevent multiple clicks.\n",
              "      quickchartButtonEl.classList.add('colab-df-spinner');\n",
              "      try {\n",
              "        const charts = await google.colab.kernel.invokeFunction(\n",
              "            'suggestCharts', [key], {});\n",
              "      } catch (error) {\n",
              "        console.error('Error during call to suggestCharts:', error);\n",
              "      }\n",
              "      quickchartButtonEl.classList.remove('colab-df-spinner');\n",
              "      quickchartButtonEl.classList.add('colab-df-quickchart-complete');\n",
              "    }\n",
              "    (() => {\n",
              "      let quickchartButtonEl =\n",
              "        document.querySelector('#df-60b55320-86dc-4cea-9c52-955c47aea92e button');\n",
              "      quickchartButtonEl.style.display =\n",
              "        google.colab.kernel.accessAllowed ? 'block' : 'none';\n",
              "    })();\n",
              "  </script>\n",
              "</div>\n",
              "    </div>\n",
              "  </div>\n"
            ]
          },
          "metadata": {},
          "execution_count": 20
        }
      ]
    },
    {
      "cell_type": "markdown",
      "source": [
        "### Artifacts"
      ],
      "metadata": {
        "id": "xcE02utN5MvQ"
      }
    },
    {
      "cell_type": "code",
      "source": [
        "from pprint import pformat\n",
        "\n",
        "import networkx as nx\n",
        "\n",
        "from IPython.display import SVG, HTML\n",
        "\n",
        "from logikon.schemas.pros_cons import ProsConsList\n",
        "from logikon.schemas.argument_mapping import FuzzyArgMap\n",
        "\n",
        "def render_artifact(artifact_id, data):\n",
        "  \"\"\"helper function for rendering artifacts\"\"\"\n",
        "\n",
        "  if \"nx\" in artifact_id:\n",
        "    digraph = nx.node_link_graph(data)\n",
        "    return Markdown(str(digraph))\n",
        "\n",
        "  if \"svg\" in artifact_id:\n",
        "    style = \"<style>svg{width:100% !important;height:100% !important;</style>\"\n",
        "    return HTML(style), SVG(data=data)\n",
        "\n",
        "  if \"html\" in artifact_id:\n",
        "    return HTML(data)\n",
        "\n",
        "  if artifact_id == \"proscons\":\n",
        "    proscons = ProsConsList(**data)\n",
        "    return Markdown(f\"`{pformat(proscons)}`\")\n",
        "\n",
        "  if artifact_id == \"relevance_network\":\n",
        "    relnet = FuzzyArgMap(**data)\n",
        "    return Markdown(f\"`{pformat(relnet)[:800]} ...`\")\n",
        "\n",
        "  text = str(data)\n",
        "  text = text[:200] + \" ...\" if len(text)>200 else text\n",
        "  return Markdown(f\"`{text}`\")"
      ],
      "metadata": {
        "id": "saeFhPUzIN_k"
      },
      "execution_count": 98,
      "outputs": []
    },
    {
      "cell_type": "code",
      "source": [
        "from IPython.display import display\n",
        "\n",
        "for artifact_id in config_dict.get(\"artifacts\",[]):\n",
        "  display(Markdown(f\"## {artifact_id}\"))\n",
        "  data = df_scores.iloc[0].get(artifact_id)\n",
        "  r = render_artifact(artifact_id, data)\n",
        "  if isinstance(r, tuple):\n",
        "    display(*r)\n",
        "  else:\n",
        "    display(r)\n",
        "\n"
      ],
      "metadata": {
        "colab": {
          "base_uri": "https://localhost:8080/",
          "height": 1000
        },
        "id": "tFo-h4Ba6zfO",
        "outputId": "566ec28f-1ca3-4799-a584-4b296756ab77"
      },
      "execution_count": 99,
      "outputs": [
        {
          "output_type": "display_data",
          "data": {
            "text/plain": [
              "<IPython.core.display.Markdown object>"
            ],
            "text/markdown": "## issue"
          },
          "metadata": {}
        },
        {
          "output_type": "display_data",
          "data": {
            "text/plain": [
              "<IPython.core.display.Markdown object>"
            ],
            "text/markdown": "`Should one use Vim or Emacs for text editing and development?`"
          },
          "metadata": {}
        },
        {
          "output_type": "display_data",
          "data": {
            "text/plain": [
              "<IPython.core.display.Markdown object>"
            ],
            "text/markdown": "## proscons"
          },
          "metadata": {}
        },
        {
          "output_type": "display_data",
          "data": {
            "text/plain": [
              "<IPython.core.display.Markdown object>"
            ],
            "text/markdown": "`ProsConsList(roots=[RootClaim(text='Use Vim for text editing and development.', label='Use Vim', pros=[Claim(text='Vim uses modal editing for different tasks, minimizing keyboard shortcuts and promoting efficiency.', label='Modal Editing'), Claim(text='Vim is lightweight and can run efficiently on older hardware and over SSH connections.', label='Lightweight'), Claim(text='Vim is highly efficient for text editing and code navigation once mastered.', label='Highly Efficient for Editing')], cons=[]), RootClaim(text='Use Emacs for text editing and development.', label='Use Emacs', pros=[Claim(text='Emacs is extensible and can be turned into a full-fledged IDE or customized for any purpose.', label='Extensible'), Claim(text='Emacs may have a less steep learning curve compared to Vim due to traditional keybindings and graphical menus.', label='Moderate Learning Curve')], cons=[Claim(text='Emacs may be more resource-intensive compared to Vim and not the best choice for resource-constrained environments.', label='Resource Intensive')])], options=['Use Vim', 'Use Emacs', 'Use other text editors', \"Don't use any text editor (?)\"])`"
          },
          "metadata": {}
        },
        {
          "output_type": "display_data",
          "data": {
            "text/plain": [
              "<IPython.core.display.Markdown object>"
            ],
            "text/markdown": "## relevance_network"
          },
          "metadata": {}
        },
        {
          "output_type": "display_data",
          "data": {
            "text/plain": [
              "<IPython.core.display.Markdown object>"
            ],
            "text/markdown": "`FuzzyArgMap(nodelist=[ArgMapNode(id='77ed2989-29c4-4172-a4cd-504695b032d9', text='Use Vim for text editing and development.', label='Use Vim', annotations=[], node_type='central_claim'), ArgMapNode(id='cb2ef89b-421b-43bf-9c91-cacddd63d308', text='Vim is highly efficient for text editing and code navigation once mastered.', label='Highly Efficient for Editing', annotations=[], node_type='reason'), ArgMapNode(id='274578a7-75f2-4591-9f5b-7f07a8063712', text='Vim uses modal editing for different tasks.', label='Modal Editing', annotations=[], node_type='reason'), ArgMapNode(id='3996db4b-8850-47e2-90b2-abfa4626b9bf', text='Vim minimizes keyboard shortcuts.', label='Minimizing keyboard shortcuts', annotations=[], node_type='reason'), ArgMapNode(id='aa27986b-8346-4575-8a99-7f3c2ce7d6b6', text='Vi ...`"
          },
          "metadata": {}
        },
        {
          "output_type": "display_data",
          "data": {
            "text/plain": [
              "<IPython.core.display.Markdown object>"
            ],
            "text/markdown": "## relevance_network_nx"
          },
          "metadata": {}
        },
        {
          "output_type": "display_data",
          "data": {
            "text/plain": [
              "<IPython.core.display.Markdown object>"
            ],
            "text/markdown": "DiGraph with 15 nodes and 169 edges"
          },
          "metadata": {}
        },
        {
          "output_type": "display_data",
          "data": {
            "text/plain": [
              "<IPython.core.display.Markdown object>"
            ],
            "text/markdown": "## fuzzy_argmap_nx"
          },
          "metadata": {}
        },
        {
          "output_type": "display_data",
          "data": {
            "text/plain": [
              "<IPython.core.display.Markdown object>"
            ],
            "text/markdown": "DiGraph with 15 nodes and 13 edges"
          },
          "metadata": {}
        },
        {
          "output_type": "display_data",
          "data": {
            "text/plain": [
              "<IPython.core.display.Markdown object>"
            ],
            "text/markdown": "## svg_argmap"
          },
          "metadata": {}
        },
        {
          "output_type": "display_data",
          "data": {
            "text/plain": [
              "<IPython.core.display.HTML object>"
            ],
            "text/html": [
              "<style>svg{width:100% !important;height:100% !important;</style>"
            ]
          },
          "metadata": {}
        },
        {
          "output_type": "display_data",
          "data": {
            "text/plain": [
              "<IPython.core.display.SVG object>"
            ],
            "image/svg+xml": "<svg xmlns=\"http://www.w3.org/2000/svg\" xmlns:xlink=\"http://www.w3.org/1999/xlink\" width=\"1407pt\" height=\"444pt\" viewBox=\"0.00 0.00 1406.50 444.00\">\n<g id=\"graph0\" class=\"graph\" transform=\"scale(1 1) rotate(0) translate(4 440)\">\n<title>logikon informal argument map</title>\n<polygon fill=\"white\" stroke=\"transparent\" points=\"-4,4 -4,-440 1402.5,-440 1402.5,4 -4,4\"/>\n<!-- 77ed2989&#45;29c4&#45;4172&#45;a4cd&#45;504695b032d9 -->\n<g id=\"node1\" class=\"node\">\n<title>77ed2989-29c4-4172-a4cd-504695b032d9</title>\n<g id=\"a_node1\"><a xlink:title=\"Use Vim for text editing and&lt;BR/&gt;development.\">\n<path fill=\"white\" stroke=\"transparent\" d=\"M369.5,-373C369.5,-373 503.5,-373 503.5,-373 509.5,-373 515.5,-379 515.5,-385 515.5,-385 515.5,-418 515.5,-418 515.5,-424 509.5,-430 503.5,-430 503.5,-430 369.5,-430 369.5,-430 363.5,-430 357.5,-424 357.5,-418 357.5,-418 357.5,-385 357.5,-385 357.5,-379 363.5,-373 369.5,-373\"/>\n<text text-anchor=\"start\" x=\"413\" y=\"-414.9\" font-family=\"Arial, Helvetica, sans-serif\" font-weight=\"bold\" font-size=\"12.00\">Use Vim</text>\n<text text-anchor=\"start\" x=\"363.5\" y=\"-394.9\" font-family=\"Arial, Helvetica, sans-serif\" font-size=\"12.00\">Use Vim for text editing and</text>\n<text text-anchor=\"start\" x=\"400\" y=\"-381.9\" font-family=\"Arial, Helvetica, sans-serif\" font-size=\"12.00\">development.</text>\n<path fill=\"none\" stroke=\"lightblue\" stroke-width=\"4\" d=\"M369.5,-373C369.5,-373 503.5,-373 503.5,-373 509.5,-373 515.5,-379 515.5,-385 515.5,-385 515.5,-418 515.5,-418 515.5,-424 509.5,-430 503.5,-430 503.5,-430 369.5,-430 369.5,-430 363.5,-430 357.5,-424 357.5,-418 357.5,-418 357.5,-385 357.5,-385 357.5,-379 363.5,-373 369.5,-373\"/>\n</a>\n</g>\n</g>\n<!-- c0cd1543&#45;6bb4&#45;46b4&#45;83f4&#45;5c2c2de8c55f -->\n<g id=\"node2\" class=\"node\">\n<title>c0cd1543-6bb4-46b4-83f4-5c2c2de8c55f</title>\n<g id=\"a_node2\"><a xlink:title=\"Use Emacs for text editing and&lt;BR/&gt;development.\">\n<path fill=\"white\" stroke=\"transparent\" d=\"M1028,-373C1028,-373 1179,-373 1179,-373 1185,-373 1191,-379 1191,-385 1191,-385 1191,-418 1191,-418 1191,-424 1185,-430 1179,-430 1179,-430 1028,-430 1028,-430 1022,-430 1016,-424 1016,-418 1016,-418 1016,-385 1016,-385 1016,-379 1022,-373 1028,-373\"/>\n<text text-anchor=\"start\" x=\"1071.5\" y=\"-414.9\" font-family=\"Arial, Helvetica, sans-serif\" font-weight=\"bold\" font-size=\"12.00\">Use Emacs</text>\n<text text-anchor=\"start\" x=\"1022.5\" y=\"-394.9\" font-family=\"Arial, Helvetica, sans-serif\" font-size=\"12.00\">Use Emacs for text editing and</text>\n<text text-anchor=\"start\" x=\"1067.5\" y=\"-381.9\" font-family=\"Arial, Helvetica, sans-serif\" font-size=\"12.00\">development.</text>\n<path fill=\"none\" stroke=\"lightblue\" stroke-width=\"4\" d=\"M1028,-373C1028,-373 1179,-373 1179,-373 1185,-373 1191,-379 1191,-385 1191,-385 1191,-418 1191,-418 1191,-424 1185,-430 1179,-430 1179,-430 1028,-430 1028,-430 1022,-430 1016,-424 1016,-418 1016,-418 1016,-385 1016,-385 1016,-379 1022,-373 1028,-373\"/>\n</a>\n</g>\n</g>\n<!-- cb2ef89b&#45;421b&#45;43bf&#45;9c91&#45;cacddd63d308 -->\n<g id=\"node3\" class=\"node\">\n<title>cb2ef89b-421b-43bf-9c91-cacddd63d308</title>\n<g id=\"a_node3\"><a xlink:title=\"Vim is highly efficient for&lt;BR/&gt;text editing and code&lt;BR/&gt;navigation once mastered.\">\n<path fill=\"lightblue\" stroke=\"transparent\" d=\"M372,-243C372,-243 501,-243 501,-243 507,-243 513,-249 513,-255 513,-255 513,-312 513,-312 513,-318 507,-324 501,-324 501,-324 372,-324 372,-324 366,-324 360,-318 360,-312 360,-312 360,-255 360,-255 360,-249 366,-243 372,-243\"/>\n<text text-anchor=\"start\" x=\"384\" y=\"-308.9\" font-family=\"Arial, Helvetica, sans-serif\" font-weight=\"bold\" font-size=\"12.00\">Highly Efficient for</text>\n<text text-anchor=\"start\" x=\"416.5\" y=\"-296.9\" font-family=\"Arial, Helvetica, sans-serif\" font-weight=\"bold\" font-size=\"12.00\">Editing</text>\n<text text-anchor=\"start\" x=\"372.5\" y=\"-277.9\" font-family=\"Arial, Helvetica, sans-serif\" font-size=\"12.00\">Vim is highly efficient for</text>\n<text text-anchor=\"start\" x=\"381.5\" y=\"-264.9\" font-family=\"Arial, Helvetica, sans-serif\" font-size=\"12.00\">text editing and code</text>\n<text text-anchor=\"start\" x=\"366.5\" y=\"-251.9\" font-family=\"Arial, Helvetica, sans-serif\" font-size=\"12.00\">navigation once mastered.</text>\n<path fill=\"none\" stroke=\"lightblue\" stroke-width=\"4\" d=\"M372,-243C372,-243 501,-243 501,-243 507,-243 513,-249 513,-255 513,-255 513,-312 513,-312 513,-318 507,-324 501,-324 501,-324 372,-324 372,-324 366,-324 360,-318 360,-312 360,-312 360,-255 360,-255 360,-249 366,-243 372,-243\"/>\n</a>\n</g>\n</g>\n<!-- cb2ef89b&#45;421b&#45;43bf&#45;9c91&#45;cacddd63d308&#45;&gt;77ed2989&#45;29c4&#45;4172&#45;a4cd&#45;504695b032d9 -->\n<g id=\"edge1\" class=\"edge\">\n<title>cb2ef89b-421b-43bf-9c91-cacddd63d308-&gt;77ed2989-29c4-4172-a4cd-504695b032d9</title>\n<path fill=\"none\" stroke=\"#006400\" stroke-width=\"2\" d=\"M436.5,-330.01C436.5,-338.86 436.5,-348.12 436.5,-356.91\"/>\n<polygon fill=\"#006400\" stroke=\"#006400\" stroke-width=\"2\" points=\"433,-356.95 436.5,-366.95 440,-356.95 433,-356.95\"/>\n</g>\n<!-- 274578a7&#45;75f2&#45;4591&#45;9f5b&#45;7f07a8063712 -->\n<g id=\"node4\" class=\"node\">\n<title>274578a7-75f2-4591-9f5b-7f07a8063712</title>\n<g id=\"a_node4\"><a xlink:title=\"Vim uses modal editing for&lt;BR/&gt;different tasks.\">\n<path fill=\"lightblue\" stroke=\"transparent\" d=\"M22,-12.5C22,-12.5 151,-12.5 151,-12.5 157,-12.5 163,-18.5 163,-24.5 163,-24.5 163,-57.5 163,-57.5 163,-63.5 157,-69.5 151,-69.5 151,-69.5 22,-69.5 22,-69.5 16,-69.5 10,-63.5 10,-57.5 10,-57.5 10,-24.5 10,-24.5 10,-18.5 16,-12.5 22,-12.5\"/>\n<text text-anchor=\"start\" x=\"47.5\" y=\"-54.4\" font-family=\"Arial, Helvetica, sans-serif\" font-weight=\"bold\" font-size=\"12.00\">Modal Editing</text>\n<text text-anchor=\"start\" x=\"16.5\" y=\"-34.4\" font-family=\"Arial, Helvetica, sans-serif\" font-size=\"12.00\">Vim uses modal editing for</text>\n<text text-anchor=\"start\" x=\"48.5\" y=\"-21.4\" font-family=\"Arial, Helvetica, sans-serif\" font-size=\"12.00\">different tasks.</text>\n<path fill=\"none\" stroke=\"lightblue\" stroke-width=\"4\" d=\"M22,-12.5C22,-12.5 151,-12.5 151,-12.5 157,-12.5 163,-18.5 163,-24.5 163,-24.5 163,-57.5 163,-57.5 163,-63.5 157,-69.5 151,-69.5 151,-69.5 22,-69.5 22,-69.5 16,-69.5 10,-63.5 10,-57.5 10,-57.5 10,-24.5 10,-24.5 10,-18.5 16,-12.5 22,-12.5\"/>\n</a>\n</g>\n</g>\n<!-- aa27986b&#45;8346&#45;4575&#45;8a99&#45;7f3c2ce7d6b6 -->\n<g id=\"node6\" class=\"node\">\n<title>aa27986b-8346-4575-8a99-7f3c2ce7d6b6</title>\n<g id=\"a_node6\"><a xlink:title=\"Vim promotes efficiency.\">\n<path fill=\"lightblue\" stroke=\"transparent\" d=\"M378,-137C378,-137 495,-137 495,-137 501,-137 507,-143 507,-149 507,-149 507,-169 507,-169 507,-175 501,-181 495,-181 495,-181 378,-181 378,-181 372,-181 366,-175 366,-169 366,-169 366,-149 366,-149 366,-143 372,-137 378,-137\"/>\n<text text-anchor=\"start\" x=\"378\" y=\"-166.4\" font-family=\"Arial, Helvetica, sans-serif\" font-weight=\"bold\" font-size=\"12.00\">Promoting efficiency</text>\n<text text-anchor=\"start\" x=\"372.5\" y=\"-146.4\" font-family=\"Arial, Helvetica, sans-serif\" font-size=\"12.00\">Vim promotes efficiency.</text>\n<path fill=\"none\" stroke=\"lightblue\" stroke-width=\"4\" d=\"M378,-137C378,-137 495,-137 495,-137 501,-137 507,-143 507,-149 507,-149 507,-169 507,-169 507,-175 501,-181 495,-181 495,-181 378,-181 378,-181 372,-181 366,-175 366,-169 366,-169 366,-149 366,-149 366,-143 372,-137 378,-137\"/>\n</a>\n</g>\n</g>\n<!-- 274578a7&#45;75f2&#45;4591&#45;9f5b&#45;7f07a8063712&#45;&gt;aa27986b&#45;8346&#45;4575&#45;8a99&#45;7f3c2ce7d6b6 -->\n<g id=\"edge2\" class=\"edge\">\n<title>274578a7-75f2-4591-9f5b-7f07a8063712-&gt;aa27986b-8346-4575-8a99-7f3c2ce7d6b6</title>\n<path fill=\"none\" stroke=\"#006400\" stroke-width=\"2\" d=\"M165.09,-75.52C170.95,-77.78 176.8,-79.97 182.5,-82 236.04,-101.1 297.03,-119.46 345.82,-133.35\"/>\n<polygon fill=\"#006400\" stroke=\"#006400\" stroke-width=\"2\" points=\"345.15,-136.8 355.73,-136.15 347.06,-130.06 345.15,-136.8\"/>\n</g>\n<!-- 3996db4b&#45;8850&#45;47e2&#45;90b2&#45;abfa4626b9bf -->\n<g id=\"node5\" class=\"node\">\n<title>3996db4b-8850-47e2-90b2-abfa4626b9bf</title>\n<g id=\"a_node5\"><a xlink:title=\"Vim minimizes keyboard&lt;BR/&gt;shortcuts.\">\n<path fill=\"lightblue\" stroke=\"transparent\" d=\"M213.5,-7C213.5,-7 331.5,-7 331.5,-7 337.5,-7 343.5,-13 343.5,-19 343.5,-19 343.5,-63 343.5,-63 343.5,-69 337.5,-75 331.5,-75 331.5,-75 213.5,-75 213.5,-75 207.5,-75 201.5,-69 201.5,-63 201.5,-63 201.5,-19 201.5,-19 201.5,-13 207.5,-7 213.5,-7\"/>\n<text text-anchor=\"start\" x=\"213.5\" y=\"-60.4\" font-family=\"Arial, Helvetica, sans-serif\" font-weight=\"bold\" font-size=\"12.00\">Minimizing keyboard</text>\n<text text-anchor=\"start\" x=\"245\" y=\"-48.4\" font-family=\"Arial, Helvetica, sans-serif\" font-weight=\"bold\" font-size=\"12.00\">shortcuts</text>\n<text text-anchor=\"start\" x=\"207.5\" y=\"-29.4\" font-family=\"Arial, Helvetica, sans-serif\" font-size=\"12.00\">Vim minimizes keyboard</text>\n<text text-anchor=\"start\" x=\"246.5\" y=\"-16.4\" font-family=\"Arial, Helvetica, sans-serif\" font-size=\"12.00\">shortcuts.</text>\n<path fill=\"none\" stroke=\"lightblue\" stroke-width=\"4\" d=\"M213.5,-7C213.5,-7 331.5,-7 331.5,-7 337.5,-7 343.5,-13 343.5,-19 343.5,-19 343.5,-63 343.5,-63 343.5,-69 337.5,-75 331.5,-75 331.5,-75 213.5,-75 213.5,-75 207.5,-75 201.5,-69 201.5,-63 201.5,-63 201.5,-19 201.5,-19 201.5,-13 207.5,-7 213.5,-7\"/>\n</a>\n</g>\n</g>\n<!-- 3996db4b&#45;8850&#45;47e2&#45;90b2&#45;abfa4626b9bf&#45;&gt;aa27986b&#45;8346&#45;4575&#45;8a99&#45;7f3c2ce7d6b6 -->\n<g id=\"edge3\" class=\"edge\">\n<title>3996db4b-8850-47e2-90b2-abfa4626b9bf-&gt;aa27986b-8346-4575-8a99-7f3c2ce7d6b6</title>\n<path fill=\"none\" stroke=\"#779477\" stroke-width=\"2\" d=\"M328.02,-81.27C348.1,-95.47 370.54,-111.35 389.79,-124.96\"/>\n<polygon fill=\"#779477\" stroke=\"#779477\" stroke-width=\"2\" points=\"387.92,-127.92 398.1,-130.84 391.96,-122.21 387.92,-127.92\"/>\n</g>\n<!-- aa27986b&#45;8346&#45;4575&#45;8a99&#45;7f3c2ce7d6b6&#45;&gt;cb2ef89b&#45;421b&#45;43bf&#45;9c91&#45;cacddd63d308 -->\n<g id=\"edge4\" class=\"edge\">\n<title>aa27986b-8346-4575-8a99-7f3c2ce7d6b6-&gt;cb2ef89b-421b-43bf-9c91-cacddd63d308</title>\n<path fill=\"none\" stroke=\"#006400\" stroke-width=\"2\" d=\"M436.5,-187.19C436.5,-198.76 436.5,-212.71 436.5,-226.32\"/>\n<polygon fill=\"#006400\" stroke=\"#006400\" stroke-width=\"2\" points=\"433,-226.62 436.5,-236.62 440,-226.62 433,-226.62\"/>\n</g>\n<!-- 5f96221c&#45;bcd1&#45;4563&#45;9deb&#45;03744747a992 -->\n<g id=\"node7\" class=\"node\">\n<title>5f96221c-bcd1-4563-9deb-03744747a992</title>\n<g id=\"a_node7\"><a xlink:title=\"Vim is lightweight.\">\n<path fill=\"lightblue\" stroke=\"transparent\" d=\"M394,-19C394,-19 479,-19 479,-19 485,-19 491,-25 491,-31 491,-31 491,-51 491,-51 491,-57 485,-63 479,-63 479,-63 394,-63 394,-63 388,-63 382,-57 382,-51 382,-51 382,-31 382,-31 382,-25 388,-19 394,-19\"/>\n<text text-anchor=\"start\" x=\"403.5\" y=\"-48.4\" font-family=\"Arial, Helvetica, sans-serif\" font-weight=\"bold\" font-size=\"12.00\">Lightweight</text>\n<text text-anchor=\"start\" x=\"388.5\" y=\"-28.4\" font-family=\"Arial, Helvetica, sans-serif\" font-size=\"12.00\">Vim is lightweight.</text>\n<path fill=\"none\" stroke=\"lightblue\" stroke-width=\"4\" d=\"M394,-19C394,-19 479,-19 479,-19 485,-19 491,-25 491,-31 491,-31 491,-51 491,-51 491,-57 485,-63 479,-63 479,-63 394,-63 394,-63 388,-63 382,-57 382,-51 382,-51 382,-31 382,-31 382,-25 388,-19 394,-19\"/>\n</a>\n</g>\n</g>\n<!-- 5f96221c&#45;bcd1&#45;4563&#45;9deb&#45;03744747a992&#45;&gt;aa27986b&#45;8346&#45;4575&#45;8a99&#45;7f3c2ce7d6b6 -->\n<g id=\"edge5\" class=\"edge\">\n<title>5f96221c-bcd1-4563-9deb-03744747a992-&gt;aa27986b-8346-4575-8a99-7f3c2ce7d6b6</title>\n<path fill=\"none\" stroke=\"#006400\" stroke-width=\"2\" d=\"M436.5,-69.2C436.5,-84.61 436.5,-104.12 436.5,-120.92\"/>\n<polygon fill=\"#006400\" stroke=\"#006400\" stroke-width=\"2\" points=\"433,-120.97 436.5,-130.97 440,-120.97 433,-120.97\"/>\n</g>\n<!-- 2da008dc&#45;ad4c&#45;45e5&#45;8a18&#45;9edb14ed46a9 -->\n<g id=\"node8\" class=\"node\">\n<title>2da008dc-ad4c-45e5-8a18-9edb14ed46a9</title>\n<g id=\"a_node8\"><a xlink:title=\"Vim can run efficiently on&lt;BR/&gt;older hardware.\">\n<path fill=\"lightblue\" stroke=\"transparent\" d=\"M541,-7C541,-7 662,-7 662,-7 668,-7 674,-13 674,-19 674,-19 674,-63 674,-63 674,-69 668,-75 662,-75 662,-75 541,-75 541,-75 535,-75 529,-69 529,-63 529,-63 529,-19 529,-19 529,-13 535,-7 541,-7\"/>\n<text text-anchor=\"start\" x=\"553.5\" y=\"-60.4\" font-family=\"Arial, Helvetica, sans-serif\" font-weight=\"bold\" font-size=\"12.00\">Efficient on older</text>\n<text text-anchor=\"start\" x=\"575\" y=\"-48.4\" font-family=\"Arial, Helvetica, sans-serif\" font-weight=\"bold\" font-size=\"12.00\">hardware</text>\n<text text-anchor=\"start\" x=\"535.5\" y=\"-29.4\" font-family=\"Arial, Helvetica, sans-serif\" font-size=\"12.00\">Vim can run efficiently on</text>\n<text text-anchor=\"start\" x=\"560\" y=\"-16.4\" font-family=\"Arial, Helvetica, sans-serif\" font-size=\"12.00\">older hardware.</text>\n<path fill=\"none\" stroke=\"lightblue\" stroke-width=\"4\" d=\"M541,-7C541,-7 662,-7 662,-7 668,-7 674,-13 674,-19 674,-19 674,-63 674,-63 674,-69 668,-75 662,-75 662,-75 541,-75 541,-75 535,-75 529,-69 529,-63 529,-63 529,-19 529,-19 529,-13 535,-7 541,-7\"/>\n</a>\n</g>\n</g>\n<!-- 2da008dc&#45;ad4c&#45;45e5&#45;8a18&#45;9edb14ed46a9&#45;&gt;aa27986b&#45;8346&#45;4575&#45;8a99&#45;7f3c2ce7d6b6 -->\n<g id=\"edge6\" class=\"edge\">\n<title>2da008dc-ad4c-45e5-8a18-9edb14ed46a9-&gt;aa27986b-8346-4575-8a99-7f3c2ce7d6b6</title>\n<path fill=\"none\" stroke=\"#006400\" stroke-width=\"2\" d=\"M545.64,-81.27C525.44,-95.47 502.86,-111.35 483.5,-124.96\"/>\n<polygon fill=\"#006400\" stroke=\"#006400\" stroke-width=\"2\" points=\"481.3,-122.23 475.13,-130.84 485.33,-127.95 481.3,-122.23\"/>\n</g>\n<!-- 3b23b884&#45;16dd&#45;4cb6&#45;8acb&#45;37d820d95f49 -->\n<g id=\"node9\" class=\"node\">\n<title>3b23b884-16dd-4cb6-8acb-37d820d95f49</title>\n<g id=\"a_node9\"><a xlink:title=\"Vim can run efficiently over&lt;BR/&gt;SSH connections.\">\n<path fill=\"lightblue\" stroke=\"transparent\" d=\"M724,-7C724,-7 855,-7 855,-7 861,-7 867,-13 867,-19 867,-19 867,-63 867,-63 867,-69 861,-75 855,-75 855,-75 724,-75 724,-75 718,-75 712,-69 712,-63 712,-63 712,-19 712,-19 712,-13 718,-7 724,-7\"/>\n<text text-anchor=\"start\" x=\"738\" y=\"-60.4\" font-family=\"Arial, Helvetica, sans-serif\" font-weight=\"bold\" font-size=\"12.00\">Efficient over SSH</text>\n<text text-anchor=\"start\" x=\"754\" y=\"-48.4\" font-family=\"Arial, Helvetica, sans-serif\" font-weight=\"bold\" font-size=\"12.00\">connections</text>\n<text text-anchor=\"start\" x=\"718.5\" y=\"-29.4\" font-family=\"Arial, Helvetica, sans-serif\" font-size=\"12.00\">Vim can run efficiently over</text>\n<text text-anchor=\"start\" x=\"741.5\" y=\"-16.4\" font-family=\"Arial, Helvetica, sans-serif\" font-size=\"12.00\">SSH connections.</text>\n<path fill=\"none\" stroke=\"lightblue\" stroke-width=\"4\" d=\"M724,-7C724,-7 855,-7 855,-7 861,-7 867,-13 867,-19 867,-19 867,-63 867,-63 867,-69 861,-75 855,-75 855,-75 724,-75 724,-75 718,-75 712,-69 712,-63 712,-63 712,-19 712,-19 712,-13 718,-7 724,-7\"/>\n</a>\n</g>\n</g>\n<!-- 3b23b884&#45;16dd&#45;4cb6&#45;8acb&#45;37d820d95f49&#45;&gt;aa27986b&#45;8346&#45;4575&#45;8a99&#45;7f3c2ce7d6b6 -->\n<g id=\"edge7\" class=\"edge\">\n<title>3b23b884-16dd-4cb6-8acb-37d820d95f49-&gt;aa27986b-8346-4575-8a99-7f3c2ce7d6b6</title>\n<path fill=\"none\" stroke=\"#006400\" stroke-width=\"2\" d=\"M701.89,-78.6C698.73,-79.77 695.59,-80.91 692.5,-82 638.1,-101.23 576.09,-119.73 526.73,-133.66\"/>\n<polygon fill=\"#006400\" stroke=\"#006400\" stroke-width=\"2\" points=\"525.71,-130.31 517.03,-136.38 527.6,-137.05 525.71,-130.31\"/>\n</g>\n<!-- a7be0979&#45;fda5&#45;4b10&#45;91b7&#45;2bea74d4ce59 -->\n<g id=\"node10\" class=\"node\">\n<title>a7be0979-fda5-4b10-91b7-2bea74d4ce59</title>\n<g id=\"a_node10\"><a xlink:title=\"Emacs is extensible and can be&lt;BR/&gt;turned into a full-fledged IDE&lt;BR/&gt;or customized for any purpose.\">\n<path fill=\"lightblue\" stroke=\"transparent\" d=\"M806,-248.5C806,-248.5 963,-248.5 963,-248.5 969,-248.5 975,-254.5 975,-260.5 975,-260.5 975,-306.5 975,-306.5 975,-312.5 969,-318.5 963,-318.5 963,-318.5 806,-318.5 806,-318.5 800,-318.5 794,-312.5 794,-306.5 794,-306.5 794,-260.5 794,-260.5 794,-254.5 800,-248.5 806,-248.5\"/>\n<text text-anchor=\"start\" x=\"854.5\" y=\"-303.9\" font-family=\"Arial, Helvetica, sans-serif\" font-weight=\"bold\" font-size=\"12.00\">Extensible</text>\n<text text-anchor=\"start\" x=\"800.5\" y=\"-283.9\" font-family=\"Arial, Helvetica, sans-serif\" font-size=\"12.00\">Emacs is extensible and can be</text>\n<text text-anchor=\"start\" x=\"809\" y=\"-270.9\" font-family=\"Arial, Helvetica, sans-serif\" font-size=\"12.00\">turned into a full-fledged IDE</text>\n<text text-anchor=\"start\" x=\"803.5\" y=\"-257.9\" font-family=\"Arial, Helvetica, sans-serif\" font-size=\"12.00\">or customized for any purpose.</text>\n<path fill=\"none\" stroke=\"lightblue\" stroke-width=\"4\" d=\"M806,-248.5C806,-248.5 963,-248.5 963,-248.5 969,-248.5 975,-254.5 975,-260.5 975,-260.5 975,-306.5 975,-306.5 975,-312.5 969,-318.5 963,-318.5 963,-318.5 806,-318.5 806,-318.5 800,-318.5 794,-312.5 794,-306.5 794,-306.5 794,-260.5 794,-260.5 794,-254.5 800,-248.5 806,-248.5\"/>\n</a>\n</g>\n</g>\n<!-- a7be0979&#45;fda5&#45;4b10&#45;91b7&#45;2bea74d4ce59&#45;&gt;c0cd1543&#45;6bb4&#45;46b4&#45;83f4&#45;5c2c2de8c55f -->\n<g id=\"edge8\" class=\"edge\">\n<title>a7be0979-fda5-4b10-91b7-2bea74d4ce59-&gt;c0cd1543-6bb4-46b4-83f4-5c2c2de8c55f</title>\n<path fill=\"none\" stroke=\"#006400\" stroke-width=\"2\" d=\"M960.17,-324.58C983.2,-336.78 1008.45,-350.15 1031.25,-362.23\"/>\n<polygon fill=\"#006400\" stroke=\"#006400\" stroke-width=\"2\" points=\"1029.71,-365.38 1040.18,-366.96 1032.99,-359.19 1029.71,-365.38\"/>\n</g>\n<!-- ad41e118&#45;8a21&#45;4663&#45;bcad&#45;d1df21ecd75b -->\n<g id=\"node11\" class=\"node\">\n<title>ad41e118-8a21-4663-bcad-d1df21ecd75b</title>\n<g id=\"a_node11\"><a xlink:title=\"Emacs may have a less steep&lt;BR/&gt;learning curve compared to&lt;BR/&gt;Vim.\">\n<path fill=\"lightblue\" stroke=\"transparent\" d=\"M1030,-124C1030,-124 1177,-124 1177,-124 1183,-124 1189,-130 1189,-136 1189,-136 1189,-182 1189,-182 1189,-188 1183,-194 1177,-194 1177,-194 1030,-194 1030,-194 1024,-194 1018,-188 1018,-182 1018,-182 1018,-136 1018,-136 1018,-130 1024,-124 1030,-124\"/>\n<text text-anchor=\"start\" x=\"1026\" y=\"-179.4\" font-family=\"Arial, Helvetica, sans-serif\" font-weight=\"bold\" font-size=\"12.00\">Less Steep Learning Curve</text>\n<text text-anchor=\"start\" x=\"1024.5\" y=\"-159.4\" font-family=\"Arial, Helvetica, sans-serif\" font-size=\"12.00\">Emacs may have a less steep</text>\n<text text-anchor=\"start\" x=\"1031.5\" y=\"-146.4\" font-family=\"Arial, Helvetica, sans-serif\" font-size=\"12.00\">learning curve compared to</text>\n<text text-anchor=\"start\" x=\"1092\" y=\"-133.4\" font-family=\"Arial, Helvetica, sans-serif\" font-size=\"12.00\">Vim.</text>\n<path fill=\"none\" stroke=\"lightblue\" stroke-width=\"4\" d=\"M1030,-124C1030,-124 1177,-124 1177,-124 1183,-124 1189,-130 1189,-136 1189,-136 1189,-182 1189,-182 1189,-188 1183,-194 1177,-194 1177,-194 1030,-194 1030,-194 1024,-194 1018,-188 1018,-182 1018,-182 1018,-136 1018,-136 1018,-130 1024,-124 1030,-124\"/>\n</a>\n</g>\n</g>\n<!-- 576ffb06&#45;4601&#45;479f&#45;b71c&#45;efcfe92df3f2 -->\n<g id=\"node12\" class=\"node\">\n<title>576ffb06-4601-479f-b71c-efcfe92df3f2</title>\n<g id=\"a_node12\"><a xlink:title=\"Emacs may have a less steep&lt;BR/&gt;learning curve compared to Vim&lt;BR/&gt;due to traditional&lt;BR/&gt;keybindings.\">\n<path fill=\"lightblue\" stroke=\"transparent\" d=\"M1025,-242C1025,-242 1182,-242 1182,-242 1188,-242 1194,-248 1194,-254 1194,-254 1194,-313 1194,-313 1194,-319 1188,-325 1182,-325 1182,-325 1025,-325 1025,-325 1019,-325 1013,-319 1013,-313 1013,-313 1013,-254 1013,-254 1013,-248 1019,-242 1025,-242\"/>\n<text text-anchor=\"start\" x=\"1036\" y=\"-309.9\" font-family=\"Arial, Helvetica, sans-serif\" font-weight=\"bold\" font-size=\"12.00\">Traditional Keybindings</text>\n<text text-anchor=\"start\" x=\"1024.5\" y=\"-289.9\" font-family=\"Arial, Helvetica, sans-serif\" font-size=\"12.00\">Emacs may have a less steep</text>\n<text text-anchor=\"start\" x=\"1019.5\" y=\"-276.9\" font-family=\"Arial, Helvetica, sans-serif\" font-size=\"12.00\">learning curve compared to Vim</text>\n<text text-anchor=\"start\" x=\"1059.5\" y=\"-263.9\" font-family=\"Arial, Helvetica, sans-serif\" font-size=\"12.00\">due to traditional</text>\n<text text-anchor=\"start\" x=\"1070\" y=\"-250.9\" font-family=\"Arial, Helvetica, sans-serif\" font-size=\"12.00\">keybindings.</text>\n<path fill=\"none\" stroke=\"lightblue\" stroke-width=\"4\" d=\"M1025,-242C1025,-242 1182,-242 1182,-242 1188,-242 1194,-248 1194,-254 1194,-254 1194,-313 1194,-313 1194,-319 1188,-325 1182,-325 1182,-325 1025,-325 1025,-325 1019,-325 1013,-319 1013,-313 1013,-313 1013,-254 1013,-254 1013,-248 1019,-242 1025,-242\"/>\n</a>\n</g>\n</g>\n<!-- ad41e118&#45;8a21&#45;4663&#45;bcad&#45;d1df21ecd75b&#45;&gt;576ffb06&#45;4601&#45;479f&#45;b71c&#45;efcfe92df3f2 -->\n<g id=\"edge9\" class=\"edge\">\n<title>ad41e118-8a21-4663-bcad-d1df21ecd75b-&gt;576ffb06-4601-479f-b71c-efcfe92df3f2</title>\n<path fill=\"none\" stroke=\"#006400\" stroke-width=\"2\" d=\"M1103.5,-200.11C1103.5,-208.34 1103.5,-217.14 1103.5,-225.82\"/>\n<polygon fill=\"#006400\" stroke=\"#006400\" stroke-width=\"2\" points=\"1100,-225.91 1103.5,-235.92 1107,-225.92 1100,-225.91\"/>\n</g>\n<!-- 576ffb06&#45;4601&#45;479f&#45;b71c&#45;efcfe92df3f2&#45;&gt;c0cd1543&#45;6bb4&#45;46b4&#45;83f4&#45;5c2c2de8c55f -->\n<g id=\"edge10\" class=\"edge\">\n<title>576ffb06-4601-479f-b71c-efcfe92df3f2-&gt;c0cd1543-6bb4-46b4-83f4-5c2c2de8c55f</title>\n<path fill=\"none\" stroke=\"#006400\" stroke-width=\"2\" d=\"M1103.5,-331.01C1103.5,-339.53 1103.5,-348.39 1103.5,-356.81\"/>\n<polygon fill=\"#006400\" stroke=\"#006400\" stroke-width=\"2\" points=\"1100,-356.83 1103.5,-366.83 1107,-356.83 1100,-356.83\"/>\n</g>\n<!-- 0e9ac388&#45;b450&#45;4a28&#45;8754&#45;e58d9725aeb6 -->\n<g id=\"node13\" class=\"node\">\n<title>0e9ac388-b450-4a28-8754-e58d9725aeb6</title>\n<g id=\"a_node13\"><a xlink:title=\"Emacs may have a less steep&lt;BR/&gt;learning curve compared to Vim&lt;BR/&gt;due to graphical menus.\">\n<path fill=\"lightblue\" stroke=\"transparent\" d=\"M917,-6C917,-6 1074,-6 1074,-6 1080,-6 1086,-12 1086,-18 1086,-18 1086,-64 1086,-64 1086,-70 1080,-76 1074,-76 1074,-76 917,-76 917,-76 911,-76 905,-70 905,-64 905,-64 905,-18 905,-18 905,-12 911,-6 917,-6\"/>\n<text text-anchor=\"start\" x=\"947.5\" y=\"-61.4\" font-family=\"Arial, Helvetica, sans-serif\" font-weight=\"bold\" font-size=\"12.00\">Graphical Menus</text>\n<text text-anchor=\"start\" x=\"916.5\" y=\"-41.4\" font-family=\"Arial, Helvetica, sans-serif\" font-size=\"12.00\">Emacs may have a less steep</text>\n<text text-anchor=\"start\" x=\"911.5\" y=\"-28.4\" font-family=\"Arial, Helvetica, sans-serif\" font-size=\"12.00\">learning curve compared to Vim</text>\n<text text-anchor=\"start\" x=\"932\" y=\"-15.4\" font-family=\"Arial, Helvetica, sans-serif\" font-size=\"12.00\">due to graphical menus.</text>\n<path fill=\"none\" stroke=\"lightblue\" stroke-width=\"4\" d=\"M917,-6C917,-6 1074,-6 1074,-6 1080,-6 1086,-12 1086,-18 1086,-18 1086,-64 1086,-64 1086,-70 1080,-76 1074,-76 1074,-76 917,-76 917,-76 911,-76 905,-70 905,-64 905,-64 905,-18 905,-18 905,-12 911,-6 917,-6\"/>\n</a>\n</g>\n</g>\n<!-- 0e9ac388&#45;b450&#45;4a28&#45;8754&#45;e58d9725aeb6&#45;&gt;ad41e118&#45;8a21&#45;4663&#45;bcad&#45;d1df21ecd75b -->\n<g id=\"edge11\" class=\"edge\">\n<title>0e9ac388-b450-4a28-8754-e58d9725aeb6-&gt;ad41e118-8a21-4663-bcad-d1df21ecd75b</title>\n<path fill=\"none\" stroke=\"#006400\" stroke-width=\"2\" d=\"M1032.97,-82.25C1041.43,-91.33 1050.49,-101.06 1059.2,-110.42\"/>\n<polygon fill=\"#006400\" stroke=\"#006400\" stroke-width=\"2\" points=\"1056.72,-112.89 1066.1,-117.83 1061.84,-108.12 1056.72,-112.89\"/>\n</g>\n<!-- 0de8eb3f&#45;859b&#45;4bb4&#45;9bdc&#45;e57415ec2929 -->\n<g id=\"node14\" class=\"node\">\n<title>0de8eb3f-859b-4bb4-9bdc-e57415ec2929</title>\n<g id=\"a_node14\"><a xlink:title=\"Emacs may be more resource-&lt;BR/&gt;intensive compared to Vim.\">\n<path fill=\"lightblue\" stroke=\"transparent\" d=\"M1136,-12.5C1136,-12.5 1287,-12.5 1287,-12.5 1293,-12.5 1299,-18.5 1299,-24.5 1299,-24.5 1299,-57.5 1299,-57.5 1299,-63.5 1293,-69.5 1287,-69.5 1287,-69.5 1136,-69.5 1136,-69.5 1130,-69.5 1124,-63.5 1124,-57.5 1124,-57.5 1124,-24.5 1124,-24.5 1124,-18.5 1130,-12.5 1136,-12.5\"/>\n<text text-anchor=\"start\" x=\"1158\" y=\"-54.4\" font-family=\"Arial, Helvetica, sans-serif\" font-weight=\"bold\" font-size=\"12.00\">Resource Intensity</text>\n<text text-anchor=\"start\" x=\"1130.5\" y=\"-34.4\" font-family=\"Arial, Helvetica, sans-serif\" font-size=\"12.00\">Emacs may be more resource-</text>\n<text text-anchor=\"start\" x=\"1140\" y=\"-21.4\" font-family=\"Arial, Helvetica, sans-serif\" font-size=\"12.00\">intensive compared to Vim.</text>\n<path fill=\"none\" stroke=\"lightblue\" stroke-width=\"4\" d=\"M1136,-12.5C1136,-12.5 1287,-12.5 1287,-12.5 1293,-12.5 1299,-18.5 1299,-24.5 1299,-24.5 1299,-57.5 1299,-57.5 1299,-63.5 1293,-69.5 1287,-69.5 1287,-69.5 1136,-69.5 1136,-69.5 1130,-69.5 1124,-63.5 1124,-57.5 1124,-57.5 1124,-24.5 1124,-24.5 1124,-18.5 1130,-12.5 1136,-12.5\"/>\n</a>\n</g>\n</g>\n<!-- 0de8eb3f&#45;859b&#45;4bb4&#45;9bdc&#45;e57415ec2929&#45;&gt;ad41e118&#45;8a21&#45;4663&#45;bcad&#45;d1df21ecd75b -->\n<g id=\"edge12\" class=\"edge\">\n<title>0de8eb3f-859b-4bb4-9bdc-e57415ec2929-&gt;ad41e118-8a21-4663-bcad-d1df21ecd75b</title>\n<path fill=\"none\" stroke=\"#a9a8a8\" stroke-width=\"2\" d=\"M1180.26,-75.55C1170.14,-86.42 1158.72,-98.69 1147.84,-110.38\"/>\n<polygon fill=\"#a9a8a8\" stroke=\"#a9a8a8\" stroke-width=\"2\" points=\"1145.04,-108.25 1140.78,-117.96 1150.16,-113.02 1145.04,-108.25\"/>\n</g>\n<!-- ec2d1714&#45;4b3c&#45;49b7&#45;b387&#45;506a1f8098a8 -->\n<g id=\"node15\" class=\"node\">\n<title>ec2d1714-4b3c-49b7-b387-506a1f8098a8</title>\n<g id=\"a_node15\"><a xlink:title=\"Emacs may not be the best&lt;BR/&gt;choice for resource-&lt;BR/&gt;constrained environments.\">\n<path fill=\"lightblue\" stroke=\"transparent\" d=\"M1244.5,-243C1244.5,-243 1376.5,-243 1376.5,-243 1382.5,-243 1388.5,-249 1388.5,-255 1388.5,-255 1388.5,-312 1388.5,-312 1388.5,-318 1382.5,-324 1376.5,-324 1376.5,-324 1244.5,-324 1244.5,-324 1238.5,-324 1232.5,-318 1232.5,-312 1232.5,-312 1232.5,-255 1232.5,-255 1232.5,-249 1238.5,-243 1244.5,-243\"/>\n<text text-anchor=\"start\" x=\"1241.5\" y=\"-308.9\" font-family=\"Arial, Helvetica, sans-serif\" font-weight=\"bold\" font-size=\"12.00\">Suitability for Resource-</text>\n<text text-anchor=\"start\" x=\"1290.5\" y=\"-296.9\" font-family=\"Arial, Helvetica, sans-serif\" font-weight=\"bold\" font-size=\"12.00\">Constr</text>\n<text text-anchor=\"start\" x=\"1238.5\" y=\"-277.9\" font-family=\"Arial, Helvetica, sans-serif\" font-size=\"12.00\">Emacs may not be the best</text>\n<text text-anchor=\"start\" x=\"1257.5\" y=\"-264.9\" font-family=\"Arial, Helvetica, sans-serif\" font-size=\"12.00\">choice for resource-</text>\n<text text-anchor=\"start\" x=\"1240\" y=\"-251.9\" font-family=\"Arial, Helvetica, sans-serif\" font-size=\"12.00\">constrained environments.</text>\n<path fill=\"none\" stroke=\"lightblue\" stroke-width=\"4\" d=\"M1244.5,-243C1244.5,-243 1376.5,-243 1376.5,-243 1382.5,-243 1388.5,-249 1388.5,-255 1388.5,-255 1388.5,-312 1388.5,-312 1388.5,-318 1382.5,-324 1376.5,-324 1376.5,-324 1244.5,-324 1244.5,-324 1238.5,-324 1232.5,-318 1232.5,-312 1232.5,-312 1232.5,-255 1232.5,-255 1232.5,-249 1238.5,-243 1244.5,-243\"/>\n</a>\n</g>\n</g>\n<!-- ec2d1714&#45;4b3c&#45;49b7&#45;b387&#45;506a1f8098a8&#45;&gt;c0cd1543&#45;6bb4&#45;46b4&#45;83f4&#45;5c2c2de8c55f -->\n<g id=\"edge13\" class=\"edge\">\n<title>ec2d1714-4b3c-49b7-b387-506a1f8098a8-&gt;c0cd1543-6bb4-46b4-83f4-5c2c2de8c55f</title>\n<path fill=\"none\" stroke=\"#ff0101\" stroke-width=\"2\" d=\"M1229.28,-330.01C1210.4,-340.6 1190.48,-351.76 1172.19,-362\"/>\n<polygon fill=\"#ff0101\" stroke=\"#ff0101\" stroke-width=\"2\" points=\"1170.37,-359.01 1163.36,-366.95 1173.8,-365.12 1170.37,-359.01\"/>\n</g>\n</g>\n</svg>"
          },
          "metadata": {}
        },
        {
          "output_type": "display_data",
          "data": {
            "text/plain": [
              "<IPython.core.display.Markdown object>"
            ],
            "text/markdown": "## html_sunburst"
          },
          "metadata": {}
        },
        {
          "output_type": "display_data",
          "data": {
            "text/plain": [
              "<IPython.core.display.HTML object>"
            ],
            "text/html": [
              "<html>\n",
              "<head><meta charset=\"utf-8\" /></head>\n",
              "<body>\n",
              "    <div>                        <script type=\"text/javascript\">window.PlotlyConfig = {MathJaxConfig: 'local'};</script>\n",
              "        <script charset=\"utf-8\" src=\"https://cdn.plot.ly/plotly-2.24.1.min.js\"></script>                <div id=\"515af3e3-56bd-46c2-ac42-e07607e05bc5\" class=\"plotly-graph-div\" style=\"height:640px; width:800px;\"></div>            <script type=\"text/javascript\">                                    window.PLOTLYENV=window.PLOTLYENV || {};                                    if (document.getElementById(\"515af3e3-56bd-46c2-ac42-e07607e05bc5\")) {                    Plotly.newPlot(                        \"515af3e3-56bd-46c2-ac42-e07607e05bc5\",                        [{\"customdata\":[[\"Use Vim for text editing and\\u003cBR\\u003edevelopment.\",0,\"\",\"77ed2989-29c4-4172-a4cd-504695b032d9\",\"Use Vim\",\"\"],[\"Vim is highly efficient for\\u003cBR\\u003etext editing and code\\u003cBR\\u003enavigation once mastered.\",0,\"77ed2989-29c4-4172-a4cd-504695b032d9\",\"cb2ef89b-421b-43bf-9c91-cacddd63d308\",\"Highly Efficient for Editing\",\"\"],[\"Vim uses modal editing for\\u003cBR\\u003edifferent tasks.\",1,\"aa27986b-8346-4575-8a99-7f3c2ce7d6b6\",\"274578a7-75f2-4591-9f5b-7f07a8063712\",\"Modal Editing\",\"\"],[\"Vim minimizes keyboard\\u003cBR\\u003eshortcuts.\",1,\"aa27986b-8346-4575-8a99-7f3c2ce7d6b6\",\"3996db4b-8850-47e2-90b2-abfa4626b9bf\",\"Minimizing keyboard shortcuts\",\"\"],[\"Vim promotes efficiency.\",0,\"cb2ef89b-421b-43bf-9c91-cacddd63d308\",\"aa27986b-8346-4575-8a99-7f3c2ce7d6b6\",\"Promoting efficiency\",\"\"],[\"Vim is lightweight.\",1,\"aa27986b-8346-4575-8a99-7f3c2ce7d6b6\",\"5f96221c-bcd1-4563-9deb-03744747a992\",\"Lightweight\",\"\"],[\"Vim can run efficiently on\\u003cBR\\u003eolder hardware.\",1,\"aa27986b-8346-4575-8a99-7f3c2ce7d6b6\",\"2da008dc-ad4c-45e5-8a18-9edb14ed46a9\",\"Efficient on older hardware\",\"\"],[\"Vim can run efficiently over\\u003cBR\\u003eSSH connections.\",1,\"aa27986b-8346-4575-8a99-7f3c2ce7d6b6\",\"3b23b884-16dd-4cb6-8acb-37d820d95f49\",\"Efficient over SSH connections\",\"\"],[\"Use Emacs for text editing and\\u003cBR\\u003edevelopment.\",0,\"\",\"c0cd1543-6bb4-46b4-83f4-5c2c2de8c55f\",\"Use Emacs\",\"\"],[\"Emacs is extensible and can be\\u003cBR\\u003eturned into a full-fledged IDE\\u003cBR\\u003eor customized for any purpose.\",1,\"c0cd1543-6bb4-46b4-83f4-5c2c2de8c55f\",\"a7be0979-fda5-4b10-91b7-2bea74d4ce59\",\"Extensible\",\"\"],[\"Emacs may have a less steep\\u003cBR\\u003elearning curve compared to\\u003cBR\\u003eVim.\",0,\"576ffb06-4601-479f-b71c-efcfe92df3f2\",\"ad41e118-8a21-4663-bcad-d1df21ecd75b\",\"Less Steep Learning Curve\",\"\"],[\"Emacs may have a less steep\\u003cBR\\u003elearning curve compared to Vim\\u003cBR\\u003edue to traditional\\u003cBR\\u003ekeybindings.\",0,\"c0cd1543-6bb4-46b4-83f4-5c2c2de8c55f\",\"576ffb06-4601-479f-b71c-efcfe92df3f2\",\"Traditional Keybindings\",\"\"],[\"Emacs may have a less steep\\u003cBR\\u003elearning curve compared to Vim\\u003cBR\\u003edue to graphical menus.\",1,\"ad41e118-8a21-4663-bcad-d1df21ecd75b\",\"0e9ac388-b450-4a28-8754-e58d9725aeb6\",\"Graphical Menus\",\"\"],[\"Emacs may be more resource-\\u003cBR\\u003eintensive compared to Vim.\",1,\"ad41e118-8a21-4663-bcad-d1df21ecd75b\",\"0de8eb3f-859b-4bb4-9bdc-e57415ec2929\",\"Resource Intensity\",\"\"],[\"Emacs may not be the best\\u003cBR\\u003echoice for resource-\\u003cBR\\u003econstrained environments.\",1,\"c0cd1543-6bb4-46b4-83f4-5c2c2de8c55f\",\"ec2d1714-4b3c-49b7-b387-506a1f8098a8\",\"Suitability for Resource-Constr\",\"\"]],\"domain\":{\"x\":[0.0,1.0],\"y\":[0.0,1.0]},\"hovertemplate\":\"\\u003cb\\u003e%{hovertext}\\u003c\\u002fb\\u003e\\u003cbr\\u003e\\u003cbr\\u003etext=%{customdata[0]}\\u003cextra\\u003e\\u003c\\u002fextra\\u003e\",\"hovertext\":[\"Use Vim\",\"Highly Efficient for Editing\",\"Modal Editing\",\"Minimizing keyboard shortcuts\",\"Promoting efficiency\",\"Lightweight\",\"Efficient on older hardware\",\"Efficient over SSH connections\",\"Use Emacs\",\"Extensible\",\"Less Steep Learning Curve\",\"Traditional Keybindings\",\"Graphical Menus\",\"Resource Intensity\",\"Suitability for Resource-Constr\"],\"ids\":[\"77ed2989-29c4-4172-a4cd-504695b032d9\",\"cb2ef89b-421b-43bf-9c91-cacddd63d308\",\"274578a7-75f2-4591-9f5b-7f07a8063712\",\"3996db4b-8850-47e2-90b2-abfa4626b9bf\",\"aa27986b-8346-4575-8a99-7f3c2ce7d6b6\",\"5f96221c-bcd1-4563-9deb-03744747a992\",\"2da008dc-ad4c-45e5-8a18-9edb14ed46a9\",\"3b23b884-16dd-4cb6-8acb-37d820d95f49\",\"c0cd1543-6bb4-46b4-83f4-5c2c2de8c55f\",\"a7be0979-fda5-4b10-91b7-2bea74d4ce59\",\"ad41e118-8a21-4663-bcad-d1df21ecd75b\",\"576ffb06-4601-479f-b71c-efcfe92df3f2\",\"0e9ac388-b450-4a28-8754-e58d9725aeb6\",\"0de8eb3f-859b-4bb4-9bdc-e57415ec2929\",\"ec2d1714-4b3c-49b7-b387-506a1f8098a8\"],\"labels\":[\"\",\"\",\"\",\"\",\"\",\"\",\"\",\"\",\"\",\"\",\"\",\"\",\"\",\"\",\"\"],\"marker\":{\"colors\":[\"rgb(107,174,214)\",\"#006400\",\"#006400\",\"#558755\",\"#006400\",\"#006400\",\"#006400\",\"#006400\",\"rgb(33,113,181)\",\"#006400\",\"#006400\",\"#006400\",\"#006400\",\"#bb8787\",\"#ff0000\"],\"line\":{\"width\":2}},\"name\":\"\",\"parents\":[\"\",\"77ed2989-29c4-4172-a4cd-504695b032d9\",\"aa27986b-8346-4575-8a99-7f3c2ce7d6b6\",\"aa27986b-8346-4575-8a99-7f3c2ce7d6b6\",\"cb2ef89b-421b-43bf-9c91-cacddd63d308\",\"aa27986b-8346-4575-8a99-7f3c2ce7d6b6\",\"aa27986b-8346-4575-8a99-7f3c2ce7d6b6\",\"aa27986b-8346-4575-8a99-7f3c2ce7d6b6\",\"\",\"c0cd1543-6bb4-46b4-83f4-5c2c2de8c55f\",\"576ffb06-4601-479f-b71c-efcfe92df3f2\",\"c0cd1543-6bb4-46b4-83f4-5c2c2de8c55f\",\"ad41e118-8a21-4663-bcad-d1df21ecd75b\",\"ad41e118-8a21-4663-bcad-d1df21ecd75b\",\"c0cd1543-6bb4-46b4-83f4-5c2c2de8c55f\"],\"values\":[0,0,1,1,0,1,1,1,0,1,0,0,1,1,1],\"type\":\"sunburst\"}],                        {\"template\":{\"data\":{\"histogram2dcontour\":[{\"type\":\"histogram2dcontour\",\"colorbar\":{\"outlinewidth\":0,\"ticks\":\"\"},\"colorscale\":[[0.0,\"#0d0887\"],[0.1111111111111111,\"#46039f\"],[0.2222222222222222,\"#7201a8\"],[0.3333333333333333,\"#9c179e\"],[0.4444444444444444,\"#bd3786\"],[0.5555555555555556,\"#d8576b\"],[0.6666666666666666,\"#ed7953\"],[0.7777777777777778,\"#fb9f3a\"],[0.8888888888888888,\"#fdca26\"],[1.0,\"#f0f921\"]]}],\"choropleth\":[{\"type\":\"choropleth\",\"colorbar\":{\"outlinewidth\":0,\"ticks\":\"\"}}],\"histogram2d\":[{\"type\":\"histogram2d\",\"colorbar\":{\"outlinewidth\":0,\"ticks\":\"\"},\"colorscale\":[[0.0,\"#0d0887\"],[0.1111111111111111,\"#46039f\"],[0.2222222222222222,\"#7201a8\"],[0.3333333333333333,\"#9c179e\"],[0.4444444444444444,\"#bd3786\"],[0.5555555555555556,\"#d8576b\"],[0.6666666666666666,\"#ed7953\"],[0.7777777777777778,\"#fb9f3a\"],[0.8888888888888888,\"#fdca26\"],[1.0,\"#f0f921\"]]}],\"heatmap\":[{\"type\":\"heatmap\",\"colorbar\":{\"outlinewidth\":0,\"ticks\":\"\"},\"colorscale\":[[0.0,\"#0d0887\"],[0.1111111111111111,\"#46039f\"],[0.2222222222222222,\"#7201a8\"],[0.3333333333333333,\"#9c179e\"],[0.4444444444444444,\"#bd3786\"],[0.5555555555555556,\"#d8576b\"],[0.6666666666666666,\"#ed7953\"],[0.7777777777777778,\"#fb9f3a\"],[0.8888888888888888,\"#fdca26\"],[1.0,\"#f0f921\"]]}],\"heatmapgl\":[{\"type\":\"heatmapgl\",\"colorbar\":{\"outlinewidth\":0,\"ticks\":\"\"},\"colorscale\":[[0.0,\"#0d0887\"],[0.1111111111111111,\"#46039f\"],[0.2222222222222222,\"#7201a8\"],[0.3333333333333333,\"#9c179e\"],[0.4444444444444444,\"#bd3786\"],[0.5555555555555556,\"#d8576b\"],[0.6666666666666666,\"#ed7953\"],[0.7777777777777778,\"#fb9f3a\"],[0.8888888888888888,\"#fdca26\"],[1.0,\"#f0f921\"]]}],\"contourcarpet\":[{\"type\":\"contourcarpet\",\"colorbar\":{\"outlinewidth\":0,\"ticks\":\"\"}}],\"contour\":[{\"type\":\"contour\",\"colorbar\":{\"outlinewidth\":0,\"ticks\":\"\"},\"colorscale\":[[0.0,\"#0d0887\"],[0.1111111111111111,\"#46039f\"],[0.2222222222222222,\"#7201a8\"],[0.3333333333333333,\"#9c179e\"],[0.4444444444444444,\"#bd3786\"],[0.5555555555555556,\"#d8576b\"],[0.6666666666666666,\"#ed7953\"],[0.7777777777777778,\"#fb9f3a\"],[0.8888888888888888,\"#fdca26\"],[1.0,\"#f0f921\"]]}],\"surface\":[{\"type\":\"surface\",\"colorbar\":{\"outlinewidth\":0,\"ticks\":\"\"},\"colorscale\":[[0.0,\"#0d0887\"],[0.1111111111111111,\"#46039f\"],[0.2222222222222222,\"#7201a8\"],[0.3333333333333333,\"#9c179e\"],[0.4444444444444444,\"#bd3786\"],[0.5555555555555556,\"#d8576b\"],[0.6666666666666666,\"#ed7953\"],[0.7777777777777778,\"#fb9f3a\"],[0.8888888888888888,\"#fdca26\"],[1.0,\"#f0f921\"]]}],\"mesh3d\":[{\"type\":\"mesh3d\",\"colorbar\":{\"outlinewidth\":0,\"ticks\":\"\"}}],\"scatter\":[{\"fillpattern\":{\"fillmode\":\"overlay\",\"size\":10,\"solidity\":0.2},\"type\":\"scatter\"}],\"parcoords\":[{\"type\":\"parcoords\",\"line\":{\"colorbar\":{\"outlinewidth\":0,\"ticks\":\"\"}}}],\"scatterpolargl\":[{\"type\":\"scatterpolargl\",\"marker\":{\"colorbar\":{\"outlinewidth\":0,\"ticks\":\"\"}}}],\"bar\":[{\"error_x\":{\"color\":\"#2a3f5f\"},\"error_y\":{\"color\":\"#2a3f5f\"},\"marker\":{\"line\":{\"color\":\"#E5ECF6\",\"width\":0.5},\"pattern\":{\"fillmode\":\"overlay\",\"size\":10,\"solidity\":0.2}},\"type\":\"bar\"}],\"scattergeo\":[{\"type\":\"scattergeo\",\"marker\":{\"colorbar\":{\"outlinewidth\":0,\"ticks\":\"\"}}}],\"scatterpolar\":[{\"type\":\"scatterpolar\",\"marker\":{\"colorbar\":{\"outlinewidth\":0,\"ticks\":\"\"}}}],\"histogram\":[{\"marker\":{\"pattern\":{\"fillmode\":\"overlay\",\"size\":10,\"solidity\":0.2}},\"type\":\"histogram\"}],\"scattergl\":[{\"type\":\"scattergl\",\"marker\":{\"colorbar\":{\"outlinewidth\":0,\"ticks\":\"\"}}}],\"scatter3d\":[{\"type\":\"scatter3d\",\"line\":{\"colorbar\":{\"outlinewidth\":0,\"ticks\":\"\"}},\"marker\":{\"colorbar\":{\"outlinewidth\":0,\"ticks\":\"\"}}}],\"scattermapbox\":[{\"type\":\"scattermapbox\",\"marker\":{\"colorbar\":{\"outlinewidth\":0,\"ticks\":\"\"}}}],\"scatterternary\":[{\"type\":\"scatterternary\",\"marker\":{\"colorbar\":{\"outlinewidth\":0,\"ticks\":\"\"}}}],\"scattercarpet\":[{\"type\":\"scattercarpet\",\"marker\":{\"colorbar\":{\"outlinewidth\":0,\"ticks\":\"\"}}}],\"carpet\":[{\"aaxis\":{\"endlinecolor\":\"#2a3f5f\",\"gridcolor\":\"white\",\"linecolor\":\"white\",\"minorgridcolor\":\"white\",\"startlinecolor\":\"#2a3f5f\"},\"baxis\":{\"endlinecolor\":\"#2a3f5f\",\"gridcolor\":\"white\",\"linecolor\":\"white\",\"minorgridcolor\":\"white\",\"startlinecolor\":\"#2a3f5f\"},\"type\":\"carpet\"}],\"table\":[{\"cells\":{\"fill\":{\"color\":\"#EBF0F8\"},\"line\":{\"color\":\"white\"}},\"header\":{\"fill\":{\"color\":\"#C8D4E3\"},\"line\":{\"color\":\"white\"}},\"type\":\"table\"}],\"barpolar\":[{\"marker\":{\"line\":{\"color\":\"#E5ECF6\",\"width\":0.5},\"pattern\":{\"fillmode\":\"overlay\",\"size\":10,\"solidity\":0.2}},\"type\":\"barpolar\"}],\"pie\":[{\"automargin\":true,\"type\":\"pie\"}]},\"layout\":{\"autotypenumbers\":\"strict\",\"colorway\":[\"#636efa\",\"#EF553B\",\"#00cc96\",\"#ab63fa\",\"#FFA15A\",\"#19d3f3\",\"#FF6692\",\"#B6E880\",\"#FF97FF\",\"#FECB52\"],\"font\":{\"color\":\"#2a3f5f\"},\"hovermode\":\"closest\",\"hoverlabel\":{\"align\":\"left\"},\"paper_bgcolor\":\"white\",\"plot_bgcolor\":\"#E5ECF6\",\"polar\":{\"bgcolor\":\"#E5ECF6\",\"angularaxis\":{\"gridcolor\":\"white\",\"linecolor\":\"white\",\"ticks\":\"\"},\"radialaxis\":{\"gridcolor\":\"white\",\"linecolor\":\"white\",\"ticks\":\"\"}},\"ternary\":{\"bgcolor\":\"#E5ECF6\",\"aaxis\":{\"gridcolor\":\"white\",\"linecolor\":\"white\",\"ticks\":\"\"},\"baxis\":{\"gridcolor\":\"white\",\"linecolor\":\"white\",\"ticks\":\"\"},\"caxis\":{\"gridcolor\":\"white\",\"linecolor\":\"white\",\"ticks\":\"\"}},\"coloraxis\":{\"colorbar\":{\"outlinewidth\":0,\"ticks\":\"\"}},\"colorscale\":{\"sequential\":[[0.0,\"#0d0887\"],[0.1111111111111111,\"#46039f\"],[0.2222222222222222,\"#7201a8\"],[0.3333333333333333,\"#9c179e\"],[0.4444444444444444,\"#bd3786\"],[0.5555555555555556,\"#d8576b\"],[0.6666666666666666,\"#ed7953\"],[0.7777777777777778,\"#fb9f3a\"],[0.8888888888888888,\"#fdca26\"],[1.0,\"#f0f921\"]],\"sequentialminus\":[[0.0,\"#0d0887\"],[0.1111111111111111,\"#46039f\"],[0.2222222222222222,\"#7201a8\"],[0.3333333333333333,\"#9c179e\"],[0.4444444444444444,\"#bd3786\"],[0.5555555555555556,\"#d8576b\"],[0.6666666666666666,\"#ed7953\"],[0.7777777777777778,\"#fb9f3a\"],[0.8888888888888888,\"#fdca26\"],[1.0,\"#f0f921\"]],\"diverging\":[[0,\"#8e0152\"],[0.1,\"#c51b7d\"],[0.2,\"#de77ae\"],[0.3,\"#f1b6da\"],[0.4,\"#fde0ef\"],[0.5,\"#f7f7f7\"],[0.6,\"#e6f5d0\"],[0.7,\"#b8e186\"],[0.8,\"#7fbc41\"],[0.9,\"#4d9221\"],[1,\"#276419\"]]},\"xaxis\":{\"gridcolor\":\"white\",\"linecolor\":\"white\",\"ticks\":\"\",\"title\":{\"standoff\":15},\"zerolinecolor\":\"white\",\"automargin\":true,\"zerolinewidth\":2},\"yaxis\":{\"gridcolor\":\"white\",\"linecolor\":\"white\",\"ticks\":\"\",\"title\":{\"standoff\":15},\"zerolinecolor\":\"white\",\"automargin\":true,\"zerolinewidth\":2},\"scene\":{\"xaxis\":{\"backgroundcolor\":\"#E5ECF6\",\"gridcolor\":\"white\",\"linecolor\":\"white\",\"showbackground\":true,\"ticks\":\"\",\"zerolinecolor\":\"white\",\"gridwidth\":2},\"yaxis\":{\"backgroundcolor\":\"#E5ECF6\",\"gridcolor\":\"white\",\"linecolor\":\"white\",\"showbackground\":true,\"ticks\":\"\",\"zerolinecolor\":\"white\",\"gridwidth\":2},\"zaxis\":{\"backgroundcolor\":\"#E5ECF6\",\"gridcolor\":\"white\",\"linecolor\":\"white\",\"showbackground\":true,\"ticks\":\"\",\"zerolinecolor\":\"white\",\"gridwidth\":2}},\"shapedefaults\":{\"line\":{\"color\":\"#2a3f5f\"}},\"annotationdefaults\":{\"arrowcolor\":\"#2a3f5f\",\"arrowhead\":0,\"arrowwidth\":1},\"geo\":{\"bgcolor\":\"white\",\"landcolor\":\"#E5ECF6\",\"subunitcolor\":\"white\",\"showland\":true,\"showlakes\":true,\"lakecolor\":\"white\"},\"title\":{\"x\":0.05},\"mapbox\":{\"style\":\"light\"}}},\"legend\":{\"tracegroupgap\":0},\"title\":{\"text\":\"Should one use Vim or Emacs for text editing and development?\"},\"height\":640,\"width\":800},                        {\"responsive\": true}                    )                };                            </script>        </div>\n",
              "</body>\n",
              "</html>"
            ]
          },
          "metadata": {}
        }
      ]
    },
    {
      "cell_type": "markdown",
      "metadata": {
        "id": "9LZfAmj2YtHS"
      },
      "source": [
        "****\n",
        "\n",
        "(c) 2023 The Logikon AI Team | License: Apache 2.0"
      ]
    }
  ],
  "metadata": {
    "kernelspec": {
      "display_name": "Python 3",
      "name": "python3"
    },
    "language_info": {
      "name": "python",
      "version": "3.11.2"
    },
    "orig_nbformat": 4,
    "colab": {
      "provenance": [],
      "gpuType": "T4",
      "toc_visible": true,
      "include_colab_link": true
    },
    "accelerator": "GPU"
  },
  "nbformat": 4,
  "nbformat_minor": 0
}
