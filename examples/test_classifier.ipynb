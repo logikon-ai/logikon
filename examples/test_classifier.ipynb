{
 "cells": [
  {
   "cell_type": "code",
   "execution_count": 1,
   "metadata": {},
   "outputs": [],
   "source": [
    "from logikon.analysts.classifier_queries import dialectic_relations, most_confirmed, most_disconfirmed\n",
    "from logikon.backends.classifier import HfClassifier\n"
   ]
  },
  {
   "cell_type": "code",
   "execution_count": 2,
   "metadata": {},
   "outputs": [
    {
     "data": {
      "text/plain": [
       "True"
      ]
     },
     "execution_count": 2,
     "metadata": {},
     "output_type": "execute_result"
    }
   ],
   "source": [
    "import os\n",
    "\n",
    "import dotenv\n",
    "\n",
    "dotenv.load_dotenv(\"../.env\")\n",
    "\"HUGGINGFACEHUB_API_TOKEN\" in os.environ or print(\"Please set HUGGINGFACEHUB_API_TOKEN in .env\")"
   ]
  },
  {
   "cell_type": "code",
   "execution_count": 3,
   "metadata": {},
   "outputs": [],
   "source": [
    "kwargs = {\n",
    "    \"model_id\": \"MoritzLaurer/DeBERTa-v3-base-mnli-fever-anli\",\n",
    "    \"inference_server_url\": \"https://api-inference.huggingface.co/models/MoritzLaurer/DeBERTa-v3-base-mnli-fever-anli\",\n",
    "    \"api_key\": os.environ.get(\"HUGGINGFACEHUB_API_TOKEN\"),\n",
    "    \"batch_size\": 4,\n",
    "}\n",
    "classifier = HfClassifier(**kwargs)\n"
   ]
  },
  {
   "cell_type": "code",
   "execution_count": 4,
   "metadata": {},
   "outputs": [
    {
     "data": {
      "text/plain": [
       "<logikon.backends.classifier.HfClassifier at 0x13ce602d0>"
      ]
     },
     "execution_count": 4,
     "metadata": {},
     "output_type": "execute_result"
    }
   ],
   "source": [
    "classifier"
   ]
  },
  {
   "cell_type": "code",
   "execution_count": 5,
   "metadata": {},
   "outputs": [
    {
     "data": {
      "text/plain": [
       "[HfClassification(sequence='Hi, I recently bought a device from your company but it is not working as advertised and I would like to get reimbursed!', labels=['refund', 'legal', 'faq'], scores=[0.9867447018623352, 0.0077674612402915955, 0.005487882997840643])]"
      ]
     },
     "execution_count": 5,
     "metadata": {},
     "output_type": "execute_result"
    }
   ],
   "source": [
    "await classifier(\n",
    "    inputs=\"Hi, I recently bought a device from your company but it is not working as advertised and I would like to get reimbursed!\",\n",
    "    classes_verbalized=[\"refund\", \"legal\", \"faq\"],\n",
    "    hypothesis_template=\"This text is about {}.\",\n",
    "    batch_size=1,\n",
    ")"
   ]
  },
  {
   "cell_type": "code",
   "execution_count": 6,
   "metadata": {},
   "outputs": [
    {
     "data": {
      "text/plain": [
       "[MultipleChoiceResult(probs={'support': 0.21592001616954803, 'attack': 0.5212746858596802, 'neutral': 0.2628052830696106}, label_max='attack', idx_max=1, choices=['support', 'attack', 'neutral'])]"
      ]
     },
     "execution_count": 6,
     "metadata": {},
     "output_type": "execute_result"
    }
   ],
   "source": [
    "from logikon.schemas.pros_cons import Claim\n",
    "\n",
    "await dialectic_relations(\n",
    "        arguments=[\n",
    "            Claim(label=\"Health\", text=\"Meat is an important source of protein\"),\n",
    "        ],\n",
    "        claims=[\n",
    "            Claim(label=\"Vegan\", text=\"We all should be vegans\"),\n",
    "        ],\n",
    "        classifier=classifier,\n",
    "    )"
   ]
  },
  {
   "cell_type": "code",
   "execution_count": 7,
   "metadata": {},
   "outputs": [
    {
     "data": {
      "text/plain": [
       "[MultipleChoiceResult(probs={'Vegan': 0.4974468946456909, 'Veggie': 0.5025530457496643}, label_max='Veggie', idx_max=1, choices=[Claim(text='We all should be vegans', label='Vegan'), Claim(text='We all should be vegetarians', label='Veggie')]),\n",
       " MultipleChoiceResult(probs={'Vegan': 0.47633492946624756, 'Veggie': 0.5236650705337524}, label_max='Veggie', idx_max=1, choices=[Claim(text='We all should be vegans', label='Vegan'), Claim(text='We all should be vegetarians', label='Veggie')])]"
      ]
     },
     "execution_count": 7,
     "metadata": {},
     "output_type": "execute_result"
    }
   ],
   "source": [
    "from logikon.schemas.pros_cons import Claim\n",
    "\n",
    "arguments=[\n",
    "    Claim(label=\"Health\", text=\"Egg is an important source of protein\"),\n",
    "    Claim(label=\"Taste\", text=\"Eggs taste wonderful.\"),\n",
    "#    Claim(label=\"Taste\", text=\"Eggs taste wonderful.\"),\n",
    "]\n",
    "claims=[\n",
    "    [Claim(label=\"Vegan\", text=\"We all should be vegans\"),Claim(label=\"Veggie\", text=\"We all should be vegetarians\")],\n",
    "    [Claim(label=\"Vegan\", text=\"We all should be vegans\"),Claim(label=\"Veggie\", text=\"We all should be vegetarians\")],\n",
    "#    [Claim(label=\"Meat\", text=\"We may eat as much meat as we like\"),Claim(label=\"Veggie\", text=\"We all should be vegetarians\")],\n",
    "]\n",
    "\n",
    "\n",
    "await most_confirmed(\n",
    "        arguments=arguments,\n",
    "        claims=claims,\n",
    "        classifier=classifier,\n",
    "    )"
   ]
  },
  {
   "cell_type": "code",
   "execution_count": 8,
   "metadata": {},
   "outputs": [
    {
     "data": {
      "text/plain": [
       "[MultipleChoiceResult(probs={'Vegan': 0.5780022144317627, 'Veggie': 0.4219978451728821}, label_max='Vegan', idx_max=0, choices=[Claim(text='We all should be vegans', label='Vegan'), Claim(text='We all should be vegetarians', label='Veggie')]),\n",
       " MultipleChoiceResult(probs={'Vegan': 0.6120317578315735, 'Veggie': 0.3879682719707489}, label_max='Vegan', idx_max=0, choices=[Claim(text='We all should be vegans', label='Vegan'), Claim(text='We all should be vegetarians', label='Veggie')])]"
      ]
     },
     "execution_count": 8,
     "metadata": {},
     "output_type": "execute_result"
    }
   ],
   "source": [
    "await most_disconfirmed(\n",
    "        arguments=arguments,\n",
    "        claims=claims,\n",
    "        classifier=classifier,\n",
    "    )"
   ]
  },
  {
   "cell_type": "code",
   "execution_count": 8,
   "metadata": {},
   "outputs": [
    {
     "data": {
      "text/plain": [
       "192"
      ]
     },
     "execution_count": 8,
     "metadata": {},
     "output_type": "execute_result"
    }
   ],
   "source": [
    "result"
   ]
  },
  {
   "cell_type": "code",
   "execution_count": null,
   "metadata": {},
   "outputs": [],
   "source": []
  }
 ],
 "metadata": {
  "kernelspec": {
   "display_name": "logikon",
   "language": "python",
   "name": "python3"
  },
  "language_info": {
   "codemirror_mode": {
    "name": "ipython",
    "version": 3
   },
   "file_extension": ".py",
   "mimetype": "text/x-python",
   "name": "python",
   "nbconvert_exporter": "python",
   "pygments_lexer": "ipython3",
   "version": "3.11.2"
  }
 },
 "nbformat": 4,
 "nbformat_minor": 2
}
